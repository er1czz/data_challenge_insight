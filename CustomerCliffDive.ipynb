{
 "cells": [
  {
   "cell_type": "markdown",
   "metadata": {},
   "source": [
    "### Background:\n",
    "Yammer is a social network for communicating with coworkers. Individuals share documents, updates, and ideas by posting them in groups. Yammer is free to use indefinitely, but companies must pay license fees if they want access to administrative controls, including integration with user management systems like ActiveDirectory.   \n",
    "\n",
    "**Event Time**: Tuesday morning, September 2, 2014   \n",
    "\n",
    "#### What caused the drop in user engagement? \n",
    "- email clickthrough is strongly associated with the drop.\n",
    "- drop in phone and tablet users were more significant than computer users.\n",
    "- no significant difference in location.\n",
    "- drop in Type 1 and 2 users were more apparent than Type 3.\n",
    "\n",
    "#### Based on what you observe in the data, what recommendations would you make to the organization? \n",
    "- since tablet and phone likely share the same app, the app may have malfunction, highly like caused by email link.\n",
    "- possible cause: weekly digest email had broken link\n",
    "\n",
    "Keywords: time-series analysis (descriptive analytics), visualization (e.g. Bokeh)"
   ]
  },
  {
   "cell_type": "code",
   "execution_count": 1,
   "metadata": {
    "ExecuteTime": {
     "end_time": "2020-11-09T23:33:37.963727Z",
     "start_time": "2020-11-09T23:33:36.575524Z"
    }
   },
   "outputs": [],
   "source": [
    "import numpy as np\n",
    "import pandas as pd\n",
    "from datetime import datetime\n",
    "from datetime import date\n",
    "import math\n",
    "import matplotlib.pyplot as plt\n",
    "import seaborn as sns\n",
    "from bokeh.plotting import figure\n",
    "from bokeh.io import show, output_notebook\n",
    "from bokeh.models import DatetimeTickFormatter\n",
    "import warnings\n",
    "warnings.filterwarnings(\"ignore\")"
   ]
  },
  {
   "cell_type": "code",
   "execution_count": 2,
   "metadata": {
    "ExecuteTime": {
     "end_time": "2020-11-09T23:33:38.469433Z",
     "start_time": "2020-11-09T23:33:37.963727Z"
    },
    "scrolled": false
   },
   "outputs": [],
   "source": [
    "df_user = pd.read_csv('yammer_users.txt')\n",
    "df_event1, df_event2 = pd.read_csv('yammer_events_1.txt') , pd.read_csv('yammer_events_2.txt')\n",
    "df_email = pd.read_csv('yammer_emails.txt')"
   ]
  },
  {
   "cell_type": "code",
   "execution_count": 3,
   "metadata": {
    "ExecuteTime": {
     "end_time": "2020-11-09T23:33:38.500686Z",
     "start_time": "2020-11-09T23:33:38.469433Z"
    }
   },
   "outputs": [],
   "source": [
    "# merge df_event1 and df_event2\n",
    "df_event=pd.concat([df_event1,df_event2])"
   ]
  },
  {
   "cell_type": "code",
   "execution_count": 4,
   "metadata": {
    "ExecuteTime": {
     "end_time": "2020-11-09T23:33:38.516309Z",
     "start_time": "2020-11-09T23:33:38.500686Z"
    }
   },
   "outputs": [
    {
     "data": {
      "text/html": [
       "<div>\n",
       "<style scoped>\n",
       "    .dataframe tbody tr th:only-of-type {\n",
       "        vertical-align: middle;\n",
       "    }\n",
       "\n",
       "    .dataframe tbody tr th {\n",
       "        vertical-align: top;\n",
       "    }\n",
       "\n",
       "    .dataframe thead th {\n",
       "        text-align: right;\n",
       "    }\n",
       "</style>\n",
       "<table border=\"1\" class=\"dataframe\">\n",
       "  <thead>\n",
       "    <tr style=\"text-align: right;\">\n",
       "      <th></th>\n",
       "      <th>user_id</th>\n",
       "      <th>created_at</th>\n",
       "      <th>company_id</th>\n",
       "      <th>language</th>\n",
       "      <th>activated_at</th>\n",
       "      <th>state</th>\n",
       "    </tr>\n",
       "  </thead>\n",
       "  <tbody>\n",
       "    <tr>\n",
       "      <th>0</th>\n",
       "      <td>0.0</td>\n",
       "      <td>2013-01-01 20:59:39</td>\n",
       "      <td>5737.0</td>\n",
       "      <td>english</td>\n",
       "      <td>2013-01-01 21:01:07</td>\n",
       "      <td>active</td>\n",
       "    </tr>\n",
       "    <tr>\n",
       "      <th>1</th>\n",
       "      <td>1.0</td>\n",
       "      <td>2013-01-01 13:07:46</td>\n",
       "      <td>28.0</td>\n",
       "      <td>english</td>\n",
       "      <td>NaN</td>\n",
       "      <td>pending</td>\n",
       "    </tr>\n",
       "    <tr>\n",
       "      <th>2</th>\n",
       "      <td>2.0</td>\n",
       "      <td>2013-01-01 10:59:05</td>\n",
       "      <td>51.0</td>\n",
       "      <td>english</td>\n",
       "      <td>NaN</td>\n",
       "      <td>pending</td>\n",
       "    </tr>\n",
       "    <tr>\n",
       "      <th>3</th>\n",
       "      <td>3.0</td>\n",
       "      <td>2013-01-01 18:40:36</td>\n",
       "      <td>2800.0</td>\n",
       "      <td>german</td>\n",
       "      <td>2013-01-01 18:42:02</td>\n",
       "      <td>active</td>\n",
       "    </tr>\n",
       "    <tr>\n",
       "      <th>4</th>\n",
       "      <td>4.0</td>\n",
       "      <td>2013-01-01 14:37:51</td>\n",
       "      <td>5110.0</td>\n",
       "      <td>indian</td>\n",
       "      <td>2013-01-01 14:39:05</td>\n",
       "      <td>active</td>\n",
       "    </tr>\n",
       "  </tbody>\n",
       "</table>\n",
       "</div>"
      ],
      "text/plain": [
       "   user_id           created_at  company_id language         activated_at  \\\n",
       "0      0.0  2013-01-01 20:59:39      5737.0  english  2013-01-01 21:01:07   \n",
       "1      1.0  2013-01-01 13:07:46        28.0  english                  NaN   \n",
       "2      2.0  2013-01-01 10:59:05        51.0  english                  NaN   \n",
       "3      3.0  2013-01-01 18:40:36      2800.0   german  2013-01-01 18:42:02   \n",
       "4      4.0  2013-01-01 14:37:51      5110.0   indian  2013-01-01 14:39:05   \n",
       "\n",
       "     state  \n",
       "0   active  \n",
       "1  pending  \n",
       "2  pending  \n",
       "3   active  \n",
       "4   active  "
      ]
     },
     "execution_count": 4,
     "metadata": {},
     "output_type": "execute_result"
    }
   ],
   "source": [
    "df_user.head()"
   ]
  },
  {
   "cell_type": "code",
   "execution_count": 5,
   "metadata": {
    "ExecuteTime": {
     "end_time": "2020-11-09T23:33:38.531935Z",
     "start_time": "2020-11-09T23:33:38.516309Z"
    }
   },
   "outputs": [
    {
     "data": {
      "text/html": [
       "<div>\n",
       "<style scoped>\n",
       "    .dataframe tbody tr th:only-of-type {\n",
       "        vertical-align: middle;\n",
       "    }\n",
       "\n",
       "    .dataframe tbody tr th {\n",
       "        vertical-align: top;\n",
       "    }\n",
       "\n",
       "    .dataframe thead th {\n",
       "        text-align: right;\n",
       "    }\n",
       "</style>\n",
       "<table border=\"1\" class=\"dataframe\">\n",
       "  <thead>\n",
       "    <tr style=\"text-align: right;\">\n",
       "      <th></th>\n",
       "      <th>user_id</th>\n",
       "      <th>occurred_at</th>\n",
       "      <th>action</th>\n",
       "      <th>user_type</th>\n",
       "    </tr>\n",
       "  </thead>\n",
       "  <tbody>\n",
       "    <tr>\n",
       "      <th>90384</th>\n",
       "      <td>18814.0</td>\n",
       "      <td>2014-08-31 12:12:26</td>\n",
       "      <td>email_open</td>\n",
       "      <td>3.0</td>\n",
       "    </tr>\n",
       "    <tr>\n",
       "      <th>90385</th>\n",
       "      <td>18814.0</td>\n",
       "      <td>2014-08-31 12:12:57</td>\n",
       "      <td>email_clickthrough</td>\n",
       "      <td>3.0</td>\n",
       "    </tr>\n",
       "    <tr>\n",
       "      <th>90386</th>\n",
       "      <td>18815.0</td>\n",
       "      <td>2014-08-31 13:39:56</td>\n",
       "      <td>sent_reengagement_email</td>\n",
       "      <td>2.0</td>\n",
       "    </tr>\n",
       "    <tr>\n",
       "      <th>90387</th>\n",
       "      <td>18815.0</td>\n",
       "      <td>2014-08-31 13:40:14</td>\n",
       "      <td>email_open</td>\n",
       "      <td>2.0</td>\n",
       "    </tr>\n",
       "    <tr>\n",
       "      <th>90388</th>\n",
       "      <td>18815.0</td>\n",
       "      <td>2014-08-31 13:40:47</td>\n",
       "      <td>email_clickthrough</td>\n",
       "      <td>2.0</td>\n",
       "    </tr>\n",
       "  </tbody>\n",
       "</table>\n",
       "</div>"
      ],
      "text/plain": [
       "       user_id          occurred_at                   action  user_type\n",
       "90384  18814.0  2014-08-31 12:12:26               email_open        3.0\n",
       "90385  18814.0  2014-08-31 12:12:57       email_clickthrough        3.0\n",
       "90386  18815.0  2014-08-31 13:39:56  sent_reengagement_email        2.0\n",
       "90387  18815.0  2014-08-31 13:40:14               email_open        2.0\n",
       "90388  18815.0  2014-08-31 13:40:47       email_clickthrough        2.0"
      ]
     },
     "execution_count": 5,
     "metadata": {},
     "output_type": "execute_result"
    }
   ],
   "source": [
    "df_email.tail()"
   ]
  },
  {
   "cell_type": "code",
   "execution_count": 6,
   "metadata": {
    "ExecuteTime": {
     "end_time": "2020-11-09T23:33:38.547557Z",
     "start_time": "2020-11-09T23:33:38.531935Z"
    }
   },
   "outputs": [
    {
     "data": {
      "text/html": [
       "<div>\n",
       "<style scoped>\n",
       "    .dataframe tbody tr th:only-of-type {\n",
       "        vertical-align: middle;\n",
       "    }\n",
       "\n",
       "    .dataframe tbody tr th {\n",
       "        vertical-align: top;\n",
       "    }\n",
       "\n",
       "    .dataframe thead th {\n",
       "        text-align: right;\n",
       "    }\n",
       "</style>\n",
       "<table border=\"1\" class=\"dataframe\">\n",
       "  <thead>\n",
       "    <tr style=\"text-align: right;\">\n",
       "      <th></th>\n",
       "      <th>Unnamed: 0</th>\n",
       "      <th>user_id</th>\n",
       "      <th>occurred_at</th>\n",
       "      <th>event_type</th>\n",
       "      <th>event_name</th>\n",
       "      <th>location</th>\n",
       "      <th>device</th>\n",
       "      <th>user_type</th>\n",
       "    </tr>\n",
       "  </thead>\n",
       "  <tbody>\n",
       "    <tr>\n",
       "      <th>0</th>\n",
       "      <td>0</td>\n",
       "      <td>10522.0</td>\n",
       "      <td>2014-05-02 11:02:39</td>\n",
       "      <td>engagement</td>\n",
       "      <td>login</td>\n",
       "      <td>Japan</td>\n",
       "      <td>dell inspiron notebook</td>\n",
       "      <td>3.0</td>\n",
       "    </tr>\n",
       "    <tr>\n",
       "      <th>1</th>\n",
       "      <td>1</td>\n",
       "      <td>10522.0</td>\n",
       "      <td>2014-05-02 11:02:53</td>\n",
       "      <td>engagement</td>\n",
       "      <td>home_page</td>\n",
       "      <td>Japan</td>\n",
       "      <td>dell inspiron notebook</td>\n",
       "      <td>3.0</td>\n",
       "    </tr>\n",
       "    <tr>\n",
       "      <th>2</th>\n",
       "      <td>2</td>\n",
       "      <td>10522.0</td>\n",
       "      <td>2014-05-02 11:03:28</td>\n",
       "      <td>engagement</td>\n",
       "      <td>like_message</td>\n",
       "      <td>Japan</td>\n",
       "      <td>dell inspiron notebook</td>\n",
       "      <td>3.0</td>\n",
       "    </tr>\n",
       "    <tr>\n",
       "      <th>3</th>\n",
       "      <td>3</td>\n",
       "      <td>10522.0</td>\n",
       "      <td>2014-05-02 11:04:09</td>\n",
       "      <td>engagement</td>\n",
       "      <td>view_inbox</td>\n",
       "      <td>Japan</td>\n",
       "      <td>dell inspiron notebook</td>\n",
       "      <td>3.0</td>\n",
       "    </tr>\n",
       "    <tr>\n",
       "      <th>4</th>\n",
       "      <td>4</td>\n",
       "      <td>10522.0</td>\n",
       "      <td>2014-05-02 11:03:16</td>\n",
       "      <td>engagement</td>\n",
       "      <td>search_run</td>\n",
       "      <td>Japan</td>\n",
       "      <td>dell inspiron notebook</td>\n",
       "      <td>3.0</td>\n",
       "    </tr>\n",
       "  </tbody>\n",
       "</table>\n",
       "</div>"
      ],
      "text/plain": [
       "   Unnamed: 0  user_id          occurred_at  event_type    event_name  \\\n",
       "0           0  10522.0  2014-05-02 11:02:39  engagement         login   \n",
       "1           1  10522.0  2014-05-02 11:02:53  engagement     home_page   \n",
       "2           2  10522.0  2014-05-02 11:03:28  engagement  like_message   \n",
       "3           3  10522.0  2014-05-02 11:04:09  engagement    view_inbox   \n",
       "4           4  10522.0  2014-05-02 11:03:16  engagement    search_run   \n",
       "\n",
       "  location                  device  user_type  \n",
       "0    Japan  dell inspiron notebook        3.0  \n",
       "1    Japan  dell inspiron notebook        3.0  \n",
       "2    Japan  dell inspiron notebook        3.0  \n",
       "3    Japan  dell inspiron notebook        3.0  \n",
       "4    Japan  dell inspiron notebook        3.0  "
      ]
     },
     "execution_count": 6,
     "metadata": {},
     "output_type": "execute_result"
    }
   ],
   "source": [
    "df_event.head()"
   ]
  },
  {
   "cell_type": "markdown",
   "metadata": {},
   "source": [
    "# convert string to date time"
   ]
  },
  {
   "cell_type": "code",
   "execution_count": 7,
   "metadata": {
    "ExecuteTime": {
     "end_time": "2020-11-09T23:33:38.563181Z",
     "start_time": "2020-11-09T23:33:38.547557Z"
    }
   },
   "outputs": [],
   "source": [
    "# convert time date\n",
    "def time_convert(column):\n",
    "    \"convert time to date time format\"\n",
    "    import pandas as pd\n",
    "    return pd.to_datetime(column);"
   ]
  },
  {
   "cell_type": "code",
   "execution_count": 8,
   "metadata": {
    "ExecuteTime": {
     "end_time": "2020-11-09T23:33:38.841136Z",
     "start_time": "2020-11-09T23:33:38.563181Z"
    }
   },
   "outputs": [],
   "source": [
    "df = (df_user['created_at'], df_user['activated_at'], df_email['occurred_at'], df_event['occurred_at'])\n",
    "for i in df:\n",
    "    i = time_convert(i);"
   ]
  },
  {
   "cell_type": "code",
   "execution_count": 9,
   "metadata": {
    "ExecuteTime": {
     "end_time": "2020-11-09T23:33:39.082441Z",
     "start_time": "2020-11-09T23:33:38.843146Z"
    }
   },
   "outputs": [],
   "source": [
    "df_event['occurred_at'] = time_convert(df_event['occurred_at'])"
   ]
  },
  {
   "cell_type": "code",
   "execution_count": 10,
   "metadata": {
    "ExecuteTime": {
     "end_time": "2020-11-09T23:33:39.102562Z",
     "start_time": "2020-11-09T23:33:39.082441Z"
    }
   },
   "outputs": [
    {
     "data": {
      "text/plain": [
       "str"
      ]
     },
     "execution_count": 10,
     "metadata": {},
     "output_type": "execute_result"
    }
   ],
   "source": [
    "type( df_email['occurred_at'].iloc[2])"
   ]
  },
  {
   "cell_type": "code",
   "execution_count": 11,
   "metadata": {
    "ExecuteTime": {
     "end_time": "2020-11-09T23:33:39.169498Z",
     "start_time": "2020-11-09T23:33:39.104585Z"
    }
   },
   "outputs": [],
   "source": [
    "df_user['created_at'] = pd.to_datetime(df_user['created_at'])\n",
    "df_user['activated_at'] = pd.to_datetime(df_user['activated_at'])\n",
    "df_email['occurred_at'] = pd.to_datetime(df_email['occurred_at'])\n",
    "df_event['occurred_at'] = pd.to_datetime(df_event['occurred_at'])"
   ]
  },
  {
   "cell_type": "markdown",
   "metadata": {},
   "source": [
    "# Engagement"
   ]
  },
  {
   "cell_type": "code",
   "execution_count": 12,
   "metadata": {
    "ExecuteTime": {
     "end_time": "2020-11-09T23:33:39.238507Z",
     "start_time": "2020-11-09T23:33:39.169498Z"
    }
   },
   "outputs": [],
   "source": [
    "# daily engagement\n",
    "daily = df_event[(df_event.event_name=='login')&(df_event.event_type=='engagement')]"
   ]
  },
  {
   "cell_type": "code",
   "execution_count": 13,
   "metadata": {
    "ExecuteTime": {
     "end_time": "2020-11-09T23:33:39.254130Z",
     "start_time": "2020-11-09T23:33:39.238507Z"
    }
   },
   "outputs": [
    {
     "data": {
      "text/html": [
       "<div>\n",
       "<style scoped>\n",
       "    .dataframe tbody tr th:only-of-type {\n",
       "        vertical-align: middle;\n",
       "    }\n",
       "\n",
       "    .dataframe tbody tr th {\n",
       "        vertical-align: top;\n",
       "    }\n",
       "\n",
       "    .dataframe thead th {\n",
       "        text-align: right;\n",
       "    }\n",
       "</style>\n",
       "<table border=\"1\" class=\"dataframe\">\n",
       "  <thead>\n",
       "    <tr style=\"text-align: right;\">\n",
       "      <th></th>\n",
       "      <th>Unnamed: 0</th>\n",
       "      <th>user_id</th>\n",
       "      <th>occurred_at</th>\n",
       "      <th>event_type</th>\n",
       "      <th>event_name</th>\n",
       "      <th>location</th>\n",
       "      <th>device</th>\n",
       "      <th>user_type</th>\n",
       "    </tr>\n",
       "  </thead>\n",
       "  <tbody>\n",
       "    <tr>\n",
       "      <th>0</th>\n",
       "      <td>0</td>\n",
       "      <td>10522.0</td>\n",
       "      <td>2014-05-02 11:02:39</td>\n",
       "      <td>engagement</td>\n",
       "      <td>login</td>\n",
       "      <td>Japan</td>\n",
       "      <td>dell inspiron notebook</td>\n",
       "      <td>3.0</td>\n",
       "    </tr>\n",
       "    <tr>\n",
       "      <th>6</th>\n",
       "      <td>6</td>\n",
       "      <td>10612.0</td>\n",
       "      <td>2014-05-01 09:59:46</td>\n",
       "      <td>engagement</td>\n",
       "      <td>login</td>\n",
       "      <td>Netherlands</td>\n",
       "      <td>iphone 5</td>\n",
       "      <td>1.0</td>\n",
       "    </tr>\n",
       "    <tr>\n",
       "      <th>18</th>\n",
       "      <td>18</td>\n",
       "      <td>10736.0</td>\n",
       "      <td>2014-05-09 17:52:45</td>\n",
       "      <td>engagement</td>\n",
       "      <td>login</td>\n",
       "      <td>Austria</td>\n",
       "      <td>iphone 4s</td>\n",
       "      <td>2.0</td>\n",
       "    </tr>\n",
       "    <tr>\n",
       "      <th>21</th>\n",
       "      <td>21</td>\n",
       "      <td>10965.0</td>\n",
       "      <td>2014-05-15 13:52:59</td>\n",
       "      <td>engagement</td>\n",
       "      <td>login</td>\n",
       "      <td>Finland</td>\n",
       "      <td>windows surface</td>\n",
       "      <td>3.0</td>\n",
       "    </tr>\n",
       "    <tr>\n",
       "      <th>23</th>\n",
       "      <td>23</td>\n",
       "      <td>11020.0</td>\n",
       "      <td>2014-05-08 09:15:35</td>\n",
       "      <td>engagement</td>\n",
       "      <td>login</td>\n",
       "      <td>Japan</td>\n",
       "      <td>macbook air</td>\n",
       "      <td>2.0</td>\n",
       "    </tr>\n",
       "  </tbody>\n",
       "</table>\n",
       "</div>"
      ],
      "text/plain": [
       "    Unnamed: 0  user_id         occurred_at  event_type event_name  \\\n",
       "0            0  10522.0 2014-05-02 11:02:39  engagement      login   \n",
       "6            6  10612.0 2014-05-01 09:59:46  engagement      login   \n",
       "18          18  10736.0 2014-05-09 17:52:45  engagement      login   \n",
       "21          21  10965.0 2014-05-15 13:52:59  engagement      login   \n",
       "23          23  11020.0 2014-05-08 09:15:35  engagement      login   \n",
       "\n",
       "       location                  device  user_type  \n",
       "0         Japan  dell inspiron notebook        3.0  \n",
       "6   Netherlands                iphone 5        1.0  \n",
       "18      Austria               iphone 4s        2.0  \n",
       "21      Finland         windows surface        3.0  \n",
       "23        Japan             macbook air        2.0  "
      ]
     },
     "execution_count": 13,
     "metadata": {},
     "output_type": "execute_result"
    }
   ],
   "source": [
    "daily.head()"
   ]
  },
  {
   "cell_type": "code",
   "execution_count": 14,
   "metadata": {
    "ExecuteTime": {
     "end_time": "2020-11-09T23:33:39.301003Z",
     "start_time": "2020-11-09T23:33:39.254130Z"
    }
   },
   "outputs": [],
   "source": [
    "# weekly engagement \n",
    "weekly = daily.set_index('occurred_at').groupby(pd.Grouper(freq='W')).user_id.nunique()"
   ]
  },
  {
   "cell_type": "code",
   "execution_count": 15,
   "metadata": {
    "ExecuteTime": {
     "end_time": "2020-11-09T23:33:39.385632Z",
     "start_time": "2020-11-09T23:33:39.301003Z"
    }
   },
   "outputs": [
    {
     "data": {
      "text/html": [
       "\n",
       "    <div class=\"bk-root\">\n",
       "        <a href=\"https://bokeh.org\" target=\"_blank\" class=\"bk-logo bk-logo-small bk-logo-notebook\"></a>\n",
       "        <span id=\"1001\">Loading BokehJS ...</span>\n",
       "    </div>"
      ]
     },
     "metadata": {},
     "output_type": "display_data"
    },
    {
     "data": {
      "application/javascript": [
       "\n",
       "(function(root) {\n",
       "  function now() {\n",
       "    return new Date();\n",
       "  }\n",
       "\n",
       "  var force = true;\n",
       "\n",
       "  if (typeof root._bokeh_onload_callbacks === \"undefined\" || force === true) {\n",
       "    root._bokeh_onload_callbacks = [];\n",
       "    root._bokeh_is_loading = undefined;\n",
       "  }\n",
       "\n",
       "  var JS_MIME_TYPE = 'application/javascript';\n",
       "  var HTML_MIME_TYPE = 'text/html';\n",
       "  var EXEC_MIME_TYPE = 'application/vnd.bokehjs_exec.v0+json';\n",
       "  var CLASS_NAME = 'output_bokeh rendered_html';\n",
       "\n",
       "  /**\n",
       "   * Render data to the DOM node\n",
       "   */\n",
       "  function render(props, node) {\n",
       "    var script = document.createElement(\"script\");\n",
       "    node.appendChild(script);\n",
       "  }\n",
       "\n",
       "  /**\n",
       "   * Handle when an output is cleared or removed\n",
       "   */\n",
       "  function handleClearOutput(event, handle) {\n",
       "    var cell = handle.cell;\n",
       "\n",
       "    var id = cell.output_area._bokeh_element_id;\n",
       "    var server_id = cell.output_area._bokeh_server_id;\n",
       "    // Clean up Bokeh references\n",
       "    if (id != null && id in Bokeh.index) {\n",
       "      Bokeh.index[id].model.document.clear();\n",
       "      delete Bokeh.index[id];\n",
       "    }\n",
       "\n",
       "    if (server_id !== undefined) {\n",
       "      // Clean up Bokeh references\n",
       "      var cmd = \"from bokeh.io.state import curstate; print(curstate().uuid_to_server['\" + server_id + \"'].get_sessions()[0].document.roots[0]._id)\";\n",
       "      cell.notebook.kernel.execute(cmd, {\n",
       "        iopub: {\n",
       "          output: function(msg) {\n",
       "            var id = msg.content.text.trim();\n",
       "            if (id in Bokeh.index) {\n",
       "              Bokeh.index[id].model.document.clear();\n",
       "              delete Bokeh.index[id];\n",
       "            }\n",
       "          }\n",
       "        }\n",
       "      });\n",
       "      // Destroy server and session\n",
       "      var cmd = \"import bokeh.io.notebook as ion; ion.destroy_server('\" + server_id + \"')\";\n",
       "      cell.notebook.kernel.execute(cmd);\n",
       "    }\n",
       "  }\n",
       "\n",
       "  /**\n",
       "   * Handle when a new output is added\n",
       "   */\n",
       "  function handleAddOutput(event, handle) {\n",
       "    var output_area = handle.output_area;\n",
       "    var output = handle.output;\n",
       "\n",
       "    // limit handleAddOutput to display_data with EXEC_MIME_TYPE content only\n",
       "    if ((output.output_type != \"display_data\") || (!output.data.hasOwnProperty(EXEC_MIME_TYPE))) {\n",
       "      return\n",
       "    }\n",
       "\n",
       "    var toinsert = output_area.element.find(\".\" + CLASS_NAME.split(' ')[0]);\n",
       "\n",
       "    if (output.metadata[EXEC_MIME_TYPE][\"id\"] !== undefined) {\n",
       "      toinsert[toinsert.length - 1].firstChild.textContent = output.data[JS_MIME_TYPE];\n",
       "      // store reference to embed id on output_area\n",
       "      output_area._bokeh_element_id = output.metadata[EXEC_MIME_TYPE][\"id\"];\n",
       "    }\n",
       "    if (output.metadata[EXEC_MIME_TYPE][\"server_id\"] !== undefined) {\n",
       "      var bk_div = document.createElement(\"div\");\n",
       "      bk_div.innerHTML = output.data[HTML_MIME_TYPE];\n",
       "      var script_attrs = bk_div.children[0].attributes;\n",
       "      for (var i = 0; i < script_attrs.length; i++) {\n",
       "        toinsert[toinsert.length - 1].firstChild.setAttribute(script_attrs[i].name, script_attrs[i].value);\n",
       "        toinsert[toinsert.length - 1].firstChild.textContent = bk_div.children[0].textContent\n",
       "      }\n",
       "      // store reference to server id on output_area\n",
       "      output_area._bokeh_server_id = output.metadata[EXEC_MIME_TYPE][\"server_id\"];\n",
       "    }\n",
       "  }\n",
       "\n",
       "  function register_renderer(events, OutputArea) {\n",
       "\n",
       "    function append_mime(data, metadata, element) {\n",
       "      // create a DOM node to render to\n",
       "      var toinsert = this.create_output_subarea(\n",
       "        metadata,\n",
       "        CLASS_NAME,\n",
       "        EXEC_MIME_TYPE\n",
       "      );\n",
       "      this.keyboard_manager.register_events(toinsert);\n",
       "      // Render to node\n",
       "      var props = {data: data, metadata: metadata[EXEC_MIME_TYPE]};\n",
       "      render(props, toinsert[toinsert.length - 1]);\n",
       "      element.append(toinsert);\n",
       "      return toinsert\n",
       "    }\n",
       "\n",
       "    /* Handle when an output is cleared or removed */\n",
       "    events.on('clear_output.CodeCell', handleClearOutput);\n",
       "    events.on('delete.Cell', handleClearOutput);\n",
       "\n",
       "    /* Handle when a new output is added */\n",
       "    events.on('output_added.OutputArea', handleAddOutput);\n",
       "\n",
       "    /**\n",
       "     * Register the mime type and append_mime function with output_area\n",
       "     */\n",
       "    OutputArea.prototype.register_mime_type(EXEC_MIME_TYPE, append_mime, {\n",
       "      /* Is output safe? */\n",
       "      safe: true,\n",
       "      /* Index of renderer in `output_area.display_order` */\n",
       "      index: 0\n",
       "    });\n",
       "  }\n",
       "\n",
       "  // register the mime type if in Jupyter Notebook environment and previously unregistered\n",
       "  if (root.Jupyter !== undefined) {\n",
       "    var events = require('base/js/events');\n",
       "    var OutputArea = require('notebook/js/outputarea').OutputArea;\n",
       "\n",
       "    if (OutputArea.prototype.mime_types().indexOf(EXEC_MIME_TYPE) == -1) {\n",
       "      register_renderer(events, OutputArea);\n",
       "    }\n",
       "  }\n",
       "\n",
       "  \n",
       "  if (typeof (root._bokeh_timeout) === \"undefined\" || force === true) {\n",
       "    root._bokeh_timeout = Date.now() + 5000;\n",
       "    root._bokeh_failed_load = false;\n",
       "  }\n",
       "\n",
       "  var NB_LOAD_WARNING = {'data': {'text/html':\n",
       "     \"<div style='background-color: #fdd'>\\n\"+\n",
       "     \"<p>\\n\"+\n",
       "     \"BokehJS does not appear to have successfully loaded. If loading BokehJS from CDN, this \\n\"+\n",
       "     \"may be due to a slow or bad network connection. Possible fixes:\\n\"+\n",
       "     \"</p>\\n\"+\n",
       "     \"<ul>\\n\"+\n",
       "     \"<li>re-rerun `output_notebook()` to attempt to load from CDN again, or</li>\\n\"+\n",
       "     \"<li>use INLINE resources instead, as so:</li>\\n\"+\n",
       "     \"</ul>\\n\"+\n",
       "     \"<code>\\n\"+\n",
       "     \"from bokeh.resources import INLINE\\n\"+\n",
       "     \"output_notebook(resources=INLINE)\\n\"+\n",
       "     \"</code>\\n\"+\n",
       "     \"</div>\"}};\n",
       "\n",
       "  function display_loaded() {\n",
       "    var el = document.getElementById(\"1001\");\n",
       "    if (el != null) {\n",
       "      el.textContent = \"BokehJS is loading...\";\n",
       "    }\n",
       "    if (root.Bokeh !== undefined) {\n",
       "      if (el != null) {\n",
       "        el.textContent = \"BokehJS \" + root.Bokeh.version + \" successfully loaded.\";\n",
       "      }\n",
       "    } else if (Date.now() < root._bokeh_timeout) {\n",
       "      setTimeout(display_loaded, 100)\n",
       "    }\n",
       "  }\n",
       "\n",
       "\n",
       "  function run_callbacks() {\n",
       "    try {\n",
       "      root._bokeh_onload_callbacks.forEach(function(callback) {\n",
       "        if (callback != null)\n",
       "          callback();\n",
       "      });\n",
       "    } finally {\n",
       "      delete root._bokeh_onload_callbacks\n",
       "    }\n",
       "    console.debug(\"Bokeh: all callbacks have finished\");\n",
       "  }\n",
       "\n",
       "  function load_libs(css_urls, js_urls, callback) {\n",
       "    if (css_urls == null) css_urls = [];\n",
       "    if (js_urls == null) js_urls = [];\n",
       "\n",
       "    root._bokeh_onload_callbacks.push(callback);\n",
       "    if (root._bokeh_is_loading > 0) {\n",
       "      console.debug(\"Bokeh: BokehJS is being loaded, scheduling callback at\", now());\n",
       "      return null;\n",
       "    }\n",
       "    if (js_urls == null || js_urls.length === 0) {\n",
       "      run_callbacks();\n",
       "      return null;\n",
       "    }\n",
       "    console.debug(\"Bokeh: BokehJS not loaded, scheduling load and callback at\", now());\n",
       "    root._bokeh_is_loading = css_urls.length + js_urls.length;\n",
       "\n",
       "    function on_load() {\n",
       "      root._bokeh_is_loading--;\n",
       "      if (root._bokeh_is_loading === 0) {\n",
       "        console.debug(\"Bokeh: all BokehJS libraries/stylesheets loaded\");\n",
       "        run_callbacks()\n",
       "      }\n",
       "    }\n",
       "\n",
       "    function on_error() {\n",
       "      console.error(\"failed to load \" + url);\n",
       "    }\n",
       "\n",
       "    for (var i = 0; i < css_urls.length; i++) {\n",
       "      var url = css_urls[i];\n",
       "      const element = document.createElement(\"link\");\n",
       "      element.onload = on_load;\n",
       "      element.onerror = on_error;\n",
       "      element.rel = \"stylesheet\";\n",
       "      element.type = \"text/css\";\n",
       "      element.href = url;\n",
       "      console.debug(\"Bokeh: injecting link tag for BokehJS stylesheet: \", url);\n",
       "      document.body.appendChild(element);\n",
       "    }\n",
       "\n",
       "    const hashes = {\"https://cdn.bokeh.org/bokeh/release/bokeh-2.2.1.min.js\": \"qkRvDQVAIfzsJo40iRBbxt6sttt0hv4lh74DG7OK4MCHv4C5oohXYoHUM5W11uqS\", \"https://cdn.bokeh.org/bokeh/release/bokeh-widgets-2.2.1.min.js\": \"Sb7Mr06a9TNlet/GEBeKaf5xH3eb6AlCzwjtU82wNPyDrnfoiVl26qnvlKjmcAd+\", \"https://cdn.bokeh.org/bokeh/release/bokeh-tables-2.2.1.min.js\": \"HaJ15vgfmcfRtB4c4YBOI4f1MUujukqInOWVqZJZZGK7Q+ivud0OKGSTn/Vm2iso\"};\n",
       "\n",
       "    for (var i = 0; i < js_urls.length; i++) {\n",
       "      var url = js_urls[i];\n",
       "      var element = document.createElement('script');\n",
       "      element.onload = on_load;\n",
       "      element.onerror = on_error;\n",
       "      element.async = false;\n",
       "      element.src = url;\n",
       "      if (url in hashes) {\n",
       "        element.crossOrigin = \"anonymous\";\n",
       "        element.integrity = \"sha384-\" + hashes[url];\n",
       "      }\n",
       "      console.debug(\"Bokeh: injecting script tag for BokehJS library: \", url);\n",
       "      document.head.appendChild(element);\n",
       "    }\n",
       "  };\n",
       "\n",
       "  function inject_raw_css(css) {\n",
       "    const element = document.createElement(\"style\");\n",
       "    element.appendChild(document.createTextNode(css));\n",
       "    document.body.appendChild(element);\n",
       "  }\n",
       "\n",
       "  \n",
       "  var js_urls = [\"https://cdn.bokeh.org/bokeh/release/bokeh-2.2.1.min.js\", \"https://cdn.bokeh.org/bokeh/release/bokeh-widgets-2.2.1.min.js\", \"https://cdn.bokeh.org/bokeh/release/bokeh-tables-2.2.1.min.js\"];\n",
       "  var css_urls = [];\n",
       "  \n",
       "\n",
       "  var inline_js = [\n",
       "    function(Bokeh) {\n",
       "      Bokeh.set_log_level(\"info\");\n",
       "    },\n",
       "    function(Bokeh) {\n",
       "    \n",
       "    \n",
       "    }\n",
       "  ];\n",
       "\n",
       "  function run_inline_js() {\n",
       "    \n",
       "    if (root.Bokeh !== undefined || force === true) {\n",
       "      \n",
       "    for (var i = 0; i < inline_js.length; i++) {\n",
       "      inline_js[i].call(root, root.Bokeh);\n",
       "    }\n",
       "    if (force === true) {\n",
       "        display_loaded();\n",
       "      }} else if (Date.now() < root._bokeh_timeout) {\n",
       "      setTimeout(run_inline_js, 100);\n",
       "    } else if (!root._bokeh_failed_load) {\n",
       "      console.log(\"Bokeh: BokehJS failed to load within specified timeout.\");\n",
       "      root._bokeh_failed_load = true;\n",
       "    } else if (force !== true) {\n",
       "      var cell = $(document.getElementById(\"1001\")).parents('.cell').data().cell;\n",
       "      cell.output_area.append_execute_result(NB_LOAD_WARNING)\n",
       "    }\n",
       "\n",
       "  }\n",
       "\n",
       "  if (root._bokeh_is_loading === 0) {\n",
       "    console.debug(\"Bokeh: BokehJS loaded, going straight to plotting\");\n",
       "    run_inline_js();\n",
       "  } else {\n",
       "    load_libs(css_urls, js_urls, function() {\n",
       "      console.debug(\"Bokeh: BokehJS plotting callback run at\", now());\n",
       "      run_inline_js();\n",
       "    });\n",
       "  }\n",
       "}(window));"
      ],
      "application/vnd.bokehjs_load.v0+json": "\n(function(root) {\n  function now() {\n    return new Date();\n  }\n\n  var force = true;\n\n  if (typeof root._bokeh_onload_callbacks === \"undefined\" || force === true) {\n    root._bokeh_onload_callbacks = [];\n    root._bokeh_is_loading = undefined;\n  }\n\n  \n\n  \n  if (typeof (root._bokeh_timeout) === \"undefined\" || force === true) {\n    root._bokeh_timeout = Date.now() + 5000;\n    root._bokeh_failed_load = false;\n  }\n\n  var NB_LOAD_WARNING = {'data': {'text/html':\n     \"<div style='background-color: #fdd'>\\n\"+\n     \"<p>\\n\"+\n     \"BokehJS does not appear to have successfully loaded. If loading BokehJS from CDN, this \\n\"+\n     \"may be due to a slow or bad network connection. Possible fixes:\\n\"+\n     \"</p>\\n\"+\n     \"<ul>\\n\"+\n     \"<li>re-rerun `output_notebook()` to attempt to load from CDN again, or</li>\\n\"+\n     \"<li>use INLINE resources instead, as so:</li>\\n\"+\n     \"</ul>\\n\"+\n     \"<code>\\n\"+\n     \"from bokeh.resources import INLINE\\n\"+\n     \"output_notebook(resources=INLINE)\\n\"+\n     \"</code>\\n\"+\n     \"</div>\"}};\n\n  function display_loaded() {\n    var el = document.getElementById(\"1001\");\n    if (el != null) {\n      el.textContent = \"BokehJS is loading...\";\n    }\n    if (root.Bokeh !== undefined) {\n      if (el != null) {\n        el.textContent = \"BokehJS \" + root.Bokeh.version + \" successfully loaded.\";\n      }\n    } else if (Date.now() < root._bokeh_timeout) {\n      setTimeout(display_loaded, 100)\n    }\n  }\n\n\n  function run_callbacks() {\n    try {\n      root._bokeh_onload_callbacks.forEach(function(callback) {\n        if (callback != null)\n          callback();\n      });\n    } finally {\n      delete root._bokeh_onload_callbacks\n    }\n    console.debug(\"Bokeh: all callbacks have finished\");\n  }\n\n  function load_libs(css_urls, js_urls, callback) {\n    if (css_urls == null) css_urls = [];\n    if (js_urls == null) js_urls = [];\n\n    root._bokeh_onload_callbacks.push(callback);\n    if (root._bokeh_is_loading > 0) {\n      console.debug(\"Bokeh: BokehJS is being loaded, scheduling callback at\", now());\n      return null;\n    }\n    if (js_urls == null || js_urls.length === 0) {\n      run_callbacks();\n      return null;\n    }\n    console.debug(\"Bokeh: BokehJS not loaded, scheduling load and callback at\", now());\n    root._bokeh_is_loading = css_urls.length + js_urls.length;\n\n    function on_load() {\n      root._bokeh_is_loading--;\n      if (root._bokeh_is_loading === 0) {\n        console.debug(\"Bokeh: all BokehJS libraries/stylesheets loaded\");\n        run_callbacks()\n      }\n    }\n\n    function on_error() {\n      console.error(\"failed to load \" + url);\n    }\n\n    for (var i = 0; i < css_urls.length; i++) {\n      var url = css_urls[i];\n      const element = document.createElement(\"link\");\n      element.onload = on_load;\n      element.onerror = on_error;\n      element.rel = \"stylesheet\";\n      element.type = \"text/css\";\n      element.href = url;\n      console.debug(\"Bokeh: injecting link tag for BokehJS stylesheet: \", url);\n      document.body.appendChild(element);\n    }\n\n    const hashes = {\"https://cdn.bokeh.org/bokeh/release/bokeh-2.2.1.min.js\": \"qkRvDQVAIfzsJo40iRBbxt6sttt0hv4lh74DG7OK4MCHv4C5oohXYoHUM5W11uqS\", \"https://cdn.bokeh.org/bokeh/release/bokeh-widgets-2.2.1.min.js\": \"Sb7Mr06a9TNlet/GEBeKaf5xH3eb6AlCzwjtU82wNPyDrnfoiVl26qnvlKjmcAd+\", \"https://cdn.bokeh.org/bokeh/release/bokeh-tables-2.2.1.min.js\": \"HaJ15vgfmcfRtB4c4YBOI4f1MUujukqInOWVqZJZZGK7Q+ivud0OKGSTn/Vm2iso\"};\n\n    for (var i = 0; i < js_urls.length; i++) {\n      var url = js_urls[i];\n      var element = document.createElement('script');\n      element.onload = on_load;\n      element.onerror = on_error;\n      element.async = false;\n      element.src = url;\n      if (url in hashes) {\n        element.crossOrigin = \"anonymous\";\n        element.integrity = \"sha384-\" + hashes[url];\n      }\n      console.debug(\"Bokeh: injecting script tag for BokehJS library: \", url);\n      document.head.appendChild(element);\n    }\n  };\n\n  function inject_raw_css(css) {\n    const element = document.createElement(\"style\");\n    element.appendChild(document.createTextNode(css));\n    document.body.appendChild(element);\n  }\n\n  \n  var js_urls = [\"https://cdn.bokeh.org/bokeh/release/bokeh-2.2.1.min.js\", \"https://cdn.bokeh.org/bokeh/release/bokeh-widgets-2.2.1.min.js\", \"https://cdn.bokeh.org/bokeh/release/bokeh-tables-2.2.1.min.js\"];\n  var css_urls = [];\n  \n\n  var inline_js = [\n    function(Bokeh) {\n      Bokeh.set_log_level(\"info\");\n    },\n    function(Bokeh) {\n    \n    \n    }\n  ];\n\n  function run_inline_js() {\n    \n    if (root.Bokeh !== undefined || force === true) {\n      \n    for (var i = 0; i < inline_js.length; i++) {\n      inline_js[i].call(root, root.Bokeh);\n    }\n    if (force === true) {\n        display_loaded();\n      }} else if (Date.now() < root._bokeh_timeout) {\n      setTimeout(run_inline_js, 100);\n    } else if (!root._bokeh_failed_load) {\n      console.log(\"Bokeh: BokehJS failed to load within specified timeout.\");\n      root._bokeh_failed_load = true;\n    } else if (force !== true) {\n      var cell = $(document.getElementById(\"1001\")).parents('.cell').data().cell;\n      cell.output_area.append_execute_result(NB_LOAD_WARNING)\n    }\n\n  }\n\n  if (root._bokeh_is_loading === 0) {\n    console.debug(\"Bokeh: BokehJS loaded, going straight to plotting\");\n    run_inline_js();\n  } else {\n    load_libs(css_urls, js_urls, function() {\n      console.debug(\"Bokeh: BokehJS plotting callback run at\", now());\n      run_inline_js();\n    });\n  }\n}(window));"
     },
     "metadata": {},
     "output_type": "display_data"
    },
    {
     "data": {
      "text/html": [
       "\n",
       "\n",
       "\n",
       "\n",
       "\n",
       "\n",
       "  <div class=\"bk-root\" id=\"35e8d57c-7fa5-40be-a7b3-012a590bb51f\" data-root-id=\"1002\"></div>\n"
      ]
     },
     "metadata": {},
     "output_type": "display_data"
    },
    {
     "data": {
      "application/javascript": [
       "(function(root) {\n",
       "  function embed_document(root) {\n",
       "    \n",
       "  var docs_json = {\"29003d54-15de-47d7-aa85-5139969ef68f\":{\"roots\":{\"references\":[{\"attributes\":{\"below\":[{\"id\":\"1013\"}],\"center\":[{\"id\":\"1016\"},{\"id\":\"1020\"}],\"left\":[{\"id\":\"1017\"}],\"plot_height\":300,\"plot_width\":500,\"renderers\":[{\"id\":\"1038\"},{\"id\":\"1043\"}],\"title\":{\"id\":\"1003\"},\"toolbar\":{\"id\":\"1028\"},\"x_range\":{\"id\":\"1005\"},\"x_scale\":{\"id\":\"1009\"},\"y_range\":{\"id\":\"1007\"},\"y_scale\":{\"id\":\"1011\"}},\"id\":\"1002\",\"subtype\":\"Figure\",\"type\":\"Plot\"},{\"attributes\":{\"source\":{\"id\":\"1035\"}},\"id\":\"1039\",\"type\":\"CDSView\"},{\"attributes\":{\"months\":[0,1,2,3,4,5,6,7,8,9,10,11]},\"id\":\"1057\",\"type\":\"MonthsTicker\"},{\"attributes\":{\"months\":[0,2,4,6,8,10]},\"id\":\"1058\",\"type\":\"MonthsTicker\"},{\"attributes\":{\"base\":24,\"mantissas\":[1,2,4,6,8,12],\"max_interval\":43200000.0,\"min_interval\":3600000.0,\"num_minor_ticks\":0},\"id\":\"1052\",\"type\":\"AdaptiveTicker\"},{\"attributes\":{\"data_source\":{\"id\":\"1035\"},\"glyph\":{\"id\":\"1036\"},\"hover_glyph\":null,\"muted_glyph\":null,\"nonselection_glyph\":{\"id\":\"1037\"},\"selection_glyph\":null,\"view\":{\"id\":\"1039\"}},\"id\":\"1038\",\"type\":\"GlyphRenderer\"},{\"attributes\":{\"days\":[1,8,15,22]},\"id\":\"1055\",\"type\":\"DaysTicker\"},{\"attributes\":{\"months\":[0,4,8]},\"id\":\"1059\",\"type\":\"MonthsTicker\"},{\"attributes\":{\"days\":[1,2,3,4,5,6,7,8,9,10,11,12,13,14,15,16,17,18,19,20,21,22,23,24,25,26,27,28,29,30,31]},\"id\":\"1053\",\"type\":\"DaysTicker\"},{\"attributes\":{\"axis_label\":\"Time (weekly)\",\"formatter\":{\"id\":\"1046\"},\"ticker\":{\"id\":\"1014\"}},\"id\":\"1013\",\"type\":\"DatetimeAxis\"},{\"attributes\":{\"source\":{\"id\":\"1040\"}},\"id\":\"1044\",\"type\":\"CDSView\"},{\"attributes\":{\"days\":[1,4,7,10,13,16,19,22,25,28]},\"id\":\"1054\",\"type\":\"DaysTicker\"},{\"attributes\":{},\"id\":\"1061\",\"type\":\"YearsTicker\"},{\"attributes\":{\"base\":60,\"mantissas\":[1,2,5,10,15,20,30],\"max_interval\":1800000.0,\"min_interval\":1000.0,\"num_minor_ticks\":0},\"id\":\"1051\",\"type\":\"AdaptiveTicker\"},{\"attributes\":{\"months\":[0,6]},\"id\":\"1060\",\"type\":\"MonthsTicker\"},{\"attributes\":{\"fill_color\":{\"value\":\"#1f77b4\"},\"line_color\":{\"value\":\"#1f77b4\"},\"x\":{\"field\":\"x\"},\"y\":{\"field\":\"y\"}},\"id\":\"1036\",\"type\":\"Scatter\"},{\"attributes\":{\"line_alpha\":0.1,\"line_color\":\"#1f77b4\",\"x\":{\"field\":\"x\"},\"y\":{\"field\":\"y\"}},\"id\":\"1042\",\"type\":\"Line\"},{\"attributes\":{\"mantissas\":[1,2,5],\"max_interval\":500.0,\"num_minor_ticks\":0},\"id\":\"1050\",\"type\":\"AdaptiveTicker\"},{\"attributes\":{\"axis\":{\"id\":\"1013\"},\"ticker\":null},\"id\":\"1016\",\"type\":\"Grid\"},{\"attributes\":{\"days\":[1,15]},\"id\":\"1056\",\"type\":\"DaysTicker\"},{\"attributes\":{\"data_source\":{\"id\":\"1040\"},\"glyph\":{\"id\":\"1041\"},\"hover_glyph\":null,\"muted_glyph\":null,\"nonselection_glyph\":{\"id\":\"1042\"},\"selection_glyph\":null,\"view\":{\"id\":\"1044\"}},\"id\":\"1043\",\"type\":\"GlyphRenderer\"},{\"attributes\":{\"text\":\"Count of weekly active users\"},\"id\":\"1003\",\"type\":\"Title\"},{\"attributes\":{},\"id\":\"1018\",\"type\":\"BasicTicker\"},{\"attributes\":{},\"id\":\"1062\",\"type\":\"Selection\"},{\"attributes\":{},\"id\":\"1046\",\"type\":\"DatetimeTickFormatter\"},{\"attributes\":{\"bottom_units\":\"screen\",\"fill_alpha\":0.5,\"fill_color\":\"lightgrey\",\"left_units\":\"screen\",\"level\":\"overlay\",\"line_alpha\":1.0,\"line_color\":\"black\",\"line_dash\":[4,4],\"line_width\":2,\"right_units\":\"screen\",\"top_units\":\"screen\"},\"id\":\"1027\",\"type\":\"BoxAnnotation\"},{\"attributes\":{\"num_minor_ticks\":5,\"tickers\":[{\"id\":\"1050\"},{\"id\":\"1051\"},{\"id\":\"1052\"},{\"id\":\"1053\"},{\"id\":\"1054\"},{\"id\":\"1055\"},{\"id\":\"1056\"},{\"id\":\"1057\"},{\"id\":\"1058\"},{\"id\":\"1059\"},{\"id\":\"1060\"},{\"id\":\"1061\"}]},\"id\":\"1014\",\"type\":\"DatetimeTicker\"},{\"attributes\":{},\"id\":\"1063\",\"type\":\"UnionRenderers\"},{\"attributes\":{\"axis_label\":\"Counts\",\"formatter\":{\"id\":\"1048\"},\"ticker\":{\"id\":\"1018\"}},\"id\":\"1017\",\"type\":\"LinearAxis\"},{\"attributes\":{},\"id\":\"1026\",\"type\":\"HelpTool\"},{\"attributes\":{\"data\":{\"x\":{\"__ndarray__\":\"AACAe0hcdEIAAMBDiV50QgAAAAzKYHRCAABA1ApjdEIAAICcS2V0QgAAwGSMZ3RCAAAALc1pdEIAAED1DWx0QgAAgL1ObnRCAADAhY9wdEIAAABO0HJ0QgAAQBYRdXRCAACA3lF3dEIAAMCmknl0QgAAAG/Te3RCAABANxR+dEIAAID/VIB0QgAAwMeVgnRC\",\"dtype\":\"float64\",\"order\":\"little\",\"shape\":[18]},\"y\":[701,1054,1094,1147,1113,1173,1219,1262,1249,1271,1355,1345,1363,1442,1266,1215,1203,1194]},\"selected\":{\"id\":\"1062\"},\"selection_policy\":{\"id\":\"1063\"}},\"id\":\"1035\",\"type\":\"ColumnDataSource\"},{\"attributes\":{},\"id\":\"1024\",\"type\":\"SaveTool\"},{\"attributes\":{},\"id\":\"1048\",\"type\":\"BasicTickFormatter\"},{\"attributes\":{},\"id\":\"1007\",\"type\":\"DataRange1d\"},{\"attributes\":{\"active_drag\":\"auto\",\"active_inspect\":\"auto\",\"active_multi\":null,\"active_scroll\":\"auto\",\"active_tap\":\"auto\",\"tools\":[{\"id\":\"1021\"},{\"id\":\"1022\"},{\"id\":\"1023\"},{\"id\":\"1024\"},{\"id\":\"1025\"},{\"id\":\"1026\"}]},\"id\":\"1028\",\"type\":\"Toolbar\"},{\"attributes\":{},\"id\":\"1064\",\"type\":\"Selection\"},{\"attributes\":{},\"id\":\"1009\",\"type\":\"LinearScale\"},{\"attributes\":{},\"id\":\"1065\",\"type\":\"UnionRenderers\"},{\"attributes\":{},\"id\":\"1011\",\"type\":\"LinearScale\"},{\"attributes\":{\"data\":{\"x\":{\"__ndarray__\":\"AACAe0hcdEIAAMBDiV50QgAAAAzKYHRCAABA1ApjdEIAAICcS2V0QgAAwGSMZ3RCAAAALc1pdEIAAED1DWx0QgAAgL1ObnRCAADAhY9wdEIAAABO0HJ0QgAAQBYRdXRCAACA3lF3dEIAAMCmknl0QgAAAG/Te3RCAABANxR+dEIAAID/VIB0QgAAwMeVgnRC\",\"dtype\":\"float64\",\"order\":\"little\",\"shape\":[18]},\"y\":[701,1054,1094,1147,1113,1173,1219,1262,1249,1271,1355,1345,1363,1442,1266,1215,1203,1194]},\"selected\":{\"id\":\"1064\"},\"selection_policy\":{\"id\":\"1065\"}},\"id\":\"1040\",\"type\":\"ColumnDataSource\"},{\"attributes\":{},\"id\":\"1025\",\"type\":\"ResetTool\"},{\"attributes\":{},\"id\":\"1005\",\"type\":\"DataRange1d\"},{\"attributes\":{\"overlay\":{\"id\":\"1027\"}},\"id\":\"1023\",\"type\":\"BoxZoomTool\"},{\"attributes\":{\"axis\":{\"id\":\"1017\"},\"dimension\":1,\"ticker\":null},\"id\":\"1020\",\"type\":\"Grid\"},{\"attributes\":{\"line_color\":\"#1f77b4\",\"x\":{\"field\":\"x\"},\"y\":{\"field\":\"y\"}},\"id\":\"1041\",\"type\":\"Line\"},{\"attributes\":{\"fill_alpha\":{\"value\":0.1},\"fill_color\":{\"value\":\"#1f77b4\"},\"line_alpha\":{\"value\":0.1},\"line_color\":{\"value\":\"#1f77b4\"},\"x\":{\"field\":\"x\"},\"y\":{\"field\":\"y\"}},\"id\":\"1037\",\"type\":\"Scatter\"},{\"attributes\":{},\"id\":\"1021\",\"type\":\"PanTool\"},{\"attributes\":{},\"id\":\"1022\",\"type\":\"WheelZoomTool\"}],\"root_ids\":[\"1002\"]},\"title\":\"Bokeh Application\",\"version\":\"2.2.1\"}};\n",
       "  var render_items = [{\"docid\":\"29003d54-15de-47d7-aa85-5139969ef68f\",\"root_ids\":[\"1002\"],\"roots\":{\"1002\":\"35e8d57c-7fa5-40be-a7b3-012a590bb51f\"}}];\n",
       "  root.Bokeh.embed.embed_items_notebook(docs_json, render_items);\n",
       "\n",
       "  }\n",
       "  if (root.Bokeh !== undefined) {\n",
       "    embed_document(root);\n",
       "  } else {\n",
       "    var attempts = 0;\n",
       "    var timer = setInterval(function(root) {\n",
       "      if (root.Bokeh !== undefined) {\n",
       "        clearInterval(timer);\n",
       "        embed_document(root);\n",
       "      } else {\n",
       "        attempts++;\n",
       "        if (attempts > 100) {\n",
       "          clearInterval(timer);\n",
       "          console.log(\"Bokeh: ERROR: Unable to run BokehJS code because BokehJS library is missing\");\n",
       "        }\n",
       "      }\n",
       "    }, 10, root)\n",
       "  }\n",
       "})(window);"
      ],
      "application/vnd.bokehjs_exec.v0+json": ""
     },
     "metadata": {
      "application/vnd.bokehjs_exec.v0+json": {
       "id": "1002"
      }
     },
     "output_type": "display_data"
    }
   ],
   "source": [
    "x = weekly.index\n",
    "y = weekly.values\n",
    "\n",
    "output_notebook()\n",
    "fig = figure(plot_width=500, plot_height=300, x_axis_type='datetime',\n",
    "             title='Count of weekly active users',\n",
    "             y_axis_label='Counts', x_axis_label='Time (weekly)')\n",
    "fig.scatter(x, y)\n",
    "fig.line(x, y)\n",
    "#fig.xaxis.axis.formatter = DatetimeTickFormatter(format='%W')\n",
    "show(fig)"
   ]
  },
  {
   "cell_type": "code",
   "execution_count": 16,
   "metadata": {
    "ExecuteTime": {
     "end_time": "2020-11-09T23:33:39.401256Z",
     "start_time": "2020-11-09T23:33:39.385632Z"
    }
   },
   "outputs": [
    {
     "data": {
      "text/html": [
       "<div>\n",
       "<style scoped>\n",
       "    .dataframe tbody tr th:only-of-type {\n",
       "        vertical-align: middle;\n",
       "    }\n",
       "\n",
       "    .dataframe tbody tr th {\n",
       "        vertical-align: top;\n",
       "    }\n",
       "\n",
       "    .dataframe thead th {\n",
       "        text-align: right;\n",
       "    }\n",
       "</style>\n",
       "<table border=\"1\" class=\"dataframe\">\n",
       "  <thead>\n",
       "    <tr style=\"text-align: right;\">\n",
       "      <th></th>\n",
       "      <th>Unnamed: 0</th>\n",
       "      <th>user_id</th>\n",
       "      <th>occurred_at</th>\n",
       "      <th>event_type</th>\n",
       "      <th>event_name</th>\n",
       "      <th>location</th>\n",
       "      <th>device</th>\n",
       "      <th>user_type</th>\n",
       "    </tr>\n",
       "  </thead>\n",
       "  <tbody>\n",
       "    <tr>\n",
       "      <th>0</th>\n",
       "      <td>0</td>\n",
       "      <td>10522.0</td>\n",
       "      <td>2014-05-02 11:02:39</td>\n",
       "      <td>engagement</td>\n",
       "      <td>login</td>\n",
       "      <td>Japan</td>\n",
       "      <td>dell inspiron notebook</td>\n",
       "      <td>3.0</td>\n",
       "    </tr>\n",
       "  </tbody>\n",
       "</table>\n",
       "</div>"
      ],
      "text/plain": [
       "   Unnamed: 0  user_id         occurred_at  event_type event_name location  \\\n",
       "0           0  10522.0 2014-05-02 11:02:39  engagement      login    Japan   \n",
       "\n",
       "                   device  user_type  \n",
       "0  dell inspiron notebook        3.0  "
      ]
     },
     "execution_count": 16,
     "metadata": {},
     "output_type": "execute_result"
    }
   ],
   "source": [
    "daily.head(1)"
   ]
  },
  {
   "cell_type": "code",
   "execution_count": 17,
   "metadata": {
    "ExecuteTime": {
     "end_time": "2020-11-09T23:33:39.416880Z",
     "start_time": "2020-11-09T23:33:39.401256Z"
    }
   },
   "outputs": [
    {
     "data": {
      "text/plain": [
       "array(['Japan', 'Netherlands', 'Austria', 'Finland', 'United Kingdom',\n",
       "       'India', 'United States', 'France', 'Iran', 'Germany', 'Australia',\n",
       "       'Brazil', 'Thailand', 'Russia', 'Taiwan', 'Canada', 'Spain',\n",
       "       'Israel', 'Colombia', 'Iraq', 'Indonesia', 'Korea',\n",
       "       'United Arab Emirates', 'Belgium', 'Saudi Arabia', 'Sweden',\n",
       "       'Poland', 'Mexico', 'Italy', 'Egypt', 'Nigeria', 'Pakistan',\n",
       "       'Portugal', 'Venezuela', 'Hong Kong', 'Switzerland', 'Denmark',\n",
       "       'Norway', 'Greece', 'Ireland', 'South Africa', 'Malaysia',\n",
       "       'Philippines', 'Argentina', 'Turkey', 'Singapore', 'Chile'],\n",
       "      dtype=object)"
      ]
     },
     "execution_count": 17,
     "metadata": {},
     "output_type": "execute_result"
    }
   ],
   "source": [
    "pd.unique(daily.location)"
   ]
  },
  {
   "cell_type": "code",
   "execution_count": 18,
   "metadata": {
    "ExecuteTime": {
     "end_time": "2020-11-09T23:33:39.439016Z",
     "start_time": "2020-11-09T23:33:39.416880Z"
    }
   },
   "outputs": [
    {
     "data": {
      "text/plain": [
       "47"
      ]
     },
     "execution_count": 18,
     "metadata": {},
     "output_type": "execute_result"
    }
   ],
   "source": [
    "len(pd.unique(daily.location))"
   ]
  },
  {
   "cell_type": "code",
   "execution_count": 19,
   "metadata": {
    "ExecuteTime": {
     "end_time": "2020-11-09T23:33:40.257832Z",
     "start_time": "2020-11-09T23:33:39.439016Z"
    }
   },
   "outputs": [
    {
     "data": {
      "image/png": "[encoded data removed]",
      "text/plain": [
       "<Figure size 1080x1080 with 1 Axes>"
      ]
     },
     "metadata": {},
     "output_type": "display_data"
    }
   ],
   "source": [
    "sns.set_theme(style='whitegrid', font_scale=1.5)\n",
    "fig, ax = plt.subplots(figsize=(15,15))\n",
    "ax = sns.countplot(y='location', data=daily)"
   ]
  },
  {
   "cell_type": "code",
   "execution_count": 20,
   "metadata": {
    "ExecuteTime": {
     "end_time": "2020-11-09T23:33:46.523011Z",
     "start_time": "2020-11-09T23:33:40.259847Z"
    },
    "scrolled": false
   },
   "outputs": [
    {
     "data": {
      "text/html": [
       "\n",
       "    <div class=\"bk-root\">\n",
       "        <a href=\"https://bokeh.org\" target=\"_blank\" class=\"bk-logo bk-logo-small bk-logo-notebook\"></a>\n",
       "        <span id=\"1177\">Loading BokehJS ...</span>\n",
       "    </div>"
      ]
     },
     "metadata": {},
     "output_type": "display_data"
    },
    {
     "data": {
      "application/javascript": [
       "\n",
       "(function(root) {\n",
       "  function now() {\n",
       "    return new Date();\n",
       "  }\n",
       "\n",
       "  var force = true;\n",
       "\n",
       "  if (typeof root._bokeh_onload_callbacks === \"undefined\" || force === true) {\n",
       "    root._bokeh_onload_callbacks = [];\n",
       "    root._bokeh_is_loading = undefined;\n",
       "  }\n",
       "\n",
       "  var JS_MIME_TYPE = 'application/javascript';\n",
       "  var HTML_MIME_TYPE = 'text/html';\n",
       "  var EXEC_MIME_TYPE = 'application/vnd.bokehjs_exec.v0+json';\n",
       "  var CLASS_NAME = 'output_bokeh rendered_html';\n",
       "\n",
       "  /**\n",
       "   * Render data to the DOM node\n",
       "   */\n",
       "  function render(props, node) {\n",
       "    var script = document.createElement(\"script\");\n",
       "    node.appendChild(script);\n",
       "  }\n",
       "\n",
       "  /**\n",
       "   * Handle when an output is cleared or removed\n",
       "   */\n",
       "  function handleClearOutput(event, handle) {\n",
       "    var cell = handle.cell;\n",
       "\n",
       "    var id = cell.output_area._bokeh_element_id;\n",
       "    var server_id = cell.output_area._bokeh_server_id;\n",
       "    // Clean up Bokeh references\n",
       "    if (id != null && id in Bokeh.index) {\n",
       "      Bokeh.index[id].model.document.clear();\n",
       "      delete Bokeh.index[id];\n",
       "    }\n",
       "\n",
       "    if (server_id !== undefined) {\n",
       "      // Clean up Bokeh references\n",
       "      var cmd = \"from bokeh.io.state import curstate; print(curstate().uuid_to_server['\" + server_id + \"'].get_sessions()[0].document.roots[0]._id)\";\n",
       "      cell.notebook.kernel.execute(cmd, {\n",
       "        iopub: {\n",
       "          output: function(msg) {\n",
       "            var id = msg.content.text.trim();\n",
       "            if (id in Bokeh.index) {\n",
       "              Bokeh.index[id].model.document.clear();\n",
       "              delete Bokeh.index[id];\n",
       "            }\n",
       "          }\n",
       "        }\n",
       "      });\n",
       "      // Destroy server and session\n",
       "      var cmd = \"import bokeh.io.notebook as ion; ion.destroy_server('\" + server_id + \"')\";\n",
       "      cell.notebook.kernel.execute(cmd);\n",
       "    }\n",
       "  }\n",
       "\n",
       "  /**\n",
       "   * Handle when a new output is added\n",
       "   */\n",
       "  function handleAddOutput(event, handle) {\n",
       "    var output_area = handle.output_area;\n",
       "    var output = handle.output;\n",
       "\n",
       "    // limit handleAddOutput to display_data with EXEC_MIME_TYPE content only\n",
       "    if ((output.output_type != \"display_data\") || (!output.data.hasOwnProperty(EXEC_MIME_TYPE))) {\n",
       "      return\n",
       "    }\n",
       "\n",
       "    var toinsert = output_area.element.find(\".\" + CLASS_NAME.split(' ')[0]);\n",
       "\n",
       "    if (output.metadata[EXEC_MIME_TYPE][\"id\"] !== undefined) {\n",
       "      toinsert[toinsert.length - 1].firstChild.textContent = output.data[JS_MIME_TYPE];\n",
       "      // store reference to embed id on output_area\n",
       "      output_area._bokeh_element_id = output.metadata[EXEC_MIME_TYPE][\"id\"];\n",
       "    }\n",
       "    if (output.metadata[EXEC_MIME_TYPE][\"server_id\"] !== undefined) {\n",
       "      var bk_div = document.createElement(\"div\");\n",
       "      bk_div.innerHTML = output.data[HTML_MIME_TYPE];\n",
       "      var script_attrs = bk_div.children[0].attributes;\n",
       "      for (var i = 0; i < script_attrs.length; i++) {\n",
       "        toinsert[toinsert.length - 1].firstChild.setAttribute(script_attrs[i].name, script_attrs[i].value);\n",
       "        toinsert[toinsert.length - 1].firstChild.textContent = bk_div.children[0].textContent\n",
       "      }\n",
       "      // store reference to server id on output_area\n",
       "      output_area._bokeh_server_id = output.metadata[EXEC_MIME_TYPE][\"server_id\"];\n",
       "    }\n",
       "  }\n",
       "\n",
       "  function register_renderer(events, OutputArea) {\n",
       "\n",
       "    function append_mime(data, metadata, element) {\n",
       "      // create a DOM node to render to\n",
       "      var toinsert = this.create_output_subarea(\n",
       "        metadata,\n",
       "        CLASS_NAME,\n",
       "        EXEC_MIME_TYPE\n",
       "      );\n",
       "      this.keyboard_manager.register_events(toinsert);\n",
       "      // Render to node\n",
       "      var props = {data: data, metadata: metadata[EXEC_MIME_TYPE]};\n",
       "      render(props, toinsert[toinsert.length - 1]);\n",
       "      element.append(toinsert);\n",
       "      return toinsert\n",
       "    }\n",
       "\n",
       "    /* Handle when an output is cleared or removed */\n",
       "    events.on('clear_output.CodeCell', handleClearOutput);\n",
       "    events.on('delete.Cell', handleClearOutput);\n",
       "\n",
       "    /* Handle when a new output is added */\n",
       "    events.on('output_added.OutputArea', handleAddOutput);\n",
       "\n",
       "    /**\n",
       "     * Register the mime type and append_mime function with output_area\n",
       "     */\n",
       "    OutputArea.prototype.register_mime_type(EXEC_MIME_TYPE, append_mime, {\n",
       "      /* Is output safe? */\n",
       "      safe: true,\n",
       "      /* Index of renderer in `output_area.display_order` */\n",
       "      index: 0\n",
       "    });\n",
       "  }\n",
       "\n",
       "  // register the mime type if in Jupyter Notebook environment and previously unregistered\n",
       "  if (root.Jupyter !== undefined) {\n",
       "    var events = require('base/js/events');\n",
       "    var OutputArea = require('notebook/js/outputarea').OutputArea;\n",
       "\n",
       "    if (OutputArea.prototype.mime_types().indexOf(EXEC_MIME_TYPE) == -1) {\n",
       "      register_renderer(events, OutputArea);\n",
       "    }\n",
       "  }\n",
       "\n",
       "  \n",
       "  if (typeof (root._bokeh_timeout) === \"undefined\" || force === true) {\n",
       "    root._bokeh_timeout = Date.now() + 5000;\n",
       "    root._bokeh_failed_load = false;\n",
       "  }\n",
       "\n",
       "  var NB_LOAD_WARNING = {'data': {'text/html':\n",
       "     \"<div style='background-color: #fdd'>\\n\"+\n",
       "     \"<p>\\n\"+\n",
       "     \"BokehJS does not appear to have successfully loaded. If loading BokehJS from CDN, this \\n\"+\n",
       "     \"may be due to a slow or bad network connection. Possible fixes:\\n\"+\n",
       "     \"</p>\\n\"+\n",
       "     \"<ul>\\n\"+\n",
       "     \"<li>re-rerun `output_notebook()` to attempt to load from CDN again, or</li>\\n\"+\n",
       "     \"<li>use INLINE resources instead, as so:</li>\\n\"+\n",
       "     \"</ul>\\n\"+\n",
       "     \"<code>\\n\"+\n",
       "     \"from bokeh.resources import INLINE\\n\"+\n",
       "     \"output_notebook(resources=INLINE)\\n\"+\n",
       "     \"</code>\\n\"+\n",
       "     \"</div>\"}};\n",
       "\n",
       "  function display_loaded() {\n",
       "    var el = document.getElementById(\"1177\");\n",
       "    if (el != null) {\n",
       "      el.textContent = \"BokehJS is loading...\";\n",
       "    }\n",
       "    if (root.Bokeh !== undefined) {\n",
       "      if (el != null) {\n",
       "        el.textContent = \"BokehJS \" + root.Bokeh.version + \" successfully loaded.\";\n",
       "      }\n",
       "    } else if (Date.now() < root._bokeh_timeout) {\n",
       "      setTimeout(display_loaded, 100)\n",
       "    }\n",
       "  }\n",
       "\n",
       "\n",
       "  function run_callbacks() {\n",
       "    try {\n",
       "      root._bokeh_onload_callbacks.forEach(function(callback) {\n",
       "        if (callback != null)\n",
       "          callback();\n",
       "      });\n",
       "    } finally {\n",
       "      delete root._bokeh_onload_callbacks\n",
       "    }\n",
       "    console.debug(\"Bokeh: all callbacks have finished\");\n",
       "  }\n",
       "\n",
       "  function load_libs(css_urls, js_urls, callback) {\n",
       "    if (css_urls == null) css_urls = [];\n",
       "    if (js_urls == null) js_urls = [];\n",
       "\n",
       "    root._bokeh_onload_callbacks.push(callback);\n",
       "    if (root._bokeh_is_loading > 0) {\n",
       "      console.debug(\"Bokeh: BokehJS is being loaded, scheduling callback at\", now());\n",
       "      return null;\n",
       "    }\n",
       "    if (js_urls == null || js_urls.length === 0) {\n",
       "      run_callbacks();\n",
       "      return null;\n",
       "    }\n",
       "    console.debug(\"Bokeh: BokehJS not loaded, scheduling load and callback at\", now());\n",
       "    root._bokeh_is_loading = css_urls.length + js_urls.length;\n",
       "\n",
       "    function on_load() {\n",
       "      root._bokeh_is_loading--;\n",
       "      if (root._bokeh_is_loading === 0) {\n",
       "        console.debug(\"Bokeh: all BokehJS libraries/stylesheets loaded\");\n",
       "        run_callbacks()\n",
       "      }\n",
       "    }\n",
       "\n",
       "    function on_error() {\n",
       "      console.error(\"failed to load \" + url);\n",
       "    }\n",
       "\n",
       "    for (var i = 0; i < css_urls.length; i++) {\n",
       "      var url = css_urls[i];\n",
       "      const element = document.createElement(\"link\");\n",
       "      element.onload = on_load;\n",
       "      element.onerror = on_error;\n",
       "      element.rel = \"stylesheet\";\n",
       "      element.type = \"text/css\";\n",
       "      element.href = url;\n",
       "      console.debug(\"Bokeh: injecting link tag for BokehJS stylesheet: \", url);\n",
       "      document.body.appendChild(element);\n",
       "    }\n",
       "\n",
       "    const hashes = {\"https://cdn.bokeh.org/bokeh/release/bokeh-2.2.1.min.js\": \"qkRvDQVAIfzsJo40iRBbxt6sttt0hv4lh74DG7OK4MCHv4C5oohXYoHUM5W11uqS\", \"https://cdn.bokeh.org/bokeh/release/bokeh-widgets-2.2.1.min.js\": \"Sb7Mr06a9TNlet/GEBeKaf5xH3eb6AlCzwjtU82wNPyDrnfoiVl26qnvlKjmcAd+\", \"https://cdn.bokeh.org/bokeh/release/bokeh-tables-2.2.1.min.js\": \"HaJ15vgfmcfRtB4c4YBOI4f1MUujukqInOWVqZJZZGK7Q+ivud0OKGSTn/Vm2iso\"};\n",
       "\n",
       "    for (var i = 0; i < js_urls.length; i++) {\n",
       "      var url = js_urls[i];\n",
       "      var element = document.createElement('script');\n",
       "      element.onload = on_load;\n",
       "      element.onerror = on_error;\n",
       "      element.async = false;\n",
       "      element.src = url;\n",
       "      if (url in hashes) {\n",
       "        element.crossOrigin = \"anonymous\";\n",
       "        element.integrity = \"sha384-\" + hashes[url];\n",
       "      }\n",
       "      console.debug(\"Bokeh: injecting script tag for BokehJS library: \", url);\n",
       "      document.head.appendChild(element);\n",
       "    }\n",
       "  };\n",
       "\n",
       "  function inject_raw_css(css) {\n",
       "    const element = document.createElement(\"style\");\n",
       "    element.appendChild(document.createTextNode(css));\n",
       "    document.body.appendChild(element);\n",
       "  }\n",
       "\n",
       "  \n",
       "  var js_urls = [\"https://cdn.bokeh.org/bokeh/release/bokeh-2.2.1.min.js\", \"https://cdn.bokeh.org/bokeh/release/bokeh-widgets-2.2.1.min.js\", \"https://cdn.bokeh.org/bokeh/release/bokeh-tables-2.2.1.min.js\"];\n",
       "  var css_urls = [];\n",
       "  \n",
       "\n",
       "  var inline_js = [\n",
       "    function(Bokeh) {\n",
       "      Bokeh.set_log_level(\"info\");\n",
       "    },\n",
       "    function(Bokeh) {\n",
       "    \n",
       "    \n",
       "    }\n",
       "  ];\n",
       "\n",
       "  function run_inline_js() {\n",
       "    \n",
       "    if (root.Bokeh !== undefined || force === true) {\n",
       "      \n",
       "    for (var i = 0; i < inline_js.length; i++) {\n",
       "      inline_js[i].call(root, root.Bokeh);\n",
       "    }\n",
       "    if (force === true) {\n",
       "        display_loaded();\n",
       "      }} else if (Date.now() < root._bokeh_timeout) {\n",
       "      setTimeout(run_inline_js, 100);\n",
       "    } else if (!root._bokeh_failed_load) {\n",
       "      console.log(\"Bokeh: BokehJS failed to load within specified timeout.\");\n",
       "      root._bokeh_failed_load = true;\n",
       "    } else if (force !== true) {\n",
       "      var cell = $(document.getElementById(\"1177\")).parents('.cell').data().cell;\n",
       "      cell.output_area.append_execute_result(NB_LOAD_WARNING)\n",
       "    }\n",
       "\n",
       "  }\n",
       "\n",
       "  if (root._bokeh_is_loading === 0) {\n",
       "    console.debug(\"Bokeh: BokehJS loaded, going straight to plotting\");\n",
       "    run_inline_js();\n",
       "  } else {\n",
       "    load_libs(css_urls, js_urls, function() {\n",
       "      console.debug(\"Bokeh: BokehJS plotting callback run at\", now());\n",
       "      run_inline_js();\n",
       "    });\n",
       "  }\n",
       "}(window));"
      ],
      "application/vnd.bokehjs_load.v0+json": "\n(function(root) {\n  function now() {\n    return new Date();\n  }\n\n  var force = true;\n\n  if (typeof root._bokeh_onload_callbacks === \"undefined\" || force === true) {\n    root._bokeh_onload_callbacks = [];\n    root._bokeh_is_loading = undefined;\n  }\n\n  \n\n  \n  if (typeof (root._bokeh_timeout) === \"undefined\" || force === true) {\n    root._bokeh_timeout = Date.now() + 5000;\n    root._bokeh_failed_load = false;\n  }\n\n  var NB_LOAD_WARNING = {'data': {'text/html':\n     \"<div style='background-color: #fdd'>\\n\"+\n     \"<p>\\n\"+\n     \"BokehJS does not appear to have successfully loaded. If loading BokehJS from CDN, this \\n\"+\n     \"may be due to a slow or bad network connection. Possible fixes:\\n\"+\n     \"</p>\\n\"+\n     \"<ul>\\n\"+\n     \"<li>re-rerun `output_notebook()` to attempt to load from CDN again, or</li>\\n\"+\n     \"<li>use INLINE resources instead, as so:</li>\\n\"+\n     \"</ul>\\n\"+\n     \"<code>\\n\"+\n     \"from bokeh.resources import INLINE\\n\"+\n     \"output_notebook(resources=INLINE)\\n\"+\n     \"</code>\\n\"+\n     \"</div>\"}};\n\n  function display_loaded() {\n    var el = document.getElementById(\"1177\");\n    if (el != null) {\n      el.textContent = \"BokehJS is loading...\";\n    }\n    if (root.Bokeh !== undefined) {\n      if (el != null) {\n        el.textContent = \"BokehJS \" + root.Bokeh.version + \" successfully loaded.\";\n      }\n    } else if (Date.now() < root._bokeh_timeout) {\n      setTimeout(display_loaded, 100)\n    }\n  }\n\n\n  function run_callbacks() {\n    try {\n      root._bokeh_onload_callbacks.forEach(function(callback) {\n        if (callback != null)\n          callback();\n      });\n    } finally {\n      delete root._bokeh_onload_callbacks\n    }\n    console.debug(\"Bokeh: all callbacks have finished\");\n  }\n\n  function load_libs(css_urls, js_urls, callback) {\n    if (css_urls == null) css_urls = [];\n    if (js_urls == null) js_urls = [];\n\n    root._bokeh_onload_callbacks.push(callback);\n    if (root._bokeh_is_loading > 0) {\n      console.debug(\"Bokeh: BokehJS is being loaded, scheduling callback at\", now());\n      return null;\n    }\n    if (js_urls == null || js_urls.length === 0) {\n      run_callbacks();\n      return null;\n    }\n    console.debug(\"Bokeh: BokehJS not loaded, scheduling load and callback at\", now());\n    root._bokeh_is_loading = css_urls.length + js_urls.length;\n\n    function on_load() {\n      root._bokeh_is_loading--;\n      if (root._bokeh_is_loading === 0) {\n        console.debug(\"Bokeh: all BokehJS libraries/stylesheets loaded\");\n        run_callbacks()\n      }\n    }\n\n    function on_error() {\n      console.error(\"failed to load \" + url);\n    }\n\n    for (var i = 0; i < css_urls.length; i++) {\n      var url = css_urls[i];\n      const element = document.createElement(\"link\");\n      element.onload = on_load;\n      element.onerror = on_error;\n      element.rel = \"stylesheet\";\n      element.type = \"text/css\";\n      element.href = url;\n      console.debug(\"Bokeh: injecting link tag for BokehJS stylesheet: \", url);\n      document.body.appendChild(element);\n    }\n\n    const hashes = {\"https://cdn.bokeh.org/bokeh/release/bokeh-2.2.1.min.js\": \"qkRvDQVAIfzsJo40iRBbxt6sttt0hv4lh74DG7OK4MCHv4C5oohXYoHUM5W11uqS\", \"https://cdn.bokeh.org/bokeh/release/bokeh-widgets-2.2.1.min.js\": \"Sb7Mr06a9TNlet/GEBeKaf5xH3eb6AlCzwjtU82wNPyDrnfoiVl26qnvlKjmcAd+\", \"https://cdn.bokeh.org/bokeh/release/bokeh-tables-2.2.1.min.js\": \"HaJ15vgfmcfRtB4c4YBOI4f1MUujukqInOWVqZJZZGK7Q+ivud0OKGSTn/Vm2iso\"};\n\n    for (var i = 0; i < js_urls.length; i++) {\n      var url = js_urls[i];\n      var element = document.createElement('script');\n      element.onload = on_load;\n      element.onerror = on_error;\n      element.async = false;\n      element.src = url;\n      if (url in hashes) {\n        element.crossOrigin = \"anonymous\";\n        element.integrity = \"sha384-\" + hashes[url];\n      }\n      console.debug(\"Bokeh: injecting script tag for BokehJS library: \", url);\n      document.head.appendChild(element);\n    }\n  };\n\n  function inject_raw_css(css) {\n    const element = document.createElement(\"style\");\n    element.appendChild(document.createTextNode(css));\n    document.body.appendChild(element);\n  }\n\n  \n  var js_urls = [\"https://cdn.bokeh.org/bokeh/release/bokeh-2.2.1.min.js\", \"https://cdn.bokeh.org/bokeh/release/bokeh-widgets-2.2.1.min.js\", \"https://cdn.bokeh.org/bokeh/release/bokeh-tables-2.2.1.min.js\"];\n  var css_urls = [];\n  \n\n  var inline_js = [\n    function(Bokeh) {\n      Bokeh.set_log_level(\"info\");\n    },\n    function(Bokeh) {\n    \n    \n    }\n  ];\n\n  function run_inline_js() {\n    \n    if (root.Bokeh !== undefined || force === true) {\n      \n    for (var i = 0; i < inline_js.length; i++) {\n      inline_js[i].call(root, root.Bokeh);\n    }\n    if (force === true) {\n        display_loaded();\n      }} else if (Date.now() < root._bokeh_timeout) {\n      setTimeout(run_inline_js, 100);\n    } else if (!root._bokeh_failed_load) {\n      console.log(\"Bokeh: BokehJS failed to load within specified timeout.\");\n      root._bokeh_failed_load = true;\n    } else if (force !== true) {\n      var cell = $(document.getElementById(\"1177\")).parents('.cell').data().cell;\n      cell.output_area.append_execute_result(NB_LOAD_WARNING)\n    }\n\n  }\n\n  if (root._bokeh_is_loading === 0) {\n    console.debug(\"Bokeh: BokehJS loaded, going straight to plotting\");\n    run_inline_js();\n  } else {\n    load_libs(css_urls, js_urls, function() {\n      console.debug(\"Bokeh: BokehJS plotting callback run at\", now());\n      run_inline_js();\n    });\n  }\n}(window));"
     },
     "metadata": {},
     "output_type": "display_data"
    },
    {
     "name": "stdout",
     "output_type": "stream",
     "text": [
      "Japan\n"
     ]
    },
    {
     "data": {
      "text/html": [
       "\n",
       "\n",
       "\n",
       "\n",
       "\n",
       "\n",
       "  <div class=\"bk-root\" id=\"aa7da172-0dbd-4475-8b54-abad86fa83a6\" data-root-id=\"1178\"></div>\n"
      ]
     },
     "metadata": {},
     "output_type": "display_data"
    },
    {
     "data": {
      "application/javascript": [
       "(function(root) {\n",
       "  function embed_document(root) {\n",
       "    \n",
       "  var docs_json = {\"acb15026-8e5e-4855-ae3c-66167485f287\":{\"roots\":{\"references\":[{\"attributes\":{\"below\":[{\"id\":\"1189\"}],\"center\":[{\"id\":\"1192\"},{\"id\":\"1196\"}],\"left\":[{\"id\":\"1193\"}],\"plot_height\":300,\"plot_width\":500,\"renderers\":[{\"id\":\"1214\"},{\"id\":\"1219\"}],\"title\":{\"id\":\"1179\"},\"toolbar\":{\"id\":\"1204\"},\"x_range\":{\"id\":\"1181\"},\"x_scale\":{\"id\":\"1185\"},\"y_range\":{\"id\":\"1183\"},\"y_scale\":{\"id\":\"1187\"}},\"id\":\"1178\",\"subtype\":\"Figure\",\"type\":\"Plot\"},{\"attributes\":{},\"id\":\"1244\",\"type\":\"DatetimeTickFormatter\"},{\"attributes\":{\"days\":[1,4,7,10,13,16,19,22,25,28]},\"id\":\"1252\",\"type\":\"DaysTicker\"},{\"attributes\":{\"days\":[1,15]},\"id\":\"1254\",\"type\":\"DaysTicker\"},{\"attributes\":{\"months\":[0,6]},\"id\":\"1258\",\"type\":\"MonthsTicker\"},{\"attributes\":{\"days\":[1,8,15,22]},\"id\":\"1253\",\"type\":\"DaysTicker\"},{\"attributes\":{},\"id\":\"1194\",\"type\":\"BasicTicker\"},{\"attributes\":{},\"id\":\"1259\",\"type\":\"YearsTicker\"},{\"attributes\":{\"months\":[0,1,2,3,4,5,6,7,8,9,10,11]},\"id\":\"1255\",\"type\":\"MonthsTicker\"},{\"attributes\":{\"fill_color\":{\"value\":\"#1f77b4\"},\"line_color\":{\"value\":\"#1f77b4\"},\"x\":{\"field\":\"x\"},\"y\":{\"field\":\"y\"}},\"id\":\"1212\",\"type\":\"Scatter\"},{\"attributes\":{\"months\":[0,2,4,6,8,10]},\"id\":\"1256\",\"type\":\"MonthsTicker\"},{\"attributes\":{\"bottom_units\":\"screen\",\"fill_alpha\":0.5,\"fill_color\":\"lightgrey\",\"left_units\":\"screen\",\"level\":\"overlay\",\"line_alpha\":1.0,\"line_color\":\"black\",\"line_dash\":[4,4],\"line_width\":2,\"right_units\":\"screen\",\"top_units\":\"screen\"},\"id\":\"1203\",\"type\":\"BoxAnnotation\"},{\"attributes\":{\"overlay\":{\"id\":\"1203\"}},\"id\":\"1199\",\"type\":\"BoxZoomTool\"},{\"attributes\":{\"axis\":{\"id\":\"1193\"},\"dimension\":1,\"ticker\":null},\"id\":\"1196\",\"type\":\"Grid\"},{\"attributes\":{\"months\":[0,4,8]},\"id\":\"1257\",\"type\":\"MonthsTicker\"},{\"attributes\":{\"active_drag\":\"auto\",\"active_inspect\":\"auto\",\"active_multi\":null,\"active_scroll\":\"auto\",\"active_tap\":\"auto\",\"tools\":[{\"id\":\"1197\"},{\"id\":\"1198\"},{\"id\":\"1199\"},{\"id\":\"1200\"},{\"id\":\"1201\"},{\"id\":\"1202\"}]},\"id\":\"1204\",\"type\":\"Toolbar\"},{\"attributes\":{\"text\":\"Count of weekly active users\"},\"id\":\"1179\",\"type\":\"Title\"},{\"attributes\":{},\"id\":\"1187\",\"type\":\"LinearScale\"},{\"attributes\":{\"num_minor_ticks\":5,\"tickers\":[{\"id\":\"1248\"},{\"id\":\"1249\"},{\"id\":\"1250\"},{\"id\":\"1251\"},{\"id\":\"1252\"},{\"id\":\"1253\"},{\"id\":\"1254\"},{\"id\":\"1255\"},{\"id\":\"1256\"},{\"id\":\"1257\"},{\"id\":\"1258\"},{\"id\":\"1259\"}]},\"id\":\"1190\",\"type\":\"DatetimeTicker\"},{\"attributes\":{},\"id\":\"1185\",\"type\":\"LinearScale\"},{\"attributes\":{\"axis\":{\"id\":\"1189\"},\"ticker\":null},\"id\":\"1192\",\"type\":\"Grid\"},{\"attributes\":{},\"id\":\"1197\",\"type\":\"PanTool\"},{\"attributes\":{\"data\":{\"x\":{\"__ndarray__\":\"AACAe0hcdEIAAMBDiV50QgAAAAzKYHRCAABA1ApjdEIAAICcS2V0QgAAwGSMZ3RCAAAALc1pdEIAAED1DWx0QgAAgL1ObnRCAADAhY9wdEIAAABO0HJ0QgAAQBYRdXRCAACA3lF3dEIAAMCmknl0QgAAAG/Te3RCAABANxR+dEIAAID/VIB0QgAAwMeVgnRC\",\"dtype\":\"float64\",\"order\":\"little\",\"shape\":[18]},\"y\":[47,76,80,80,85,87,90,90,86,100,97,89,107,107,99,89,94,84]},\"selected\":{\"id\":\"1260\"},\"selection_policy\":{\"id\":\"1261\"}},\"id\":\"1211\",\"type\":\"ColumnDataSource\"},{\"attributes\":{},\"id\":\"1260\",\"type\":\"Selection\"},{\"attributes\":{\"data_source\":{\"id\":\"1216\"},\"glyph\":{\"id\":\"1217\"},\"hover_glyph\":null,\"muted_glyph\":null,\"nonselection_glyph\":{\"id\":\"1218\"},\"selection_glyph\":null,\"view\":{\"id\":\"1220\"}},\"id\":\"1219\",\"type\":\"GlyphRenderer\"},{\"attributes\":{},\"id\":\"1183\",\"type\":\"DataRange1d\"},{\"attributes\":{},\"id\":\"1261\",\"type\":\"UnionRenderers\"},{\"attributes\":{},\"id\":\"1181\",\"type\":\"DataRange1d\"},{\"attributes\":{},\"id\":\"1198\",\"type\":\"WheelZoomTool\"},{\"attributes\":{},\"id\":\"1202\",\"type\":\"HelpTool\"},{\"attributes\":{\"axis_label\":\"Time (weekly)\",\"formatter\":{\"id\":\"1244\"},\"ticker\":{\"id\":\"1190\"}},\"id\":\"1189\",\"type\":\"DatetimeAxis\"},{\"attributes\":{\"data\":{\"x\":{\"__ndarray__\":\"AACAe0hcdEIAAMBDiV50QgAAAAzKYHRCAABA1ApjdEIAAICcS2V0QgAAwGSMZ3RCAAAALc1pdEIAAED1DWx0QgAAgL1ObnRCAADAhY9wdEIAAABO0HJ0QgAAQBYRdXRCAACA3lF3dEIAAMCmknl0QgAAAG/Te3RCAABANxR+dEIAAID/VIB0QgAAwMeVgnRC\",\"dtype\":\"float64\",\"order\":\"little\",\"shape\":[18]},\"y\":[47,76,80,80,85,87,90,90,86,100,97,89,107,107,99,89,94,84]},\"selected\":{\"id\":\"1262\"},\"selection_policy\":{\"id\":\"1263\"}},\"id\":\"1216\",\"type\":\"ColumnDataSource\"},{\"attributes\":{},\"id\":\"1201\",\"type\":\"ResetTool\"},{\"attributes\":{\"fill_alpha\":{\"value\":0.1},\"fill_color\":{\"value\":\"#1f77b4\"},\"line_alpha\":{\"value\":0.1},\"line_color\":{\"value\":\"#1f77b4\"},\"x\":{\"field\":\"x\"},\"y\":{\"field\":\"y\"}},\"id\":\"1213\",\"type\":\"Scatter\"},{\"attributes\":{\"axis_label\":\"Counts\",\"formatter\":{\"id\":\"1246\"},\"ticker\":{\"id\":\"1194\"}},\"id\":\"1193\",\"type\":\"LinearAxis\"},{\"attributes\":{},\"id\":\"1246\",\"type\":\"BasicTickFormatter\"},{\"attributes\":{},\"id\":\"1262\",\"type\":\"Selection\"},{\"attributes\":{},\"id\":\"1200\",\"type\":\"SaveTool\"},{\"attributes\":{\"line_color\":\"#1f77b4\",\"x\":{\"field\":\"x\"},\"y\":{\"field\":\"y\"}},\"id\":\"1217\",\"type\":\"Line\"},{\"attributes\":{\"source\":{\"id\":\"1211\"}},\"id\":\"1215\",\"type\":\"CDSView\"},{\"attributes\":{},\"id\":\"1263\",\"type\":\"UnionRenderers\"},{\"attributes\":{\"data_source\":{\"id\":\"1211\"},\"glyph\":{\"id\":\"1212\"},\"hover_glyph\":null,\"muted_glyph\":null,\"nonselection_glyph\":{\"id\":\"1213\"},\"selection_glyph\":null,\"view\":{\"id\":\"1215\"}},\"id\":\"1214\",\"type\":\"GlyphRenderer\"},{\"attributes\":{\"source\":{\"id\":\"1216\"}},\"id\":\"1220\",\"type\":\"CDSView\"},{\"attributes\":{\"mantissas\":[1,2,5],\"max_interval\":500.0,\"num_minor_ticks\":0},\"id\":\"1248\",\"type\":\"AdaptiveTicker\"},{\"attributes\":{\"base\":60,\"mantissas\":[1,2,5,10,15,20,30],\"max_interval\":1800000.0,\"min_interval\":1000.0,\"num_minor_ticks\":0},\"id\":\"1249\",\"type\":\"AdaptiveTicker\"},{\"attributes\":{\"line_alpha\":0.1,\"line_color\":\"#1f77b4\",\"x\":{\"field\":\"x\"},\"y\":{\"field\":\"y\"}},\"id\":\"1218\",\"type\":\"Line\"},{\"attributes\":{\"days\":[1,2,3,4,5,6,7,8,9,10,11,12,13,14,15,16,17,18,19,20,21,22,23,24,25,26,27,28,29,30,31]},\"id\":\"1251\",\"type\":\"DaysTicker\"},{\"attributes\":{\"base\":24,\"mantissas\":[1,2,4,6,8,12],\"max_interval\":43200000.0,\"min_interval\":3600000.0,\"num_minor_ticks\":0},\"id\":\"1250\",\"type\":\"AdaptiveTicker\"}],\"root_ids\":[\"1178\"]},\"title\":\"Bokeh Application\",\"version\":\"2.2.1\"}};\n",
       "  var render_items = [{\"docid\":\"acb15026-8e5e-4855-ae3c-66167485f287\",\"root_ids\":[\"1178\"],\"roots\":{\"1178\":\"aa7da172-0dbd-4475-8b54-abad86fa83a6\"}}];\n",
       "  root.Bokeh.embed.embed_items_notebook(docs_json, render_items);\n",
       "\n",
       "  }\n",
       "  if (root.Bokeh !== undefined) {\n",
       "    embed_document(root);\n",
       "  } else {\n",
       "    var attempts = 0;\n",
       "    var timer = setInterval(function(root) {\n",
       "      if (root.Bokeh !== undefined) {\n",
       "        clearInterval(timer);\n",
       "        embed_document(root);\n",
       "      } else {\n",
       "        attempts++;\n",
       "        if (attempts > 100) {\n",
       "          clearInterval(timer);\n",
       "          console.log(\"Bokeh: ERROR: Unable to run BokehJS code because BokehJS library is missing\");\n",
       "        }\n",
       "      }\n",
       "    }, 10, root)\n",
       "  }\n",
       "})(window);"
      ],
      "application/vnd.bokehjs_exec.v0+json": ""
     },
     "metadata": {
      "application/vnd.bokehjs_exec.v0+json": {
       "id": "1178"
      }
     },
     "output_type": "display_data"
    },
    {
     "name": "stdout",
     "output_type": "stream",
     "text": [
      "Netherlands\n"
     ]
    },
    {
     "data": {
      "text/html": [
       "\n",
       "\n",
       "\n",
       "\n",
       "\n",
       "\n",
       "  <div class=\"bk-root\" id=\"1ebcdbf8-91a8-4bb3-9c2e-e4c7fda8a823\" data-root-id=\"1375\"></div>\n"
      ]
     },
     "metadata": {},
     "output_type": "display_data"
    },
    {
     "data": {
      "application/javascript": [
       "(function(root) {\n",
       "  function embed_document(root) {\n",
       "    \n",
       "  var docs_json = {\"349c799b-16a2-4e62-8776-75438e0abb43\":{\"roots\":{\"references\":[{\"attributes\":{\"below\":[{\"id\":\"1386\"}],\"center\":[{\"id\":\"1389\"},{\"id\":\"1393\"}],\"left\":[{\"id\":\"1390\"}],\"plot_height\":300,\"plot_width\":500,\"renderers\":[{\"id\":\"1411\"},{\"id\":\"1416\"}],\"title\":{\"id\":\"1376\"},\"toolbar\":{\"id\":\"1401\"},\"x_range\":{\"id\":\"1378\"},\"x_scale\":{\"id\":\"1382\"},\"y_range\":{\"id\":\"1380\"},\"y_scale\":{\"id\":\"1384\"}},\"id\":\"1375\",\"subtype\":\"Figure\",\"type\":\"Plot\"},{\"attributes\":{\"fill_color\":{\"value\":\"#1f77b4\"},\"line_color\":{\"value\":\"#1f77b4\"},\"x\":{\"field\":\"x\"},\"y\":{\"field\":\"y\"}},\"id\":\"1409\",\"type\":\"Scatter\"},{\"attributes\":{\"data\":{\"x\":{\"__ndarray__\":\"AACAe0hcdEIAAMBDiV50QgAAAAzKYHRCAABA1ApjdEIAAICcS2V0QgAAwGSMZ3RCAAAALc1pdEIAAED1DWx0QgAAgL1ObnRCAADAhY9wdEIAAABO0HJ0QgAAQBYRdXRCAACA3lF3dEIAAMCmknl0QgAAAG/Te3RCAABANxR+dEIAAID/VIB0QgAAwMeVgnRC\",\"dtype\":\"float64\",\"order\":\"little\",\"shape\":[18]},\"y\":[7,9,14,19,16,15,17,21,14,12,21,17,24,26,21,20,16,18]},\"selected\":{\"id\":\"1481\"},\"selection_policy\":{\"id\":\"1482\"}},\"id\":\"1413\",\"type\":\"ColumnDataSource\"},{\"attributes\":{\"fill_alpha\":{\"value\":0.1},\"fill_color\":{\"value\":\"#1f77b4\"},\"line_alpha\":{\"value\":0.1},\"line_color\":{\"value\":\"#1f77b4\"},\"x\":{\"field\":\"x\"},\"y\":{\"field\":\"y\"}},\"id\":\"1410\",\"type\":\"Scatter\"},{\"attributes\":{},\"id\":\"1465\",\"type\":\"BasicTickFormatter\"},{\"attributes\":{},\"id\":\"1378\",\"type\":\"DataRange1d\"},{\"attributes\":{\"months\":[0,6]},\"id\":\"1477\",\"type\":\"MonthsTicker\"},{\"attributes\":{\"line_color\":\"#1f77b4\",\"x\":{\"field\":\"x\"},\"y\":{\"field\":\"y\"}},\"id\":\"1414\",\"type\":\"Line\"},{\"attributes\":{},\"id\":\"1399\",\"type\":\"HelpTool\"},{\"attributes\":{\"source\":{\"id\":\"1408\"}},\"id\":\"1412\",\"type\":\"CDSView\"},{\"attributes\":{\"data_source\":{\"id\":\"1408\"},\"glyph\":{\"id\":\"1409\"},\"hover_glyph\":null,\"muted_glyph\":null,\"nonselection_glyph\":{\"id\":\"1410\"},\"selection_glyph\":null,\"view\":{\"id\":\"1412\"}},\"id\":\"1411\",\"type\":\"GlyphRenderer\"},{\"attributes\":{\"text\":\"Count of weekly active users\"},\"id\":\"1376\",\"type\":\"Title\"},{\"attributes\":{\"source\":{\"id\":\"1413\"}},\"id\":\"1417\",\"type\":\"CDSView\"},{\"attributes\":{\"mantissas\":[1,2,5],\"max_interval\":500.0,\"num_minor_ticks\":0},\"id\":\"1467\",\"type\":\"AdaptiveTicker\"},{\"attributes\":{\"line_alpha\":0.1,\"line_color\":\"#1f77b4\",\"x\":{\"field\":\"x\"},\"y\":{\"field\":\"y\"}},\"id\":\"1415\",\"type\":\"Line\"},{\"attributes\":{\"base\":60,\"mantissas\":[1,2,5,10,15,20,30],\"max_interval\":1800000.0,\"min_interval\":1000.0,\"num_minor_ticks\":0},\"id\":\"1468\",\"type\":\"AdaptiveTicker\"},{\"attributes\":{\"days\":[1,2,3,4,5,6,7,8,9,10,11,12,13,14,15,16,17,18,19,20,21,22,23,24,25,26,27,28,29,30,31]},\"id\":\"1470\",\"type\":\"DaysTicker\"},{\"attributes\":{\"months\":[0,4,8]},\"id\":\"1476\",\"type\":\"MonthsTicker\"},{\"attributes\":{\"base\":24,\"mantissas\":[1,2,4,6,8,12],\"max_interval\":43200000.0,\"min_interval\":3600000.0,\"num_minor_ticks\":0},\"id\":\"1469\",\"type\":\"AdaptiveTicker\"},{\"attributes\":{},\"id\":\"1478\",\"type\":\"YearsTicker\"},{\"attributes\":{\"axis_label\":\"Counts\",\"formatter\":{\"id\":\"1465\"},\"ticker\":{\"id\":\"1391\"}},\"id\":\"1390\",\"type\":\"LinearAxis\"},{\"attributes\":{\"months\":[0,1,2,3,4,5,6,7,8,9,10,11]},\"id\":\"1474\",\"type\":\"MonthsTicker\"},{\"attributes\":{\"months\":[0,2,4,6,8,10]},\"id\":\"1475\",\"type\":\"MonthsTicker\"},{\"attributes\":{},\"id\":\"1480\",\"type\":\"UnionRenderers\"},{\"attributes\":{},\"id\":\"1397\",\"type\":\"SaveTool\"},{\"attributes\":{\"days\":[1,4,7,10,13,16,19,22,25,28]},\"id\":\"1471\",\"type\":\"DaysTicker\"},{\"attributes\":{\"days\":[1,15]},\"id\":\"1473\",\"type\":\"DaysTicker\"},{\"attributes\":{\"axis\":{\"id\":\"1386\"},\"ticker\":null},\"id\":\"1389\",\"type\":\"Grid\"},{\"attributes\":{\"days\":[1,8,15,22]},\"id\":\"1472\",\"type\":\"DaysTicker\"},{\"attributes\":{},\"id\":\"1394\",\"type\":\"PanTool\"},{\"attributes\":{},\"id\":\"1479\",\"type\":\"Selection\"},{\"attributes\":{\"bottom_units\":\"screen\",\"fill_alpha\":0.5,\"fill_color\":\"lightgrey\",\"left_units\":\"screen\",\"level\":\"overlay\",\"line_alpha\":1.0,\"line_color\":\"black\",\"line_dash\":[4,4],\"line_width\":2,\"right_units\":\"screen\",\"top_units\":\"screen\"},\"id\":\"1400\",\"type\":\"BoxAnnotation\"},{\"attributes\":{},\"id\":\"1395\",\"type\":\"WheelZoomTool\"},{\"attributes\":{},\"id\":\"1463\",\"type\":\"DatetimeTickFormatter\"},{\"attributes\":{},\"id\":\"1398\",\"type\":\"ResetTool\"},{\"attributes\":{},\"id\":\"1391\",\"type\":\"BasicTicker\"},{\"attributes\":{},\"id\":\"1380\",\"type\":\"DataRange1d\"},{\"attributes\":{},\"id\":\"1481\",\"type\":\"Selection\"},{\"attributes\":{},\"id\":\"1384\",\"type\":\"LinearScale\"},{\"attributes\":{},\"id\":\"1482\",\"type\":\"UnionRenderers\"},{\"attributes\":{\"axis_label\":\"Time (weekly)\",\"formatter\":{\"id\":\"1463\"},\"ticker\":{\"id\":\"1387\"}},\"id\":\"1386\",\"type\":\"DatetimeAxis\"},{\"attributes\":{\"num_minor_ticks\":5,\"tickers\":[{\"id\":\"1467\"},{\"id\":\"1468\"},{\"id\":\"1469\"},{\"id\":\"1470\"},{\"id\":\"1471\"},{\"id\":\"1472\"},{\"id\":\"1473\"},{\"id\":\"1474\"},{\"id\":\"1475\"},{\"id\":\"1476\"},{\"id\":\"1477\"},{\"id\":\"1478\"}]},\"id\":\"1387\",\"type\":\"DatetimeTicker\"},{\"attributes\":{\"overlay\":{\"id\":\"1400\"}},\"id\":\"1396\",\"type\":\"BoxZoomTool\"},{\"attributes\":{\"axis\":{\"id\":\"1390\"},\"dimension\":1,\"ticker\":null},\"id\":\"1393\",\"type\":\"Grid\"},{\"attributes\":{\"data_source\":{\"id\":\"1413\"},\"glyph\":{\"id\":\"1414\"},\"hover_glyph\":null,\"muted_glyph\":null,\"nonselection_glyph\":{\"id\":\"1415\"},\"selection_glyph\":null,\"view\":{\"id\":\"1417\"}},\"id\":\"1416\",\"type\":\"GlyphRenderer\"},{\"attributes\":{\"data\":{\"x\":{\"__ndarray__\":\"AACAe0hcdEIAAMBDiV50QgAAAAzKYHRCAABA1ApjdEIAAICcS2V0QgAAwGSMZ3RCAAAALc1pdEIAAED1DWx0QgAAgL1ObnRCAADAhY9wdEIAAABO0HJ0QgAAQBYRdXRCAACA3lF3dEIAAMCmknl0QgAAAG/Te3RCAABANxR+dEIAAID/VIB0QgAAwMeVgnRC\",\"dtype\":\"float64\",\"order\":\"little\",\"shape\":[18]},\"y\":[7,9,14,19,16,15,17,21,14,12,21,17,24,26,21,20,16,18]},\"selected\":{\"id\":\"1479\"},\"selection_policy\":{\"id\":\"1480\"}},\"id\":\"1408\",\"type\":\"ColumnDataSource\"},{\"attributes\":{\"active_drag\":\"auto\",\"active_inspect\":\"auto\",\"active_multi\":null,\"active_scroll\":\"auto\",\"active_tap\":\"auto\",\"tools\":[{\"id\":\"1394\"},{\"id\":\"1395\"},{\"id\":\"1396\"},{\"id\":\"1397\"},{\"id\":\"1398\"},{\"id\":\"1399\"}]},\"id\":\"1401\",\"type\":\"Toolbar\"},{\"attributes\":{},\"id\":\"1382\",\"type\":\"LinearScale\"}],\"root_ids\":[\"1375\"]},\"title\":\"Bokeh Application\",\"version\":\"2.2.1\"}};\n",
       "  var render_items = [{\"docid\":\"349c799b-16a2-4e62-8776-75438e0abb43\",\"root_ids\":[\"1375\"],\"roots\":{\"1375\":\"1ebcdbf8-91a8-4bb3-9c2e-e4c7fda8a823\"}}];\n",
       "  root.Bokeh.embed.embed_items_notebook(docs_json, render_items);\n",
       "\n",
       "  }\n",
       "  if (root.Bokeh !== undefined) {\n",
       "    embed_document(root);\n",
       "  } else {\n",
       "    var attempts = 0;\n",
       "    var timer = setInterval(function(root) {\n",
       "      if (root.Bokeh !== undefined) {\n",
       "        clearInterval(timer);\n",
       "        embed_document(root);\n",
       "      } else {\n",
       "        attempts++;\n",
       "        if (attempts > 100) {\n",
       "          clearInterval(timer);\n",
       "          console.log(\"Bokeh: ERROR: Unable to run BokehJS code because BokehJS library is missing\");\n",
       "        }\n",
       "      }\n",
       "    }, 10, root)\n",
       "  }\n",
       "})(window);"
      ],
      "application/vnd.bokehjs_exec.v0+json": ""
     },
     "metadata": {
      "application/vnd.bokehjs_exec.v0+json": {
       "id": "1375"
      }
     },
     "output_type": "display_data"
    },
    {
     "name": "stdout",
     "output_type": "stream",
     "text": [
      "Austria\n"
     ]
    },
    {
     "data": {
      "text/html": [
       "\n",
       "\n",
       "\n",
       "\n",
       "\n",
       "\n",
       "  <div class=\"bk-root\" id=\"7dfd6eb4-5b96-40c8-9f30-12672ecec454\" data-root-id=\"1594\"></div>\n"
      ]
     },
     "metadata": {},
     "output_type": "display_data"
    },
    {
     "data": {
      "application/javascript": [
       "(function(root) {\n",
       "  function embed_document(root) {\n",
       "    \n",
       "  var docs_json = {\"e3fedfb7-ff00-4760-8e64-f682f27b0f8d\":{\"roots\":{\"references\":[{\"attributes\":{\"below\":[{\"id\":\"1605\"}],\"center\":[{\"id\":\"1608\"},{\"id\":\"1612\"}],\"left\":[{\"id\":\"1609\"}],\"plot_height\":300,\"plot_width\":500,\"renderers\":[{\"id\":\"1630\"},{\"id\":\"1635\"}],\"title\":{\"id\":\"1595\"},\"toolbar\":{\"id\":\"1620\"},\"x_range\":{\"id\":\"1597\"},\"x_scale\":{\"id\":\"1601\"},\"y_range\":{\"id\":\"1599\"},\"y_scale\":{\"id\":\"1603\"}},\"id\":\"1594\",\"subtype\":\"Figure\",\"type\":\"Plot\"},{\"attributes\":{\"overlay\":{\"id\":\"1619\"}},\"id\":\"1615\",\"type\":\"BoxZoomTool\"},{\"attributes\":{},\"id\":\"1722\",\"type\":\"Selection\"},{\"attributes\":{},\"id\":\"1618\",\"type\":\"HelpTool\"},{\"attributes\":{},\"id\":\"1706\",\"type\":\"BasicTickFormatter\"},{\"attributes\":{},\"id\":\"1723\",\"type\":\"UnionRenderers\"},{\"attributes\":{},\"id\":\"1613\",\"type\":\"PanTool\"},{\"attributes\":{},\"id\":\"1614\",\"type\":\"WheelZoomTool\"},{\"attributes\":{\"axis\":{\"id\":\"1609\"},\"dimension\":1,\"ticker\":null},\"id\":\"1612\",\"type\":\"Grid\"},{\"attributes\":{},\"id\":\"1616\",\"type\":\"SaveTool\"},{\"attributes\":{\"active_drag\":\"auto\",\"active_inspect\":\"auto\",\"active_multi\":null,\"active_scroll\":\"auto\",\"active_tap\":\"auto\",\"tools\":[{\"id\":\"1613\"},{\"id\":\"1614\"},{\"id\":\"1615\"},{\"id\":\"1616\"},{\"id\":\"1617\"},{\"id\":\"1618\"}]},\"id\":\"1620\",\"type\":\"Toolbar\"},{\"attributes\":{\"mantissas\":[1,2,5],\"max_interval\":500.0,\"num_minor_ticks\":0},\"id\":\"1708\",\"type\":\"AdaptiveTicker\"},{\"attributes\":{\"base\":60,\"mantissas\":[1,2,5,10,15,20,30],\"max_interval\":1800000.0,\"min_interval\":1000.0,\"num_minor_ticks\":0},\"id\":\"1709\",\"type\":\"AdaptiveTicker\"},{\"attributes\":{\"days\":[1,2,3,4,5,6,7,8,9,10,11,12,13,14,15,16,17,18,19,20,21,22,23,24,25,26,27,28,29,30,31]},\"id\":\"1711\",\"type\":\"DaysTicker\"},{\"attributes\":{},\"id\":\"1610\",\"type\":\"BasicTicker\"},{\"attributes\":{\"base\":24,\"mantissas\":[1,2,4,6,8,12],\"max_interval\":43200000.0,\"min_interval\":3600000.0,\"num_minor_ticks\":0},\"id\":\"1710\",\"type\":\"AdaptiveTicker\"},{\"attributes\":{\"data\":{\"x\":{\"__ndarray__\":\"AACAe0hcdEIAAMBDiV50QgAAAAzKYHRCAABA1ApjdEIAAICcS2V0QgAAwGSMZ3RCAAAALc1pdEIAAED1DWx0QgAAgL1ObnRCAADAhY9wdEIAAABO0HJ0QgAAQBYRdXRCAACA3lF3dEIAAMCmknl0QgAAAG/Te3RCAABANxR+dEIAAID/VIB0QgAAwMeVgnRC\",\"dtype\":\"float64\",\"order\":\"little\",\"shape\":[18]},\"y\":[3,9,8,6,5,9,10,8,8,9,10,11,11,9,9,9,9,6]},\"selected\":{\"id\":\"1722\"},\"selection_policy\":{\"id\":\"1723\"}},\"id\":\"1632\",\"type\":\"ColumnDataSource\"},{\"attributes\":{\"months\":[0,1,2,3,4,5,6,7,8,9,10,11]},\"id\":\"1715\",\"type\":\"MonthsTicker\"},{\"attributes\":{\"months\":[0,2,4,6,8,10]},\"id\":\"1716\",\"type\":\"MonthsTicker\"},{\"attributes\":{\"fill_alpha\":{\"value\":0.1},\"fill_color\":{\"value\":\"#1f77b4\"},\"line_alpha\":{\"value\":0.1},\"line_color\":{\"value\":\"#1f77b4\"},\"x\":{\"field\":\"x\"},\"y\":{\"field\":\"y\"}},\"id\":\"1629\",\"type\":\"Scatter\"},{\"attributes\":{},\"id\":\"1617\",\"type\":\"ResetTool\"},{\"attributes\":{\"days\":[1,4,7,10,13,16,19,22,25,28]},\"id\":\"1712\",\"type\":\"DaysTicker\"},{\"attributes\":{\"data\":{\"x\":{\"__ndarray__\":\"AACAe0hcdEIAAMBDiV50QgAAAAzKYHRCAABA1ApjdEIAAICcS2V0QgAAwGSMZ3RCAAAALc1pdEIAAED1DWx0QgAAgL1ObnRCAADAhY9wdEIAAABO0HJ0QgAAQBYRdXRCAACA3lF3dEIAAMCmknl0QgAAAG/Te3RCAABANxR+dEIAAID/VIB0QgAAwMeVgnRC\",\"dtype\":\"float64\",\"order\":\"little\",\"shape\":[18]},\"y\":[3,9,8,6,5,9,10,8,8,9,10,11,11,9,9,9,9,6]},\"selected\":{\"id\":\"1720\"},\"selection_policy\":{\"id\":\"1721\"}},\"id\":\"1627\",\"type\":\"ColumnDataSource\"},{\"attributes\":{\"line_color\":\"#1f77b4\",\"x\":{\"field\":\"x\"},\"y\":{\"field\":\"y\"}},\"id\":\"1633\",\"type\":\"Line\"},{\"attributes\":{\"days\":[1,15]},\"id\":\"1714\",\"type\":\"DaysTicker\"},{\"attributes\":{\"months\":[0,6]},\"id\":\"1718\",\"type\":\"MonthsTicker\"},{\"attributes\":{\"source\":{\"id\":\"1627\"}},\"id\":\"1631\",\"type\":\"CDSView\"},{\"attributes\":{\"days\":[1,8,15,22]},\"id\":\"1713\",\"type\":\"DaysTicker\"},{\"attributes\":{\"data_source\":{\"id\":\"1627\"},\"glyph\":{\"id\":\"1628\"},\"hover_glyph\":null,\"muted_glyph\":null,\"nonselection_glyph\":{\"id\":\"1629\"},\"selection_glyph\":null,\"view\":{\"id\":\"1631\"}},\"id\":\"1630\",\"type\":\"GlyphRenderer\"},{\"attributes\":{},\"id\":\"1719\",\"type\":\"YearsTicker\"},{\"attributes\":{\"source\":{\"id\":\"1632\"}},\"id\":\"1636\",\"type\":\"CDSView\"},{\"attributes\":{\"months\":[0,4,8]},\"id\":\"1717\",\"type\":\"MonthsTicker\"},{\"attributes\":{\"data_source\":{\"id\":\"1632\"},\"glyph\":{\"id\":\"1633\"},\"hover_glyph\":null,\"muted_glyph\":null,\"nonselection_glyph\":{\"id\":\"1634\"},\"selection_glyph\":null,\"view\":{\"id\":\"1636\"}},\"id\":\"1635\",\"type\":\"GlyphRenderer\"},{\"attributes\":{\"line_alpha\":0.1,\"line_color\":\"#1f77b4\",\"x\":{\"field\":\"x\"},\"y\":{\"field\":\"y\"}},\"id\":\"1634\",\"type\":\"Line\"},{\"attributes\":{},\"id\":\"1601\",\"type\":\"LinearScale\"},{\"attributes\":{},\"id\":\"1704\",\"type\":\"DatetimeTickFormatter\"},{\"attributes\":{},\"id\":\"1603\",\"type\":\"LinearScale\"},{\"attributes\":{\"text\":\"Count of weekly active users\"},\"id\":\"1595\",\"type\":\"Title\"},{\"attributes\":{\"axis\":{\"id\":\"1605\"},\"ticker\":null},\"id\":\"1608\",\"type\":\"Grid\"},{\"attributes\":{\"fill_color\":{\"value\":\"#1f77b4\"},\"line_color\":{\"value\":\"#1f77b4\"},\"x\":{\"field\":\"x\"},\"y\":{\"field\":\"y\"}},\"id\":\"1628\",\"type\":\"Scatter\"},{\"attributes\":{},\"id\":\"1720\",\"type\":\"Selection\"},{\"attributes\":{\"bottom_units\":\"screen\",\"fill_alpha\":0.5,\"fill_color\":\"lightgrey\",\"left_units\":\"screen\",\"level\":\"overlay\",\"line_alpha\":1.0,\"line_color\":\"black\",\"line_dash\":[4,4],\"line_width\":2,\"right_units\":\"screen\",\"top_units\":\"screen\"},\"id\":\"1619\",\"type\":\"BoxAnnotation\"},{\"attributes\":{\"axis_label\":\"Counts\",\"formatter\":{\"id\":\"1706\"},\"ticker\":{\"id\":\"1610\"}},\"id\":\"1609\",\"type\":\"LinearAxis\"},{\"attributes\":{},\"id\":\"1721\",\"type\":\"UnionRenderers\"},{\"attributes\":{\"num_minor_ticks\":5,\"tickers\":[{\"id\":\"1708\"},{\"id\":\"1709\"},{\"id\":\"1710\"},{\"id\":\"1711\"},{\"id\":\"1712\"},{\"id\":\"1713\"},{\"id\":\"1714\"},{\"id\":\"1715\"},{\"id\":\"1716\"},{\"id\":\"1717\"},{\"id\":\"1718\"},{\"id\":\"1719\"}]},\"id\":\"1606\",\"type\":\"DatetimeTicker\"},{\"attributes\":{\"axis_label\":\"Time (weekly)\",\"formatter\":{\"id\":\"1704\"},\"ticker\":{\"id\":\"1606\"}},\"id\":\"1605\",\"type\":\"DatetimeAxis\"},{\"attributes\":{},\"id\":\"1599\",\"type\":\"DataRange1d\"},{\"attributes\":{},\"id\":\"1597\",\"type\":\"DataRange1d\"}],\"root_ids\":[\"1594\"]},\"title\":\"Bokeh Application\",\"version\":\"2.2.1\"}};\n",
       "  var render_items = [{\"docid\":\"e3fedfb7-ff00-4760-8e64-f682f27b0f8d\",\"root_ids\":[\"1594\"],\"roots\":{\"1594\":\"7dfd6eb4-5b96-40c8-9f30-12672ecec454\"}}];\n",
       "  root.Bokeh.embed.embed_items_notebook(docs_json, render_items);\n",
       "\n",
       "  }\n",
       "  if (root.Bokeh !== undefined) {\n",
       "    embed_document(root);\n",
       "  } else {\n",
       "    var attempts = 0;\n",
       "    var timer = setInterval(function(root) {\n",
       "      if (root.Bokeh !== undefined) {\n",
       "        clearInterval(timer);\n",
       "        embed_document(root);\n",
       "      } else {\n",
       "        attempts++;\n",
       "        if (attempts > 100) {\n",
       "          clearInterval(timer);\n",
       "          console.log(\"Bokeh: ERROR: Unable to run BokehJS code because BokehJS library is missing\");\n",
       "        }\n",
       "      }\n",
       "    }, 10, root)\n",
       "  }\n",
       "})(window);"
      ],
      "application/vnd.bokehjs_exec.v0+json": ""
     },
     "metadata": {
      "application/vnd.bokehjs_exec.v0+json": {
       "id": "1594"
      }
     },
     "output_type": "display_data"
    },
    {
     "name": "stdout",
     "output_type": "stream",
     "text": [
      "Finland\n"
     ]
    },
    {
     "data": {
      "text/html": [
       "\n",
       "\n",
       "\n",
       "\n",
       "\n",
       "\n",
       "  <div class=\"bk-root\" id=\"768d1a54-2d07-4527-8276-194561f7032a\" data-root-id=\"1835\"></div>\n"
      ]
     },
     "metadata": {},
     "output_type": "display_data"
    },
    {
     "data": {
      "application/javascript": [
       "(function(root) {\n",
       "  function embed_document(root) {\n",
       "    \n",
       "  var docs_json = {\"96e81253-2f3a-4a70-92bc-2e9814020ea2\":{\"roots\":{\"references\":[{\"attributes\":{\"below\":[{\"id\":\"1846\"}],\"center\":[{\"id\":\"1849\"},{\"id\":\"1853\"}],\"left\":[{\"id\":\"1850\"}],\"plot_height\":300,\"plot_width\":500,\"renderers\":[{\"id\":\"1871\"},{\"id\":\"1876\"}],\"title\":{\"id\":\"1836\"},\"toolbar\":{\"id\":\"1861\"},\"x_range\":{\"id\":\"1838\"},\"x_scale\":{\"id\":\"1842\"},\"y_range\":{\"id\":\"1840\"},\"y_scale\":{\"id\":\"1844\"}},\"id\":\"1835\",\"subtype\":\"Figure\",\"type\":\"Plot\"},{\"attributes\":{\"mantissas\":[1,2,5],\"max_interval\":500.0,\"num_minor_ticks\":0},\"id\":\"1971\",\"type\":\"AdaptiveTicker\"},{\"attributes\":{},\"id\":\"1855\",\"type\":\"WheelZoomTool\"},{\"attributes\":{\"base\":60,\"mantissas\":[1,2,5,10,15,20,30],\"max_interval\":1800000.0,\"min_interval\":1000.0,\"num_minor_ticks\":0},\"id\":\"1972\",\"type\":\"AdaptiveTicker\"},{\"attributes\":{},\"id\":\"1842\",\"type\":\"LinearScale\"},{\"attributes\":{\"days\":[1,2,3,4,5,6,7,8,9,10,11,12,13,14,15,16,17,18,19,20,21,22,23,24,25,26,27,28,29,30,31]},\"id\":\"1974\",\"type\":\"DaysTicker\"},{\"attributes\":{\"base\":24,\"mantissas\":[1,2,4,6,8,12],\"max_interval\":43200000.0,\"min_interval\":3600000.0,\"num_minor_ticks\":0},\"id\":\"1973\",\"type\":\"AdaptiveTicker\"},{\"attributes\":{\"months\":[0,1,2,3,4,5,6,7,8,9,10,11]},\"id\":\"1978\",\"type\":\"MonthsTicker\"},{\"attributes\":{\"bottom_units\":\"screen\",\"fill_alpha\":0.5,\"fill_color\":\"lightgrey\",\"left_units\":\"screen\",\"level\":\"overlay\",\"line_alpha\":1.0,\"line_color\":\"black\",\"line_dash\":[4,4],\"line_width\":2,\"right_units\":\"screen\",\"top_units\":\"screen\"},\"id\":\"1860\",\"type\":\"BoxAnnotation\"},{\"attributes\":{},\"id\":\"1967\",\"type\":\"DatetimeTickFormatter\"},{\"attributes\":{\"months\":[0,2,4,6,8,10]},\"id\":\"1979\",\"type\":\"MonthsTicker\"},{\"attributes\":{},\"id\":\"1854\",\"type\":\"PanTool\"},{\"attributes\":{\"days\":[1,4,7,10,13,16,19,22,25,28]},\"id\":\"1975\",\"type\":\"DaysTicker\"},{\"attributes\":{\"data\":{\"x\":{\"__ndarray__\":\"AACAe0hcdEIAAMBDiV50QgAAAAzKYHRCAABA1ApjdEIAAICcS2V0QgAAwGSMZ3RCAAAALc1pdEIAAED1DWx0QgAAgL1ObnRCAADAhY9wdEIAAABO0HJ0QgAAQBYRdXRCAACA3lF3dEIAAMCmknl0QgAAAG/Te3RCAABANxR+dEIAAID/VIB0QgAAwMeVgnRC\",\"dtype\":\"float64\",\"order\":\"little\",\"shape\":[18]},\"y\":[3,4,8,9,4,6,7,7,8,8,9,11,9,7,7,8,7,9]},\"selected\":{\"id\":\"1983\"},\"selection_policy\":{\"id\":\"1984\"}},\"id\":\"1868\",\"type\":\"ColumnDataSource\"},{\"attributes\":{\"days\":[1,15]},\"id\":\"1977\",\"type\":\"DaysTicker\"},{\"attributes\":{\"overlay\":{\"id\":\"1860\"}},\"id\":\"1856\",\"type\":\"BoxZoomTool\"},{\"attributes\":{\"months\":[0,6]},\"id\":\"1981\",\"type\":\"MonthsTicker\"},{\"attributes\":{},\"id\":\"1858\",\"type\":\"ResetTool\"},{\"attributes\":{\"days\":[1,8,15,22]},\"id\":\"1976\",\"type\":\"DaysTicker\"},{\"attributes\":{\"axis_label\":\"Counts\",\"formatter\":{\"id\":\"1969\"},\"ticker\":{\"id\":\"1851\"}},\"id\":\"1850\",\"type\":\"LinearAxis\"},{\"attributes\":{},\"id\":\"1982\",\"type\":\"YearsTicker\"},{\"attributes\":{},\"id\":\"1851\",\"type\":\"BasicTicker\"},{\"attributes\":{\"months\":[0,4,8]},\"id\":\"1980\",\"type\":\"MonthsTicker\"},{\"attributes\":{\"fill_color\":{\"value\":\"#1f77b4\"},\"line_color\":{\"value\":\"#1f77b4\"},\"x\":{\"field\":\"x\"},\"y\":{\"field\":\"y\"}},\"id\":\"1869\",\"type\":\"Scatter\"},{\"attributes\":{\"axis\":{\"id\":\"1850\"},\"dimension\":1,\"ticker\":null},\"id\":\"1853\",\"type\":\"Grid\"},{\"attributes\":{},\"id\":\"1857\",\"type\":\"SaveTool\"},{\"attributes\":{},\"id\":\"1985\",\"type\":\"Selection\"},{\"attributes\":{\"num_minor_ticks\":5,\"tickers\":[{\"id\":\"1971\"},{\"id\":\"1972\"},{\"id\":\"1973\"},{\"id\":\"1974\"},{\"id\":\"1975\"},{\"id\":\"1976\"},{\"id\":\"1977\"},{\"id\":\"1978\"},{\"id\":\"1979\"},{\"id\":\"1980\"},{\"id\":\"1981\"},{\"id\":\"1982\"}]},\"id\":\"1847\",\"type\":\"DatetimeTicker\"},{\"attributes\":{\"active_drag\":\"auto\",\"active_inspect\":\"auto\",\"active_multi\":null,\"active_scroll\":\"auto\",\"active_tap\":\"auto\",\"tools\":[{\"id\":\"1854\"},{\"id\":\"1855\"},{\"id\":\"1856\"},{\"id\":\"1857\"},{\"id\":\"1858\"},{\"id\":\"1859\"}]},\"id\":\"1861\",\"type\":\"Toolbar\"},{\"attributes\":{},\"id\":\"1983\",\"type\":\"Selection\"},{\"attributes\":{},\"id\":\"1840\",\"type\":\"DataRange1d\"},{\"attributes\":{},\"id\":\"1984\",\"type\":\"UnionRenderers\"},{\"attributes\":{},\"id\":\"1859\",\"type\":\"HelpTool\"},{\"attributes\":{\"data\":{\"x\":{\"__ndarray__\":\"AACAe0hcdEIAAMBDiV50QgAAAAzKYHRCAABA1ApjdEIAAICcS2V0QgAAwGSMZ3RCAAAALc1pdEIAAED1DWx0QgAAgL1ObnRCAADAhY9wdEIAAABO0HJ0QgAAQBYRdXRCAACA3lF3dEIAAMCmknl0QgAAAG/Te3RCAABANxR+dEIAAID/VIB0QgAAwMeVgnRC\",\"dtype\":\"float64\",\"order\":\"little\",\"shape\":[18]},\"y\":[3,4,8,9,4,6,7,7,8,8,9,11,9,7,7,8,7,9]},\"selected\":{\"id\":\"1985\"},\"selection_policy\":{\"id\":\"1986\"}},\"id\":\"1873\",\"type\":\"ColumnDataSource\"},{\"attributes\":{\"axis_label\":\"Time (weekly)\",\"formatter\":{\"id\":\"1967\"},\"ticker\":{\"id\":\"1847\"}},\"id\":\"1846\",\"type\":\"DatetimeAxis\"},{\"attributes\":{\"fill_alpha\":{\"value\":0.1},\"fill_color\":{\"value\":\"#1f77b4\"},\"line_alpha\":{\"value\":0.1},\"line_color\":{\"value\":\"#1f77b4\"},\"x\":{\"field\":\"x\"},\"y\":{\"field\":\"y\"}},\"id\":\"1870\",\"type\":\"Scatter\"},{\"attributes\":{},\"id\":\"1844\",\"type\":\"LinearScale\"},{\"attributes\":{\"line_color\":\"#1f77b4\",\"x\":{\"field\":\"x\"},\"y\":{\"field\":\"y\"}},\"id\":\"1874\",\"type\":\"Line\"},{\"attributes\":{\"data_source\":{\"id\":\"1873\"},\"glyph\":{\"id\":\"1874\"},\"hover_glyph\":null,\"muted_glyph\":null,\"nonselection_glyph\":{\"id\":\"1875\"},\"selection_glyph\":null,\"view\":{\"id\":\"1877\"}},\"id\":\"1876\",\"type\":\"GlyphRenderer\"},{\"attributes\":{\"source\":{\"id\":\"1868\"}},\"id\":\"1872\",\"type\":\"CDSView\"},{\"attributes\":{\"data_source\":{\"id\":\"1868\"},\"glyph\":{\"id\":\"1869\"},\"hover_glyph\":null,\"muted_glyph\":null,\"nonselection_glyph\":{\"id\":\"1870\"},\"selection_glyph\":null,\"view\":{\"id\":\"1872\"}},\"id\":\"1871\",\"type\":\"GlyphRenderer\"},{\"attributes\":{},\"id\":\"1969\",\"type\":\"BasicTickFormatter\"},{\"attributes\":{\"source\":{\"id\":\"1873\"}},\"id\":\"1877\",\"type\":\"CDSView\"},{\"attributes\":{},\"id\":\"1838\",\"type\":\"DataRange1d\"},{\"attributes\":{\"axis\":{\"id\":\"1846\"},\"ticker\":null},\"id\":\"1849\",\"type\":\"Grid\"},{\"attributes\":{},\"id\":\"1986\",\"type\":\"UnionRenderers\"},{\"attributes\":{\"line_alpha\":0.1,\"line_color\":\"#1f77b4\",\"x\":{\"field\":\"x\"},\"y\":{\"field\":\"y\"}},\"id\":\"1875\",\"type\":\"Line\"},{\"attributes\":{\"text\":\"Count of weekly active users\"},\"id\":\"1836\",\"type\":\"Title\"}],\"root_ids\":[\"1835\"]},\"title\":\"Bokeh Application\",\"version\":\"2.2.1\"}};\n",
       "  var render_items = [{\"docid\":\"96e81253-2f3a-4a70-92bc-2e9814020ea2\",\"root_ids\":[\"1835\"],\"roots\":{\"1835\":\"768d1a54-2d07-4527-8276-194561f7032a\"}}];\n",
       "  root.Bokeh.embed.embed_items_notebook(docs_json, render_items);\n",
       "\n",
       "  }\n",
       "  if (root.Bokeh !== undefined) {\n",
       "    embed_document(root);\n",
       "  } else {\n",
       "    var attempts = 0;\n",
       "    var timer = setInterval(function(root) {\n",
       "      if (root.Bokeh !== undefined) {\n",
       "        clearInterval(timer);\n",
       "        embed_document(root);\n",
       "      } else {\n",
       "        attempts++;\n",
       "        if (attempts > 100) {\n",
       "          clearInterval(timer);\n",
       "          console.log(\"Bokeh: ERROR: Unable to run BokehJS code because BokehJS library is missing\");\n",
       "        }\n",
       "      }\n",
       "    }, 10, root)\n",
       "  }\n",
       "})(window);"
      ],
      "application/vnd.bokehjs_exec.v0+json": ""
     },
     "metadata": {
      "application/vnd.bokehjs_exec.v0+json": {
       "id": "1835"
      }
     },
     "output_type": "display_data"
    },
    {
     "name": "stdout",
     "output_type": "stream",
     "text": [
      "United Kingdom\n"
     ]
    },
    {
     "data": {
      "text/html": [
       "\n",
       "\n",
       "\n",
       "\n",
       "\n",
       "\n",
       "  <div class=\"bk-root\" id=\"3371b845-9785-4041-878e-989faee07947\" data-root-id=\"2098\"></div>\n"
      ]
     },
     "metadata": {},
     "output_type": "display_data"
    },
    {
     "data": {
      "application/javascript": [
       "(function(root) {\n",
       "  function embed_document(root) {\n",
       "    \n",
       "  var docs_json = {\"c3b4edbc-0efa-49e6-9ec9-95ac93ecf69b\":{\"roots\":{\"references\":[{\"attributes\":{\"below\":[{\"id\":\"2109\"}],\"center\":[{\"id\":\"2112\"},{\"id\":\"2116\"}],\"left\":[{\"id\":\"2113\"}],\"plot_height\":300,\"plot_width\":500,\"renderers\":[{\"id\":\"2134\"},{\"id\":\"2139\"}],\"title\":{\"id\":\"2099\"},\"toolbar\":{\"id\":\"2124\"},\"x_range\":{\"id\":\"2101\"},\"x_scale\":{\"id\":\"2105\"},\"y_range\":{\"id\":\"2103\"},\"y_scale\":{\"id\":\"2107\"}},\"id\":\"2098\",\"subtype\":\"Figure\",\"type\":\"Plot\"},{\"attributes\":{\"base\":60,\"mantissas\":[1,2,5,10,15,20,30],\"max_interval\":1800000.0,\"min_interval\":1000.0,\"num_minor_ticks\":0},\"id\":\"2257\",\"type\":\"AdaptiveTicker\"},{\"attributes\":{},\"id\":\"2122\",\"type\":\"HelpTool\"},{\"attributes\":{\"days\":[1,2,3,4,5,6,7,8,9,10,11,12,13,14,15,16,17,18,19,20,21,22,23,24,25,26,27,28,29,30,31]},\"id\":\"2259\",\"type\":\"DaysTicker\"},{\"attributes\":{\"data\":{\"x\":{\"__ndarray__\":\"AACAe0hcdEIAAMBDiV50QgAAAAzKYHRCAABA1ApjdEIAAICcS2V0QgAAwGSMZ3RCAAAALc1pdEIAAED1DWx0QgAAgL1ObnRCAADAhY9wdEIAAABO0HJ0QgAAQBYRdXRCAACA3lF3dEIAAMCmknl0QgAAAG/Te3RCAABANxR+dEIAAID/VIB0QgAAwMeVgnRC\",\"dtype\":\"float64\",\"order\":\"little\",\"shape\":[18]},\"y\":[33,49,52,62,59,70,59,56,61,50,58,53,65,68,59,48,57,58]},\"selected\":{\"id\":\"2270\"},\"selection_policy\":{\"id\":\"2271\"}},\"id\":\"2136\",\"type\":\"ColumnDataSource\"},{\"attributes\":{\"base\":24,\"mantissas\":[1,2,4,6,8,12],\"max_interval\":43200000.0,\"min_interval\":3600000.0,\"num_minor_ticks\":0},\"id\":\"2258\",\"type\":\"AdaptiveTicker\"},{\"attributes\":{\"line_color\":\"#1f77b4\",\"x\":{\"field\":\"x\"},\"y\":{\"field\":\"y\"}},\"id\":\"2137\",\"type\":\"Line\"},{\"attributes\":{},\"id\":\"2121\",\"type\":\"ResetTool\"},{\"attributes\":{\"source\":{\"id\":\"2131\"}},\"id\":\"2135\",\"type\":\"CDSView\"},{\"attributes\":{\"months\":[0,1,2,3,4,5,6,7,8,9,10,11]},\"id\":\"2263\",\"type\":\"MonthsTicker\"},{\"attributes\":{\"data_source\":{\"id\":\"2131\"},\"glyph\":{\"id\":\"2132\"},\"hover_glyph\":null,\"muted_glyph\":null,\"nonselection_glyph\":{\"id\":\"2133\"},\"selection_glyph\":null,\"view\":{\"id\":\"2135\"}},\"id\":\"2134\",\"type\":\"GlyphRenderer\"},{\"attributes\":{\"months\":[0,2,4,6,8,10]},\"id\":\"2264\",\"type\":\"MonthsTicker\"},{\"attributes\":{},\"id\":\"2103\",\"type\":\"DataRange1d\"},{\"attributes\":{\"text\":\"Count of weekly active users\"},\"id\":\"2099\",\"type\":\"Title\"},{\"attributes\":{\"days\":[1,4,7,10,13,16,19,22,25,28]},\"id\":\"2260\",\"type\":\"DaysTicker\"},{\"attributes\":{},\"id\":\"2105\",\"type\":\"LinearScale\"},{\"attributes\":{\"source\":{\"id\":\"2136\"}},\"id\":\"2140\",\"type\":\"CDSView\"},{\"attributes\":{\"days\":[1,15]},\"id\":\"2262\",\"type\":\"DaysTicker\"},{\"attributes\":{\"months\":[0,6]},\"id\":\"2266\",\"type\":\"MonthsTicker\"},{\"attributes\":{\"days\":[1,8,15,22]},\"id\":\"2261\",\"type\":\"DaysTicker\"},{\"attributes\":{},\"id\":\"2267\",\"type\":\"YearsTicker\"},{\"attributes\":{\"line_alpha\":0.1,\"line_color\":\"#1f77b4\",\"x\":{\"field\":\"x\"},\"y\":{\"field\":\"y\"}},\"id\":\"2138\",\"type\":\"Line\"},{\"attributes\":{\"months\":[0,4,8]},\"id\":\"2265\",\"type\":\"MonthsTicker\"},{\"attributes\":{},\"id\":\"2107\",\"type\":\"LinearScale\"},{\"attributes\":{\"fill_color\":{\"value\":\"#1f77b4\"},\"line_color\":{\"value\":\"#1f77b4\"},\"x\":{\"field\":\"x\"},\"y\":{\"field\":\"y\"}},\"id\":\"2132\",\"type\":\"Scatter\"},{\"attributes\":{\"bottom_units\":\"screen\",\"fill_alpha\":0.5,\"fill_color\":\"lightgrey\",\"left_units\":\"screen\",\"level\":\"overlay\",\"line_alpha\":1.0,\"line_color\":\"black\",\"line_dash\":[4,4],\"line_width\":2,\"right_units\":\"screen\",\"top_units\":\"screen\"},\"id\":\"2123\",\"type\":\"BoxAnnotation\"},{\"attributes\":{},\"id\":\"2268\",\"type\":\"Selection\"},{\"attributes\":{},\"id\":\"2269\",\"type\":\"UnionRenderers\"},{\"attributes\":{},\"id\":\"2117\",\"type\":\"PanTool\"},{\"attributes\":{\"axis\":{\"id\":\"2113\"},\"dimension\":1,\"ticker\":null},\"id\":\"2116\",\"type\":\"Grid\"},{\"attributes\":{\"data_source\":{\"id\":\"2136\"},\"glyph\":{\"id\":\"2137\"},\"hover_glyph\":null,\"muted_glyph\":null,\"nonselection_glyph\":{\"id\":\"2138\"},\"selection_glyph\":null,\"view\":{\"id\":\"2140\"}},\"id\":\"2139\",\"type\":\"GlyphRenderer\"},{\"attributes\":{\"num_minor_ticks\":5,\"tickers\":[{\"id\":\"2256\"},{\"id\":\"2257\"},{\"id\":\"2258\"},{\"id\":\"2259\"},{\"id\":\"2260\"},{\"id\":\"2261\"},{\"id\":\"2262\"},{\"id\":\"2263\"},{\"id\":\"2264\"},{\"id\":\"2265\"},{\"id\":\"2266\"},{\"id\":\"2267\"}]},\"id\":\"2110\",\"type\":\"DatetimeTicker\"},{\"attributes\":{},\"id\":\"2120\",\"type\":\"SaveTool\"},{\"attributes\":{},\"id\":\"2270\",\"type\":\"Selection\"},{\"attributes\":{\"data\":{\"x\":{\"__ndarray__\":\"AACAe0hcdEIAAMBDiV50QgAAAAzKYHRCAABA1ApjdEIAAICcS2V0QgAAwGSMZ3RCAAAALc1pdEIAAED1DWx0QgAAgL1ObnRCAADAhY9wdEIAAABO0HJ0QgAAQBYRdXRCAACA3lF3dEIAAMCmknl0QgAAAG/Te3RCAABANxR+dEIAAID/VIB0QgAAwMeVgnRC\",\"dtype\":\"float64\",\"order\":\"little\",\"shape\":[18]},\"y\":[33,49,52,62,59,70,59,56,61,50,58,53,65,68,59,48,57,58]},\"selected\":{\"id\":\"2268\"},\"selection_policy\":{\"id\":\"2269\"}},\"id\":\"2131\",\"type\":\"ColumnDataSource\"},{\"attributes\":{\"mantissas\":[1,2,5],\"max_interval\":500.0,\"num_minor_ticks\":0},\"id\":\"2256\",\"type\":\"AdaptiveTicker\"},{\"attributes\":{\"axis_label\":\"Counts\",\"formatter\":{\"id\":\"2254\"},\"ticker\":{\"id\":\"2114\"}},\"id\":\"2113\",\"type\":\"LinearAxis\"},{\"attributes\":{\"fill_alpha\":{\"value\":0.1},\"fill_color\":{\"value\":\"#1f77b4\"},\"line_alpha\":{\"value\":0.1},\"line_color\":{\"value\":\"#1f77b4\"},\"x\":{\"field\":\"x\"},\"y\":{\"field\":\"y\"}},\"id\":\"2133\",\"type\":\"Scatter\"},{\"attributes\":{},\"id\":\"2271\",\"type\":\"UnionRenderers\"},{\"attributes\":{\"overlay\":{\"id\":\"2123\"}},\"id\":\"2119\",\"type\":\"BoxZoomTool\"},{\"attributes\":{},\"id\":\"2252\",\"type\":\"DatetimeTickFormatter\"},{\"attributes\":{\"axis_label\":\"Time (weekly)\",\"formatter\":{\"id\":\"2252\"},\"ticker\":{\"id\":\"2110\"}},\"id\":\"2109\",\"type\":\"DatetimeAxis\"},{\"attributes\":{},\"id\":\"2254\",\"type\":\"BasicTickFormatter\"},{\"attributes\":{},\"id\":\"2101\",\"type\":\"DataRange1d\"},{\"attributes\":{\"active_drag\":\"auto\",\"active_inspect\":\"auto\",\"active_multi\":null,\"active_scroll\":\"auto\",\"active_tap\":\"auto\",\"tools\":[{\"id\":\"2117\"},{\"id\":\"2118\"},{\"id\":\"2119\"},{\"id\":\"2120\"},{\"id\":\"2121\"},{\"id\":\"2122\"}]},\"id\":\"2124\",\"type\":\"Toolbar\"},{\"attributes\":{},\"id\":\"2114\",\"type\":\"BasicTicker\"},{\"attributes\":{\"axis\":{\"id\":\"2109\"},\"ticker\":null},\"id\":\"2112\",\"type\":\"Grid\"},{\"attributes\":{},\"id\":\"2118\",\"type\":\"WheelZoomTool\"}],\"root_ids\":[\"2098\"]},\"title\":\"Bokeh Application\",\"version\":\"2.2.1\"}};\n",
       "  var render_items = [{\"docid\":\"c3b4edbc-0efa-49e6-9ec9-95ac93ecf69b\",\"root_ids\":[\"2098\"],\"roots\":{\"2098\":\"3371b845-9785-4041-878e-989faee07947\"}}];\n",
       "  root.Bokeh.embed.embed_items_notebook(docs_json, render_items);\n",
       "\n",
       "  }\n",
       "  if (root.Bokeh !== undefined) {\n",
       "    embed_document(root);\n",
       "  } else {\n",
       "    var attempts = 0;\n",
       "    var timer = setInterval(function(root) {\n",
       "      if (root.Bokeh !== undefined) {\n",
       "        clearInterval(timer);\n",
       "        embed_document(root);\n",
       "      } else {\n",
       "        attempts++;\n",
       "        if (attempts > 100) {\n",
       "          clearInterval(timer);\n",
       "          console.log(\"Bokeh: ERROR: Unable to run BokehJS code because BokehJS library is missing\");\n",
       "        }\n",
       "      }\n",
       "    }, 10, root)\n",
       "  }\n",
       "})(window);"
      ],
      "application/vnd.bokehjs_exec.v0+json": ""
     },
     "metadata": {
      "application/vnd.bokehjs_exec.v0+json": {
       "id": "2098"
      }
     },
     "output_type": "display_data"
    },
    {
     "name": "stdout",
     "output_type": "stream",
     "text": [
      "India\n"
     ]
    },
    {
     "data": {
      "text/html": [
       "\n",
       "\n",
       "\n",
       "\n",
       "\n",
       "\n",
       "  <div class=\"bk-root\" id=\"26b67617-4357-4ee7-a8b1-67a9552d411d\" data-root-id=\"2383\"></div>\n"
      ]
     },
     "metadata": {},
     "output_type": "display_data"
    },
    {
     "data": {
      "application/javascript": [
       "(function(root) {\n",
       "  function embed_document(root) {\n",
       "    \n",
       "  var docs_json = {\"547c0df2-0f4f-4ade-b1a7-012643a2c2c0\":{\"roots\":{\"references\":[{\"attributes\":{\"below\":[{\"id\":\"2394\"}],\"center\":[{\"id\":\"2397\"},{\"id\":\"2401\"}],\"left\":[{\"id\":\"2398\"}],\"plot_height\":300,\"plot_width\":500,\"renderers\":[{\"id\":\"2419\"},{\"id\":\"2424\"}],\"title\":{\"id\":\"2384\"},\"toolbar\":{\"id\":\"2409\"},\"x_range\":{\"id\":\"2386\"},\"x_scale\":{\"id\":\"2390\"},\"y_range\":{\"id\":\"2388\"},\"y_scale\":{\"id\":\"2392\"}},\"id\":\"2383\",\"subtype\":\"Figure\",\"type\":\"Plot\"},{\"attributes\":{\"active_drag\":\"auto\",\"active_inspect\":\"auto\",\"active_multi\":null,\"active_scroll\":\"auto\",\"active_tap\":\"auto\",\"tools\":[{\"id\":\"2402\"},{\"id\":\"2403\"},{\"id\":\"2404\"},{\"id\":\"2405\"},{\"id\":\"2406\"},{\"id\":\"2407\"}]},\"id\":\"2409\",\"type\":\"Toolbar\"},{\"attributes\":{},\"id\":\"2402\",\"type\":\"PanTool\"},{\"attributes\":{},\"id\":\"2405\",\"type\":\"SaveTool\"},{\"attributes\":{},\"id\":\"2403\",\"type\":\"WheelZoomTool\"},{\"attributes\":{\"axis\":{\"id\":\"2394\"},\"ticker\":null},\"id\":\"2397\",\"type\":\"Grid\"},{\"attributes\":{},\"id\":\"2575\",\"type\":\"Selection\"},{\"attributes\":{},\"id\":\"2578\",\"type\":\"UnionRenderers\"},{\"attributes\":{},\"id\":\"2388\",\"type\":\"DataRange1d\"},{\"attributes\":{\"axis_label\":\"Counts\",\"formatter\":{\"id\":\"2561\"},\"ticker\":{\"id\":\"2399\"}},\"id\":\"2398\",\"type\":\"LinearAxis\"},{\"attributes\":{\"data\":{\"x\":{\"__ndarray__\":\"AACAe0hcdEIAAMBDiV50QgAAAAzKYHRCAABA1ApjdEIAAICcS2V0QgAAwGSMZ3RCAAAALc1pdEIAAED1DWx0QgAAgL1ObnRCAADAhY9wdEIAAABO0HJ0QgAAQBYRdXRCAACA3lF3dEIAAMCmknl0QgAAAG/Te3RCAABANxR+dEIAAID/VIB0QgAAwMeVgnRC\",\"dtype\":\"float64\",\"order\":\"little\",\"shape\":[18]},\"y\":[24,32,35,34,30,30,37,38,38,43,40,46,44,47,35,34,34,31]},\"selected\":{\"id\":\"2577\"},\"selection_policy\":{\"id\":\"2578\"}},\"id\":\"2421\",\"type\":\"ColumnDataSource\"},{\"attributes\":{},\"id\":\"2576\",\"type\":\"UnionRenderers\"},{\"attributes\":{},\"id\":\"2407\",\"type\":\"HelpTool\"},{\"attributes\":{\"fill_alpha\":{\"value\":0.1},\"fill_color\":{\"value\":\"#1f77b4\"},\"line_alpha\":{\"value\":0.1},\"line_color\":{\"value\":\"#1f77b4\"},\"x\":{\"field\":\"x\"},\"y\":{\"field\":\"y\"}},\"id\":\"2418\",\"type\":\"Scatter\"},{\"attributes\":{\"axis_label\":\"Time (weekly)\",\"formatter\":{\"id\":\"2559\"},\"ticker\":{\"id\":\"2395\"}},\"id\":\"2394\",\"type\":\"DatetimeAxis\"},{\"attributes\":{},\"id\":\"2392\",\"type\":\"LinearScale\"},{\"attributes\":{\"line_color\":\"#1f77b4\",\"x\":{\"field\":\"x\"},\"y\":{\"field\":\"y\"}},\"id\":\"2422\",\"type\":\"Line\"},{\"attributes\":{\"source\":{\"id\":\"2416\"}},\"id\":\"2420\",\"type\":\"CDSView\"},{\"attributes\":{\"data_source\":{\"id\":\"2416\"},\"glyph\":{\"id\":\"2417\"},\"hover_glyph\":null,\"muted_glyph\":null,\"nonselection_glyph\":{\"id\":\"2418\"},\"selection_glyph\":null,\"view\":{\"id\":\"2420\"}},\"id\":\"2419\",\"type\":\"GlyphRenderer\"},{\"attributes\":{},\"id\":\"2406\",\"type\":\"ResetTool\"},{\"attributes\":{},\"id\":\"2577\",\"type\":\"Selection\"},{\"attributes\":{\"source\":{\"id\":\"2421\"}},\"id\":\"2425\",\"type\":\"CDSView\"},{\"attributes\":{},\"id\":\"2561\",\"type\":\"BasicTickFormatter\"},{\"attributes\":{\"data_source\":{\"id\":\"2421\"},\"glyph\":{\"id\":\"2422\"},\"hover_glyph\":null,\"muted_glyph\":null,\"nonselection_glyph\":{\"id\":\"2423\"},\"selection_glyph\":null,\"view\":{\"id\":\"2425\"}},\"id\":\"2424\",\"type\":\"GlyphRenderer\"},{\"attributes\":{\"line_alpha\":0.1,\"line_color\":\"#1f77b4\",\"x\":{\"field\":\"x\"},\"y\":{\"field\":\"y\"}},\"id\":\"2423\",\"type\":\"Line\"},{\"attributes\":{\"mantissas\":[1,2,5],\"max_interval\":500.0,\"num_minor_ticks\":0},\"id\":\"2563\",\"type\":\"AdaptiveTicker\"},{\"attributes\":{\"base\":60,\"mantissas\":[1,2,5,10,15,20,30],\"max_interval\":1800000.0,\"min_interval\":1000.0,\"num_minor_ticks\":0},\"id\":\"2564\",\"type\":\"AdaptiveTicker\"},{\"attributes\":{\"days\":[1,2,3,4,5,6,7,8,9,10,11,12,13,14,15,16,17,18,19,20,21,22,23,24,25,26,27,28,29,30,31]},\"id\":\"2566\",\"type\":\"DaysTicker\"},{\"attributes\":{},\"id\":\"2559\",\"type\":\"DatetimeTickFormatter\"},{\"attributes\":{\"base\":24,\"mantissas\":[1,2,4,6,8,12],\"max_interval\":43200000.0,\"min_interval\":3600000.0,\"num_minor_ticks\":0},\"id\":\"2565\",\"type\":\"AdaptiveTicker\"},{\"attributes\":{},\"id\":\"2386\",\"type\":\"DataRange1d\"},{\"attributes\":{\"months\":[0,1,2,3,4,5,6,7,8,9,10,11]},\"id\":\"2570\",\"type\":\"MonthsTicker\"},{\"attributes\":{\"bottom_units\":\"screen\",\"fill_alpha\":0.5,\"fill_color\":\"lightgrey\",\"left_units\":\"screen\",\"level\":\"overlay\",\"line_alpha\":1.0,\"line_color\":\"black\",\"line_dash\":[4,4],\"line_width\":2,\"right_units\":\"screen\",\"top_units\":\"screen\"},\"id\":\"2408\",\"type\":\"BoxAnnotation\"},{\"attributes\":{\"months\":[0,2,4,6,8,10]},\"id\":\"2571\",\"type\":\"MonthsTicker\"},{\"attributes\":{\"days\":[1,4,7,10,13,16,19,22,25,28]},\"id\":\"2567\",\"type\":\"DaysTicker\"},{\"attributes\":{\"data\":{\"x\":{\"__ndarray__\":\"AACAe0hcdEIAAMBDiV50QgAAAAzKYHRCAABA1ApjdEIAAICcS2V0QgAAwGSMZ3RCAAAALc1pdEIAAED1DWx0QgAAgL1ObnRCAADAhY9wdEIAAABO0HJ0QgAAQBYRdXRCAACA3lF3dEIAAMCmknl0QgAAAG/Te3RCAABANxR+dEIAAID/VIB0QgAAwMeVgnRC\",\"dtype\":\"float64\",\"order\":\"little\",\"shape\":[18]},\"y\":[24,32,35,34,30,30,37,38,38,43,40,46,44,47,35,34,34,31]},\"selected\":{\"id\":\"2575\"},\"selection_policy\":{\"id\":\"2576\"}},\"id\":\"2416\",\"type\":\"ColumnDataSource\"},{\"attributes\":{\"days\":[1,15]},\"id\":\"2569\",\"type\":\"DaysTicker\"},{\"attributes\":{\"months\":[0,6]},\"id\":\"2573\",\"type\":\"MonthsTicker\"},{\"attributes\":{\"text\":\"Count of weekly active users\"},\"id\":\"2384\",\"type\":\"Title\"},{\"attributes\":{},\"id\":\"2390\",\"type\":\"LinearScale\"},{\"attributes\":{\"days\":[1,8,15,22]},\"id\":\"2568\",\"type\":\"DaysTicker\"},{\"attributes\":{},\"id\":\"2399\",\"type\":\"BasicTicker\"},{\"attributes\":{},\"id\":\"2574\",\"type\":\"YearsTicker\"},{\"attributes\":{\"overlay\":{\"id\":\"2408\"}},\"id\":\"2404\",\"type\":\"BoxZoomTool\"},{\"attributes\":{\"months\":[0,4,8]},\"id\":\"2572\",\"type\":\"MonthsTicker\"},{\"attributes\":{\"axis\":{\"id\":\"2398\"},\"dimension\":1,\"ticker\":null},\"id\":\"2401\",\"type\":\"Grid\"},{\"attributes\":{\"num_minor_ticks\":5,\"tickers\":[{\"id\":\"2563\"},{\"id\":\"2564\"},{\"id\":\"2565\"},{\"id\":\"2566\"},{\"id\":\"2567\"},{\"id\":\"2568\"},{\"id\":\"2569\"},{\"id\":\"2570\"},{\"id\":\"2571\"},{\"id\":\"2572\"},{\"id\":\"2573\"},{\"id\":\"2574\"}]},\"id\":\"2395\",\"type\":\"DatetimeTicker\"},{\"attributes\":{\"fill_color\":{\"value\":\"#1f77b4\"},\"line_color\":{\"value\":\"#1f77b4\"},\"x\":{\"field\":\"x\"},\"y\":{\"field\":\"y\"}},\"id\":\"2417\",\"type\":\"Scatter\"}],\"root_ids\":[\"2383\"]},\"title\":\"Bokeh Application\",\"version\":\"2.2.1\"}};\n",
       "  var render_items = [{\"docid\":\"547c0df2-0f4f-4ade-b1a7-012643a2c2c0\",\"root_ids\":[\"2383\"],\"roots\":{\"2383\":\"26b67617-4357-4ee7-a8b1-67a9552d411d\"}}];\n",
       "  root.Bokeh.embed.embed_items_notebook(docs_json, render_items);\n",
       "\n",
       "  }\n",
       "  if (root.Bokeh !== undefined) {\n",
       "    embed_document(root);\n",
       "  } else {\n",
       "    var attempts = 0;\n",
       "    var timer = setInterval(function(root) {\n",
       "      if (root.Bokeh !== undefined) {\n",
       "        clearInterval(timer);\n",
       "        embed_document(root);\n",
       "      } else {\n",
       "        attempts++;\n",
       "        if (attempts > 100) {\n",
       "          clearInterval(timer);\n",
       "          console.log(\"Bokeh: ERROR: Unable to run BokehJS code because BokehJS library is missing\");\n",
       "        }\n",
       "      }\n",
       "    }, 10, root)\n",
       "  }\n",
       "})(window);"
      ],
      "application/vnd.bokehjs_exec.v0+json": ""
     },
     "metadata": {
      "application/vnd.bokehjs_exec.v0+json": {
       "id": "2383"
      }
     },
     "output_type": "display_data"
    },
    {
     "name": "stdout",
     "output_type": "stream",
     "text": [
      "United States\n"
     ]
    },
    {
     "data": {
      "text/html": [
       "\n",
       "\n",
       "\n",
       "\n",
       "\n",
       "\n",
       "  <div class=\"bk-root\" id=\"5dab81f0-2421-4c94-a5d8-942496d7865d\" data-root-id=\"2690\"></div>\n"
      ]
     },
     "metadata": {},
     "output_type": "display_data"
    },
    {
     "data": {
      "application/javascript": [
       "(function(root) {\n",
       "  function embed_document(root) {\n",
       "    \n",
       "  var docs_json = {\"cea113cd-671c-4dc4-ae4e-40f998c4eb29\":{\"roots\":{\"references\":[{\"attributes\":{\"below\":[{\"id\":\"2701\"}],\"center\":[{\"id\":\"2704\"},{\"id\":\"2708\"}],\"left\":[{\"id\":\"2705\"}],\"plot_height\":300,\"plot_width\":500,\"renderers\":[{\"id\":\"2726\"},{\"id\":\"2731\"}],\"title\":{\"id\":\"2691\"},\"toolbar\":{\"id\":\"2716\"},\"x_range\":{\"id\":\"2693\"},\"x_scale\":{\"id\":\"2697\"},\"y_range\":{\"id\":\"2695\"},\"y_scale\":{\"id\":\"2699\"}},\"id\":\"2690\",\"subtype\":\"Figure\",\"type\":\"Plot\"},{\"attributes\":{\"fill_color\":{\"value\":\"#1f77b4\"},\"line_color\":{\"value\":\"#1f77b4\"},\"x\":{\"field\":\"x\"},\"y\":{\"field\":\"y\"}},\"id\":\"2724\",\"type\":\"Scatter\"},{\"attributes\":{\"bottom_units\":\"screen\",\"fill_alpha\":0.5,\"fill_color\":\"lightgrey\",\"left_units\":\"screen\",\"level\":\"overlay\",\"line_alpha\":1.0,\"line_color\":\"black\",\"line_dash\":[4,4],\"line_width\":2,\"right_units\":\"screen\",\"top_units\":\"screen\"},\"id\":\"2715\",\"type\":\"BoxAnnotation\"},{\"attributes\":{\"text\":\"Count of weekly active users\"},\"id\":\"2691\",\"type\":\"Title\"},{\"attributes\":{\"months\":[0,4,8]},\"id\":\"2901\",\"type\":\"MonthsTicker\"},{\"attributes\":{\"months\":[0,2,4,6,8,10]},\"id\":\"2900\",\"type\":\"MonthsTicker\"},{\"attributes\":{\"active_drag\":\"auto\",\"active_inspect\":\"auto\",\"active_multi\":null,\"active_scroll\":\"auto\",\"active_tap\":\"auto\",\"tools\":[{\"id\":\"2709\"},{\"id\":\"2710\"},{\"id\":\"2711\"},{\"id\":\"2712\"},{\"id\":\"2713\"},{\"id\":\"2714\"}]},\"id\":\"2716\",\"type\":\"Toolbar\"},{\"attributes\":{\"axis_label\":\"Counts\",\"formatter\":{\"id\":\"2890\"},\"ticker\":{\"id\":\"2706\"}},\"id\":\"2705\",\"type\":\"LinearAxis\"},{\"attributes\":{},\"id\":\"2906\",\"type\":\"Selection\"},{\"attributes\":{\"data\":{\"x\":{\"__ndarray__\":\"AACAe0hcdEIAAMBDiV50QgAAAAzKYHRCAABA1ApjdEIAAICcS2V0QgAAwGSMZ3RCAAAALc1pdEIAAED1DWx0QgAAgL1ObnRCAADAhY9wdEIAAABO0HJ0QgAAQBYRdXRCAACA3lF3dEIAAMCmknl0QgAAAG/Te3RCAABANxR+dEIAAID/VIB0QgAAwMeVgnRC\",\"dtype\":\"float64\",\"order\":\"little\",\"shape\":[18]},\"y\":[203,294,296,289,301,318,362,370,357,382,376,392,383,424,368,340,351,340]},\"selected\":{\"id\":\"2904\"},\"selection_policy\":{\"id\":\"2905\"}},\"id\":\"2723\",\"type\":\"ColumnDataSource\"},{\"attributes\":{},\"id\":\"2706\",\"type\":\"BasicTicker\"},{\"attributes\":{},\"id\":\"2907\",\"type\":\"UnionRenderers\"},{\"attributes\":{\"axis\":{\"id\":\"2705\"},\"dimension\":1,\"ticker\":null},\"id\":\"2708\",\"type\":\"Grid\"},{\"attributes\":{\"overlay\":{\"id\":\"2715\"}},\"id\":\"2711\",\"type\":\"BoxZoomTool\"},{\"attributes\":{},\"id\":\"2693\",\"type\":\"DataRange1d\"},{\"attributes\":{},\"id\":\"2712\",\"type\":\"SaveTool\"},{\"attributes\":{\"num_minor_ticks\":5,\"tickers\":[{\"id\":\"2892\"},{\"id\":\"2893\"},{\"id\":\"2894\"},{\"id\":\"2895\"},{\"id\":\"2896\"},{\"id\":\"2897\"},{\"id\":\"2898\"},{\"id\":\"2899\"},{\"id\":\"2900\"},{\"id\":\"2901\"},{\"id\":\"2902\"},{\"id\":\"2903\"}]},\"id\":\"2702\",\"type\":\"DatetimeTicker\"},{\"attributes\":{\"axis_label\":\"Time (weekly)\",\"formatter\":{\"id\":\"2888\"},\"ticker\":{\"id\":\"2702\"}},\"id\":\"2701\",\"type\":\"DatetimeAxis\"},{\"attributes\":{\"axis\":{\"id\":\"2701\"},\"ticker\":null},\"id\":\"2704\",\"type\":\"Grid\"},{\"attributes\":{\"base\":60,\"mantissas\":[1,2,5,10,15,20,30],\"max_interval\":1800000.0,\"min_interval\":1000.0,\"num_minor_ticks\":0},\"id\":\"2893\",\"type\":\"AdaptiveTicker\"},{\"attributes\":{},\"id\":\"2714\",\"type\":\"HelpTool\"},{\"attributes\":{},\"id\":\"2699\",\"type\":\"LinearScale\"},{\"attributes\":{\"days\":[1,2,3,4,5,6,7,8,9,10,11,12,13,14,15,16,17,18,19,20,21,22,23,24,25,26,27,28,29,30,31]},\"id\":\"2895\",\"type\":\"DaysTicker\"},{\"attributes\":{},\"id\":\"2695\",\"type\":\"DataRange1d\"},{\"attributes\":{\"data\":{\"x\":{\"__ndarray__\":\"AACAe0hcdEIAAMBDiV50QgAAAAzKYHRCAABA1ApjdEIAAICcS2V0QgAAwGSMZ3RCAAAALc1pdEIAAED1DWx0QgAAgL1ObnRCAADAhY9wdEIAAABO0HJ0QgAAQBYRdXRCAACA3lF3dEIAAMCmknl0QgAAAG/Te3RCAABANxR+dEIAAID/VIB0QgAAwMeVgnRC\",\"dtype\":\"float64\",\"order\":\"little\",\"shape\":[18]},\"y\":[203,294,296,289,301,318,362,370,357,382,376,392,383,424,368,340,351,340]},\"selected\":{\"id\":\"2906\"},\"selection_policy\":{\"id\":\"2907\"}},\"id\":\"2728\",\"type\":\"ColumnDataSource\"},{\"attributes\":{\"fill_alpha\":{\"value\":0.1},\"fill_color\":{\"value\":\"#1f77b4\"},\"line_alpha\":{\"value\":0.1},\"line_color\":{\"value\":\"#1f77b4\"},\"x\":{\"field\":\"x\"},\"y\":{\"field\":\"y\"}},\"id\":\"2725\",\"type\":\"Scatter\"},{\"attributes\":{},\"id\":\"2710\",\"type\":\"WheelZoomTool\"},{\"attributes\":{},\"id\":\"2890\",\"type\":\"BasicTickFormatter\"},{\"attributes\":{},\"id\":\"2709\",\"type\":\"PanTool\"},{\"attributes\":{\"line_color\":\"#1f77b4\",\"x\":{\"field\":\"x\"},\"y\":{\"field\":\"y\"}},\"id\":\"2729\",\"type\":\"Line\"},{\"attributes\":{\"days\":[1,8,15,22]},\"id\":\"2897\",\"type\":\"DaysTicker\"},{\"attributes\":{\"source\":{\"id\":\"2723\"}},\"id\":\"2727\",\"type\":\"CDSView\"},{\"attributes\":{\"months\":[0,6]},\"id\":\"2902\",\"type\":\"MonthsTicker\"},{\"attributes\":{\"data_source\":{\"id\":\"2723\"},\"glyph\":{\"id\":\"2724\"},\"hover_glyph\":null,\"muted_glyph\":null,\"nonselection_glyph\":{\"id\":\"2725\"},\"selection_glyph\":null,\"view\":{\"id\":\"2727\"}},\"id\":\"2726\",\"type\":\"GlyphRenderer\"},{\"attributes\":{},\"id\":\"2713\",\"type\":\"ResetTool\"},{\"attributes\":{},\"id\":\"2903\",\"type\":\"YearsTicker\"},{\"attributes\":{},\"id\":\"2697\",\"type\":\"LinearScale\"},{\"attributes\":{\"mantissas\":[1,2,5],\"max_interval\":500.0,\"num_minor_ticks\":0},\"id\":\"2892\",\"type\":\"AdaptiveTicker\"},{\"attributes\":{\"source\":{\"id\":\"2728\"}},\"id\":\"2732\",\"type\":\"CDSView\"},{\"attributes\":{},\"id\":\"2888\",\"type\":\"DatetimeTickFormatter\"},{\"attributes\":{\"months\":[0,1,2,3,4,5,6,7,8,9,10,11]},\"id\":\"2899\",\"type\":\"MonthsTicker\"},{\"attributes\":{\"days\":[1,4,7,10,13,16,19,22,25,28]},\"id\":\"2896\",\"type\":\"DaysTicker\"},{\"attributes\":{\"base\":24,\"mantissas\":[1,2,4,6,8,12],\"max_interval\":43200000.0,\"min_interval\":3600000.0,\"num_minor_ticks\":0},\"id\":\"2894\",\"type\":\"AdaptiveTicker\"},{\"attributes\":{\"line_alpha\":0.1,\"line_color\":\"#1f77b4\",\"x\":{\"field\":\"x\"},\"y\":{\"field\":\"y\"}},\"id\":\"2730\",\"type\":\"Line\"},{\"attributes\":{\"days\":[1,15]},\"id\":\"2898\",\"type\":\"DaysTicker\"},{\"attributes\":{\"data_source\":{\"id\":\"2728\"},\"glyph\":{\"id\":\"2729\"},\"hover_glyph\":null,\"muted_glyph\":null,\"nonselection_glyph\":{\"id\":\"2730\"},\"selection_glyph\":null,\"view\":{\"id\":\"2732\"}},\"id\":\"2731\",\"type\":\"GlyphRenderer\"},{\"attributes\":{},\"id\":\"2904\",\"type\":\"Selection\"},{\"attributes\":{},\"id\":\"2905\",\"type\":\"UnionRenderers\"}],\"root_ids\":[\"2690\"]},\"title\":\"Bokeh Application\",\"version\":\"2.2.1\"}};\n",
       "  var render_items = [{\"docid\":\"cea113cd-671c-4dc4-ae4e-40f998c4eb29\",\"root_ids\":[\"2690\"],\"roots\":{\"2690\":\"5dab81f0-2421-4c94-a5d8-942496d7865d\"}}];\n",
       "  root.Bokeh.embed.embed_items_notebook(docs_json, render_items);\n",
       "\n",
       "  }\n",
       "  if (root.Bokeh !== undefined) {\n",
       "    embed_document(root);\n",
       "  } else {\n",
       "    var attempts = 0;\n",
       "    var timer = setInterval(function(root) {\n",
       "      if (root.Bokeh !== undefined) {\n",
       "        clearInterval(timer);\n",
       "        embed_document(root);\n",
       "      } else {\n",
       "        attempts++;\n",
       "        if (attempts > 100) {\n",
       "          clearInterval(timer);\n",
       "          console.log(\"Bokeh: ERROR: Unable to run BokehJS code because BokehJS library is missing\");\n",
       "        }\n",
       "      }\n",
       "    }, 10, root)\n",
       "  }\n",
       "})(window);"
      ],
      "application/vnd.bokehjs_exec.v0+json": ""
     },
     "metadata": {
      "application/vnd.bokehjs_exec.v0+json": {
       "id": "2690"
      }
     },
     "output_type": "display_data"
    },
    {
     "name": "stdout",
     "output_type": "stream",
     "text": [
      "France\n"
     ]
    },
    {
     "data": {
      "text/html": [
       "\n",
       "\n",
       "\n",
       "\n",
       "\n",
       "\n",
       "  <div class=\"bk-root\" id=\"44d553f0-7a29-4258-8b31-1981050fc15f\" data-root-id=\"3019\"></div>\n"
      ]
     },
     "metadata": {},
     "output_type": "display_data"
    },
    {
     "data": {
      "application/javascript": [
       "(function(root) {\n",
       "  function embed_document(root) {\n",
       "    \n",
       "  var docs_json = {\"63d52d8b-eac8-45b4-8a91-3a578d76b968\":{\"roots\":{\"references\":[{\"attributes\":{\"below\":[{\"id\":\"3030\"}],\"center\":[{\"id\":\"3033\"},{\"id\":\"3037\"}],\"left\":[{\"id\":\"3034\"}],\"plot_height\":300,\"plot_width\":500,\"renderers\":[{\"id\":\"3055\"},{\"id\":\"3060\"}],\"title\":{\"id\":\"3020\"},\"toolbar\":{\"id\":\"3045\"},\"x_range\":{\"id\":\"3022\"},\"x_scale\":{\"id\":\"3026\"},\"y_range\":{\"id\":\"3024\"},\"y_scale\":{\"id\":\"3028\"}},\"id\":\"3019\",\"subtype\":\"Figure\",\"type\":\"Plot\"},{\"attributes\":{\"mantissas\":[1,2,5],\"max_interval\":500.0,\"num_minor_ticks\":0},\"id\":\"3243\",\"type\":\"AdaptiveTicker\"},{\"attributes\":{\"line_alpha\":0.1,\"line_color\":\"#1f77b4\",\"x\":{\"field\":\"x\"},\"y\":{\"field\":\"y\"}},\"id\":\"3059\",\"type\":\"Line\"},{\"attributes\":{\"base\":60,\"mantissas\":[1,2,5,10,15,20,30],\"max_interval\":1800000.0,\"min_interval\":1000.0,\"num_minor_ticks\":0},\"id\":\"3244\",\"type\":\"AdaptiveTicker\"},{\"attributes\":{\"days\":[1,2,3,4,5,6,7,8,9,10,11,12,13,14,15,16,17,18,19,20,21,22,23,24,25,26,27,28,29,30,31]},\"id\":\"3246\",\"type\":\"DaysTicker\"},{\"attributes\":{\"base\":24,\"mantissas\":[1,2,4,6,8,12],\"max_interval\":43200000.0,\"min_interval\":3600000.0,\"num_minor_ticks\":0},\"id\":\"3245\",\"type\":\"AdaptiveTicker\"},{\"attributes\":{},\"id\":\"3258\",\"type\":\"UnionRenderers\"},{\"attributes\":{\"months\":[0,1,2,3,4,5,6,7,8,9,10,11]},\"id\":\"3250\",\"type\":\"MonthsTicker\"},{\"attributes\":{\"months\":[0,2,4,6,8,10]},\"id\":\"3251\",\"type\":\"MonthsTicker\"},{\"attributes\":{},\"id\":\"3041\",\"type\":\"SaveTool\"},{\"attributes\":{\"days\":[1,4,7,10,13,16,19,22,25,28]},\"id\":\"3247\",\"type\":\"DaysTicker\"},{\"attributes\":{\"days\":[1,15]},\"id\":\"3249\",\"type\":\"DaysTicker\"},{\"attributes\":{\"months\":[0,6]},\"id\":\"3253\",\"type\":\"MonthsTicker\"},{\"attributes\":{\"days\":[1,8,15,22]},\"id\":\"3248\",\"type\":\"DaysTicker\"},{\"attributes\":{\"active_drag\":\"auto\",\"active_inspect\":\"auto\",\"active_multi\":null,\"active_scroll\":\"auto\",\"active_tap\":\"auto\",\"tools\":[{\"id\":\"3038\"},{\"id\":\"3039\"},{\"id\":\"3040\"},{\"id\":\"3041\"},{\"id\":\"3042\"},{\"id\":\"3043\"}]},\"id\":\"3045\",\"type\":\"Toolbar\"},{\"attributes\":{\"bottom_units\":\"screen\",\"fill_alpha\":0.5,\"fill_color\":\"lightgrey\",\"left_units\":\"screen\",\"level\":\"overlay\",\"line_alpha\":1.0,\"line_color\":\"black\",\"line_dash\":[4,4],\"line_width\":2,\"right_units\":\"screen\",\"top_units\":\"screen\"},\"id\":\"3044\",\"type\":\"BoxAnnotation\"},{\"attributes\":{},\"id\":\"3254\",\"type\":\"YearsTicker\"},{\"attributes\":{\"axis_label\":\"Counts\",\"formatter\":{\"id\":\"3241\"},\"ticker\":{\"id\":\"3035\"}},\"id\":\"3034\",\"type\":\"LinearAxis\"},{\"attributes\":{\"months\":[0,4,8]},\"id\":\"3252\",\"type\":\"MonthsTicker\"},{\"attributes\":{},\"id\":\"3026\",\"type\":\"LinearScale\"},{\"attributes\":{},\"id\":\"3038\",\"type\":\"PanTool\"},{\"attributes\":{},\"id\":\"3024\",\"type\":\"DataRange1d\"},{\"attributes\":{\"data_source\":{\"id\":\"3057\"},\"glyph\":{\"id\":\"3058\"},\"hover_glyph\":null,\"muted_glyph\":null,\"nonselection_glyph\":{\"id\":\"3059\"},\"selection_glyph\":null,\"view\":{\"id\":\"3061\"}},\"id\":\"3060\",\"type\":\"GlyphRenderer\"},{\"attributes\":{\"overlay\":{\"id\":\"3044\"}},\"id\":\"3040\",\"type\":\"BoxZoomTool\"},{\"attributes\":{\"data\":{\"x\":{\"__ndarray__\":\"AACAe0hcdEIAAMBDiV50QgAAAAzKYHRCAABA1ApjdEIAAICcS2V0QgAAwGSMZ3RCAAAALc1pdEIAAED1DWx0QgAAgL1ObnRCAADAhY9wdEIAAABO0HJ0QgAAQBYRdXRCAACA3lF3dEIAAMCmknl0QgAAAG/Te3RCAABANxR+dEIAAID/VIB0QgAAwMeVgnRC\",\"dtype\":\"float64\",\"order\":\"little\",\"shape\":[18]},\"y\":[34,53,53,62,48,56,55,65,65,76,73,60,63,71,57,58,47,46]},\"selected\":{\"id\":\"3255\"},\"selection_policy\":{\"id\":\"3256\"}},\"id\":\"3052\",\"type\":\"ColumnDataSource\"},{\"attributes\":{\"fill_color\":{\"value\":\"#1f77b4\"},\"line_color\":{\"value\":\"#1f77b4\"},\"x\":{\"field\":\"x\"},\"y\":{\"field\":\"y\"}},\"id\":\"3053\",\"type\":\"Scatter\"},{\"attributes\":{\"axis\":{\"id\":\"3034\"},\"dimension\":1,\"ticker\":null},\"id\":\"3037\",\"type\":\"Grid\"},{\"attributes\":{},\"id\":\"3239\",\"type\":\"DatetimeTickFormatter\"},{\"attributes\":{},\"id\":\"3022\",\"type\":\"DataRange1d\"},{\"attributes\":{},\"id\":\"3043\",\"type\":\"HelpTool\"},{\"attributes\":{},\"id\":\"3255\",\"type\":\"Selection\"},{\"attributes\":{\"num_minor_ticks\":5,\"tickers\":[{\"id\":\"3243\"},{\"id\":\"3244\"},{\"id\":\"3245\"},{\"id\":\"3246\"},{\"id\":\"3247\"},{\"id\":\"3248\"},{\"id\":\"3249\"},{\"id\":\"3250\"},{\"id\":\"3251\"},{\"id\":\"3252\"},{\"id\":\"3253\"},{\"id\":\"3254\"}]},\"id\":\"3031\",\"type\":\"DatetimeTicker\"},{\"attributes\":{\"text\":\"Count of weekly active users\"},\"id\":\"3020\",\"type\":\"Title\"},{\"attributes\":{},\"id\":\"3035\",\"type\":\"BasicTicker\"},{\"attributes\":{},\"id\":\"3256\",\"type\":\"UnionRenderers\"},{\"attributes\":{},\"id\":\"3028\",\"type\":\"LinearScale\"},{\"attributes\":{\"axis_label\":\"Time (weekly)\",\"formatter\":{\"id\":\"3239\"},\"ticker\":{\"id\":\"3031\"}},\"id\":\"3030\",\"type\":\"DatetimeAxis\"},{\"attributes\":{\"axis\":{\"id\":\"3030\"},\"ticker\":null},\"id\":\"3033\",\"type\":\"Grid\"},{\"attributes\":{\"data\":{\"x\":{\"__ndarray__\":\"AACAe0hcdEIAAMBDiV50QgAAAAzKYHRCAABA1ApjdEIAAICcS2V0QgAAwGSMZ3RCAAAALc1pdEIAAED1DWx0QgAAgL1ObnRCAADAhY9wdEIAAABO0HJ0QgAAQBYRdXRCAACA3lF3dEIAAMCmknl0QgAAAG/Te3RCAABANxR+dEIAAID/VIB0QgAAwMeVgnRC\",\"dtype\":\"float64\",\"order\":\"little\",\"shape\":[18]},\"y\":[34,53,53,62,48,56,55,65,65,76,73,60,63,71,57,58,47,46]},\"selected\":{\"id\":\"3257\"},\"selection_policy\":{\"id\":\"3258\"}},\"id\":\"3057\",\"type\":\"ColumnDataSource\"},{\"attributes\":{},\"id\":\"3042\",\"type\":\"ResetTool\"},{\"attributes\":{\"fill_alpha\":{\"value\":0.1},\"fill_color\":{\"value\":\"#1f77b4\"},\"line_alpha\":{\"value\":0.1},\"line_color\":{\"value\":\"#1f77b4\"},\"x\":{\"field\":\"x\"},\"y\":{\"field\":\"y\"}},\"id\":\"3054\",\"type\":\"Scatter\"},{\"attributes\":{},\"id\":\"3241\",\"type\":\"BasicTickFormatter\"},{\"attributes\":{},\"id\":\"3257\",\"type\":\"Selection\"},{\"attributes\":{\"line_color\":\"#1f77b4\",\"x\":{\"field\":\"x\"},\"y\":{\"field\":\"y\"}},\"id\":\"3058\",\"type\":\"Line\"},{\"attributes\":{},\"id\":\"3039\",\"type\":\"WheelZoomTool\"},{\"attributes\":{\"source\":{\"id\":\"3052\"}},\"id\":\"3056\",\"type\":\"CDSView\"},{\"attributes\":{\"data_source\":{\"id\":\"3052\"},\"glyph\":{\"id\":\"3053\"},\"hover_glyph\":null,\"muted_glyph\":null,\"nonselection_glyph\":{\"id\":\"3054\"},\"selection_glyph\":null,\"view\":{\"id\":\"3056\"}},\"id\":\"3055\",\"type\":\"GlyphRenderer\"},{\"attributes\":{\"source\":{\"id\":\"3057\"}},\"id\":\"3061\",\"type\":\"CDSView\"}],\"root_ids\":[\"3019\"]},\"title\":\"Bokeh Application\",\"version\":\"2.2.1\"}};\n",
       "  var render_items = [{\"docid\":\"63d52d8b-eac8-45b4-8a91-3a578d76b968\",\"root_ids\":[\"3019\"],\"roots\":{\"3019\":\"44d553f0-7a29-4258-8b31-1981050fc15f\"}}];\n",
       "  root.Bokeh.embed.embed_items_notebook(docs_json, render_items);\n",
       "\n",
       "  }\n",
       "  if (root.Bokeh !== undefined) {\n",
       "    embed_document(root);\n",
       "  } else {\n",
       "    var attempts = 0;\n",
       "    var timer = setInterval(function(root) {\n",
       "      if (root.Bokeh !== undefined) {\n",
       "        clearInterval(timer);\n",
       "        embed_document(root);\n",
       "      } else {\n",
       "        attempts++;\n",
       "        if (attempts > 100) {\n",
       "          clearInterval(timer);\n",
       "          console.log(\"Bokeh: ERROR: Unable to run BokehJS code because BokehJS library is missing\");\n",
       "        }\n",
       "      }\n",
       "    }, 10, root)\n",
       "  }\n",
       "})(window);"
      ],
      "application/vnd.bokehjs_exec.v0+json": ""
     },
     "metadata": {
      "application/vnd.bokehjs_exec.v0+json": {
       "id": "3019"
      }
     },
     "output_type": "display_data"
    },
    {
     "name": "stdout",
     "output_type": "stream",
     "text": [
      "Iran\n"
     ]
    },
    {
     "data": {
      "text/html": [
       "\n",
       "\n",
       "\n",
       "\n",
       "\n",
       "\n",
       "  <div class=\"bk-root\" id=\"cc627e01-65f3-45d5-8ac0-dad627447b63\" data-root-id=\"3370\"></div>\n"
      ]
     },
     "metadata": {},
     "output_type": "display_data"
    },
    {
     "data": {
      "application/javascript": [
       "(function(root) {\n",
       "  function embed_document(root) {\n",
       "    \n",
       "  var docs_json = {\"d406f5d8-16e8-498a-8f2f-3b0223fa67d7\":{\"roots\":{\"references\":[{\"attributes\":{\"below\":[{\"id\":\"3381\"}],\"center\":[{\"id\":\"3384\"},{\"id\":\"3388\"}],\"left\":[{\"id\":\"3385\"}],\"plot_height\":300,\"plot_width\":500,\"renderers\":[{\"id\":\"3406\"},{\"id\":\"3411\"}],\"title\":{\"id\":\"3371\"},\"toolbar\":{\"id\":\"3396\"},\"x_range\":{\"id\":\"3373\"},\"x_scale\":{\"id\":\"3377\"},\"y_range\":{\"id\":\"3375\"},\"y_scale\":{\"id\":\"3379\"}},\"id\":\"3370\",\"subtype\":\"Figure\",\"type\":\"Plot\"},{\"attributes\":{\"source\":{\"id\":\"3403\"}},\"id\":\"3407\",\"type\":\"CDSView\"},{\"attributes\":{\"days\":[1,4,7,10,13,16,19,22,25,28]},\"id\":\"3620\",\"type\":\"DaysTicker\"},{\"attributes\":{\"data_source\":{\"id\":\"3403\"},\"glyph\":{\"id\":\"3404\"},\"hover_glyph\":null,\"muted_glyph\":null,\"nonselection_glyph\":{\"id\":\"3405\"},\"selection_glyph\":null,\"view\":{\"id\":\"3407\"}},\"id\":\"3406\",\"type\":\"GlyphRenderer\"},{\"attributes\":{\"mantissas\":[1,2,5],\"max_interval\":500.0,\"num_minor_ticks\":0},\"id\":\"3616\",\"type\":\"AdaptiveTicker\"},{\"attributes\":{\"base\":60,\"mantissas\":[1,2,5,10,15,20,30],\"max_interval\":1800000.0,\"min_interval\":1000.0,\"num_minor_ticks\":0},\"id\":\"3617\",\"type\":\"AdaptiveTicker\"},{\"attributes\":{\"source\":{\"id\":\"3408\"}},\"id\":\"3412\",\"type\":\"CDSView\"},{\"attributes\":{},\"id\":\"3614\",\"type\":\"BasicTickFormatter\"},{\"attributes\":{\"days\":[1,2,3,4,5,6,7,8,9,10,11,12,13,14,15,16,17,18,19,20,21,22,23,24,25,26,27,28,29,30,31]},\"id\":\"3619\",\"type\":\"DaysTicker\"},{\"attributes\":{\"days\":[1,8,15,22]},\"id\":\"3621\",\"type\":\"DaysTicker\"},{\"attributes\":{\"line_alpha\":0.1,\"line_color\":\"#1f77b4\",\"x\":{\"field\":\"x\"},\"y\":{\"field\":\"y\"}},\"id\":\"3410\",\"type\":\"Line\"},{\"attributes\":{},\"id\":\"3627\",\"type\":\"YearsTicker\"},{\"attributes\":{},\"id\":\"3373\",\"type\":\"DataRange1d\"},{\"attributes\":{\"months\":[0,6]},\"id\":\"3626\",\"type\":\"MonthsTicker\"},{\"attributes\":{\"months\":[0,4,8]},\"id\":\"3625\",\"type\":\"MonthsTicker\"},{\"attributes\":{\"base\":24,\"mantissas\":[1,2,4,6,8,12],\"max_interval\":43200000.0,\"min_interval\":3600000.0,\"num_minor_ticks\":0},\"id\":\"3618\",\"type\":\"AdaptiveTicker\"},{\"attributes\":{\"text\":\"Count of weekly active users\"},\"id\":\"3371\",\"type\":\"Title\"},{\"attributes\":{\"data\":{\"x\":{\"__ndarray__\":\"AACAe0hcdEIAAMBDiV50QgAAAAzKYHRCAABA1ApjdEIAAICcS2V0QgAAwGSMZ3RCAAAALc1pdEIAAED1DWx0QgAAgL1ObnRCAADAhY9wdEIAAABO0HJ0QgAAQBYRdXRCAACA3lF3dEIAAMCmknl0QgAAAG/Te3RCAABANxR+dEIAAID/VIB0QgAAwMeVgnRC\",\"dtype\":\"float64\",\"order\":\"little\",\"shape\":[18]},\"y\":[5,8,6,4,9,11,11,10,11,9,11,9,11,13,14,9,8,7]},\"selected\":{\"id\":\"3628\"},\"selection_policy\":{\"id\":\"3629\"}},\"id\":\"3403\",\"type\":\"ColumnDataSource\"},{\"attributes\":{\"fill_color\":{\"value\":\"#1f77b4\"},\"line_color\":{\"value\":\"#1f77b4\"},\"x\":{\"field\":\"x\"},\"y\":{\"field\":\"y\"}},\"id\":\"3404\",\"type\":\"Scatter\"},{\"attributes\":{},\"id\":\"3386\",\"type\":\"BasicTicker\"},{\"attributes\":{\"bottom_units\":\"screen\",\"fill_alpha\":0.5,\"fill_color\":\"lightgrey\",\"left_units\":\"screen\",\"level\":\"overlay\",\"line_alpha\":1.0,\"line_color\":\"black\",\"line_dash\":[4,4],\"line_width\":2,\"right_units\":\"screen\",\"top_units\":\"screen\"},\"id\":\"3395\",\"type\":\"BoxAnnotation\"},{\"attributes\":{\"axis\":{\"id\":\"3385\"},\"dimension\":1,\"ticker\":null},\"id\":\"3388\",\"type\":\"Grid\"},{\"attributes\":{},\"id\":\"3628\",\"type\":\"Selection\"},{\"attributes\":{\"days\":[1,15]},\"id\":\"3622\",\"type\":\"DaysTicker\"},{\"attributes\":{\"months\":[0,2,4,6,8,10]},\"id\":\"3624\",\"type\":\"MonthsTicker\"},{\"attributes\":{},\"id\":\"3629\",\"type\":\"UnionRenderers\"},{\"attributes\":{\"overlay\":{\"id\":\"3395\"}},\"id\":\"3391\",\"type\":\"BoxZoomTool\"},{\"attributes\":{\"axis_label\":\"Counts\",\"formatter\":{\"id\":\"3614\"},\"ticker\":{\"id\":\"3386\"}},\"id\":\"3385\",\"type\":\"LinearAxis\"},{\"attributes\":{},\"id\":\"3379\",\"type\":\"LinearScale\"},{\"attributes\":{},\"id\":\"3392\",\"type\":\"SaveTool\"},{\"attributes\":{\"axis_label\":\"Time (weekly)\",\"formatter\":{\"id\":\"3612\"},\"ticker\":{\"id\":\"3382\"}},\"id\":\"3381\",\"type\":\"DatetimeAxis\"},{\"attributes\":{},\"id\":\"3394\",\"type\":\"HelpTool\"},{\"attributes\":{\"active_drag\":\"auto\",\"active_inspect\":\"auto\",\"active_multi\":null,\"active_scroll\":\"auto\",\"active_tap\":\"auto\",\"tools\":[{\"id\":\"3389\"},{\"id\":\"3390\"},{\"id\":\"3391\"},{\"id\":\"3392\"},{\"id\":\"3393\"},{\"id\":\"3394\"}]},\"id\":\"3396\",\"type\":\"Toolbar\"},{\"attributes\":{},\"id\":\"3390\",\"type\":\"WheelZoomTool\"},{\"attributes\":{},\"id\":\"3612\",\"type\":\"DatetimeTickFormatter\"},{\"attributes\":{\"months\":[0,1,2,3,4,5,6,7,8,9,10,11]},\"id\":\"3623\",\"type\":\"MonthsTicker\"},{\"attributes\":{},\"id\":\"3630\",\"type\":\"Selection\"},{\"attributes\":{\"data_source\":{\"id\":\"3408\"},\"glyph\":{\"id\":\"3409\"},\"hover_glyph\":null,\"muted_glyph\":null,\"nonselection_glyph\":{\"id\":\"3410\"},\"selection_glyph\":null,\"view\":{\"id\":\"3412\"}},\"id\":\"3411\",\"type\":\"GlyphRenderer\"},{\"attributes\":{\"num_minor_ticks\":5,\"tickers\":[{\"id\":\"3616\"},{\"id\":\"3617\"},{\"id\":\"3618\"},{\"id\":\"3619\"},{\"id\":\"3620\"},{\"id\":\"3621\"},{\"id\":\"3622\"},{\"id\":\"3623\"},{\"id\":\"3624\"},{\"id\":\"3625\"},{\"id\":\"3626\"},{\"id\":\"3627\"}]},\"id\":\"3382\",\"type\":\"DatetimeTicker\"},{\"attributes\":{},\"id\":\"3631\",\"type\":\"UnionRenderers\"},{\"attributes\":{},\"id\":\"3389\",\"type\":\"PanTool\"},{\"attributes\":{},\"id\":\"3377\",\"type\":\"LinearScale\"},{\"attributes\":{\"data\":{\"x\":{\"__ndarray__\":\"AACAe0hcdEIAAMBDiV50QgAAAAzKYHRCAABA1ApjdEIAAICcS2V0QgAAwGSMZ3RCAAAALc1pdEIAAED1DWx0QgAAgL1ObnRCAADAhY9wdEIAAABO0HJ0QgAAQBYRdXRCAACA3lF3dEIAAMCmknl0QgAAAG/Te3RCAABANxR+dEIAAID/VIB0QgAAwMeVgnRC\",\"dtype\":\"float64\",\"order\":\"little\",\"shape\":[18]},\"y\":[5,8,6,4,9,11,11,10,11,9,11,9,11,13,14,9,8,7]},\"selected\":{\"id\":\"3630\"},\"selection_policy\":{\"id\":\"3631\"}},\"id\":\"3408\",\"type\":\"ColumnDataSource\"},{\"attributes\":{\"axis\":{\"id\":\"3381\"},\"ticker\":null},\"id\":\"3384\",\"type\":\"Grid\"},{\"attributes\":{\"fill_alpha\":{\"value\":0.1},\"fill_color\":{\"value\":\"#1f77b4\"},\"line_alpha\":{\"value\":0.1},\"line_color\":{\"value\":\"#1f77b4\"},\"x\":{\"field\":\"x\"},\"y\":{\"field\":\"y\"}},\"id\":\"3405\",\"type\":\"Scatter\"},{\"attributes\":{},\"id\":\"3393\",\"type\":\"ResetTool\"},{\"attributes\":{},\"id\":\"3375\",\"type\":\"DataRange1d\"},{\"attributes\":{\"line_color\":\"#1f77b4\",\"x\":{\"field\":\"x\"},\"y\":{\"field\":\"y\"}},\"id\":\"3409\",\"type\":\"Line\"}],\"root_ids\":[\"3370\"]},\"title\":\"Bokeh Application\",\"version\":\"2.2.1\"}};\n",
       "  var render_items = [{\"docid\":\"d406f5d8-16e8-498a-8f2f-3b0223fa67d7\",\"root_ids\":[\"3370\"],\"roots\":{\"3370\":\"cc627e01-65f3-45d5-8ac0-dad627447b63\"}}];\n",
       "  root.Bokeh.embed.embed_items_notebook(docs_json, render_items);\n",
       "\n",
       "  }\n",
       "  if (root.Bokeh !== undefined) {\n",
       "    embed_document(root);\n",
       "  } else {\n",
       "    var attempts = 0;\n",
       "    var timer = setInterval(function(root) {\n",
       "      if (root.Bokeh !== undefined) {\n",
       "        clearInterval(timer);\n",
       "        embed_document(root);\n",
       "      } else {\n",
       "        attempts++;\n",
       "        if (attempts > 100) {\n",
       "          clearInterval(timer);\n",
       "          console.log(\"Bokeh: ERROR: Unable to run BokehJS code because BokehJS library is missing\");\n",
       "        }\n",
       "      }\n",
       "    }, 10, root)\n",
       "  }\n",
       "})(window);"
      ],
      "application/vnd.bokehjs_exec.v0+json": ""
     },
     "metadata": {
      "application/vnd.bokehjs_exec.v0+json": {
       "id": "3370"
      }
     },
     "output_type": "display_data"
    },
    {
     "name": "stdout",
     "output_type": "stream",
     "text": [
      "Germany\n"
     ]
    },
    {
     "data": {
      "text/html": [
       "\n",
       "\n",
       "\n",
       "\n",
       "\n",
       "\n",
       "  <div class=\"bk-root\" id=\"ba61f60d-5529-4937-ae3c-0fbe32a1e1df\" data-root-id=\"3743\"></div>\n"
      ]
     },
     "metadata": {},
     "output_type": "display_data"
    },
    {
     "data": {
      "application/javascript": [
       "(function(root) {\n",
       "  function embed_document(root) {\n",
       "    \n",
       "  var docs_json = {\"20caa2cb-9a05-4ec8-817e-bcb21bb3e2bf\":{\"roots\":{\"references\":[{\"attributes\":{\"below\":[{\"id\":\"3754\"}],\"center\":[{\"id\":\"3757\"},{\"id\":\"3761\"}],\"left\":[{\"id\":\"3758\"}],\"plot_height\":300,\"plot_width\":500,\"renderers\":[{\"id\":\"3779\"},{\"id\":\"3784\"}],\"title\":{\"id\":\"3744\"},\"toolbar\":{\"id\":\"3769\"},\"x_range\":{\"id\":\"3746\"},\"x_scale\":{\"id\":\"3750\"},\"y_range\":{\"id\":\"3748\"},\"y_scale\":{\"id\":\"3752\"}},\"id\":\"3743\",\"subtype\":\"Figure\",\"type\":\"Plot\"},{\"attributes\":{},\"id\":\"3767\",\"type\":\"HelpTool\"},{\"attributes\":{\"active_drag\":\"auto\",\"active_inspect\":\"auto\",\"active_multi\":null,\"active_scroll\":\"auto\",\"active_tap\":\"auto\",\"tools\":[{\"id\":\"3762\"},{\"id\":\"3763\"},{\"id\":\"3764\"},{\"id\":\"3765\"},{\"id\":\"3766\"},{\"id\":\"3767\"}]},\"id\":\"3769\",\"type\":\"Toolbar\"},{\"attributes\":{\"days\":[1,2,3,4,5,6,7,8,9,10,11,12,13,14,15,16,17,18,19,20,21,22,23,24,25,26,27,28,29,30,31]},\"id\":\"4014\",\"type\":\"DaysTicker\"},{\"attributes\":{\"base\":24,\"mantissas\":[1,2,4,6,8,12],\"max_interval\":43200000.0,\"min_interval\":3600000.0,\"num_minor_ticks\":0},\"id\":\"4013\",\"type\":\"AdaptiveTicker\"},{\"attributes\":{\"overlay\":{\"id\":\"3768\"}},\"id\":\"3764\",\"type\":\"BoxZoomTool\"},{\"attributes\":{},\"id\":\"3765\",\"type\":\"SaveTool\"},{\"attributes\":{\"num_minor_ticks\":5,\"tickers\":[{\"id\":\"4011\"},{\"id\":\"4012\"},{\"id\":\"4013\"},{\"id\":\"4014\"},{\"id\":\"4015\"},{\"id\":\"4016\"},{\"id\":\"4017\"},{\"id\":\"4018\"},{\"id\":\"4019\"},{\"id\":\"4020\"},{\"id\":\"4021\"},{\"id\":\"4022\"}]},\"id\":\"3755\",\"type\":\"DatetimeTicker\"},{\"attributes\":{\"months\":[0,1,2,3,4,5,6,7,8,9,10,11]},\"id\":\"4018\",\"type\":\"MonthsTicker\"},{\"attributes\":{},\"id\":\"3766\",\"type\":\"ResetTool\"},{\"attributes\":{},\"id\":\"3750\",\"type\":\"LinearScale\"},{\"attributes\":{\"data\":{\"x\":{\"__ndarray__\":\"AACAe0hcdEIAAMBDiV50QgAAAAzKYHRCAABA1ApjdEIAAICcS2V0QgAAwGSMZ3RCAAAALc1pdEIAAED1DWx0QgAAgL1ObnRCAADAhY9wdEIAAABO0HJ0QgAAQBYRdXRCAACA3lF3dEIAAMCmknl0QgAAAG/Te3RCAABANxR+dEIAAID/VIB0QgAAwMeVgnRC\",\"dtype\":\"float64\",\"order\":\"little\",\"shape\":[18]},\"y\":[42,72,69,74,78,77,75,85,79,72,83,96,97,90,80,84,74,77]},\"selected\":{\"id\":\"4025\"},\"selection_policy\":{\"id\":\"4026\"}},\"id\":\"3781\",\"type\":\"ColumnDataSource\"},{\"attributes\":{\"days\":[1,4,7,10,13,16,19,22,25,28]},\"id\":\"4015\",\"type\":\"DaysTicker\"},{\"attributes\":{\"months\":[0,2,4,6,8,10]},\"id\":\"4019\",\"type\":\"MonthsTicker\"},{\"attributes\":{\"line_alpha\":0.1,\"line_color\":\"#1f77b4\",\"x\":{\"field\":\"x\"},\"y\":{\"field\":\"y\"}},\"id\":\"3783\",\"type\":\"Line\"},{\"attributes\":{\"line_color\":\"#1f77b4\",\"x\":{\"field\":\"x\"},\"y\":{\"field\":\"y\"}},\"id\":\"3782\",\"type\":\"Line\"},{\"attributes\":{\"days\":[1,15]},\"id\":\"4017\",\"type\":\"DaysTicker\"},{\"attributes\":{\"months\":[0,6]},\"id\":\"4021\",\"type\":\"MonthsTicker\"},{\"attributes\":{\"days\":[1,8,15,22]},\"id\":\"4016\",\"type\":\"DaysTicker\"},{\"attributes\":{},\"id\":\"4022\",\"type\":\"YearsTicker\"},{\"attributes\":{\"axis_label\":\"Time (weekly)\",\"formatter\":{\"id\":\"4007\"},\"ticker\":{\"id\":\"3755\"}},\"id\":\"3754\",\"type\":\"DatetimeAxis\"},{\"attributes\":{\"text\":\"Count of weekly active users\"},\"id\":\"3744\",\"type\":\"Title\"},{\"attributes\":{},\"id\":\"3752\",\"type\":\"LinearScale\"},{\"attributes\":{},\"id\":\"4007\",\"type\":\"DatetimeTickFormatter\"},{\"attributes\":{\"months\":[0,4,8]},\"id\":\"4020\",\"type\":\"MonthsTicker\"},{\"attributes\":{},\"id\":\"3748\",\"type\":\"DataRange1d\"},{\"attributes\":{\"source\":{\"id\":\"3776\"}},\"id\":\"3780\",\"type\":\"CDSView\"},{\"attributes\":{\"data_source\":{\"id\":\"3776\"},\"glyph\":{\"id\":\"3777\"},\"hover_glyph\":null,\"muted_glyph\":null,\"nonselection_glyph\":{\"id\":\"3778\"},\"selection_glyph\":null,\"view\":{\"id\":\"3780\"}},\"id\":\"3779\",\"type\":\"GlyphRenderer\"},{\"attributes\":{},\"id\":\"3746\",\"type\":\"DataRange1d\"},{\"attributes\":{\"source\":{\"id\":\"3781\"}},\"id\":\"3785\",\"type\":\"CDSView\"},{\"attributes\":{\"data_source\":{\"id\":\"3781\"},\"glyph\":{\"id\":\"3782\"},\"hover_glyph\":null,\"muted_glyph\":null,\"nonselection_glyph\":{\"id\":\"3783\"},\"selection_glyph\":null,\"view\":{\"id\":\"3785\"}},\"id\":\"3784\",\"type\":\"GlyphRenderer\"},{\"attributes\":{},\"id\":\"4023\",\"type\":\"Selection\"},{\"attributes\":{\"fill_color\":{\"value\":\"#1f77b4\"},\"line_color\":{\"value\":\"#1f77b4\"},\"x\":{\"field\":\"x\"},\"y\":{\"field\":\"y\"}},\"id\":\"3777\",\"type\":\"Scatter\"},{\"attributes\":{\"base\":60,\"mantissas\":[1,2,5,10,15,20,30],\"max_interval\":1800000.0,\"min_interval\":1000.0,\"num_minor_ticks\":0},\"id\":\"4012\",\"type\":\"AdaptiveTicker\"},{\"attributes\":{},\"id\":\"4024\",\"type\":\"UnionRenderers\"},{\"attributes\":{\"bottom_units\":\"screen\",\"fill_alpha\":0.5,\"fill_color\":\"lightgrey\",\"left_units\":\"screen\",\"level\":\"overlay\",\"line_alpha\":1.0,\"line_color\":\"black\",\"line_dash\":[4,4],\"line_width\":2,\"right_units\":\"screen\",\"top_units\":\"screen\"},\"id\":\"3768\",\"type\":\"BoxAnnotation\"},{\"attributes\":{\"fill_alpha\":{\"value\":0.1},\"fill_color\":{\"value\":\"#1f77b4\"},\"line_alpha\":{\"value\":0.1},\"line_color\":{\"value\":\"#1f77b4\"},\"x\":{\"field\":\"x\"},\"y\":{\"field\":\"y\"}},\"id\":\"3778\",\"type\":\"Scatter\"},{\"attributes\":{},\"id\":\"3762\",\"type\":\"PanTool\"},{\"attributes\":{\"mantissas\":[1,2,5],\"max_interval\":500.0,\"num_minor_ticks\":0},\"id\":\"4011\",\"type\":\"AdaptiveTicker\"},{\"attributes\":{},\"id\":\"4025\",\"type\":\"Selection\"},{\"attributes\":{\"axis\":{\"id\":\"3758\"},\"dimension\":1,\"ticker\":null},\"id\":\"3761\",\"type\":\"Grid\"},{\"attributes\":{},\"id\":\"3763\",\"type\":\"WheelZoomTool\"},{\"attributes\":{},\"id\":\"4009\",\"type\":\"BasicTickFormatter\"},{\"attributes\":{},\"id\":\"4026\",\"type\":\"UnionRenderers\"},{\"attributes\":{},\"id\":\"3759\",\"type\":\"BasicTicker\"},{\"attributes\":{\"axis_label\":\"Counts\",\"formatter\":{\"id\":\"4009\"},\"ticker\":{\"id\":\"3759\"}},\"id\":\"3758\",\"type\":\"LinearAxis\"},{\"attributes\":{\"data\":{\"x\":{\"__ndarray__\":\"AACAe0hcdEIAAMBDiV50QgAAAAzKYHRCAABA1ApjdEIAAICcS2V0QgAAwGSMZ3RCAAAALc1pdEIAAED1DWx0QgAAgL1ObnRCAADAhY9wdEIAAABO0HJ0QgAAQBYRdXRCAACA3lF3dEIAAMCmknl0QgAAAG/Te3RCAABANxR+dEIAAID/VIB0QgAAwMeVgnRC\",\"dtype\":\"float64\",\"order\":\"little\",\"shape\":[18]},\"y\":[42,72,69,74,78,77,75,85,79,72,83,96,97,90,80,84,74,77]},\"selected\":{\"id\":\"4023\"},\"selection_policy\":{\"id\":\"4024\"}},\"id\":\"3776\",\"type\":\"ColumnDataSource\"},{\"attributes\":{\"axis\":{\"id\":\"3754\"},\"ticker\":null},\"id\":\"3757\",\"type\":\"Grid\"}],\"root_ids\":[\"3743\"]},\"title\":\"Bokeh Application\",\"version\":\"2.2.1\"}};\n",
       "  var render_items = [{\"docid\":\"20caa2cb-9a05-4ec8-817e-bcb21bb3e2bf\",\"root_ids\":[\"3743\"],\"roots\":{\"3743\":\"ba61f60d-5529-4937-ae3c-0fbe32a1e1df\"}}];\n",
       "  root.Bokeh.embed.embed_items_notebook(docs_json, render_items);\n",
       "\n",
       "  }\n",
       "  if (root.Bokeh !== undefined) {\n",
       "    embed_document(root);\n",
       "  } else {\n",
       "    var attempts = 0;\n",
       "    var timer = setInterval(function(root) {\n",
       "      if (root.Bokeh !== undefined) {\n",
       "        clearInterval(timer);\n",
       "        embed_document(root);\n",
       "      } else {\n",
       "        attempts++;\n",
       "        if (attempts > 100) {\n",
       "          clearInterval(timer);\n",
       "          console.log(\"Bokeh: ERROR: Unable to run BokehJS code because BokehJS library is missing\");\n",
       "        }\n",
       "      }\n",
       "    }, 10, root)\n",
       "  }\n",
       "})(window);"
      ],
      "application/vnd.bokehjs_exec.v0+json": ""
     },
     "metadata": {
      "application/vnd.bokehjs_exec.v0+json": {
       "id": "3743"
      }
     },
     "output_type": "display_data"
    },
    {
     "name": "stdout",
     "output_type": "stream",
     "text": [
      "Australia\n"
     ]
    },
    {
     "data": {
      "text/html": [
       "\n",
       "\n",
       "\n",
       "\n",
       "\n",
       "\n",
       "  <div class=\"bk-root\" id=\"b341075c-a73f-40b1-90f0-0e4a41fe01f4\" data-root-id=\"4138\"></div>\n"
      ]
     },
     "metadata": {},
     "output_type": "display_data"
    },
    {
     "data": {
      "application/javascript": [
       "(function(root) {\n",
       "  function embed_document(root) {\n",
       "    \n",
       "  var docs_json = {\"da543906-bd3c-4b6e-90ba-5a6621ed6b43\":{\"roots\":{\"references\":[{\"attributes\":{\"below\":[{\"id\":\"4149\"}],\"center\":[{\"id\":\"4152\"},{\"id\":\"4156\"}],\"left\":[{\"id\":\"4153\"}],\"plot_height\":300,\"plot_width\":500,\"renderers\":[{\"id\":\"4174\"},{\"id\":\"4179\"}],\"title\":{\"id\":\"4139\"},\"toolbar\":{\"id\":\"4164\"},\"x_range\":{\"id\":\"4141\"},\"x_scale\":{\"id\":\"4145\"},\"y_range\":{\"id\":\"4143\"},\"y_scale\":{\"id\":\"4147\"}},\"id\":\"4138\",\"subtype\":\"Figure\",\"type\":\"Plot\"},{\"attributes\":{\"axis\":{\"id\":\"4153\"},\"dimension\":1,\"ticker\":null},\"id\":\"4156\",\"type\":\"Grid\"},{\"attributes\":{},\"id\":\"4154\",\"type\":\"BasicTicker\"},{\"attributes\":{\"overlay\":{\"id\":\"4163\"}},\"id\":\"4159\",\"type\":\"BoxZoomTool\"},{\"attributes\":{},\"id\":\"4160\",\"type\":\"SaveTool\"},{\"attributes\":{},\"id\":\"4440\",\"type\":\"Selection\"},{\"attributes\":{},\"id\":\"4143\",\"type\":\"DataRange1d\"},{\"attributes\":{},\"id\":\"4441\",\"type\":\"UnionRenderers\"},{\"attributes\":{\"axis_label\":\"Counts\",\"formatter\":{\"id\":\"4426\"},\"ticker\":{\"id\":\"4154\"}},\"id\":\"4153\",\"type\":\"LinearAxis\"},{\"attributes\":{},\"id\":\"4145\",\"type\":\"LinearScale\"},{\"attributes\":{\"active_drag\":\"auto\",\"active_inspect\":\"auto\",\"active_multi\":null,\"active_scroll\":\"auto\",\"active_tap\":\"auto\",\"tools\":[{\"id\":\"4157\"},{\"id\":\"4158\"},{\"id\":\"4159\"},{\"id\":\"4160\"},{\"id\":\"4161\"},{\"id\":\"4162\"}]},\"id\":\"4164\",\"type\":\"Toolbar\"},{\"attributes\":{},\"id\":\"4157\",\"type\":\"PanTool\"},{\"attributes\":{},\"id\":\"4141\",\"type\":\"DataRange1d\"},{\"attributes\":{},\"id\":\"4162\",\"type\":\"HelpTool\"},{\"attributes\":{\"data\":{\"x\":{\"__ndarray__\":\"AACAe0hcdEIAAMBDiV50QgAAAAzKYHRCAABA1ApjdEIAAICcS2V0QgAAwGSMZ3RCAAAALc1pdEIAAED1DWx0QgAAgL1ObnRCAADAhY9wdEIAAABO0HJ0QgAAQBYRdXRCAACA3lF3dEIAAMCmknl0QgAAAG/Te3RCAABANxR+dEIAAID/VIB0QgAAwMeVgnRC\",\"dtype\":\"float64\",\"order\":\"little\",\"shape\":[18]},\"y\":[17,26,28,24,20,27,28,27,25,27,28,25,25,38,31,28,26,25]},\"selected\":{\"id\":\"4440\"},\"selection_policy\":{\"id\":\"4441\"}},\"id\":\"4171\",\"type\":\"ColumnDataSource\"},{\"attributes\":{\"data\":{\"x\":{\"__ndarray__\":\"AACAe0hcdEIAAMBDiV50QgAAAAzKYHRCAABA1ApjdEIAAICcS2V0QgAAwGSMZ3RCAAAALc1pdEIAAED1DWx0QgAAgL1ObnRCAADAhY9wdEIAAABO0HJ0QgAAQBYRdXRCAACA3lF3dEIAAMCmknl0QgAAAG/Te3RCAABANxR+dEIAAID/VIB0QgAAwMeVgnRC\",\"dtype\":\"float64\",\"order\":\"little\",\"shape\":[18]},\"y\":[17,26,28,24,20,27,28,27,25,27,28,25,25,38,31,28,26,25]},\"selected\":{\"id\":\"4442\"},\"selection_policy\":{\"id\":\"4443\"}},\"id\":\"4176\",\"type\":\"ColumnDataSource\"},{\"attributes\":{},\"id\":\"4426\",\"type\":\"BasicTickFormatter\"},{\"attributes\":{\"fill_alpha\":{\"value\":0.1},\"fill_color\":{\"value\":\"#1f77b4\"},\"line_alpha\":{\"value\":0.1},\"line_color\":{\"value\":\"#1f77b4\"},\"x\":{\"field\":\"x\"},\"y\":{\"field\":\"y\"}},\"id\":\"4173\",\"type\":\"Scatter\"},{\"attributes\":{},\"id\":\"4158\",\"type\":\"WheelZoomTool\"},{\"attributes\":{},\"id\":\"4161\",\"type\":\"ResetTool\"},{\"attributes\":{\"line_color\":\"#1f77b4\",\"x\":{\"field\":\"x\"},\"y\":{\"field\":\"y\"}},\"id\":\"4177\",\"type\":\"Line\"},{\"attributes\":{\"source\":{\"id\":\"4171\"}},\"id\":\"4175\",\"type\":\"CDSView\"},{\"attributes\":{\"data_source\":{\"id\":\"4171\"},\"glyph\":{\"id\":\"4172\"},\"hover_glyph\":null,\"muted_glyph\":null,\"nonselection_glyph\":{\"id\":\"4173\"},\"selection_glyph\":null,\"view\":{\"id\":\"4175\"}},\"id\":\"4174\",\"type\":\"GlyphRenderer\"},{\"attributes\":{},\"id\":\"4442\",\"type\":\"Selection\"},{\"attributes\":{},\"id\":\"4443\",\"type\":\"UnionRenderers\"},{\"attributes\":{\"source\":{\"id\":\"4176\"}},\"id\":\"4180\",\"type\":\"CDSView\"},{\"attributes\":{\"mantissas\":[1,2,5],\"max_interval\":500.0,\"num_minor_ticks\":0},\"id\":\"4428\",\"type\":\"AdaptiveTicker\"},{\"attributes\":{\"base\":60,\"mantissas\":[1,2,5,10,15,20,30],\"max_interval\":1800000.0,\"min_interval\":1000.0,\"num_minor_ticks\":0},\"id\":\"4429\",\"type\":\"AdaptiveTicker\"},{\"attributes\":{\"line_alpha\":0.1,\"line_color\":\"#1f77b4\",\"x\":{\"field\":\"x\"},\"y\":{\"field\":\"y\"}},\"id\":\"4178\",\"type\":\"Line\"},{\"attributes\":{\"data_source\":{\"id\":\"4176\"},\"glyph\":{\"id\":\"4177\"},\"hover_glyph\":null,\"muted_glyph\":null,\"nonselection_glyph\":{\"id\":\"4178\"},\"selection_glyph\":null,\"view\":{\"id\":\"4180\"}},\"id\":\"4179\",\"type\":\"GlyphRenderer\"},{\"attributes\":{\"days\":[1,2,3,4,5,6,7,8,9,10,11,12,13,14,15,16,17,18,19,20,21,22,23,24,25,26,27,28,29,30,31]},\"id\":\"4431\",\"type\":\"DaysTicker\"},{\"attributes\":{\"base\":24,\"mantissas\":[1,2,4,6,8,12],\"max_interval\":43200000.0,\"min_interval\":3600000.0,\"num_minor_ticks\":0},\"id\":\"4430\",\"type\":\"AdaptiveTicker\"},{\"attributes\":{},\"id\":\"4424\",\"type\":\"DatetimeTickFormatter\"},{\"attributes\":{\"months\":[0,1,2,3,4,5,6,7,8,9,10,11]},\"id\":\"4435\",\"type\":\"MonthsTicker\"},{\"attributes\":{\"months\":[0,2,4,6,8,10]},\"id\":\"4436\",\"type\":\"MonthsTicker\"},{\"attributes\":{\"fill_color\":{\"value\":\"#1f77b4\"},\"line_color\":{\"value\":\"#1f77b4\"},\"x\":{\"field\":\"x\"},\"y\":{\"field\":\"y\"}},\"id\":\"4172\",\"type\":\"Scatter\"},{\"attributes\":{\"days\":[1,4,7,10,13,16,19,22,25,28]},\"id\":\"4432\",\"type\":\"DaysTicker\"},{\"attributes\":{\"axis_label\":\"Time (weekly)\",\"formatter\":{\"id\":\"4424\"},\"ticker\":{\"id\":\"4150\"}},\"id\":\"4149\",\"type\":\"DatetimeAxis\"},{\"attributes\":{\"days\":[1,15]},\"id\":\"4434\",\"type\":\"DaysTicker\"},{\"attributes\":{\"months\":[0,6]},\"id\":\"4438\",\"type\":\"MonthsTicker\"},{\"attributes\":{\"days\":[1,8,15,22]},\"id\":\"4433\",\"type\":\"DaysTicker\"},{\"attributes\":{},\"id\":\"4147\",\"type\":\"LinearScale\"},{\"attributes\":{},\"id\":\"4439\",\"type\":\"YearsTicker\"},{\"attributes\":{\"bottom_units\":\"screen\",\"fill_alpha\":0.5,\"fill_color\":\"lightgrey\",\"left_units\":\"screen\",\"level\":\"overlay\",\"line_alpha\":1.0,\"line_color\":\"black\",\"line_dash\":[4,4],\"line_width\":2,\"right_units\":\"screen\",\"top_units\":\"screen\"},\"id\":\"4163\",\"type\":\"BoxAnnotation\"},{\"attributes\":{\"text\":\"Count of weekly active users\"},\"id\":\"4139\",\"type\":\"Title\"},{\"attributes\":{\"months\":[0,4,8]},\"id\":\"4437\",\"type\":\"MonthsTicker\"},{\"attributes\":{\"num_minor_ticks\":5,\"tickers\":[{\"id\":\"4428\"},{\"id\":\"4429\"},{\"id\":\"4430\"},{\"id\":\"4431\"},{\"id\":\"4432\"},{\"id\":\"4433\"},{\"id\":\"4434\"},{\"id\":\"4435\"},{\"id\":\"4436\"},{\"id\":\"4437\"},{\"id\":\"4438\"},{\"id\":\"4439\"}]},\"id\":\"4150\",\"type\":\"DatetimeTicker\"},{\"attributes\":{\"axis\":{\"id\":\"4149\"},\"ticker\":null},\"id\":\"4152\",\"type\":\"Grid\"}],\"root_ids\":[\"4138\"]},\"title\":\"Bokeh Application\",\"version\":\"2.2.1\"}};\n",
       "  var render_items = [{\"docid\":\"da543906-bd3c-4b6e-90ba-5a6621ed6b43\",\"root_ids\":[\"4138\"],\"roots\":{\"4138\":\"b341075c-a73f-40b1-90f0-0e4a41fe01f4\"}}];\n",
       "  root.Bokeh.embed.embed_items_notebook(docs_json, render_items);\n",
       "\n",
       "  }\n",
       "  if (root.Bokeh !== undefined) {\n",
       "    embed_document(root);\n",
       "  } else {\n",
       "    var attempts = 0;\n",
       "    var timer = setInterval(function(root) {\n",
       "      if (root.Bokeh !== undefined) {\n",
       "        clearInterval(timer);\n",
       "        embed_document(root);\n",
       "      } else {\n",
       "        attempts++;\n",
       "        if (attempts > 100) {\n",
       "          clearInterval(timer);\n",
       "          console.log(\"Bokeh: ERROR: Unable to run BokehJS code because BokehJS library is missing\");\n",
       "        }\n",
       "      }\n",
       "    }, 10, root)\n",
       "  }\n",
       "})(window);"
      ],
      "application/vnd.bokehjs_exec.v0+json": ""
     },
     "metadata": {
      "application/vnd.bokehjs_exec.v0+json": {
       "id": "4138"
      }
     },
     "output_type": "display_data"
    },
    {
     "name": "stdout",
     "output_type": "stream",
     "text": [
      "Brazil\n"
     ]
    },
    {
     "data": {
      "text/html": [
       "\n",
       "\n",
       "\n",
       "\n",
       "\n",
       "\n",
       "  <div class=\"bk-root\" id=\"1748fcbd-2339-42bf-ad30-48d58280477b\" data-root-id=\"4555\"></div>\n"
      ]
     },
     "metadata": {},
     "output_type": "display_data"
    },
    {
     "data": {
      "application/javascript": [
       "(function(root) {\n",
       "  function embed_document(root) {\n",
       "    \n",
       "  var docs_json = {\"8a46830e-934d-4b90-b6f6-6438205c59af\":{\"roots\":{\"references\":[{\"attributes\":{\"below\":[{\"id\":\"4566\"}],\"center\":[{\"id\":\"4569\"},{\"id\":\"4573\"}],\"left\":[{\"id\":\"4570\"}],\"plot_height\":300,\"plot_width\":500,\"renderers\":[{\"id\":\"4591\"},{\"id\":\"4596\"}],\"title\":{\"id\":\"4556\"},\"toolbar\":{\"id\":\"4581\"},\"x_range\":{\"id\":\"4558\"},\"x_scale\":{\"id\":\"4562\"},\"y_range\":{\"id\":\"4560\"},\"y_scale\":{\"id\":\"4564\"}},\"id\":\"4555\",\"subtype\":\"Figure\",\"type\":\"Plot\"},{\"attributes\":{},\"id\":\"4879\",\"type\":\"Selection\"},{\"attributes\":{\"days\":[1,15]},\"id\":\"4873\",\"type\":\"DaysTicker\"},{\"attributes\":{},\"id\":\"4880\",\"type\":\"UnionRenderers\"},{\"attributes\":{},\"id\":\"4863\",\"type\":\"DatetimeTickFormatter\"},{\"attributes\":{\"bottom_units\":\"screen\",\"fill_alpha\":0.5,\"fill_color\":\"lightgrey\",\"left_units\":\"screen\",\"level\":\"overlay\",\"line_alpha\":1.0,\"line_color\":\"black\",\"line_dash\":[4,4],\"line_width\":2,\"right_units\":\"screen\",\"top_units\":\"screen\"},\"id\":\"4580\",\"type\":\"BoxAnnotation\"},{\"attributes\":{},\"id\":\"4571\",\"type\":\"BasicTicker\"},{\"attributes\":{},\"id\":\"4575\",\"type\":\"WheelZoomTool\"},{\"attributes\":{\"axis\":{\"id\":\"4570\"},\"dimension\":1,\"ticker\":null},\"id\":\"4573\",\"type\":\"Grid\"},{\"attributes\":{\"base\":24,\"mantissas\":[1,2,4,6,8,12],\"max_interval\":43200000.0,\"min_interval\":3600000.0,\"num_minor_ticks\":0},\"id\":\"4869\",\"type\":\"AdaptiveTicker\"},{\"attributes\":{},\"id\":\"4881\",\"type\":\"Selection\"},{\"attributes\":{\"overlay\":{\"id\":\"4580\"}},\"id\":\"4576\",\"type\":\"BoxZoomTool\"},{\"attributes\":{},\"id\":\"4882\",\"type\":\"UnionRenderers\"},{\"attributes\":{},\"id\":\"4564\",\"type\":\"LinearScale\"},{\"attributes\":{\"axis_label\":\"Counts\",\"formatter\":{\"id\":\"4865\"},\"ticker\":{\"id\":\"4571\"}},\"id\":\"4570\",\"type\":\"LinearAxis\"},{\"attributes\":{\"data\":{\"x\":{\"__ndarray__\":\"AACAe0hcdEIAAMBDiV50QgAAAAzKYHRCAABA1ApjdEIAAICcS2V0QgAAwGSMZ3RCAAAALc1pdEIAAED1DWx0QgAAgL1ObnRCAADAhY9wdEIAAABO0HJ0QgAAQBYRdXRCAACA3lF3dEIAAMCmknl0QgAAAG/Te3RCAABANxR+dEIAAID/VIB0QgAAwMeVgnRC\",\"dtype\":\"float64\",\"order\":\"little\",\"shape\":[18]},\"y\":[28,36,32,41,39,38,46,45,34,46,45,42,49,54,38,44,41,39]},\"selected\":{\"id\":\"4879\"},\"selection_policy\":{\"id\":\"4880\"}},\"id\":\"4588\",\"type\":\"ColumnDataSource\"},{\"attributes\":{\"days\":[1,4,7,10,13,16,19,22,25,28]},\"id\":\"4871\",\"type\":\"DaysTicker\"},{\"attributes\":{\"data_source\":{\"id\":\"4593\"},\"glyph\":{\"id\":\"4594\"},\"hover_glyph\":null,\"muted_glyph\":null,\"nonselection_glyph\":{\"id\":\"4595\"},\"selection_glyph\":null,\"view\":{\"id\":\"4597\"}},\"id\":\"4596\",\"type\":\"GlyphRenderer\"},{\"attributes\":{\"axis_label\":\"Time (weekly)\",\"formatter\":{\"id\":\"4863\"},\"ticker\":{\"id\":\"4567\"}},\"id\":\"4566\",\"type\":\"DatetimeAxis\"},{\"attributes\":{},\"id\":\"4560\",\"type\":\"DataRange1d\"},{\"attributes\":{},\"id\":\"4577\",\"type\":\"SaveTool\"},{\"attributes\":{\"num_minor_ticks\":5,\"tickers\":[{\"id\":\"4867\"},{\"id\":\"4868\"},{\"id\":\"4869\"},{\"id\":\"4870\"},{\"id\":\"4871\"},{\"id\":\"4872\"},{\"id\":\"4873\"},{\"id\":\"4874\"},{\"id\":\"4875\"},{\"id\":\"4876\"},{\"id\":\"4877\"},{\"id\":\"4878\"}]},\"id\":\"4567\",\"type\":\"DatetimeTicker\"},{\"attributes\":{\"active_drag\":\"auto\",\"active_inspect\":\"auto\",\"active_multi\":null,\"active_scroll\":\"auto\",\"active_tap\":\"auto\",\"tools\":[{\"id\":\"4574\"},{\"id\":\"4575\"},{\"id\":\"4576\"},{\"id\":\"4577\"},{\"id\":\"4578\"},{\"id\":\"4579\"}]},\"id\":\"4581\",\"type\":\"Toolbar\"},{\"attributes\":{},\"id\":\"4579\",\"type\":\"HelpTool\"},{\"attributes\":{},\"id\":\"4865\",\"type\":\"BasicTickFormatter\"},{\"attributes\":{},\"id\":\"4562\",\"type\":\"LinearScale\"},{\"attributes\":{\"data\":{\"x\":{\"__ndarray__\":\"AACAe0hcdEIAAMBDiV50QgAAAAzKYHRCAABA1ApjdEIAAICcS2V0QgAAwGSMZ3RCAAAALc1pdEIAAED1DWx0QgAAgL1ObnRCAADAhY9wdEIAAABO0HJ0QgAAQBYRdXRCAACA3lF3dEIAAMCmknl0QgAAAG/Te3RCAABANxR+dEIAAID/VIB0QgAAwMeVgnRC\",\"dtype\":\"float64\",\"order\":\"little\",\"shape\":[18]},\"y\":[28,36,32,41,39,38,46,45,34,46,45,42,49,54,38,44,41,39]},\"selected\":{\"id\":\"4881\"},\"selection_policy\":{\"id\":\"4882\"}},\"id\":\"4593\",\"type\":\"ColumnDataSource\"},{\"attributes\":{},\"id\":\"4574\",\"type\":\"PanTool\"},{\"attributes\":{\"months\":[0,2,4,6,8,10]},\"id\":\"4875\",\"type\":\"MonthsTicker\"},{\"attributes\":{\"fill_alpha\":{\"value\":0.1},\"fill_color\":{\"value\":\"#1f77b4\"},\"line_alpha\":{\"value\":0.1},\"line_color\":{\"value\":\"#1f77b4\"},\"x\":{\"field\":\"x\"},\"y\":{\"field\":\"y\"}},\"id\":\"4590\",\"type\":\"Scatter\"},{\"attributes\":{\"axis\":{\"id\":\"4566\"},\"ticker\":null},\"id\":\"4569\",\"type\":\"Grid\"},{\"attributes\":{},\"id\":\"4878\",\"type\":\"YearsTicker\"},{\"attributes\":{},\"id\":\"4578\",\"type\":\"ResetTool\"},{\"attributes\":{\"line_color\":\"#1f77b4\",\"x\":{\"field\":\"x\"},\"y\":{\"field\":\"y\"}},\"id\":\"4594\",\"type\":\"Line\"},{\"attributes\":{\"months\":[0,6]},\"id\":\"4877\",\"type\":\"MonthsTicker\"},{\"attributes\":{\"source\":{\"id\":\"4588\"}},\"id\":\"4592\",\"type\":\"CDSView\"},{\"attributes\":{\"base\":60,\"mantissas\":[1,2,5,10,15,20,30],\"max_interval\":1800000.0,\"min_interval\":1000.0,\"num_minor_ticks\":0},\"id\":\"4868\",\"type\":\"AdaptiveTicker\"},{\"attributes\":{\"data_source\":{\"id\":\"4588\"},\"glyph\":{\"id\":\"4589\"},\"hover_glyph\":null,\"muted_glyph\":null,\"nonselection_glyph\":{\"id\":\"4590\"},\"selection_glyph\":null,\"view\":{\"id\":\"4592\"}},\"id\":\"4591\",\"type\":\"GlyphRenderer\"},{\"attributes\":{\"text\":\"Count of weekly active users\"},\"id\":\"4556\",\"type\":\"Title\"},{\"attributes\":{\"months\":[0,4,8]},\"id\":\"4876\",\"type\":\"MonthsTicker\"},{\"attributes\":{},\"id\":\"4558\",\"type\":\"DataRange1d\"},{\"attributes\":{\"source\":{\"id\":\"4593\"}},\"id\":\"4597\",\"type\":\"CDSView\"},{\"attributes\":{\"days\":[1,2,3,4,5,6,7,8,9,10,11,12,13,14,15,16,17,18,19,20,21,22,23,24,25,26,27,28,29,30,31]},\"id\":\"4870\",\"type\":\"DaysTicker\"},{\"attributes\":{\"months\":[0,1,2,3,4,5,6,7,8,9,10,11]},\"id\":\"4874\",\"type\":\"MonthsTicker\"},{\"attributes\":{\"mantissas\":[1,2,5],\"max_interval\":500.0,\"num_minor_ticks\":0},\"id\":\"4867\",\"type\":\"AdaptiveTicker\"},{\"attributes\":{\"line_alpha\":0.1,\"line_color\":\"#1f77b4\",\"x\":{\"field\":\"x\"},\"y\":{\"field\":\"y\"}},\"id\":\"4595\",\"type\":\"Line\"},{\"attributes\":{\"days\":[1,8,15,22]},\"id\":\"4872\",\"type\":\"DaysTicker\"},{\"attributes\":{\"fill_color\":{\"value\":\"#1f77b4\"},\"line_color\":{\"value\":\"#1f77b4\"},\"x\":{\"field\":\"x\"},\"y\":{\"field\":\"y\"}},\"id\":\"4589\",\"type\":\"Scatter\"}],\"root_ids\":[\"4555\"]},\"title\":\"Bokeh Application\",\"version\":\"2.2.1\"}};\n",
       "  var render_items = [{\"docid\":\"8a46830e-934d-4b90-b6f6-6438205c59af\",\"root_ids\":[\"4555\"],\"roots\":{\"4555\":\"1748fcbd-2339-42bf-ad30-48d58280477b\"}}];\n",
       "  root.Bokeh.embed.embed_items_notebook(docs_json, render_items);\n",
       "\n",
       "  }\n",
       "  if (root.Bokeh !== undefined) {\n",
       "    embed_document(root);\n",
       "  } else {\n",
       "    var attempts = 0;\n",
       "    var timer = setInterval(function(root) {\n",
       "      if (root.Bokeh !== undefined) {\n",
       "        clearInterval(timer);\n",
       "        embed_document(root);\n",
       "      } else {\n",
       "        attempts++;\n",
       "        if (attempts > 100) {\n",
       "          clearInterval(timer);\n",
       "          console.log(\"Bokeh: ERROR: Unable to run BokehJS code because BokehJS library is missing\");\n",
       "        }\n",
       "      }\n",
       "    }, 10, root)\n",
       "  }\n",
       "})(window);"
      ],
      "application/vnd.bokehjs_exec.v0+json": ""
     },
     "metadata": {
      "application/vnd.bokehjs_exec.v0+json": {
       "id": "4555"
      }
     },
     "output_type": "display_data"
    },
    {
     "name": "stdout",
     "output_type": "stream",
     "text": [
      "Thailand\n"
     ]
    },
    {
     "data": {
      "text/html": [
       "\n",
       "\n",
       "\n",
       "\n",
       "\n",
       "\n",
       "  <div class=\"bk-root\" id=\"8d4cd13f-c17e-4b2a-bdd4-80c2db235975\" data-root-id=\"4994\"></div>\n"
      ]
     },
     "metadata": {},
     "output_type": "display_data"
    },
    {
     "data": {
      "application/javascript": [
       "(function(root) {\n",
       "  function embed_document(root) {\n",
       "    \n",
       "  var docs_json = {\"fbd8d1da-96d1-4b82-9805-0e14ff586723\":{\"roots\":{\"references\":[{\"attributes\":{\"below\":[{\"id\":\"5005\"}],\"center\":[{\"id\":\"5008\"},{\"id\":\"5012\"}],\"left\":[{\"id\":\"5009\"}],\"plot_height\":300,\"plot_width\":500,\"renderers\":[{\"id\":\"5030\"},{\"id\":\"5035\"}],\"title\":{\"id\":\"4995\"},\"toolbar\":{\"id\":\"5020\"},\"x_range\":{\"id\":\"4997\"},\"x_scale\":{\"id\":\"5001\"},\"y_range\":{\"id\":\"4999\"},\"y_scale\":{\"id\":\"5003\"}},\"id\":\"4994\",\"subtype\":\"Figure\",\"type\":\"Plot\"},{\"attributes\":{},\"id\":\"5018\",\"type\":\"HelpTool\"},{\"attributes\":{\"data\":{\"x\":{\"__ndarray__\":\"AACAe0hcdEIAAMBDiV50QgAAAAzKYHRCAABA1ApjdEIAAICcS2V0QgAAwGSMZ3RCAAAALc1pdEIAAED1DWx0QgAAgL1ObnRCAADAhY9wdEIAAABO0HJ0QgAAQBYRdXRCAACA3lF3dEIAAMCmknl0QgAAAG/Te3RCAABANxR+dEIAAID/VIB0QgAAwMeVgnRC\",\"dtype\":\"float64\",\"order\":\"little\",\"shape\":[18]},\"y\":[4,7,6,8,10,7,11,9,5,5,11,13,7,10,10,8,4,2]},\"selected\":{\"id\":\"5340\"},\"selection_policy\":{\"id\":\"5341\"}},\"id\":\"5027\",\"type\":\"ColumnDataSource\"},{\"attributes\":{\"line_color\":\"#1f77b4\",\"x\":{\"field\":\"x\"},\"y\":{\"field\":\"y\"}},\"id\":\"5033\",\"type\":\"Line\"},{\"attributes\":{\"source\":{\"id\":\"5032\"}},\"id\":\"5036\",\"type\":\"CDSView\"},{\"attributes\":{},\"id\":\"5326\",\"type\":\"BasicTickFormatter\"},{\"attributes\":{},\"id\":\"4997\",\"type\":\"DataRange1d\"},{\"attributes\":{\"line_alpha\":0.1,\"line_color\":\"#1f77b4\",\"x\":{\"field\":\"x\"},\"y\":{\"field\":\"y\"}},\"id\":\"5034\",\"type\":\"Line\"},{\"attributes\":{},\"id\":\"5342\",\"type\":\"Selection\"},{\"attributes\":{\"mantissas\":[1,2,5],\"max_interval\":500.0,\"num_minor_ticks\":0},\"id\":\"5328\",\"type\":\"AdaptiveTicker\"},{\"attributes\":{},\"id\":\"4999\",\"type\":\"DataRange1d\"},{\"attributes\":{\"base\":60,\"mantissas\":[1,2,5,10,15,20,30],\"max_interval\":1800000.0,\"min_interval\":1000.0,\"num_minor_ticks\":0},\"id\":\"5329\",\"type\":\"AdaptiveTicker\"},{\"attributes\":{\"days\":[1,2,3,4,5,6,7,8,9,10,11,12,13,14,15,16,17,18,19,20,21,22,23,24,25,26,27,28,29,30,31]},\"id\":\"5331\",\"type\":\"DaysTicker\"},{\"attributes\":{\"base\":24,\"mantissas\":[1,2,4,6,8,12],\"max_interval\":43200000.0,\"min_interval\":3600000.0,\"num_minor_ticks\":0},\"id\":\"5330\",\"type\":\"AdaptiveTicker\"},{\"attributes\":{\"months\":[0,1,2,3,4,5,6,7,8,9,10,11]},\"id\":\"5335\",\"type\":\"MonthsTicker\"},{\"attributes\":{},\"id\":\"5016\",\"type\":\"SaveTool\"},{\"attributes\":{\"months\":[0,2,4,6,8,10]},\"id\":\"5336\",\"type\":\"MonthsTicker\"},{\"attributes\":{\"days\":[1,4,7,10,13,16,19,22,25,28]},\"id\":\"5332\",\"type\":\"DaysTicker\"},{\"attributes\":{},\"id\":\"5010\",\"type\":\"BasicTicker\"},{\"attributes\":{\"days\":[1,15]},\"id\":\"5334\",\"type\":\"DaysTicker\"},{\"attributes\":{\"months\":[0,6]},\"id\":\"5338\",\"type\":\"MonthsTicker\"},{\"attributes\":{\"fill_color\":{\"value\":\"#1f77b4\"},\"line_color\":{\"value\":\"#1f77b4\"},\"x\":{\"field\":\"x\"},\"y\":{\"field\":\"y\"}},\"id\":\"5028\",\"type\":\"Scatter\"},{\"attributes\":{},\"id\":\"5013\",\"type\":\"PanTool\"},{\"attributes\":{\"days\":[1,8,15,22]},\"id\":\"5333\",\"type\":\"DaysTicker\"},{\"attributes\":{\"overlay\":{\"id\":\"5019\"}},\"id\":\"5015\",\"type\":\"BoxZoomTool\"},{\"attributes\":{},\"id\":\"5339\",\"type\":\"YearsTicker\"},{\"attributes\":{\"text\":\"Count of weekly active users\"},\"id\":\"4995\",\"type\":\"Title\"},{\"attributes\":{\"months\":[0,4,8]},\"id\":\"5337\",\"type\":\"MonthsTicker\"},{\"attributes\":{},\"id\":\"5017\",\"type\":\"ResetTool\"},{\"attributes\":{},\"id\":\"5324\",\"type\":\"DatetimeTickFormatter\"},{\"attributes\":{\"data_source\":{\"id\":\"5032\"},\"glyph\":{\"id\":\"5033\"},\"hover_glyph\":null,\"muted_glyph\":null,\"nonselection_glyph\":{\"id\":\"5034\"},\"selection_glyph\":null,\"view\":{\"id\":\"5036\"}},\"id\":\"5035\",\"type\":\"GlyphRenderer\"},{\"attributes\":{\"axis\":{\"id\":\"5009\"},\"dimension\":1,\"ticker\":null},\"id\":\"5012\",\"type\":\"Grid\"},{\"attributes\":{\"axis\":{\"id\":\"5005\"},\"ticker\":null},\"id\":\"5008\",\"type\":\"Grid\"},{\"attributes\":{\"source\":{\"id\":\"5027\"}},\"id\":\"5031\",\"type\":\"CDSView\"},{\"attributes\":{\"num_minor_ticks\":5,\"tickers\":[{\"id\":\"5328\"},{\"id\":\"5329\"},{\"id\":\"5330\"},{\"id\":\"5331\"},{\"id\":\"5332\"},{\"id\":\"5333\"},{\"id\":\"5334\"},{\"id\":\"5335\"},{\"id\":\"5336\"},{\"id\":\"5337\"},{\"id\":\"5338\"},{\"id\":\"5339\"}]},\"id\":\"5006\",\"type\":\"DatetimeTicker\"},{\"attributes\":{\"axis_label\":\"Time (weekly)\",\"formatter\":{\"id\":\"5324\"},\"ticker\":{\"id\":\"5006\"}},\"id\":\"5005\",\"type\":\"DatetimeAxis\"},{\"attributes\":{},\"id\":\"5003\",\"type\":\"LinearScale\"},{\"attributes\":{},\"id\":\"5001\",\"type\":\"LinearScale\"},{\"attributes\":{\"active_drag\":\"auto\",\"active_inspect\":\"auto\",\"active_multi\":null,\"active_scroll\":\"auto\",\"active_tap\":\"auto\",\"tools\":[{\"id\":\"5013\"},{\"id\":\"5014\"},{\"id\":\"5015\"},{\"id\":\"5016\"},{\"id\":\"5017\"},{\"id\":\"5018\"}]},\"id\":\"5020\",\"type\":\"Toolbar\"},{\"attributes\":{},\"id\":\"5343\",\"type\":\"UnionRenderers\"},{\"attributes\":{},\"id\":\"5340\",\"type\":\"Selection\"},{\"attributes\":{\"axis_label\":\"Counts\",\"formatter\":{\"id\":\"5326\"},\"ticker\":{\"id\":\"5010\"}},\"id\":\"5009\",\"type\":\"LinearAxis\"},{\"attributes\":{},\"id\":\"5341\",\"type\":\"UnionRenderers\"},{\"attributes\":{\"bottom_units\":\"screen\",\"fill_alpha\":0.5,\"fill_color\":\"lightgrey\",\"left_units\":\"screen\",\"level\":\"overlay\",\"line_alpha\":1.0,\"line_color\":\"black\",\"line_dash\":[4,4],\"line_width\":2,\"right_units\":\"screen\",\"top_units\":\"screen\"},\"id\":\"5019\",\"type\":\"BoxAnnotation\"},{\"attributes\":{\"data\":{\"x\":{\"__ndarray__\":\"AACAe0hcdEIAAMBDiV50QgAAAAzKYHRCAABA1ApjdEIAAICcS2V0QgAAwGSMZ3RCAAAALc1pdEIAAED1DWx0QgAAgL1ObnRCAADAhY9wdEIAAABO0HJ0QgAAQBYRdXRCAACA3lF3dEIAAMCmknl0QgAAAG/Te3RCAABANxR+dEIAAID/VIB0QgAAwMeVgnRC\",\"dtype\":\"float64\",\"order\":\"little\",\"shape\":[18]},\"y\":[4,7,6,8,10,7,11,9,5,5,11,13,7,10,10,8,4,2]},\"selected\":{\"id\":\"5342\"},\"selection_policy\":{\"id\":\"5343\"}},\"id\":\"5032\",\"type\":\"ColumnDataSource\"},{\"attributes\":{\"data_source\":{\"id\":\"5027\"},\"glyph\":{\"id\":\"5028\"},\"hover_glyph\":null,\"muted_glyph\":null,\"nonselection_glyph\":{\"id\":\"5029\"},\"selection_glyph\":null,\"view\":{\"id\":\"5031\"}},\"id\":\"5030\",\"type\":\"GlyphRenderer\"},{\"attributes\":{\"fill_alpha\":{\"value\":0.1},\"fill_color\":{\"value\":\"#1f77b4\"},\"line_alpha\":{\"value\":0.1},\"line_color\":{\"value\":\"#1f77b4\"},\"x\":{\"field\":\"x\"},\"y\":{\"field\":\"y\"}},\"id\":\"5029\",\"type\":\"Scatter\"},{\"attributes\":{},\"id\":\"5014\",\"type\":\"WheelZoomTool\"}],\"root_ids\":[\"4994\"]},\"title\":\"Bokeh Application\",\"version\":\"2.2.1\"}};\n",
       "  var render_items = [{\"docid\":\"fbd8d1da-96d1-4b82-9805-0e14ff586723\",\"root_ids\":[\"4994\"],\"roots\":{\"4994\":\"8d4cd13f-c17e-4b2a-bdd4-80c2db235975\"}}];\n",
       "  root.Bokeh.embed.embed_items_notebook(docs_json, render_items);\n",
       "\n",
       "  }\n",
       "  if (root.Bokeh !== undefined) {\n",
       "    embed_document(root);\n",
       "  } else {\n",
       "    var attempts = 0;\n",
       "    var timer = setInterval(function(root) {\n",
       "      if (root.Bokeh !== undefined) {\n",
       "        clearInterval(timer);\n",
       "        embed_document(root);\n",
       "      } else {\n",
       "        attempts++;\n",
       "        if (attempts > 100) {\n",
       "          clearInterval(timer);\n",
       "          console.log(\"Bokeh: ERROR: Unable to run BokehJS code because BokehJS library is missing\");\n",
       "        }\n",
       "      }\n",
       "    }, 10, root)\n",
       "  }\n",
       "})(window);"
      ],
      "application/vnd.bokehjs_exec.v0+json": ""
     },
     "metadata": {
      "application/vnd.bokehjs_exec.v0+json": {
       "id": "4994"
      }
     },
     "output_type": "display_data"
    },
    {
     "name": "stdout",
     "output_type": "stream",
     "text": [
      "Russia\n"
     ]
    },
    {
     "data": {
      "text/html": [
       "\n",
       "\n",
       "\n",
       "\n",
       "\n",
       "\n",
       "  <div class=\"bk-root\" id=\"5122af6a-2e19-44a0-9979-1b1f7ff0ee3c\" data-root-id=\"5455\"></div>\n"
      ]
     },
     "metadata": {},
     "output_type": "display_data"
    },
    {
     "data": {
      "application/javascript": [
       "(function(root) {\n",
       "  function embed_document(root) {\n",
       "    \n",
       "  var docs_json = {\"352162ca-7c34-4435-bb24-4296b049ad99\":{\"roots\":{\"references\":[{\"attributes\":{\"below\":[{\"id\":\"5466\"}],\"center\":[{\"id\":\"5469\"},{\"id\":\"5473\"}],\"left\":[{\"id\":\"5470\"}],\"plot_height\":300,\"plot_width\":500,\"renderers\":[{\"id\":\"5491\"},{\"id\":\"5496\"}],\"title\":{\"id\":\"5456\"},\"toolbar\":{\"id\":\"5481\"},\"x_range\":{\"id\":\"5458\"},\"x_scale\":{\"id\":\"5462\"},\"y_range\":{\"id\":\"5460\"},\"y_scale\":{\"id\":\"5464\"}},\"id\":\"5455\",\"subtype\":\"Figure\",\"type\":\"Plot\"},{\"attributes\":{\"num_minor_ticks\":5,\"tickers\":[{\"id\":\"5811\"},{\"id\":\"5812\"},{\"id\":\"5813\"},{\"id\":\"5814\"},{\"id\":\"5815\"},{\"id\":\"5816\"},{\"id\":\"5817\"},{\"id\":\"5818\"},{\"id\":\"5819\"},{\"id\":\"5820\"},{\"id\":\"5821\"},{\"id\":\"5822\"}]},\"id\":\"5467\",\"type\":\"DatetimeTicker\"},{\"attributes\":{\"mantissas\":[1,2,5],\"max_interval\":500.0,\"num_minor_ticks\":0},\"id\":\"5811\",\"type\":\"AdaptiveTicker\"},{\"attributes\":{},\"id\":\"5458\",\"type\":\"DataRange1d\"},{\"attributes\":{},\"id\":\"5825\",\"type\":\"Selection\"},{\"attributes\":{},\"id\":\"5477\",\"type\":\"SaveTool\"},{\"attributes\":{\"text\":\"Count of weekly active users\"},\"id\":\"5456\",\"type\":\"Title\"},{\"attributes\":{\"active_drag\":\"auto\",\"active_inspect\":\"auto\",\"active_multi\":null,\"active_scroll\":\"auto\",\"active_tap\":\"auto\",\"tools\":[{\"id\":\"5474\"},{\"id\":\"5475\"},{\"id\":\"5476\"},{\"id\":\"5477\"},{\"id\":\"5478\"},{\"id\":\"5479\"}]},\"id\":\"5481\",\"type\":\"Toolbar\"},{\"attributes\":{},\"id\":\"5807\",\"type\":\"DatetimeTickFormatter\"},{\"attributes\":{},\"id\":\"5826\",\"type\":\"UnionRenderers\"},{\"attributes\":{},\"id\":\"5475\",\"type\":\"WheelZoomTool\"},{\"attributes\":{},\"id\":\"5478\",\"type\":\"ResetTool\"},{\"attributes\":{\"data\":{\"x\":{\"__ndarray__\":\"AACAe0hcdEIAAMBDiV50QgAAAAzKYHRCAABA1ApjdEIAAICcS2V0QgAAwGSMZ3RCAAAALc1pdEIAAED1DWx0QgAAgL1ObnRCAADAhY9wdEIAAABO0HJ0QgAAQBYRdXRCAACA3lF3dEIAAMCmknl0QgAAAG/Te3RCAABANxR+dEIAAID/VIB0QgAAwMeVgnRC\",\"dtype\":\"float64\",\"order\":\"little\",\"shape\":[18]},\"y\":[27,40,56,56,48,34,41,39,42,37,41,38,43,49,41,36,45,44]},\"selected\":{\"id\":\"5825\"},\"selection_policy\":{\"id\":\"5826\"}},\"id\":\"5493\",\"type\":\"ColumnDataSource\"},{\"attributes\":{\"axis\":{\"id\":\"5470\"},\"dimension\":1,\"ticker\":null},\"id\":\"5473\",\"type\":\"Grid\"},{\"attributes\":{},\"id\":\"5479\",\"type\":\"HelpTool\"},{\"attributes\":{\"fill_alpha\":{\"value\":0.1},\"fill_color\":{\"value\":\"#1f77b4\"},\"line_alpha\":{\"value\":0.1},\"line_color\":{\"value\":\"#1f77b4\"},\"x\":{\"field\":\"x\"},\"y\":{\"field\":\"y\"}},\"id\":\"5490\",\"type\":\"Scatter\"},{\"attributes\":{},\"id\":\"5474\",\"type\":\"PanTool\"},{\"attributes\":{\"fill_color\":{\"value\":\"#1f77b4\"},\"line_color\":{\"value\":\"#1f77b4\"},\"x\":{\"field\":\"x\"},\"y\":{\"field\":\"y\"}},\"id\":\"5489\",\"type\":\"Scatter\"},{\"attributes\":{\"axis\":{\"id\":\"5466\"},\"ticker\":null},\"id\":\"5469\",\"type\":\"Grid\"},{\"attributes\":{\"line_color\":\"#1f77b4\",\"x\":{\"field\":\"x\"},\"y\":{\"field\":\"y\"}},\"id\":\"5494\",\"type\":\"Line\"},{\"attributes\":{\"months\":[0,2,4,6,8,10]},\"id\":\"5819\",\"type\":\"MonthsTicker\"},{\"attributes\":{\"source\":{\"id\":\"5488\"}},\"id\":\"5492\",\"type\":\"CDSView\"},{\"attributes\":{\"data_source\":{\"id\":\"5488\"},\"glyph\":{\"id\":\"5489\"},\"hover_glyph\":null,\"muted_glyph\":null,\"nonselection_glyph\":{\"id\":\"5490\"},\"selection_glyph\":null,\"view\":{\"id\":\"5492\"}},\"id\":\"5491\",\"type\":\"GlyphRenderer\"},{\"attributes\":{\"base\":24,\"mantissas\":[1,2,4,6,8,12],\"max_interval\":43200000.0,\"min_interval\":3600000.0,\"num_minor_ticks\":0},\"id\":\"5813\",\"type\":\"AdaptiveTicker\"},{\"attributes\":{\"source\":{\"id\":\"5493\"}},\"id\":\"5497\",\"type\":\"CDSView\"},{\"attributes\":{\"base\":60,\"mantissas\":[1,2,5,10,15,20,30],\"max_interval\":1800000.0,\"min_interval\":1000.0,\"num_minor_ticks\":0},\"id\":\"5812\",\"type\":\"AdaptiveTicker\"},{\"attributes\":{\"days\":[1,8,15,22]},\"id\":\"5816\",\"type\":\"DaysTicker\"},{\"attributes\":{\"months\":[0,1,2,3,4,5,6,7,8,9,10,11]},\"id\":\"5818\",\"type\":\"MonthsTicker\"},{\"attributes\":{},\"id\":\"5462\",\"type\":\"LinearScale\"},{\"attributes\":{},\"id\":\"5809\",\"type\":\"BasicTickFormatter\"},{\"attributes\":{\"days\":[1,2,3,4,5,6,7,8,9,10,11,12,13,14,15,16,17,18,19,20,21,22,23,24,25,26,27,28,29,30,31]},\"id\":\"5814\",\"type\":\"DaysTicker\"},{\"attributes\":{\"line_alpha\":0.1,\"line_color\":\"#1f77b4\",\"x\":{\"field\":\"x\"},\"y\":{\"field\":\"y\"}},\"id\":\"5495\",\"type\":\"Line\"},{\"attributes\":{\"days\":[1,4,7,10,13,16,19,22,25,28]},\"id\":\"5815\",\"type\":\"DaysTicker\"},{\"attributes\":{},\"id\":\"5822\",\"type\":\"YearsTicker\"},{\"attributes\":{},\"id\":\"5464\",\"type\":\"LinearScale\"},{\"attributes\":{\"data_source\":{\"id\":\"5493\"},\"glyph\":{\"id\":\"5494\"},\"hover_glyph\":null,\"muted_glyph\":null,\"nonselection_glyph\":{\"id\":\"5495\"},\"selection_glyph\":null,\"view\":{\"id\":\"5497\"}},\"id\":\"5496\",\"type\":\"GlyphRenderer\"},{\"attributes\":{\"months\":[0,6]},\"id\":\"5821\",\"type\":\"MonthsTicker\"},{\"attributes\":{\"months\":[0,4,8]},\"id\":\"5820\",\"type\":\"MonthsTicker\"},{\"attributes\":{},\"id\":\"5460\",\"type\":\"DataRange1d\"},{\"attributes\":{\"bottom_units\":\"screen\",\"fill_alpha\":0.5,\"fill_color\":\"lightgrey\",\"left_units\":\"screen\",\"level\":\"overlay\",\"line_alpha\":1.0,\"line_color\":\"black\",\"line_dash\":[4,4],\"line_width\":2,\"right_units\":\"screen\",\"top_units\":\"screen\"},\"id\":\"5480\",\"type\":\"BoxAnnotation\"},{\"attributes\":{},\"id\":\"5823\",\"type\":\"Selection\"},{\"attributes\":{},\"id\":\"5471\",\"type\":\"BasicTicker\"},{\"attributes\":{\"days\":[1,15]},\"id\":\"5817\",\"type\":\"DaysTicker\"},{\"attributes\":{},\"id\":\"5824\",\"type\":\"UnionRenderers\"},{\"attributes\":{\"axis_label\":\"Time (weekly)\",\"formatter\":{\"id\":\"5807\"},\"ticker\":{\"id\":\"5467\"}},\"id\":\"5466\",\"type\":\"DatetimeAxis\"},{\"attributes\":{\"axis_label\":\"Counts\",\"formatter\":{\"id\":\"5809\"},\"ticker\":{\"id\":\"5471\"}},\"id\":\"5470\",\"type\":\"LinearAxis\"},{\"attributes\":{\"overlay\":{\"id\":\"5480\"}},\"id\":\"5476\",\"type\":\"BoxZoomTool\"},{\"attributes\":{\"data\":{\"x\":{\"__ndarray__\":\"AACAe0hcdEIAAMBDiV50QgAAAAzKYHRCAABA1ApjdEIAAICcS2V0QgAAwGSMZ3RCAAAALc1pdEIAAED1DWx0QgAAgL1ObnRCAADAhY9wdEIAAABO0HJ0QgAAQBYRdXRCAACA3lF3dEIAAMCmknl0QgAAAG/Te3RCAABANxR+dEIAAID/VIB0QgAAwMeVgnRC\",\"dtype\":\"float64\",\"order\":\"little\",\"shape\":[18]},\"y\":[27,40,56,56,48,34,41,39,42,37,41,38,43,49,41,36,45,44]},\"selected\":{\"id\":\"5823\"},\"selection_policy\":{\"id\":\"5824\"}},\"id\":\"5488\",\"type\":\"ColumnDataSource\"}],\"root_ids\":[\"5455\"]},\"title\":\"Bokeh Application\",\"version\":\"2.2.1\"}};\n",
       "  var render_items = [{\"docid\":\"352162ca-7c34-4435-bb24-4296b049ad99\",\"root_ids\":[\"5455\"],\"roots\":{\"5455\":\"5122af6a-2e19-44a0-9979-1b1f7ff0ee3c\"}}];\n",
       "  root.Bokeh.embed.embed_items_notebook(docs_json, render_items);\n",
       "\n",
       "  }\n",
       "  if (root.Bokeh !== undefined) {\n",
       "    embed_document(root);\n",
       "  } else {\n",
       "    var attempts = 0;\n",
       "    var timer = setInterval(function(root) {\n",
       "      if (root.Bokeh !== undefined) {\n",
       "        clearInterval(timer);\n",
       "        embed_document(root);\n",
       "      } else {\n",
       "        attempts++;\n",
       "        if (attempts > 100) {\n",
       "          clearInterval(timer);\n",
       "          console.log(\"Bokeh: ERROR: Unable to run BokehJS code because BokehJS library is missing\");\n",
       "        }\n",
       "      }\n",
       "    }, 10, root)\n",
       "  }\n",
       "})(window);"
      ],
      "application/vnd.bokehjs_exec.v0+json": ""
     },
     "metadata": {
      "application/vnd.bokehjs_exec.v0+json": {
       "id": "5455"
      }
     },
     "output_type": "display_data"
    },
    {
     "name": "stdout",
     "output_type": "stream",
     "text": [
      "Taiwan\n"
     ]
    },
    {
     "data": {
      "text/html": [
       "\n",
       "\n",
       "\n",
       "\n",
       "\n",
       "\n",
       "  <div class=\"bk-root\" id=\"ed0bb3e5-a59c-4ed5-8690-27e4b74b473d\" data-root-id=\"5938\"></div>\n"
      ]
     },
     "metadata": {},
     "output_type": "display_data"
    },
    {
     "data": {
      "application/javascript": [
       "(function(root) {\n",
       "  function embed_document(root) {\n",
       "    \n",
       "  var docs_json = {\"44e48b94-035b-4604-b93f-586056aa7400\":{\"roots\":{\"references\":[{\"attributes\":{\"below\":[{\"id\":\"5949\"}],\"center\":[{\"id\":\"5952\"},{\"id\":\"5956\"}],\"left\":[{\"id\":\"5953\"}],\"plot_height\":300,\"plot_width\":500,\"renderers\":[{\"id\":\"5974\"},{\"id\":\"5979\"}],\"title\":{\"id\":\"5939\"},\"toolbar\":{\"id\":\"5964\"},\"x_range\":{\"id\":\"5941\"},\"x_scale\":{\"id\":\"5945\"},\"y_range\":{\"id\":\"5943\"},\"y_scale\":{\"id\":\"5947\"}},\"id\":\"5938\",\"subtype\":\"Figure\",\"type\":\"Plot\"},{\"attributes\":{},\"id\":\"5960\",\"type\":\"SaveTool\"},{\"attributes\":{},\"id\":\"5958\",\"type\":\"WheelZoomTool\"},{\"attributes\":{\"axis\":{\"id\":\"5949\"},\"ticker\":null},\"id\":\"5952\",\"type\":\"Grid\"},{\"attributes\":{\"overlay\":{\"id\":\"5963\"}},\"id\":\"5959\",\"type\":\"BoxZoomTool\"},{\"attributes\":{},\"id\":\"6328\",\"type\":\"Selection\"},{\"attributes\":{\"axis\":{\"id\":\"5953\"},\"dimension\":1,\"ticker\":null},\"id\":\"5956\",\"type\":\"Grid\"},{\"attributes\":{\"num_minor_ticks\":5,\"tickers\":[{\"id\":\"6316\"},{\"id\":\"6317\"},{\"id\":\"6318\"},{\"id\":\"6319\"},{\"id\":\"6320\"},{\"id\":\"6321\"},{\"id\":\"6322\"},{\"id\":\"6323\"},{\"id\":\"6324\"},{\"id\":\"6325\"},{\"id\":\"6326\"},{\"id\":\"6327\"}]},\"id\":\"5950\",\"type\":\"DatetimeTicker\"},{\"attributes\":{},\"id\":\"5954\",\"type\":\"BasicTicker\"},{\"attributes\":{},\"id\":\"6329\",\"type\":\"UnionRenderers\"},{\"attributes\":{\"axis_label\":\"Time (weekly)\",\"formatter\":{\"id\":\"6312\"},\"ticker\":{\"id\":\"5950\"}},\"id\":\"5949\",\"type\":\"DatetimeAxis\"},{\"attributes\":{},\"id\":\"5962\",\"type\":\"HelpTool\"},{\"attributes\":{},\"id\":\"5957\",\"type\":\"PanTool\"},{\"attributes\":{},\"id\":\"5961\",\"type\":\"ResetTool\"},{\"attributes\":{},\"id\":\"5945\",\"type\":\"LinearScale\"},{\"attributes\":{},\"id\":\"5943\",\"type\":\"DataRange1d\"},{\"attributes\":{\"data\":{\"x\":{\"__ndarray__\":\"AACAe0hcdEIAAMBDiV50QgAAAAzKYHRCAABA1ApjdEIAAICcS2V0QgAAwGSMZ3RCAAAALc1pdEIAAED1DWx0QgAAgL1ObnRCAADAhY9wdEIAAABO0HJ0QgAAQBYRdXRCAACA3lF3dEIAAMCmknl0QgAAAG/Te3RCAABANxR+dEIAAID/VIB0QgAAwMeVgnRC\",\"dtype\":\"float64\",\"order\":\"little\",\"shape\":[18]},\"y\":[6,11,10,11,7,12,8,11,11,9,13,12,8,9,7,9,13,10]},\"selected\":{\"id\":\"6330\"},\"selection_policy\":{\"id\":\"6331\"}},\"id\":\"5976\",\"type\":\"ColumnDataSource\"},{\"attributes\":{\"data_source\":{\"id\":\"5976\"},\"glyph\":{\"id\":\"5977\"},\"hover_glyph\":null,\"muted_glyph\":null,\"nonselection_glyph\":{\"id\":\"5978\"},\"selection_glyph\":null,\"view\":{\"id\":\"5980\"}},\"id\":\"5979\",\"type\":\"GlyphRenderer\"},{\"attributes\":{\"fill_alpha\":{\"value\":0.1},\"fill_color\":{\"value\":\"#1f77b4\"},\"line_alpha\":{\"value\":0.1},\"line_color\":{\"value\":\"#1f77b4\"},\"x\":{\"field\":\"x\"},\"y\":{\"field\":\"y\"}},\"id\":\"5973\",\"type\":\"Scatter\"},{\"attributes\":{},\"id\":\"6314\",\"type\":\"BasicTickFormatter\"},{\"attributes\":{},\"id\":\"6330\",\"type\":\"Selection\"},{\"attributes\":{\"active_drag\":\"auto\",\"active_inspect\":\"auto\",\"active_multi\":null,\"active_scroll\":\"auto\",\"active_tap\":\"auto\",\"tools\":[{\"id\":\"5957\"},{\"id\":\"5958\"},{\"id\":\"5959\"},{\"id\":\"5960\"},{\"id\":\"5961\"},{\"id\":\"5962\"}]},\"id\":\"5964\",\"type\":\"Toolbar\"},{\"attributes\":{},\"id\":\"5941\",\"type\":\"DataRange1d\"},{\"attributes\":{\"line_color\":\"#1f77b4\",\"x\":{\"field\":\"x\"},\"y\":{\"field\":\"y\"}},\"id\":\"5977\",\"type\":\"Line\"},{\"attributes\":{\"source\":{\"id\":\"5971\"}},\"id\":\"5975\",\"type\":\"CDSView\"},{\"attributes\":{\"axis_label\":\"Counts\",\"formatter\":{\"id\":\"6314\"},\"ticker\":{\"id\":\"5954\"}},\"id\":\"5953\",\"type\":\"LinearAxis\"},{\"attributes\":{\"fill_color\":{\"value\":\"#1f77b4\"},\"line_color\":{\"value\":\"#1f77b4\"},\"x\":{\"field\":\"x\"},\"y\":{\"field\":\"y\"}},\"id\":\"5972\",\"type\":\"Scatter\"},{\"attributes\":{\"data_source\":{\"id\":\"5971\"},\"glyph\":{\"id\":\"5972\"},\"hover_glyph\":null,\"muted_glyph\":null,\"nonselection_glyph\":{\"id\":\"5973\"},\"selection_glyph\":null,\"view\":{\"id\":\"5975\"}},\"id\":\"5974\",\"type\":\"GlyphRenderer\"},{\"attributes\":{\"text\":\"Count of weekly active users\"},\"id\":\"5939\",\"type\":\"Title\"},{\"attributes\":{\"source\":{\"id\":\"5976\"}},\"id\":\"5980\",\"type\":\"CDSView\"},{\"attributes\":{\"data\":{\"x\":{\"__ndarray__\":\"AACAe0hcdEIAAMBDiV50QgAAAAzKYHRCAABA1ApjdEIAAICcS2V0QgAAwGSMZ3RCAAAALc1pdEIAAED1DWx0QgAAgL1ObnRCAADAhY9wdEIAAABO0HJ0QgAAQBYRdXRCAACA3lF3dEIAAMCmknl0QgAAAG/Te3RCAABANxR+dEIAAID/VIB0QgAAwMeVgnRC\",\"dtype\":\"float64\",\"order\":\"little\",\"shape\":[18]},\"y\":[6,11,10,11,7,12,8,11,11,9,13,12,8,9,7,9,13,10]},\"selected\":{\"id\":\"6328\"},\"selection_policy\":{\"id\":\"6329\"}},\"id\":\"5971\",\"type\":\"ColumnDataSource\"},{\"attributes\":{\"mantissas\":[1,2,5],\"max_interval\":500.0,\"num_minor_ticks\":0},\"id\":\"6316\",\"type\":\"AdaptiveTicker\"},{\"attributes\":{\"base\":60,\"mantissas\":[1,2,5,10,15,20,30],\"max_interval\":1800000.0,\"min_interval\":1000.0,\"num_minor_ticks\":0},\"id\":\"6317\",\"type\":\"AdaptiveTicker\"},{\"attributes\":{\"line_alpha\":0.1,\"line_color\":\"#1f77b4\",\"x\":{\"field\":\"x\"},\"y\":{\"field\":\"y\"}},\"id\":\"5978\",\"type\":\"Line\"},{\"attributes\":{\"days\":[1,2,3,4,5,6,7,8,9,10,11,12,13,14,15,16,17,18,19,20,21,22,23,24,25,26,27,28,29,30,31]},\"id\":\"6319\",\"type\":\"DaysTicker\"},{\"attributes\":{\"base\":24,\"mantissas\":[1,2,4,6,8,12],\"max_interval\":43200000.0,\"min_interval\":3600000.0,\"num_minor_ticks\":0},\"id\":\"6318\",\"type\":\"AdaptiveTicker\"},{\"attributes\":{\"months\":[0,1,2,3,4,5,6,7,8,9,10,11]},\"id\":\"6323\",\"type\":\"MonthsTicker\"},{\"attributes\":{},\"id\":\"6331\",\"type\":\"UnionRenderers\"},{\"attributes\":{},\"id\":\"5947\",\"type\":\"LinearScale\"},{\"attributes\":{\"months\":[0,2,4,6,8,10]},\"id\":\"6324\",\"type\":\"MonthsTicker\"},{\"attributes\":{\"days\":[1,4,7,10,13,16,19,22,25,28]},\"id\":\"6320\",\"type\":\"DaysTicker\"},{\"attributes\":{\"days\":[1,15]},\"id\":\"6322\",\"type\":\"DaysTicker\"},{\"attributes\":{\"months\":[0,6]},\"id\":\"6326\",\"type\":\"MonthsTicker\"},{\"attributes\":{},\"id\":\"6312\",\"type\":\"DatetimeTickFormatter\"},{\"attributes\":{\"days\":[1,8,15,22]},\"id\":\"6321\",\"type\":\"DaysTicker\"},{\"attributes\":{\"bottom_units\":\"screen\",\"fill_alpha\":0.5,\"fill_color\":\"lightgrey\",\"left_units\":\"screen\",\"level\":\"overlay\",\"line_alpha\":1.0,\"line_color\":\"black\",\"line_dash\":[4,4],\"line_width\":2,\"right_units\":\"screen\",\"top_units\":\"screen\"},\"id\":\"5963\",\"type\":\"BoxAnnotation\"},{\"attributes\":{},\"id\":\"6327\",\"type\":\"YearsTicker\"},{\"attributes\":{\"months\":[0,4,8]},\"id\":\"6325\",\"type\":\"MonthsTicker\"}],\"root_ids\":[\"5938\"]},\"title\":\"Bokeh Application\",\"version\":\"2.2.1\"}};\n",
       "  var render_items = [{\"docid\":\"44e48b94-035b-4604-b93f-586056aa7400\",\"root_ids\":[\"5938\"],\"roots\":{\"5938\":\"ed0bb3e5-a59c-4ed5-8690-27e4b74b473d\"}}];\n",
       "  root.Bokeh.embed.embed_items_notebook(docs_json, render_items);\n",
       "\n",
       "  }\n",
       "  if (root.Bokeh !== undefined) {\n",
       "    embed_document(root);\n",
       "  } else {\n",
       "    var attempts = 0;\n",
       "    var timer = setInterval(function(root) {\n",
       "      if (root.Bokeh !== undefined) {\n",
       "        clearInterval(timer);\n",
       "        embed_document(root);\n",
       "      } else {\n",
       "        attempts++;\n",
       "        if (attempts > 100) {\n",
       "          clearInterval(timer);\n",
       "          console.log(\"Bokeh: ERROR: Unable to run BokehJS code because BokehJS library is missing\");\n",
       "        }\n",
       "      }\n",
       "    }, 10, root)\n",
       "  }\n",
       "})(window);"
      ],
      "application/vnd.bokehjs_exec.v0+json": ""
     },
     "metadata": {
      "application/vnd.bokehjs_exec.v0+json": {
       "id": "5938"
      }
     },
     "output_type": "display_data"
    },
    {
     "name": "stdout",
     "output_type": "stream",
     "text": [
      "Canada\n"
     ]
    },
    {
     "data": {
      "text/html": [
       "\n",
       "\n",
       "\n",
       "\n",
       "\n",
       "\n",
       "  <div class=\"bk-root\" id=\"39a8c27f-4e0f-45fa-8026-df2f3f43848e\" data-root-id=\"6443\"></div>\n"
      ]
     },
     "metadata": {},
     "output_type": "display_data"
    },
    {
     "data": {
      "application/javascript": [
       "(function(root) {\n",
       "  function embed_document(root) {\n",
       "    \n",
       "  var docs_json = {\"8a78db78-89a2-4029-8159-bf865b737663\":{\"roots\":{\"references\":[{\"attributes\":{\"below\":[{\"id\":\"6454\"}],\"center\":[{\"id\":\"6457\"},{\"id\":\"6461\"}],\"left\":[{\"id\":\"6458\"}],\"plot_height\":300,\"plot_width\":500,\"renderers\":[{\"id\":\"6479\"},{\"id\":\"6484\"}],\"title\":{\"id\":\"6444\"},\"toolbar\":{\"id\":\"6469\"},\"x_range\":{\"id\":\"6446\"},\"x_scale\":{\"id\":\"6450\"},\"y_range\":{\"id\":\"6448\"},\"y_scale\":{\"id\":\"6452\"}},\"id\":\"6443\",\"subtype\":\"Figure\",\"type\":\"Plot\"},{\"attributes\":{\"line_alpha\":0.1,\"line_color\":\"#1f77b4\",\"x\":{\"field\":\"x\"},\"y\":{\"field\":\"y\"}},\"id\":\"6483\",\"type\":\"Line\"},{\"attributes\":{},\"id\":\"6854\",\"type\":\"YearsTicker\"},{\"attributes\":{\"days\":[1,15]},\"id\":\"6849\",\"type\":\"DaysTicker\"},{\"attributes\":{},\"id\":\"6839\",\"type\":\"DatetimeTickFormatter\"},{\"attributes\":{\"months\":[0,1,2,3,4,5,6,7,8,9,10,11]},\"id\":\"6850\",\"type\":\"MonthsTicker\"},{\"attributes\":{\"months\":[0,6]},\"id\":\"6853\",\"type\":\"MonthsTicker\"},{\"attributes\":{\"days\":[1,4,7,10,13,16,19,22,25,28]},\"id\":\"6847\",\"type\":\"DaysTicker\"},{\"attributes\":{\"days\":[1,8,15,22]},\"id\":\"6848\",\"type\":\"DaysTicker\"},{\"attributes\":{},\"id\":\"6855\",\"type\":\"Selection\"},{\"attributes\":{\"data_source\":{\"id\":\"6481\"},\"glyph\":{\"id\":\"6482\"},\"hover_glyph\":null,\"muted_glyph\":null,\"nonselection_glyph\":{\"id\":\"6483\"},\"selection_glyph\":null,\"view\":{\"id\":\"6485\"}},\"id\":\"6484\",\"type\":\"GlyphRenderer\"},{\"attributes\":{},\"id\":\"6465\",\"type\":\"SaveTool\"},{\"attributes\":{},\"id\":\"6856\",\"type\":\"UnionRenderers\"},{\"attributes\":{\"bottom_units\":\"screen\",\"fill_alpha\":0.5,\"fill_color\":\"lightgrey\",\"left_units\":\"screen\",\"level\":\"overlay\",\"line_alpha\":1.0,\"line_color\":\"black\",\"line_dash\":[4,4],\"line_width\":2,\"right_units\":\"screen\",\"top_units\":\"screen\"},\"id\":\"6468\",\"type\":\"BoxAnnotation\"},{\"attributes\":{\"data\":{\"x\":{\"__ndarray__\":\"AACAe0hcdEIAAMBDiV50QgAAAAzKYHRCAABA1ApjdEIAAICcS2V0QgAAwGSMZ3RCAAAALc1pdEIAAED1DWx0QgAAgL1ObnRCAADAhY9wdEIAAABO0HJ0QgAAQBYRdXRCAACA3lF3dEIAAMCmknl0QgAAAG/Te3RCAABANxR+dEIAAID/VIB0QgAAwMeVgnRC\",\"dtype\":\"float64\",\"order\":\"little\",\"shape\":[18]},\"y\":[24,35,35,36,32,33,39,39,31,34,41,36,40,37,37,24,31,31]},\"selected\":{\"id\":\"6855\"},\"selection_policy\":{\"id\":\"6856\"}},\"id\":\"6476\",\"type\":\"ColumnDataSource\"},{\"attributes\":{\"num_minor_ticks\":5,\"tickers\":[{\"id\":\"6843\"},{\"id\":\"6844\"},{\"id\":\"6845\"},{\"id\":\"6846\"},{\"id\":\"6847\"},{\"id\":\"6848\"},{\"id\":\"6849\"},{\"id\":\"6850\"},{\"id\":\"6851\"},{\"id\":\"6852\"},{\"id\":\"6853\"},{\"id\":\"6854\"}]},\"id\":\"6455\",\"type\":\"DatetimeTicker\"},{\"attributes\":{\"active_drag\":\"auto\",\"active_inspect\":\"auto\",\"active_multi\":null,\"active_scroll\":\"auto\",\"active_tap\":\"auto\",\"tools\":[{\"id\":\"6462\"},{\"id\":\"6463\"},{\"id\":\"6464\"},{\"id\":\"6465\"},{\"id\":\"6466\"},{\"id\":\"6467\"}]},\"id\":\"6469\",\"type\":\"Toolbar\"},{\"attributes\":{\"overlay\":{\"id\":\"6468\"}},\"id\":\"6464\",\"type\":\"BoxZoomTool\"},{\"attributes\":{},\"id\":\"6857\",\"type\":\"Selection\"},{\"attributes\":{\"axis\":{\"id\":\"6458\"},\"dimension\":1,\"ticker\":null},\"id\":\"6461\",\"type\":\"Grid\"},{\"attributes\":{\"fill_color\":{\"value\":\"#1f77b4\"},\"line_color\":{\"value\":\"#1f77b4\"},\"x\":{\"field\":\"x\"},\"y\":{\"field\":\"y\"}},\"id\":\"6477\",\"type\":\"Scatter\"},{\"attributes\":{},\"id\":\"6452\",\"type\":\"LinearScale\"},{\"attributes\":{},\"id\":\"6858\",\"type\":\"UnionRenderers\"},{\"attributes\":{\"axis_label\":\"Time (weekly)\",\"formatter\":{\"id\":\"6839\"},\"ticker\":{\"id\":\"6455\"}},\"id\":\"6454\",\"type\":\"DatetimeAxis\"},{\"attributes\":{},\"id\":\"6459\",\"type\":\"BasicTicker\"},{\"attributes\":{},\"id\":\"6448\",\"type\":\"DataRange1d\"},{\"attributes\":{},\"id\":\"6446\",\"type\":\"DataRange1d\"},{\"attributes\":{\"axis_label\":\"Counts\",\"formatter\":{\"id\":\"6841\"},\"ticker\":{\"id\":\"6459\"}},\"id\":\"6458\",\"type\":\"LinearAxis\"},{\"attributes\":{},\"id\":\"6462\",\"type\":\"PanTool\"},{\"attributes\":{\"text\":\"Count of weekly active users\"},\"id\":\"6444\",\"type\":\"Title\"},{\"attributes\":{\"axis\":{\"id\":\"6454\"},\"ticker\":null},\"id\":\"6457\",\"type\":\"Grid\"},{\"attributes\":{},\"id\":\"6450\",\"type\":\"LinearScale\"},{\"attributes\":{\"data\":{\"x\":{\"__ndarray__\":\"AACAe0hcdEIAAMBDiV50QgAAAAzKYHRCAABA1ApjdEIAAICcS2V0QgAAwGSMZ3RCAAAALc1pdEIAAED1DWx0QgAAgL1ObnRCAADAhY9wdEIAAABO0HJ0QgAAQBYRdXRCAACA3lF3dEIAAMCmknl0QgAAAG/Te3RCAABANxR+dEIAAID/VIB0QgAAwMeVgnRC\",\"dtype\":\"float64\",\"order\":\"little\",\"shape\":[18]},\"y\":[24,35,35,36,32,33,39,39,31,34,41,36,40,37,37,24,31,31]},\"selected\":{\"id\":\"6857\"},\"selection_policy\":{\"id\":\"6858\"}},\"id\":\"6481\",\"type\":\"ColumnDataSource\"},{\"attributes\":{\"days\":[1,2,3,4,5,6,7,8,9,10,11,12,13,14,15,16,17,18,19,20,21,22,23,24,25,26,27,28,29,30,31]},\"id\":\"6846\",\"type\":\"DaysTicker\"},{\"attributes\":{\"mantissas\":[1,2,5],\"max_interval\":500.0,\"num_minor_ticks\":0},\"id\":\"6843\",\"type\":\"AdaptiveTicker\"},{\"attributes\":{\"fill_alpha\":{\"value\":0.1},\"fill_color\":{\"value\":\"#1f77b4\"},\"line_alpha\":{\"value\":0.1},\"line_color\":{\"value\":\"#1f77b4\"},\"x\":{\"field\":\"x\"},\"y\":{\"field\":\"y\"}},\"id\":\"6478\",\"type\":\"Scatter\"},{\"attributes\":{},\"id\":\"6467\",\"type\":\"HelpTool\"},{\"attributes\":{},\"id\":\"6466\",\"type\":\"ResetTool\"},{\"attributes\":{\"line_color\":\"#1f77b4\",\"x\":{\"field\":\"x\"},\"y\":{\"field\":\"y\"}},\"id\":\"6482\",\"type\":\"Line\"},{\"attributes\":{},\"id\":\"6841\",\"type\":\"BasicTickFormatter\"},{\"attributes\":{\"source\":{\"id\":\"6476\"}},\"id\":\"6480\",\"type\":\"CDSView\"},{\"attributes\":{\"data_source\":{\"id\":\"6476\"},\"glyph\":{\"id\":\"6477\"},\"hover_glyph\":null,\"muted_glyph\":null,\"nonselection_glyph\":{\"id\":\"6478\"},\"selection_glyph\":null,\"view\":{\"id\":\"6480\"}},\"id\":\"6479\",\"type\":\"GlyphRenderer\"},{\"attributes\":{},\"id\":\"6463\",\"type\":\"WheelZoomTool\"},{\"attributes\":{\"months\":[0,2,4,6,8,10]},\"id\":\"6851\",\"type\":\"MonthsTicker\"},{\"attributes\":{\"source\":{\"id\":\"6481\"}},\"id\":\"6485\",\"type\":\"CDSView\"},{\"attributes\":{\"months\":[0,4,8]},\"id\":\"6852\",\"type\":\"MonthsTicker\"},{\"attributes\":{\"base\":60,\"mantissas\":[1,2,5,10,15,20,30],\"max_interval\":1800000.0,\"min_interval\":1000.0,\"num_minor_ticks\":0},\"id\":\"6844\",\"type\":\"AdaptiveTicker\"},{\"attributes\":{\"base\":24,\"mantissas\":[1,2,4,6,8,12],\"max_interval\":43200000.0,\"min_interval\":3600000.0,\"num_minor_ticks\":0},\"id\":\"6845\",\"type\":\"AdaptiveTicker\"}],\"root_ids\":[\"6443\"]},\"title\":\"Bokeh Application\",\"version\":\"2.2.1\"}};\n",
       "  var render_items = [{\"docid\":\"8a78db78-89a2-4029-8159-bf865b737663\",\"root_ids\":[\"6443\"],\"roots\":{\"6443\":\"39a8c27f-4e0f-45fa-8026-df2f3f43848e\"}}];\n",
       "  root.Bokeh.embed.embed_items_notebook(docs_json, render_items);\n",
       "\n",
       "  }\n",
       "  if (root.Bokeh !== undefined) {\n",
       "    embed_document(root);\n",
       "  } else {\n",
       "    var attempts = 0;\n",
       "    var timer = setInterval(function(root) {\n",
       "      if (root.Bokeh !== undefined) {\n",
       "        clearInterval(timer);\n",
       "        embed_document(root);\n",
       "      } else {\n",
       "        attempts++;\n",
       "        if (attempts > 100) {\n",
       "          clearInterval(timer);\n",
       "          console.log(\"Bokeh: ERROR: Unable to run BokehJS code because BokehJS library is missing\");\n",
       "        }\n",
       "      }\n",
       "    }, 10, root)\n",
       "  }\n",
       "})(window);"
      ],
      "application/vnd.bokehjs_exec.v0+json": ""
     },
     "metadata": {
      "application/vnd.bokehjs_exec.v0+json": {
       "id": "6443"
      }
     },
     "output_type": "display_data"
    },
    {
     "name": "stdout",
     "output_type": "stream",
     "text": [
      "Spain\n"
     ]
    },
    {
     "data": {
      "text/html": [
       "\n",
       "\n",
       "\n",
       "\n",
       "\n",
       "\n",
       "  <div class=\"bk-root\" id=\"37dd34ea-d6ac-4acd-b3c9-f21acf6db42f\" data-root-id=\"6970\"></div>\n"
      ]
     },
     "metadata": {},
     "output_type": "display_data"
    },
    {
     "data": {
      "application/javascript": [
       "(function(root) {\n",
       "  function embed_document(root) {\n",
       "    \n",
       "  var docs_json = {\"609ba101-334b-4df3-8d3c-577484c9b694\":{\"roots\":{\"references\":[{\"attributes\":{\"below\":[{\"id\":\"6981\"}],\"center\":[{\"id\":\"6984\"},{\"id\":\"6988\"}],\"left\":[{\"id\":\"6985\"}],\"plot_height\":300,\"plot_width\":500,\"renderers\":[{\"id\":\"7006\"},{\"id\":\"7011\"}],\"title\":{\"id\":\"6971\"},\"toolbar\":{\"id\":\"6996\"},\"x_range\":{\"id\":\"6973\"},\"x_scale\":{\"id\":\"6977\"},\"y_range\":{\"id\":\"6975\"},\"y_scale\":{\"id\":\"6979\"}},\"id\":\"6970\",\"subtype\":\"Figure\",\"type\":\"Plot\"},{\"attributes\":{\"data_source\":{\"id\":\"7003\"},\"glyph\":{\"id\":\"7004\"},\"hover_glyph\":null,\"muted_glyph\":null,\"nonselection_glyph\":{\"id\":\"7005\"},\"selection_glyph\":null,\"view\":{\"id\":\"7007\"}},\"id\":\"7006\",\"type\":\"GlyphRenderer\"},{\"attributes\":{},\"id\":\"6994\",\"type\":\"HelpTool\"},{\"attributes\":{\"days\":[1,8,15,22]},\"id\":\"7397\",\"type\":\"DaysTicker\"},{\"attributes\":{},\"id\":\"7388\",\"type\":\"DatetimeTickFormatter\"},{\"attributes\":{},\"id\":\"7404\",\"type\":\"Selection\"},{\"attributes\":{},\"id\":\"7405\",\"type\":\"UnionRenderers\"},{\"attributes\":{\"fill_color\":{\"value\":\"#1f77b4\"},\"line_color\":{\"value\":\"#1f77b4\"},\"x\":{\"field\":\"x\"},\"y\":{\"field\":\"y\"}},\"id\":\"7004\",\"type\":\"Scatter\"},{\"attributes\":{\"data_source\":{\"id\":\"7008\"},\"glyph\":{\"id\":\"7009\"},\"hover_glyph\":null,\"muted_glyph\":null,\"nonselection_glyph\":{\"id\":\"7010\"},\"selection_glyph\":null,\"view\":{\"id\":\"7012\"}},\"id\":\"7011\",\"type\":\"GlyphRenderer\"},{\"attributes\":{},\"id\":\"7403\",\"type\":\"YearsTicker\"},{\"attributes\":{\"line_color\":\"#1f77b4\",\"x\":{\"field\":\"x\"},\"y\":{\"field\":\"y\"}},\"id\":\"7009\",\"type\":\"Line\"},{\"attributes\":{\"fill_alpha\":{\"value\":0.1},\"fill_color\":{\"value\":\"#1f77b4\"},\"line_alpha\":{\"value\":0.1},\"line_color\":{\"value\":\"#1f77b4\"},\"x\":{\"field\":\"x\"},\"y\":{\"field\":\"y\"}},\"id\":\"7005\",\"type\":\"Scatter\"},{\"attributes\":{},\"id\":\"7406\",\"type\":\"Selection\"},{\"attributes\":{},\"id\":\"6989\",\"type\":\"PanTool\"},{\"attributes\":{},\"id\":\"7390\",\"type\":\"BasicTickFormatter\"},{\"attributes\":{},\"id\":\"7407\",\"type\":\"UnionRenderers\"},{\"attributes\":{\"bottom_units\":\"screen\",\"fill_alpha\":0.5,\"fill_color\":\"lightgrey\",\"left_units\":\"screen\",\"level\":\"overlay\",\"line_alpha\":1.0,\"line_color\":\"black\",\"line_dash\":[4,4],\"line_width\":2,\"right_units\":\"screen\",\"top_units\":\"screen\"},\"id\":\"6995\",\"type\":\"BoxAnnotation\"},{\"attributes\":{\"axis\":{\"id\":\"6985\"},\"dimension\":1,\"ticker\":null},\"id\":\"6988\",\"type\":\"Grid\"},{\"attributes\":{\"text\":\"Count of weekly active users\"},\"id\":\"6971\",\"type\":\"Title\"},{\"attributes\":{},\"id\":\"6986\",\"type\":\"BasicTicker\"},{\"attributes\":{},\"id\":\"6977\",\"type\":\"LinearScale\"},{\"attributes\":{\"data\":{\"x\":{\"__ndarray__\":\"AACAe0hcdEIAAMBDiV50QgAAAAzKYHRCAABA1ApjdEIAAICcS2V0QgAAwGSMZ3RCAAAALc1pdEIAAED1DWx0QgAAgL1ObnRCAADAhY9wdEIAAABO0HJ0QgAAQBYRdXRCAACA3lF3dEIAAMCmknl0QgAAAG/Te3RCAABANxR+dEIAAID/VIB0QgAAwMeVgnRC\",\"dtype\":\"float64\",\"order\":\"little\",\"shape\":[18]},\"y\":[18,23,25,29,19,25,20,28,21,17,18,19,17,21,18,18,22,25]},\"selected\":{\"id\":\"7404\"},\"selection_policy\":{\"id\":\"7405\"}},\"id\":\"7003\",\"type\":\"ColumnDataSource\"},{\"attributes\":{\"months\":[0,4,8]},\"id\":\"7401\",\"type\":\"MonthsTicker\"},{\"attributes\":{},\"id\":\"6973\",\"type\":\"DataRange1d\"},{\"attributes\":{\"axis_label\":\"Counts\",\"formatter\":{\"id\":\"7390\"},\"ticker\":{\"id\":\"6986\"}},\"id\":\"6985\",\"type\":\"LinearAxis\"},{\"attributes\":{\"source\":{\"id\":\"7003\"}},\"id\":\"7007\",\"type\":\"CDSView\"},{\"attributes\":{\"mantissas\":[1,2,5],\"max_interval\":500.0,\"num_minor_ticks\":0},\"id\":\"7392\",\"type\":\"AdaptiveTicker\"},{\"attributes\":{\"base\":60,\"mantissas\":[1,2,5,10,15,20,30],\"max_interval\":1800000.0,\"min_interval\":1000.0,\"num_minor_ticks\":0},\"id\":\"7393\",\"type\":\"AdaptiveTicker\"},{\"attributes\":{},\"id\":\"6992\",\"type\":\"SaveTool\"},{\"attributes\":{\"days\":[1,2,3,4,5,6,7,8,9,10,11,12,13,14,15,16,17,18,19,20,21,22,23,24,25,26,27,28,29,30,31]},\"id\":\"7395\",\"type\":\"DaysTicker\"},{\"attributes\":{},\"id\":\"6975\",\"type\":\"DataRange1d\"},{\"attributes\":{\"base\":24,\"mantissas\":[1,2,4,6,8,12],\"max_interval\":43200000.0,\"min_interval\":3600000.0,\"num_minor_ticks\":0},\"id\":\"7394\",\"type\":\"AdaptiveTicker\"},{\"attributes\":{\"overlay\":{\"id\":\"6995\"}},\"id\":\"6991\",\"type\":\"BoxZoomTool\"},{\"attributes\":{},\"id\":\"6979\",\"type\":\"LinearScale\"},{\"attributes\":{\"months\":[0,1,2,3,4,5,6,7,8,9,10,11]},\"id\":\"7399\",\"type\":\"MonthsTicker\"},{\"attributes\":{\"num_minor_ticks\":5,\"tickers\":[{\"id\":\"7392\"},{\"id\":\"7393\"},{\"id\":\"7394\"},{\"id\":\"7395\"},{\"id\":\"7396\"},{\"id\":\"7397\"},{\"id\":\"7398\"},{\"id\":\"7399\"},{\"id\":\"7400\"},{\"id\":\"7401\"},{\"id\":\"7402\"},{\"id\":\"7403\"}]},\"id\":\"6982\",\"type\":\"DatetimeTicker\"},{\"attributes\":{\"months\":[0,2,4,6,8,10]},\"id\":\"7400\",\"type\":\"MonthsTicker\"},{\"attributes\":{},\"id\":\"6993\",\"type\":\"ResetTool\"},{\"attributes\":{\"days\":[1,4,7,10,13,16,19,22,25,28]},\"id\":\"7396\",\"type\":\"DaysTicker\"},{\"attributes\":{\"days\":[1,15]},\"id\":\"7398\",\"type\":\"DaysTicker\"},{\"attributes\":{\"source\":{\"id\":\"7008\"}},\"id\":\"7012\",\"type\":\"CDSView\"},{\"attributes\":{},\"id\":\"6990\",\"type\":\"WheelZoomTool\"},{\"attributes\":{\"months\":[0,6]},\"id\":\"7402\",\"type\":\"MonthsTicker\"},{\"attributes\":{\"axis_label\":\"Time (weekly)\",\"formatter\":{\"id\":\"7388\"},\"ticker\":{\"id\":\"6982\"}},\"id\":\"6981\",\"type\":\"DatetimeAxis\"},{\"attributes\":{\"data\":{\"x\":{\"__ndarray__\":\"AACAe0hcdEIAAMBDiV50QgAAAAzKYHRCAABA1ApjdEIAAICcS2V0QgAAwGSMZ3RCAAAALc1pdEIAAED1DWx0QgAAgL1ObnRCAADAhY9wdEIAAABO0HJ0QgAAQBYRdXRCAACA3lF3dEIAAMCmknl0QgAAAG/Te3RCAABANxR+dEIAAID/VIB0QgAAwMeVgnRC\",\"dtype\":\"float64\",\"order\":\"little\",\"shape\":[18]},\"y\":[18,23,25,29,19,25,20,28,21,17,18,19,17,21,18,18,22,25]},\"selected\":{\"id\":\"7406\"},\"selection_policy\":{\"id\":\"7407\"}},\"id\":\"7008\",\"type\":\"ColumnDataSource\"},{\"attributes\":{\"line_alpha\":0.1,\"line_color\":\"#1f77b4\",\"x\":{\"field\":\"x\"},\"y\":{\"field\":\"y\"}},\"id\":\"7010\",\"type\":\"Line\"},{\"attributes\":{\"active_drag\":\"auto\",\"active_inspect\":\"auto\",\"active_multi\":null,\"active_scroll\":\"auto\",\"active_tap\":\"auto\",\"tools\":[{\"id\":\"6989\"},{\"id\":\"6990\"},{\"id\":\"6991\"},{\"id\":\"6992\"},{\"id\":\"6993\"},{\"id\":\"6994\"}]},\"id\":\"6996\",\"type\":\"Toolbar\"},{\"attributes\":{\"axis\":{\"id\":\"6981\"},\"ticker\":null},\"id\":\"6984\",\"type\":\"Grid\"}],\"root_ids\":[\"6970\"]},\"title\":\"Bokeh Application\",\"version\":\"2.2.1\"}};\n",
       "  var render_items = [{\"docid\":\"609ba101-334b-4df3-8d3c-577484c9b694\",\"root_ids\":[\"6970\"],\"roots\":{\"6970\":\"37dd34ea-d6ac-4acd-b3c9-f21acf6db42f\"}}];\n",
       "  root.Bokeh.embed.embed_items_notebook(docs_json, render_items);\n",
       "\n",
       "  }\n",
       "  if (root.Bokeh !== undefined) {\n",
       "    embed_document(root);\n",
       "  } else {\n",
       "    var attempts = 0;\n",
       "    var timer = setInterval(function(root) {\n",
       "      if (root.Bokeh !== undefined) {\n",
       "        clearInterval(timer);\n",
       "        embed_document(root);\n",
       "      } else {\n",
       "        attempts++;\n",
       "        if (attempts > 100) {\n",
       "          clearInterval(timer);\n",
       "          console.log(\"Bokeh: ERROR: Unable to run BokehJS code because BokehJS library is missing\");\n",
       "        }\n",
       "      }\n",
       "    }, 10, root)\n",
       "  }\n",
       "})(window);"
      ],
      "application/vnd.bokehjs_exec.v0+json": ""
     },
     "metadata": {
      "application/vnd.bokehjs_exec.v0+json": {
       "id": "6970"
      }
     },
     "output_type": "display_data"
    },
    {
     "name": "stdout",
     "output_type": "stream",
     "text": [
      "Israel\n"
     ]
    },
    {
     "data": {
      "text/html": [
       "\n",
       "\n",
       "\n",
       "\n",
       "\n",
       "\n",
       "  <div class=\"bk-root\" id=\"bc36d29e-c6ec-4114-9f58-b57eb8d1337c\" data-root-id=\"7519\"></div>\n"
      ]
     },
     "metadata": {},
     "output_type": "display_data"
    },
    {
     "data": {
      "application/javascript": [
       "(function(root) {\n",
       "  function embed_document(root) {\n",
       "    \n",
       "  var docs_json = {\"b981871a-2ca1-4937-9bc8-f1446c0bba9e\":{\"roots\":{\"references\":[{\"attributes\":{\"below\":[{\"id\":\"7530\"}],\"center\":[{\"id\":\"7533\"},{\"id\":\"7537\"}],\"left\":[{\"id\":\"7534\"}],\"plot_height\":300,\"plot_width\":500,\"renderers\":[{\"id\":\"7555\"},{\"id\":\"7560\"}],\"title\":{\"id\":\"7520\"},\"toolbar\":{\"id\":\"7545\"},\"x_range\":{\"id\":\"7522\"},\"x_scale\":{\"id\":\"7526\"},\"y_range\":{\"id\":\"7524\"},\"y_scale\":{\"id\":\"7528\"}},\"id\":\"7519\",\"subtype\":\"Figure\",\"type\":\"Plot\"},{\"attributes\":{\"axis_label\":\"Counts\",\"formatter\":{\"id\":\"7961\"},\"ticker\":{\"id\":\"7535\"}},\"id\":\"7534\",\"type\":\"LinearAxis\"},{\"attributes\":{},\"id\":\"7538\",\"type\":\"PanTool\"},{\"attributes\":{},\"id\":\"7535\",\"type\":\"BasicTicker\"},{\"attributes\":{\"data_source\":{\"id\":\"7557\"},\"glyph\":{\"id\":\"7558\"},\"hover_glyph\":null,\"muted_glyph\":null,\"nonselection_glyph\":{\"id\":\"7559\"},\"selection_glyph\":null,\"view\":{\"id\":\"7561\"}},\"id\":\"7560\",\"type\":\"GlyphRenderer\"},{\"attributes\":{\"months\":[0,4,8]},\"id\":\"7972\",\"type\":\"MonthsTicker\"},{\"attributes\":{},\"id\":\"7961\",\"type\":\"BasicTickFormatter\"},{\"attributes\":{\"months\":[0,6]},\"id\":\"7973\",\"type\":\"MonthsTicker\"},{\"attributes\":{\"source\":{\"id\":\"7552\"}},\"id\":\"7556\",\"type\":\"CDSView\"},{\"attributes\":{\"data\":{\"x\":{\"__ndarray__\":\"AACAe0hcdEIAAMBDiV50QgAAAAzKYHRCAABA1ApjdEIAAICcS2V0QgAAwGSMZ3RCAAAALc1pdEIAAED1DWx0QgAAgL1ObnRCAADAhY9wdEIAAABO0HJ0QgAAQBYRdXRCAACA3lF3dEIAAMCmknl0QgAAAG/Te3RCAABANxR+dEIAAID/VIB0QgAAwMeVgnRC\",\"dtype\":\"float64\",\"order\":\"little\",\"shape\":[18]},\"y\":[5,8,4,5,6,5,5,11,8,8,8,10,9,8,6,7,7,8]},\"selected\":{\"id\":\"7975\"},\"selection_policy\":{\"id\":\"7976\"}},\"id\":\"7552\",\"type\":\"ColumnDataSource\"},{\"attributes\":{},\"id\":\"7542\",\"type\":\"ResetTool\"},{\"attributes\":{\"mantissas\":[1,2,5],\"max_interval\":500.0,\"num_minor_ticks\":0},\"id\":\"7963\",\"type\":\"AdaptiveTicker\"},{\"attributes\":{\"data_source\":{\"id\":\"7552\"},\"glyph\":{\"id\":\"7553\"},\"hover_glyph\":null,\"muted_glyph\":null,\"nonselection_glyph\":{\"id\":\"7554\"},\"selection_glyph\":null,\"view\":{\"id\":\"7556\"}},\"id\":\"7555\",\"type\":\"GlyphRenderer\"},{\"attributes\":{\"overlay\":{\"id\":\"7544\"}},\"id\":\"7540\",\"type\":\"BoxZoomTool\"},{\"attributes\":{\"base\":60,\"mantissas\":[1,2,5,10,15,20,30],\"max_interval\":1800000.0,\"min_interval\":1000.0,\"num_minor_ticks\":0},\"id\":\"7964\",\"type\":\"AdaptiveTicker\"},{\"attributes\":{\"axis\":{\"id\":\"7530\"},\"ticker\":null},\"id\":\"7533\",\"type\":\"Grid\"},{\"attributes\":{\"days\":[1,2,3,4,5,6,7,8,9,10,11,12,13,14,15,16,17,18,19,20,21,22,23,24,25,26,27,28,29,30,31]},\"id\":\"7966\",\"type\":\"DaysTicker\"},{\"attributes\":{\"base\":24,\"mantissas\":[1,2,4,6,8,12],\"max_interval\":43200000.0,\"min_interval\":3600000.0,\"num_minor_ticks\":0},\"id\":\"7965\",\"type\":\"AdaptiveTicker\"},{\"attributes\":{},\"id\":\"7976\",\"type\":\"UnionRenderers\"},{\"attributes\":{\"num_minor_ticks\":5,\"tickers\":[{\"id\":\"7963\"},{\"id\":\"7964\"},{\"id\":\"7965\"},{\"id\":\"7966\"},{\"id\":\"7967\"},{\"id\":\"7968\"},{\"id\":\"7969\"},{\"id\":\"7970\"},{\"id\":\"7971\"},{\"id\":\"7972\"},{\"id\":\"7973\"},{\"id\":\"7974\"}]},\"id\":\"7531\",\"type\":\"DatetimeTicker\"},{\"attributes\":{},\"id\":\"7975\",\"type\":\"Selection\"},{\"attributes\":{},\"id\":\"7974\",\"type\":\"YearsTicker\"},{\"attributes\":{\"axis\":{\"id\":\"7534\"},\"dimension\":1,\"ticker\":null},\"id\":\"7537\",\"type\":\"Grid\"},{\"attributes\":{},\"id\":\"7539\",\"type\":\"WheelZoomTool\"},{\"attributes\":{\"active_drag\":\"auto\",\"active_inspect\":\"auto\",\"active_multi\":null,\"active_scroll\":\"auto\",\"active_tap\":\"auto\",\"tools\":[{\"id\":\"7538\"},{\"id\":\"7539\"},{\"id\":\"7540\"},{\"id\":\"7541\"},{\"id\":\"7542\"},{\"id\":\"7543\"}]},\"id\":\"7545\",\"type\":\"Toolbar\"},{\"attributes\":{\"days\":[1,4,7,10,13,16,19,22,25,28]},\"id\":\"7967\",\"type\":\"DaysTicker\"},{\"attributes\":{},\"id\":\"7543\",\"type\":\"HelpTool\"},{\"attributes\":{},\"id\":\"7528\",\"type\":\"LinearScale\"},{\"attributes\":{\"days\":[1,8,15,22]},\"id\":\"7968\",\"type\":\"DaysTicker\"},{\"attributes\":{},\"id\":\"7959\",\"type\":\"DatetimeTickFormatter\"},{\"attributes\":{\"axis_label\":\"Time (weekly)\",\"formatter\":{\"id\":\"7959\"},\"ticker\":{\"id\":\"7531\"}},\"id\":\"7530\",\"type\":\"DatetimeAxis\"},{\"attributes\":{},\"id\":\"7522\",\"type\":\"DataRange1d\"},{\"attributes\":{\"months\":[0,2,4,6,8,10]},\"id\":\"7971\",\"type\":\"MonthsTicker\"},{\"attributes\":{\"months\":[0,1,2,3,4,5,6,7,8,9,10,11]},\"id\":\"7970\",\"type\":\"MonthsTicker\"},{\"attributes\":{\"fill_alpha\":{\"value\":0.1},\"fill_color\":{\"value\":\"#1f77b4\"},\"line_alpha\":{\"value\":0.1},\"line_color\":{\"value\":\"#1f77b4\"},\"x\":{\"field\":\"x\"},\"y\":{\"field\":\"y\"}},\"id\":\"7554\",\"type\":\"Scatter\"},{\"attributes\":{},\"id\":\"7526\",\"type\":\"LinearScale\"},{\"attributes\":{},\"id\":\"7541\",\"type\":\"SaveTool\"},{\"attributes\":{\"bottom_units\":\"screen\",\"fill_alpha\":0.5,\"fill_color\":\"lightgrey\",\"left_units\":\"screen\",\"level\":\"overlay\",\"line_alpha\":1.0,\"line_color\":\"black\",\"line_dash\":[4,4],\"line_width\":2,\"right_units\":\"screen\",\"top_units\":\"screen\"},\"id\":\"7544\",\"type\":\"BoxAnnotation\"},{\"attributes\":{\"text\":\"Count of weekly active users\"},\"id\":\"7520\",\"type\":\"Title\"},{\"attributes\":{\"line_alpha\":0.1,\"line_color\":\"#1f77b4\",\"x\":{\"field\":\"x\"},\"y\":{\"field\":\"y\"}},\"id\":\"7559\",\"type\":\"Line\"},{\"attributes\":{},\"id\":\"7524\",\"type\":\"DataRange1d\"},{\"attributes\":{},\"id\":\"7977\",\"type\":\"Selection\"},{\"attributes\":{\"source\":{\"id\":\"7557\"}},\"id\":\"7561\",\"type\":\"CDSView\"},{\"attributes\":{},\"id\":\"7978\",\"type\":\"UnionRenderers\"},{\"attributes\":{\"line_color\":\"#1f77b4\",\"x\":{\"field\":\"x\"},\"y\":{\"field\":\"y\"}},\"id\":\"7558\",\"type\":\"Line\"},{\"attributes\":{\"days\":[1,15]},\"id\":\"7969\",\"type\":\"DaysTicker\"},{\"attributes\":{\"data\":{\"x\":{\"__ndarray__\":\"AACAe0hcdEIAAMBDiV50QgAAAAzKYHRCAABA1ApjdEIAAICcS2V0QgAAwGSMZ3RCAAAALc1pdEIAAED1DWx0QgAAgL1ObnRCAADAhY9wdEIAAABO0HJ0QgAAQBYRdXRCAACA3lF3dEIAAMCmknl0QgAAAG/Te3RCAABANxR+dEIAAID/VIB0QgAAwMeVgnRC\",\"dtype\":\"float64\",\"order\":\"little\",\"shape\":[18]},\"y\":[5,8,4,5,6,5,5,11,8,8,8,10,9,8,6,7,7,8]},\"selected\":{\"id\":\"7977\"},\"selection_policy\":{\"id\":\"7978\"}},\"id\":\"7557\",\"type\":\"ColumnDataSource\"},{\"attributes\":{\"fill_color\":{\"value\":\"#1f77b4\"},\"line_color\":{\"value\":\"#1f77b4\"},\"x\":{\"field\":\"x\"},\"y\":{\"field\":\"y\"}},\"id\":\"7553\",\"type\":\"Scatter\"}],\"root_ids\":[\"7519\"]},\"title\":\"Bokeh Application\",\"version\":\"2.2.1\"}};\n",
       "  var render_items = [{\"docid\":\"b981871a-2ca1-4937-9bc8-f1446c0bba9e\",\"root_ids\":[\"7519\"],\"roots\":{\"7519\":\"bc36d29e-c6ec-4114-9f58-b57eb8d1337c\"}}];\n",
       "  root.Bokeh.embed.embed_items_notebook(docs_json, render_items);\n",
       "\n",
       "  }\n",
       "  if (root.Bokeh !== undefined) {\n",
       "    embed_document(root);\n",
       "  } else {\n",
       "    var attempts = 0;\n",
       "    var timer = setInterval(function(root) {\n",
       "      if (root.Bokeh !== undefined) {\n",
       "        clearInterval(timer);\n",
       "        embed_document(root);\n",
       "      } else {\n",
       "        attempts++;\n",
       "        if (attempts > 100) {\n",
       "          clearInterval(timer);\n",
       "          console.log(\"Bokeh: ERROR: Unable to run BokehJS code because BokehJS library is missing\");\n",
       "        }\n",
       "      }\n",
       "    }, 10, root)\n",
       "  }\n",
       "})(window);"
      ],
      "application/vnd.bokehjs_exec.v0+json": ""
     },
     "metadata": {
      "application/vnd.bokehjs_exec.v0+json": {
       "id": "7519"
      }
     },
     "output_type": "display_data"
    },
    {
     "name": "stdout",
     "output_type": "stream",
     "text": [
      "Colombia\n"
     ]
    },
    {
     "data": {
      "text/html": [
       "\n",
       "\n",
       "\n",
       "\n",
       "\n",
       "\n",
       "  <div class=\"bk-root\" id=\"16d52339-156d-4840-b914-4d91cd0be201\" data-root-id=\"8090\"></div>\n"
      ]
     },
     "metadata": {},
     "output_type": "display_data"
    },
    {
     "data": {
      "application/javascript": [
       "(function(root) {\n",
       "  function embed_document(root) {\n",
       "    \n",
       "  var docs_json = {\"978aea6b-dcc7-4ca1-8b87-2876070c9a15\":{\"roots\":{\"references\":[{\"attributes\":{\"below\":[{\"id\":\"8101\"}],\"center\":[{\"id\":\"8104\"},{\"id\":\"8108\"}],\"left\":[{\"id\":\"8105\"}],\"plot_height\":300,\"plot_width\":500,\"renderers\":[{\"id\":\"8126\"},{\"id\":\"8131\"}],\"title\":{\"id\":\"8091\"},\"toolbar\":{\"id\":\"8116\"},\"x_range\":{\"id\":\"8093\"},\"x_scale\":{\"id\":\"8097\"},\"y_range\":{\"id\":\"8095\"},\"y_scale\":{\"id\":\"8099\"}},\"id\":\"8090\",\"subtype\":\"Figure\",\"type\":\"Plot\"},{\"attributes\":{},\"id\":\"8095\",\"type\":\"DataRange1d\"},{\"attributes\":{},\"id\":\"8109\",\"type\":\"PanTool\"},{\"attributes\":{\"text\":\"Count of weekly active users\"},\"id\":\"8091\",\"type\":\"Title\"},{\"attributes\":{},\"id\":\"8570\",\"type\":\"Selection\"},{\"attributes\":{},\"id\":\"8554\",\"type\":\"BasicTickFormatter\"},{\"attributes\":{\"data_source\":{\"id\":\"8128\"},\"glyph\":{\"id\":\"8129\"},\"hover_glyph\":null,\"muted_glyph\":null,\"nonselection_glyph\":{\"id\":\"8130\"},\"selection_glyph\":null,\"view\":{\"id\":\"8132\"}},\"id\":\"8131\",\"type\":\"GlyphRenderer\"},{\"attributes\":{},\"id\":\"8571\",\"type\":\"UnionRenderers\"},{\"attributes\":{\"axis\":{\"id\":\"8105\"},\"dimension\":1,\"ticker\":null},\"id\":\"8108\",\"type\":\"Grid\"},{\"attributes\":{},\"id\":\"8106\",\"type\":\"BasicTicker\"},{\"attributes\":{},\"id\":\"8093\",\"type\":\"DataRange1d\"},{\"attributes\":{\"axis_label\":\"Counts\",\"formatter\":{\"id\":\"8554\"},\"ticker\":{\"id\":\"8106\"}},\"id\":\"8105\",\"type\":\"LinearAxis\"},{\"attributes\":{\"mantissas\":[1,2,5],\"max_interval\":500.0,\"num_minor_ticks\":0},\"id\":\"8556\",\"type\":\"AdaptiveTicker\"},{\"attributes\":{},\"id\":\"8114\",\"type\":\"HelpTool\"},{\"attributes\":{\"base\":60,\"mantissas\":[1,2,5,10,15,20,30],\"max_interval\":1800000.0,\"min_interval\":1000.0,\"num_minor_ticks\":0},\"id\":\"8557\",\"type\":\"AdaptiveTicker\"},{\"attributes\":{\"days\":[1,2,3,4,5,6,7,8,9,10,11,12,13,14,15,16,17,18,19,20,21,22,23,24,25,26,27,28,29,30,31]},\"id\":\"8559\",\"type\":\"DaysTicker\"},{\"attributes\":{\"base\":24,\"mantissas\":[1,2,4,6,8,12],\"max_interval\":43200000.0,\"min_interval\":3600000.0,\"num_minor_ticks\":0},\"id\":\"8558\",\"type\":\"AdaptiveTicker\"},{\"attributes\":{\"active_drag\":\"auto\",\"active_inspect\":\"auto\",\"active_multi\":null,\"active_scroll\":\"auto\",\"active_tap\":\"auto\",\"tools\":[{\"id\":\"8109\"},{\"id\":\"8110\"},{\"id\":\"8111\"},{\"id\":\"8112\"},{\"id\":\"8113\"},{\"id\":\"8114\"}]},\"id\":\"8116\",\"type\":\"Toolbar\"},{\"attributes\":{\"overlay\":{\"id\":\"8115\"}},\"id\":\"8111\",\"type\":\"BoxZoomTool\"},{\"attributes\":{},\"id\":\"8112\",\"type\":\"SaveTool\"},{\"attributes\":{\"months\":[0,1,2,3,4,5,6,7,8,9,10,11]},\"id\":\"8563\",\"type\":\"MonthsTicker\"},{\"attributes\":{},\"id\":\"8113\",\"type\":\"ResetTool\"},{\"attributes\":{\"months\":[0,2,4,6,8,10]},\"id\":\"8564\",\"type\":\"MonthsTicker\"},{\"attributes\":{\"days\":[1,4,7,10,13,16,19,22,25,28]},\"id\":\"8560\",\"type\":\"DaysTicker\"},{\"attributes\":{},\"id\":\"8097\",\"type\":\"LinearScale\"},{\"attributes\":{\"data\":{\"x\":{\"__ndarray__\":\"AACAe0hcdEIAAMBDiV50QgAAAAzKYHRCAABA1ApjdEIAAICcS2V0QgAAwGSMZ3RCAAAALc1pdEIAAED1DWx0QgAAgL1ObnRCAADAhY9wdEIAAABO0HJ0QgAAQBYRdXRCAACA3lF3dEIAAMCmknl0QgAAAG/Te3RCAABANxR+dEIAAID/VIB0QgAAwMeVgnRC\",\"dtype\":\"float64\",\"order\":\"little\",\"shape\":[18]},\"y\":[5,5,5,5,5,6,6,7,7,6,5,7,6,10,10,9,8,6]},\"selected\":{\"id\":\"8570\"},\"selection_policy\":{\"id\":\"8571\"}},\"id\":\"8128\",\"type\":\"ColumnDataSource\"},{\"attributes\":{\"days\":[1,15]},\"id\":\"8562\",\"type\":\"DaysTicker\"},{\"attributes\":{},\"id\":\"8110\",\"type\":\"WheelZoomTool\"},{\"attributes\":{},\"id\":\"8099\",\"type\":\"LinearScale\"},{\"attributes\":{\"fill_alpha\":{\"value\":0.1},\"fill_color\":{\"value\":\"#1f77b4\"},\"line_alpha\":{\"value\":0.1},\"line_color\":{\"value\":\"#1f77b4\"},\"x\":{\"field\":\"x\"},\"y\":{\"field\":\"y\"}},\"id\":\"8125\",\"type\":\"Scatter\"},{\"attributes\":{\"data\":{\"x\":{\"__ndarray__\":\"AACAe0hcdEIAAMBDiV50QgAAAAzKYHRCAABA1ApjdEIAAICcS2V0QgAAwGSMZ3RCAAAALc1pdEIAAED1DWx0QgAAgL1ObnRCAADAhY9wdEIAAABO0HJ0QgAAQBYRdXRCAACA3lF3dEIAAMCmknl0QgAAAG/Te3RCAABANxR+dEIAAID/VIB0QgAAwMeVgnRC\",\"dtype\":\"float64\",\"order\":\"little\",\"shape\":[18]},\"y\":[5,5,5,5,5,6,6,7,7,6,5,7,6,10,10,9,8,6]},\"selected\":{\"id\":\"8568\"},\"selection_policy\":{\"id\":\"8569\"}},\"id\":\"8123\",\"type\":\"ColumnDataSource\"},{\"attributes\":{\"days\":[1,8,15,22]},\"id\":\"8561\",\"type\":\"DaysTicker\"},{\"attributes\":{\"months\":[0,6]},\"id\":\"8566\",\"type\":\"MonthsTicker\"},{\"attributes\":{},\"id\":\"8567\",\"type\":\"YearsTicker\"},{\"attributes\":{\"source\":{\"id\":\"8123\"}},\"id\":\"8127\",\"type\":\"CDSView\"},{\"attributes\":{},\"id\":\"8552\",\"type\":\"DatetimeTickFormatter\"},{\"attributes\":{\"data_source\":{\"id\":\"8123\"},\"glyph\":{\"id\":\"8124\"},\"hover_glyph\":null,\"muted_glyph\":null,\"nonselection_glyph\":{\"id\":\"8125\"},\"selection_glyph\":null,\"view\":{\"id\":\"8127\"}},\"id\":\"8126\",\"type\":\"GlyphRenderer\"},{\"attributes\":{\"months\":[0,4,8]},\"id\":\"8565\",\"type\":\"MonthsTicker\"},{\"attributes\":{\"axis_label\":\"Time (weekly)\",\"formatter\":{\"id\":\"8552\"},\"ticker\":{\"id\":\"8102\"}},\"id\":\"8101\",\"type\":\"DatetimeAxis\"},{\"attributes\":{},\"id\":\"8568\",\"type\":\"Selection\"},{\"attributes\":{\"num_minor_ticks\":5,\"tickers\":[{\"id\":\"8556\"},{\"id\":\"8557\"},{\"id\":\"8558\"},{\"id\":\"8559\"},{\"id\":\"8560\"},{\"id\":\"8561\"},{\"id\":\"8562\"},{\"id\":\"8563\"},{\"id\":\"8564\"},{\"id\":\"8565\"},{\"id\":\"8566\"},{\"id\":\"8567\"}]},\"id\":\"8102\",\"type\":\"DatetimeTicker\"},{\"attributes\":{\"line_alpha\":0.1,\"line_color\":\"#1f77b4\",\"x\":{\"field\":\"x\"},\"y\":{\"field\":\"y\"}},\"id\":\"8130\",\"type\":\"Line\"},{\"attributes\":{},\"id\":\"8569\",\"type\":\"UnionRenderers\"},{\"attributes\":{\"source\":{\"id\":\"8128\"}},\"id\":\"8132\",\"type\":\"CDSView\"},{\"attributes\":{\"line_color\":\"#1f77b4\",\"x\":{\"field\":\"x\"},\"y\":{\"field\":\"y\"}},\"id\":\"8129\",\"type\":\"Line\"},{\"attributes\":{\"bottom_units\":\"screen\",\"fill_alpha\":0.5,\"fill_color\":\"lightgrey\",\"left_units\":\"screen\",\"level\":\"overlay\",\"line_alpha\":1.0,\"line_color\":\"black\",\"line_dash\":[4,4],\"line_width\":2,\"right_units\":\"screen\",\"top_units\":\"screen\"},\"id\":\"8115\",\"type\":\"BoxAnnotation\"},{\"attributes\":{\"axis\":{\"id\":\"8101\"},\"ticker\":null},\"id\":\"8104\",\"type\":\"Grid\"},{\"attributes\":{\"fill_color\":{\"value\":\"#1f77b4\"},\"line_color\":{\"value\":\"#1f77b4\"},\"x\":{\"field\":\"x\"},\"y\":{\"field\":\"y\"}},\"id\":\"8124\",\"type\":\"Scatter\"}],\"root_ids\":[\"8090\"]},\"title\":\"Bokeh Application\",\"version\":\"2.2.1\"}};\n",
       "  var render_items = [{\"docid\":\"978aea6b-dcc7-4ca1-8b87-2876070c9a15\",\"root_ids\":[\"8090\"],\"roots\":{\"8090\":\"16d52339-156d-4840-b914-4d91cd0be201\"}}];\n",
       "  root.Bokeh.embed.embed_items_notebook(docs_json, render_items);\n",
       "\n",
       "  }\n",
       "  if (root.Bokeh !== undefined) {\n",
       "    embed_document(root);\n",
       "  } else {\n",
       "    var attempts = 0;\n",
       "    var timer = setInterval(function(root) {\n",
       "      if (root.Bokeh !== undefined) {\n",
       "        clearInterval(timer);\n",
       "        embed_document(root);\n",
       "      } else {\n",
       "        attempts++;\n",
       "        if (attempts > 100) {\n",
       "          clearInterval(timer);\n",
       "          console.log(\"Bokeh: ERROR: Unable to run BokehJS code because BokehJS library is missing\");\n",
       "        }\n",
       "      }\n",
       "    }, 10, root)\n",
       "  }\n",
       "})(window);"
      ],
      "application/vnd.bokehjs_exec.v0+json": ""
     },
     "metadata": {
      "application/vnd.bokehjs_exec.v0+json": {
       "id": "8090"
      }
     },
     "output_type": "display_data"
    },
    {
     "name": "stdout",
     "output_type": "stream",
     "text": [
      "Iraq\n"
     ]
    },
    {
     "data": {
      "text/html": [
       "\n",
       "\n",
       "\n",
       "\n",
       "\n",
       "\n",
       "  <div class=\"bk-root\" id=\"51410577-3fe7-48f6-84e8-7d9d3bae9f6d\" data-root-id=\"8683\"></div>\n"
      ]
     },
     "metadata": {},
     "output_type": "display_data"
    },
    {
     "data": {
      "application/javascript": [
       "(function(root) {\n",
       "  function embed_document(root) {\n",
       "    \n",
       "  var docs_json = {\"a3ea1cd8-e137-487e-99e7-aee3c8eb66cf\":{\"roots\":{\"references\":[{\"attributes\":{\"below\":[{\"id\":\"8694\"}],\"center\":[{\"id\":\"8697\"},{\"id\":\"8701\"}],\"left\":[{\"id\":\"8698\"}],\"plot_height\":300,\"plot_width\":500,\"renderers\":[{\"id\":\"8719\"},{\"id\":\"8724\"}],\"title\":{\"id\":\"8684\"},\"toolbar\":{\"id\":\"8709\"},\"x_range\":{\"id\":\"8686\"},\"x_scale\":{\"id\":\"8690\"},\"y_range\":{\"id\":\"8688\"},\"y_scale\":{\"id\":\"8692\"}},\"id\":\"8683\",\"subtype\":\"Figure\",\"type\":\"Plot\"},{\"attributes\":{\"days\":[1,2,3,4,5,6,7,8,9,10,11,12,13,14,15,16,17,18,19,20,21,22,23,24,25,26,27,28,29,30,31]},\"id\":\"9174\",\"type\":\"DaysTicker\"},{\"attributes\":{\"base\":24,\"mantissas\":[1,2,4,6,8,12],\"max_interval\":43200000.0,\"min_interval\":3600000.0,\"num_minor_ticks\":0},\"id\":\"9173\",\"type\":\"AdaptiveTicker\"},{\"attributes\":{},\"id\":\"9186\",\"type\":\"UnionRenderers\"},{\"attributes\":{\"months\":[0,1,2,3,4,5,6,7,8,9,10,11]},\"id\":\"9178\",\"type\":\"MonthsTicker\"},{\"attributes\":{\"months\":[0,2,4,6,8,10]},\"id\":\"9179\",\"type\":\"MonthsTicker\"},{\"attributes\":{\"days\":[1,4,7,10,13,16,19,22,25,28]},\"id\":\"9175\",\"type\":\"DaysTicker\"},{\"attributes\":{\"days\":[1,15]},\"id\":\"9177\",\"type\":\"DaysTicker\"},{\"attributes\":{},\"id\":\"8705\",\"type\":\"SaveTool\"},{\"attributes\":{\"months\":[0,6]},\"id\":\"9181\",\"type\":\"MonthsTicker\"},{\"attributes\":{},\"id\":\"8699\",\"type\":\"BasicTicker\"},{\"attributes\":{\"days\":[1,8,15,22]},\"id\":\"9176\",\"type\":\"DaysTicker\"},{\"attributes\":{\"bottom_units\":\"screen\",\"fill_alpha\":0.5,\"fill_color\":\"lightgrey\",\"left_units\":\"screen\",\"level\":\"overlay\",\"line_alpha\":1.0,\"line_color\":\"black\",\"line_dash\":[4,4],\"line_width\":2,\"right_units\":\"screen\",\"top_units\":\"screen\"},\"id\":\"8708\",\"type\":\"BoxAnnotation\"},{\"attributes\":{},\"id\":\"9182\",\"type\":\"YearsTicker\"},{\"attributes\":{\"months\":[0,4,8]},\"id\":\"9180\",\"type\":\"MonthsTicker\"},{\"attributes\":{\"axis\":{\"id\":\"8698\"},\"dimension\":1,\"ticker\":null},\"id\":\"8701\",\"type\":\"Grid\"},{\"attributes\":{\"data\":{\"x\":{\"__ndarray__\":\"AACAe0hcdEIAAMBDiV50QgAAAAzKYHRCAABA1ApjdEIAAICcS2V0QgAAwGSMZ3RCAAAALc1pdEIAAED1DWx0QgAAgL1ObnRCAADAhY9wdEIAAABO0HJ0QgAAQBYRdXRCAACA3lF3dEIAAMCmknl0QgAAAG/Te3RCAABANxR+dEIAAID/VIB0QgAAwMeVgnRC\",\"dtype\":\"float64\",\"order\":\"little\",\"shape\":[18]},\"y\":[3,3,2,1,3,4,5,6,5,4,4,5,6,7,6,7,5,7]},\"selected\":{\"id\":\"9183\"},\"selection_policy\":{\"id\":\"9184\"}},\"id\":\"8716\",\"type\":\"ColumnDataSource\"},{\"attributes\":{\"overlay\":{\"id\":\"8708\"}},\"id\":\"8704\",\"type\":\"BoxZoomTool\"},{\"attributes\":{},\"id\":\"8690\",\"type\":\"LinearScale\"},{\"attributes\":{\"axis_label\":\"Counts\",\"formatter\":{\"id\":\"9169\"},\"ticker\":{\"id\":\"8699\"}},\"id\":\"8698\",\"type\":\"LinearAxis\"},{\"attributes\":{},\"id\":\"8692\",\"type\":\"LinearScale\"},{\"attributes\":{},\"id\":\"9167\",\"type\":\"DatetimeTickFormatter\"},{\"attributes\":{\"num_minor_ticks\":5,\"tickers\":[{\"id\":\"9171\"},{\"id\":\"9172\"},{\"id\":\"9173\"},{\"id\":\"9174\"},{\"id\":\"9175\"},{\"id\":\"9176\"},{\"id\":\"9177\"},{\"id\":\"9178\"},{\"id\":\"9179\"},{\"id\":\"9180\"},{\"id\":\"9181\"},{\"id\":\"9182\"}]},\"id\":\"8695\",\"type\":\"DatetimeTicker\"},{\"attributes\":{},\"id\":\"9183\",\"type\":\"Selection\"},{\"attributes\":{},\"id\":\"9184\",\"type\":\"UnionRenderers\"},{\"attributes\":{\"text\":\"Count of weekly active users\"},\"id\":\"8684\",\"type\":\"Title\"},{\"attributes\":{\"axis_label\":\"Time (weekly)\",\"formatter\":{\"id\":\"9167\"},\"ticker\":{\"id\":\"8695\"}},\"id\":\"8694\",\"type\":\"DatetimeAxis\"},{\"attributes\":{\"active_drag\":\"auto\",\"active_inspect\":\"auto\",\"active_multi\":null,\"active_scroll\":\"auto\",\"active_tap\":\"auto\",\"tools\":[{\"id\":\"8702\"},{\"id\":\"8703\"},{\"id\":\"8704\"},{\"id\":\"8705\"},{\"id\":\"8706\"},{\"id\":\"8707\"}]},\"id\":\"8709\",\"type\":\"Toolbar\"},{\"attributes\":{},\"id\":\"8707\",\"type\":\"HelpTool\"},{\"attributes\":{\"axis\":{\"id\":\"8694\"},\"ticker\":null},\"id\":\"8697\",\"type\":\"Grid\"},{\"attributes\":{\"data\":{\"x\":{\"__ndarray__\":\"AACAe0hcdEIAAMBDiV50QgAAAAzKYHRCAABA1ApjdEIAAICcS2V0QgAAwGSMZ3RCAAAALc1pdEIAAED1DWx0QgAAgL1ObnRCAADAhY9wdEIAAABO0HJ0QgAAQBYRdXRCAACA3lF3dEIAAMCmknl0QgAAAG/Te3RCAABANxR+dEIAAID/VIB0QgAAwMeVgnRC\",\"dtype\":\"float64\",\"order\":\"little\",\"shape\":[18]},\"y\":[3,3,2,1,3,4,5,6,5,4,4,5,6,7,6,7,5,7]},\"selected\":{\"id\":\"9185\"},\"selection_policy\":{\"id\":\"9186\"}},\"id\":\"8721\",\"type\":\"ColumnDataSource\"},{\"attributes\":{},\"id\":\"8702\",\"type\":\"PanTool\"},{\"attributes\":{\"fill_alpha\":{\"value\":0.1},\"fill_color\":{\"value\":\"#1f77b4\"},\"line_alpha\":{\"value\":0.1},\"line_color\":{\"value\":\"#1f77b4\"},\"x\":{\"field\":\"x\"},\"y\":{\"field\":\"y\"}},\"id\":\"8718\",\"type\":\"Scatter\"},{\"attributes\":{},\"id\":\"8703\",\"type\":\"WheelZoomTool\"},{\"attributes\":{},\"id\":\"9185\",\"type\":\"Selection\"},{\"attributes\":{},\"id\":\"8706\",\"type\":\"ResetTool\"},{\"attributes\":{\"line_color\":\"#1f77b4\",\"x\":{\"field\":\"x\"},\"y\":{\"field\":\"y\"}},\"id\":\"8722\",\"type\":\"Line\"},{\"attributes\":{},\"id\":\"9169\",\"type\":\"BasicTickFormatter\"},{\"attributes\":{\"data_source\":{\"id\":\"8721\"},\"glyph\":{\"id\":\"8722\"},\"hover_glyph\":null,\"muted_glyph\":null,\"nonselection_glyph\":{\"id\":\"8723\"},\"selection_glyph\":null,\"view\":{\"id\":\"8725\"}},\"id\":\"8724\",\"type\":\"GlyphRenderer\"},{\"attributes\":{\"source\":{\"id\":\"8716\"}},\"id\":\"8720\",\"type\":\"CDSView\"},{\"attributes\":{\"fill_color\":{\"value\":\"#1f77b4\"},\"line_color\":{\"value\":\"#1f77b4\"},\"x\":{\"field\":\"x\"},\"y\":{\"field\":\"y\"}},\"id\":\"8717\",\"type\":\"Scatter\"},{\"attributes\":{\"data_source\":{\"id\":\"8716\"},\"glyph\":{\"id\":\"8717\"},\"hover_glyph\":null,\"muted_glyph\":null,\"nonselection_glyph\":{\"id\":\"8718\"},\"selection_glyph\":null,\"view\":{\"id\":\"8720\"}},\"id\":\"8719\",\"type\":\"GlyphRenderer\"},{\"attributes\":{\"source\":{\"id\":\"8721\"}},\"id\":\"8725\",\"type\":\"CDSView\"},{\"attributes\":{},\"id\":\"8688\",\"type\":\"DataRange1d\"},{\"attributes\":{\"line_alpha\":0.1,\"line_color\":\"#1f77b4\",\"x\":{\"field\":\"x\"},\"y\":{\"field\":\"y\"}},\"id\":\"8723\",\"type\":\"Line\"},{\"attributes\":{\"mantissas\":[1,2,5],\"max_interval\":500.0,\"num_minor_ticks\":0},\"id\":\"9171\",\"type\":\"AdaptiveTicker\"},{\"attributes\":{},\"id\":\"8686\",\"type\":\"DataRange1d\"},{\"attributes\":{\"base\":60,\"mantissas\":[1,2,5,10,15,20,30],\"max_interval\":1800000.0,\"min_interval\":1000.0,\"num_minor_ticks\":0},\"id\":\"9172\",\"type\":\"AdaptiveTicker\"}],\"root_ids\":[\"8683\"]},\"title\":\"Bokeh Application\",\"version\":\"2.2.1\"}};\n",
       "  var render_items = [{\"docid\":\"a3ea1cd8-e137-487e-99e7-aee3c8eb66cf\",\"root_ids\":[\"8683\"],\"roots\":{\"8683\":\"51410577-3fe7-48f6-84e8-7d9d3bae9f6d\"}}];\n",
       "  root.Bokeh.embed.embed_items_notebook(docs_json, render_items);\n",
       "\n",
       "  }\n",
       "  if (root.Bokeh !== undefined) {\n",
       "    embed_document(root);\n",
       "  } else {\n",
       "    var attempts = 0;\n",
       "    var timer = setInterval(function(root) {\n",
       "      if (root.Bokeh !== undefined) {\n",
       "        clearInterval(timer);\n",
       "        embed_document(root);\n",
       "      } else {\n",
       "        attempts++;\n",
       "        if (attempts > 100) {\n",
       "          clearInterval(timer);\n",
       "          console.log(\"Bokeh: ERROR: Unable to run BokehJS code because BokehJS library is missing\");\n",
       "        }\n",
       "      }\n",
       "    }, 10, root)\n",
       "  }\n",
       "})(window);"
      ],
      "application/vnd.bokehjs_exec.v0+json": ""
     },
     "metadata": {
      "application/vnd.bokehjs_exec.v0+json": {
       "id": "8683"
      }
     },
     "output_type": "display_data"
    },
    {
     "name": "stdout",
     "output_type": "stream",
     "text": [
      "Indonesia\n"
     ]
    },
    {
     "data": {
      "text/html": [
       "\n",
       "\n",
       "\n",
       "\n",
       "\n",
       "\n",
       "  <div class=\"bk-root\" id=\"bc74e282-1f6d-441f-876c-c47fc0b0867b\" data-root-id=\"9298\"></div>\n"
      ]
     },
     "metadata": {},
     "output_type": "display_data"
    },
    {
     "data": {
      "application/javascript": [
       "(function(root) {\n",
       "  function embed_document(root) {\n",
       "    \n",
       "  var docs_json = {\"8386c32f-5745-40d1-912a-55c04ce26adc\":{\"roots\":{\"references\":[{\"attributes\":{\"below\":[{\"id\":\"9309\"}],\"center\":[{\"id\":\"9312\"},{\"id\":\"9316\"}],\"left\":[{\"id\":\"9313\"}],\"plot_height\":300,\"plot_width\":500,\"renderers\":[{\"id\":\"9334\"},{\"id\":\"9339\"}],\"title\":{\"id\":\"9299\"},\"toolbar\":{\"id\":\"9324\"},\"x_range\":{\"id\":\"9301\"},\"x_scale\":{\"id\":\"9305\"},\"y_range\":{\"id\":\"9303\"},\"y_scale\":{\"id\":\"9307\"}},\"id\":\"9298\",\"subtype\":\"Figure\",\"type\":\"Plot\"},{\"attributes\":{\"data\":{\"x\":{\"__ndarray__\":\"AACAe0hcdEIAAMBDiV50QgAAAAzKYHRCAABA1ApjdEIAAICcS2V0QgAAwGSMZ3RCAAAALc1pdEIAAED1DWx0QgAAgL1ObnRCAADAhY9wdEIAAABO0HJ0QgAAQBYRdXRCAACA3lF3dEIAAMCmknl0QgAAAG/Te3RCAABANxR+dEIAAID/VIB0QgAAwMeVgnRC\",\"dtype\":\"float64\",\"order\":\"little\",\"shape\":[18]},\"y\":[13,19,19,22,18,14,18,18,25,29,28,23,23,19,17,20,22,25]},\"selected\":{\"id\":\"9822\"},\"selection_policy\":{\"id\":\"9823\"}},\"id\":\"9336\",\"type\":\"ColumnDataSource\"},{\"attributes\":{},\"id\":\"9305\",\"type\":\"LinearScale\"},{\"attributes\":{},\"id\":\"9317\",\"type\":\"PanTool\"},{\"attributes\":{\"fill_alpha\":{\"value\":0.1},\"fill_color\":{\"value\":\"#1f77b4\"},\"line_alpha\":{\"value\":0.1},\"line_color\":{\"value\":\"#1f77b4\"},\"x\":{\"field\":\"x\"},\"y\":{\"field\":\"y\"}},\"id\":\"9333\",\"type\":\"Scatter\"},{\"attributes\":{},\"id\":\"9806\",\"type\":\"BasicTickFormatter\"},{\"attributes\":{\"axis\":{\"id\":\"9309\"},\"ticker\":null},\"id\":\"9312\",\"type\":\"Grid\"},{\"attributes\":{},\"id\":\"9819\",\"type\":\"YearsTicker\"},{\"attributes\":{},\"id\":\"9301\",\"type\":\"DataRange1d\"},{\"attributes\":{\"line_color\":\"#1f77b4\",\"x\":{\"field\":\"x\"},\"y\":{\"field\":\"y\"}},\"id\":\"9337\",\"type\":\"Line\"},{\"attributes\":{},\"id\":\"9321\",\"type\":\"ResetTool\"},{\"attributes\":{\"source\":{\"id\":\"9331\"}},\"id\":\"9335\",\"type\":\"CDSView\"},{\"attributes\":{\"months\":[0,6]},\"id\":\"9818\",\"type\":\"MonthsTicker\"},{\"attributes\":{\"data_source\":{\"id\":\"9331\"},\"glyph\":{\"id\":\"9332\"},\"hover_glyph\":null,\"muted_glyph\":null,\"nonselection_glyph\":{\"id\":\"9333\"},\"selection_glyph\":null,\"view\":{\"id\":\"9335\"}},\"id\":\"9334\",\"type\":\"GlyphRenderer\"},{\"attributes\":{\"base\":24,\"mantissas\":[1,2,4,6,8,12],\"max_interval\":43200000.0,\"min_interval\":3600000.0,\"num_minor_ticks\":0},\"id\":\"9810\",\"type\":\"AdaptiveTicker\"},{\"attributes\":{\"months\":[0,4,8]},\"id\":\"9817\",\"type\":\"MonthsTicker\"},{\"attributes\":{\"source\":{\"id\":\"9336\"}},\"id\":\"9340\",\"type\":\"CDSView\"},{\"attributes\":{\"base\":60,\"mantissas\":[1,2,5,10,15,20,30],\"max_interval\":1800000.0,\"min_interval\":1000.0,\"num_minor_ticks\":0},\"id\":\"9809\",\"type\":\"AdaptiveTicker\"},{\"attributes\":{\"days\":[1,8,15,22]},\"id\":\"9813\",\"type\":\"DaysTicker\"},{\"attributes\":{\"fill_color\":{\"value\":\"#1f77b4\"},\"line_color\":{\"value\":\"#1f77b4\"},\"x\":{\"field\":\"x\"},\"y\":{\"field\":\"y\"}},\"id\":\"9332\",\"type\":\"Scatter\"},{\"attributes\":{\"months\":[0,1,2,3,4,5,6,7,8,9,10,11]},\"id\":\"9815\",\"type\":\"MonthsTicker\"},{\"attributes\":{\"days\":[1,2,3,4,5,6,7,8,9,10,11,12,13,14,15,16,17,18,19,20,21,22,23,24,25,26,27,28,29,30,31]},\"id\":\"9811\",\"type\":\"DaysTicker\"},{\"attributes\":{\"line_alpha\":0.1,\"line_color\":\"#1f77b4\",\"x\":{\"field\":\"x\"},\"y\":{\"field\":\"y\"}},\"id\":\"9338\",\"type\":\"Line\"},{\"attributes\":{\"days\":[1,4,7,10,13,16,19,22,25,28]},\"id\":\"9812\",\"type\":\"DaysTicker\"},{\"attributes\":{},\"id\":\"9804\",\"type\":\"DatetimeTickFormatter\"},{\"attributes\":{},\"id\":\"9820\",\"type\":\"Selection\"},{\"attributes\":{},\"id\":\"9821\",\"type\":\"UnionRenderers\"},{\"attributes\":{\"text\":\"Count of weekly active users\"},\"id\":\"9299\",\"type\":\"Title\"},{\"attributes\":{},\"id\":\"9307\",\"type\":\"LinearScale\"},{\"attributes\":{\"bottom_units\":\"screen\",\"fill_alpha\":0.5,\"fill_color\":\"lightgrey\",\"left_units\":\"screen\",\"level\":\"overlay\",\"line_alpha\":1.0,\"line_color\":\"black\",\"line_dash\":[4,4],\"line_width\":2,\"right_units\":\"screen\",\"top_units\":\"screen\"},\"id\":\"9323\",\"type\":\"BoxAnnotation\"},{\"attributes\":{},\"id\":\"9314\",\"type\":\"BasicTicker\"},{\"attributes\":{},\"id\":\"9320\",\"type\":\"SaveTool\"},{\"attributes\":{\"mantissas\":[1,2,5],\"max_interval\":500.0,\"num_minor_ticks\":0},\"id\":\"9808\",\"type\":\"AdaptiveTicker\"},{\"attributes\":{\"axis\":{\"id\":\"9313\"},\"dimension\":1,\"ticker\":null},\"id\":\"9316\",\"type\":\"Grid\"},{\"attributes\":{\"months\":[0,2,4,6,8,10]},\"id\":\"9816\",\"type\":\"MonthsTicker\"},{\"attributes\":{},\"id\":\"9822\",\"type\":\"Selection\"},{\"attributes\":{\"axis_label\":\"Counts\",\"formatter\":{\"id\":\"9806\"},\"ticker\":{\"id\":\"9314\"}},\"id\":\"9313\",\"type\":\"LinearAxis\"},{\"attributes\":{},\"id\":\"9823\",\"type\":\"UnionRenderers\"},{\"attributes\":{},\"id\":\"9318\",\"type\":\"WheelZoomTool\"},{\"attributes\":{\"data_source\":{\"id\":\"9336\"},\"glyph\":{\"id\":\"9337\"},\"hover_glyph\":null,\"muted_glyph\":null,\"nonselection_glyph\":{\"id\":\"9338\"},\"selection_glyph\":null,\"view\":{\"id\":\"9340\"}},\"id\":\"9339\",\"type\":\"GlyphRenderer\"},{\"attributes\":{\"overlay\":{\"id\":\"9323\"}},\"id\":\"9319\",\"type\":\"BoxZoomTool\"},{\"attributes\":{\"days\":[1,15]},\"id\":\"9814\",\"type\":\"DaysTicker\"},{\"attributes\":{\"axis_label\":\"Time (weekly)\",\"formatter\":{\"id\":\"9804\"},\"ticker\":{\"id\":\"9310\"}},\"id\":\"9309\",\"type\":\"DatetimeAxis\"},{\"attributes\":{},\"id\":\"9303\",\"type\":\"DataRange1d\"},{\"attributes\":{\"data\":{\"x\":{\"__ndarray__\":\"AACAe0hcdEIAAMBDiV50QgAAAAzKYHRCAABA1ApjdEIAAICcS2V0QgAAwGSMZ3RCAAAALc1pdEIAAED1DWx0QgAAgL1ObnRCAADAhY9wdEIAAABO0HJ0QgAAQBYRdXRCAACA3lF3dEIAAMCmknl0QgAAAG/Te3RCAABANxR+dEIAAID/VIB0QgAAwMeVgnRC\",\"dtype\":\"float64\",\"order\":\"little\",\"shape\":[18]},\"y\":[13,19,19,22,18,14,18,18,25,29,28,23,23,19,17,20,22,25]},\"selected\":{\"id\":\"9820\"},\"selection_policy\":{\"id\":\"9821\"}},\"id\":\"9331\",\"type\":\"ColumnDataSource\"},{\"attributes\":{\"num_minor_ticks\":5,\"tickers\":[{\"id\":\"9808\"},{\"id\":\"9809\"},{\"id\":\"9810\"},{\"id\":\"9811\"},{\"id\":\"9812\"},{\"id\":\"9813\"},{\"id\":\"9814\"},{\"id\":\"9815\"},{\"id\":\"9816\"},{\"id\":\"9817\"},{\"id\":\"9818\"},{\"id\":\"9819\"}]},\"id\":\"9310\",\"type\":\"DatetimeTicker\"},{\"attributes\":{\"active_drag\":\"auto\",\"active_inspect\":\"auto\",\"active_multi\":null,\"active_scroll\":\"auto\",\"active_tap\":\"auto\",\"tools\":[{\"id\":\"9317\"},{\"id\":\"9318\"},{\"id\":\"9319\"},{\"id\":\"9320\"},{\"id\":\"9321\"},{\"id\":\"9322\"}]},\"id\":\"9324\",\"type\":\"Toolbar\"},{\"attributes\":{},\"id\":\"9322\",\"type\":\"HelpTool\"}],\"root_ids\":[\"9298\"]},\"title\":\"Bokeh Application\",\"version\":\"2.2.1\"}};\n",
       "  var render_items = [{\"docid\":\"8386c32f-5745-40d1-912a-55c04ce26adc\",\"root_ids\":[\"9298\"],\"roots\":{\"9298\":\"bc74e282-1f6d-441f-876c-c47fc0b0867b\"}}];\n",
       "  root.Bokeh.embed.embed_items_notebook(docs_json, render_items);\n",
       "\n",
       "  }\n",
       "  if (root.Bokeh !== undefined) {\n",
       "    embed_document(root);\n",
       "  } else {\n",
       "    var attempts = 0;\n",
       "    var timer = setInterval(function(root) {\n",
       "      if (root.Bokeh !== undefined) {\n",
       "        clearInterval(timer);\n",
       "        embed_document(root);\n",
       "      } else {\n",
       "        attempts++;\n",
       "        if (attempts > 100) {\n",
       "          clearInterval(timer);\n",
       "          console.log(\"Bokeh: ERROR: Unable to run BokehJS code because BokehJS library is missing\");\n",
       "        }\n",
       "      }\n",
       "    }, 10, root)\n",
       "  }\n",
       "})(window);"
      ],
      "application/vnd.bokehjs_exec.v0+json": ""
     },
     "metadata": {
      "application/vnd.bokehjs_exec.v0+json": {
       "id": "9298"
      }
     },
     "output_type": "display_data"
    },
    {
     "name": "stdout",
     "output_type": "stream",
     "text": [
      "Korea\n"
     ]
    },
    {
     "data": {
      "text/html": [
       "\n",
       "\n",
       "\n",
       "\n",
       "\n",
       "\n",
       "  <div class=\"bk-root\" id=\"2670831e-6b3d-4d8f-92c2-7e813d59e491\" data-root-id=\"9935\"></div>\n"
      ]
     },
     "metadata": {},
     "output_type": "display_data"
    },
    {
     "data": {
      "application/javascript": [
       "(function(root) {\n",
       "  function embed_document(root) {\n",
       "    \n",
       "  var docs_json = {\"7a254bd1-e05b-4d59-943e-5153b9b85225\":{\"roots\":{\"references\":[{\"attributes\":{\"below\":[{\"id\":\"9946\"}],\"center\":[{\"id\":\"9949\"},{\"id\":\"9953\"}],\"left\":[{\"id\":\"9950\"}],\"plot_height\":300,\"plot_width\":500,\"renderers\":[{\"id\":\"9971\"},{\"id\":\"9976\"}],\"title\":{\"id\":\"9936\"},\"toolbar\":{\"id\":\"9961\"},\"x_range\":{\"id\":\"9938\"},\"x_scale\":{\"id\":\"9942\"},\"y_range\":{\"id\":\"9940\"},\"y_scale\":{\"id\":\"9944\"}},\"id\":\"9935\",\"subtype\":\"Figure\",\"type\":\"Plot\"},{\"attributes\":{},\"id\":\"9957\",\"type\":\"SaveTool\"},{\"attributes\":{\"text\":\"Count of weekly active users\"},\"id\":\"9936\",\"type\":\"Title\"},{\"attributes\":{},\"id\":\"9944\",\"type\":\"LinearScale\"},{\"attributes\":{\"num_minor_ticks\":5,\"tickers\":[{\"id\":\"10467\"},{\"id\":\"10468\"},{\"id\":\"10469\"},{\"id\":\"10470\"},{\"id\":\"10471\"},{\"id\":\"10472\"},{\"id\":\"10473\"},{\"id\":\"10474\"},{\"id\":\"10475\"},{\"id\":\"10476\"},{\"id\":\"10477\"},{\"id\":\"10478\"}]},\"id\":\"9947\",\"type\":\"DatetimeTicker\"},{\"attributes\":{},\"id\":\"9942\",\"type\":\"LinearScale\"},{\"attributes\":{\"mantissas\":[1,2,5],\"max_interval\":500.0,\"num_minor_ticks\":0},\"id\":\"10467\",\"type\":\"AdaptiveTicker\"},{\"attributes\":{\"base\":60,\"mantissas\":[1,2,5,10,15,20,30],\"max_interval\":1800000.0,\"min_interval\":1000.0,\"num_minor_ticks\":0},\"id\":\"10468\",\"type\":\"AdaptiveTicker\"},{\"attributes\":{\"days\":[1,2,3,4,5,6,7,8,9,10,11,12,13,14,15,16,17,18,19,20,21,22,23,24,25,26,27,28,29,30,31]},\"id\":\"10470\",\"type\":\"DaysTicker\"},{\"attributes\":{\"axis_label\":\"Time (weekly)\",\"formatter\":{\"id\":\"10463\"},\"ticker\":{\"id\":\"9947\"}},\"id\":\"9946\",\"type\":\"DatetimeAxis\"},{\"attributes\":{\"base\":24,\"mantissas\":[1,2,4,6,8,12],\"max_interval\":43200000.0,\"min_interval\":3600000.0,\"num_minor_ticks\":0},\"id\":\"10469\",\"type\":\"AdaptiveTicker\"},{\"attributes\":{},\"id\":\"9959\",\"type\":\"HelpTool\"},{\"attributes\":{\"months\":[0,1,2,3,4,5,6,7,8,9,10,11]},\"id\":\"10474\",\"type\":\"MonthsTicker\"},{\"attributes\":{\"months\":[0,2,4,6,8,10]},\"id\":\"10475\",\"type\":\"MonthsTicker\"},{\"attributes\":{\"axis\":{\"id\":\"9946\"},\"ticker\":null},\"id\":\"9949\",\"type\":\"Grid\"},{\"attributes\":{\"days\":[1,4,7,10,13,16,19,22,25,28]},\"id\":\"10471\",\"type\":\"DaysTicker\"},{\"attributes\":{},\"id\":\"9954\",\"type\":\"PanTool\"},{\"attributes\":{\"days\":[1,15]},\"id\":\"10473\",\"type\":\"DaysTicker\"},{\"attributes\":{\"months\":[0,6]},\"id\":\"10477\",\"type\":\"MonthsTicker\"},{\"attributes\":{},\"id\":\"10463\",\"type\":\"DatetimeTickFormatter\"},{\"attributes\":{\"data\":{\"x\":{\"__ndarray__\":\"AACAe0hcdEIAAMBDiV50QgAAAAzKYHRCAABA1ApjdEIAAICcS2V0QgAAwGSMZ3RCAAAALc1pdEIAAED1DWx0QgAAgL1ObnRCAADAhY9wdEIAAABO0HJ0QgAAQBYRdXRCAACA3lF3dEIAAMCmknl0QgAAAG/Te3RCAABANxR+dEIAAID/VIB0QgAAwMeVgnRC\",\"dtype\":\"float64\",\"order\":\"little\",\"shape\":[18]},\"y\":[14,27,23,29,27,26,31,28,33,25,30,35,21,32,30,27,21,19]},\"selected\":{\"id\":\"10479\"},\"selection_policy\":{\"id\":\"10480\"}},\"id\":\"9968\",\"type\":\"ColumnDataSource\"},{\"attributes\":{},\"id\":\"9955\",\"type\":\"WheelZoomTool\"},{\"attributes\":{\"days\":[1,8,15,22]},\"id\":\"10472\",\"type\":\"DaysTicker\"},{\"attributes\":{},\"id\":\"9958\",\"type\":\"ResetTool\"},{\"attributes\":{},\"id\":\"10478\",\"type\":\"YearsTicker\"},{\"attributes\":{\"months\":[0,4,8]},\"id\":\"10476\",\"type\":\"MonthsTicker\"},{\"attributes\":{\"data_source\":{\"id\":\"9968\"},\"glyph\":{\"id\":\"9969\"},\"hover_glyph\":null,\"muted_glyph\":null,\"nonselection_glyph\":{\"id\":\"9970\"},\"selection_glyph\":null,\"view\":{\"id\":\"9972\"}},\"id\":\"9971\",\"type\":\"GlyphRenderer\"},{\"attributes\":{\"fill_color\":{\"value\":\"#1f77b4\"},\"line_color\":{\"value\":\"#1f77b4\"},\"x\":{\"field\":\"x\"},\"y\":{\"field\":\"y\"}},\"id\":\"9969\",\"type\":\"Scatter\"},{\"attributes\":{\"source\":{\"id\":\"9973\"}},\"id\":\"9977\",\"type\":\"CDSView\"},{\"attributes\":{},\"id\":\"9938\",\"type\":\"DataRange1d\"},{\"attributes\":{\"source\":{\"id\":\"9968\"}},\"id\":\"9972\",\"type\":\"CDSView\"},{\"attributes\":{\"data\":{\"x\":{\"__ndarray__\":\"AACAe0hcdEIAAMBDiV50QgAAAAzKYHRCAABA1ApjdEIAAICcS2V0QgAAwGSMZ3RCAAAALc1pdEIAAED1DWx0QgAAgL1ObnRCAADAhY9wdEIAAABO0HJ0QgAAQBYRdXRCAACA3lF3dEIAAMCmknl0QgAAAG/Te3RCAABANxR+dEIAAID/VIB0QgAAwMeVgnRC\",\"dtype\":\"float64\",\"order\":\"little\",\"shape\":[18]},\"y\":[14,27,23,29,27,26,31,28,33,25,30,35,21,32,30,27,21,19]},\"selected\":{\"id\":\"10481\"},\"selection_policy\":{\"id\":\"10482\"}},\"id\":\"9973\",\"type\":\"ColumnDataSource\"},{\"attributes\":{\"line_color\":\"#1f77b4\",\"x\":{\"field\":\"x\"},\"y\":{\"field\":\"y\"}},\"id\":\"9974\",\"type\":\"Line\"},{\"attributes\":{},\"id\":\"10479\",\"type\":\"Selection\"},{\"attributes\":{},\"id\":\"9940\",\"type\":\"DataRange1d\"},{\"attributes\":{},\"id\":\"10480\",\"type\":\"UnionRenderers\"},{\"attributes\":{\"active_drag\":\"auto\",\"active_inspect\":\"auto\",\"active_multi\":null,\"active_scroll\":\"auto\",\"active_tap\":\"auto\",\"tools\":[{\"id\":\"9954\"},{\"id\":\"9955\"},{\"id\":\"9956\"},{\"id\":\"9957\"},{\"id\":\"9958\"},{\"id\":\"9959\"}]},\"id\":\"9961\",\"type\":\"Toolbar\"},{\"attributes\":{\"bottom_units\":\"screen\",\"fill_alpha\":0.5,\"fill_color\":\"lightgrey\",\"left_units\":\"screen\",\"level\":\"overlay\",\"line_alpha\":1.0,\"line_color\":\"black\",\"line_dash\":[4,4],\"line_width\":2,\"right_units\":\"screen\",\"top_units\":\"screen\"},\"id\":\"9960\",\"type\":\"BoxAnnotation\"},{\"attributes\":{},\"id\":\"9951\",\"type\":\"BasicTicker\"},{\"attributes\":{\"axis\":{\"id\":\"9950\"},\"dimension\":1,\"ticker\":null},\"id\":\"9953\",\"type\":\"Grid\"},{\"attributes\":{\"line_alpha\":0.1,\"line_color\":\"#1f77b4\",\"x\":{\"field\":\"x\"},\"y\":{\"field\":\"y\"}},\"id\":\"9975\",\"type\":\"Line\"},{\"attributes\":{\"data_source\":{\"id\":\"9973\"},\"glyph\":{\"id\":\"9974\"},\"hover_glyph\":null,\"muted_glyph\":null,\"nonselection_glyph\":{\"id\":\"9975\"},\"selection_glyph\":null,\"view\":{\"id\":\"9977\"}},\"id\":\"9976\",\"type\":\"GlyphRenderer\"},{\"attributes\":{},\"id\":\"10481\",\"type\":\"Selection\"},{\"attributes\":{},\"id\":\"10465\",\"type\":\"BasicTickFormatter\"},{\"attributes\":{\"overlay\":{\"id\":\"9960\"}},\"id\":\"9956\",\"type\":\"BoxZoomTool\"},{\"attributes\":{},\"id\":\"10482\",\"type\":\"UnionRenderers\"},{\"attributes\":{\"fill_alpha\":{\"value\":0.1},\"fill_color\":{\"value\":\"#1f77b4\"},\"line_alpha\":{\"value\":0.1},\"line_color\":{\"value\":\"#1f77b4\"},\"x\":{\"field\":\"x\"},\"y\":{\"field\":\"y\"}},\"id\":\"9970\",\"type\":\"Scatter\"},{\"attributes\":{\"axis_label\":\"Counts\",\"formatter\":{\"id\":\"10465\"},\"ticker\":{\"id\":\"9951\"}},\"id\":\"9950\",\"type\":\"LinearAxis\"}],\"root_ids\":[\"9935\"]},\"title\":\"Bokeh Application\",\"version\":\"2.2.1\"}};\n",
       "  var render_items = [{\"docid\":\"7a254bd1-e05b-4d59-943e-5153b9b85225\",\"root_ids\":[\"9935\"],\"roots\":{\"9935\":\"2670831e-6b3d-4d8f-92c2-7e813d59e491\"}}];\n",
       "  root.Bokeh.embed.embed_items_notebook(docs_json, render_items);\n",
       "\n",
       "  }\n",
       "  if (root.Bokeh !== undefined) {\n",
       "    embed_document(root);\n",
       "  } else {\n",
       "    var attempts = 0;\n",
       "    var timer = setInterval(function(root) {\n",
       "      if (root.Bokeh !== undefined) {\n",
       "        clearInterval(timer);\n",
       "        embed_document(root);\n",
       "      } else {\n",
       "        attempts++;\n",
       "        if (attempts > 100) {\n",
       "          clearInterval(timer);\n",
       "          console.log(\"Bokeh: ERROR: Unable to run BokehJS code because BokehJS library is missing\");\n",
       "        }\n",
       "      }\n",
       "    }, 10, root)\n",
       "  }\n",
       "})(window);"
      ],
      "application/vnd.bokehjs_exec.v0+json": ""
     },
     "metadata": {
      "application/vnd.bokehjs_exec.v0+json": {
       "id": "9935"
      }
     },
     "output_type": "display_data"
    },
    {
     "name": "stdout",
     "output_type": "stream",
     "text": [
      "United Arab Emirates\n"
     ]
    },
    {
     "data": {
      "text/html": [
       "\n",
       "\n",
       "\n",
       "\n",
       "\n",
       "\n",
       "  <div class=\"bk-root\" id=\"cd818811-dba8-452e-abdf-84f3fe2a156f\" data-root-id=\"10594\"></div>\n"
      ]
     },
     "metadata": {},
     "output_type": "display_data"
    },
    {
     "data": {
      "application/javascript": [
       "(function(root) {\n",
       "  function embed_document(root) {\n",
       "    \n",
       "  var docs_json = {\"8225032e-9f4e-4f18-8454-2a92bc9c4c35\":{\"roots\":{\"references\":[{\"attributes\":{\"below\":[{\"id\":\"10605\"}],\"center\":[{\"id\":\"10608\"},{\"id\":\"10612\"}],\"left\":[{\"id\":\"10609\"}],\"plot_height\":300,\"plot_width\":500,\"renderers\":[{\"id\":\"10630\"},{\"id\":\"10635\"}],\"title\":{\"id\":\"10595\"},\"toolbar\":{\"id\":\"10620\"},\"x_range\":{\"id\":\"10597\"},\"x_scale\":{\"id\":\"10601\"},\"y_range\":{\"id\":\"10599\"},\"y_scale\":{\"id\":\"10603\"}},\"id\":\"10594\",\"subtype\":\"Figure\",\"type\":\"Plot\"},{\"attributes\":{\"overlay\":{\"id\":\"10619\"}},\"id\":\"10615\",\"type\":\"BoxZoomTool\"},{\"attributes\":{\"months\":[0,6]},\"id\":\"11158\",\"type\":\"MonthsTicker\"},{\"attributes\":{},\"id\":\"11159\",\"type\":\"YearsTicker\"},{\"attributes\":{\"axis_label\":\"Counts\",\"formatter\":{\"id\":\"11146\"},\"ticker\":{\"id\":\"10610\"}},\"id\":\"10609\",\"type\":\"LinearAxis\"},{\"attributes\":{\"fill_color\":{\"value\":\"#1f77b4\"},\"line_color\":{\"value\":\"#1f77b4\"},\"x\":{\"field\":\"x\"},\"y\":{\"field\":\"y\"}},\"id\":\"10628\",\"type\":\"Scatter\"},{\"attributes\":{\"data\":{\"x\":{\"__ndarray__\":\"AACAe0hcdEIAAMBDiV50QgAAAAzKYHRCAABA1ApjdEIAAICcS2V0QgAAwGSMZ3RCAAAALc1pdEIAAED1DWx0QgAAgL1ObnRCAADAhY9wdEIAAABO0HJ0QgAAQBYRdXRCAACA3lF3dEIAAMCmknl0QgAAAG/Te3RCAABANxR+dEIAAID/VIB0QgAAwMeVgnRC\",\"dtype\":\"float64\",\"order\":\"little\",\"shape\":[18]},\"y\":[6,9,12,17,11,11,10,13,13,7,8,5,9,8,7,6,8,8]},\"selected\":{\"id\":\"11160\"},\"selection_policy\":{\"id\":\"11161\"}},\"id\":\"10627\",\"type\":\"ColumnDataSource\"},{\"attributes\":{},\"id\":\"10601\",\"type\":\"LinearScale\"},{\"attributes\":{\"active_drag\":\"auto\",\"active_inspect\":\"auto\",\"active_multi\":null,\"active_scroll\":\"auto\",\"active_tap\":\"auto\",\"tools\":[{\"id\":\"10613\"},{\"id\":\"10614\"},{\"id\":\"10615\"},{\"id\":\"10616\"},{\"id\":\"10617\"},{\"id\":\"10618\"}]},\"id\":\"10620\",\"type\":\"Toolbar\"},{\"attributes\":{},\"id\":\"10597\",\"type\":\"DataRange1d\"},{\"attributes\":{},\"id\":\"10618\",\"type\":\"HelpTool\"},{\"attributes\":{},\"id\":\"10616\",\"type\":\"SaveTool\"},{\"attributes\":{},\"id\":\"11160\",\"type\":\"Selection\"},{\"attributes\":{\"axis\":{\"id\":\"10609\"},\"dimension\":1,\"ticker\":null},\"id\":\"10612\",\"type\":\"Grid\"},{\"attributes\":{\"bottom_units\":\"screen\",\"fill_alpha\":0.5,\"fill_color\":\"lightgrey\",\"left_units\":\"screen\",\"level\":\"overlay\",\"line_alpha\":1.0,\"line_color\":\"black\",\"line_dash\":[4,4],\"line_width\":2,\"right_units\":\"screen\",\"top_units\":\"screen\"},\"id\":\"10619\",\"type\":\"BoxAnnotation\"},{\"attributes\":{},\"id\":\"11162\",\"type\":\"Selection\"},{\"attributes\":{},\"id\":\"10599\",\"type\":\"DataRange1d\"},{\"attributes\":{},\"id\":\"11161\",\"type\":\"UnionRenderers\"},{\"attributes\":{},\"id\":\"10610\",\"type\":\"BasicTicker\"},{\"attributes\":{},\"id\":\"10603\",\"type\":\"LinearScale\"},{\"attributes\":{\"axis_label\":\"Time (weekly)\",\"formatter\":{\"id\":\"11144\"},\"ticker\":{\"id\":\"10606\"}},\"id\":\"10605\",\"type\":\"DatetimeAxis\"},{\"attributes\":{\"data\":{\"x\":{\"__ndarray__\":\"AACAe0hcdEIAAMBDiV50QgAAAAzKYHRCAABA1ApjdEIAAICcS2V0QgAAwGSMZ3RCAAAALc1pdEIAAED1DWx0QgAAgL1ObnRCAADAhY9wdEIAAABO0HJ0QgAAQBYRdXRCAACA3lF3dEIAAMCmknl0QgAAAG/Te3RCAABANxR+dEIAAID/VIB0QgAAwMeVgnRC\",\"dtype\":\"float64\",\"order\":\"little\",\"shape\":[18]},\"y\":[6,9,12,17,11,11,10,13,13,7,8,5,9,8,7,6,8,8]},\"selected\":{\"id\":\"11162\"},\"selection_policy\":{\"id\":\"11163\"}},\"id\":\"10632\",\"type\":\"ColumnDataSource\"},{\"attributes\":{\"axis\":{\"id\":\"10605\"},\"ticker\":null},\"id\":\"10608\",\"type\":\"Grid\"},{\"attributes\":{},\"id\":\"10613\",\"type\":\"PanTool\"},{\"attributes\":{\"fill_alpha\":{\"value\":0.1},\"fill_color\":{\"value\":\"#1f77b4\"},\"line_alpha\":{\"value\":0.1},\"line_color\":{\"value\":\"#1f77b4\"},\"x\":{\"field\":\"x\"},\"y\":{\"field\":\"y\"}},\"id\":\"10629\",\"type\":\"Scatter\"},{\"attributes\":{},\"id\":\"11146\",\"type\":\"BasicTickFormatter\"},{\"attributes\":{},\"id\":\"10614\",\"type\":\"WheelZoomTool\"},{\"attributes\":{\"line_color\":\"#1f77b4\",\"x\":{\"field\":\"x\"},\"y\":{\"field\":\"y\"}},\"id\":\"10633\",\"type\":\"Line\"},{\"attributes\":{},\"id\":\"10617\",\"type\":\"ResetTool\"},{\"attributes\":{\"source\":{\"id\":\"10627\"}},\"id\":\"10631\",\"type\":\"CDSView\"},{\"attributes\":{\"num_minor_ticks\":5,\"tickers\":[{\"id\":\"11148\"},{\"id\":\"11149\"},{\"id\":\"11150\"},{\"id\":\"11151\"},{\"id\":\"11152\"},{\"id\":\"11153\"},{\"id\":\"11154\"},{\"id\":\"11155\"},{\"id\":\"11156\"},{\"id\":\"11157\"},{\"id\":\"11158\"},{\"id\":\"11159\"}]},\"id\":\"10606\",\"type\":\"DatetimeTicker\"},{\"attributes\":{\"data_source\":{\"id\":\"10627\"},\"glyph\":{\"id\":\"10628\"},\"hover_glyph\":null,\"muted_glyph\":null,\"nonselection_glyph\":{\"id\":\"10629\"},\"selection_glyph\":null,\"view\":{\"id\":\"10631\"}},\"id\":\"10630\",\"type\":\"GlyphRenderer\"},{\"attributes\":{\"source\":{\"id\":\"10632\"}},\"id\":\"10636\",\"type\":\"CDSView\"},{\"attributes\":{\"mantissas\":[1,2,5],\"max_interval\":500.0,\"num_minor_ticks\":0},\"id\":\"11148\",\"type\":\"AdaptiveTicker\"},{\"attributes\":{\"base\":60,\"mantissas\":[1,2,5,10,15,20,30],\"max_interval\":1800000.0,\"min_interval\":1000.0,\"num_minor_ticks\":0},\"id\":\"11149\",\"type\":\"AdaptiveTicker\"},{\"attributes\":{},\"id\":\"11163\",\"type\":\"UnionRenderers\"},{\"attributes\":{\"line_alpha\":0.1,\"line_color\":\"#1f77b4\",\"x\":{\"field\":\"x\"},\"y\":{\"field\":\"y\"}},\"id\":\"10634\",\"type\":\"Line\"},{\"attributes\":{\"days\":[1,2,3,4,5,6,7,8,9,10,11,12,13,14,15,16,17,18,19,20,21,22,23,24,25,26,27,28,29,30,31]},\"id\":\"11151\",\"type\":\"DaysTicker\"},{\"attributes\":{\"text\":\"Count of weekly active users\"},\"id\":\"10595\",\"type\":\"Title\"},{\"attributes\":{\"base\":24,\"mantissas\":[1,2,4,6,8,12],\"max_interval\":43200000.0,\"min_interval\":3600000.0,\"num_minor_ticks\":0},\"id\":\"11150\",\"type\":\"AdaptiveTicker\"},{\"attributes\":{\"months\":[0,1,2,3,4,5,6,7,8,9,10,11]},\"id\":\"11155\",\"type\":\"MonthsTicker\"},{\"attributes\":{},\"id\":\"11144\",\"type\":\"DatetimeTickFormatter\"},{\"attributes\":{\"days\":[1,8,15,22]},\"id\":\"11153\",\"type\":\"DaysTicker\"},{\"attributes\":{\"days\":[1,4,7,10,13,16,19,22,25,28]},\"id\":\"11152\",\"type\":\"DaysTicker\"},{\"attributes\":{\"data_source\":{\"id\":\"10632\"},\"glyph\":{\"id\":\"10633\"},\"hover_glyph\":null,\"muted_glyph\":null,\"nonselection_glyph\":{\"id\":\"10634\"},\"selection_glyph\":null,\"view\":{\"id\":\"10636\"}},\"id\":\"10635\",\"type\":\"GlyphRenderer\"},{\"attributes\":{\"days\":[1,15]},\"id\":\"11154\",\"type\":\"DaysTicker\"},{\"attributes\":{\"months\":[0,2,4,6,8,10]},\"id\":\"11156\",\"type\":\"MonthsTicker\"},{\"attributes\":{\"months\":[0,4,8]},\"id\":\"11157\",\"type\":\"MonthsTicker\"}],\"root_ids\":[\"10594\"]},\"title\":\"Bokeh Application\",\"version\":\"2.2.1\"}};\n",
       "  var render_items = [{\"docid\":\"8225032e-9f4e-4f18-8454-2a92bc9c4c35\",\"root_ids\":[\"10594\"],\"roots\":{\"10594\":\"cd818811-dba8-452e-abdf-84f3fe2a156f\"}}];\n",
       "  root.Bokeh.embed.embed_items_notebook(docs_json, render_items);\n",
       "\n",
       "  }\n",
       "  if (root.Bokeh !== undefined) {\n",
       "    embed_document(root);\n",
       "  } else {\n",
       "    var attempts = 0;\n",
       "    var timer = setInterval(function(root) {\n",
       "      if (root.Bokeh !== undefined) {\n",
       "        clearInterval(timer);\n",
       "        embed_document(root);\n",
       "      } else {\n",
       "        attempts++;\n",
       "        if (attempts > 100) {\n",
       "          clearInterval(timer);\n",
       "          console.log(\"Bokeh: ERROR: Unable to run BokehJS code because BokehJS library is missing\");\n",
       "        }\n",
       "      }\n",
       "    }, 10, root)\n",
       "  }\n",
       "})(window);"
      ],
      "application/vnd.bokehjs_exec.v0+json": ""
     },
     "metadata": {
      "application/vnd.bokehjs_exec.v0+json": {
       "id": "10594"
      }
     },
     "output_type": "display_data"
    },
    {
     "name": "stdout",
     "output_type": "stream",
     "text": [
      "Belgium\n"
     ]
    },
    {
     "data": {
      "text/html": [
       "\n",
       "\n",
       "\n",
       "\n",
       "\n",
       "\n",
       "  <div class=\"bk-root\" id=\"b5f55f33-d929-4baa-884e-3a69341f9c91\" data-root-id=\"11275\"></div>\n"
      ]
     },
     "metadata": {},
     "output_type": "display_data"
    },
    {
     "data": {
      "application/javascript": [
       "(function(root) {\n",
       "  function embed_document(root) {\n",
       "    \n",
       "  var docs_json = {\"9d51d10e-1f12-489d-97dd-c2697ca41a51\":{\"roots\":{\"references\":[{\"attributes\":{\"below\":[{\"id\":\"11286\"}],\"center\":[{\"id\":\"11289\"},{\"id\":\"11293\"}],\"left\":[{\"id\":\"11290\"}],\"plot_height\":300,\"plot_width\":500,\"renderers\":[{\"id\":\"11311\"},{\"id\":\"11316\"}],\"title\":{\"id\":\"11276\"},\"toolbar\":{\"id\":\"11301\"},\"x_range\":{\"id\":\"11278\"},\"x_scale\":{\"id\":\"11282\"},\"y_range\":{\"id\":\"11280\"},\"y_scale\":{\"id\":\"11284\"}},\"id\":\"11275\",\"subtype\":\"Figure\",\"type\":\"Plot\"},{\"attributes\":{\"fill_color\":{\"value\":\"#1f77b4\"},\"line_color\":{\"value\":\"#1f77b4\"},\"x\":{\"field\":\"x\"},\"y\":{\"field\":\"y\"}},\"id\":\"11309\",\"type\":\"Scatter\"},{\"attributes\":{\"source\":{\"id\":\"11313\"}},\"id\":\"11317\",\"type\":\"CDSView\"},{\"attributes\":{},\"id\":\"11847\",\"type\":\"DatetimeTickFormatter\"},{\"attributes\":{},\"id\":\"11849\",\"type\":\"BasicTickFormatter\"},{\"attributes\":{\"line_alpha\":0.1,\"line_color\":\"#1f77b4\",\"x\":{\"field\":\"x\"},\"y\":{\"field\":\"y\"}},\"id\":\"11315\",\"type\":\"Line\"},{\"attributes\":{},\"id\":\"11863\",\"type\":\"Selection\"},{\"attributes\":{\"data_source\":{\"id\":\"11308\"},\"glyph\":{\"id\":\"11309\"},\"hover_glyph\":null,\"muted_glyph\":null,\"nonselection_glyph\":{\"id\":\"11310\"},\"selection_glyph\":null,\"view\":{\"id\":\"11312\"}},\"id\":\"11311\",\"type\":\"GlyphRenderer\"},{\"attributes\":{},\"id\":\"11864\",\"type\":\"UnionRenderers\"},{\"attributes\":{\"axis\":{\"id\":\"11290\"},\"dimension\":1,\"ticker\":null},\"id\":\"11293\",\"type\":\"Grid\"},{\"attributes\":{\"bottom_units\":\"screen\",\"fill_alpha\":0.5,\"fill_color\":\"lightgrey\",\"left_units\":\"screen\",\"level\":\"overlay\",\"line_alpha\":1.0,\"line_color\":\"black\",\"line_dash\":[4,4],\"line_width\":2,\"right_units\":\"screen\",\"top_units\":\"screen\"},\"id\":\"11300\",\"type\":\"BoxAnnotation\"},{\"attributes\":{\"axis_label\":\"Counts\",\"formatter\":{\"id\":\"11849\"},\"ticker\":{\"id\":\"11291\"}},\"id\":\"11290\",\"type\":\"LinearAxis\"},{\"attributes\":{\"data_source\":{\"id\":\"11313\"},\"glyph\":{\"id\":\"11314\"},\"hover_glyph\":null,\"muted_glyph\":null,\"nonselection_glyph\":{\"id\":\"11315\"},\"selection_glyph\":null,\"view\":{\"id\":\"11317\"}},\"id\":\"11316\",\"type\":\"GlyphRenderer\"},{\"attributes\":{\"active_drag\":\"auto\",\"active_inspect\":\"auto\",\"active_multi\":null,\"active_scroll\":\"auto\",\"active_tap\":\"auto\",\"tools\":[{\"id\":\"11294\"},{\"id\":\"11295\"},{\"id\":\"11296\"},{\"id\":\"11297\"},{\"id\":\"11298\"},{\"id\":\"11299\"}]},\"id\":\"11301\",\"type\":\"Toolbar\"},{\"attributes\":{\"months\":[0,2,4,6,8,10]},\"id\":\"11859\",\"type\":\"MonthsTicker\"},{\"attributes\":{},\"id\":\"11865\",\"type\":\"Selection\"},{\"attributes\":{\"overlay\":{\"id\":\"11300\"}},\"id\":\"11296\",\"type\":\"BoxZoomTool\"},{\"attributes\":{},\"id\":\"11284\",\"type\":\"LinearScale\"},{\"attributes\":{},\"id\":\"11866\",\"type\":\"UnionRenderers\"},{\"attributes\":{},\"id\":\"11295\",\"type\":\"WheelZoomTool\"},{\"attributes\":{\"axis\":{\"id\":\"11286\"},\"ticker\":null},\"id\":\"11289\",\"type\":\"Grid\"},{\"attributes\":{},\"id\":\"11278\",\"type\":\"DataRange1d\"},{\"attributes\":{},\"id\":\"11280\",\"type\":\"DataRange1d\"},{\"attributes\":{},\"id\":\"11291\",\"type\":\"BasicTicker\"},{\"attributes\":{},\"id\":\"11297\",\"type\":\"SaveTool\"},{\"attributes\":{\"mantissas\":[1,2,5],\"max_interval\":500.0,\"num_minor_ticks\":0},\"id\":\"11851\",\"type\":\"AdaptiveTicker\"},{\"attributes\":{\"axis_label\":\"Time (weekly)\",\"formatter\":{\"id\":\"11847\"},\"ticker\":{\"id\":\"11287\"}},\"id\":\"11286\",\"type\":\"DatetimeAxis\"},{\"attributes\":{\"base\":60,\"mantissas\":[1,2,5,10,15,20,30],\"max_interval\":1800000.0,\"min_interval\":1000.0,\"num_minor_ticks\":0},\"id\":\"11852\",\"type\":\"AdaptiveTicker\"},{\"attributes\":{\"data\":{\"x\":{\"__ndarray__\":\"AACAe0hcdEIAAMBDiV50QgAAAAzKYHRCAABA1ApjdEIAAICcS2V0QgAAwGSMZ3RCAAAALc1pdEIAAED1DWx0QgAAgL1ObnRCAADAhY9wdEIAAABO0HJ0QgAAQBYRdXRCAACA3lF3dEIAAMCmknl0QgAAAG/Te3RCAABANxR+dEIAAID/VIB0QgAAwMeVgnRC\",\"dtype\":\"float64\",\"order\":\"little\",\"shape\":[18]},\"y\":[8,13,11,12,9,9,10,7,13,15,14,12,18,11,6,5,11,9]},\"selected\":{\"id\":\"11863\"},\"selection_policy\":{\"id\":\"11864\"}},\"id\":\"11308\",\"type\":\"ColumnDataSource\"},{\"attributes\":{\"days\":[1,2,3,4,5,6,7,8,9,10,11,12,13,14,15,16,17,18,19,20,21,22,23,24,25,26,27,28,29,30,31]},\"id\":\"11854\",\"type\":\"DaysTicker\"},{\"attributes\":{},\"id\":\"11299\",\"type\":\"HelpTool\"},{\"attributes\":{\"base\":24,\"mantissas\":[1,2,4,6,8,12],\"max_interval\":43200000.0,\"min_interval\":3600000.0,\"num_minor_ticks\":0},\"id\":\"11853\",\"type\":\"AdaptiveTicker\"},{\"attributes\":{\"num_minor_ticks\":5,\"tickers\":[{\"id\":\"11851\"},{\"id\":\"11852\"},{\"id\":\"11853\"},{\"id\":\"11854\"},{\"id\":\"11855\"},{\"id\":\"11856\"},{\"id\":\"11857\"},{\"id\":\"11858\"},{\"id\":\"11859\"},{\"id\":\"11860\"},{\"id\":\"11861\"},{\"id\":\"11862\"}]},\"id\":\"11287\",\"type\":\"DatetimeTicker\"},{\"attributes\":{\"months\":[0,1,2,3,4,5,6,7,8,9,10,11]},\"id\":\"11858\",\"type\":\"MonthsTicker\"},{\"attributes\":{},\"id\":\"11294\",\"type\":\"PanTool\"},{\"attributes\":{\"days\":[1,4,7,10,13,16,19,22,25,28]},\"id\":\"11855\",\"type\":\"DaysTicker\"},{\"attributes\":{\"data\":{\"x\":{\"__ndarray__\":\"AACAe0hcdEIAAMBDiV50QgAAAAzKYHRCAABA1ApjdEIAAICcS2V0QgAAwGSMZ3RCAAAALc1pdEIAAED1DWx0QgAAgL1ObnRCAADAhY9wdEIAAABO0HJ0QgAAQBYRdXRCAACA3lF3dEIAAMCmknl0QgAAAG/Te3RCAABANxR+dEIAAID/VIB0QgAAwMeVgnRC\",\"dtype\":\"float64\",\"order\":\"little\",\"shape\":[18]},\"y\":[8,13,11,12,9,9,10,7,13,15,14,12,18,11,6,5,11,9]},\"selected\":{\"id\":\"11865\"},\"selection_policy\":{\"id\":\"11866\"}},\"id\":\"11313\",\"type\":\"ColumnDataSource\"},{\"attributes\":{\"days\":[1,15]},\"id\":\"11857\",\"type\":\"DaysTicker\"},{\"attributes\":{},\"id\":\"11282\",\"type\":\"LinearScale\"},{\"attributes\":{\"months\":[0,6]},\"id\":\"11861\",\"type\":\"MonthsTicker\"},{\"attributes\":{\"fill_alpha\":{\"value\":0.1},\"fill_color\":{\"value\":\"#1f77b4\"},\"line_alpha\":{\"value\":0.1},\"line_color\":{\"value\":\"#1f77b4\"},\"x\":{\"field\":\"x\"},\"y\":{\"field\":\"y\"}},\"id\":\"11310\",\"type\":\"Scatter\"},{\"attributes\":{},\"id\":\"11298\",\"type\":\"ResetTool\"},{\"attributes\":{\"days\":[1,8,15,22]},\"id\":\"11856\",\"type\":\"DaysTicker\"},{\"attributes\":{\"line_color\":\"#1f77b4\",\"x\":{\"field\":\"x\"},\"y\":{\"field\":\"y\"}},\"id\":\"11314\",\"type\":\"Line\"},{\"attributes\":{},\"id\":\"11862\",\"type\":\"YearsTicker\"},{\"attributes\":{\"source\":{\"id\":\"11308\"}},\"id\":\"11312\",\"type\":\"CDSView\"},{\"attributes\":{\"months\":[0,4,8]},\"id\":\"11860\",\"type\":\"MonthsTicker\"},{\"attributes\":{\"text\":\"Count of weekly active users\"},\"id\":\"11276\",\"type\":\"Title\"}],\"root_ids\":[\"11275\"]},\"title\":\"Bokeh Application\",\"version\":\"2.2.1\"}};\n",
       "  var render_items = [{\"docid\":\"9d51d10e-1f12-489d-97dd-c2697ca41a51\",\"root_ids\":[\"11275\"],\"roots\":{\"11275\":\"b5f55f33-d929-4baa-884e-3a69341f9c91\"}}];\n",
       "  root.Bokeh.embed.embed_items_notebook(docs_json, render_items);\n",
       "\n",
       "  }\n",
       "  if (root.Bokeh !== undefined) {\n",
       "    embed_document(root);\n",
       "  } else {\n",
       "    var attempts = 0;\n",
       "    var timer = setInterval(function(root) {\n",
       "      if (root.Bokeh !== undefined) {\n",
       "        clearInterval(timer);\n",
       "        embed_document(root);\n",
       "      } else {\n",
       "        attempts++;\n",
       "        if (attempts > 100) {\n",
       "          clearInterval(timer);\n",
       "          console.log(\"Bokeh: ERROR: Unable to run BokehJS code because BokehJS library is missing\");\n",
       "        }\n",
       "      }\n",
       "    }, 10, root)\n",
       "  }\n",
       "})(window);"
      ],
      "application/vnd.bokehjs_exec.v0+json": ""
     },
     "metadata": {
      "application/vnd.bokehjs_exec.v0+json": {
       "id": "11275"
      }
     },
     "output_type": "display_data"
    },
    {
     "name": "stdout",
     "output_type": "stream",
     "text": [
      "Saudi Arabia\n"
     ]
    },
    {
     "data": {
      "text/html": [
       "\n",
       "\n",
       "\n",
       "\n",
       "\n",
       "\n",
       "  <div class=\"bk-root\" id=\"526fdd37-cc3e-49a1-a552-a1795477b25e\" data-root-id=\"11978\"></div>\n"
      ]
     },
     "metadata": {},
     "output_type": "display_data"
    },
    {
     "data": {
      "application/javascript": [
       "(function(root) {\n",
       "  function embed_document(root) {\n",
       "    \n",
       "  var docs_json = {\"719619d3-d0a0-458e-ada4-e52a09750600\":{\"roots\":{\"references\":[{\"attributes\":{\"below\":[{\"id\":\"11989\"}],\"center\":[{\"id\":\"11992\"},{\"id\":\"11996\"}],\"left\":[{\"id\":\"11993\"}],\"plot_height\":300,\"plot_width\":500,\"renderers\":[{\"id\":\"12014\"},{\"id\":\"12019\"}],\"title\":{\"id\":\"11979\"},\"toolbar\":{\"id\":\"12004\"},\"x_range\":{\"id\":\"11981\"},\"x_scale\":{\"id\":\"11985\"},\"y_range\":{\"id\":\"11983\"},\"y_scale\":{\"id\":\"11987\"}},\"id\":\"11978\",\"subtype\":\"Figure\",\"type\":\"Plot\"},{\"attributes\":{},\"id\":\"12001\",\"type\":\"ResetTool\"},{\"attributes\":{},\"id\":\"12002\",\"type\":\"HelpTool\"},{\"attributes\":{\"data\":{\"x\":{\"__ndarray__\":\"AACAe0hcdEIAAMBDiV50QgAAAAzKYHRCAABA1ApjdEIAAICcS2V0QgAAwGSMZ3RCAAAALc1pdEIAAED1DWx0QgAAgL1ObnRCAADAhY9wdEIAAABO0HJ0QgAAQBYRdXRCAACA3lF3dEIAAMCmknl0QgAAAG/Te3RCAABANxR+dEIAAID/VIB0QgAAwMeVgnRC\",\"dtype\":\"float64\",\"order\":\"little\",\"shape\":[18]},\"y\":[7,12,17,15,14,24,17,16,20,15,15,19,18,17,14,10,9,11]},\"selected\":{\"id\":\"12590\"},\"selection_policy\":{\"id\":\"12591\"}},\"id\":\"12016\",\"type\":\"ColumnDataSource\"},{\"attributes\":{\"fill_alpha\":{\"value\":0.1},\"fill_color\":{\"value\":\"#1f77b4\"},\"line_alpha\":{\"value\":0.1},\"line_color\":{\"value\":\"#1f77b4\"},\"x\":{\"field\":\"x\"},\"y\":{\"field\":\"y\"}},\"id\":\"12013\",\"type\":\"Scatter\"},{\"attributes\":{},\"id\":\"12590\",\"type\":\"Selection\"},{\"attributes\":{},\"id\":\"12574\",\"type\":\"BasicTickFormatter\"},{\"attributes\":{\"line_color\":\"#1f77b4\",\"x\":{\"field\":\"x\"},\"y\":{\"field\":\"y\"}},\"id\":\"12017\",\"type\":\"Line\"},{\"attributes\":{\"source\":{\"id\":\"12011\"}},\"id\":\"12015\",\"type\":\"CDSView\"},{\"attributes\":{\"fill_color\":{\"value\":\"#1f77b4\"},\"line_color\":{\"value\":\"#1f77b4\"},\"x\":{\"field\":\"x\"},\"y\":{\"field\":\"y\"}},\"id\":\"12012\",\"type\":\"Scatter\"},{\"attributes\":{\"data_source\":{\"id\":\"12011\"},\"glyph\":{\"id\":\"12012\"},\"hover_glyph\":null,\"muted_glyph\":null,\"nonselection_glyph\":{\"id\":\"12013\"},\"selection_glyph\":null,\"view\":{\"id\":\"12015\"}},\"id\":\"12014\",\"type\":\"GlyphRenderer\"},{\"attributes\":{\"source\":{\"id\":\"12016\"}},\"id\":\"12020\",\"type\":\"CDSView\"},{\"attributes\":{\"text\":\"Count of weekly active users\"},\"id\":\"11979\",\"type\":\"Title\"},{\"attributes\":{\"mantissas\":[1,2,5],\"max_interval\":500.0,\"num_minor_ticks\":0},\"id\":\"12576\",\"type\":\"AdaptiveTicker\"},{\"attributes\":{\"line_alpha\":0.1,\"line_color\":\"#1f77b4\",\"x\":{\"field\":\"x\"},\"y\":{\"field\":\"y\"}},\"id\":\"12018\",\"type\":\"Line\"},{\"attributes\":{\"base\":60,\"mantissas\":[1,2,5,10,15,20,30],\"max_interval\":1800000.0,\"min_interval\":1000.0,\"num_minor_ticks\":0},\"id\":\"12577\",\"type\":\"AdaptiveTicker\"},{\"attributes\":{\"days\":[1,2,3,4,5,6,7,8,9,10,11,12,13,14,15,16,17,18,19,20,21,22,23,24,25,26,27,28,29,30,31]},\"id\":\"12579\",\"type\":\"DaysTicker\"},{\"attributes\":{},\"id\":\"12591\",\"type\":\"UnionRenderers\"},{\"attributes\":{\"base\":24,\"mantissas\":[1,2,4,6,8,12],\"max_interval\":43200000.0,\"min_interval\":3600000.0,\"num_minor_ticks\":0},\"id\":\"12578\",\"type\":\"AdaptiveTicker\"},{\"attributes\":{\"months\":[0,1,2,3,4,5,6,7,8,9,10,11]},\"id\":\"12583\",\"type\":\"MonthsTicker\"},{\"attributes\":{},\"id\":\"11985\",\"type\":\"LinearScale\"},{\"attributes\":{\"months\":[0,2,4,6,8,10]},\"id\":\"12584\",\"type\":\"MonthsTicker\"},{\"attributes\":{},\"id\":\"12572\",\"type\":\"DatetimeTickFormatter\"},{\"attributes\":{\"days\":[1,4,7,10,13,16,19,22,25,28]},\"id\":\"12580\",\"type\":\"DaysTicker\"},{\"attributes\":{\"days\":[1,15]},\"id\":\"12582\",\"type\":\"DaysTicker\"},{\"attributes\":{\"months\":[0,6]},\"id\":\"12586\",\"type\":\"MonthsTicker\"},{\"attributes\":{\"days\":[1,8,15,22]},\"id\":\"12581\",\"type\":\"DaysTicker\"},{\"attributes\":{},\"id\":\"11998\",\"type\":\"WheelZoomTool\"},{\"attributes\":{\"bottom_units\":\"screen\",\"fill_alpha\":0.5,\"fill_color\":\"lightgrey\",\"left_units\":\"screen\",\"level\":\"overlay\",\"line_alpha\":1.0,\"line_color\":\"black\",\"line_dash\":[4,4],\"line_width\":2,\"right_units\":\"screen\",\"top_units\":\"screen\"},\"id\":\"12003\",\"type\":\"BoxAnnotation\"},{\"attributes\":{},\"id\":\"12587\",\"type\":\"YearsTicker\"},{\"attributes\":{},\"id\":\"11994\",\"type\":\"BasicTicker\"},{\"attributes\":{\"months\":[0,4,8]},\"id\":\"12585\",\"type\":\"MonthsTicker\"},{\"attributes\":{\"data_source\":{\"id\":\"12016\"},\"glyph\":{\"id\":\"12017\"},\"hover_glyph\":null,\"muted_glyph\":null,\"nonselection_glyph\":{\"id\":\"12018\"},\"selection_glyph\":null,\"view\":{\"id\":\"12020\"}},\"id\":\"12019\",\"type\":\"GlyphRenderer\"},{\"attributes\":{\"data\":{\"x\":{\"__ndarray__\":\"AACAe0hcdEIAAMBDiV50QgAAAAzKYHRCAABA1ApjdEIAAICcS2V0QgAAwGSMZ3RCAAAALc1pdEIAAED1DWx0QgAAgL1ObnRCAADAhY9wdEIAAABO0HJ0QgAAQBYRdXRCAACA3lF3dEIAAMCmknl0QgAAAG/Te3RCAABANxR+dEIAAID/VIB0QgAAwMeVgnRC\",\"dtype\":\"float64\",\"order\":\"little\",\"shape\":[18]},\"y\":[7,12,17,15,14,24,17,16,20,15,15,19,18,17,14,10,9,11]},\"selected\":{\"id\":\"12588\"},\"selection_policy\":{\"id\":\"12589\"}},\"id\":\"12011\",\"type\":\"ColumnDataSource\"},{\"attributes\":{},\"id\":\"12000\",\"type\":\"SaveTool\"},{\"attributes\":{},\"id\":\"11981\",\"type\":\"DataRange1d\"},{\"attributes\":{\"axis\":{\"id\":\"11989\"},\"ticker\":null},\"id\":\"11992\",\"type\":\"Grid\"},{\"attributes\":{},\"id\":\"11987\",\"type\":\"LinearScale\"},{\"attributes\":{},\"id\":\"11997\",\"type\":\"PanTool\"},{\"attributes\":{},\"id\":\"11983\",\"type\":\"DataRange1d\"},{\"attributes\":{\"axis_label\":\"Time (weekly)\",\"formatter\":{\"id\":\"12572\"},\"ticker\":{\"id\":\"11990\"}},\"id\":\"11989\",\"type\":\"DatetimeAxis\"},{\"attributes\":{\"overlay\":{\"id\":\"12003\"}},\"id\":\"11999\",\"type\":\"BoxZoomTool\"},{\"attributes\":{},\"id\":\"12588\",\"type\":\"Selection\"},{\"attributes\":{\"axis\":{\"id\":\"11993\"},\"dimension\":1,\"ticker\":null},\"id\":\"11996\",\"type\":\"Grid\"},{\"attributes\":{},\"id\":\"12589\",\"type\":\"UnionRenderers\"},{\"attributes\":{\"axis_label\":\"Counts\",\"formatter\":{\"id\":\"12574\"},\"ticker\":{\"id\":\"11994\"}},\"id\":\"11993\",\"type\":\"LinearAxis\"},{\"attributes\":{\"num_minor_ticks\":5,\"tickers\":[{\"id\":\"12576\"},{\"id\":\"12577\"},{\"id\":\"12578\"},{\"id\":\"12579\"},{\"id\":\"12580\"},{\"id\":\"12581\"},{\"id\":\"12582\"},{\"id\":\"12583\"},{\"id\":\"12584\"},{\"id\":\"12585\"},{\"id\":\"12586\"},{\"id\":\"12587\"}]},\"id\":\"11990\",\"type\":\"DatetimeTicker\"},{\"attributes\":{\"active_drag\":\"auto\",\"active_inspect\":\"auto\",\"active_multi\":null,\"active_scroll\":\"auto\",\"active_tap\":\"auto\",\"tools\":[{\"id\":\"11997\"},{\"id\":\"11998\"},{\"id\":\"11999\"},{\"id\":\"12000\"},{\"id\":\"12001\"},{\"id\":\"12002\"}]},\"id\":\"12004\",\"type\":\"Toolbar\"}],\"root_ids\":[\"11978\"]},\"title\":\"Bokeh Application\",\"version\":\"2.2.1\"}};\n",
       "  var render_items = [{\"docid\":\"719619d3-d0a0-458e-ada4-e52a09750600\",\"root_ids\":[\"11978\"],\"roots\":{\"11978\":\"526fdd37-cc3e-49a1-a552-a1795477b25e\"}}];\n",
       "  root.Bokeh.embed.embed_items_notebook(docs_json, render_items);\n",
       "\n",
       "  }\n",
       "  if (root.Bokeh !== undefined) {\n",
       "    embed_document(root);\n",
       "  } else {\n",
       "    var attempts = 0;\n",
       "    var timer = setInterval(function(root) {\n",
       "      if (root.Bokeh !== undefined) {\n",
       "        clearInterval(timer);\n",
       "        embed_document(root);\n",
       "      } else {\n",
       "        attempts++;\n",
       "        if (attempts > 100) {\n",
       "          clearInterval(timer);\n",
       "          console.log(\"Bokeh: ERROR: Unable to run BokehJS code because BokehJS library is missing\");\n",
       "        }\n",
       "      }\n",
       "    }, 10, root)\n",
       "  }\n",
       "})(window);"
      ],
      "application/vnd.bokehjs_exec.v0+json": ""
     },
     "metadata": {
      "application/vnd.bokehjs_exec.v0+json": {
       "id": "11978"
      }
     },
     "output_type": "display_data"
    },
    {
     "name": "stdout",
     "output_type": "stream",
     "text": [
      "Sweden\n"
     ]
    },
    {
     "data": {
      "text/html": [
       "\n",
       "\n",
       "\n",
       "\n",
       "\n",
       "\n",
       "  <div class=\"bk-root\" id=\"f145ed26-851e-4327-98d2-70ccb6398943\" data-root-id=\"12703\"></div>\n"
      ]
     },
     "metadata": {},
     "output_type": "display_data"
    },
    {
     "data": {
      "application/javascript": [
       "(function(root) {\n",
       "  function embed_document(root) {\n",
       "    \n",
       "  var docs_json = {\"4ef0c5cb-207f-47a0-b66f-ed7dc717be7a\":{\"roots\":{\"references\":[{\"attributes\":{\"below\":[{\"id\":\"12714\"}],\"center\":[{\"id\":\"12717\"},{\"id\":\"12721\"}],\"left\":[{\"id\":\"12718\"}],\"plot_height\":300,\"plot_width\":500,\"renderers\":[{\"id\":\"12739\"},{\"id\":\"12744\"}],\"title\":{\"id\":\"12704\"},\"toolbar\":{\"id\":\"12729\"},\"x_range\":{\"id\":\"12706\"},\"x_scale\":{\"id\":\"12710\"},\"y_range\":{\"id\":\"12708\"},\"y_scale\":{\"id\":\"12712\"}},\"id\":\"12703\",\"subtype\":\"Figure\",\"type\":\"Plot\"},{\"attributes\":{\"overlay\":{\"id\":\"12728\"}},\"id\":\"12724\",\"type\":\"BoxZoomTool\"},{\"attributes\":{},\"id\":\"12719\",\"type\":\"BasicTicker\"},{\"attributes\":{},\"id\":\"12725\",\"type\":\"SaveTool\"},{\"attributes\":{\"axis_label\":\"Counts\",\"formatter\":{\"id\":\"13321\"},\"ticker\":{\"id\":\"12719\"}},\"id\":\"12718\",\"type\":\"LinearAxis\"},{\"attributes\":{\"axis\":{\"id\":\"12718\"},\"dimension\":1,\"ticker\":null},\"id\":\"12721\",\"type\":\"Grid\"},{\"attributes\":{\"active_drag\":\"auto\",\"active_inspect\":\"auto\",\"active_multi\":null,\"active_scroll\":\"auto\",\"active_tap\":\"auto\",\"tools\":[{\"id\":\"12722\"},{\"id\":\"12723\"},{\"id\":\"12724\"},{\"id\":\"12725\"},{\"id\":\"12726\"},{\"id\":\"12727\"}]},\"id\":\"12729\",\"type\":\"Toolbar\"},{\"attributes\":{\"months\":[0,2,4,6,8,10]},\"id\":\"13331\",\"type\":\"MonthsTicker\"},{\"attributes\":{},\"id\":\"12722\",\"type\":\"PanTool\"},{\"attributes\":{},\"id\":\"12727\",\"type\":\"HelpTool\"},{\"attributes\":{\"data\":{\"x\":{\"__ndarray__\":\"AACAe0hcdEIAAMBDiV50QgAAAAzKYHRCAABA1ApjdEIAAICcS2V0QgAAwGSMZ3RCAAAALc1pdEIAAED1DWx0QgAAgL1ObnRCAADAhY9wdEIAAABO0HJ0QgAAQBYRdXRCAACA3lF3dEIAAMCmknl0QgAAAG/Te3RCAABANxR+dEIAAID/VIB0QgAAwMeVgnRC\",\"dtype\":\"float64\",\"order\":\"little\",\"shape\":[18]},\"y\":[5,3,9,11,12,14,14,19,21,19,16,13,12,12,14,16,13,17]},\"selected\":{\"id\":\"13335\"},\"selection_policy\":{\"id\":\"13336\"}},\"id\":\"12736\",\"type\":\"ColumnDataSource\"},{\"attributes\":{\"data\":{\"x\":{\"__ndarray__\":\"AACAe0hcdEIAAMBDiV50QgAAAAzKYHRCAABA1ApjdEIAAICcS2V0QgAAwGSMZ3RCAAAALc1pdEIAAED1DWx0QgAAgL1ObnRCAADAhY9wdEIAAABO0HJ0QgAAQBYRdXRCAACA3lF3dEIAAMCmknl0QgAAAG/Te3RCAABANxR+dEIAAID/VIB0QgAAwMeVgnRC\",\"dtype\":\"float64\",\"order\":\"little\",\"shape\":[18]},\"y\":[5,3,9,11,12,14,14,19,21,19,16,13,12,12,14,16,13,17]},\"selected\":{\"id\":\"13337\"},\"selection_policy\":{\"id\":\"13338\"}},\"id\":\"12741\",\"type\":\"ColumnDataSource\"},{\"attributes\":{\"months\":[0,1,2,3,4,5,6,7,8,9,10,11]},\"id\":\"13330\",\"type\":\"MonthsTicker\"},{\"attributes\":{},\"id\":\"13321\",\"type\":\"BasicTickFormatter\"},{\"attributes\":{\"fill_alpha\":{\"value\":0.1},\"fill_color\":{\"value\":\"#1f77b4\"},\"line_alpha\":{\"value\":0.1},\"line_color\":{\"value\":\"#1f77b4\"},\"x\":{\"field\":\"x\"},\"y\":{\"field\":\"y\"}},\"id\":\"12738\",\"type\":\"Scatter\"},{\"attributes\":{},\"id\":\"12723\",\"type\":\"WheelZoomTool\"},{\"attributes\":{},\"id\":\"12726\",\"type\":\"ResetTool\"},{\"attributes\":{\"line_color\":\"#1f77b4\",\"x\":{\"field\":\"x\"},\"y\":{\"field\":\"y\"}},\"id\":\"12742\",\"type\":\"Line\"},{\"attributes\":{\"months\":[0,6]},\"id\":\"13333\",\"type\":\"MonthsTicker\"},{\"attributes\":{\"num_minor_ticks\":5,\"tickers\":[{\"id\":\"13323\"},{\"id\":\"13324\"},{\"id\":\"13325\"},{\"id\":\"13326\"},{\"id\":\"13327\"},{\"id\":\"13328\"},{\"id\":\"13329\"},{\"id\":\"13330\"},{\"id\":\"13331\"},{\"id\":\"13332\"},{\"id\":\"13333\"},{\"id\":\"13334\"}]},\"id\":\"12715\",\"type\":\"DatetimeTicker\"},{\"attributes\":{\"source\":{\"id\":\"12736\"}},\"id\":\"12740\",\"type\":\"CDSView\"},{\"attributes\":{\"data_source\":{\"id\":\"12736\"},\"glyph\":{\"id\":\"12737\"},\"hover_glyph\":null,\"muted_glyph\":null,\"nonselection_glyph\":{\"id\":\"12738\"},\"selection_glyph\":null,\"view\":{\"id\":\"12740\"}},\"id\":\"12739\",\"type\":\"GlyphRenderer\"},{\"attributes\":{\"days\":[1,15]},\"id\":\"13329\",\"type\":\"DaysTicker\"},{\"attributes\":{},\"id\":\"13334\",\"type\":\"YearsTicker\"},{\"attributes\":{},\"id\":\"13335\",\"type\":\"Selection\"},{\"attributes\":{\"base\":24,\"mantissas\":[1,2,4,6,8,12],\"max_interval\":43200000.0,\"min_interval\":3600000.0,\"num_minor_ticks\":0},\"id\":\"13325\",\"type\":\"AdaptiveTicker\"},{\"attributes\":{\"axis_label\":\"Time (weekly)\",\"formatter\":{\"id\":\"13319\"},\"ticker\":{\"id\":\"12715\"}},\"id\":\"12714\",\"type\":\"DatetimeAxis\"},{\"attributes\":{\"source\":{\"id\":\"12741\"}},\"id\":\"12745\",\"type\":\"CDSView\"},{\"attributes\":{},\"id\":\"13336\",\"type\":\"UnionRenderers\"},{\"attributes\":{\"mantissas\":[1,2,5],\"max_interval\":500.0,\"num_minor_ticks\":0},\"id\":\"13323\",\"type\":\"AdaptiveTicker\"},{\"attributes\":{\"line_alpha\":0.1,\"line_color\":\"#1f77b4\",\"x\":{\"field\":\"x\"},\"y\":{\"field\":\"y\"}},\"id\":\"12743\",\"type\":\"Line\"},{\"attributes\":{\"axis\":{\"id\":\"12714\"},\"ticker\":null},\"id\":\"12717\",\"type\":\"Grid\"},{\"attributes\":{\"days\":[1,4,7,10,13,16,19,22,25,28]},\"id\":\"13327\",\"type\":\"DaysTicker\"},{\"attributes\":{\"days\":[1,2,3,4,5,6,7,8,9,10,11,12,13,14,15,16,17,18,19,20,21,22,23,24,25,26,27,28,29,30,31]},\"id\":\"13326\",\"type\":\"DaysTicker\"},{\"attributes\":{},\"id\":\"12712\",\"type\":\"LinearScale\"},{\"attributes\":{\"days\":[1,8,15,22]},\"id\":\"13328\",\"type\":\"DaysTicker\"},{\"attributes\":{},\"id\":\"13337\",\"type\":\"Selection\"},{\"attributes\":{},\"id\":\"12708\",\"type\":\"DataRange1d\"},{\"attributes\":{},\"id\":\"13319\",\"type\":\"DatetimeTickFormatter\"},{\"attributes\":{\"fill_color\":{\"value\":\"#1f77b4\"},\"line_color\":{\"value\":\"#1f77b4\"},\"x\":{\"field\":\"x\"},\"y\":{\"field\":\"y\"}},\"id\":\"12737\",\"type\":\"Scatter\"},{\"attributes\":{},\"id\":\"13338\",\"type\":\"UnionRenderers\"},{\"attributes\":{},\"id\":\"12706\",\"type\":\"DataRange1d\"},{\"attributes\":{\"months\":[0,4,8]},\"id\":\"13332\",\"type\":\"MonthsTicker\"},{\"attributes\":{\"text\":\"Count of weekly active users\"},\"id\":\"12704\",\"type\":\"Title\"},{\"attributes\":{\"bottom_units\":\"screen\",\"fill_alpha\":0.5,\"fill_color\":\"lightgrey\",\"left_units\":\"screen\",\"level\":\"overlay\",\"line_alpha\":1.0,\"line_color\":\"black\",\"line_dash\":[4,4],\"line_width\":2,\"right_units\":\"screen\",\"top_units\":\"screen\"},\"id\":\"12728\",\"type\":\"BoxAnnotation\"},{\"attributes\":{\"base\":60,\"mantissas\":[1,2,5,10,15,20,30],\"max_interval\":1800000.0,\"min_interval\":1000.0,\"num_minor_ticks\":0},\"id\":\"13324\",\"type\":\"AdaptiveTicker\"},{\"attributes\":{\"data_source\":{\"id\":\"12741\"},\"glyph\":{\"id\":\"12742\"},\"hover_glyph\":null,\"muted_glyph\":null,\"nonselection_glyph\":{\"id\":\"12743\"},\"selection_glyph\":null,\"view\":{\"id\":\"12745\"}},\"id\":\"12744\",\"type\":\"GlyphRenderer\"},{\"attributes\":{},\"id\":\"12710\",\"type\":\"LinearScale\"}],\"root_ids\":[\"12703\"]},\"title\":\"Bokeh Application\",\"version\":\"2.2.1\"}};\n",
       "  var render_items = [{\"docid\":\"4ef0c5cb-207f-47a0-b66f-ed7dc717be7a\",\"root_ids\":[\"12703\"],\"roots\":{\"12703\":\"f145ed26-851e-4327-98d2-70ccb6398943\"}}];\n",
       "  root.Bokeh.embed.embed_items_notebook(docs_json, render_items);\n",
       "\n",
       "  }\n",
       "  if (root.Bokeh !== undefined) {\n",
       "    embed_document(root);\n",
       "  } else {\n",
       "    var attempts = 0;\n",
       "    var timer = setInterval(function(root) {\n",
       "      if (root.Bokeh !== undefined) {\n",
       "        clearInterval(timer);\n",
       "        embed_document(root);\n",
       "      } else {\n",
       "        attempts++;\n",
       "        if (attempts > 100) {\n",
       "          clearInterval(timer);\n",
       "          console.log(\"Bokeh: ERROR: Unable to run BokehJS code because BokehJS library is missing\");\n",
       "        }\n",
       "      }\n",
       "    }, 10, root)\n",
       "  }\n",
       "})(window);"
      ],
      "application/vnd.bokehjs_exec.v0+json": ""
     },
     "metadata": {
      "application/vnd.bokehjs_exec.v0+json": {
       "id": "12703"
      }
     },
     "output_type": "display_data"
    },
    {
     "name": "stdout",
     "output_type": "stream",
     "text": [
      "Poland\n"
     ]
    },
    {
     "data": {
      "text/html": [
       "\n",
       "\n",
       "\n",
       "\n",
       "\n",
       "\n",
       "  <div class=\"bk-root\" id=\"f8269422-e1e3-497f-9a27-8449025ba9c4\" data-root-id=\"13450\"></div>\n"
      ]
     },
     "metadata": {},
     "output_type": "display_data"
    },
    {
     "data": {
      "application/javascript": [
       "(function(root) {\n",
       "  function embed_document(root) {\n",
       "    \n",
       "  var docs_json = {\"b5cbd812-3d81-46c6-956c-9592c94a67fc\":{\"roots\":{\"references\":[{\"attributes\":{\"below\":[{\"id\":\"13461\"}],\"center\":[{\"id\":\"13464\"},{\"id\":\"13468\"}],\"left\":[{\"id\":\"13465\"}],\"plot_height\":300,\"plot_width\":500,\"renderers\":[{\"id\":\"13486\"},{\"id\":\"13491\"}],\"title\":{\"id\":\"13451\"},\"toolbar\":{\"id\":\"13476\"},\"x_range\":{\"id\":\"13453\"},\"x_scale\":{\"id\":\"13457\"},\"y_range\":{\"id\":\"13455\"},\"y_scale\":{\"id\":\"13459\"}},\"id\":\"13450\",\"subtype\":\"Figure\",\"type\":\"Plot\"},{\"attributes\":{\"days\":[1,8,15,22]},\"id\":\"14097\",\"type\":\"DaysTicker\"},{\"attributes\":{},\"id\":\"14103\",\"type\":\"YearsTicker\"},{\"attributes\":{\"months\":[0,4,8]},\"id\":\"14101\",\"type\":\"MonthsTicker\"},{\"attributes\":{\"overlay\":{\"id\":\"13475\"}},\"id\":\"13471\",\"type\":\"BoxZoomTool\"},{\"attributes\":{},\"id\":\"13453\",\"type\":\"DataRange1d\"},{\"attributes\":{\"axis_label\":\"Counts\",\"formatter\":{\"id\":\"14090\"},\"ticker\":{\"id\":\"13466\"}},\"id\":\"13465\",\"type\":\"LinearAxis\"},{\"attributes\":{\"axis\":{\"id\":\"13465\"},\"dimension\":1,\"ticker\":null},\"id\":\"13468\",\"type\":\"Grid\"},{\"attributes\":{},\"id\":\"13472\",\"type\":\"SaveTool\"},{\"attributes\":{},\"id\":\"13469\",\"type\":\"PanTool\"},{\"attributes\":{\"num_minor_ticks\":5,\"tickers\":[{\"id\":\"14092\"},{\"id\":\"14093\"},{\"id\":\"14094\"},{\"id\":\"14095\"},{\"id\":\"14096\"},{\"id\":\"14097\"},{\"id\":\"14098\"},{\"id\":\"14099\"},{\"id\":\"14100\"},{\"id\":\"14101\"},{\"id\":\"14102\"},{\"id\":\"14103\"}]},\"id\":\"13462\",\"type\":\"DatetimeTicker\"},{\"attributes\":{},\"id\":\"13466\",\"type\":\"BasicTicker\"},{\"attributes\":{},\"id\":\"14104\",\"type\":\"Selection\"},{\"attributes\":{\"active_drag\":\"auto\",\"active_inspect\":\"auto\",\"active_multi\":null,\"active_scroll\":\"auto\",\"active_tap\":\"auto\",\"tools\":[{\"id\":\"13469\"},{\"id\":\"13470\"},{\"id\":\"13471\"},{\"id\":\"13472\"},{\"id\":\"13473\"},{\"id\":\"13474\"}]},\"id\":\"13476\",\"type\":\"Toolbar\"},{\"attributes\":{\"axis\":{\"id\":\"13461\"},\"ticker\":null},\"id\":\"13464\",\"type\":\"Grid\"},{\"attributes\":{},\"id\":\"14105\",\"type\":\"UnionRenderers\"},{\"attributes\":{},\"id\":\"13470\",\"type\":\"WheelZoomTool\"},{\"attributes\":{\"data_source\":{\"id\":\"13488\"},\"glyph\":{\"id\":\"13489\"},\"hover_glyph\":null,\"muted_glyph\":null,\"nonselection_glyph\":{\"id\":\"13490\"},\"selection_glyph\":null,\"view\":{\"id\":\"13492\"}},\"id\":\"13491\",\"type\":\"GlyphRenderer\"},{\"attributes\":{},\"id\":\"13459\",\"type\":\"LinearScale\"},{\"attributes\":{\"data\":{\"x\":{\"__ndarray__\":\"AACAe0hcdEIAAMBDiV50QgAAAAzKYHRCAABA1ApjdEIAAICcS2V0QgAAwGSMZ3RCAAAALc1pdEIAAED1DWx0QgAAgL1ObnRCAADAhY9wdEIAAABO0HJ0QgAAQBYRdXRCAACA3lF3dEIAAMCmknl0QgAAAG/Te3RCAABANxR+dEIAAID/VIB0QgAAwMeVgnRC\",\"dtype\":\"float64\",\"order\":\"little\",\"shape\":[18]},\"y\":[7,9,10,12,13,15,13,9,11,9,9,9,8,11,12,12,13,12]},\"selected\":{\"id\":\"14106\"},\"selection_policy\":{\"id\":\"14107\"}},\"id\":\"13488\",\"type\":\"ColumnDataSource\"},{\"attributes\":{},\"id\":\"13474\",\"type\":\"HelpTool\"},{\"attributes\":{\"fill_alpha\":{\"value\":0.1},\"fill_color\":{\"value\":\"#1f77b4\"},\"line_alpha\":{\"value\":0.1},\"line_color\":{\"value\":\"#1f77b4\"},\"x\":{\"field\":\"x\"},\"y\":{\"field\":\"y\"}},\"id\":\"13485\",\"type\":\"Scatter\"},{\"attributes\":{},\"id\":\"13473\",\"type\":\"ResetTool\"},{\"attributes\":{\"line_color\":\"#1f77b4\",\"x\":{\"field\":\"x\"},\"y\":{\"field\":\"y\"}},\"id\":\"13489\",\"type\":\"Line\"},{\"attributes\":{\"source\":{\"id\":\"13483\"}},\"id\":\"13487\",\"type\":\"CDSView\"},{\"attributes\":{\"data\":{\"x\":{\"__ndarray__\":\"AACAe0hcdEIAAMBDiV50QgAAAAzKYHRCAABA1ApjdEIAAICcS2V0QgAAwGSMZ3RCAAAALc1pdEIAAED1DWx0QgAAgL1ObnRCAADAhY9wdEIAAABO0HJ0QgAAQBYRdXRCAACA3lF3dEIAAMCmknl0QgAAAG/Te3RCAABANxR+dEIAAID/VIB0QgAAwMeVgnRC\",\"dtype\":\"float64\",\"order\":\"little\",\"shape\":[18]},\"y\":[7,9,10,12,13,15,13,9,11,9,9,9,8,11,12,12,13,12]},\"selected\":{\"id\":\"14104\"},\"selection_policy\":{\"id\":\"14105\"}},\"id\":\"13483\",\"type\":\"ColumnDataSource\"},{\"attributes\":{\"data_source\":{\"id\":\"13483\"},\"glyph\":{\"id\":\"13484\"},\"hover_glyph\":null,\"muted_glyph\":null,\"nonselection_glyph\":{\"id\":\"13485\"},\"selection_glyph\":null,\"view\":{\"id\":\"13487\"}},\"id\":\"13486\",\"type\":\"GlyphRenderer\"},{\"attributes\":{},\"id\":\"14106\",\"type\":\"Selection\"},{\"attributes\":{},\"id\":\"14090\",\"type\":\"BasicTickFormatter\"},{\"attributes\":{\"source\":{\"id\":\"13488\"}},\"id\":\"13492\",\"type\":\"CDSView\"},{\"attributes\":{\"line_alpha\":0.1,\"line_color\":\"#1f77b4\",\"x\":{\"field\":\"x\"},\"y\":{\"field\":\"y\"}},\"id\":\"13490\",\"type\":\"Line\"},{\"attributes\":{\"mantissas\":[1,2,5],\"max_interval\":500.0,\"num_minor_ticks\":0},\"id\":\"14092\",\"type\":\"AdaptiveTicker\"},{\"attributes\":{},\"id\":\"14107\",\"type\":\"UnionRenderers\"},{\"attributes\":{\"base\":60,\"mantissas\":[1,2,5,10,15,20,30],\"max_interval\":1800000.0,\"min_interval\":1000.0,\"num_minor_ticks\":0},\"id\":\"14093\",\"type\":\"AdaptiveTicker\"},{\"attributes\":{\"text\":\"Count of weekly active users\"},\"id\":\"13451\",\"type\":\"Title\"},{\"attributes\":{\"days\":[1,2,3,4,5,6,7,8,9,10,11,12,13,14,15,16,17,18,19,20,21,22,23,24,25,26,27,28,29,30,31]},\"id\":\"14095\",\"type\":\"DaysTicker\"},{\"attributes\":{\"base\":24,\"mantissas\":[1,2,4,6,8,12],\"max_interval\":43200000.0,\"min_interval\":3600000.0,\"num_minor_ticks\":0},\"id\":\"14094\",\"type\":\"AdaptiveTicker\"},{\"attributes\":{},\"id\":\"13455\",\"type\":\"DataRange1d\"},{\"attributes\":{},\"id\":\"13457\",\"type\":\"LinearScale\"},{\"attributes\":{\"months\":[0,1,2,3,4,5,6,7,8,9,10,11]},\"id\":\"14099\",\"type\":\"MonthsTicker\"},{\"attributes\":{\"months\":[0,2,4,6,8,10]},\"id\":\"14100\",\"type\":\"MonthsTicker\"},{\"attributes\":{\"fill_color\":{\"value\":\"#1f77b4\"},\"line_color\":{\"value\":\"#1f77b4\"},\"x\":{\"field\":\"x\"},\"y\":{\"field\":\"y\"}},\"id\":\"13484\",\"type\":\"Scatter\"},{\"attributes\":{\"bottom_units\":\"screen\",\"fill_alpha\":0.5,\"fill_color\":\"lightgrey\",\"left_units\":\"screen\",\"level\":\"overlay\",\"line_alpha\":1.0,\"line_color\":\"black\",\"line_dash\":[4,4],\"line_width\":2,\"right_units\":\"screen\",\"top_units\":\"screen\"},\"id\":\"13475\",\"type\":\"BoxAnnotation\"},{\"attributes\":{\"days\":[1,4,7,10,13,16,19,22,25,28]},\"id\":\"14096\",\"type\":\"DaysTicker\"},{\"attributes\":{},\"id\":\"14088\",\"type\":\"DatetimeTickFormatter\"},{\"attributes\":{\"days\":[1,15]},\"id\":\"14098\",\"type\":\"DaysTicker\"},{\"attributes\":{\"axis_label\":\"Time (weekly)\",\"formatter\":{\"id\":\"14088\"},\"ticker\":{\"id\":\"13462\"}},\"id\":\"13461\",\"type\":\"DatetimeAxis\"},{\"attributes\":{\"months\":[0,6]},\"id\":\"14102\",\"type\":\"MonthsTicker\"}],\"root_ids\":[\"13450\"]},\"title\":\"Bokeh Application\",\"version\":\"2.2.1\"}};\n",
       "  var render_items = [{\"docid\":\"b5cbd812-3d81-46c6-956c-9592c94a67fc\",\"root_ids\":[\"13450\"],\"roots\":{\"13450\":\"f8269422-e1e3-497f-9a27-8449025ba9c4\"}}];\n",
       "  root.Bokeh.embed.embed_items_notebook(docs_json, render_items);\n",
       "\n",
       "  }\n",
       "  if (root.Bokeh !== undefined) {\n",
       "    embed_document(root);\n",
       "  } else {\n",
       "    var attempts = 0;\n",
       "    var timer = setInterval(function(root) {\n",
       "      if (root.Bokeh !== undefined) {\n",
       "        clearInterval(timer);\n",
       "        embed_document(root);\n",
       "      } else {\n",
       "        attempts++;\n",
       "        if (attempts > 100) {\n",
       "          clearInterval(timer);\n",
       "          console.log(\"Bokeh: ERROR: Unable to run BokehJS code because BokehJS library is missing\");\n",
       "        }\n",
       "      }\n",
       "    }, 10, root)\n",
       "  }\n",
       "})(window);"
      ],
      "application/vnd.bokehjs_exec.v0+json": ""
     },
     "metadata": {
      "application/vnd.bokehjs_exec.v0+json": {
       "id": "13450"
      }
     },
     "output_type": "display_data"
    },
    {
     "name": "stdout",
     "output_type": "stream",
     "text": [
      "Mexico\n"
     ]
    },
    {
     "data": {
      "text/html": [
       "\n",
       "\n",
       "\n",
       "\n",
       "\n",
       "\n",
       "  <div class=\"bk-root\" id=\"313d2310-65fe-4a4f-aecf-132a224badbc\" data-root-id=\"14219\"></div>\n"
      ]
     },
     "metadata": {},
     "output_type": "display_data"
    },
    {
     "data": {
      "application/javascript": [
       "(function(root) {\n",
       "  function embed_document(root) {\n",
       "    \n",
       "  var docs_json = {\"50a5108c-22a8-47c4-aa5a-8f14a6f54b1a\":{\"roots\":{\"references\":[{\"attributes\":{\"below\":[{\"id\":\"14230\"}],\"center\":[{\"id\":\"14233\"},{\"id\":\"14237\"}],\"left\":[{\"id\":\"14234\"}],\"plot_height\":300,\"plot_width\":500,\"renderers\":[{\"id\":\"14255\"},{\"id\":\"14260\"}],\"title\":{\"id\":\"14220\"},\"toolbar\":{\"id\":\"14245\"},\"x_range\":{\"id\":\"14222\"},\"x_scale\":{\"id\":\"14226\"},\"y_range\":{\"id\":\"14224\"},\"y_scale\":{\"id\":\"14228\"}},\"id\":\"14219\",\"subtype\":\"Figure\",\"type\":\"Plot\"},{\"attributes\":{\"base\":60,\"mantissas\":[1,2,5,10,15,20,30],\"max_interval\":1800000.0,\"min_interval\":1000.0,\"num_minor_ticks\":0},\"id\":\"14884\",\"type\":\"AdaptiveTicker\"},{\"attributes\":{\"months\":[0,4,8]},\"id\":\"14892\",\"type\":\"MonthsTicker\"},{\"attributes\":{},\"id\":\"14879\",\"type\":\"DatetimeTickFormatter\"},{\"attributes\":{\"days\":[1,8,15,22]},\"id\":\"14888\",\"type\":\"DaysTicker\"},{\"attributes\":{\"months\":[0,6]},\"id\":\"14893\",\"type\":\"MonthsTicker\"},{\"attributes\":{\"days\":[1,15]},\"id\":\"14889\",\"type\":\"DaysTicker\"},{\"attributes\":{\"data_source\":{\"id\":\"14257\"},\"glyph\":{\"id\":\"14258\"},\"hover_glyph\":null,\"muted_glyph\":null,\"nonselection_glyph\":{\"id\":\"14259\"},\"selection_glyph\":null,\"view\":{\"id\":\"14261\"}},\"id\":\"14260\",\"type\":\"GlyphRenderer\"},{\"attributes\":{},\"id\":\"14894\",\"type\":\"YearsTicker\"},{\"attributes\":{\"overlay\":{\"id\":\"14244\"}},\"id\":\"14240\",\"type\":\"BoxZoomTool\"},{\"attributes\":{},\"id\":\"14226\",\"type\":\"LinearScale\"},{\"attributes\":{},\"id\":\"14895\",\"type\":\"Selection\"},{\"attributes\":{\"bottom_units\":\"screen\",\"fill_alpha\":0.5,\"fill_color\":\"lightgrey\",\"left_units\":\"screen\",\"level\":\"overlay\",\"line_alpha\":1.0,\"line_color\":\"black\",\"line_dash\":[4,4],\"line_width\":2,\"right_units\":\"screen\",\"top_units\":\"screen\"},\"id\":\"14244\",\"type\":\"BoxAnnotation\"},{\"attributes\":{},\"id\":\"14896\",\"type\":\"UnionRenderers\"},{\"attributes\":{},\"id\":\"14243\",\"type\":\"HelpTool\"},{\"attributes\":{},\"id\":\"14241\",\"type\":\"SaveTool\"},{\"attributes\":{},\"id\":\"14239\",\"type\":\"WheelZoomTool\"},{\"attributes\":{\"axis\":{\"id\":\"14234\"},\"dimension\":1,\"ticker\":null},\"id\":\"14237\",\"type\":\"Grid\"},{\"attributes\":{},\"id\":\"14897\",\"type\":\"Selection\"},{\"attributes\":{\"axis_label\":\"Counts\",\"formatter\":{\"id\":\"14881\"},\"ticker\":{\"id\":\"14235\"}},\"id\":\"14234\",\"type\":\"LinearAxis\"},{\"attributes\":{},\"id\":\"14898\",\"type\":\"UnionRenderers\"},{\"attributes\":{\"line_alpha\":0.1,\"line_color\":\"#1f77b4\",\"x\":{\"field\":\"x\"},\"y\":{\"field\":\"y\"}},\"id\":\"14259\",\"type\":\"Line\"},{\"attributes\":{\"days\":[1,4,7,10,13,16,19,22,25,28]},\"id\":\"14887\",\"type\":\"DaysTicker\"},{\"attributes\":{\"months\":[0,1,2,3,4,5,6,7,8,9,10,11]},\"id\":\"14890\",\"type\":\"MonthsTicker\"},{\"attributes\":{\"active_drag\":\"auto\",\"active_inspect\":\"auto\",\"active_multi\":null,\"active_scroll\":\"auto\",\"active_tap\":\"auto\",\"tools\":[{\"id\":\"14238\"},{\"id\":\"14239\"},{\"id\":\"14240\"},{\"id\":\"14241\"},{\"id\":\"14242\"},{\"id\":\"14243\"}]},\"id\":\"14245\",\"type\":\"Toolbar\"},{\"attributes\":{},\"id\":\"14238\",\"type\":\"PanTool\"},{\"attributes\":{\"num_minor_ticks\":5,\"tickers\":[{\"id\":\"14883\"},{\"id\":\"14884\"},{\"id\":\"14885\"},{\"id\":\"14886\"},{\"id\":\"14887\"},{\"id\":\"14888\"},{\"id\":\"14889\"},{\"id\":\"14890\"},{\"id\":\"14891\"},{\"id\":\"14892\"},{\"id\":\"14893\"},{\"id\":\"14894\"}]},\"id\":\"14231\",\"type\":\"DatetimeTicker\"},{\"attributes\":{\"data\":{\"x\":{\"__ndarray__\":\"AACAe0hcdEIAAMBDiV50QgAAAAzKYHRCAABA1ApjdEIAAICcS2V0QgAAwGSMZ3RCAAAALc1pdEIAAED1DWx0QgAAgL1ObnRCAADAhY9wdEIAAABO0HJ0QgAAQBYRdXRCAACA3lF3dEIAAMCmknl0QgAAAG/Te3RCAABANxR+dEIAAID/VIB0QgAAwMeVgnRC\",\"dtype\":\"float64\",\"order\":\"little\",\"shape\":[18]},\"y\":[18,30,31,37,34,40,30,32,40,34,37,32,31,36,24,33,33,34]},\"selected\":{\"id\":\"14895\"},\"selection_policy\":{\"id\":\"14896\"}},\"id\":\"14252\",\"type\":\"ColumnDataSource\"},{\"attributes\":{\"text\":\"Count of weekly active users\"},\"id\":\"14220\",\"type\":\"Title\"},{\"attributes\":{\"data\":{\"x\":{\"__ndarray__\":\"AACAe0hcdEIAAMBDiV50QgAAAAzKYHRCAABA1ApjdEIAAICcS2V0QgAAwGSMZ3RCAAAALc1pdEIAAED1DWx0QgAAgL1ObnRCAADAhY9wdEIAAABO0HJ0QgAAQBYRdXRCAACA3lF3dEIAAMCmknl0QgAAAG/Te3RCAABANxR+dEIAAID/VIB0QgAAwMeVgnRC\",\"dtype\":\"float64\",\"order\":\"little\",\"shape\":[18]},\"y\":[18,30,31,37,34,40,30,32,40,34,37,32,31,36,24,33,33,34]},\"selected\":{\"id\":\"14897\"},\"selection_policy\":{\"id\":\"14898\"}},\"id\":\"14257\",\"type\":\"ColumnDataSource\"},{\"attributes\":{},\"id\":\"14235\",\"type\":\"BasicTicker\"},{\"attributes\":{},\"id\":\"14222\",\"type\":\"DataRange1d\"},{\"attributes\":{\"fill_alpha\":{\"value\":0.1},\"fill_color\":{\"value\":\"#1f77b4\"},\"line_alpha\":{\"value\":0.1},\"line_color\":{\"value\":\"#1f77b4\"},\"x\":{\"field\":\"x\"},\"y\":{\"field\":\"y\"}},\"id\":\"14254\",\"type\":\"Scatter\"},{\"attributes\":{\"axis\":{\"id\":\"14230\"},\"ticker\":null},\"id\":\"14233\",\"type\":\"Grid\"},{\"attributes\":{\"fill_color\":{\"value\":\"#1f77b4\"},\"line_color\":{\"value\":\"#1f77b4\"},\"x\":{\"field\":\"x\"},\"y\":{\"field\":\"y\"}},\"id\":\"14253\",\"type\":\"Scatter\"},{\"attributes\":{},\"id\":\"14881\",\"type\":\"BasicTickFormatter\"},{\"attributes\":{},\"id\":\"14242\",\"type\":\"ResetTool\"},{\"attributes\":{\"line_color\":\"#1f77b4\",\"x\":{\"field\":\"x\"},\"y\":{\"field\":\"y\"}},\"id\":\"14258\",\"type\":\"Line\"},{\"attributes\":{\"axis_label\":\"Time (weekly)\",\"formatter\":{\"id\":\"14879\"},\"ticker\":{\"id\":\"14231\"}},\"id\":\"14230\",\"type\":\"DatetimeAxis\"},{\"attributes\":{\"source\":{\"id\":\"14252\"}},\"id\":\"14256\",\"type\":\"CDSView\"},{\"attributes\":{\"days\":[1,2,3,4,5,6,7,8,9,10,11,12,13,14,15,16,17,18,19,20,21,22,23,24,25,26,27,28,29,30,31]},\"id\":\"14886\",\"type\":\"DaysTicker\"},{\"attributes\":{\"data_source\":{\"id\":\"14252\"},\"glyph\":{\"id\":\"14253\"},\"hover_glyph\":null,\"muted_glyph\":null,\"nonselection_glyph\":{\"id\":\"14254\"},\"selection_glyph\":null,\"view\":{\"id\":\"14256\"}},\"id\":\"14255\",\"type\":\"GlyphRenderer\"},{\"attributes\":{},\"id\":\"14224\",\"type\":\"DataRange1d\"},{\"attributes\":{\"mantissas\":[1,2,5],\"max_interval\":500.0,\"num_minor_ticks\":0},\"id\":\"14883\",\"type\":\"AdaptiveTicker\"},{\"attributes\":{\"source\":{\"id\":\"14257\"}},\"id\":\"14261\",\"type\":\"CDSView\"},{\"attributes\":{\"base\":24,\"mantissas\":[1,2,4,6,8,12],\"max_interval\":43200000.0,\"min_interval\":3600000.0,\"num_minor_ticks\":0},\"id\":\"14885\",\"type\":\"AdaptiveTicker\"},{\"attributes\":{},\"id\":\"14228\",\"type\":\"LinearScale\"},{\"attributes\":{\"months\":[0,2,4,6,8,10]},\"id\":\"14891\",\"type\":\"MonthsTicker\"}],\"root_ids\":[\"14219\"]},\"title\":\"Bokeh Application\",\"version\":\"2.2.1\"}};\n",
       "  var render_items = [{\"docid\":\"50a5108c-22a8-47c4-aa5a-8f14a6f54b1a\",\"root_ids\":[\"14219\"],\"roots\":{\"14219\":\"313d2310-65fe-4a4f-aecf-132a224badbc\"}}];\n",
       "  root.Bokeh.embed.embed_items_notebook(docs_json, render_items);\n",
       "\n",
       "  }\n",
       "  if (root.Bokeh !== undefined) {\n",
       "    embed_document(root);\n",
       "  } else {\n",
       "    var attempts = 0;\n",
       "    var timer = setInterval(function(root) {\n",
       "      if (root.Bokeh !== undefined) {\n",
       "        clearInterval(timer);\n",
       "        embed_document(root);\n",
       "      } else {\n",
       "        attempts++;\n",
       "        if (attempts > 100) {\n",
       "          clearInterval(timer);\n",
       "          console.log(\"Bokeh: ERROR: Unable to run BokehJS code because BokehJS library is missing\");\n",
       "        }\n",
       "      }\n",
       "    }, 10, root)\n",
       "  }\n",
       "})(window);"
      ],
      "application/vnd.bokehjs_exec.v0+json": ""
     },
     "metadata": {
      "application/vnd.bokehjs_exec.v0+json": {
       "id": "14219"
      }
     },
     "output_type": "display_data"
    },
    {
     "name": "stdout",
     "output_type": "stream",
     "text": [
      "Italy\n"
     ]
    },
    {
     "data": {
      "text/html": [
       "\n",
       "\n",
       "\n",
       "\n",
       "\n",
       "\n",
       "  <div class=\"bk-root\" id=\"fce0feda-cfdb-4d26-83af-0cfec60a2260\" data-root-id=\"15010\"></div>\n"
      ]
     },
     "metadata": {},
     "output_type": "display_data"
    },
    {
     "data": {
      "application/javascript": [
       "(function(root) {\n",
       "  function embed_document(root) {\n",
       "    \n",
       "  var docs_json = {\"ec3585f6-4266-4f8a-8763-135f9461dc29\":{\"roots\":{\"references\":[{\"attributes\":{\"below\":[{\"id\":\"15021\"}],\"center\":[{\"id\":\"15024\"},{\"id\":\"15028\"}],\"left\":[{\"id\":\"15025\"}],\"plot_height\":300,\"plot_width\":500,\"renderers\":[{\"id\":\"15046\"},{\"id\":\"15051\"}],\"title\":{\"id\":\"15011\"},\"toolbar\":{\"id\":\"15036\"},\"x_range\":{\"id\":\"15013\"},\"x_scale\":{\"id\":\"15017\"},\"y_range\":{\"id\":\"15015\"},\"y_scale\":{\"id\":\"15019\"}},\"id\":\"15010\",\"subtype\":\"Figure\",\"type\":\"Plot\"},{\"attributes\":{},\"id\":\"15029\",\"type\":\"PanTool\"},{\"attributes\":{\"days\":[1,15]},\"id\":\"15702\",\"type\":\"DaysTicker\"},{\"attributes\":{\"axis_label\":\"Counts\",\"formatter\":{\"id\":\"15694\"},\"ticker\":{\"id\":\"15026\"}},\"id\":\"15025\",\"type\":\"LinearAxis\"},{\"attributes\":{\"months\":[0,6]},\"id\":\"15706\",\"type\":\"MonthsTicker\"},{\"attributes\":{\"axis\":{\"id\":\"15021\"},\"ticker\":null},\"id\":\"15024\",\"type\":\"Grid\"},{\"attributes\":{\"days\":[1,8,15,22]},\"id\":\"15701\",\"type\":\"DaysTicker\"},{\"attributes\":{},\"id\":\"15033\",\"type\":\"ResetTool\"},{\"attributes\":{},\"id\":\"15707\",\"type\":\"YearsTicker\"},{\"attributes\":{\"line_alpha\":0.1,\"line_color\":\"#1f77b4\",\"x\":{\"field\":\"x\"},\"y\":{\"field\":\"y\"}},\"id\":\"15050\",\"type\":\"Line\"},{\"attributes\":{\"months\":[0,4,8]},\"id\":\"15705\",\"type\":\"MonthsTicker\"},{\"attributes\":{\"data_source\":{\"id\":\"15048\"},\"glyph\":{\"id\":\"15049\"},\"hover_glyph\":null,\"muted_glyph\":null,\"nonselection_glyph\":{\"id\":\"15050\"},\"selection_glyph\":null,\"view\":{\"id\":\"15052\"}},\"id\":\"15051\",\"type\":\"GlyphRenderer\"},{\"attributes\":{\"source\":{\"id\":\"15048\"}},\"id\":\"15052\",\"type\":\"CDSView\"},{\"attributes\":{\"data\":{\"x\":{\"__ndarray__\":\"AACAe0hcdEIAAMBDiV50QgAAAAzKYHRCAABA1ApjdEIAAICcS2V0QgAAwGSMZ3RCAAAALc1pdEIAAED1DWx0QgAAgL1ObnRCAADAhY9wdEIAAABO0HJ0QgAAQBYRdXRCAACA3lF3dEIAAMCmknl0QgAAAG/Te3RCAABANxR+dEIAAID/VIB0QgAAwMeVgnRC\",\"dtype\":\"float64\",\"order\":\"little\",\"shape\":[18]},\"y\":[23,34,44,38,44,42,45,47,42,47,56,56,51,47,53,47,44,45]},\"selected\":{\"id\":\"15708\"},\"selection_policy\":{\"id\":\"15709\"}},\"id\":\"15043\",\"type\":\"ColumnDataSource\"},{\"attributes\":{},\"id\":\"15692\",\"type\":\"DatetimeTickFormatter\"},{\"attributes\":{\"line_color\":\"#1f77b4\",\"x\":{\"field\":\"x\"},\"y\":{\"field\":\"y\"}},\"id\":\"15049\",\"type\":\"Line\"},{\"attributes\":{},\"id\":\"15013\",\"type\":\"DataRange1d\"},{\"attributes\":{\"source\":{\"id\":\"15043\"}},\"id\":\"15047\",\"type\":\"CDSView\"},{\"attributes\":{},\"id\":\"15017\",\"type\":\"LinearScale\"},{\"attributes\":{\"data_source\":{\"id\":\"15043\"},\"glyph\":{\"id\":\"15044\"},\"hover_glyph\":null,\"muted_glyph\":null,\"nonselection_glyph\":{\"id\":\"15045\"},\"selection_glyph\":null,\"view\":{\"id\":\"15047\"}},\"id\":\"15046\",\"type\":\"GlyphRenderer\"},{\"attributes\":{},\"id\":\"15708\",\"type\":\"Selection\"},{\"attributes\":{},\"id\":\"15709\",\"type\":\"UnionRenderers\"},{\"attributes\":{\"data\":{\"x\":{\"__ndarray__\":\"AACAe0hcdEIAAMBDiV50QgAAAAzKYHRCAABA1ApjdEIAAICcS2V0QgAAwGSMZ3RCAAAALc1pdEIAAED1DWx0QgAAgL1ObnRCAADAhY9wdEIAAABO0HJ0QgAAQBYRdXRCAACA3lF3dEIAAMCmknl0QgAAAG/Te3RCAABANxR+dEIAAID/VIB0QgAAwMeVgnRC\",\"dtype\":\"float64\",\"order\":\"little\",\"shape\":[18]},\"y\":[23,34,44,38,44,42,45,47,42,47,56,56,51,47,53,47,44,45]},\"selected\":{\"id\":\"15710\"},\"selection_policy\":{\"id\":\"15711\"}},\"id\":\"15048\",\"type\":\"ColumnDataSource\"},{\"attributes\":{\"bottom_units\":\"screen\",\"fill_alpha\":0.5,\"fill_color\":\"lightgrey\",\"left_units\":\"screen\",\"level\":\"overlay\",\"line_alpha\":1.0,\"line_color\":\"black\",\"line_dash\":[4,4],\"line_width\":2,\"right_units\":\"screen\",\"top_units\":\"screen\"},\"id\":\"15035\",\"type\":\"BoxAnnotation\"},{\"attributes\":{},\"id\":\"15019\",\"type\":\"LinearScale\"},{\"attributes\":{},\"id\":\"15032\",\"type\":\"SaveTool\"},{\"attributes\":{},\"id\":\"15026\",\"type\":\"BasicTicker\"},{\"attributes\":{},\"id\":\"15015\",\"type\":\"DataRange1d\"},{\"attributes\":{\"months\":[0,2,4,6,8,10]},\"id\":\"15704\",\"type\":\"MonthsTicker\"},{\"attributes\":{},\"id\":\"15710\",\"type\":\"Selection\"},{\"attributes\":{},\"id\":\"15694\",\"type\":\"BasicTickFormatter\"},{\"attributes\":{\"fill_color\":{\"value\":\"#1f77b4\"},\"line_color\":{\"value\":\"#1f77b4\"},\"x\":{\"field\":\"x\"},\"y\":{\"field\":\"y\"}},\"id\":\"15044\",\"type\":\"Scatter\"},{\"attributes\":{\"num_minor_ticks\":5,\"tickers\":[{\"id\":\"15696\"},{\"id\":\"15697\"},{\"id\":\"15698\"},{\"id\":\"15699\"},{\"id\":\"15700\"},{\"id\":\"15701\"},{\"id\":\"15702\"},{\"id\":\"15703\"},{\"id\":\"15704\"},{\"id\":\"15705\"},{\"id\":\"15706\"},{\"id\":\"15707\"}]},\"id\":\"15022\",\"type\":\"DatetimeTicker\"},{\"attributes\":{},\"id\":\"15711\",\"type\":\"UnionRenderers\"},{\"attributes\":{},\"id\":\"15034\",\"type\":\"HelpTool\"},{\"attributes\":{\"days\":[1,4,7,10,13,16,19,22,25,28]},\"id\":\"15700\",\"type\":\"DaysTicker\"},{\"attributes\":{\"text\":\"Count of weekly active users\"},\"id\":\"15011\",\"type\":\"Title\"},{\"attributes\":{\"axis_label\":\"Time (weekly)\",\"formatter\":{\"id\":\"15692\"},\"ticker\":{\"id\":\"15022\"}},\"id\":\"15021\",\"type\":\"DatetimeAxis\"},{\"attributes\":{\"mantissas\":[1,2,5],\"max_interval\":500.0,\"num_minor_ticks\":0},\"id\":\"15696\",\"type\":\"AdaptiveTicker\"},{\"attributes\":{\"axis\":{\"id\":\"15025\"},\"dimension\":1,\"ticker\":null},\"id\":\"15028\",\"type\":\"Grid\"},{\"attributes\":{\"base\":60,\"mantissas\":[1,2,5,10,15,20,30],\"max_interval\":1800000.0,\"min_interval\":1000.0,\"num_minor_ticks\":0},\"id\":\"15697\",\"type\":\"AdaptiveTicker\"},{\"attributes\":{\"overlay\":{\"id\":\"15035\"}},\"id\":\"15031\",\"type\":\"BoxZoomTool\"},{\"attributes\":{\"days\":[1,2,3,4,5,6,7,8,9,10,11,12,13,14,15,16,17,18,19,20,21,22,23,24,25,26,27,28,29,30,31]},\"id\":\"15699\",\"type\":\"DaysTicker\"},{\"attributes\":{\"base\":24,\"mantissas\":[1,2,4,6,8,12],\"max_interval\":43200000.0,\"min_interval\":3600000.0,\"num_minor_ticks\":0},\"id\":\"15698\",\"type\":\"AdaptiveTicker\"},{\"attributes\":{\"active_drag\":\"auto\",\"active_inspect\":\"auto\",\"active_multi\":null,\"active_scroll\":\"auto\",\"active_tap\":\"auto\",\"tools\":[{\"id\":\"15029\"},{\"id\":\"15030\"},{\"id\":\"15031\"},{\"id\":\"15032\"},{\"id\":\"15033\"},{\"id\":\"15034\"}]},\"id\":\"15036\",\"type\":\"Toolbar\"},{\"attributes\":{\"months\":[0,1,2,3,4,5,6,7,8,9,10,11]},\"id\":\"15703\",\"type\":\"MonthsTicker\"},{\"attributes\":{\"fill_alpha\":{\"value\":0.1},\"fill_color\":{\"value\":\"#1f77b4\"},\"line_alpha\":{\"value\":0.1},\"line_color\":{\"value\":\"#1f77b4\"},\"x\":{\"field\":\"x\"},\"y\":{\"field\":\"y\"}},\"id\":\"15045\",\"type\":\"Scatter\"},{\"attributes\":{},\"id\":\"15030\",\"type\":\"WheelZoomTool\"}],\"root_ids\":[\"15010\"]},\"title\":\"Bokeh Application\",\"version\":\"2.2.1\"}};\n",
       "  var render_items = [{\"docid\":\"ec3585f6-4266-4f8a-8763-135f9461dc29\",\"root_ids\":[\"15010\"],\"roots\":{\"15010\":\"fce0feda-cfdb-4d26-83af-0cfec60a2260\"}}];\n",
       "  root.Bokeh.embed.embed_items_notebook(docs_json, render_items);\n",
       "\n",
       "  }\n",
       "  if (root.Bokeh !== undefined) {\n",
       "    embed_document(root);\n",
       "  } else {\n",
       "    var attempts = 0;\n",
       "    var timer = setInterval(function(root) {\n",
       "      if (root.Bokeh !== undefined) {\n",
       "        clearInterval(timer);\n",
       "        embed_document(root);\n",
       "      } else {\n",
       "        attempts++;\n",
       "        if (attempts > 100) {\n",
       "          clearInterval(timer);\n",
       "          console.log(\"Bokeh: ERROR: Unable to run BokehJS code because BokehJS library is missing\");\n",
       "        }\n",
       "      }\n",
       "    }, 10, root)\n",
       "  }\n",
       "})(window);"
      ],
      "application/vnd.bokehjs_exec.v0+json": ""
     },
     "metadata": {
      "application/vnd.bokehjs_exec.v0+json": {
       "id": "15010"
      }
     },
     "output_type": "display_data"
    },
    {
     "name": "stdout",
     "output_type": "stream",
     "text": [
      "Egypt\n"
     ]
    },
    {
     "data": {
      "text/html": [
       "\n",
       "\n",
       "\n",
       "\n",
       "\n",
       "\n",
       "  <div class=\"bk-root\" id=\"3cf945bc-8d38-45d7-91cf-ee7ea07197f8\" data-root-id=\"15823\"></div>\n"
      ]
     },
     "metadata": {},
     "output_type": "display_data"
    },
    {
     "data": {
      "application/javascript": [
       "(function(root) {\n",
       "  function embed_document(root) {\n",
       "    \n",
       "  var docs_json = {\"33cbb9ae-a1c7-4278-b47a-6796eb954645\":{\"roots\":{\"references\":[{\"attributes\":{\"below\":[{\"id\":\"15834\"}],\"center\":[{\"id\":\"15837\"},{\"id\":\"15841\"}],\"left\":[{\"id\":\"15838\"}],\"plot_height\":300,\"plot_width\":500,\"renderers\":[{\"id\":\"15859\"},{\"id\":\"15864\"}],\"title\":{\"id\":\"15824\"},\"toolbar\":{\"id\":\"15849\"},\"x_range\":{\"id\":\"15826\"},\"x_scale\":{\"id\":\"15830\"},\"y_range\":{\"id\":\"15828\"},\"y_scale\":{\"id\":\"15832\"}},\"id\":\"15823\",\"subtype\":\"Figure\",\"type\":\"Plot\"},{\"attributes\":{},\"id\":\"15839\",\"type\":\"BasicTicker\"},{\"attributes\":{},\"id\":\"15830\",\"type\":\"LinearScale\"},{\"attributes\":{\"axis\":{\"id\":\"15838\"},\"dimension\":1,\"ticker\":null},\"id\":\"15841\",\"type\":\"Grid\"},{\"attributes\":{},\"id\":\"15826\",\"type\":\"DataRange1d\"},{\"attributes\":{\"axis_label\":\"Time (weekly)\",\"formatter\":{\"id\":\"16527\"},\"ticker\":{\"id\":\"15835\"}},\"id\":\"15834\",\"type\":\"DatetimeAxis\"},{\"attributes\":{},\"id\":\"15828\",\"type\":\"DataRange1d\"},{\"attributes\":{},\"id\":\"16543\",\"type\":\"Selection\"},{\"attributes\":{\"axis_label\":\"Counts\",\"formatter\":{\"id\":\"16529\"},\"ticker\":{\"id\":\"15839\"}},\"id\":\"15838\",\"type\":\"LinearAxis\"},{\"attributes\":{},\"id\":\"15832\",\"type\":\"LinearScale\"},{\"attributes\":{},\"id\":\"15845\",\"type\":\"SaveTool\"},{\"attributes\":{},\"id\":\"16544\",\"type\":\"UnionRenderers\"},{\"attributes\":{},\"id\":\"15843\",\"type\":\"WheelZoomTool\"},{\"attributes\":{},\"id\":\"15847\",\"type\":\"HelpTool\"},{\"attributes\":{\"data\":{\"x\":{\"__ndarray__\":\"AACAe0hcdEIAAMBDiV50QgAAAAzKYHRCAABA1ApjdEIAAICcS2V0QgAAwGSMZ3RCAAAALc1pdEIAAED1DWx0QgAAgL1ObnRCAADAhY9wdEIAAABO0HJ0QgAAQBYRdXRCAACA3lF3dEIAAMCmknl0QgAAAG/Te3RCAABANxR+dEIAAID/VIB0QgAAwMeVgnRC\",\"dtype\":\"float64\",\"order\":\"little\",\"shape\":[18]},\"y\":[3,4,9,7,7,8,6,6,6,7,10,8,5,7,8,6,5,9]},\"selected\":{\"id\":\"16545\"},\"selection_policy\":{\"id\":\"16546\"}},\"id\":\"15861\",\"type\":\"ColumnDataSource\"},{\"attributes\":{},\"id\":\"15842\",\"type\":\"PanTool\"},{\"attributes\":{\"fill_alpha\":{\"value\":0.1},\"fill_color\":{\"value\":\"#1f77b4\"},\"line_alpha\":{\"value\":0.1},\"line_color\":{\"value\":\"#1f77b4\"},\"x\":{\"field\":\"x\"},\"y\":{\"field\":\"y\"}},\"id\":\"15858\",\"type\":\"Scatter\"},{\"attributes\":{},\"id\":\"15846\",\"type\":\"ResetTool\"},{\"attributes\":{\"line_color\":\"#1f77b4\",\"x\":{\"field\":\"x\"},\"y\":{\"field\":\"y\"}},\"id\":\"15862\",\"type\":\"Line\"},{\"attributes\":{\"source\":{\"id\":\"15856\"}},\"id\":\"15860\",\"type\":\"CDSView\"},{\"attributes\":{\"num_minor_ticks\":5,\"tickers\":[{\"id\":\"16531\"},{\"id\":\"16532\"},{\"id\":\"16533\"},{\"id\":\"16534\"},{\"id\":\"16535\"},{\"id\":\"16536\"},{\"id\":\"16537\"},{\"id\":\"16538\"},{\"id\":\"16539\"},{\"id\":\"16540\"},{\"id\":\"16541\"},{\"id\":\"16542\"}]},\"id\":\"15835\",\"type\":\"DatetimeTicker\"},{\"attributes\":{\"data_source\":{\"id\":\"15856\"},\"glyph\":{\"id\":\"15857\"},\"hover_glyph\":null,\"muted_glyph\":null,\"nonselection_glyph\":{\"id\":\"15858\"},\"selection_glyph\":null,\"view\":{\"id\":\"15860\"}},\"id\":\"15859\",\"type\":\"GlyphRenderer\"},{\"attributes\":{\"axis\":{\"id\":\"15834\"},\"ticker\":null},\"id\":\"15837\",\"type\":\"Grid\"},{\"attributes\":{},\"id\":\"16529\",\"type\":\"BasicTickFormatter\"},{\"attributes\":{},\"id\":\"16546\",\"type\":\"UnionRenderers\"},{\"attributes\":{\"source\":{\"id\":\"15861\"}},\"id\":\"15865\",\"type\":\"CDSView\"},{\"attributes\":{\"text\":\"Count of weekly active users\"},\"id\":\"15824\",\"type\":\"Title\"},{\"attributes\":{\"line_alpha\":0.1,\"line_color\":\"#1f77b4\",\"x\":{\"field\":\"x\"},\"y\":{\"field\":\"y\"}},\"id\":\"15863\",\"type\":\"Line\"},{\"attributes\":{\"fill_color\":{\"value\":\"#1f77b4\"},\"line_color\":{\"value\":\"#1f77b4\"},\"x\":{\"field\":\"x\"},\"y\":{\"field\":\"y\"}},\"id\":\"15857\",\"type\":\"Scatter\"},{\"attributes\":{\"mantissas\":[1,2,5],\"max_interval\":500.0,\"num_minor_ticks\":0},\"id\":\"16531\",\"type\":\"AdaptiveTicker\"},{\"attributes\":{\"base\":60,\"mantissas\":[1,2,5,10,15,20,30],\"max_interval\":1800000.0,\"min_interval\":1000.0,\"num_minor_ticks\":0},\"id\":\"16532\",\"type\":\"AdaptiveTicker\"},{\"attributes\":{},\"id\":\"16545\",\"type\":\"Selection\"},{\"attributes\":{\"days\":[1,2,3,4,5,6,7,8,9,10,11,12,13,14,15,16,17,18,19,20,21,22,23,24,25,26,27,28,29,30,31]},\"id\":\"16534\",\"type\":\"DaysTicker\"},{\"attributes\":{\"base\":24,\"mantissas\":[1,2,4,6,8,12],\"max_interval\":43200000.0,\"min_interval\":3600000.0,\"num_minor_ticks\":0},\"id\":\"16533\",\"type\":\"AdaptiveTicker\"},{\"attributes\":{},\"id\":\"16527\",\"type\":\"DatetimeTickFormatter\"},{\"attributes\":{\"months\":[0,1,2,3,4,5,6,7,8,9,10,11]},\"id\":\"16538\",\"type\":\"MonthsTicker\"},{\"attributes\":{\"months\":[0,2,4,6,8,10]},\"id\":\"16539\",\"type\":\"MonthsTicker\"},{\"attributes\":{\"days\":[1,4,7,10,13,16,19,22,25,28]},\"id\":\"16535\",\"type\":\"DaysTicker\"},{\"attributes\":{\"bottom_units\":\"screen\",\"fill_alpha\":0.5,\"fill_color\":\"lightgrey\",\"left_units\":\"screen\",\"level\":\"overlay\",\"line_alpha\":1.0,\"line_color\":\"black\",\"line_dash\":[4,4],\"line_width\":2,\"right_units\":\"screen\",\"top_units\":\"screen\"},\"id\":\"15848\",\"type\":\"BoxAnnotation\"},{\"attributes\":{\"data_source\":{\"id\":\"15861\"},\"glyph\":{\"id\":\"15862\"},\"hover_glyph\":null,\"muted_glyph\":null,\"nonselection_glyph\":{\"id\":\"15863\"},\"selection_glyph\":null,\"view\":{\"id\":\"15865\"}},\"id\":\"15864\",\"type\":\"GlyphRenderer\"},{\"attributes\":{\"overlay\":{\"id\":\"15848\"}},\"id\":\"15844\",\"type\":\"BoxZoomTool\"},{\"attributes\":{\"days\":[1,15]},\"id\":\"16537\",\"type\":\"DaysTicker\"},{\"attributes\":{\"months\":[0,6]},\"id\":\"16541\",\"type\":\"MonthsTicker\"},{\"attributes\":{\"active_drag\":\"auto\",\"active_inspect\":\"auto\",\"active_multi\":null,\"active_scroll\":\"auto\",\"active_tap\":\"auto\",\"tools\":[{\"id\":\"15842\"},{\"id\":\"15843\"},{\"id\":\"15844\"},{\"id\":\"15845\"},{\"id\":\"15846\"},{\"id\":\"15847\"}]},\"id\":\"15849\",\"type\":\"Toolbar\"},{\"attributes\":{\"days\":[1,8,15,22]},\"id\":\"16536\",\"type\":\"DaysTicker\"},{\"attributes\":{},\"id\":\"16542\",\"type\":\"YearsTicker\"},{\"attributes\":{\"months\":[0,4,8]},\"id\":\"16540\",\"type\":\"MonthsTicker\"},{\"attributes\":{\"data\":{\"x\":{\"__ndarray__\":\"AACAe0hcdEIAAMBDiV50QgAAAAzKYHRCAABA1ApjdEIAAICcS2V0QgAAwGSMZ3RCAAAALc1pdEIAAED1DWx0QgAAgL1ObnRCAADAhY9wdEIAAABO0HJ0QgAAQBYRdXRCAACA3lF3dEIAAMCmknl0QgAAAG/Te3RCAABANxR+dEIAAID/VIB0QgAAwMeVgnRC\",\"dtype\":\"float64\",\"order\":\"little\",\"shape\":[18]},\"y\":[3,4,9,7,7,8,6,6,6,7,10,8,5,7,8,6,5,9]},\"selected\":{\"id\":\"16543\"},\"selection_policy\":{\"id\":\"16544\"}},\"id\":\"15856\",\"type\":\"ColumnDataSource\"}],\"root_ids\":[\"15823\"]},\"title\":\"Bokeh Application\",\"version\":\"2.2.1\"}};\n",
       "  var render_items = [{\"docid\":\"33cbb9ae-a1c7-4278-b47a-6796eb954645\",\"root_ids\":[\"15823\"],\"roots\":{\"15823\":\"3cf945bc-8d38-45d7-91cf-ee7ea07197f8\"}}];\n",
       "  root.Bokeh.embed.embed_items_notebook(docs_json, render_items);\n",
       "\n",
       "  }\n",
       "  if (root.Bokeh !== undefined) {\n",
       "    embed_document(root);\n",
       "  } else {\n",
       "    var attempts = 0;\n",
       "    var timer = setInterval(function(root) {\n",
       "      if (root.Bokeh !== undefined) {\n",
       "        clearInterval(timer);\n",
       "        embed_document(root);\n",
       "      } else {\n",
       "        attempts++;\n",
       "        if (attempts > 100) {\n",
       "          clearInterval(timer);\n",
       "          console.log(\"Bokeh: ERROR: Unable to run BokehJS code because BokehJS library is missing\");\n",
       "        }\n",
       "      }\n",
       "    }, 10, root)\n",
       "  }\n",
       "})(window);"
      ],
      "application/vnd.bokehjs_exec.v0+json": ""
     },
     "metadata": {
      "application/vnd.bokehjs_exec.v0+json": {
       "id": "15823"
      }
     },
     "output_type": "display_data"
    },
    {
     "name": "stdout",
     "output_type": "stream",
     "text": [
      "Nigeria\n"
     ]
    },
    {
     "data": {
      "text/html": [
       "\n",
       "\n",
       "\n",
       "\n",
       "\n",
       "\n",
       "  <div class=\"bk-root\" id=\"6ecc1a73-1586-4ac2-8eb7-dfe2f8f4d19b\" data-root-id=\"16658\"></div>\n"
      ]
     },
     "metadata": {},
     "output_type": "display_data"
    },
    {
     "data": {
      "application/javascript": [
       "(function(root) {\n",
       "  function embed_document(root) {\n",
       "    \n",
       "  var docs_json = {\"33a96d4f-d1fc-470b-80b8-150c5ed9876e\":{\"roots\":{\"references\":[{\"attributes\":{\"below\":[{\"id\":\"16669\"}],\"center\":[{\"id\":\"16672\"},{\"id\":\"16676\"}],\"left\":[{\"id\":\"16673\"}],\"plot_height\":300,\"plot_width\":500,\"renderers\":[{\"id\":\"16694\"},{\"id\":\"16699\"}],\"title\":{\"id\":\"16659\"},\"toolbar\":{\"id\":\"16684\"},\"x_range\":{\"id\":\"16661\"},\"x_scale\":{\"id\":\"16665\"},\"y_range\":{\"id\":\"16663\"},\"y_scale\":{\"id\":\"16667\"}},\"id\":\"16658\",\"subtype\":\"Figure\",\"type\":\"Plot\"},{\"attributes\":{},\"id\":\"16665\",\"type\":\"LinearScale\"},{\"attributes\":{},\"id\":\"17400\",\"type\":\"Selection\"},{\"attributes\":{\"bottom_units\":\"screen\",\"fill_alpha\":0.5,\"fill_color\":\"lightgrey\",\"left_units\":\"screen\",\"level\":\"overlay\",\"line_alpha\":1.0,\"line_color\":\"black\",\"line_dash\":[4,4],\"line_width\":2,\"right_units\":\"screen\",\"top_units\":\"screen\"},\"id\":\"16683\",\"type\":\"BoxAnnotation\"},{\"attributes\":{},\"id\":\"17401\",\"type\":\"UnionRenderers\"},{\"attributes\":{},\"id\":\"16674\",\"type\":\"BasicTicker\"},{\"attributes\":{\"data\":{\"x\":{\"__ndarray__\":\"AACAe0hcdEIAAMBDiV50QgAAAAzKYHRCAABA1ApjdEIAAICcS2V0QgAAwGSMZ3RCAAAALc1pdEIAAED1DWx0QgAAgL1ObnRCAADAhY9wdEIAAABO0HJ0QgAAQBYRdXRCAACA3lF3dEIAAMCmknl0QgAAAG/Te3RCAABANxR+dEIAAID/VIB0QgAAwMeVgnRC\",\"dtype\":\"float64\",\"order\":\"little\",\"shape\":[18]},\"y\":[6,10,8,8,7,5,5,5,7,8,7,10,10,8,7,9,6,8]},\"selected\":{\"id\":\"17400\"},\"selection_policy\":{\"id\":\"17401\"}},\"id\":\"16691\",\"type\":\"ColumnDataSource\"},{\"attributes\":{},\"id\":\"16661\",\"type\":\"DataRange1d\"},{\"attributes\":{\"active_drag\":\"auto\",\"active_inspect\":\"auto\",\"active_multi\":null,\"active_scroll\":\"auto\",\"active_tap\":\"auto\",\"tools\":[{\"id\":\"16677\"},{\"id\":\"16678\"},{\"id\":\"16679\"},{\"id\":\"16680\"},{\"id\":\"16681\"},{\"id\":\"16682\"}]},\"id\":\"16684\",\"type\":\"Toolbar\"},{\"attributes\":{\"fill_color\":{\"value\":\"#1f77b4\"},\"line_color\":{\"value\":\"#1f77b4\"},\"x\":{\"field\":\"x\"},\"y\":{\"field\":\"y\"}},\"id\":\"16692\",\"type\":\"Scatter\"},{\"attributes\":{\"axis_label\":\"Counts\",\"formatter\":{\"id\":\"17386\"},\"ticker\":{\"id\":\"16674\"}},\"id\":\"16673\",\"type\":\"LinearAxis\"},{\"attributes\":{},\"id\":\"17386\",\"type\":\"BasicTickFormatter\"},{\"attributes\":{},\"id\":\"17402\",\"type\":\"Selection\"},{\"attributes\":{},\"id\":\"17403\",\"type\":\"UnionRenderers\"},{\"attributes\":{},\"id\":\"16680\",\"type\":\"SaveTool\"},{\"attributes\":{},\"id\":\"16682\",\"type\":\"HelpTool\"},{\"attributes\":{},\"id\":\"16678\",\"type\":\"WheelZoomTool\"},{\"attributes\":{\"mantissas\":[1,2,5],\"max_interval\":500.0,\"num_minor_ticks\":0},\"id\":\"17388\",\"type\":\"AdaptiveTicker\"},{\"attributes\":{},\"id\":\"16677\",\"type\":\"PanTool\"},{\"attributes\":{\"base\":60,\"mantissas\":[1,2,5,10,15,20,30],\"max_interval\":1800000.0,\"min_interval\":1000.0,\"num_minor_ticks\":0},\"id\":\"17389\",\"type\":\"AdaptiveTicker\"},{\"attributes\":{\"overlay\":{\"id\":\"16683\"}},\"id\":\"16679\",\"type\":\"BoxZoomTool\"},{\"attributes\":{\"days\":[1,2,3,4,5,6,7,8,9,10,11,12,13,14,15,16,17,18,19,20,21,22,23,24,25,26,27,28,29,30,31]},\"id\":\"17391\",\"type\":\"DaysTicker\"},{\"attributes\":{\"text\":\"Count of weekly active users\"},\"id\":\"16659\",\"type\":\"Title\"},{\"attributes\":{\"num_minor_ticks\":5,\"tickers\":[{\"id\":\"17388\"},{\"id\":\"17389\"},{\"id\":\"17390\"},{\"id\":\"17391\"},{\"id\":\"17392\"},{\"id\":\"17393\"},{\"id\":\"17394\"},{\"id\":\"17395\"},{\"id\":\"17396\"},{\"id\":\"17397\"},{\"id\":\"17398\"},{\"id\":\"17399\"}]},\"id\":\"16670\",\"type\":\"DatetimeTicker\"},{\"attributes\":{\"data\":{\"x\":{\"__ndarray__\":\"AACAe0hcdEIAAMBDiV50QgAAAAzKYHRCAABA1ApjdEIAAICcS2V0QgAAwGSMZ3RCAAAALc1pdEIAAED1DWx0QgAAgL1ObnRCAADAhY9wdEIAAABO0HJ0QgAAQBYRdXRCAACA3lF3dEIAAMCmknl0QgAAAG/Te3RCAABANxR+dEIAAID/VIB0QgAAwMeVgnRC\",\"dtype\":\"float64\",\"order\":\"little\",\"shape\":[18]},\"y\":[6,10,8,8,7,5,5,5,7,8,7,10,10,8,7,9,6,8]},\"selected\":{\"id\":\"17402\"},\"selection_policy\":{\"id\":\"17403\"}},\"id\":\"16696\",\"type\":\"ColumnDataSource\"},{\"attributes\":{\"base\":24,\"mantissas\":[1,2,4,6,8,12],\"max_interval\":43200000.0,\"min_interval\":3600000.0,\"num_minor_ticks\":0},\"id\":\"17390\",\"type\":\"AdaptiveTicker\"},{\"attributes\":{\"axis\":{\"id\":\"16673\"},\"dimension\":1,\"ticker\":null},\"id\":\"16676\",\"type\":\"Grid\"},{\"attributes\":{\"fill_alpha\":{\"value\":0.1},\"fill_color\":{\"value\":\"#1f77b4\"},\"line_alpha\":{\"value\":0.1},\"line_color\":{\"value\":\"#1f77b4\"},\"x\":{\"field\":\"x\"},\"y\":{\"field\":\"y\"}},\"id\":\"16693\",\"type\":\"Scatter\"},{\"attributes\":{\"months\":[0,1,2,3,4,5,6,7,8,9,10,11]},\"id\":\"17395\",\"type\":\"MonthsTicker\"},{\"attributes\":{\"data_source\":{\"id\":\"16696\"},\"glyph\":{\"id\":\"16697\"},\"hover_glyph\":null,\"muted_glyph\":null,\"nonselection_glyph\":{\"id\":\"16698\"},\"selection_glyph\":null,\"view\":{\"id\":\"16700\"}},\"id\":\"16699\",\"type\":\"GlyphRenderer\"},{\"attributes\":{\"months\":[0,2,4,6,8,10]},\"id\":\"17396\",\"type\":\"MonthsTicker\"},{\"attributes\":{\"line_color\":\"#1f77b4\",\"x\":{\"field\":\"x\"},\"y\":{\"field\":\"y\"}},\"id\":\"16697\",\"type\":\"Line\"},{\"attributes\":{\"days\":[1,4,7,10,13,16,19,22,25,28]},\"id\":\"17392\",\"type\":\"DaysTicker\"},{\"attributes\":{\"source\":{\"id\":\"16691\"}},\"id\":\"16695\",\"type\":\"CDSView\"},{\"attributes\":{\"axis\":{\"id\":\"16669\"},\"ticker\":null},\"id\":\"16672\",\"type\":\"Grid\"},{\"attributes\":{\"days\":[1,15]},\"id\":\"17394\",\"type\":\"DaysTicker\"},{\"attributes\":{\"data_source\":{\"id\":\"16691\"},\"glyph\":{\"id\":\"16692\"},\"hover_glyph\":null,\"muted_glyph\":null,\"nonselection_glyph\":{\"id\":\"16693\"},\"selection_glyph\":null,\"view\":{\"id\":\"16695\"}},\"id\":\"16694\",\"type\":\"GlyphRenderer\"},{\"attributes\":{\"months\":[0,6]},\"id\":\"17398\",\"type\":\"MonthsTicker\"},{\"attributes\":{},\"id\":\"16681\",\"type\":\"ResetTool\"},{\"attributes\":{\"days\":[1,8,15,22]},\"id\":\"17393\",\"type\":\"DaysTicker\"},{\"attributes\":{\"source\":{\"id\":\"16696\"}},\"id\":\"16700\",\"type\":\"CDSView\"},{\"attributes\":{},\"id\":\"17399\",\"type\":\"YearsTicker\"},{\"attributes\":{},\"id\":\"16667\",\"type\":\"LinearScale\"},{\"attributes\":{},\"id\":\"17384\",\"type\":\"DatetimeTickFormatter\"},{\"attributes\":{\"months\":[0,4,8]},\"id\":\"17397\",\"type\":\"MonthsTicker\"},{\"attributes\":{},\"id\":\"16663\",\"type\":\"DataRange1d\"},{\"attributes\":{\"line_alpha\":0.1,\"line_color\":\"#1f77b4\",\"x\":{\"field\":\"x\"},\"y\":{\"field\":\"y\"}},\"id\":\"16698\",\"type\":\"Line\"},{\"attributes\":{\"axis_label\":\"Time (weekly)\",\"formatter\":{\"id\":\"17384\"},\"ticker\":{\"id\":\"16670\"}},\"id\":\"16669\",\"type\":\"DatetimeAxis\"}],\"root_ids\":[\"16658\"]},\"title\":\"Bokeh Application\",\"version\":\"2.2.1\"}};\n",
       "  var render_items = [{\"docid\":\"33a96d4f-d1fc-470b-80b8-150c5ed9876e\",\"root_ids\":[\"16658\"],\"roots\":{\"16658\":\"6ecc1a73-1586-4ac2-8eb7-dfe2f8f4d19b\"}}];\n",
       "  root.Bokeh.embed.embed_items_notebook(docs_json, render_items);\n",
       "\n",
       "  }\n",
       "  if (root.Bokeh !== undefined) {\n",
       "    embed_document(root);\n",
       "  } else {\n",
       "    var attempts = 0;\n",
       "    var timer = setInterval(function(root) {\n",
       "      if (root.Bokeh !== undefined) {\n",
       "        clearInterval(timer);\n",
       "        embed_document(root);\n",
       "      } else {\n",
       "        attempts++;\n",
       "        if (attempts > 100) {\n",
       "          clearInterval(timer);\n",
       "          console.log(\"Bokeh: ERROR: Unable to run BokehJS code because BokehJS library is missing\");\n",
       "        }\n",
       "      }\n",
       "    }, 10, root)\n",
       "  }\n",
       "})(window);"
      ],
      "application/vnd.bokehjs_exec.v0+json": ""
     },
     "metadata": {
      "application/vnd.bokehjs_exec.v0+json": {
       "id": "16658"
      }
     },
     "output_type": "display_data"
    },
    {
     "name": "stdout",
     "output_type": "stream",
     "text": [
      "Pakistan\n"
     ]
    },
    {
     "data": {
      "text/html": [
       "\n",
       "\n",
       "\n",
       "\n",
       "\n",
       "\n",
       "  <div class=\"bk-root\" id=\"d6af2676-2d8c-4ad8-bfc1-4ed0ec91dbc1\" data-root-id=\"17515\"></div>\n"
      ]
     },
     "metadata": {},
     "output_type": "display_data"
    },
    {
     "data": {
      "application/javascript": [
       "(function(root) {\n",
       "  function embed_document(root) {\n",
       "    \n",
       "  var docs_json = {\"329b8e83-6685-4a6a-a826-b77756576c2d\":{\"roots\":{\"references\":[{\"attributes\":{\"below\":[{\"id\":\"17526\"}],\"center\":[{\"id\":\"17529\"},{\"id\":\"17533\"}],\"left\":[{\"id\":\"17530\"}],\"plot_height\":300,\"plot_width\":500,\"renderers\":[{\"id\":\"17551\"},{\"id\":\"17556\"}],\"title\":{\"id\":\"17516\"},\"toolbar\":{\"id\":\"17541\"},\"x_range\":{\"id\":\"17518\"},\"x_scale\":{\"id\":\"17522\"},\"y_range\":{\"id\":\"17520\"},\"y_scale\":{\"id\":\"17524\"}},\"id\":\"17515\",\"subtype\":\"Figure\",\"type\":\"Plot\"},{\"attributes\":{\"source\":{\"id\":\"17553\"}},\"id\":\"17557\",\"type\":\"CDSView\"},{\"attributes\":{},\"id\":\"18265\",\"type\":\"BasicTickFormatter\"},{\"attributes\":{\"axis_label\":\"Time (weekly)\",\"formatter\":{\"id\":\"18263\"},\"ticker\":{\"id\":\"17527\"}},\"id\":\"17526\",\"type\":\"DatetimeAxis\"},{\"attributes\":{\"line_alpha\":0.1,\"line_color\":\"#1f77b4\",\"x\":{\"field\":\"x\"},\"y\":{\"field\":\"y\"}},\"id\":\"17555\",\"type\":\"Line\"},{\"attributes\":{},\"id\":\"17518\",\"type\":\"DataRange1d\"},{\"attributes\":{},\"id\":\"17524\",\"type\":\"LinearScale\"},{\"attributes\":{\"data_source\":{\"id\":\"17548\"},\"glyph\":{\"id\":\"17549\"},\"hover_glyph\":null,\"muted_glyph\":null,\"nonselection_glyph\":{\"id\":\"17550\"},\"selection_glyph\":null,\"view\":{\"id\":\"17552\"}},\"id\":\"17551\",\"type\":\"GlyphRenderer\"},{\"attributes\":{\"mantissas\":[1,2,5],\"max_interval\":500.0,\"num_minor_ticks\":0},\"id\":\"18267\",\"type\":\"AdaptiveTicker\"},{\"attributes\":{\"base\":60,\"mantissas\":[1,2,5,10,15,20,30],\"max_interval\":1800000.0,\"min_interval\":1000.0,\"num_minor_ticks\":0},\"id\":\"18268\",\"type\":\"AdaptiveTicker\"},{\"attributes\":{\"days\":[1,2,3,4,5,6,7,8,9,10,11,12,13,14,15,16,17,18,19,20,21,22,23,24,25,26,27,28,29,30,31]},\"id\":\"18270\",\"type\":\"DaysTicker\"},{\"attributes\":{\"base\":24,\"mantissas\":[1,2,4,6,8,12],\"max_interval\":43200000.0,\"min_interval\":3600000.0,\"num_minor_ticks\":0},\"id\":\"18269\",\"type\":\"AdaptiveTicker\"},{\"attributes\":{\"bottom_units\":\"screen\",\"fill_alpha\":0.5,\"fill_color\":\"lightgrey\",\"left_units\":\"screen\",\"level\":\"overlay\",\"line_alpha\":1.0,\"line_color\":\"black\",\"line_dash\":[4,4],\"line_width\":2,\"right_units\":\"screen\",\"top_units\":\"screen\"},\"id\":\"17540\",\"type\":\"BoxAnnotation\"},{\"attributes\":{\"months\":[0,1,2,3,4,5,6,7,8,9,10,11]},\"id\":\"18274\",\"type\":\"MonthsTicker\"},{\"attributes\":{\"months\":[0,2,4,6,8,10]},\"id\":\"18275\",\"type\":\"MonthsTicker\"},{\"attributes\":{\"days\":[1,4,7,10,13,16,19,22,25,28]},\"id\":\"18271\",\"type\":\"DaysTicker\"},{\"attributes\":{\"days\":[1,15]},\"id\":\"18273\",\"type\":\"DaysTicker\"},{\"attributes\":{\"months\":[0,6]},\"id\":\"18277\",\"type\":\"MonthsTicker\"},{\"attributes\":{\"text\":\"Count of weekly active users\"},\"id\":\"17516\",\"type\":\"Title\"},{\"attributes\":{},\"id\":\"18263\",\"type\":\"DatetimeTickFormatter\"},{\"attributes\":{},\"id\":\"17531\",\"type\":\"BasicTicker\"},{\"attributes\":{\"data\":{\"x\":{\"__ndarray__\":\"AACAe0hcdEIAAMBDiV50QgAAAAzKYHRCAABA1ApjdEIAAICcS2V0QgAAwGSMZ3RCAAAALc1pdEIAAED1DWx0QgAAgL1ObnRCAADAhY9wdEIAAABO0HJ0QgAAQBYRdXRCAACA3lF3dEIAAMCmknl0QgAAAG/Te3RCAABANxR+dEIAAID/VIB0QgAAwMeVgnRC\",\"dtype\":\"float64\",\"order\":\"little\",\"shape\":[18]},\"y\":[2,6,4,4,2,3,3,3,1,2,3,3,4,4,2,6,7,7]},\"selected\":{\"id\":\"18279\"},\"selection_policy\":{\"id\":\"18280\"}},\"id\":\"17548\",\"type\":\"ColumnDataSource\"},{\"attributes\":{\"days\":[1,8,15,22]},\"id\":\"18272\",\"type\":\"DaysTicker\"},{\"attributes\":{},\"id\":\"18278\",\"type\":\"YearsTicker\"},{\"attributes\":{\"active_drag\":\"auto\",\"active_inspect\":\"auto\",\"active_multi\":null,\"active_scroll\":\"auto\",\"active_tap\":\"auto\",\"tools\":[{\"id\":\"17534\"},{\"id\":\"17535\"},{\"id\":\"17536\"},{\"id\":\"17537\"},{\"id\":\"17538\"},{\"id\":\"17539\"}]},\"id\":\"17541\",\"type\":\"Toolbar\"},{\"attributes\":{\"months\":[0,4,8]},\"id\":\"18276\",\"type\":\"MonthsTicker\"},{\"attributes\":{},\"id\":\"18282\",\"type\":\"UnionRenderers\"},{\"attributes\":{\"axis_label\":\"Counts\",\"formatter\":{\"id\":\"18265\"},\"ticker\":{\"id\":\"17531\"}},\"id\":\"17530\",\"type\":\"LinearAxis\"},{\"attributes\":{\"overlay\":{\"id\":\"17540\"}},\"id\":\"17536\",\"type\":\"BoxZoomTool\"},{\"attributes\":{},\"id\":\"17537\",\"type\":\"SaveTool\"},{\"attributes\":{},\"id\":\"17539\",\"type\":\"HelpTool\"},{\"attributes\":{},\"id\":\"17535\",\"type\":\"WheelZoomTool\"},{\"attributes\":{\"data_source\":{\"id\":\"17553\"},\"glyph\":{\"id\":\"17554\"},\"hover_glyph\":null,\"muted_glyph\":null,\"nonselection_glyph\":{\"id\":\"17555\"},\"selection_glyph\":null,\"view\":{\"id\":\"17557\"}},\"id\":\"17556\",\"type\":\"GlyphRenderer\"},{\"attributes\":{},\"id\":\"17534\",\"type\":\"PanTool\"},{\"attributes\":{},\"id\":\"18279\",\"type\":\"Selection\"},{\"attributes\":{\"num_minor_ticks\":5,\"tickers\":[{\"id\":\"18267\"},{\"id\":\"18268\"},{\"id\":\"18269\"},{\"id\":\"18270\"},{\"id\":\"18271\"},{\"id\":\"18272\"},{\"id\":\"18273\"},{\"id\":\"18274\"},{\"id\":\"18275\"},{\"id\":\"18276\"},{\"id\":\"18277\"},{\"id\":\"18278\"}]},\"id\":\"17527\",\"type\":\"DatetimeTicker\"},{\"attributes\":{},\"id\":\"18280\",\"type\":\"UnionRenderers\"},{\"attributes\":{\"axis\":{\"id\":\"17530\"},\"dimension\":1,\"ticker\":null},\"id\":\"17533\",\"type\":\"Grid\"},{\"attributes\":{\"data\":{\"x\":{\"__ndarray__\":\"AACAe0hcdEIAAMBDiV50QgAAAAzKYHRCAABA1ApjdEIAAICcS2V0QgAAwGSMZ3RCAAAALc1pdEIAAED1DWx0QgAAgL1ObnRCAADAhY9wdEIAAABO0HJ0QgAAQBYRdXRCAACA3lF3dEIAAMCmknl0QgAAAG/Te3RCAABANxR+dEIAAID/VIB0QgAAwMeVgnRC\",\"dtype\":\"float64\",\"order\":\"little\",\"shape\":[18]},\"y\":[2,6,4,4,2,3,3,3,1,2,3,3,4,4,2,6,7,7]},\"selected\":{\"id\":\"18281\"},\"selection_policy\":{\"id\":\"18282\"}},\"id\":\"17553\",\"type\":\"ColumnDataSource\"},{\"attributes\":{\"fill_alpha\":{\"value\":0.1},\"fill_color\":{\"value\":\"#1f77b4\"},\"line_alpha\":{\"value\":0.1},\"line_color\":{\"value\":\"#1f77b4\"},\"x\":{\"field\":\"x\"},\"y\":{\"field\":\"y\"}},\"id\":\"17550\",\"type\":\"Scatter\"},{\"attributes\":{},\"id\":\"17520\",\"type\":\"DataRange1d\"},{\"attributes\":{\"axis\":{\"id\":\"17526\"},\"ticker\":null},\"id\":\"17529\",\"type\":\"Grid\"},{\"attributes\":{\"fill_color\":{\"value\":\"#1f77b4\"},\"line_color\":{\"value\":\"#1f77b4\"},\"x\":{\"field\":\"x\"},\"y\":{\"field\":\"y\"}},\"id\":\"17549\",\"type\":\"Scatter\"},{\"attributes\":{\"line_color\":\"#1f77b4\",\"x\":{\"field\":\"x\"},\"y\":{\"field\":\"y\"}},\"id\":\"17554\",\"type\":\"Line\"},{\"attributes\":{\"source\":{\"id\":\"17548\"}},\"id\":\"17552\",\"type\":\"CDSView\"},{\"attributes\":{},\"id\":\"17538\",\"type\":\"ResetTool\"},{\"attributes\":{},\"id\":\"17522\",\"type\":\"LinearScale\"},{\"attributes\":{},\"id\":\"18281\",\"type\":\"Selection\"}],\"root_ids\":[\"17515\"]},\"title\":\"Bokeh Application\",\"version\":\"2.2.1\"}};\n",
       "  var render_items = [{\"docid\":\"329b8e83-6685-4a6a-a826-b77756576c2d\",\"root_ids\":[\"17515\"],\"roots\":{\"17515\":\"d6af2676-2d8c-4ad8-bfc1-4ed0ec91dbc1\"}}];\n",
       "  root.Bokeh.embed.embed_items_notebook(docs_json, render_items);\n",
       "\n",
       "  }\n",
       "  if (root.Bokeh !== undefined) {\n",
       "    embed_document(root);\n",
       "  } else {\n",
       "    var attempts = 0;\n",
       "    var timer = setInterval(function(root) {\n",
       "      if (root.Bokeh !== undefined) {\n",
       "        clearInterval(timer);\n",
       "        embed_document(root);\n",
       "      } else {\n",
       "        attempts++;\n",
       "        if (attempts > 100) {\n",
       "          clearInterval(timer);\n",
       "          console.log(\"Bokeh: ERROR: Unable to run BokehJS code because BokehJS library is missing\");\n",
       "        }\n",
       "      }\n",
       "    }, 10, root)\n",
       "  }\n",
       "})(window);"
      ],
      "application/vnd.bokehjs_exec.v0+json": ""
     },
     "metadata": {
      "application/vnd.bokehjs_exec.v0+json": {
       "id": "17515"
      }
     },
     "output_type": "display_data"
    },
    {
     "name": "stdout",
     "output_type": "stream",
     "text": [
      "Portugal\n"
     ]
    },
    {
     "data": {
      "text/html": [
       "\n",
       "\n",
       "\n",
       "\n",
       "\n",
       "\n",
       "  <div class=\"bk-root\" id=\"7bea04a6-9ea4-480c-9b3b-02664989d0bb\" data-root-id=\"18394\"></div>\n"
      ]
     },
     "metadata": {},
     "output_type": "display_data"
    },
    {
     "data": {
      "application/javascript": [
       "(function(root) {\n",
       "  function embed_document(root) {\n",
       "    \n",
       "  var docs_json = {\"3ec8aed5-407f-4b8d-9939-4f7c4e6f6e2c\":{\"roots\":{\"references\":[{\"attributes\":{\"below\":[{\"id\":\"18405\"}],\"center\":[{\"id\":\"18408\"},{\"id\":\"18412\"}],\"left\":[{\"id\":\"18409\"}],\"plot_height\":300,\"plot_width\":500,\"renderers\":[{\"id\":\"18430\"},{\"id\":\"18435\"}],\"title\":{\"id\":\"18395\"},\"toolbar\":{\"id\":\"18420\"},\"x_range\":{\"id\":\"18397\"},\"x_scale\":{\"id\":\"18401\"},\"y_range\":{\"id\":\"18399\"},\"y_scale\":{\"id\":\"18403\"}},\"id\":\"18394\",\"subtype\":\"Figure\",\"type\":\"Plot\"},{\"attributes\":{},\"id\":\"18416\",\"type\":\"SaveTool\"},{\"attributes\":{\"days\":[1,2,3,4,5,6,7,8,9,10,11,12,13,14,15,16,17,18,19,20,21,22,23,24,25,26,27,28,29,30,31]},\"id\":\"19171\",\"type\":\"DaysTicker\"},{\"attributes\":{\"months\":[0,1,2,3,4,5,6,7,8,9,10,11]},\"id\":\"19175\",\"type\":\"MonthsTicker\"},{\"attributes\":{\"active_drag\":\"auto\",\"active_inspect\":\"auto\",\"active_multi\":null,\"active_scroll\":\"auto\",\"active_tap\":\"auto\",\"tools\":[{\"id\":\"18413\"},{\"id\":\"18414\"},{\"id\":\"18415\"},{\"id\":\"18416\"},{\"id\":\"18417\"},{\"id\":\"18418\"}]},\"id\":\"18420\",\"type\":\"Toolbar\"},{\"attributes\":{\"bottom_units\":\"screen\",\"fill_alpha\":0.5,\"fill_color\":\"lightgrey\",\"left_units\":\"screen\",\"level\":\"overlay\",\"line_alpha\":1.0,\"line_color\":\"black\",\"line_dash\":[4,4],\"line_width\":2,\"right_units\":\"screen\",\"top_units\":\"screen\"},\"id\":\"18419\",\"type\":\"BoxAnnotation\"},{\"attributes\":{},\"id\":\"18413\",\"type\":\"PanTool\"},{\"attributes\":{},\"id\":\"18418\",\"type\":\"HelpTool\"},{\"attributes\":{\"data\":{\"x\":{\"__ndarray__\":\"AACAe0hcdEIAAMBDiV50QgAAAAzKYHRCAABA1ApjdEIAAICcS2V0QgAAwGSMZ3RCAAAALc1pdEIAAED1DWx0QgAAgL1ObnRCAADAhY9wdEIAAABO0HJ0QgAAQBYRdXRCAACA3lF3dEIAAMCmknl0QgAAAG/Te3RCAABANxR+dEIAAID/VIB0QgAAwMeVgnRC\",\"dtype\":\"float64\",\"order\":\"little\",\"shape\":[18]},\"y\":[6,3,4,4,7,3,4,1,4,4,5,6,4,3,5,10,8,5]},\"selected\":{\"id\":\"19182\"},\"selection_policy\":{\"id\":\"19183\"}},\"id\":\"18432\",\"type\":\"ColumnDataSource\"},{\"attributes\":{\"text\":\"Count of weekly active users\"},\"id\":\"18395\",\"type\":\"Title\"},{\"attributes\":{},\"id\":\"18417\",\"type\":\"ResetTool\"},{\"attributes\":{\"fill_alpha\":{\"value\":0.1},\"fill_color\":{\"value\":\"#1f77b4\"},\"line_alpha\":{\"value\":0.1},\"line_color\":{\"value\":\"#1f77b4\"},\"x\":{\"field\":\"x\"},\"y\":{\"field\":\"y\"}},\"id\":\"18429\",\"type\":\"Scatter\"},{\"attributes\":{},\"id\":\"19166\",\"type\":\"BasicTickFormatter\"},{\"attributes\":{\"months\":[0,4,8]},\"id\":\"19177\",\"type\":\"MonthsTicker\"},{\"attributes\":{\"line_color\":\"#1f77b4\",\"x\":{\"field\":\"x\"},\"y\":{\"field\":\"y\"}},\"id\":\"18433\",\"type\":\"Line\"},{\"attributes\":{\"months\":[0,6]},\"id\":\"19178\",\"type\":\"MonthsTicker\"},{\"attributes\":{\"source\":{\"id\":\"18427\"}},\"id\":\"18431\",\"type\":\"CDSView\"},{\"attributes\":{\"days\":[1,15]},\"id\":\"19174\",\"type\":\"DaysTicker\"},{\"attributes\":{},\"id\":\"18414\",\"type\":\"WheelZoomTool\"},{\"attributes\":{\"data_source\":{\"id\":\"18427\"},\"glyph\":{\"id\":\"18428\"},\"hover_glyph\":null,\"muted_glyph\":null,\"nonselection_glyph\":{\"id\":\"18429\"},\"selection_glyph\":null,\"view\":{\"id\":\"18431\"}},\"id\":\"18430\",\"type\":\"GlyphRenderer\"},{\"attributes\":{\"base\":60,\"mantissas\":[1,2,5,10,15,20,30],\"max_interval\":1800000.0,\"min_interval\":1000.0,\"num_minor_ticks\":0},\"id\":\"19169\",\"type\":\"AdaptiveTicker\"},{\"attributes\":{},\"id\":\"19179\",\"type\":\"YearsTicker\"},{\"attributes\":{\"base\":24,\"mantissas\":[1,2,4,6,8,12],\"max_interval\":43200000.0,\"min_interval\":3600000.0,\"num_minor_ticks\":0},\"id\":\"19170\",\"type\":\"AdaptiveTicker\"},{\"attributes\":{\"source\":{\"id\":\"18432\"}},\"id\":\"18436\",\"type\":\"CDSView\"},{\"attributes\":{\"overlay\":{\"id\":\"18419\"}},\"id\":\"18415\",\"type\":\"BoxZoomTool\"},{\"attributes\":{\"mantissas\":[1,2,5],\"max_interval\":500.0,\"num_minor_ticks\":0},\"id\":\"19168\",\"type\":\"AdaptiveTicker\"},{\"attributes\":{\"line_alpha\":0.1,\"line_color\":\"#1f77b4\",\"x\":{\"field\":\"x\"},\"y\":{\"field\":\"y\"}},\"id\":\"18434\",\"type\":\"Line\"},{\"attributes\":{\"days\":[1,4,7,10,13,16,19,22,25,28]},\"id\":\"19172\",\"type\":\"DaysTicker\"},{\"attributes\":{},\"id\":\"18397\",\"type\":\"DataRange1d\"},{\"attributes\":{\"days\":[1,8,15,22]},\"id\":\"19173\",\"type\":\"DaysTicker\"},{\"attributes\":{\"fill_color\":{\"value\":\"#1f77b4\"},\"line_color\":{\"value\":\"#1f77b4\"},\"x\":{\"field\":\"x\"},\"y\":{\"field\":\"y\"}},\"id\":\"18428\",\"type\":\"Scatter\"},{\"attributes\":{},\"id\":\"18399\",\"type\":\"DataRange1d\"},{\"attributes\":{},\"id\":\"19180\",\"type\":\"Selection\"},{\"attributes\":{\"months\":[0,2,4,6,8,10]},\"id\":\"19176\",\"type\":\"MonthsTicker\"},{\"attributes\":{\"data\":{\"x\":{\"__ndarray__\":\"AACAe0hcdEIAAMBDiV50QgAAAAzKYHRCAABA1ApjdEIAAICcS2V0QgAAwGSMZ3RCAAAALc1pdEIAAED1DWx0QgAAgL1ObnRCAADAhY9wdEIAAABO0HJ0QgAAQBYRdXRCAACA3lF3dEIAAMCmknl0QgAAAG/Te3RCAABANxR+dEIAAID/VIB0QgAAwMeVgnRC\",\"dtype\":\"float64\",\"order\":\"little\",\"shape\":[18]},\"y\":[6,3,4,4,7,3,4,1,4,4,5,6,4,3,5,10,8,5]},\"selected\":{\"id\":\"19180\"},\"selection_policy\":{\"id\":\"19181\"}},\"id\":\"18427\",\"type\":\"ColumnDataSource\"},{\"attributes\":{},\"id\":\"19181\",\"type\":\"UnionRenderers\"},{\"attributes\":{},\"id\":\"19164\",\"type\":\"DatetimeTickFormatter\"},{\"attributes\":{\"axis_label\":\"Counts\",\"formatter\":{\"id\":\"19166\"},\"ticker\":{\"id\":\"18410\"}},\"id\":\"18409\",\"type\":\"LinearAxis\"},{\"attributes\":{},\"id\":\"18403\",\"type\":\"LinearScale\"},{\"attributes\":{},\"id\":\"18410\",\"type\":\"BasicTicker\"},{\"attributes\":{\"axis\":{\"id\":\"18405\"},\"ticker\":null},\"id\":\"18408\",\"type\":\"Grid\"},{\"attributes\":{\"axis_label\":\"Time (weekly)\",\"formatter\":{\"id\":\"19164\"},\"ticker\":{\"id\":\"18406\"}},\"id\":\"18405\",\"type\":\"DatetimeAxis\"},{\"attributes\":{},\"id\":\"18401\",\"type\":\"LinearScale\"},{\"attributes\":{},\"id\":\"19182\",\"type\":\"Selection\"},{\"attributes\":{\"axis\":{\"id\":\"18409\"},\"dimension\":1,\"ticker\":null},\"id\":\"18412\",\"type\":\"Grid\"},{\"attributes\":{},\"id\":\"19183\",\"type\":\"UnionRenderers\"},{\"attributes\":{\"data_source\":{\"id\":\"18432\"},\"glyph\":{\"id\":\"18433\"},\"hover_glyph\":null,\"muted_glyph\":null,\"nonselection_glyph\":{\"id\":\"18434\"},\"selection_glyph\":null,\"view\":{\"id\":\"18436\"}},\"id\":\"18435\",\"type\":\"GlyphRenderer\"},{\"attributes\":{\"num_minor_ticks\":5,\"tickers\":[{\"id\":\"19168\"},{\"id\":\"19169\"},{\"id\":\"19170\"},{\"id\":\"19171\"},{\"id\":\"19172\"},{\"id\":\"19173\"},{\"id\":\"19174\"},{\"id\":\"19175\"},{\"id\":\"19176\"},{\"id\":\"19177\"},{\"id\":\"19178\"},{\"id\":\"19179\"}]},\"id\":\"18406\",\"type\":\"DatetimeTicker\"}],\"root_ids\":[\"18394\"]},\"title\":\"Bokeh Application\",\"version\":\"2.2.1\"}};\n",
       "  var render_items = [{\"docid\":\"3ec8aed5-407f-4b8d-9939-4f7c4e6f6e2c\",\"root_ids\":[\"18394\"],\"roots\":{\"18394\":\"7bea04a6-9ea4-480c-9b3b-02664989d0bb\"}}];\n",
       "  root.Bokeh.embed.embed_items_notebook(docs_json, render_items);\n",
       "\n",
       "  }\n",
       "  if (root.Bokeh !== undefined) {\n",
       "    embed_document(root);\n",
       "  } else {\n",
       "    var attempts = 0;\n",
       "    var timer = setInterval(function(root) {\n",
       "      if (root.Bokeh !== undefined) {\n",
       "        clearInterval(timer);\n",
       "        embed_document(root);\n",
       "      } else {\n",
       "        attempts++;\n",
       "        if (attempts > 100) {\n",
       "          clearInterval(timer);\n",
       "          console.log(\"Bokeh: ERROR: Unable to run BokehJS code because BokehJS library is missing\");\n",
       "        }\n",
       "      }\n",
       "    }, 10, root)\n",
       "  }\n",
       "})(window);"
      ],
      "application/vnd.bokehjs_exec.v0+json": ""
     },
     "metadata": {
      "application/vnd.bokehjs_exec.v0+json": {
       "id": "18394"
      }
     },
     "output_type": "display_data"
    },
    {
     "name": "stdout",
     "output_type": "stream",
     "text": [
      "Venezuela\n"
     ]
    },
    {
     "data": {
      "text/html": [
       "\n",
       "\n",
       "\n",
       "\n",
       "\n",
       "\n",
       "  <div class=\"bk-root\" id=\"5ccf0fda-96b7-466d-8807-acf339e1ab45\" data-root-id=\"19295\"></div>\n"
      ]
     },
     "metadata": {},
     "output_type": "display_data"
    },
    {
     "data": {
      "application/javascript": [
       "(function(root) {\n",
       "  function embed_document(root) {\n",
       "    \n",
       "  var docs_json = {\"4f142f2a-a713-4386-af40-39850351427b\":{\"roots\":{\"references\":[{\"attributes\":{\"below\":[{\"id\":\"19306\"}],\"center\":[{\"id\":\"19309\"},{\"id\":\"19313\"}],\"left\":[{\"id\":\"19310\"}],\"plot_height\":300,\"plot_width\":500,\"renderers\":[{\"id\":\"19331\"},{\"id\":\"19336\"}],\"title\":{\"id\":\"19296\"},\"toolbar\":{\"id\":\"19321\"},\"x_range\":{\"id\":\"19298\"},\"x_scale\":{\"id\":\"19302\"},\"y_range\":{\"id\":\"19300\"},\"y_scale\":{\"id\":\"19304\"}},\"id\":\"19295\",\"subtype\":\"Figure\",\"type\":\"Plot\"},{\"attributes\":{},\"id\":\"20104\",\"type\":\"UnionRenderers\"},{\"attributes\":{\"axis\":{\"id\":\"19310\"},\"dimension\":1,\"ticker\":null},\"id\":\"19313\",\"type\":\"Grid\"},{\"attributes\":{},\"id\":\"19298\",\"type\":\"DataRange1d\"},{\"attributes\":{\"fill_alpha\":{\"value\":0.1},\"fill_color\":{\"value\":\"#1f77b4\"},\"line_alpha\":{\"value\":0.1},\"line_color\":{\"value\":\"#1f77b4\"},\"x\":{\"field\":\"x\"},\"y\":{\"field\":\"y\"}},\"id\":\"19330\",\"type\":\"Scatter\"},{\"attributes\":{},\"id\":\"19317\",\"type\":\"SaveTool\"},{\"attributes\":{\"source\":{\"id\":\"19328\"}},\"id\":\"19332\",\"type\":\"CDSView\"},{\"attributes\":{},\"id\":\"19300\",\"type\":\"DataRange1d\"},{\"attributes\":{},\"id\":\"20105\",\"type\":\"Selection\"},{\"attributes\":{\"overlay\":{\"id\":\"19320\"}},\"id\":\"19316\",\"type\":\"BoxZoomTool\"},{\"attributes\":{},\"id\":\"20089\",\"type\":\"BasicTickFormatter\"},{\"attributes\":{},\"id\":\"19314\",\"type\":\"PanTool\"},{\"attributes\":{},\"id\":\"20106\",\"type\":\"UnionRenderers\"},{\"attributes\":{},\"id\":\"19311\",\"type\":\"BasicTicker\"},{\"attributes\":{\"axis_label\":\"Counts\",\"formatter\":{\"id\":\"20089\"},\"ticker\":{\"id\":\"19311\"}},\"id\":\"19310\",\"type\":\"LinearAxis\"},{\"attributes\":{\"active_drag\":\"auto\",\"active_inspect\":\"auto\",\"active_multi\":null,\"active_scroll\":\"auto\",\"active_tap\":\"auto\",\"tools\":[{\"id\":\"19314\"},{\"id\":\"19315\"},{\"id\":\"19316\"},{\"id\":\"19317\"},{\"id\":\"19318\"},{\"id\":\"19319\"}]},\"id\":\"19321\",\"type\":\"Toolbar\"},{\"attributes\":{},\"id\":\"19315\",\"type\":\"WheelZoomTool\"},{\"attributes\":{},\"id\":\"19319\",\"type\":\"HelpTool\"},{\"attributes\":{\"mantissas\":[1,2,5],\"max_interval\":500.0,\"num_minor_ticks\":0},\"id\":\"20091\",\"type\":\"AdaptiveTicker\"},{\"attributes\":{\"base\":60,\"mantissas\":[1,2,5,10,15,20,30],\"max_interval\":1800000.0,\"min_interval\":1000.0,\"num_minor_ticks\":0},\"id\":\"20092\",\"type\":\"AdaptiveTicker\"},{\"attributes\":{\"data\":{\"x\":{\"__ndarray__\":\"AACAe0hcdEIAAMBDiV50QgAAAAzKYHRCAABA1ApjdEIAAICcS2V0QgAAwGSMZ3RCAAAALc1pdEIAAED1DWx0QgAAgL1ObnRCAADAhY9wdEIAAABO0HJ0QgAAQBYRdXRCAACA3lF3dEIAAMCmknl0QgAAAG/Te3RCAABANxR+dEIAAID/VIB0QgAAwMeVgnRC\",\"dtype\":\"float64\",\"order\":\"little\",\"shape\":[18]},\"y\":[4,7,5,5,6,4,6,7,7,8,9,11,15,13,8,9,6,6]},\"selected\":{\"id\":\"20105\"},\"selection_policy\":{\"id\":\"20106\"}},\"id\":\"19333\",\"type\":\"ColumnDataSource\"},{\"attributes\":{\"days\":[1,2,3,4,5,6,7,8,9,10,11,12,13,14,15,16,17,18,19,20,21,22,23,24,25,26,27,28,29,30,31]},\"id\":\"20094\",\"type\":\"DaysTicker\"},{\"attributes\":{\"axis\":{\"id\":\"19306\"},\"ticker\":null},\"id\":\"19309\",\"type\":\"Grid\"},{\"attributes\":{\"line_color\":\"#1f77b4\",\"x\":{\"field\":\"x\"},\"y\":{\"field\":\"y\"}},\"id\":\"19334\",\"type\":\"Line\"},{\"attributes\":{\"base\":24,\"mantissas\":[1,2,4,6,8,12],\"max_interval\":43200000.0,\"min_interval\":3600000.0,\"num_minor_ticks\":0},\"id\":\"20093\",\"type\":\"AdaptiveTicker\"},{\"attributes\":{},\"id\":\"19318\",\"type\":\"ResetTool\"},{\"attributes\":{\"months\":[0,1,2,3,4,5,6,7,8,9,10,11]},\"id\":\"20098\",\"type\":\"MonthsTicker\"},{\"attributes\":{\"months\":[0,2,4,6,8,10]},\"id\":\"20099\",\"type\":\"MonthsTicker\"},{\"attributes\":{\"days\":[1,4,7,10,13,16,19,22,25,28]},\"id\":\"20095\",\"type\":\"DaysTicker\"},{\"attributes\":{\"days\":[1,15]},\"id\":\"20097\",\"type\":\"DaysTicker\"},{\"attributes\":{\"months\":[0,6]},\"id\":\"20101\",\"type\":\"MonthsTicker\"},{\"attributes\":{\"days\":[1,8,15,22]},\"id\":\"20096\",\"type\":\"DaysTicker\"},{\"attributes\":{\"line_alpha\":0.1,\"line_color\":\"#1f77b4\",\"x\":{\"field\":\"x\"},\"y\":{\"field\":\"y\"}},\"id\":\"19335\",\"type\":\"Line\"},{\"attributes\":{},\"id\":\"20102\",\"type\":\"YearsTicker\"},{\"attributes\":{\"source\":{\"id\":\"19333\"}},\"id\":\"19337\",\"type\":\"CDSView\"},{\"attributes\":{\"months\":[0,4,8]},\"id\":\"20100\",\"type\":\"MonthsTicker\"},{\"attributes\":{},\"id\":\"20087\",\"type\":\"DatetimeTickFormatter\"},{\"attributes\":{\"data_source\":{\"id\":\"19328\"},\"glyph\":{\"id\":\"19329\"},\"hover_glyph\":null,\"muted_glyph\":null,\"nonselection_glyph\":{\"id\":\"19330\"},\"selection_glyph\":null,\"view\":{\"id\":\"19332\"}},\"id\":\"19331\",\"type\":\"GlyphRenderer\"},{\"attributes\":{},\"id\":\"19304\",\"type\":\"LinearScale\"},{\"attributes\":{\"data\":{\"x\":{\"__ndarray__\":\"AACAe0hcdEIAAMBDiV50QgAAAAzKYHRCAABA1ApjdEIAAICcS2V0QgAAwGSMZ3RCAAAALc1pdEIAAED1DWx0QgAAgL1ObnRCAADAhY9wdEIAAABO0HJ0QgAAQBYRdXRCAACA3lF3dEIAAMCmknl0QgAAAG/Te3RCAABANxR+dEIAAID/VIB0QgAAwMeVgnRC\",\"dtype\":\"float64\",\"order\":\"little\",\"shape\":[18]},\"y\":[4,7,5,5,6,4,6,7,7,8,9,11,15,13,8,9,6,6]},\"selected\":{\"id\":\"20103\"},\"selection_policy\":{\"id\":\"20104\"}},\"id\":\"19328\",\"type\":\"ColumnDataSource\"},{\"attributes\":{\"text\":\"Count of weekly active users\"},\"id\":\"19296\",\"type\":\"Title\"},{\"attributes\":{\"axis_label\":\"Time (weekly)\",\"formatter\":{\"id\":\"20087\"},\"ticker\":{\"id\":\"19307\"}},\"id\":\"19306\",\"type\":\"DatetimeAxis\"},{\"attributes\":{\"fill_color\":{\"value\":\"#1f77b4\"},\"line_color\":{\"value\":\"#1f77b4\"},\"x\":{\"field\":\"x\"},\"y\":{\"field\":\"y\"}},\"id\":\"19329\",\"type\":\"Scatter\"},{\"attributes\":{\"bottom_units\":\"screen\",\"fill_alpha\":0.5,\"fill_color\":\"lightgrey\",\"left_units\":\"screen\",\"level\":\"overlay\",\"line_alpha\":1.0,\"line_color\":\"black\",\"line_dash\":[4,4],\"line_width\":2,\"right_units\":\"screen\",\"top_units\":\"screen\"},\"id\":\"19320\",\"type\":\"BoxAnnotation\"},{\"attributes\":{\"data_source\":{\"id\":\"19333\"},\"glyph\":{\"id\":\"19334\"},\"hover_glyph\":null,\"muted_glyph\":null,\"nonselection_glyph\":{\"id\":\"19335\"},\"selection_glyph\":null,\"view\":{\"id\":\"19337\"}},\"id\":\"19336\",\"type\":\"GlyphRenderer\"},{\"attributes\":{\"num_minor_ticks\":5,\"tickers\":[{\"id\":\"20091\"},{\"id\":\"20092\"},{\"id\":\"20093\"},{\"id\":\"20094\"},{\"id\":\"20095\"},{\"id\":\"20096\"},{\"id\":\"20097\"},{\"id\":\"20098\"},{\"id\":\"20099\"},{\"id\":\"20100\"},{\"id\":\"20101\"},{\"id\":\"20102\"}]},\"id\":\"19307\",\"type\":\"DatetimeTicker\"},{\"attributes\":{},\"id\":\"20103\",\"type\":\"Selection\"},{\"attributes\":{},\"id\":\"19302\",\"type\":\"LinearScale\"}],\"root_ids\":[\"19295\"]},\"title\":\"Bokeh Application\",\"version\":\"2.2.1\"}};\n",
       "  var render_items = [{\"docid\":\"4f142f2a-a713-4386-af40-39850351427b\",\"root_ids\":[\"19295\"],\"roots\":{\"19295\":\"5ccf0fda-96b7-466d-8807-acf339e1ab45\"}}];\n",
       "  root.Bokeh.embed.embed_items_notebook(docs_json, render_items);\n",
       "\n",
       "  }\n",
       "  if (root.Bokeh !== undefined) {\n",
       "    embed_document(root);\n",
       "  } else {\n",
       "    var attempts = 0;\n",
       "    var timer = setInterval(function(root) {\n",
       "      if (root.Bokeh !== undefined) {\n",
       "        clearInterval(timer);\n",
       "        embed_document(root);\n",
       "      } else {\n",
       "        attempts++;\n",
       "        if (attempts > 100) {\n",
       "          clearInterval(timer);\n",
       "          console.log(\"Bokeh: ERROR: Unable to run BokehJS code because BokehJS library is missing\");\n",
       "        }\n",
       "      }\n",
       "    }, 10, root)\n",
       "  }\n",
       "})(window);"
      ],
      "application/vnd.bokehjs_exec.v0+json": ""
     },
     "metadata": {
      "application/vnd.bokehjs_exec.v0+json": {
       "id": "19295"
      }
     },
     "output_type": "display_data"
    },
    {
     "name": "stdout",
     "output_type": "stream",
     "text": [
      "Hong Kong\n"
     ]
    },
    {
     "data": {
      "text/html": [
       "\n",
       "\n",
       "\n",
       "\n",
       "\n",
       "\n",
       "  <div class=\"bk-root\" id=\"090800a4-6771-4b78-9935-c03767f0cf68\" data-root-id=\"20218\"></div>\n"
      ]
     },
     "metadata": {},
     "output_type": "display_data"
    },
    {
     "data": {
      "application/javascript": [
       "(function(root) {\n",
       "  function embed_document(root) {\n",
       "    \n",
       "  var docs_json = {\"ad1a2ad0-0e38-4fe8-9637-9b433266c53a\":{\"roots\":{\"references\":[{\"attributes\":{\"below\":[{\"id\":\"20229\"}],\"center\":[{\"id\":\"20232\"},{\"id\":\"20236\"}],\"left\":[{\"id\":\"20233\"}],\"plot_height\":300,\"plot_width\":500,\"renderers\":[{\"id\":\"20254\"},{\"id\":\"20259\"}],\"title\":{\"id\":\"20219\"},\"toolbar\":{\"id\":\"20244\"},\"x_range\":{\"id\":\"20221\"},\"x_scale\":{\"id\":\"20225\"},\"y_range\":{\"id\":\"20223\"},\"y_scale\":{\"id\":\"20227\"}},\"id\":\"20218\",\"subtype\":\"Figure\",\"type\":\"Plot\"},{\"attributes\":{\"days\":[1,15]},\"id\":\"21042\",\"type\":\"DaysTicker\"},{\"attributes\":{\"months\":[0,6]},\"id\":\"21046\",\"type\":\"MonthsTicker\"},{\"attributes\":{\"days\":[1,8,15,22]},\"id\":\"21041\",\"type\":\"DaysTicker\"},{\"attributes\":{},\"id\":\"21047\",\"type\":\"YearsTicker\"},{\"attributes\":{},\"id\":\"20234\",\"type\":\"BasicTicker\"},{\"attributes\":{\"months\":[0,4,8]},\"id\":\"21045\",\"type\":\"MonthsTicker\"},{\"attributes\":{},\"id\":\"20240\",\"type\":\"SaveTool\"},{\"attributes\":{\"overlay\":{\"id\":\"20243\"}},\"id\":\"20239\",\"type\":\"BoxZoomTool\"},{\"attributes\":{},\"id\":\"20237\",\"type\":\"PanTool\"},{\"attributes\":{\"data_source\":{\"id\":\"20256\"},\"glyph\":{\"id\":\"20257\"},\"hover_glyph\":null,\"muted_glyph\":null,\"nonselection_glyph\":{\"id\":\"20258\"},\"selection_glyph\":null,\"view\":{\"id\":\"20260\"}},\"id\":\"20259\",\"type\":\"GlyphRenderer\"},{\"attributes\":{\"active_drag\":\"auto\",\"active_inspect\":\"auto\",\"active_multi\":null,\"active_scroll\":\"auto\",\"active_tap\":\"auto\",\"tools\":[{\"id\":\"20237\"},{\"id\":\"20238\"},{\"id\":\"20239\"},{\"id\":\"20240\"},{\"id\":\"20241\"},{\"id\":\"20242\"}]},\"id\":\"20244\",\"type\":\"Toolbar\"},{\"attributes\":{},\"id\":\"21048\",\"type\":\"Selection\"},{\"attributes\":{\"axis_label\":\"Counts\",\"formatter\":{\"id\":\"21034\"},\"ticker\":{\"id\":\"20234\"}},\"id\":\"20233\",\"type\":\"LinearAxis\"},{\"attributes\":{},\"id\":\"21051\",\"type\":\"UnionRenderers\"},{\"attributes\":{},\"id\":\"20241\",\"type\":\"ResetTool\"},{\"attributes\":{},\"id\":\"21049\",\"type\":\"UnionRenderers\"},{\"attributes\":{},\"id\":\"20238\",\"type\":\"WheelZoomTool\"},{\"attributes\":{},\"id\":\"20242\",\"type\":\"HelpTool\"},{\"attributes\":{\"data\":{\"x\":{\"__ndarray__\":\"AACAe0hcdEIAAMBDiV50QgAAAAzKYHRCAABA1ApjdEIAAICcS2V0QgAAwGSMZ3RCAAAALc1pdEIAAED1DWx0QgAAgL1ObnRCAADAhY9wdEIAAABO0HJ0QgAAQBYRdXRCAACA3lF3dEIAAMCmknl0QgAAAG/Te3RCAABANxR+dEIAAID/VIB0QgAAwMeVgnRC\",\"dtype\":\"float64\",\"order\":\"little\",\"shape\":[18]},\"y\":[1,7,9,9,7,8,4,4,6,5,4,5,6,7,4,6,5,5]},\"selected\":{\"id\":\"21050\"},\"selection_policy\":{\"id\":\"21051\"}},\"id\":\"20256\",\"type\":\"ColumnDataSource\"},{\"attributes\":{\"text\":\"Count of weekly active users\"},\"id\":\"20219\",\"type\":\"Title\"},{\"attributes\":{\"fill_alpha\":{\"value\":0.1},\"fill_color\":{\"value\":\"#1f77b4\"},\"line_alpha\":{\"value\":0.1},\"line_color\":{\"value\":\"#1f77b4\"},\"x\":{\"field\":\"x\"},\"y\":{\"field\":\"y\"}},\"id\":\"20253\",\"type\":\"Scatter\"},{\"attributes\":{\"data\":{\"x\":{\"__ndarray__\":\"AACAe0hcdEIAAMBDiV50QgAAAAzKYHRCAABA1ApjdEIAAICcS2V0QgAAwGSMZ3RCAAAALc1pdEIAAED1DWx0QgAAgL1ObnRCAADAhY9wdEIAAABO0HJ0QgAAQBYRdXRCAACA3lF3dEIAAMCmknl0QgAAAG/Te3RCAABANxR+dEIAAID/VIB0QgAAwMeVgnRC\",\"dtype\":\"float64\",\"order\":\"little\",\"shape\":[18]},\"y\":[1,7,9,9,7,8,4,4,6,5,4,5,6,7,4,6,5,5]},\"selected\":{\"id\":\"21048\"},\"selection_policy\":{\"id\":\"21049\"}},\"id\":\"20251\",\"type\":\"ColumnDataSource\"},{\"attributes\":{\"line_color\":\"#1f77b4\",\"x\":{\"field\":\"x\"},\"y\":{\"field\":\"y\"}},\"id\":\"20257\",\"type\":\"Line\"},{\"attributes\":{\"source\":{\"id\":\"20251\"}},\"id\":\"20255\",\"type\":\"CDSView\"},{\"attributes\":{\"data_source\":{\"id\":\"20251\"},\"glyph\":{\"id\":\"20252\"},\"hover_glyph\":null,\"muted_glyph\":null,\"nonselection_glyph\":{\"id\":\"20253\"},\"selection_glyph\":null,\"view\":{\"id\":\"20255\"}},\"id\":\"20254\",\"type\":\"GlyphRenderer\"},{\"attributes\":{},\"id\":\"21034\",\"type\":\"BasicTickFormatter\"},{\"attributes\":{\"source\":{\"id\":\"20256\"}},\"id\":\"20260\",\"type\":\"CDSView\"},{\"attributes\":{\"fill_color\":{\"value\":\"#1f77b4\"},\"line_color\":{\"value\":\"#1f77b4\"},\"x\":{\"field\":\"x\"},\"y\":{\"field\":\"y\"}},\"id\":\"20252\",\"type\":\"Scatter\"},{\"attributes\":{},\"id\":\"20223\",\"type\":\"DataRange1d\"},{\"attributes\":{\"line_alpha\":0.1,\"line_color\":\"#1f77b4\",\"x\":{\"field\":\"x\"},\"y\":{\"field\":\"y\"}},\"id\":\"20258\",\"type\":\"Line\"},{\"attributes\":{},\"id\":\"20221\",\"type\":\"DataRange1d\"},{\"attributes\":{},\"id\":\"21050\",\"type\":\"Selection\"},{\"attributes\":{},\"id\":\"20225\",\"type\":\"LinearScale\"},{\"attributes\":{\"mantissas\":[1,2,5],\"max_interval\":500.0,\"num_minor_ticks\":0},\"id\":\"21036\",\"type\":\"AdaptiveTicker\"},{\"attributes\":{},\"id\":\"20227\",\"type\":\"LinearScale\"},{\"attributes\":{\"base\":60,\"mantissas\":[1,2,5,10,15,20,30],\"max_interval\":1800000.0,\"min_interval\":1000.0,\"num_minor_ticks\":0},\"id\":\"21037\",\"type\":\"AdaptiveTicker\"},{\"attributes\":{\"axis\":{\"id\":\"20233\"},\"dimension\":1,\"ticker\":null},\"id\":\"20236\",\"type\":\"Grid\"},{\"attributes\":{\"axis\":{\"id\":\"20229\"},\"ticker\":null},\"id\":\"20232\",\"type\":\"Grid\"},{\"attributes\":{\"days\":[1,2,3,4,5,6,7,8,9,10,11,12,13,14,15,16,17,18,19,20,21,22,23,24,25,26,27,28,29,30,31]},\"id\":\"21039\",\"type\":\"DaysTicker\"},{\"attributes\":{\"num_minor_ticks\":5,\"tickers\":[{\"id\":\"21036\"},{\"id\":\"21037\"},{\"id\":\"21038\"},{\"id\":\"21039\"},{\"id\":\"21040\"},{\"id\":\"21041\"},{\"id\":\"21042\"},{\"id\":\"21043\"},{\"id\":\"21044\"},{\"id\":\"21045\"},{\"id\":\"21046\"},{\"id\":\"21047\"}]},\"id\":\"20230\",\"type\":\"DatetimeTicker\"},{\"attributes\":{\"bottom_units\":\"screen\",\"fill_alpha\":0.5,\"fill_color\":\"lightgrey\",\"left_units\":\"screen\",\"level\":\"overlay\",\"line_alpha\":1.0,\"line_color\":\"black\",\"line_dash\":[4,4],\"line_width\":2,\"right_units\":\"screen\",\"top_units\":\"screen\"},\"id\":\"20243\",\"type\":\"BoxAnnotation\"},{\"attributes\":{\"base\":24,\"mantissas\":[1,2,4,6,8,12],\"max_interval\":43200000.0,\"min_interval\":3600000.0,\"num_minor_ticks\":0},\"id\":\"21038\",\"type\":\"AdaptiveTicker\"},{\"attributes\":{},\"id\":\"21032\",\"type\":\"DatetimeTickFormatter\"},{\"attributes\":{\"months\":[0,1,2,3,4,5,6,7,8,9,10,11]},\"id\":\"21043\",\"type\":\"MonthsTicker\"},{\"attributes\":{\"axis_label\":\"Time (weekly)\",\"formatter\":{\"id\":\"21032\"},\"ticker\":{\"id\":\"20230\"}},\"id\":\"20229\",\"type\":\"DatetimeAxis\"},{\"attributes\":{\"months\":[0,2,4,6,8,10]},\"id\":\"21044\",\"type\":\"MonthsTicker\"},{\"attributes\":{\"days\":[1,4,7,10,13,16,19,22,25,28]},\"id\":\"21040\",\"type\":\"DaysTicker\"}],\"root_ids\":[\"20218\"]},\"title\":\"Bokeh Application\",\"version\":\"2.2.1\"}};\n",
       "  var render_items = [{\"docid\":\"ad1a2ad0-0e38-4fe8-9637-9b433266c53a\",\"root_ids\":[\"20218\"],\"roots\":{\"20218\":\"090800a4-6771-4b78-9935-c03767f0cf68\"}}];\n",
       "  root.Bokeh.embed.embed_items_notebook(docs_json, render_items);\n",
       "\n",
       "  }\n",
       "  if (root.Bokeh !== undefined) {\n",
       "    embed_document(root);\n",
       "  } else {\n",
       "    var attempts = 0;\n",
       "    var timer = setInterval(function(root) {\n",
       "      if (root.Bokeh !== undefined) {\n",
       "        clearInterval(timer);\n",
       "        embed_document(root);\n",
       "      } else {\n",
       "        attempts++;\n",
       "        if (attempts > 100) {\n",
       "          clearInterval(timer);\n",
       "          console.log(\"Bokeh: ERROR: Unable to run BokehJS code because BokehJS library is missing\");\n",
       "        }\n",
       "      }\n",
       "    }, 10, root)\n",
       "  }\n",
       "})(window);"
      ],
      "application/vnd.bokehjs_exec.v0+json": ""
     },
     "metadata": {
      "application/vnd.bokehjs_exec.v0+json": {
       "id": "20218"
      }
     },
     "output_type": "display_data"
    },
    {
     "name": "stdout",
     "output_type": "stream",
     "text": [
      "Switzerland\n"
     ]
    },
    {
     "data": {
      "text/html": [
       "\n",
       "\n",
       "\n",
       "\n",
       "\n",
       "\n",
       "  <div class=\"bk-root\" id=\"29fc912e-4e9b-4aad-a077-f1af283fdd33\" data-root-id=\"21163\"></div>\n"
      ]
     },
     "metadata": {},
     "output_type": "display_data"
    },
    {
     "data": {
      "application/javascript": [
       "(function(root) {\n",
       "  function embed_document(root) {\n",
       "    \n",
       "  var docs_json = {\"8481af41-1a37-4b2c-af9c-43c0195dc736\":{\"roots\":{\"references\":[{\"attributes\":{\"below\":[{\"id\":\"21174\"}],\"center\":[{\"id\":\"21177\"},{\"id\":\"21181\"}],\"left\":[{\"id\":\"21178\"}],\"plot_height\":300,\"plot_width\":500,\"renderers\":[{\"id\":\"21199\"},{\"id\":\"21204\"}],\"title\":{\"id\":\"21164\"},\"toolbar\":{\"id\":\"21189\"},\"x_range\":{\"id\":\"21166\"},\"x_scale\":{\"id\":\"21170\"},\"y_range\":{\"id\":\"21168\"},\"y_scale\":{\"id\":\"21172\"}},\"id\":\"21163\",\"subtype\":\"Figure\",\"type\":\"Plot\"},{\"attributes\":{\"base\":60,\"mantissas\":[1,2,5,10,15,20,30],\"max_interval\":1800000.0,\"min_interval\":1000.0,\"num_minor_ticks\":0},\"id\":\"22004\",\"type\":\"AdaptiveTicker\"},{\"attributes\":{\"days\":[1,8,15,22]},\"id\":\"22008\",\"type\":\"DaysTicker\"},{\"attributes\":{\"months\":[0,4,8]},\"id\":\"22012\",\"type\":\"MonthsTicker\"},{\"attributes\":{\"data_source\":{\"id\":\"21201\"},\"glyph\":{\"id\":\"21202\"},\"hover_glyph\":null,\"muted_glyph\":null,\"nonselection_glyph\":{\"id\":\"21203\"},\"selection_glyph\":null,\"view\":{\"id\":\"21205\"}},\"id\":\"21204\",\"type\":\"GlyphRenderer\"},{\"attributes\":{},\"id\":\"21999\",\"type\":\"DatetimeTickFormatter\"},{\"attributes\":{\"days\":[1,4,7,10,13,16,19,22,25,28]},\"id\":\"22007\",\"type\":\"DaysTicker\"},{\"attributes\":{\"num_minor_ticks\":5,\"tickers\":[{\"id\":\"22003\"},{\"id\":\"22004\"},{\"id\":\"22005\"},{\"id\":\"22006\"},{\"id\":\"22007\"},{\"id\":\"22008\"},{\"id\":\"22009\"},{\"id\":\"22010\"},{\"id\":\"22011\"},{\"id\":\"22012\"},{\"id\":\"22013\"},{\"id\":\"22014\"}]},\"id\":\"21175\",\"type\":\"DatetimeTicker\"},{\"attributes\":{\"bottom_units\":\"screen\",\"fill_alpha\":0.5,\"fill_color\":\"lightgrey\",\"left_units\":\"screen\",\"level\":\"overlay\",\"line_alpha\":1.0,\"line_color\":\"black\",\"line_dash\":[4,4],\"line_width\":2,\"right_units\":\"screen\",\"top_units\":\"screen\"},\"id\":\"21188\",\"type\":\"BoxAnnotation\"},{\"attributes\":{},\"id\":\"22015\",\"type\":\"Selection\"},{\"attributes\":{\"days\":[1,15]},\"id\":\"22009\",\"type\":\"DaysTicker\"},{\"attributes\":{\"axis\":{\"id\":\"21174\"},\"ticker\":null},\"id\":\"21177\",\"type\":\"Grid\"},{\"attributes\":{},\"id\":\"21187\",\"type\":\"HelpTool\"},{\"attributes\":{},\"id\":\"22016\",\"type\":\"UnionRenderers\"},{\"attributes\":{\"text\":\"Count of weekly active users\"},\"id\":\"21164\",\"type\":\"Title\"},{\"attributes\":{\"line_alpha\":0.1,\"line_color\":\"#1f77b4\",\"x\":{\"field\":\"x\"},\"y\":{\"field\":\"y\"}},\"id\":\"21203\",\"type\":\"Line\"},{\"attributes\":{},\"id\":\"21183\",\"type\":\"WheelZoomTool\"},{\"attributes\":{},\"id\":\"21185\",\"type\":\"SaveTool\"},{\"attributes\":{},\"id\":\"22014\",\"type\":\"YearsTicker\"},{\"attributes\":{\"axis_label\":\"Counts\",\"formatter\":{\"id\":\"22001\"},\"ticker\":{\"id\":\"21179\"}},\"id\":\"21178\",\"type\":\"LinearAxis\"},{\"attributes\":{},\"id\":\"21182\",\"type\":\"PanTool\"},{\"attributes\":{},\"id\":\"21179\",\"type\":\"BasicTicker\"},{\"attributes\":{},\"id\":\"22017\",\"type\":\"Selection\"},{\"attributes\":{\"overlay\":{\"id\":\"21188\"}},\"id\":\"21184\",\"type\":\"BoxZoomTool\"},{\"attributes\":{},\"id\":\"22018\",\"type\":\"UnionRenderers\"},{\"attributes\":{\"axis_label\":\"Time (weekly)\",\"formatter\":{\"id\":\"21999\"},\"ticker\":{\"id\":\"21175\"}},\"id\":\"21174\",\"type\":\"DatetimeAxis\"},{\"attributes\":{\"fill_color\":{\"value\":\"#1f77b4\"},\"line_color\":{\"value\":\"#1f77b4\"},\"x\":{\"field\":\"x\"},\"y\":{\"field\":\"y\"}},\"id\":\"21197\",\"type\":\"Scatter\"},{\"attributes\":{\"active_drag\":\"auto\",\"active_inspect\":\"auto\",\"active_multi\":null,\"active_scroll\":\"auto\",\"active_tap\":\"auto\",\"tools\":[{\"id\":\"21182\"},{\"id\":\"21183\"},{\"id\":\"21184\"},{\"id\":\"21185\"},{\"id\":\"21186\"},{\"id\":\"21187\"}]},\"id\":\"21189\",\"type\":\"Toolbar\"},{\"attributes\":{},\"id\":\"21186\",\"type\":\"ResetTool\"},{\"attributes\":{},\"id\":\"21166\",\"type\":\"DataRange1d\"},{\"attributes\":{\"mantissas\":[1,2,5],\"max_interval\":500.0,\"num_minor_ticks\":0},\"id\":\"22003\",\"type\":\"AdaptiveTicker\"},{\"attributes\":{},\"id\":\"21172\",\"type\":\"LinearScale\"},{\"attributes\":{\"months\":[0,1,2,3,4,5,6,7,8,9,10,11]},\"id\":\"22010\",\"type\":\"MonthsTicker\"},{\"attributes\":{},\"id\":\"21170\",\"type\":\"LinearScale\"},{\"attributes\":{\"data\":{\"x\":{\"__ndarray__\":\"AACAe0hcdEIAAMBDiV50QgAAAAzKYHRCAABA1ApjdEIAAICcS2V0QgAAwGSMZ3RCAAAALc1pdEIAAED1DWx0QgAAgL1ObnRCAADAhY9wdEIAAABO0HJ0QgAAQBYRdXRCAACA3lF3dEIAAMCmknl0QgAAAG/Te3RCAABANxR+dEIAAID/VIB0QgAAwMeVgnRC\",\"dtype\":\"float64\",\"order\":\"little\",\"shape\":[18]},\"y\":[3,9,9,9,12,12,10,14,12,13,15,13,16,17,14,13,11,9]},\"selected\":{\"id\":\"22017\"},\"selection_policy\":{\"id\":\"22018\"}},\"id\":\"21201\",\"type\":\"ColumnDataSource\"},{\"attributes\":{\"fill_alpha\":{\"value\":0.1},\"fill_color\":{\"value\":\"#1f77b4\"},\"line_alpha\":{\"value\":0.1},\"line_color\":{\"value\":\"#1f77b4\"},\"x\":{\"field\":\"x\"},\"y\":{\"field\":\"y\"}},\"id\":\"21198\",\"type\":\"Scatter\"},{\"attributes\":{\"data\":{\"x\":{\"__ndarray__\":\"AACAe0hcdEIAAMBDiV50QgAAAAzKYHRCAABA1ApjdEIAAICcS2V0QgAAwGSMZ3RCAAAALc1pdEIAAED1DWx0QgAAgL1ObnRCAADAhY9wdEIAAABO0HJ0QgAAQBYRdXRCAACA3lF3dEIAAMCmknl0QgAAAG/Te3RCAABANxR+dEIAAID/VIB0QgAAwMeVgnRC\",\"dtype\":\"float64\",\"order\":\"little\",\"shape\":[18]},\"y\":[3,9,9,9,12,12,10,14,12,13,15,13,16,17,14,13,11,9]},\"selected\":{\"id\":\"22015\"},\"selection_policy\":{\"id\":\"22016\"}},\"id\":\"21196\",\"type\":\"ColumnDataSource\"},{\"attributes\":{\"base\":24,\"mantissas\":[1,2,4,6,8,12],\"max_interval\":43200000.0,\"min_interval\":3600000.0,\"num_minor_ticks\":0},\"id\":\"22005\",\"type\":\"AdaptiveTicker\"},{\"attributes\":{\"line_color\":\"#1f77b4\",\"x\":{\"field\":\"x\"},\"y\":{\"field\":\"y\"}},\"id\":\"21202\",\"type\":\"Line\"},{\"attributes\":{},\"id\":\"22001\",\"type\":\"BasicTickFormatter\"},{\"attributes\":{\"source\":{\"id\":\"21196\"}},\"id\":\"21200\",\"type\":\"CDSView\"},{\"attributes\":{\"data_source\":{\"id\":\"21196\"},\"glyph\":{\"id\":\"21197\"},\"hover_glyph\":null,\"muted_glyph\":null,\"nonselection_glyph\":{\"id\":\"21198\"},\"selection_glyph\":null,\"view\":{\"id\":\"21200\"}},\"id\":\"21199\",\"type\":\"GlyphRenderer\"},{\"attributes\":{\"axis\":{\"id\":\"21178\"},\"dimension\":1,\"ticker\":null},\"id\":\"21181\",\"type\":\"Grid\"},{\"attributes\":{\"days\":[1,2,3,4,5,6,7,8,9,10,11,12,13,14,15,16,17,18,19,20,21,22,23,24,25,26,27,28,29,30,31]},\"id\":\"22006\",\"type\":\"DaysTicker\"},{\"attributes\":{\"source\":{\"id\":\"21201\"}},\"id\":\"21205\",\"type\":\"CDSView\"},{\"attributes\":{\"months\":[0,6]},\"id\":\"22013\",\"type\":\"MonthsTicker\"},{\"attributes\":{},\"id\":\"21168\",\"type\":\"DataRange1d\"},{\"attributes\":{\"months\":[0,2,4,6,8,10]},\"id\":\"22011\",\"type\":\"MonthsTicker\"}],\"root_ids\":[\"21163\"]},\"title\":\"Bokeh Application\",\"version\":\"2.2.1\"}};\n",
       "  var render_items = [{\"docid\":\"8481af41-1a37-4b2c-af9c-43c0195dc736\",\"root_ids\":[\"21163\"],\"roots\":{\"21163\":\"29fc912e-4e9b-4aad-a077-f1af283fdd33\"}}];\n",
       "  root.Bokeh.embed.embed_items_notebook(docs_json, render_items);\n",
       "\n",
       "  }\n",
       "  if (root.Bokeh !== undefined) {\n",
       "    embed_document(root);\n",
       "  } else {\n",
       "    var attempts = 0;\n",
       "    var timer = setInterval(function(root) {\n",
       "      if (root.Bokeh !== undefined) {\n",
       "        clearInterval(timer);\n",
       "        embed_document(root);\n",
       "      } else {\n",
       "        attempts++;\n",
       "        if (attempts > 100) {\n",
       "          clearInterval(timer);\n",
       "          console.log(\"Bokeh: ERROR: Unable to run BokehJS code because BokehJS library is missing\");\n",
       "        }\n",
       "      }\n",
       "    }, 10, root)\n",
       "  }\n",
       "})(window);"
      ],
      "application/vnd.bokehjs_exec.v0+json": ""
     },
     "metadata": {
      "application/vnd.bokehjs_exec.v0+json": {
       "id": "21163"
      }
     },
     "output_type": "display_data"
    },
    {
     "name": "stdout",
     "output_type": "stream",
     "text": [
      "Denmark\n"
     ]
    },
    {
     "data": {
      "text/html": [
       "\n",
       "\n",
       "\n",
       "\n",
       "\n",
       "\n",
       "  <div class=\"bk-root\" id=\"ee4c314b-7902-451d-b570-cc5bb8dfff78\" data-root-id=\"22130\"></div>\n"
      ]
     },
     "metadata": {},
     "output_type": "display_data"
    },
    {
     "data": {
      "application/javascript": [
       "(function(root) {\n",
       "  function embed_document(root) {\n",
       "    \n",
       "  var docs_json = {\"7a80dbdb-5a26-49c1-afd7-fcfd0a49bd7a\":{\"roots\":{\"references\":[{\"attributes\":{\"below\":[{\"id\":\"22141\"}],\"center\":[{\"id\":\"22144\"},{\"id\":\"22148\"}],\"left\":[{\"id\":\"22145\"}],\"plot_height\":300,\"plot_width\":500,\"renderers\":[{\"id\":\"22166\"},{\"id\":\"22171\"}],\"title\":{\"id\":\"22131\"},\"toolbar\":{\"id\":\"22156\"},\"x_range\":{\"id\":\"22133\"},\"x_scale\":{\"id\":\"22137\"},\"y_range\":{\"id\":\"22135\"},\"y_scale\":{\"id\":\"22139\"}},\"id\":\"22130\",\"subtype\":\"Figure\",\"type\":\"Plot\"},{\"attributes\":{},\"id\":\"22154\",\"type\":\"HelpTool\"},{\"attributes\":{\"months\":[0,1,2,3,4,5,6,7,8,9,10,11]},\"id\":\"22999\",\"type\":\"MonthsTicker\"},{\"attributes\":{},\"id\":\"22988\",\"type\":\"DatetimeTickFormatter\"},{\"attributes\":{\"months\":[0,2,4,6,8,10]},\"id\":\"23000\",\"type\":\"MonthsTicker\"},{\"attributes\":{},\"id\":\"22150\",\"type\":\"WheelZoomTool\"},{\"attributes\":{\"days\":[1,4,7,10,13,16,19,22,25,28]},\"id\":\"22996\",\"type\":\"DaysTicker\"},{\"attributes\":{},\"id\":\"22137\",\"type\":\"LinearScale\"},{\"attributes\":{\"days\":[1,15]},\"id\":\"22998\",\"type\":\"DaysTicker\"},{\"attributes\":{},\"id\":\"22133\",\"type\":\"DataRange1d\"},{\"attributes\":{\"source\":{\"id\":\"22168\"}},\"id\":\"22172\",\"type\":\"CDSView\"},{\"attributes\":{\"months\":[0,6]},\"id\":\"23002\",\"type\":\"MonthsTicker\"},{\"attributes\":{\"axis\":{\"id\":\"22145\"},\"dimension\":1,\"ticker\":null},\"id\":\"22148\",\"type\":\"Grid\"},{\"attributes\":{\"days\":[1,8,15,22]},\"id\":\"22997\",\"type\":\"DaysTicker\"},{\"attributes\":{\"text\":\"Count of weekly active users\"},\"id\":\"22131\",\"type\":\"Title\"},{\"attributes\":{\"line_alpha\":0.1,\"line_color\":\"#1f77b4\",\"x\":{\"field\":\"x\"},\"y\":{\"field\":\"y\"}},\"id\":\"22170\",\"type\":\"Line\"},{\"attributes\":{\"base\":24,\"mantissas\":[1,2,4,6,8,12],\"max_interval\":43200000.0,\"min_interval\":3600000.0,\"num_minor_ticks\":0},\"id\":\"22994\",\"type\":\"AdaptiveTicker\"},{\"attributes\":{},\"id\":\"23003\",\"type\":\"YearsTicker\"},{\"attributes\":{\"axis_label\":\"Counts\",\"formatter\":{\"id\":\"22990\"},\"ticker\":{\"id\":\"22146\"}},\"id\":\"22145\",\"type\":\"LinearAxis\"},{\"attributes\":{},\"id\":\"22139\",\"type\":\"LinearScale\"},{\"attributes\":{\"months\":[0,4,8]},\"id\":\"23001\",\"type\":\"MonthsTicker\"},{\"attributes\":{\"line_color\":\"#1f77b4\",\"x\":{\"field\":\"x\"},\"y\":{\"field\":\"y\"}},\"id\":\"22169\",\"type\":\"Line\"},{\"attributes\":{\"axis\":{\"id\":\"22141\"},\"ticker\":null},\"id\":\"22144\",\"type\":\"Grid\"},{\"attributes\":{\"source\":{\"id\":\"22163\"}},\"id\":\"22167\",\"type\":\"CDSView\"},{\"attributes\":{\"fill_color\":{\"value\":\"#1f77b4\"},\"line_color\":{\"value\":\"#1f77b4\"},\"x\":{\"field\":\"x\"},\"y\":{\"field\":\"y\"}},\"id\":\"22164\",\"type\":\"Scatter\"},{\"attributes\":{\"data_source\":{\"id\":\"22163\"},\"glyph\":{\"id\":\"22164\"},\"hover_glyph\":null,\"muted_glyph\":null,\"nonselection_glyph\":{\"id\":\"22165\"},\"selection_glyph\":null,\"view\":{\"id\":\"22167\"}},\"id\":\"22166\",\"type\":\"GlyphRenderer\"},{\"attributes\":{\"num_minor_ticks\":5,\"tickers\":[{\"id\":\"22992\"},{\"id\":\"22993\"},{\"id\":\"22994\"},{\"id\":\"22995\"},{\"id\":\"22996\"},{\"id\":\"22997\"},{\"id\":\"22998\"},{\"id\":\"22999\"},{\"id\":\"23000\"},{\"id\":\"23001\"},{\"id\":\"23002\"},{\"id\":\"23003\"}]},\"id\":\"22142\",\"type\":\"DatetimeTicker\"},{\"attributes\":{},\"id\":\"22135\",\"type\":\"DataRange1d\"},{\"attributes\":{},\"id\":\"23004\",\"type\":\"Selection\"},{\"attributes\":{\"bottom_units\":\"screen\",\"fill_alpha\":0.5,\"fill_color\":\"lightgrey\",\"left_units\":\"screen\",\"level\":\"overlay\",\"line_alpha\":1.0,\"line_color\":\"black\",\"line_dash\":[4,4],\"line_width\":2,\"right_units\":\"screen\",\"top_units\":\"screen\"},\"id\":\"22155\",\"type\":\"BoxAnnotation\"},{\"attributes\":{},\"id\":\"23005\",\"type\":\"UnionRenderers\"},{\"attributes\":{\"data\":{\"x\":{\"__ndarray__\":\"AACAe0hcdEIAAMBDiV50QgAAAAzKYHRCAABA1ApjdEIAAICcS2V0QgAAwGSMZ3RCAAAALc1pdEIAAED1DWx0QgAAgL1ObnRCAADAhY9wdEIAAABO0HJ0QgAAQBYRdXRCAACA3lF3dEIAAMCmknl0QgAAAG/Te3RCAABANxR+dEIAAID/VIB0QgAAwMeVgnRC\",\"dtype\":\"float64\",\"order\":\"little\",\"shape\":[18]},\"y\":[5,5,5,5,8,7,7,11,6,7,11,10,10,10,9,11,8,13]},\"selected\":{\"id\":\"23004\"},\"selection_policy\":{\"id\":\"23005\"}},\"id\":\"22163\",\"type\":\"ColumnDataSource\"},{\"attributes\":{\"axis_label\":\"Time (weekly)\",\"formatter\":{\"id\":\"22988\"},\"ticker\":{\"id\":\"22142\"}},\"id\":\"22141\",\"type\":\"DatetimeAxis\"},{\"attributes\":{},\"id\":\"22146\",\"type\":\"BasicTicker\"},{\"attributes\":{\"fill_alpha\":{\"value\":0.1},\"fill_color\":{\"value\":\"#1f77b4\"},\"line_alpha\":{\"value\":0.1},\"line_color\":{\"value\":\"#1f77b4\"},\"x\":{\"field\":\"x\"},\"y\":{\"field\":\"y\"}},\"id\":\"22165\",\"type\":\"Scatter\"},{\"attributes\":{},\"id\":\"23006\",\"type\":\"Selection\"},{\"attributes\":{\"overlay\":{\"id\":\"22155\"}},\"id\":\"22151\",\"type\":\"BoxZoomTool\"},{\"attributes\":{},\"id\":\"22990\",\"type\":\"BasicTickFormatter\"},{\"attributes\":{\"data\":{\"x\":{\"__ndarray__\":\"AACAe0hcdEIAAMBDiV50QgAAAAzKYHRCAABA1ApjdEIAAICcS2V0QgAAwGSMZ3RCAAAALc1pdEIAAED1DWx0QgAAgL1ObnRCAADAhY9wdEIAAABO0HJ0QgAAQBYRdXRCAACA3lF3dEIAAMCmknl0QgAAAG/Te3RCAABANxR+dEIAAID/VIB0QgAAwMeVgnRC\",\"dtype\":\"float64\",\"order\":\"little\",\"shape\":[18]},\"y\":[5,5,5,5,8,7,7,11,6,7,11,10,10,10,9,11,8,13]},\"selected\":{\"id\":\"23006\"},\"selection_policy\":{\"id\":\"23007\"}},\"id\":\"22168\",\"type\":\"ColumnDataSource\"},{\"attributes\":{},\"id\":\"23007\",\"type\":\"UnionRenderers\"},{\"attributes\":{},\"id\":\"22149\",\"type\":\"PanTool\"},{\"attributes\":{\"data_source\":{\"id\":\"22168\"},\"glyph\":{\"id\":\"22169\"},\"hover_glyph\":null,\"muted_glyph\":null,\"nonselection_glyph\":{\"id\":\"22170\"},\"selection_glyph\":null,\"view\":{\"id\":\"22172\"}},\"id\":\"22171\",\"type\":\"GlyphRenderer\"},{\"attributes\":{},\"id\":\"22152\",\"type\":\"SaveTool\"},{\"attributes\":{\"active_drag\":\"auto\",\"active_inspect\":\"auto\",\"active_multi\":null,\"active_scroll\":\"auto\",\"active_tap\":\"auto\",\"tools\":[{\"id\":\"22149\"},{\"id\":\"22150\"},{\"id\":\"22151\"},{\"id\":\"22152\"},{\"id\":\"22153\"},{\"id\":\"22154\"}]},\"id\":\"22156\",\"type\":\"Toolbar\"},{\"attributes\":{\"mantissas\":[1,2,5],\"max_interval\":500.0,\"num_minor_ticks\":0},\"id\":\"22992\",\"type\":\"AdaptiveTicker\"},{\"attributes\":{\"base\":60,\"mantissas\":[1,2,5,10,15,20,30],\"max_interval\":1800000.0,\"min_interval\":1000.0,\"num_minor_ticks\":0},\"id\":\"22993\",\"type\":\"AdaptiveTicker\"},{\"attributes\":{\"days\":[1,2,3,4,5,6,7,8,9,10,11,12,13,14,15,16,17,18,19,20,21,22,23,24,25,26,27,28,29,30,31]},\"id\":\"22995\",\"type\":\"DaysTicker\"},{\"attributes\":{},\"id\":\"22153\",\"type\":\"ResetTool\"}],\"root_ids\":[\"22130\"]},\"title\":\"Bokeh Application\",\"version\":\"2.2.1\"}};\n",
       "  var render_items = [{\"docid\":\"7a80dbdb-5a26-49c1-afd7-fcfd0a49bd7a\",\"root_ids\":[\"22130\"],\"roots\":{\"22130\":\"ee4c314b-7902-451d-b570-cc5bb8dfff78\"}}];\n",
       "  root.Bokeh.embed.embed_items_notebook(docs_json, render_items);\n",
       "\n",
       "  }\n",
       "  if (root.Bokeh !== undefined) {\n",
       "    embed_document(root);\n",
       "  } else {\n",
       "    var attempts = 0;\n",
       "    var timer = setInterval(function(root) {\n",
       "      if (root.Bokeh !== undefined) {\n",
       "        clearInterval(timer);\n",
       "        embed_document(root);\n",
       "      } else {\n",
       "        attempts++;\n",
       "        if (attempts > 100) {\n",
       "          clearInterval(timer);\n",
       "          console.log(\"Bokeh: ERROR: Unable to run BokehJS code because BokehJS library is missing\");\n",
       "        }\n",
       "      }\n",
       "    }, 10, root)\n",
       "  }\n",
       "})(window);"
      ],
      "application/vnd.bokehjs_exec.v0+json": ""
     },
     "metadata": {
      "application/vnd.bokehjs_exec.v0+json": {
       "id": "22130"
      }
     },
     "output_type": "display_data"
    },
    {
     "name": "stdout",
     "output_type": "stream",
     "text": [
      "Norway\n"
     ]
    },
    {
     "data": {
      "text/html": [
       "\n",
       "\n",
       "\n",
       "\n",
       "\n",
       "\n",
       "  <div class=\"bk-root\" id=\"157f70f7-7ad3-477d-9014-947f1de89d79\" data-root-id=\"23119\"></div>\n"
      ]
     },
     "metadata": {},
     "output_type": "display_data"
    },
    {
     "data": {
      "application/javascript": [
       "(function(root) {\n",
       "  function embed_document(root) {\n",
       "    \n",
       "  var docs_json = {\"31aad6a0-991c-461d-90e1-e20989fe162d\":{\"roots\":{\"references\":[{\"attributes\":{\"below\":[{\"id\":\"23130\"}],\"center\":[{\"id\":\"23133\"},{\"id\":\"23137\"}],\"left\":[{\"id\":\"23134\"}],\"plot_height\":300,\"plot_width\":500,\"renderers\":[{\"id\":\"23155\"},{\"id\":\"23160\"}],\"title\":{\"id\":\"23120\"},\"toolbar\":{\"id\":\"23145\"},\"x_range\":{\"id\":\"23122\"},\"x_scale\":{\"id\":\"23126\"},\"y_range\":{\"id\":\"23124\"},\"y_scale\":{\"id\":\"23128\"}},\"id\":\"23119\",\"subtype\":\"Figure\",\"type\":\"Plot\"},{\"attributes\":{},\"id\":\"24015\",\"type\":\"Selection\"},{\"attributes\":{},\"id\":\"24016\",\"type\":\"UnionRenderers\"},{\"attributes\":{},\"id\":\"23126\",\"type\":\"LinearScale\"},{\"attributes\":{\"data\":{\"x\":{\"__ndarray__\":\"AACAe0hcdEIAAMBDiV50QgAAAAzKYHRCAABA1ApjdEIAAICcS2V0QgAAwGSMZ3RCAAAALc1pdEIAAED1DWx0QgAAgL1ObnRCAADAhY9wdEIAAABO0HJ0QgAAQBYRdXRCAACA3lF3dEIAAMCmknl0QgAAAG/Te3RCAABANxR+dEIAAID/VIB0QgAAwMeVgnRC\",\"dtype\":\"float64\",\"order\":\"little\",\"shape\":[18]},\"y\":[9,10,7,6,8,10,8,6,9,6,7,8,8,7,6,9,5,3]},\"selected\":{\"id\":\"24015\"},\"selection_policy\":{\"id\":\"24016\"}},\"id\":\"23152\",\"type\":\"ColumnDataSource\"},{\"attributes\":{\"axis_label\":\"Counts\",\"formatter\":{\"id\":\"24001\"},\"ticker\":{\"id\":\"23135\"}},\"id\":\"23134\",\"type\":\"LinearAxis\"},{\"attributes\":{\"axis\":{\"id\":\"23134\"},\"dimension\":1,\"ticker\":null},\"id\":\"23137\",\"type\":\"Grid\"},{\"attributes\":{\"data\":{\"x\":{\"__ndarray__\":\"AACAe0hcdEIAAMBDiV50QgAAAAzKYHRCAABA1ApjdEIAAICcS2V0QgAAwGSMZ3RCAAAALc1pdEIAAED1DWx0QgAAgL1ObnRCAADAhY9wdEIAAABO0HJ0QgAAQBYRdXRCAACA3lF3dEIAAMCmknl0QgAAAG/Te3RCAABANxR+dEIAAID/VIB0QgAAwMeVgnRC\",\"dtype\":\"float64\",\"order\":\"little\",\"shape\":[18]},\"y\":[9,10,7,6,8,10,8,6,9,6,7,8,8,7,6,9,5,3]},\"selected\":{\"id\":\"24017\"},\"selection_policy\":{\"id\":\"24018\"}},\"id\":\"23157\",\"type\":\"ColumnDataSource\"},{\"attributes\":{},\"id\":\"23124\",\"type\":\"DataRange1d\"},{\"attributes\":{},\"id\":\"23141\",\"type\":\"SaveTool\"},{\"attributes\":{\"fill_alpha\":{\"value\":0.1},\"fill_color\":{\"value\":\"#1f77b4\"},\"line_alpha\":{\"value\":0.1},\"line_color\":{\"value\":\"#1f77b4\"},\"x\":{\"field\":\"x\"},\"y\":{\"field\":\"y\"}},\"id\":\"23154\",\"type\":\"Scatter\"},{\"attributes\":{},\"id\":\"24001\",\"type\":\"BasicTickFormatter\"},{\"attributes\":{\"axis\":{\"id\":\"23130\"},\"ticker\":null},\"id\":\"23133\",\"type\":\"Grid\"},{\"attributes\":{\"line_color\":\"#1f77b4\",\"x\":{\"field\":\"x\"},\"y\":{\"field\":\"y\"}},\"id\":\"23158\",\"type\":\"Line\"},{\"attributes\":{},\"id\":\"23142\",\"type\":\"ResetTool\"},{\"attributes\":{\"source\":{\"id\":\"23152\"}},\"id\":\"23156\",\"type\":\"CDSView\"},{\"attributes\":{\"axis_label\":\"Time (weekly)\",\"formatter\":{\"id\":\"23999\"},\"ticker\":{\"id\":\"23131\"}},\"id\":\"23130\",\"type\":\"DatetimeAxis\"},{\"attributes\":{\"data_source\":{\"id\":\"23152\"},\"glyph\":{\"id\":\"23153\"},\"hover_glyph\":null,\"muted_glyph\":null,\"nonselection_glyph\":{\"id\":\"23154\"},\"selection_glyph\":null,\"view\":{\"id\":\"23156\"}},\"id\":\"23155\",\"type\":\"GlyphRenderer\"},{\"attributes\":{},\"id\":\"24017\",\"type\":\"Selection\"},{\"attributes\":{\"source\":{\"id\":\"23157\"}},\"id\":\"23161\",\"type\":\"CDSView\"},{\"attributes\":{},\"id\":\"24018\",\"type\":\"UnionRenderers\"},{\"attributes\":{\"mantissas\":[1,2,5],\"max_interval\":500.0,\"num_minor_ticks\":0},\"id\":\"24003\",\"type\":\"AdaptiveTicker\"},{\"attributes\":{\"base\":60,\"mantissas\":[1,2,5,10,15,20,30],\"max_interval\":1800000.0,\"min_interval\":1000.0,\"num_minor_ticks\":0},\"id\":\"24004\",\"type\":\"AdaptiveTicker\"},{\"attributes\":{},\"id\":\"23122\",\"type\":\"DataRange1d\"},{\"attributes\":{\"line_alpha\":0.1,\"line_color\":\"#1f77b4\",\"x\":{\"field\":\"x\"},\"y\":{\"field\":\"y\"}},\"id\":\"23159\",\"type\":\"Line\"},{\"attributes\":{\"days\":[1,2,3,4,5,6,7,8,9,10,11,12,13,14,15,16,17,18,19,20,21,22,23,24,25,26,27,28,29,30,31]},\"id\":\"24006\",\"type\":\"DaysTicker\"},{\"attributes\":{\"fill_color\":{\"value\":\"#1f77b4\"},\"line_color\":{\"value\":\"#1f77b4\"},\"x\":{\"field\":\"x\"},\"y\":{\"field\":\"y\"}},\"id\":\"23153\",\"type\":\"Scatter\"},{\"attributes\":{\"base\":24,\"mantissas\":[1,2,4,6,8,12],\"max_interval\":43200000.0,\"min_interval\":3600000.0,\"num_minor_ticks\":0},\"id\":\"24005\",\"type\":\"AdaptiveTicker\"},{\"attributes\":{\"months\":[0,1,2,3,4,5,6,7,8,9,10,11]},\"id\":\"24010\",\"type\":\"MonthsTicker\"},{\"attributes\":{\"text\":\"Count of weekly active users\"},\"id\":\"23120\",\"type\":\"Title\"},{\"attributes\":{},\"id\":\"23999\",\"type\":\"DatetimeTickFormatter\"},{\"attributes\":{\"months\":[0,2,4,6,8,10]},\"id\":\"24011\",\"type\":\"MonthsTicker\"},{\"attributes\":{\"days\":[1,4,7,10,13,16,19,22,25,28]},\"id\":\"24007\",\"type\":\"DaysTicker\"},{\"attributes\":{\"days\":[1,15]},\"id\":\"24009\",\"type\":\"DaysTicker\"},{\"attributes\":{\"months\":[0,6]},\"id\":\"24013\",\"type\":\"MonthsTicker\"},{\"attributes\":{\"days\":[1,8,15,22]},\"id\":\"24008\",\"type\":\"DaysTicker\"},{\"attributes\":{},\"id\":\"23138\",\"type\":\"PanTool\"},{\"attributes\":{},\"id\":\"24014\",\"type\":\"YearsTicker\"},{\"attributes\":{\"bottom_units\":\"screen\",\"fill_alpha\":0.5,\"fill_color\":\"lightgrey\",\"left_units\":\"screen\",\"level\":\"overlay\",\"line_alpha\":1.0,\"line_color\":\"black\",\"line_dash\":[4,4],\"line_width\":2,\"right_units\":\"screen\",\"top_units\":\"screen\"},\"id\":\"23144\",\"type\":\"BoxAnnotation\"},{\"attributes\":{},\"id\":\"23143\",\"type\":\"HelpTool\"},{\"attributes\":{},\"id\":\"23128\",\"type\":\"LinearScale\"},{\"attributes\":{\"overlay\":{\"id\":\"23144\"}},\"id\":\"23140\",\"type\":\"BoxZoomTool\"},{\"attributes\":{\"months\":[0,4,8]},\"id\":\"24012\",\"type\":\"MonthsTicker\"},{\"attributes\":{\"active_drag\":\"auto\",\"active_inspect\":\"auto\",\"active_multi\":null,\"active_scroll\":\"auto\",\"active_tap\":\"auto\",\"tools\":[{\"id\":\"23138\"},{\"id\":\"23139\"},{\"id\":\"23140\"},{\"id\":\"23141\"},{\"id\":\"23142\"},{\"id\":\"23143\"}]},\"id\":\"23145\",\"type\":\"Toolbar\"},{\"attributes\":{},\"id\":\"23139\",\"type\":\"WheelZoomTool\"},{\"attributes\":{\"data_source\":{\"id\":\"23157\"},\"glyph\":{\"id\":\"23158\"},\"hover_glyph\":null,\"muted_glyph\":null,\"nonselection_glyph\":{\"id\":\"23159\"},\"selection_glyph\":null,\"view\":{\"id\":\"23161\"}},\"id\":\"23160\",\"type\":\"GlyphRenderer\"},{\"attributes\":{},\"id\":\"23135\",\"type\":\"BasicTicker\"},{\"attributes\":{\"num_minor_ticks\":5,\"tickers\":[{\"id\":\"24003\"},{\"id\":\"24004\"},{\"id\":\"24005\"},{\"id\":\"24006\"},{\"id\":\"24007\"},{\"id\":\"24008\"},{\"id\":\"24009\"},{\"id\":\"24010\"},{\"id\":\"24011\"},{\"id\":\"24012\"},{\"id\":\"24013\"},{\"id\":\"24014\"}]},\"id\":\"23131\",\"type\":\"DatetimeTicker\"}],\"root_ids\":[\"23119\"]},\"title\":\"Bokeh Application\",\"version\":\"2.2.1\"}};\n",
       "  var render_items = [{\"docid\":\"31aad6a0-991c-461d-90e1-e20989fe162d\",\"root_ids\":[\"23119\"],\"roots\":{\"23119\":\"157f70f7-7ad3-477d-9014-947f1de89d79\"}}];\n",
       "  root.Bokeh.embed.embed_items_notebook(docs_json, render_items);\n",
       "\n",
       "  }\n",
       "  if (root.Bokeh !== undefined) {\n",
       "    embed_document(root);\n",
       "  } else {\n",
       "    var attempts = 0;\n",
       "    var timer = setInterval(function(root) {\n",
       "      if (root.Bokeh !== undefined) {\n",
       "        clearInterval(timer);\n",
       "        embed_document(root);\n",
       "      } else {\n",
       "        attempts++;\n",
       "        if (attempts > 100) {\n",
       "          clearInterval(timer);\n",
       "          console.log(\"Bokeh: ERROR: Unable to run BokehJS code because BokehJS library is missing\");\n",
       "        }\n",
       "      }\n",
       "    }, 10, root)\n",
       "  }\n",
       "})(window);"
      ],
      "application/vnd.bokehjs_exec.v0+json": ""
     },
     "metadata": {
      "application/vnd.bokehjs_exec.v0+json": {
       "id": "23119"
      }
     },
     "output_type": "display_data"
    },
    {
     "name": "stdout",
     "output_type": "stream",
     "text": [
      "Greece\n"
     ]
    },
    {
     "data": {
      "text/html": [
       "\n",
       "\n",
       "\n",
       "\n",
       "\n",
       "\n",
       "  <div class=\"bk-root\" id=\"93db0ffa-9995-4093-a3a2-cbe0aeeca00c\" data-root-id=\"24130\"></div>\n"
      ]
     },
     "metadata": {},
     "output_type": "display_data"
    },
    {
     "data": {
      "application/javascript": [
       "(function(root) {\n",
       "  function embed_document(root) {\n",
       "    \n",
       "  var docs_json = {\"9b3e1b9a-fcbf-48fb-a3af-4153712d102c\":{\"roots\":{\"references\":[{\"attributes\":{\"below\":[{\"id\":\"24141\"}],\"center\":[{\"id\":\"24144\"},{\"id\":\"24148\"}],\"left\":[{\"id\":\"24145\"}],\"plot_height\":300,\"plot_width\":500,\"renderers\":[{\"id\":\"24166\"},{\"id\":\"24171\"}],\"title\":{\"id\":\"24131\"},\"toolbar\":{\"id\":\"24156\"},\"x_range\":{\"id\":\"24133\"},\"x_scale\":{\"id\":\"24137\"},\"y_range\":{\"id\":\"24135\"},\"y_scale\":{\"id\":\"24139\"}},\"id\":\"24130\",\"subtype\":\"Figure\",\"type\":\"Plot\"},{\"attributes\":{},\"id\":\"24133\",\"type\":\"DataRange1d\"},{\"attributes\":{\"active_drag\":\"auto\",\"active_inspect\":\"auto\",\"active_multi\":null,\"active_scroll\":\"auto\",\"active_tap\":\"auto\",\"tools\":[{\"id\":\"24149\"},{\"id\":\"24150\"},{\"id\":\"24151\"},{\"id\":\"24152\"},{\"id\":\"24153\"},{\"id\":\"24154\"}]},\"id\":\"24156\",\"type\":\"Toolbar\"},{\"attributes\":{\"bottom_units\":\"screen\",\"fill_alpha\":0.5,\"fill_color\":\"lightgrey\",\"left_units\":\"screen\",\"level\":\"overlay\",\"line_alpha\":1.0,\"line_color\":\"black\",\"line_dash\":[4,4],\"line_width\":2,\"right_units\":\"screen\",\"top_units\":\"screen\"},\"id\":\"24155\",\"type\":\"BoxAnnotation\"},{\"attributes\":{\"text\":\"Count of weekly active users\"},\"id\":\"24131\",\"type\":\"Title\"},{\"attributes\":{},\"id\":\"25032\",\"type\":\"DatetimeTickFormatter\"},{\"attributes\":{},\"id\":\"24152\",\"type\":\"SaveTool\"},{\"attributes\":{\"data_source\":{\"id\":\"24168\"},\"glyph\":{\"id\":\"24169\"},\"hover_glyph\":null,\"muted_glyph\":null,\"nonselection_glyph\":{\"id\":\"24170\"},\"selection_glyph\":null,\"view\":{\"id\":\"24172\"}},\"id\":\"24171\",\"type\":\"GlyphRenderer\"},{\"attributes\":{},\"id\":\"24146\",\"type\":\"BasicTicker\"},{\"attributes\":{},\"id\":\"25048\",\"type\":\"Selection\"},{\"attributes\":{\"axis\":{\"id\":\"24141\"},\"ticker\":null},\"id\":\"24144\",\"type\":\"Grid\"},{\"attributes\":{},\"id\":\"25049\",\"type\":\"UnionRenderers\"},{\"attributes\":{},\"id\":\"24149\",\"type\":\"PanTool\"},{\"attributes\":{},\"id\":\"24150\",\"type\":\"WheelZoomTool\"},{\"attributes\":{\"axis\":{\"id\":\"24145\"},\"dimension\":1,\"ticker\":null},\"id\":\"24148\",\"type\":\"Grid\"},{\"attributes\":{},\"id\":\"25050\",\"type\":\"Selection\"},{\"attributes\":{},\"id\":\"25034\",\"type\":\"BasicTickFormatter\"},{\"attributes\":{},\"id\":\"24137\",\"type\":\"LinearScale\"},{\"attributes\":{},\"id\":\"25051\",\"type\":\"UnionRenderers\"},{\"attributes\":{\"overlay\":{\"id\":\"24155\"}},\"id\":\"24151\",\"type\":\"BoxZoomTool\"},{\"attributes\":{},\"id\":\"24154\",\"type\":\"HelpTool\"},{\"attributes\":{\"num_minor_ticks\":5,\"tickers\":[{\"id\":\"25036\"},{\"id\":\"25037\"},{\"id\":\"25038\"},{\"id\":\"25039\"},{\"id\":\"25040\"},{\"id\":\"25041\"},{\"id\":\"25042\"},{\"id\":\"25043\"},{\"id\":\"25044\"},{\"id\":\"25045\"},{\"id\":\"25046\"},{\"id\":\"25047\"}]},\"id\":\"24142\",\"type\":\"DatetimeTicker\"},{\"attributes\":{\"axis_label\":\"Time (weekly)\",\"formatter\":{\"id\":\"25032\"},\"ticker\":{\"id\":\"24142\"}},\"id\":\"24141\",\"type\":\"DatetimeAxis\"},{\"attributes\":{\"mantissas\":[1,2,5],\"max_interval\":500.0,\"num_minor_ticks\":0},\"id\":\"25036\",\"type\":\"AdaptiveTicker\"},{\"attributes\":{\"data\":{\"x\":{\"__ndarray__\":\"AADAQ4ledEIAAAAMymB0QgAAQNQKY3RCAACAnEtldEIAAMBkjGd0QgAAAC3NaXRCAABA9Q1sdEIAAIC9Tm50QgAAwIWPcHRCAAAATtBydEIAAEAWEXV0QgAAgN5Rd3RCAADAppJ5dEIAAABv03t0QgAAQDcUfnRCAACA/1SAdEIAAMDHlYJ0Qg==\",\"dtype\":\"float64\",\"order\":\"little\",\"shape\":[17]},\"y\":[2,0,1,4,4,3,4,2,5,6,7,8,5,7,4,5,8]},\"selected\":{\"id\":\"25050\"},\"selection_policy\":{\"id\":\"25051\"}},\"id\":\"24168\",\"type\":\"ColumnDataSource\"},{\"attributes\":{\"base\":60,\"mantissas\":[1,2,5,10,15,20,30],\"max_interval\":1800000.0,\"min_interval\":1000.0,\"num_minor_ticks\":0},\"id\":\"25037\",\"type\":\"AdaptiveTicker\"},{\"attributes\":{},\"id\":\"24139\",\"type\":\"LinearScale\"},{\"attributes\":{\"days\":[1,2,3,4,5,6,7,8,9,10,11,12,13,14,15,16,17,18,19,20,21,22,23,24,25,26,27,28,29,30,31]},\"id\":\"25039\",\"type\":\"DaysTicker\"},{\"attributes\":{\"fill_alpha\":{\"value\":0.1},\"fill_color\":{\"value\":\"#1f77b4\"},\"line_alpha\":{\"value\":0.1},\"line_color\":{\"value\":\"#1f77b4\"},\"x\":{\"field\":\"x\"},\"y\":{\"field\":\"y\"}},\"id\":\"24165\",\"type\":\"Scatter\"},{\"attributes\":{\"base\":24,\"mantissas\":[1,2,4,6,8,12],\"max_interval\":43200000.0,\"min_interval\":3600000.0,\"num_minor_ticks\":0},\"id\":\"25038\",\"type\":\"AdaptiveTicker\"},{\"attributes\":{},\"id\":\"24153\",\"type\":\"ResetTool\"},{\"attributes\":{\"line_color\":\"#1f77b4\",\"x\":{\"field\":\"x\"},\"y\":{\"field\":\"y\"}},\"id\":\"24169\",\"type\":\"Line\"},{\"attributes\":{\"axis_label\":\"Counts\",\"formatter\":{\"id\":\"25034\"},\"ticker\":{\"id\":\"24146\"}},\"id\":\"24145\",\"type\":\"LinearAxis\"},{\"attributes\":{\"months\":[0,1,2,3,4,5,6,7,8,9,10,11]},\"id\":\"25043\",\"type\":\"MonthsTicker\"},{\"attributes\":{\"source\":{\"id\":\"24163\"}},\"id\":\"24167\",\"type\":\"CDSView\"},{\"attributes\":{\"months\":[0,2,4,6,8,10]},\"id\":\"25044\",\"type\":\"MonthsTicker\"},{\"attributes\":{\"data_source\":{\"id\":\"24163\"},\"glyph\":{\"id\":\"24164\"},\"hover_glyph\":null,\"muted_glyph\":null,\"nonselection_glyph\":{\"id\":\"24165\"},\"selection_glyph\":null,\"view\":{\"id\":\"24167\"}},\"id\":\"24166\",\"type\":\"GlyphRenderer\"},{\"attributes\":{},\"id\":\"24135\",\"type\":\"DataRange1d\"},{\"attributes\":{\"days\":[1,4,7,10,13,16,19,22,25,28]},\"id\":\"25040\",\"type\":\"DaysTicker\"},{\"attributes\":{\"data\":{\"x\":{\"__ndarray__\":\"AADAQ4ledEIAAAAMymB0QgAAQNQKY3RCAACAnEtldEIAAMBkjGd0QgAAAC3NaXRCAABA9Q1sdEIAAIC9Tm50QgAAwIWPcHRCAAAATtBydEIAAEAWEXV0QgAAgN5Rd3RCAADAppJ5dEIAAABv03t0QgAAQDcUfnRCAACA/1SAdEIAAMDHlYJ0Qg==\",\"dtype\":\"float64\",\"order\":\"little\",\"shape\":[17]},\"y\":[2,0,1,4,4,3,4,2,5,6,7,8,5,7,4,5,8]},\"selected\":{\"id\":\"25048\"},\"selection_policy\":{\"id\":\"25049\"}},\"id\":\"24163\",\"type\":\"ColumnDataSource\"},{\"attributes\":{\"days\":[1,15]},\"id\":\"25042\",\"type\":\"DaysTicker\"},{\"attributes\":{\"source\":{\"id\":\"24168\"}},\"id\":\"24172\",\"type\":\"CDSView\"},{\"attributes\":{\"months\":[0,6]},\"id\":\"25046\",\"type\":\"MonthsTicker\"},{\"attributes\":{\"days\":[1,8,15,22]},\"id\":\"25041\",\"type\":\"DaysTicker\"},{\"attributes\":{},\"id\":\"25047\",\"type\":\"YearsTicker\"},{\"attributes\":{\"line_alpha\":0.1,\"line_color\":\"#1f77b4\",\"x\":{\"field\":\"x\"},\"y\":{\"field\":\"y\"}},\"id\":\"24170\",\"type\":\"Line\"},{\"attributes\":{\"months\":[0,4,8]},\"id\":\"25045\",\"type\":\"MonthsTicker\"},{\"attributes\":{\"fill_color\":{\"value\":\"#1f77b4\"},\"line_color\":{\"value\":\"#1f77b4\"},\"x\":{\"field\":\"x\"},\"y\":{\"field\":\"y\"}},\"id\":\"24164\",\"type\":\"Scatter\"}],\"root_ids\":[\"24130\"]},\"title\":\"Bokeh Application\",\"version\":\"2.2.1\"}};\n",
       "  var render_items = [{\"docid\":\"9b3e1b9a-fcbf-48fb-a3af-4153712d102c\",\"root_ids\":[\"24130\"],\"roots\":{\"24130\":\"93db0ffa-9995-4093-a3a2-cbe0aeeca00c\"}}];\n",
       "  root.Bokeh.embed.embed_items_notebook(docs_json, render_items);\n",
       "\n",
       "  }\n",
       "  if (root.Bokeh !== undefined) {\n",
       "    embed_document(root);\n",
       "  } else {\n",
       "    var attempts = 0;\n",
       "    var timer = setInterval(function(root) {\n",
       "      if (root.Bokeh !== undefined) {\n",
       "        clearInterval(timer);\n",
       "        embed_document(root);\n",
       "      } else {\n",
       "        attempts++;\n",
       "        if (attempts > 100) {\n",
       "          clearInterval(timer);\n",
       "          console.log(\"Bokeh: ERROR: Unable to run BokehJS code because BokehJS library is missing\");\n",
       "        }\n",
       "      }\n",
       "    }, 10, root)\n",
       "  }\n",
       "})(window);"
      ],
      "application/vnd.bokehjs_exec.v0+json": ""
     },
     "metadata": {
      "application/vnd.bokehjs_exec.v0+json": {
       "id": "24130"
      }
     },
     "output_type": "display_data"
    },
    {
     "name": "stdout",
     "output_type": "stream",
     "text": [
      "Ireland\n"
     ]
    },
    {
     "data": {
      "text/html": [
       "\n",
       "\n",
       "\n",
       "\n",
       "\n",
       "\n",
       "  <div class=\"bk-root\" id=\"e6513bf0-782f-4392-998a-42dda6a0c40a\" data-root-id=\"25163\"></div>\n"
      ]
     },
     "metadata": {},
     "output_type": "display_data"
    },
    {
     "data": {
      "application/javascript": [
       "(function(root) {\n",
       "  function embed_document(root) {\n",
       "    \n",
       "  var docs_json = {\"4f9565f9-e9d8-411d-8a95-7c95f5c6f883\":{\"roots\":{\"references\":[{\"attributes\":{\"below\":[{\"id\":\"25174\"}],\"center\":[{\"id\":\"25177\"},{\"id\":\"25181\"}],\"left\":[{\"id\":\"25178\"}],\"plot_height\":300,\"plot_width\":500,\"renderers\":[{\"id\":\"25199\"},{\"id\":\"25204\"}],\"title\":{\"id\":\"25164\"},\"toolbar\":{\"id\":\"25189\"},\"x_range\":{\"id\":\"25166\"},\"x_scale\":{\"id\":\"25170\"},\"y_range\":{\"id\":\"25168\"},\"y_scale\":{\"id\":\"25172\"}},\"id\":\"25163\",\"subtype\":\"Figure\",\"type\":\"Plot\"},{\"attributes\":{\"source\":{\"id\":\"25201\"}},\"id\":\"25205\",\"type\":\"CDSView\"},{\"attributes\":{\"mantissas\":[1,2,5],\"max_interval\":500.0,\"num_minor_ticks\":0},\"id\":\"26091\",\"type\":\"AdaptiveTicker\"},{\"attributes\":{\"base\":60,\"mantissas\":[1,2,5,10,15,20,30],\"max_interval\":1800000.0,\"min_interval\":1000.0,\"num_minor_ticks\":0},\"id\":\"26092\",\"type\":\"AdaptiveTicker\"},{\"attributes\":{},\"id\":\"25166\",\"type\":\"DataRange1d\"},{\"attributes\":{\"line_alpha\":0.1,\"line_color\":\"#1f77b4\",\"x\":{\"field\":\"x\"},\"y\":{\"field\":\"y\"}},\"id\":\"25203\",\"type\":\"Line\"},{\"attributes\":{\"days\":[1,2,3,4,5,6,7,8,9,10,11,12,13,14,15,16,17,18,19,20,21,22,23,24,25,26,27,28,29,30,31]},\"id\":\"26094\",\"type\":\"DaysTicker\"},{\"attributes\":{\"base\":24,\"mantissas\":[1,2,4,6,8,12],\"max_interval\":43200000.0,\"min_interval\":3600000.0,\"num_minor_ticks\":0},\"id\":\"26093\",\"type\":\"AdaptiveTicker\"},{\"attributes\":{\"months\":[0,1,2,3,4,5,6,7,8,9,10,11]},\"id\":\"26098\",\"type\":\"MonthsTicker\"},{\"attributes\":{\"months\":[0,2,4,6,8,10]},\"id\":\"26099\",\"type\":\"MonthsTicker\"},{\"attributes\":{},\"id\":\"25168\",\"type\":\"DataRange1d\"},{\"attributes\":{\"data_source\":{\"id\":\"25196\"},\"glyph\":{\"id\":\"25197\"},\"hover_glyph\":null,\"muted_glyph\":null,\"nonselection_glyph\":{\"id\":\"25198\"},\"selection_glyph\":null,\"view\":{\"id\":\"25200\"}},\"id\":\"25199\",\"type\":\"GlyphRenderer\"},{\"attributes\":{\"days\":[1,4,7,10,13,16,19,22,25,28]},\"id\":\"26095\",\"type\":\"DaysTicker\"},{\"attributes\":{\"num_minor_ticks\":5,\"tickers\":[{\"id\":\"26091\"},{\"id\":\"26092\"},{\"id\":\"26093\"},{\"id\":\"26094\"},{\"id\":\"26095\"},{\"id\":\"26096\"},{\"id\":\"26097\"},{\"id\":\"26098\"},{\"id\":\"26099\"},{\"id\":\"26100\"},{\"id\":\"26101\"},{\"id\":\"26102\"}]},\"id\":\"25175\",\"type\":\"DatetimeTicker\"},{\"attributes\":{\"days\":[1,15]},\"id\":\"26097\",\"type\":\"DaysTicker\"},{\"attributes\":{\"months\":[0,6]},\"id\":\"26101\",\"type\":\"MonthsTicker\"},{\"attributes\":{\"days\":[1,8,15,22]},\"id\":\"26096\",\"type\":\"DaysTicker\"},{\"attributes\":{},\"id\":\"26102\",\"type\":\"YearsTicker\"},{\"attributes\":{\"bottom_units\":\"screen\",\"fill_alpha\":0.5,\"fill_color\":\"lightgrey\",\"left_units\":\"screen\",\"level\":\"overlay\",\"line_alpha\":1.0,\"line_color\":\"black\",\"line_dash\":[4,4],\"line_width\":2,\"right_units\":\"screen\",\"top_units\":\"screen\"},\"id\":\"25188\",\"type\":\"BoxAnnotation\"},{\"attributes\":{\"months\":[0,4,8]},\"id\":\"26100\",\"type\":\"MonthsTicker\"},{\"attributes\":{},\"id\":\"25172\",\"type\":\"LinearScale\"},{\"attributes\":{\"axis_label\":\"Counts\",\"formatter\":{\"id\":\"26089\"},\"ticker\":{\"id\":\"25179\"}},\"id\":\"25178\",\"type\":\"LinearAxis\"},{\"attributes\":{\"overlay\":{\"id\":\"25188\"}},\"id\":\"25184\",\"type\":\"BoxZoomTool\"},{\"attributes\":{\"text\":\"Count of weekly active users\"},\"id\":\"25164\",\"type\":\"Title\"},{\"attributes\":{},\"id\":\"26087\",\"type\":\"DatetimeTickFormatter\"},{\"attributes\":{},\"id\":\"25185\",\"type\":\"SaveTool\"},{\"attributes\":{},\"id\":\"25179\",\"type\":\"BasicTicker\"},{\"attributes\":{\"fill_color\":{\"value\":\"#1f77b4\"},\"line_color\":{\"value\":\"#1f77b4\"},\"x\":{\"field\":\"x\"},\"y\":{\"field\":\"y\"}},\"id\":\"25197\",\"type\":\"Scatter\"},{\"attributes\":{},\"id\":\"26103\",\"type\":\"Selection\"},{\"attributes\":{\"axis\":{\"id\":\"25178\"},\"dimension\":1,\"ticker\":null},\"id\":\"25181\",\"type\":\"Grid\"},{\"attributes\":{},\"id\":\"26104\",\"type\":\"UnionRenderers\"},{\"attributes\":{\"active_drag\":\"auto\",\"active_inspect\":\"auto\",\"active_multi\":null,\"active_scroll\":\"auto\",\"active_tap\":\"auto\",\"tools\":[{\"id\":\"25182\"},{\"id\":\"25183\"},{\"id\":\"25184\"},{\"id\":\"25185\"},{\"id\":\"25186\"},{\"id\":\"25187\"}]},\"id\":\"25189\",\"type\":\"Toolbar\"},{\"attributes\":{},\"id\":\"25182\",\"type\":\"PanTool\"},{\"attributes\":{},\"id\":\"25187\",\"type\":\"HelpTool\"},{\"attributes\":{\"data_source\":{\"id\":\"25201\"},\"glyph\":{\"id\":\"25202\"},\"hover_glyph\":null,\"muted_glyph\":null,\"nonselection_glyph\":{\"id\":\"25203\"},\"selection_glyph\":null,\"view\":{\"id\":\"25205\"}},\"id\":\"25204\",\"type\":\"GlyphRenderer\"},{\"attributes\":{},\"id\":\"26106\",\"type\":\"UnionRenderers\"},{\"attributes\":{\"axis\":{\"id\":\"25174\"},\"ticker\":null},\"id\":\"25177\",\"type\":\"Grid\"},{\"attributes\":{},\"id\":\"25183\",\"type\":\"WheelZoomTool\"},{\"attributes\":{\"data\":{\"x\":{\"__ndarray__\":\"AACAe0hcdEIAAMBDiV50QgAAAAzKYHRCAABA1ApjdEIAAICcS2V0QgAAwGSMZ3RCAAAALc1pdEIAAED1DWx0QgAAgL1ObnRCAADAhY9wdEIAAABO0HJ0QgAAQBYRdXRCAACA3lF3dEIAAMCmknl0QgAAAG/Te3RCAABANxR+dEIAAID/VIB0QgAAwMeVgnRC\",\"dtype\":\"float64\",\"order\":\"little\",\"shape\":[18]},\"y\":[4,4,4,2,2,4,1,2,4,3,3,5,3,5,5,5,7,5]},\"selected\":{\"id\":\"26105\"},\"selection_policy\":{\"id\":\"26106\"}},\"id\":\"25201\",\"type\":\"ColumnDataSource\"},{\"attributes\":{},\"id\":\"26105\",\"type\":\"Selection\"},{\"attributes\":{},\"id\":\"25186\",\"type\":\"ResetTool\"},{\"attributes\":{},\"id\":\"26089\",\"type\":\"BasicTickFormatter\"},{\"attributes\":{\"fill_alpha\":{\"value\":0.1},\"fill_color\":{\"value\":\"#1f77b4\"},\"line_alpha\":{\"value\":0.1},\"line_color\":{\"value\":\"#1f77b4\"},\"x\":{\"field\":\"x\"},\"y\":{\"field\":\"y\"}},\"id\":\"25198\",\"type\":\"Scatter\"},{\"attributes\":{\"axis_label\":\"Time (weekly)\",\"formatter\":{\"id\":\"26087\"},\"ticker\":{\"id\":\"25175\"}},\"id\":\"25174\",\"type\":\"DatetimeAxis\"},{\"attributes\":{\"line_color\":\"#1f77b4\",\"x\":{\"field\":\"x\"},\"y\":{\"field\":\"y\"}},\"id\":\"25202\",\"type\":\"Line\"},{\"attributes\":{\"data\":{\"x\":{\"__ndarray__\":\"AACAe0hcdEIAAMBDiV50QgAAAAzKYHRCAABA1ApjdEIAAICcS2V0QgAAwGSMZ3RCAAAALc1pdEIAAED1DWx0QgAAgL1ObnRCAADAhY9wdEIAAABO0HJ0QgAAQBYRdXRCAACA3lF3dEIAAMCmknl0QgAAAG/Te3RCAABANxR+dEIAAID/VIB0QgAAwMeVgnRC\",\"dtype\":\"float64\",\"order\":\"little\",\"shape\":[18]},\"y\":[4,4,4,2,2,4,1,2,4,3,3,5,3,5,5,5,7,5]},\"selected\":{\"id\":\"26103\"},\"selection_policy\":{\"id\":\"26104\"}},\"id\":\"25196\",\"type\":\"ColumnDataSource\"},{\"attributes\":{\"source\":{\"id\":\"25196\"}},\"id\":\"25200\",\"type\":\"CDSView\"},{\"attributes\":{},\"id\":\"25170\",\"type\":\"LinearScale\"}],\"root_ids\":[\"25163\"]},\"title\":\"Bokeh Application\",\"version\":\"2.2.1\"}};\n",
       "  var render_items = [{\"docid\":\"4f9565f9-e9d8-411d-8a95-7c95f5c6f883\",\"root_ids\":[\"25163\"],\"roots\":{\"25163\":\"e6513bf0-782f-4392-998a-42dda6a0c40a\"}}];\n",
       "  root.Bokeh.embed.embed_items_notebook(docs_json, render_items);\n",
       "\n",
       "  }\n",
       "  if (root.Bokeh !== undefined) {\n",
       "    embed_document(root);\n",
       "  } else {\n",
       "    var attempts = 0;\n",
       "    var timer = setInterval(function(root) {\n",
       "      if (root.Bokeh !== undefined) {\n",
       "        clearInterval(timer);\n",
       "        embed_document(root);\n",
       "      } else {\n",
       "        attempts++;\n",
       "        if (attempts > 100) {\n",
       "          clearInterval(timer);\n",
       "          console.log(\"Bokeh: ERROR: Unable to run BokehJS code because BokehJS library is missing\");\n",
       "        }\n",
       "      }\n",
       "    }, 10, root)\n",
       "  }\n",
       "})(window);"
      ],
      "application/vnd.bokehjs_exec.v0+json": ""
     },
     "metadata": {
      "application/vnd.bokehjs_exec.v0+json": {
       "id": "25163"
      }
     },
     "output_type": "display_data"
    },
    {
     "name": "stdout",
     "output_type": "stream",
     "text": [
      "South Africa\n"
     ]
    },
    {
     "data": {
      "text/html": [
       "\n",
       "\n",
       "\n",
       "\n",
       "\n",
       "\n",
       "  <div class=\"bk-root\" id=\"d4aee85c-26fb-45fb-85c4-b59540842dd5\" data-root-id=\"26218\"></div>\n"
      ]
     },
     "metadata": {},
     "output_type": "display_data"
    },
    {
     "data": {
      "application/javascript": [
       "(function(root) {\n",
       "  function embed_document(root) {\n",
       "    \n",
       "  var docs_json = {\"caf8e8e2-cd6a-4115-aed4-3f65e2752ccc\":{\"roots\":{\"references\":[{\"attributes\":{\"below\":[{\"id\":\"26229\"}],\"center\":[{\"id\":\"26232\"},{\"id\":\"26236\"}],\"left\":[{\"id\":\"26233\"}],\"plot_height\":300,\"plot_width\":500,\"renderers\":[{\"id\":\"26254\"},{\"id\":\"26259\"}],\"title\":{\"id\":\"26219\"},\"toolbar\":{\"id\":\"26244\"},\"x_range\":{\"id\":\"26221\"},\"x_scale\":{\"id\":\"26225\"},\"y_range\":{\"id\":\"26223\"},\"y_scale\":{\"id\":\"26227\"}},\"id\":\"26218\",\"subtype\":\"Figure\",\"type\":\"Plot\"},{\"attributes\":{},\"id\":\"26237\",\"type\":\"PanTool\"},{\"attributes\":{},\"id\":\"26238\",\"type\":\"WheelZoomTool\"},{\"attributes\":{\"overlay\":{\"id\":\"26243\"}},\"id\":\"26239\",\"type\":\"BoxZoomTool\"},{\"attributes\":{\"active_drag\":\"auto\",\"active_inspect\":\"auto\",\"active_multi\":null,\"active_scroll\":\"auto\",\"active_tap\":\"auto\",\"tools\":[{\"id\":\"26237\"},{\"id\":\"26238\"},{\"id\":\"26239\"},{\"id\":\"26240\"},{\"id\":\"26241\"},{\"id\":\"26242\"}]},\"id\":\"26244\",\"type\":\"Toolbar\"},{\"attributes\":{},\"id\":\"26241\",\"type\":\"ResetTool\"},{\"attributes\":{\"months\":[0,4,8]},\"id\":\"27177\",\"type\":\"MonthsTicker\"},{\"attributes\":{},\"id\":\"26242\",\"type\":\"HelpTool\"},{\"attributes\":{\"data\":{\"x\":{\"__ndarray__\":\"AACAe0hcdEIAAMBDiV50QgAAAAzKYHRCAABA1ApjdEIAAICcS2V0QgAAwGSMZ3RCAAAALc1pdEIAAED1DWx0QgAAgL1ObnRCAADAhY9wdEIAAABO0HJ0QgAAQBYRdXRCAACA3lF3dEIAAMCmknl0QgAAAG/Te3RCAABANxR+dEIAAID/VIB0QgAAwMeVgnRC\",\"dtype\":\"float64\",\"order\":\"little\",\"shape\":[18]},\"y\":[2,1,5,6,8,7,9,5,7,4,9,10,10,12,10,9,13,10]},\"selected\":{\"id\":\"27182\"},\"selection_policy\":{\"id\":\"27183\"}},\"id\":\"26256\",\"type\":\"ColumnDataSource\"},{\"attributes\":{\"base\":24,\"mantissas\":[1,2,4,6,8,12],\"max_interval\":43200000.0,\"min_interval\":3600000.0,\"num_minor_ticks\":0},\"id\":\"27170\",\"type\":\"AdaptiveTicker\"},{\"attributes\":{\"fill_alpha\":{\"value\":0.1},\"fill_color\":{\"value\":\"#1f77b4\"},\"line_alpha\":{\"value\":0.1},\"line_color\":{\"value\":\"#1f77b4\"},\"x\":{\"field\":\"x\"},\"y\":{\"field\":\"y\"}},\"id\":\"26253\",\"type\":\"Scatter\"},{\"attributes\":{},\"id\":\"27166\",\"type\":\"BasicTickFormatter\"},{\"attributes\":{\"line_color\":\"#1f77b4\",\"x\":{\"field\":\"x\"},\"y\":{\"field\":\"y\"}},\"id\":\"26257\",\"type\":\"Line\"},{\"attributes\":{},\"id\":\"26240\",\"type\":\"SaveTool\"},{\"attributes\":{\"text\":\"Count of weekly active users\"},\"id\":\"26219\",\"type\":\"Title\"},{\"attributes\":{\"source\":{\"id\":\"26251\"}},\"id\":\"26255\",\"type\":\"CDSView\"},{\"attributes\":{\"days\":[1,15]},\"id\":\"27174\",\"type\":\"DaysTicker\"},{\"attributes\":{\"data_source\":{\"id\":\"26251\"},\"glyph\":{\"id\":\"26252\"},\"hover_glyph\":null,\"muted_glyph\":null,\"nonselection_glyph\":{\"id\":\"26253\"},\"selection_glyph\":null,\"view\":{\"id\":\"26255\"}},\"id\":\"26254\",\"type\":\"GlyphRenderer\"},{\"attributes\":{\"months\":[0,6]},\"id\":\"27178\",\"type\":\"MonthsTicker\"},{\"attributes\":{\"mantissas\":[1,2,5],\"max_interval\":500.0,\"num_minor_ticks\":0},\"id\":\"27168\",\"type\":\"AdaptiveTicker\"},{\"attributes\":{\"source\":{\"id\":\"26256\"}},\"id\":\"26260\",\"type\":\"CDSView\"},{\"attributes\":{},\"id\":\"27179\",\"type\":\"YearsTicker\"},{\"attributes\":{\"months\":[0,2,4,6,8,10]},\"id\":\"27176\",\"type\":\"MonthsTicker\"},{\"attributes\":{\"base\":60,\"mantissas\":[1,2,5,10,15,20,30],\"max_interval\":1800000.0,\"min_interval\":1000.0,\"num_minor_ticks\":0},\"id\":\"27169\",\"type\":\"AdaptiveTicker\"},{\"attributes\":{\"line_alpha\":0.1,\"line_color\":\"#1f77b4\",\"x\":{\"field\":\"x\"},\"y\":{\"field\":\"y\"}},\"id\":\"26258\",\"type\":\"Line\"},{\"attributes\":{\"days\":[1,8,15,22]},\"id\":\"27173\",\"type\":\"DaysTicker\"},{\"attributes\":{},\"id\":\"27164\",\"type\":\"DatetimeTickFormatter\"},{\"attributes\":{\"days\":[1,4,7,10,13,16,19,22,25,28]},\"id\":\"27172\",\"type\":\"DaysTicker\"},{\"attributes\":{\"months\":[0,1,2,3,4,5,6,7,8,9,10,11]},\"id\":\"27175\",\"type\":\"MonthsTicker\"},{\"attributes\":{\"axis_label\":\"Time (weekly)\",\"formatter\":{\"id\":\"27164\"},\"ticker\":{\"id\":\"26230\"}},\"id\":\"26229\",\"type\":\"DatetimeAxis\"},{\"attributes\":{},\"id\":\"26234\",\"type\":\"BasicTicker\"},{\"attributes\":{},\"id\":\"27180\",\"type\":\"Selection\"},{\"attributes\":{\"axis\":{\"id\":\"26229\"},\"ticker\":null},\"id\":\"26232\",\"type\":\"Grid\"},{\"attributes\":{},\"id\":\"27181\",\"type\":\"UnionRenderers\"},{\"attributes\":{\"bottom_units\":\"screen\",\"fill_alpha\":0.5,\"fill_color\":\"lightgrey\",\"left_units\":\"screen\",\"level\":\"overlay\",\"line_alpha\":1.0,\"line_color\":\"black\",\"line_dash\":[4,4],\"line_width\":2,\"right_units\":\"screen\",\"top_units\":\"screen\"},\"id\":\"26243\",\"type\":\"BoxAnnotation\"},{\"attributes\":{\"days\":[1,2,3,4,5,6,7,8,9,10,11,12,13,14,15,16,17,18,19,20,21,22,23,24,25,26,27,28,29,30,31]},\"id\":\"27171\",\"type\":\"DaysTicker\"},{\"attributes\":{\"data\":{\"x\":{\"__ndarray__\":\"AACAe0hcdEIAAMBDiV50QgAAAAzKYHRCAABA1ApjdEIAAICcS2V0QgAAwGSMZ3RCAAAALc1pdEIAAED1DWx0QgAAgL1ObnRCAADAhY9wdEIAAABO0HJ0QgAAQBYRdXRCAACA3lF3dEIAAMCmknl0QgAAAG/Te3RCAABANxR+dEIAAID/VIB0QgAAwMeVgnRC\",\"dtype\":\"float64\",\"order\":\"little\",\"shape\":[18]},\"y\":[2,1,5,6,8,7,9,5,7,4,9,10,10,12,10,9,13,10]},\"selected\":{\"id\":\"27180\"},\"selection_policy\":{\"id\":\"27181\"}},\"id\":\"26251\",\"type\":\"ColumnDataSource\"},{\"attributes\":{\"axis\":{\"id\":\"26233\"},\"dimension\":1,\"ticker\":null},\"id\":\"26236\",\"type\":\"Grid\"},{\"attributes\":{},\"id\":\"26227\",\"type\":\"LinearScale\"},{\"attributes\":{},\"id\":\"27182\",\"type\":\"Selection\"},{\"attributes\":{\"num_minor_ticks\":5,\"tickers\":[{\"id\":\"27168\"},{\"id\":\"27169\"},{\"id\":\"27170\"},{\"id\":\"27171\"},{\"id\":\"27172\"},{\"id\":\"27173\"},{\"id\":\"27174\"},{\"id\":\"27175\"},{\"id\":\"27176\"},{\"id\":\"27177\"},{\"id\":\"27178\"},{\"id\":\"27179\"}]},\"id\":\"26230\",\"type\":\"DatetimeTicker\"},{\"attributes\":{},\"id\":\"26221\",\"type\":\"DataRange1d\"},{\"attributes\":{\"data_source\":{\"id\":\"26256\"},\"glyph\":{\"id\":\"26257\"},\"hover_glyph\":null,\"muted_glyph\":null,\"nonselection_glyph\":{\"id\":\"26258\"},\"selection_glyph\":null,\"view\":{\"id\":\"26260\"}},\"id\":\"26259\",\"type\":\"GlyphRenderer\"},{\"attributes\":{\"fill_color\":{\"value\":\"#1f77b4\"},\"line_color\":{\"value\":\"#1f77b4\"},\"x\":{\"field\":\"x\"},\"y\":{\"field\":\"y\"}},\"id\":\"26252\",\"type\":\"Scatter\"},{\"attributes\":{},\"id\":\"27183\",\"type\":\"UnionRenderers\"},{\"attributes\":{\"axis_label\":\"Counts\",\"formatter\":{\"id\":\"27166\"},\"ticker\":{\"id\":\"26234\"}},\"id\":\"26233\",\"type\":\"LinearAxis\"},{\"attributes\":{},\"id\":\"26223\",\"type\":\"DataRange1d\"},{\"attributes\":{},\"id\":\"26225\",\"type\":\"LinearScale\"}],\"root_ids\":[\"26218\"]},\"title\":\"Bokeh Application\",\"version\":\"2.2.1\"}};\n",
       "  var render_items = [{\"docid\":\"caf8e8e2-cd6a-4115-aed4-3f65e2752ccc\",\"root_ids\":[\"26218\"],\"roots\":{\"26218\":\"d4aee85c-26fb-45fb-85c4-b59540842dd5\"}}];\n",
       "  root.Bokeh.embed.embed_items_notebook(docs_json, render_items);\n",
       "\n",
       "  }\n",
       "  if (root.Bokeh !== undefined) {\n",
       "    embed_document(root);\n",
       "  } else {\n",
       "    var attempts = 0;\n",
       "    var timer = setInterval(function(root) {\n",
       "      if (root.Bokeh !== undefined) {\n",
       "        clearInterval(timer);\n",
       "        embed_document(root);\n",
       "      } else {\n",
       "        attempts++;\n",
       "        if (attempts > 100) {\n",
       "          clearInterval(timer);\n",
       "          console.log(\"Bokeh: ERROR: Unable to run BokehJS code because BokehJS library is missing\");\n",
       "        }\n",
       "      }\n",
       "    }, 10, root)\n",
       "  }\n",
       "})(window);"
      ],
      "application/vnd.bokehjs_exec.v0+json": ""
     },
     "metadata": {
      "application/vnd.bokehjs_exec.v0+json": {
       "id": "26218"
      }
     },
     "output_type": "display_data"
    },
    {
     "name": "stdout",
     "output_type": "stream",
     "text": [
      "Malaysia\n"
     ]
    },
    {
     "data": {
      "text/html": [
       "\n",
       "\n",
       "\n",
       "\n",
       "\n",
       "\n",
       "  <div class=\"bk-root\" id=\"330754f3-d057-46f9-8352-30488762d7c3\" data-root-id=\"27295\"></div>\n"
      ]
     },
     "metadata": {},
     "output_type": "display_data"
    },
    {
     "data": {
      "application/javascript": [
       "(function(root) {\n",
       "  function embed_document(root) {\n",
       "    \n",
       "  var docs_json = {\"f51cfdc5-d463-4e6b-a354-5ac2a9fb9161\":{\"roots\":{\"references\":[{\"attributes\":{\"below\":[{\"id\":\"27306\"}],\"center\":[{\"id\":\"27309\"},{\"id\":\"27313\"}],\"left\":[{\"id\":\"27310\"}],\"plot_height\":300,\"plot_width\":500,\"renderers\":[{\"id\":\"27331\"},{\"id\":\"27336\"}],\"title\":{\"id\":\"27296\"},\"toolbar\":{\"id\":\"27321\"},\"x_range\":{\"id\":\"27298\"},\"x_scale\":{\"id\":\"27302\"},\"y_range\":{\"id\":\"27300\"},\"y_scale\":{\"id\":\"27304\"}},\"id\":\"27295\",\"subtype\":\"Figure\",\"type\":\"Plot\"},{\"attributes\":{},\"id\":\"27298\",\"type\":\"DataRange1d\"},{\"attributes\":{\"source\":{\"id\":\"27328\"}},\"id\":\"27332\",\"type\":\"CDSView\"},{\"attributes\":{\"data_source\":{\"id\":\"27333\"},\"glyph\":{\"id\":\"27334\"},\"hover_glyph\":null,\"muted_glyph\":null,\"nonselection_glyph\":{\"id\":\"27335\"},\"selection_glyph\":null,\"view\":{\"id\":\"27337\"}},\"id\":\"27336\",\"type\":\"GlyphRenderer\"},{\"attributes\":{\"overlay\":{\"id\":\"27320\"}},\"id\":\"27316\",\"type\":\"BoxZoomTool\"},{\"attributes\":{},\"id\":\"28281\",\"type\":\"Selection\"},{\"attributes\":{},\"id\":\"28265\",\"type\":\"BasicTickFormatter\"},{\"attributes\":{},\"id\":\"27311\",\"type\":\"BasicTicker\"},{\"attributes\":{},\"id\":\"27317\",\"type\":\"SaveTool\"},{\"attributes\":{},\"id\":\"28282\",\"type\":\"UnionRenderers\"},{\"attributes\":{},\"id\":\"27319\",\"type\":\"HelpTool\"},{\"attributes\":{},\"id\":\"27314\",\"type\":\"PanTool\"},{\"attributes\":{\"axis_label\":\"Counts\",\"formatter\":{\"id\":\"28265\"},\"ticker\":{\"id\":\"27311\"}},\"id\":\"27310\",\"type\":\"LinearAxis\"},{\"attributes\":{\"axis\":{\"id\":\"27310\"},\"dimension\":1,\"ticker\":null},\"id\":\"27313\",\"type\":\"Grid\"},{\"attributes\":{\"active_drag\":\"auto\",\"active_inspect\":\"auto\",\"active_multi\":null,\"active_scroll\":\"auto\",\"active_tap\":\"auto\",\"tools\":[{\"id\":\"27314\"},{\"id\":\"27315\"},{\"id\":\"27316\"},{\"id\":\"27317\"},{\"id\":\"27318\"},{\"id\":\"27319\"}]},\"id\":\"27321\",\"type\":\"Toolbar\"},{\"attributes\":{\"mantissas\":[1,2,5],\"max_interval\":500.0,\"num_minor_ticks\":0},\"id\":\"28267\",\"type\":\"AdaptiveTicker\"},{\"attributes\":{\"base\":60,\"mantissas\":[1,2,5,10,15,20,30],\"max_interval\":1800000.0,\"min_interval\":1000.0,\"num_minor_ticks\":0},\"id\":\"28268\",\"type\":\"AdaptiveTicker\"},{\"attributes\":{\"days\":[1,2,3,4,5,6,7,8,9,10,11,12,13,14,15,16,17,18,19,20,21,22,23,24,25,26,27,28,29,30,31]},\"id\":\"28270\",\"type\":\"DaysTicker\"},{\"attributes\":{},\"id\":\"27315\",\"type\":\"WheelZoomTool\"},{\"attributes\":{},\"id\":\"28263\",\"type\":\"DatetimeTickFormatter\"},{\"attributes\":{\"base\":24,\"mantissas\":[1,2,4,6,8,12],\"max_interval\":43200000.0,\"min_interval\":3600000.0,\"num_minor_ticks\":0},\"id\":\"28269\",\"type\":\"AdaptiveTicker\"},{\"attributes\":{\"data\":{\"x\":{\"__ndarray__\":\"AACAe0hcdEIAAMBDiV50QgAAAAzKYHRCAABA1ApjdEIAAICcS2V0QgAAwGSMZ3RCAAAALc1pdEIAAED1DWx0QgAAgL1ObnRCAADAhY9wdEIAAABO0HJ0QgAAQBYRdXRCAACA3lF3dEIAAMCmknl0QgAAAG/Te3RCAABANxR+dEIAAID/VIB0QgAAwMeVgnRC\",\"dtype\":\"float64\",\"order\":\"little\",\"shape\":[18]},\"y\":[5,5,9,8,6,5,5,4,9,10,16,11,6,7,9,13,13,13]},\"selected\":{\"id\":\"28281\"},\"selection_policy\":{\"id\":\"28282\"}},\"id\":\"27333\",\"type\":\"ColumnDataSource\"},{\"attributes\":{\"months\":[0,1,2,3,4,5,6,7,8,9,10,11]},\"id\":\"28274\",\"type\":\"MonthsTicker\"},{\"attributes\":{\"axis\":{\"id\":\"27306\"},\"ticker\":null},\"id\":\"27309\",\"type\":\"Grid\"},{\"attributes\":{},\"id\":\"27302\",\"type\":\"LinearScale\"},{\"attributes\":{\"line_color\":\"#1f77b4\",\"x\":{\"field\":\"x\"},\"y\":{\"field\":\"y\"}},\"id\":\"27334\",\"type\":\"Line\"},{\"attributes\":{},\"id\":\"27318\",\"type\":\"ResetTool\"},{\"attributes\":{\"days\":[1,4,7,10,13,16,19,22,25,28]},\"id\":\"28271\",\"type\":\"DaysTicker\"},{\"attributes\":{\"months\":[0,2,4,6,8,10]},\"id\":\"28275\",\"type\":\"MonthsTicker\"},{\"attributes\":{\"num_minor_ticks\":5,\"tickers\":[{\"id\":\"28267\"},{\"id\":\"28268\"},{\"id\":\"28269\"},{\"id\":\"28270\"},{\"id\":\"28271\"},{\"id\":\"28272\"},{\"id\":\"28273\"},{\"id\":\"28274\"},{\"id\":\"28275\"},{\"id\":\"28276\"},{\"id\":\"28277\"},{\"id\":\"28278\"}]},\"id\":\"27307\",\"type\":\"DatetimeTicker\"},{\"attributes\":{\"fill_alpha\":{\"value\":0.1},\"fill_color\":{\"value\":\"#1f77b4\"},\"line_alpha\":{\"value\":0.1},\"line_color\":{\"value\":\"#1f77b4\"},\"x\":{\"field\":\"x\"},\"y\":{\"field\":\"y\"}},\"id\":\"27330\",\"type\":\"Scatter\"},{\"attributes\":{\"days\":[1,15]},\"id\":\"28273\",\"type\":\"DaysTicker\"},{\"attributes\":{\"months\":[0,6]},\"id\":\"28277\",\"type\":\"MonthsTicker\"},{\"attributes\":{\"days\":[1,8,15,22]},\"id\":\"28272\",\"type\":\"DaysTicker\"},{\"attributes\":{},\"id\":\"28278\",\"type\":\"YearsTicker\"},{\"attributes\":{\"months\":[0,4,8]},\"id\":\"28276\",\"type\":\"MonthsTicker\"},{\"attributes\":{\"line_alpha\":0.1,\"line_color\":\"#1f77b4\",\"x\":{\"field\":\"x\"},\"y\":{\"field\":\"y\"}},\"id\":\"27335\",\"type\":\"Line\"},{\"attributes\":{\"axis_label\":\"Time (weekly)\",\"formatter\":{\"id\":\"28263\"},\"ticker\":{\"id\":\"27307\"}},\"id\":\"27306\",\"type\":\"DatetimeAxis\"},{\"attributes\":{},\"id\":\"27300\",\"type\":\"DataRange1d\"},{\"attributes\":{\"source\":{\"id\":\"27333\"}},\"id\":\"27337\",\"type\":\"CDSView\"},{\"attributes\":{\"data_source\":{\"id\":\"27328\"},\"glyph\":{\"id\":\"27329\"},\"hover_glyph\":null,\"muted_glyph\":null,\"nonselection_glyph\":{\"id\":\"27330\"},\"selection_glyph\":null,\"view\":{\"id\":\"27332\"}},\"id\":\"27331\",\"type\":\"GlyphRenderer\"},{\"attributes\":{\"data\":{\"x\":{\"__ndarray__\":\"AACAe0hcdEIAAMBDiV50QgAAAAzKYHRCAABA1ApjdEIAAICcS2V0QgAAwGSMZ3RCAAAALc1pdEIAAED1DWx0QgAAgL1ObnRCAADAhY9wdEIAAABO0HJ0QgAAQBYRdXRCAACA3lF3dEIAAMCmknl0QgAAAG/Te3RCAABANxR+dEIAAID/VIB0QgAAwMeVgnRC\",\"dtype\":\"float64\",\"order\":\"little\",\"shape\":[18]},\"y\":[5,5,9,8,6,5,5,4,9,10,16,11,6,7,9,13,13,13]},\"selected\":{\"id\":\"28279\"},\"selection_policy\":{\"id\":\"28280\"}},\"id\":\"27328\",\"type\":\"ColumnDataSource\"},{\"attributes\":{\"fill_color\":{\"value\":\"#1f77b4\"},\"line_color\":{\"value\":\"#1f77b4\"},\"x\":{\"field\":\"x\"},\"y\":{\"field\":\"y\"}},\"id\":\"27329\",\"type\":\"Scatter\"},{\"attributes\":{},\"id\":\"28279\",\"type\":\"Selection\"},{\"attributes\":{\"bottom_units\":\"screen\",\"fill_alpha\":0.5,\"fill_color\":\"lightgrey\",\"left_units\":\"screen\",\"level\":\"overlay\",\"line_alpha\":1.0,\"line_color\":\"black\",\"line_dash\":[4,4],\"line_width\":2,\"right_units\":\"screen\",\"top_units\":\"screen\"},\"id\":\"27320\",\"type\":\"BoxAnnotation\"},{\"attributes\":{},\"id\":\"27304\",\"type\":\"LinearScale\"},{\"attributes\":{},\"id\":\"28280\",\"type\":\"UnionRenderers\"},{\"attributes\":{\"text\":\"Count of weekly active users\"},\"id\":\"27296\",\"type\":\"Title\"}],\"root_ids\":[\"27295\"]},\"title\":\"Bokeh Application\",\"version\":\"2.2.1\"}};\n",
       "  var render_items = [{\"docid\":\"f51cfdc5-d463-4e6b-a354-5ac2a9fb9161\",\"root_ids\":[\"27295\"],\"roots\":{\"27295\":\"330754f3-d057-46f9-8352-30488762d7c3\"}}];\n",
       "  root.Bokeh.embed.embed_items_notebook(docs_json, render_items);\n",
       "\n",
       "  }\n",
       "  if (root.Bokeh !== undefined) {\n",
       "    embed_document(root);\n",
       "  } else {\n",
       "    var attempts = 0;\n",
       "    var timer = setInterval(function(root) {\n",
       "      if (root.Bokeh !== undefined) {\n",
       "        clearInterval(timer);\n",
       "        embed_document(root);\n",
       "      } else {\n",
       "        attempts++;\n",
       "        if (attempts > 100) {\n",
       "          clearInterval(timer);\n",
       "          console.log(\"Bokeh: ERROR: Unable to run BokehJS code because BokehJS library is missing\");\n",
       "        }\n",
       "      }\n",
       "    }, 10, root)\n",
       "  }\n",
       "})(window);"
      ],
      "application/vnd.bokehjs_exec.v0+json": ""
     },
     "metadata": {
      "application/vnd.bokehjs_exec.v0+json": {
       "id": "27295"
      }
     },
     "output_type": "display_data"
    },
    {
     "name": "stdout",
     "output_type": "stream",
     "text": [
      "Philippines\n"
     ]
    },
    {
     "data": {
      "text/html": [
       "\n",
       "\n",
       "\n",
       "\n",
       "\n",
       "\n",
       "  <div class=\"bk-root\" id=\"5918f589-47d4-4887-9018-76acdf81ab74\" data-root-id=\"28394\"></div>\n"
      ]
     },
     "metadata": {},
     "output_type": "display_data"
    },
    {
     "data": {
      "application/javascript": [
       "(function(root) {\n",
       "  function embed_document(root) {\n",
       "    \n",
       "  var docs_json = {\"82dc566a-c86f-4345-9723-2a2ee22cfc81\":{\"roots\":{\"references\":[{\"attributes\":{\"below\":[{\"id\":\"28405\"}],\"center\":[{\"id\":\"28408\"},{\"id\":\"28412\"}],\"left\":[{\"id\":\"28409\"}],\"plot_height\":300,\"plot_width\":500,\"renderers\":[{\"id\":\"28430\"},{\"id\":\"28435\"}],\"title\":{\"id\":\"28395\"},\"toolbar\":{\"id\":\"28420\"},\"x_range\":{\"id\":\"28397\"},\"x_scale\":{\"id\":\"28401\"},\"y_range\":{\"id\":\"28399\"},\"y_scale\":{\"id\":\"28403\"}},\"id\":\"28394\",\"subtype\":\"Figure\",\"type\":\"Plot\"},{\"attributes\":{\"mantissas\":[1,2,5],\"max_interval\":500.0,\"num_minor_ticks\":0},\"id\":\"29388\",\"type\":\"AdaptiveTicker\"},{\"attributes\":{\"base\":60,\"mantissas\":[1,2,5,10,15,20,30],\"max_interval\":1800000.0,\"min_interval\":1000.0,\"num_minor_ticks\":0},\"id\":\"29389\",\"type\":\"AdaptiveTicker\"},{\"attributes\":{\"days\":[1,2,3,4,5,6,7,8,9,10,11,12,13,14,15,16,17,18,19,20,21,22,23,24,25,26,27,28,29,30,31]},\"id\":\"29391\",\"type\":\"DaysTicker\"},{\"attributes\":{\"base\":24,\"mantissas\":[1,2,4,6,8,12],\"max_interval\":43200000.0,\"min_interval\":3600000.0,\"num_minor_ticks\":0},\"id\":\"29390\",\"type\":\"AdaptiveTicker\"},{\"attributes\":{\"months\":[0,1,2,3,4,5,6,7,8,9,10,11]},\"id\":\"29395\",\"type\":\"MonthsTicker\"},{\"attributes\":{\"months\":[0,2,4,6,8,10]},\"id\":\"29396\",\"type\":\"MonthsTicker\"},{\"attributes\":{\"bottom_units\":\"screen\",\"fill_alpha\":0.5,\"fill_color\":\"lightgrey\",\"left_units\":\"screen\",\"level\":\"overlay\",\"line_alpha\":1.0,\"line_color\":\"black\",\"line_dash\":[4,4],\"line_width\":2,\"right_units\":\"screen\",\"top_units\":\"screen\"},\"id\":\"28419\",\"type\":\"BoxAnnotation\"},{\"attributes\":{},\"id\":\"28416\",\"type\":\"SaveTool\"},{\"attributes\":{\"days\":[1,4,7,10,13,16,19,22,25,28]},\"id\":\"29392\",\"type\":\"DaysTicker\"},{\"attributes\":{\"days\":[1,15]},\"id\":\"29394\",\"type\":\"DaysTicker\"},{\"attributes\":{\"months\":[0,6]},\"id\":\"29398\",\"type\":\"MonthsTicker\"},{\"attributes\":{\"days\":[1,8,15,22]},\"id\":\"29393\",\"type\":\"DaysTicker\"},{\"attributes\":{},\"id\":\"29403\",\"type\":\"UnionRenderers\"},{\"attributes\":{},\"id\":\"29399\",\"type\":\"YearsTicker\"},{\"attributes\":{},\"id\":\"29384\",\"type\":\"DatetimeTickFormatter\"},{\"attributes\":{\"num_minor_ticks\":5,\"tickers\":[{\"id\":\"29388\"},{\"id\":\"29389\"},{\"id\":\"29390\"},{\"id\":\"29391\"},{\"id\":\"29392\"},{\"id\":\"29393\"},{\"id\":\"29394\"},{\"id\":\"29395\"},{\"id\":\"29396\"},{\"id\":\"29397\"},{\"id\":\"29398\"},{\"id\":\"29399\"}]},\"id\":\"28406\",\"type\":\"DatetimeTicker\"},{\"attributes\":{\"months\":[0,4,8]},\"id\":\"29397\",\"type\":\"MonthsTicker\"},{\"attributes\":{},\"id\":\"28410\",\"type\":\"BasicTicker\"},{\"attributes\":{},\"id\":\"28399\",\"type\":\"DataRange1d\"},{\"attributes\":{\"axis\":{\"id\":\"28409\"},\"dimension\":1,\"ticker\":null},\"id\":\"28412\",\"type\":\"Grid\"},{\"attributes\":{},\"id\":\"28413\",\"type\":\"PanTool\"},{\"attributes\":{},\"id\":\"28397\",\"type\":\"DataRange1d\"},{\"attributes\":{\"overlay\":{\"id\":\"28419\"}},\"id\":\"28415\",\"type\":\"BoxZoomTool\"},{\"attributes\":{},\"id\":\"29400\",\"type\":\"Selection\"},{\"attributes\":{\"axis\":{\"id\":\"28405\"},\"ticker\":null},\"id\":\"28408\",\"type\":\"Grid\"},{\"attributes\":{\"active_drag\":\"auto\",\"active_inspect\":\"auto\",\"active_multi\":null,\"active_scroll\":\"auto\",\"active_tap\":\"auto\",\"tools\":[{\"id\":\"28413\"},{\"id\":\"28414\"},{\"id\":\"28415\"},{\"id\":\"28416\"},{\"id\":\"28417\"},{\"id\":\"28418\"}]},\"id\":\"28420\",\"type\":\"Toolbar\"},{\"attributes\":{},\"id\":\"29401\",\"type\":\"UnionRenderers\"},{\"attributes\":{},\"id\":\"28418\",\"type\":\"HelpTool\"},{\"attributes\":{},\"id\":\"28417\",\"type\":\"ResetTool\"},{\"attributes\":{\"data\":{\"x\":{\"__ndarray__\":\"AACAe0hcdEIAAMBDiV50QgAAAAzKYHRCAABA1ApjdEIAAICcS2V0QgAAwGSMZ3RCAAAALc1pdEIAAED1DWx0QgAAgL1ObnRCAADAhY9wdEIAAABO0HJ0QgAAQBYRdXRCAACA3lF3dEIAAMCmknl0QgAAAG/Te3RCAABANxR+dEIAAID/VIB0QgAAwMeVgnRC\",\"dtype\":\"float64\",\"order\":\"little\",\"shape\":[18]},\"y\":[4,3,2,9,7,6,5,8,10,4,7,8,7,7,6,8,8,5]},\"selected\":{\"id\":\"29402\"},\"selection_policy\":{\"id\":\"29403\"}},\"id\":\"28432\",\"type\":\"ColumnDataSource\"},{\"attributes\":{\"axis_label\":\"Counts\",\"formatter\":{\"id\":\"29386\"},\"ticker\":{\"id\":\"28410\"}},\"id\":\"28409\",\"type\":\"LinearAxis\"},{\"attributes\":{\"line_alpha\":0.1,\"line_color\":\"#1f77b4\",\"x\":{\"field\":\"x\"},\"y\":{\"field\":\"y\"}},\"id\":\"28434\",\"type\":\"Line\"},{\"attributes\":{\"data_source\":{\"id\":\"28432\"},\"glyph\":{\"id\":\"28433\"},\"hover_glyph\":null,\"muted_glyph\":null,\"nonselection_glyph\":{\"id\":\"28434\"},\"selection_glyph\":null,\"view\":{\"id\":\"28436\"}},\"id\":\"28435\",\"type\":\"GlyphRenderer\"},{\"attributes\":{\"fill_alpha\":{\"value\":0.1},\"fill_color\":{\"value\":\"#1f77b4\"},\"line_alpha\":{\"value\":0.1},\"line_color\":{\"value\":\"#1f77b4\"},\"x\":{\"field\":\"x\"},\"y\":{\"field\":\"y\"}},\"id\":\"28429\",\"type\":\"Scatter\"},{\"attributes\":{\"text\":\"Count of weekly active users\"},\"id\":\"28395\",\"type\":\"Title\"},{\"attributes\":{},\"id\":\"28414\",\"type\":\"WheelZoomTool\"},{\"attributes\":{\"line_color\":\"#1f77b4\",\"x\":{\"field\":\"x\"},\"y\":{\"field\":\"y\"}},\"id\":\"28433\",\"type\":\"Line\"},{\"attributes\":{\"source\":{\"id\":\"28427\"}},\"id\":\"28431\",\"type\":\"CDSView\"},{\"attributes\":{\"data_source\":{\"id\":\"28427\"},\"glyph\":{\"id\":\"28428\"},\"hover_glyph\":null,\"muted_glyph\":null,\"nonselection_glyph\":{\"id\":\"28429\"},\"selection_glyph\":null,\"view\":{\"id\":\"28431\"}},\"id\":\"28430\",\"type\":\"GlyphRenderer\"},{\"attributes\":{},\"id\":\"28401\",\"type\":\"LinearScale\"},{\"attributes\":{\"data\":{\"x\":{\"__ndarray__\":\"AACAe0hcdEIAAMBDiV50QgAAAAzKYHRCAABA1ApjdEIAAICcS2V0QgAAwGSMZ3RCAAAALc1pdEIAAED1DWx0QgAAgL1ObnRCAADAhY9wdEIAAABO0HJ0QgAAQBYRdXRCAACA3lF3dEIAAMCmknl0QgAAAG/Te3RCAABANxR+dEIAAID/VIB0QgAAwMeVgnRC\",\"dtype\":\"float64\",\"order\":\"little\",\"shape\":[18]},\"y\":[4,3,2,9,7,6,5,8,10,4,7,8,7,7,6,8,8,5]},\"selected\":{\"id\":\"29400\"},\"selection_policy\":{\"id\":\"29401\"}},\"id\":\"28427\",\"type\":\"ColumnDataSource\"},{\"attributes\":{},\"id\":\"29386\",\"type\":\"BasicTickFormatter\"},{\"attributes\":{},\"id\":\"29402\",\"type\":\"Selection\"},{\"attributes\":{\"source\":{\"id\":\"28432\"}},\"id\":\"28436\",\"type\":\"CDSView\"},{\"attributes\":{\"axis_label\":\"Time (weekly)\",\"formatter\":{\"id\":\"29384\"},\"ticker\":{\"id\":\"28406\"}},\"id\":\"28405\",\"type\":\"DatetimeAxis\"},{\"attributes\":{\"fill_color\":{\"value\":\"#1f77b4\"},\"line_color\":{\"value\":\"#1f77b4\"},\"x\":{\"field\":\"x\"},\"y\":{\"field\":\"y\"}},\"id\":\"28428\",\"type\":\"Scatter\"},{\"attributes\":{},\"id\":\"28403\",\"type\":\"LinearScale\"}],\"root_ids\":[\"28394\"]},\"title\":\"Bokeh Application\",\"version\":\"2.2.1\"}};\n",
       "  var render_items = [{\"docid\":\"82dc566a-c86f-4345-9723-2a2ee22cfc81\",\"root_ids\":[\"28394\"],\"roots\":{\"28394\":\"5918f589-47d4-4887-9018-76acdf81ab74\"}}];\n",
       "  root.Bokeh.embed.embed_items_notebook(docs_json, render_items);\n",
       "\n",
       "  }\n",
       "  if (root.Bokeh !== undefined) {\n",
       "    embed_document(root);\n",
       "  } else {\n",
       "    var attempts = 0;\n",
       "    var timer = setInterval(function(root) {\n",
       "      if (root.Bokeh !== undefined) {\n",
       "        clearInterval(timer);\n",
       "        embed_document(root);\n",
       "      } else {\n",
       "        attempts++;\n",
       "        if (attempts > 100) {\n",
       "          clearInterval(timer);\n",
       "          console.log(\"Bokeh: ERROR: Unable to run BokehJS code because BokehJS library is missing\");\n",
       "        }\n",
       "      }\n",
       "    }, 10, root)\n",
       "  }\n",
       "})(window);"
      ],
      "application/vnd.bokehjs_exec.v0+json": ""
     },
     "metadata": {
      "application/vnd.bokehjs_exec.v0+json": {
       "id": "28394"
      }
     },
     "output_type": "display_data"
    },
    {
     "name": "stdout",
     "output_type": "stream",
     "text": [
      "Argentina\n"
     ]
    },
    {
     "data": {
      "text/html": [
       "\n",
       "\n",
       "\n",
       "\n",
       "\n",
       "\n",
       "  <div class=\"bk-root\" id=\"4d26c675-0988-4c7f-a599-df9069e1825b\" data-root-id=\"29515\"></div>\n"
      ]
     },
     "metadata": {},
     "output_type": "display_data"
    },
    {
     "data": {
      "application/javascript": [
       "(function(root) {\n",
       "  function embed_document(root) {\n",
       "    \n",
       "  var docs_json = {\"7fc354bb-bec8-440c-8856-ec2b08c163e7\":{\"roots\":{\"references\":[{\"attributes\":{\"below\":[{\"id\":\"29526\"}],\"center\":[{\"id\":\"29529\"},{\"id\":\"29533\"}],\"left\":[{\"id\":\"29530\"}],\"plot_height\":300,\"plot_width\":500,\"renderers\":[{\"id\":\"29551\"},{\"id\":\"29556\"}],\"title\":{\"id\":\"29516\"},\"toolbar\":{\"id\":\"29541\"},\"x_range\":{\"id\":\"29518\"},\"x_scale\":{\"id\":\"29522\"},\"y_range\":{\"id\":\"29520\"},\"y_scale\":{\"id\":\"29524\"}},\"id\":\"29515\",\"subtype\":\"Figure\",\"type\":\"Plot\"},{\"attributes\":{\"days\":[1,15]},\"id\":\"30537\",\"type\":\"DaysTicker\"},{\"attributes\":{\"mantissas\":[1,2,5],\"max_interval\":500.0,\"num_minor_ticks\":0},\"id\":\"30531\",\"type\":\"AdaptiveTicker\"},{\"attributes\":{\"source\":{\"id\":\"29548\"}},\"id\":\"29552\",\"type\":\"CDSView\"},{\"attributes\":{\"months\":[0,2,4,6,8,10]},\"id\":\"30539\",\"type\":\"MonthsTicker\"},{\"attributes\":{\"base\":60,\"mantissas\":[1,2,5,10,15,20,30],\"max_interval\":1800000.0,\"min_interval\":1000.0,\"num_minor_ticks\":0},\"id\":\"30532\",\"type\":\"AdaptiveTicker\"},{\"attributes\":{},\"id\":\"30543\",\"type\":\"Selection\"},{\"attributes\":{},\"id\":\"29518\",\"type\":\"DataRange1d\"},{\"attributes\":{\"months\":[0,1,2,3,4,5,6,7,8,9,10,11]},\"id\":\"30538\",\"type\":\"MonthsTicker\"},{\"attributes\":{},\"id\":\"30544\",\"type\":\"UnionRenderers\"},{\"attributes\":{\"axis_label\":\"Time (weekly)\",\"formatter\":{\"id\":\"30527\"},\"ticker\":{\"id\":\"29527\"}},\"id\":\"29526\",\"type\":\"DatetimeAxis\"},{\"attributes\":{\"bottom_units\":\"screen\",\"fill_alpha\":0.5,\"fill_color\":\"lightgrey\",\"left_units\":\"screen\",\"level\":\"overlay\",\"line_alpha\":1.0,\"line_color\":\"black\",\"line_dash\":[4,4],\"line_width\":2,\"right_units\":\"screen\",\"top_units\":\"screen\"},\"id\":\"29540\",\"type\":\"BoxAnnotation\"},{\"attributes\":{},\"id\":\"29520\",\"type\":\"DataRange1d\"},{\"attributes\":{\"overlay\":{\"id\":\"29540\"}},\"id\":\"29536\",\"type\":\"BoxZoomTool\"},{\"attributes\":{},\"id\":\"30527\",\"type\":\"DatetimeTickFormatter\"},{\"attributes\":{\"text\":\"Count of weekly active users\"},\"id\":\"29516\",\"type\":\"Title\"},{\"attributes\":{},\"id\":\"30545\",\"type\":\"Selection\"},{\"attributes\":{},\"id\":\"29531\",\"type\":\"BasicTicker\"},{\"attributes\":{},\"id\":\"30546\",\"type\":\"UnionRenderers\"},{\"attributes\":{\"base\":24,\"mantissas\":[1,2,4,6,8,12],\"max_interval\":43200000.0,\"min_interval\":3600000.0,\"num_minor_ticks\":0},\"id\":\"30533\",\"type\":\"AdaptiveTicker\"},{\"attributes\":{\"days\":[1,2,3,4,5,6,7,8,9,10,11,12,13,14,15,16,17,18,19,20,21,22,23,24,25,26,27,28,29,30,31]},\"id\":\"30534\",\"type\":\"DaysTicker\"},{\"attributes\":{\"axis\":{\"id\":\"29530\"},\"dimension\":1,\"ticker\":null},\"id\":\"29533\",\"type\":\"Grid\"},{\"attributes\":{},\"id\":\"29534\",\"type\":\"PanTool\"},{\"attributes\":{\"num_minor_ticks\":5,\"tickers\":[{\"id\":\"30531\"},{\"id\":\"30532\"},{\"id\":\"30533\"},{\"id\":\"30534\"},{\"id\":\"30535\"},{\"id\":\"30536\"},{\"id\":\"30537\"},{\"id\":\"30538\"},{\"id\":\"30539\"},{\"id\":\"30540\"},{\"id\":\"30541\"},{\"id\":\"30542\"}]},\"id\":\"29527\",\"type\":\"DatetimeTicker\"},{\"attributes\":{\"line_alpha\":0.1,\"line_color\":\"#1f77b4\",\"x\":{\"field\":\"x\"},\"y\":{\"field\":\"y\"}},\"id\":\"29555\",\"type\":\"Line\"},{\"attributes\":{},\"id\":\"29537\",\"type\":\"SaveTool\"},{\"attributes\":{},\"id\":\"29539\",\"type\":\"HelpTool\"},{\"attributes\":{\"active_drag\":\"auto\",\"active_inspect\":\"auto\",\"active_multi\":null,\"active_scroll\":\"auto\",\"active_tap\":\"auto\",\"tools\":[{\"id\":\"29534\"},{\"id\":\"29535\"},{\"id\":\"29536\"},{\"id\":\"29537\"},{\"id\":\"29538\"},{\"id\":\"29539\"}]},\"id\":\"29541\",\"type\":\"Toolbar\"},{\"attributes\":{\"axis_label\":\"Counts\",\"formatter\":{\"id\":\"30529\"},\"ticker\":{\"id\":\"29531\"}},\"id\":\"29530\",\"type\":\"LinearAxis\"},{\"attributes\":{\"axis\":{\"id\":\"29526\"},\"ticker\":null},\"id\":\"29529\",\"type\":\"Grid\"},{\"attributes\":{\"data\":{\"x\":{\"__ndarray__\":\"AACAe0hcdEIAAMBDiV50QgAAAAzKYHRCAABA1ApjdEIAAICcS2V0QgAAwGSMZ3RCAAAALc1pdEIAAED1DWx0QgAAgL1ObnRCAADAhY9wdEIAAABO0HJ0QgAAQBYRdXRCAACA3lF3dEIAAMCmknl0QgAAAG/Te3RCAABANxR+dEIAAID/VIB0QgAAwMeVgnRC\",\"dtype\":\"float64\",\"order\":\"little\",\"shape\":[18]},\"y\":[1,5,6,7,5,8,8,4,11,12,7,7,5,7,9,9,7,10]},\"selected\":{\"id\":\"30545\"},\"selection_policy\":{\"id\":\"30546\"}},\"id\":\"29553\",\"type\":\"ColumnDataSource\"},{\"attributes\":{\"data_source\":{\"id\":\"29553\"},\"glyph\":{\"id\":\"29554\"},\"hover_glyph\":null,\"muted_glyph\":null,\"nonselection_glyph\":{\"id\":\"29555\"},\"selection_glyph\":null,\"view\":{\"id\":\"29557\"}},\"id\":\"29556\",\"type\":\"GlyphRenderer\"},{\"attributes\":{\"source\":{\"id\":\"29553\"}},\"id\":\"29557\",\"type\":\"CDSView\"},{\"attributes\":{},\"id\":\"30529\",\"type\":\"BasicTickFormatter\"},{\"attributes\":{\"fill_alpha\":{\"value\":0.1},\"fill_color\":{\"value\":\"#1f77b4\"},\"line_alpha\":{\"value\":0.1},\"line_color\":{\"value\":\"#1f77b4\"},\"x\":{\"field\":\"x\"},\"y\":{\"field\":\"y\"}},\"id\":\"29550\",\"type\":\"Scatter\"},{\"attributes\":{},\"id\":\"29538\",\"type\":\"ResetTool\"},{\"attributes\":{},\"id\":\"30542\",\"type\":\"YearsTicker\"},{\"attributes\":{},\"id\":\"29535\",\"type\":\"WheelZoomTool\"},{\"attributes\":{\"fill_color\":{\"value\":\"#1f77b4\"},\"line_color\":{\"value\":\"#1f77b4\"},\"x\":{\"field\":\"x\"},\"y\":{\"field\":\"y\"}},\"id\":\"29549\",\"type\":\"Scatter\"},{\"attributes\":{\"line_color\":\"#1f77b4\",\"x\":{\"field\":\"x\"},\"y\":{\"field\":\"y\"}},\"id\":\"29554\",\"type\":\"Line\"},{\"attributes\":{\"days\":[1,8,15,22]},\"id\":\"30536\",\"type\":\"DaysTicker\"},{\"attributes\":{},\"id\":\"29522\",\"type\":\"LinearScale\"},{\"attributes\":{\"months\":[0,6]},\"id\":\"30541\",\"type\":\"MonthsTicker\"},{\"attributes\":{\"months\":[0,4,8]},\"id\":\"30540\",\"type\":\"MonthsTicker\"},{\"attributes\":{\"data_source\":{\"id\":\"29548\"},\"glyph\":{\"id\":\"29549\"},\"hover_glyph\":null,\"muted_glyph\":null,\"nonselection_glyph\":{\"id\":\"29550\"},\"selection_glyph\":null,\"view\":{\"id\":\"29552\"}},\"id\":\"29551\",\"type\":\"GlyphRenderer\"},{\"attributes\":{\"data\":{\"x\":{\"__ndarray__\":\"AACAe0hcdEIAAMBDiV50QgAAAAzKYHRCAABA1ApjdEIAAICcS2V0QgAAwGSMZ3RCAAAALc1pdEIAAED1DWx0QgAAgL1ObnRCAADAhY9wdEIAAABO0HJ0QgAAQBYRdXRCAACA3lF3dEIAAMCmknl0QgAAAG/Te3RCAABANxR+dEIAAID/VIB0QgAAwMeVgnRC\",\"dtype\":\"float64\",\"order\":\"little\",\"shape\":[18]},\"y\":[1,5,6,7,5,8,8,4,11,12,7,7,5,7,9,9,7,10]},\"selected\":{\"id\":\"30543\"},\"selection_policy\":{\"id\":\"30544\"}},\"id\":\"29548\",\"type\":\"ColumnDataSource\"},{\"attributes\":{},\"id\":\"29524\",\"type\":\"LinearScale\"},{\"attributes\":{\"days\":[1,4,7,10,13,16,19,22,25,28]},\"id\":\"30535\",\"type\":\"DaysTicker\"}],\"root_ids\":[\"29515\"]},\"title\":\"Bokeh Application\",\"version\":\"2.2.1\"}};\n",
       "  var render_items = [{\"docid\":\"7fc354bb-bec8-440c-8856-ec2b08c163e7\",\"root_ids\":[\"29515\"],\"roots\":{\"29515\":\"4d26c675-0988-4c7f-a599-df9069e1825b\"}}];\n",
       "  root.Bokeh.embed.embed_items_notebook(docs_json, render_items);\n",
       "\n",
       "  }\n",
       "  if (root.Bokeh !== undefined) {\n",
       "    embed_document(root);\n",
       "  } else {\n",
       "    var attempts = 0;\n",
       "    var timer = setInterval(function(root) {\n",
       "      if (root.Bokeh !== undefined) {\n",
       "        clearInterval(timer);\n",
       "        embed_document(root);\n",
       "      } else {\n",
       "        attempts++;\n",
       "        if (attempts > 100) {\n",
       "          clearInterval(timer);\n",
       "          console.log(\"Bokeh: ERROR: Unable to run BokehJS code because BokehJS library is missing\");\n",
       "        }\n",
       "      }\n",
       "    }, 10, root)\n",
       "  }\n",
       "})(window);"
      ],
      "application/vnd.bokehjs_exec.v0+json": ""
     },
     "metadata": {
      "application/vnd.bokehjs_exec.v0+json": {
       "id": "29515"
      }
     },
     "output_type": "display_data"
    },
    {
     "name": "stdout",
     "output_type": "stream",
     "text": [
      "Turkey\n"
     ]
    },
    {
     "data": {
      "text/html": [
       "\n",
       "\n",
       "\n",
       "\n",
       "\n",
       "\n",
       "  <div class=\"bk-root\" id=\"734243a0-dcbd-45ce-90b1-3665b28f6858\" data-root-id=\"30658\"></div>\n"
      ]
     },
     "metadata": {},
     "output_type": "display_data"
    },
    {
     "data": {
      "application/javascript": [
       "(function(root) {\n",
       "  function embed_document(root) {\n",
       "    \n",
       "  var docs_json = {\"ff655959-715a-44c6-a084-494db5dd58dd\":{\"roots\":{\"references\":[{\"attributes\":{\"below\":[{\"id\":\"30669\"}],\"center\":[{\"id\":\"30672\"},{\"id\":\"30676\"}],\"left\":[{\"id\":\"30673\"}],\"plot_height\":300,\"plot_width\":500,\"renderers\":[{\"id\":\"30694\"},{\"id\":\"30699\"}],\"title\":{\"id\":\"30659\"},\"toolbar\":{\"id\":\"30684\"},\"x_range\":{\"id\":\"30661\"},\"x_scale\":{\"id\":\"30665\"},\"y_range\":{\"id\":\"30663\"},\"y_scale\":{\"id\":\"30667\"}},\"id\":\"30658\",\"subtype\":\"Figure\",\"type\":\"Plot\"},{\"attributes\":{\"axis\":{\"id\":\"30673\"},\"dimension\":1,\"ticker\":null},\"id\":\"30676\",\"type\":\"Grid\"},{\"attributes\":{\"data_source\":{\"id\":\"30696\"},\"glyph\":{\"id\":\"30697\"},\"hover_glyph\":null,\"muted_glyph\":null,\"nonselection_glyph\":{\"id\":\"30698\"},\"selection_glyph\":null,\"view\":{\"id\":\"30700\"}},\"id\":\"30699\",\"type\":\"GlyphRenderer\"},{\"attributes\":{\"data\":{\"x\":{\"__ndarray__\":\"AACAe0hcdEIAAMBDiV50QgAAAAzKYHRCAABA1ApjdEIAAICcS2V0QgAAwGSMZ3RCAAAALc1pdEIAAED1DWx0QgAAgL1ObnRCAADAhY9wdEIAAABO0HJ0QgAAQBYRdXRCAACA3lF3dEIAAMCmknl0QgAAAG/Te3RCAABANxR+dEIAAID/VIB0QgAAwMeVgnRC\",\"dtype\":\"float64\",\"order\":\"little\",\"shape\":[18]},\"y\":[2,8,3,5,7,8,9,9,6,10,17,13,14,12,13,14,7,13]},\"selected\":{\"id\":\"31710\"},\"selection_policy\":{\"id\":\"31711\"}},\"id\":\"30696\",\"type\":\"ColumnDataSource\"},{\"attributes\":{},\"id\":\"30681\",\"type\":\"ResetTool\"},{\"attributes\":{\"text\":\"Count of weekly active users\"},\"id\":\"30659\",\"type\":\"Title\"},{\"attributes\":{\"num_minor_ticks\":5,\"tickers\":[{\"id\":\"31696\"},{\"id\":\"31697\"},{\"id\":\"31698\"},{\"id\":\"31699\"},{\"id\":\"31700\"},{\"id\":\"31701\"},{\"id\":\"31702\"},{\"id\":\"31703\"},{\"id\":\"31704\"},{\"id\":\"31705\"},{\"id\":\"31706\"},{\"id\":\"31707\"}]},\"id\":\"30670\",\"type\":\"DatetimeTicker\"},{\"attributes\":{\"fill_alpha\":{\"value\":0.1},\"fill_color\":{\"value\":\"#1f77b4\"},\"line_alpha\":{\"value\":0.1},\"line_color\":{\"value\":\"#1f77b4\"},\"x\":{\"field\":\"x\"},\"y\":{\"field\":\"y\"}},\"id\":\"30693\",\"type\":\"Scatter\"},{\"attributes\":{},\"id\":\"31694\",\"type\":\"BasicTickFormatter\"},{\"attributes\":{},\"id\":\"31710\",\"type\":\"Selection\"},{\"attributes\":{\"line_color\":\"#1f77b4\",\"x\":{\"field\":\"x\"},\"y\":{\"field\":\"y\"}},\"id\":\"30697\",\"type\":\"Line\"},{\"attributes\":{},\"id\":\"30665\",\"type\":\"LinearScale\"},{\"attributes\":{\"source\":{\"id\":\"30691\"}},\"id\":\"30695\",\"type\":\"CDSView\"},{\"attributes\":{\"data_source\":{\"id\":\"30691\"},\"glyph\":{\"id\":\"30692\"},\"hover_glyph\":null,\"muted_glyph\":null,\"nonselection_glyph\":{\"id\":\"30693\"},\"selection_glyph\":null,\"view\":{\"id\":\"30695\"}},\"id\":\"30694\",\"type\":\"GlyphRenderer\"},{\"attributes\":{\"axis\":{\"id\":\"30669\"},\"ticker\":null},\"id\":\"30672\",\"type\":\"Grid\"},{\"attributes\":{\"source\":{\"id\":\"30696\"}},\"id\":\"30700\",\"type\":\"CDSView\"},{\"attributes\":{\"mantissas\":[1,2,5],\"max_interval\":500.0,\"num_minor_ticks\":0},\"id\":\"31696\",\"type\":\"AdaptiveTicker\"},{\"attributes\":{},\"id\":\"30663\",\"type\":\"DataRange1d\"},{\"attributes\":{\"base\":60,\"mantissas\":[1,2,5,10,15,20,30],\"max_interval\":1800000.0,\"min_interval\":1000.0,\"num_minor_ticks\":0},\"id\":\"31697\",\"type\":\"AdaptiveTicker\"},{\"attributes\":{\"line_alpha\":0.1,\"line_color\":\"#1f77b4\",\"x\":{\"field\":\"x\"},\"y\":{\"field\":\"y\"}},\"id\":\"30698\",\"type\":\"Line\"},{\"attributes\":{\"days\":[1,2,3,4,5,6,7,8,9,10,11,12,13,14,15,16,17,18,19,20,21,22,23,24,25,26,27,28,29,30,31]},\"id\":\"31699\",\"type\":\"DaysTicker\"},{\"attributes\":{\"base\":24,\"mantissas\":[1,2,4,6,8,12],\"max_interval\":43200000.0,\"min_interval\":3600000.0,\"num_minor_ticks\":0},\"id\":\"31698\",\"type\":\"AdaptiveTicker\"},{\"attributes\":{\"months\":[0,1,2,3,4,5,6,7,8,9,10,11]},\"id\":\"31703\",\"type\":\"MonthsTicker\"},{\"attributes\":{},\"id\":\"31711\",\"type\":\"UnionRenderers\"},{\"attributes\":{\"months\":[0,2,4,6,8,10]},\"id\":\"31704\",\"type\":\"MonthsTicker\"},{\"attributes\":{},\"id\":\"30661\",\"type\":\"DataRange1d\"},{\"attributes\":{\"days\":[1,4,7,10,13,16,19,22,25,28]},\"id\":\"31700\",\"type\":\"DaysTicker\"},{\"attributes\":{},\"id\":\"30674\",\"type\":\"BasicTicker\"},{\"attributes\":{\"days\":[1,15]},\"id\":\"31702\",\"type\":\"DaysTicker\"},{\"attributes\":{},\"id\":\"30682\",\"type\":\"HelpTool\"},{\"attributes\":{\"months\":[0,6]},\"id\":\"31706\",\"type\":\"MonthsTicker\"},{\"attributes\":{},\"id\":\"31692\",\"type\":\"DatetimeTickFormatter\"},{\"attributes\":{\"fill_color\":{\"value\":\"#1f77b4\"},\"line_color\":{\"value\":\"#1f77b4\"},\"x\":{\"field\":\"x\"},\"y\":{\"field\":\"y\"}},\"id\":\"30692\",\"type\":\"Scatter\"},{\"attributes\":{\"days\":[1,8,15,22]},\"id\":\"31701\",\"type\":\"DaysTicker\"},{\"attributes\":{},\"id\":\"31707\",\"type\":\"YearsTicker\"},{\"attributes\":{\"bottom_units\":\"screen\",\"fill_alpha\":0.5,\"fill_color\":\"lightgrey\",\"left_units\":\"screen\",\"level\":\"overlay\",\"line_alpha\":1.0,\"line_color\":\"black\",\"line_dash\":[4,4],\"line_width\":2,\"right_units\":\"screen\",\"top_units\":\"screen\"},\"id\":\"30683\",\"type\":\"BoxAnnotation\"},{\"attributes\":{},\"id\":\"30680\",\"type\":\"SaveTool\"},{\"attributes\":{\"months\":[0,4,8]},\"id\":\"31705\",\"type\":\"MonthsTicker\"},{\"attributes\":{},\"id\":\"30677\",\"type\":\"PanTool\"},{\"attributes\":{\"axis_label\":\"Counts\",\"formatter\":{\"id\":\"31694\"},\"ticker\":{\"id\":\"30674\"}},\"id\":\"30673\",\"type\":\"LinearAxis\"},{\"attributes\":{},\"id\":\"31708\",\"type\":\"Selection\"},{\"attributes\":{},\"id\":\"30678\",\"type\":\"WheelZoomTool\"},{\"attributes\":{},\"id\":\"31709\",\"type\":\"UnionRenderers\"},{\"attributes\":{\"axis_label\":\"Time (weekly)\",\"formatter\":{\"id\":\"31692\"},\"ticker\":{\"id\":\"30670\"}},\"id\":\"30669\",\"type\":\"DatetimeAxis\"},{\"attributes\":{\"data\":{\"x\":{\"__ndarray__\":\"AACAe0hcdEIAAMBDiV50QgAAAAzKYHRCAABA1ApjdEIAAICcS2V0QgAAwGSMZ3RCAAAALc1pdEIAAED1DWx0QgAAgL1ObnRCAADAhY9wdEIAAABO0HJ0QgAAQBYRdXRCAACA3lF3dEIAAMCmknl0QgAAAG/Te3RCAABANxR+dEIAAID/VIB0QgAAwMeVgnRC\",\"dtype\":\"float64\",\"order\":\"little\",\"shape\":[18]},\"y\":[2,8,3,5,7,8,9,9,6,10,17,13,14,12,13,14,7,13]},\"selected\":{\"id\":\"31708\"},\"selection_policy\":{\"id\":\"31709\"}},\"id\":\"30691\",\"type\":\"ColumnDataSource\"},{\"attributes\":{\"overlay\":{\"id\":\"30683\"}},\"id\":\"30679\",\"type\":\"BoxZoomTool\"},{\"attributes\":{},\"id\":\"30667\",\"type\":\"LinearScale\"},{\"attributes\":{\"active_drag\":\"auto\",\"active_inspect\":\"auto\",\"active_multi\":null,\"active_scroll\":\"auto\",\"active_tap\":\"auto\",\"tools\":[{\"id\":\"30677\"},{\"id\":\"30678\"},{\"id\":\"30679\"},{\"id\":\"30680\"},{\"id\":\"30681\"},{\"id\":\"30682\"}]},\"id\":\"30684\",\"type\":\"Toolbar\"}],\"root_ids\":[\"30658\"]},\"title\":\"Bokeh Application\",\"version\":\"2.2.1\"}};\n",
       "  var render_items = [{\"docid\":\"ff655959-715a-44c6-a084-494db5dd58dd\",\"root_ids\":[\"30658\"],\"roots\":{\"30658\":\"734243a0-dcbd-45ce-90b1-3665b28f6858\"}}];\n",
       "  root.Bokeh.embed.embed_items_notebook(docs_json, render_items);\n",
       "\n",
       "  }\n",
       "  if (root.Bokeh !== undefined) {\n",
       "    embed_document(root);\n",
       "  } else {\n",
       "    var attempts = 0;\n",
       "    var timer = setInterval(function(root) {\n",
       "      if (root.Bokeh !== undefined) {\n",
       "        clearInterval(timer);\n",
       "        embed_document(root);\n",
       "      } else {\n",
       "        attempts++;\n",
       "        if (attempts > 100) {\n",
       "          clearInterval(timer);\n",
       "          console.log(\"Bokeh: ERROR: Unable to run BokehJS code because BokehJS library is missing\");\n",
       "        }\n",
       "      }\n",
       "    }, 10, root)\n",
       "  }\n",
       "})(window);"
      ],
      "application/vnd.bokehjs_exec.v0+json": ""
     },
     "metadata": {
      "application/vnd.bokehjs_exec.v0+json": {
       "id": "30658"
      }
     },
     "output_type": "display_data"
    },
    {
     "name": "stdout",
     "output_type": "stream",
     "text": [
      "Singapore\n"
     ]
    },
    {
     "data": {
      "text/html": [
       "\n",
       "\n",
       "\n",
       "\n",
       "\n",
       "\n",
       "  <div class=\"bk-root\" id=\"a62f85c6-0347-4e25-aa84-71140d897bba\" data-root-id=\"31823\"></div>\n"
      ]
     },
     "metadata": {},
     "output_type": "display_data"
    },
    {
     "data": {
      "application/javascript": [
       "(function(root) {\n",
       "  function embed_document(root) {\n",
       "    \n",
       "  var docs_json = {\"d2854ba4-ed94-450d-987c-fe5d1073c272\":{\"roots\":{\"references\":[{\"attributes\":{\"below\":[{\"id\":\"31834\"}],\"center\":[{\"id\":\"31837\"},{\"id\":\"31841\"}],\"left\":[{\"id\":\"31838\"}],\"plot_height\":300,\"plot_width\":500,\"renderers\":[{\"id\":\"31859\"},{\"id\":\"31864\"}],\"title\":{\"id\":\"31824\"},\"toolbar\":{\"id\":\"31849\"},\"x_range\":{\"id\":\"31826\"},\"x_scale\":{\"id\":\"31830\"},\"y_range\":{\"id\":\"31828\"},\"y_scale\":{\"id\":\"31832\"}},\"id\":\"31823\",\"subtype\":\"Figure\",\"type\":\"Plot\"},{\"attributes\":{\"axis\":{\"id\":\"31834\"},\"ticker\":null},\"id\":\"31837\",\"type\":\"Grid\"},{\"attributes\":{},\"id\":\"32898\",\"type\":\"UnionRenderers\"},{\"attributes\":{},\"id\":\"31847\",\"type\":\"HelpTool\"},{\"attributes\":{\"months\":[0,6]},\"id\":\"32893\",\"type\":\"MonthsTicker\"},{\"attributes\":{\"active_drag\":\"auto\",\"active_inspect\":\"auto\",\"active_multi\":null,\"active_scroll\":\"auto\",\"active_tap\":\"auto\",\"tools\":[{\"id\":\"31842\"},{\"id\":\"31843\"},{\"id\":\"31844\"},{\"id\":\"31845\"},{\"id\":\"31846\"},{\"id\":\"31847\"}]},\"id\":\"31849\",\"type\":\"Toolbar\"},{\"attributes\":{\"data_source\":{\"id\":\"31861\"},\"glyph\":{\"id\":\"31862\"},\"hover_glyph\":null,\"muted_glyph\":null,\"nonselection_glyph\":{\"id\":\"31863\"},\"selection_glyph\":null,\"view\":{\"id\":\"31865\"}},\"id\":\"31864\",\"type\":\"GlyphRenderer\"},{\"attributes\":{},\"id\":\"31846\",\"type\":\"ResetTool\"},{\"attributes\":{},\"id\":\"31828\",\"type\":\"DataRange1d\"},{\"attributes\":{\"axis_label\":\"Time (weekly)\",\"formatter\":{\"id\":\"32879\"},\"ticker\":{\"id\":\"31835\"}},\"id\":\"31834\",\"type\":\"DatetimeAxis\"},{\"attributes\":{\"line_alpha\":0.1,\"line_color\":\"#1f77b4\",\"x\":{\"field\":\"x\"},\"y\":{\"field\":\"y\"}},\"id\":\"31863\",\"type\":\"Line\"},{\"attributes\":{\"overlay\":{\"id\":\"31848\"}},\"id\":\"31844\",\"type\":\"BoxZoomTool\"},{\"attributes\":{},\"id\":\"31842\",\"type\":\"PanTool\"},{\"attributes\":{\"num_minor_ticks\":5,\"tickers\":[{\"id\":\"32883\"},{\"id\":\"32884\"},{\"id\":\"32885\"},{\"id\":\"32886\"},{\"id\":\"32887\"},{\"id\":\"32888\"},{\"id\":\"32889\"},{\"id\":\"32890\"},{\"id\":\"32891\"},{\"id\":\"32892\"},{\"id\":\"32893\"},{\"id\":\"32894\"}]},\"id\":\"31835\",\"type\":\"DatetimeTicker\"},{\"attributes\":{},\"id\":\"32881\",\"type\":\"BasicTickFormatter\"},{\"attributes\":{},\"id\":\"31845\",\"type\":\"SaveTool\"},{\"attributes\":{},\"id\":\"32894\",\"type\":\"YearsTicker\"},{\"attributes\":{\"data\":{\"x\":{\"__ndarray__\":\"AACAe0hcdEIAAMBDiV50QgAAAAzKYHRCAABA1ApjdEIAAICcS2V0QgAAwGSMZ3RCAAAALc1pdEIAAED1DWx0QgAAgL1ObnRCAADAhY9wdEIAAABO0HJ0QgAAQBYRdXRCAACA3lF3dEIAAMCmknl0QgAAAG/Te3RCAABANxR+dEIAAID/VIB0QgAAwMeVgnRC\",\"dtype\":\"float64\",\"order\":\"little\",\"shape\":[18]},\"y\":[3,4,1,2,2,4,5,5,4,5,7,9,7,7,8,5,5,8]},\"selected\":{\"id\":\"32897\"},\"selection_policy\":{\"id\":\"32898\"}},\"id\":\"31861\",\"type\":\"ColumnDataSource\"},{\"attributes\":{},\"id\":\"31839\",\"type\":\"BasicTicker\"},{\"attributes\":{},\"id\":\"31843\",\"type\":\"WheelZoomTool\"},{\"attributes\":{\"months\":[0,4,8]},\"id\":\"32892\",\"type\":\"MonthsTicker\"},{\"attributes\":{\"fill_alpha\":{\"value\":0.1},\"fill_color\":{\"value\":\"#1f77b4\"},\"line_alpha\":{\"value\":0.1},\"line_color\":{\"value\":\"#1f77b4\"},\"x\":{\"field\":\"x\"},\"y\":{\"field\":\"y\"}},\"id\":\"31858\",\"type\":\"Scatter\"},{\"attributes\":{},\"id\":\"31826\",\"type\":\"DataRange1d\"},{\"attributes\":{\"months\":[0,2,4,6,8,10]},\"id\":\"32891\",\"type\":\"MonthsTicker\"},{\"attributes\":{\"line_color\":\"#1f77b4\",\"x\":{\"field\":\"x\"},\"y\":{\"field\":\"y\"}},\"id\":\"31862\",\"type\":\"Line\"},{\"attributes\":{\"axis_label\":\"Counts\",\"formatter\":{\"id\":\"32881\"},\"ticker\":{\"id\":\"31839\"}},\"id\":\"31838\",\"type\":\"LinearAxis\"},{\"attributes\":{\"source\":{\"id\":\"31856\"}},\"id\":\"31860\",\"type\":\"CDSView\"},{\"attributes\":{\"mantissas\":[1,2,5],\"max_interval\":500.0,\"num_minor_ticks\":0},\"id\":\"32883\",\"type\":\"AdaptiveTicker\"},{\"attributes\":{\"data_source\":{\"id\":\"31856\"},\"glyph\":{\"id\":\"31857\"},\"hover_glyph\":null,\"muted_glyph\":null,\"nonselection_glyph\":{\"id\":\"31858\"},\"selection_glyph\":null,\"view\":{\"id\":\"31860\"}},\"id\":\"31859\",\"type\":\"GlyphRenderer\"},{\"attributes\":{\"text\":\"Count of weekly active users\"},\"id\":\"31824\",\"type\":\"Title\"},{\"attributes\":{\"base\":60,\"mantissas\":[1,2,5,10,15,20,30],\"max_interval\":1800000.0,\"min_interval\":1000.0,\"num_minor_ticks\":0},\"id\":\"32884\",\"type\":\"AdaptiveTicker\"},{\"attributes\":{\"source\":{\"id\":\"31861\"}},\"id\":\"31865\",\"type\":\"CDSView\"},{\"attributes\":{\"days\":[1,8,15,22]},\"id\":\"32888\",\"type\":\"DaysTicker\"},{\"attributes\":{\"months\":[0,1,2,3,4,5,6,7,8,9,10,11]},\"id\":\"32890\",\"type\":\"MonthsTicker\"},{\"attributes\":{\"days\":[1,2,3,4,5,6,7,8,9,10,11,12,13,14,15,16,17,18,19,20,21,22,23,24,25,26,27,28,29,30,31]},\"id\":\"32886\",\"type\":\"DaysTicker\"},{\"attributes\":{\"fill_color\":{\"value\":\"#1f77b4\"},\"line_color\":{\"value\":\"#1f77b4\"},\"x\":{\"field\":\"x\"},\"y\":{\"field\":\"y\"}},\"id\":\"31857\",\"type\":\"Scatter\"},{\"attributes\":{\"days\":[1,4,7,10,13,16,19,22,25,28]},\"id\":\"32887\",\"type\":\"DaysTicker\"},{\"attributes\":{},\"id\":\"32895\",\"type\":\"Selection\"},{\"attributes\":{},\"id\":\"32896\",\"type\":\"UnionRenderers\"},{\"attributes\":{},\"id\":\"32879\",\"type\":\"DatetimeTickFormatter\"},{\"attributes\":{\"base\":24,\"mantissas\":[1,2,4,6,8,12],\"max_interval\":43200000.0,\"min_interval\":3600000.0,\"num_minor_ticks\":0},\"id\":\"32885\",\"type\":\"AdaptiveTicker\"},{\"attributes\":{\"data\":{\"x\":{\"__ndarray__\":\"AACAe0hcdEIAAMBDiV50QgAAAAzKYHRCAABA1ApjdEIAAICcS2V0QgAAwGSMZ3RCAAAALc1pdEIAAED1DWx0QgAAgL1ObnRCAADAhY9wdEIAAABO0HJ0QgAAQBYRdXRCAACA3lF3dEIAAMCmknl0QgAAAG/Te3RCAABANxR+dEIAAID/VIB0QgAAwMeVgnRC\",\"dtype\":\"float64\",\"order\":\"little\",\"shape\":[18]},\"y\":[3,4,1,2,2,4,5,5,4,5,7,9,7,7,8,5,5,8]},\"selected\":{\"id\":\"32895\"},\"selection_policy\":{\"id\":\"32896\"}},\"id\":\"31856\",\"type\":\"ColumnDataSource\"},{\"attributes\":{},\"id\":\"31830\",\"type\":\"LinearScale\"},{\"attributes\":{\"days\":[1,15]},\"id\":\"32889\",\"type\":\"DaysTicker\"},{\"attributes\":{\"axis\":{\"id\":\"31838\"},\"dimension\":1,\"ticker\":null},\"id\":\"31841\",\"type\":\"Grid\"},{\"attributes\":{\"bottom_units\":\"screen\",\"fill_alpha\":0.5,\"fill_color\":\"lightgrey\",\"left_units\":\"screen\",\"level\":\"overlay\",\"line_alpha\":1.0,\"line_color\":\"black\",\"line_dash\":[4,4],\"line_width\":2,\"right_units\":\"screen\",\"top_units\":\"screen\"},\"id\":\"31848\",\"type\":\"BoxAnnotation\"},{\"attributes\":{},\"id\":\"31832\",\"type\":\"LinearScale\"},{\"attributes\":{},\"id\":\"32897\",\"type\":\"Selection\"}],\"root_ids\":[\"31823\"]},\"title\":\"Bokeh Application\",\"version\":\"2.2.1\"}};\n",
       "  var render_items = [{\"docid\":\"d2854ba4-ed94-450d-987c-fe5d1073c272\",\"root_ids\":[\"31823\"],\"roots\":{\"31823\":\"a62f85c6-0347-4e25-aa84-71140d897bba\"}}];\n",
       "  root.Bokeh.embed.embed_items_notebook(docs_json, render_items);\n",
       "\n",
       "  }\n",
       "  if (root.Bokeh !== undefined) {\n",
       "    embed_document(root);\n",
       "  } else {\n",
       "    var attempts = 0;\n",
       "    var timer = setInterval(function(root) {\n",
       "      if (root.Bokeh !== undefined) {\n",
       "        clearInterval(timer);\n",
       "        embed_document(root);\n",
       "      } else {\n",
       "        attempts++;\n",
       "        if (attempts > 100) {\n",
       "          clearInterval(timer);\n",
       "          console.log(\"Bokeh: ERROR: Unable to run BokehJS code because BokehJS library is missing\");\n",
       "        }\n",
       "      }\n",
       "    }, 10, root)\n",
       "  }\n",
       "})(window);"
      ],
      "application/vnd.bokehjs_exec.v0+json": ""
     },
     "metadata": {
      "application/vnd.bokehjs_exec.v0+json": {
       "id": "31823"
      }
     },
     "output_type": "display_data"
    },
    {
     "name": "stdout",
     "output_type": "stream",
     "text": [
      "Chile\n"
     ]
    },
    {
     "data": {
      "text/html": [
       "\n",
       "\n",
       "\n",
       "\n",
       "\n",
       "\n",
       "  <div class=\"bk-root\" id=\"1359c0d6-1246-429f-8ae1-aa0164d7579b\" data-root-id=\"33010\"></div>\n"
      ]
     },
     "metadata": {},
     "output_type": "display_data"
    },
    {
     "data": {
      "application/javascript": [
       "(function(root) {\n",
       "  function embed_document(root) {\n",
       "    \n",
       "  var docs_json = {\"45bd11aa-f05a-4d77-a65f-f621a8b77def\":{\"roots\":{\"references\":[{\"attributes\":{\"below\":[{\"id\":\"33021\"}],\"center\":[{\"id\":\"33024\"},{\"id\":\"33028\"}],\"left\":[{\"id\":\"33025\"}],\"plot_height\":300,\"plot_width\":500,\"renderers\":[{\"id\":\"33046\"},{\"id\":\"33051\"}],\"title\":{\"id\":\"33011\"},\"toolbar\":{\"id\":\"33036\"},\"x_range\":{\"id\":\"33013\"},\"x_scale\":{\"id\":\"33017\"},\"y_range\":{\"id\":\"33015\"},\"y_scale\":{\"id\":\"33019\"}},\"id\":\"33010\",\"subtype\":\"Figure\",\"type\":\"Plot\"},{\"attributes\":{},\"id\":\"34105\",\"type\":\"UnionRenderers\"},{\"attributes\":{\"overlay\":{\"id\":\"33035\"}},\"id\":\"33031\",\"type\":\"BoxZoomTool\"},{\"attributes\":{\"axis\":{\"id\":\"33025\"},\"dimension\":1,\"ticker\":null},\"id\":\"33028\",\"type\":\"Grid\"},{\"attributes\":{\"bottom_units\":\"screen\",\"fill_alpha\":0.5,\"fill_color\":\"lightgrey\",\"left_units\":\"screen\",\"level\":\"overlay\",\"line_alpha\":1.0,\"line_color\":\"black\",\"line_dash\":[4,4],\"line_width\":2,\"right_units\":\"screen\",\"top_units\":\"screen\"},\"id\":\"33035\",\"type\":\"BoxAnnotation\"},{\"attributes\":{\"active_drag\":\"auto\",\"active_inspect\":\"auto\",\"active_multi\":null,\"active_scroll\":\"auto\",\"active_tap\":\"auto\",\"tools\":[{\"id\":\"33029\"},{\"id\":\"33030\"},{\"id\":\"33031\"},{\"id\":\"33032\"},{\"id\":\"33033\"},{\"id\":\"33034\"}]},\"id\":\"33036\",\"type\":\"Toolbar\"},{\"attributes\":{\"data_source\":{\"id\":\"33048\"},\"glyph\":{\"id\":\"33049\"},\"hover_glyph\":null,\"muted_glyph\":null,\"nonselection_glyph\":{\"id\":\"33050\"},\"selection_glyph\":null,\"view\":{\"id\":\"33052\"}},\"id\":\"33051\",\"type\":\"GlyphRenderer\"},{\"attributes\":{\"fill_color\":{\"value\":\"#1f77b4\"},\"line_color\":{\"value\":\"#1f77b4\"},\"x\":{\"field\":\"x\"},\"y\":{\"field\":\"y\"}},\"id\":\"33044\",\"type\":\"Scatter\"},{\"attributes\":{\"axis_label\":\"Counts\",\"formatter\":{\"id\":\"34090\"},\"ticker\":{\"id\":\"33026\"}},\"id\":\"33025\",\"type\":\"LinearAxis\"},{\"attributes\":{\"line_alpha\":0.1,\"line_color\":\"#1f77b4\",\"x\":{\"field\":\"x\"},\"y\":{\"field\":\"y\"}},\"id\":\"33050\",\"type\":\"Line\"},{\"attributes\":{\"months\":[0,2,4,6,8,10]},\"id\":\"34100\",\"type\":\"MonthsTicker\"},{\"attributes\":{\"fill_alpha\":{\"value\":0.1},\"fill_color\":{\"value\":\"#1f77b4\"},\"line_alpha\":{\"value\":0.1},\"line_color\":{\"value\":\"#1f77b4\"},\"x\":{\"field\":\"x\"},\"y\":{\"field\":\"y\"}},\"id\":\"33045\",\"type\":\"Scatter\"},{\"attributes\":{},\"id\":\"34106\",\"type\":\"Selection\"},{\"attributes\":{},\"id\":\"33015\",\"type\":\"DataRange1d\"},{\"attributes\":{\"line_color\":\"#1f77b4\",\"x\":{\"field\":\"x\"},\"y\":{\"field\":\"y\"}},\"id\":\"33049\",\"type\":\"Line\"},{\"attributes\":{},\"id\":\"34090\",\"type\":\"BasicTickFormatter\"},{\"attributes\":{},\"id\":\"34107\",\"type\":\"UnionRenderers\"},{\"attributes\":{},\"id\":\"33032\",\"type\":\"SaveTool\"},{\"attributes\":{},\"id\":\"33013\",\"type\":\"DataRange1d\"},{\"attributes\":{},\"id\":\"33019\",\"type\":\"LinearScale\"},{\"attributes\":{},\"id\":\"33034\",\"type\":\"HelpTool\"},{\"attributes\":{},\"id\":\"33026\",\"type\":\"BasicTicker\"},{\"attributes\":{},\"id\":\"33017\",\"type\":\"LinearScale\"},{\"attributes\":{\"mantissas\":[1,2,5],\"max_interval\":500.0,\"num_minor_ticks\":0},\"id\":\"34092\",\"type\":\"AdaptiveTicker\"},{\"attributes\":{\"axis_label\":\"Time (weekly)\",\"formatter\":{\"id\":\"34088\"},\"ticker\":{\"id\":\"33022\"}},\"id\":\"33021\",\"type\":\"DatetimeAxis\"},{\"attributes\":{\"base\":60,\"mantissas\":[1,2,5,10,15,20,30],\"max_interval\":1800000.0,\"min_interval\":1000.0,\"num_minor_ticks\":0},\"id\":\"34093\",\"type\":\"AdaptiveTicker\"},{\"attributes\":{\"days\":[1,2,3,4,5,6,7,8,9,10,11,12,13,14,15,16,17,18,19,20,21,22,23,24,25,26,27,28,29,30,31]},\"id\":\"34095\",\"type\":\"DaysTicker\"},{\"attributes\":{\"base\":24,\"mantissas\":[1,2,4,6,8,12],\"max_interval\":43200000.0,\"min_interval\":3600000.0,\"num_minor_ticks\":0},\"id\":\"34094\",\"type\":\"AdaptiveTicker\"},{\"attributes\":{},\"id\":\"33029\",\"type\":\"PanTool\"},{\"attributes\":{\"axis\":{\"id\":\"33021\"},\"ticker\":null},\"id\":\"33024\",\"type\":\"Grid\"},{\"attributes\":{\"months\":[0,1,2,3,4,5,6,7,8,9,10,11]},\"id\":\"34099\",\"type\":\"MonthsTicker\"},{\"attributes\":{\"days\":[1,4,7,10,13,16,19,22,25,28]},\"id\":\"34096\",\"type\":\"DaysTicker\"},{\"attributes\":{\"days\":[1,15]},\"id\":\"34098\",\"type\":\"DaysTicker\"},{\"attributes\":{},\"id\":\"33030\",\"type\":\"WheelZoomTool\"},{\"attributes\":{\"months\":[0,6]},\"id\":\"34102\",\"type\":\"MonthsTicker\"},{\"attributes\":{},\"id\":\"33033\",\"type\":\"ResetTool\"},{\"attributes\":{\"days\":[1,8,15,22]},\"id\":\"34097\",\"type\":\"DaysTicker\"},{\"attributes\":{\"num_minor_ticks\":5,\"tickers\":[{\"id\":\"34092\"},{\"id\":\"34093\"},{\"id\":\"34094\"},{\"id\":\"34095\"},{\"id\":\"34096\"},{\"id\":\"34097\"},{\"id\":\"34098\"},{\"id\":\"34099\"},{\"id\":\"34100\"},{\"id\":\"34101\"},{\"id\":\"34102\"},{\"id\":\"34103\"}]},\"id\":\"33022\",\"type\":\"DatetimeTicker\"},{\"attributes\":{},\"id\":\"34103\",\"type\":\"YearsTicker\"},{\"attributes\":{\"data_source\":{\"id\":\"33043\"},\"glyph\":{\"id\":\"33044\"},\"hover_glyph\":null,\"muted_glyph\":null,\"nonselection_glyph\":{\"id\":\"33045\"},\"selection_glyph\":null,\"view\":{\"id\":\"33047\"}},\"id\":\"33046\",\"type\":\"GlyphRenderer\"},{\"attributes\":{\"months\":[0,4,8]},\"id\":\"34101\",\"type\":\"MonthsTicker\"},{\"attributes\":{\"source\":{\"id\":\"33048\"}},\"id\":\"33052\",\"type\":\"CDSView\"},{\"attributes\":{},\"id\":\"34088\",\"type\":\"DatetimeTickFormatter\"},{\"attributes\":{\"text\":\"Count of weekly active users\"},\"id\":\"33011\",\"type\":\"Title\"},{\"attributes\":{\"source\":{\"id\":\"33043\"}},\"id\":\"33047\",\"type\":\"CDSView\"},{\"attributes\":{\"data\":{\"x\":{\"__ndarray__\":\"AACAe0hcdEIAAMBDiV50QgAAAAzKYHRCAABA1ApjdEIAAICcS2V0QgAAwGSMZ3RCAAAALc1pdEIAAED1DWx0QgAAgL1ObnRCAADAhY9wdEIAAABO0HJ0QgAAQBYRdXRCAACA3lF3dEIAAMCmknl0QgAAAG/Te3RCAABANxR+dEIAAID/VIB0QgAAwMeVgnRC\",\"dtype\":\"float64\",\"order\":\"little\",\"shape\":[18]},\"y\":[2,5,4,2,2,2,1,3,4,4,7,6,10,6,6,4,4,4]},\"selected\":{\"id\":\"34106\"},\"selection_policy\":{\"id\":\"34107\"}},\"id\":\"33048\",\"type\":\"ColumnDataSource\"},{\"attributes\":{},\"id\":\"34104\",\"type\":\"Selection\"},{\"attributes\":{\"data\":{\"x\":{\"__ndarray__\":\"AACAe0hcdEIAAMBDiV50QgAAAAzKYHRCAABA1ApjdEIAAICcS2V0QgAAwGSMZ3RCAAAALc1pdEIAAED1DWx0QgAAgL1ObnRCAADAhY9wdEIAAABO0HJ0QgAAQBYRdXRCAACA3lF3dEIAAMCmknl0QgAAAG/Te3RCAABANxR+dEIAAID/VIB0QgAAwMeVgnRC\",\"dtype\":\"float64\",\"order\":\"little\",\"shape\":[18]},\"y\":[2,5,4,2,2,2,1,3,4,4,7,6,10,6,6,4,4,4]},\"selected\":{\"id\":\"34104\"},\"selection_policy\":{\"id\":\"34105\"}},\"id\":\"33043\",\"type\":\"ColumnDataSource\"}],\"root_ids\":[\"33010\"]},\"title\":\"Bokeh Application\",\"version\":\"2.2.1\"}};\n",
       "  var render_items = [{\"docid\":\"45bd11aa-f05a-4d77-a65f-f621a8b77def\",\"root_ids\":[\"33010\"],\"roots\":{\"33010\":\"1359c0d6-1246-429f-8ae1-aa0164d7579b\"}}];\n",
       "  root.Bokeh.embed.embed_items_notebook(docs_json, render_items);\n",
       "\n",
       "  }\n",
       "  if (root.Bokeh !== undefined) {\n",
       "    embed_document(root);\n",
       "  } else {\n",
       "    var attempts = 0;\n",
       "    var timer = setInterval(function(root) {\n",
       "      if (root.Bokeh !== undefined) {\n",
       "        clearInterval(timer);\n",
       "        embed_document(root);\n",
       "      } else {\n",
       "        attempts++;\n",
       "        if (attempts > 100) {\n",
       "          clearInterval(timer);\n",
       "          console.log(\"Bokeh: ERROR: Unable to run BokehJS code because BokehJS library is missing\");\n",
       "        }\n",
       "      }\n",
       "    }, 10, root)\n",
       "  }\n",
       "})(window);"
      ],
      "application/vnd.bokehjs_exec.v0+json": ""
     },
     "metadata": {
      "application/vnd.bokehjs_exec.v0+json": {
       "id": "33010"
      }
     },
     "output_type": "display_data"
    }
   ],
   "source": [
    "# location\n",
    "group_num = len(pd.unique(daily.location))\n",
    "group = pd.unique(daily.location)\n",
    "\n",
    "output_notebook()\n",
    "for cls in group:\n",
    "    daily_cls = daily.loc[daily.location==cls]\n",
    "    weekly_cls = daily_cls.set_index('occurred_at').groupby(pd.Grouper(freq='W')).user_id.nunique()\n",
    "    x = weekly_cls.index\n",
    "    y = weekly_cls.values\n",
    "    fig = figure(plot_width=500, plot_height=300, x_axis_type='datetime',\n",
    "             title='Count of weekly active users',\n",
    "             y_axis_label='Counts', x_axis_label='Time (weekly)')\n",
    "    fig.scatter(x, y)\n",
    "    fig.line(x, y)\n",
    "    print(cls)\n",
    "    show(fig)"
   ]
  },
  {
   "cell_type": "markdown",
   "metadata": {},
   "source": [
    "# It appears that users in most countries were having similar pattern"
   ]
  },
  {
   "cell_type": "markdown",
   "metadata": {},
   "source": [
    "### Majority of users were from USA"
   ]
  },
  {
   "cell_type": "code",
   "execution_count": 21,
   "metadata": {
    "ExecuteTime": {
     "end_time": "2020-11-09T23:33:46.538654Z",
     "start_time": "2020-11-09T23:33:46.523011Z"
    }
   },
   "outputs": [
    {
     "data": {
      "text/plain": [
       "array(['dell inspiron notebook', 'iphone 5', 'iphone 4s',\n",
       "       'windows surface', 'macbook air', 'iphone 5s', 'macbook pro',\n",
       "       'kindle fire', 'ipad mini', 'nexus 7', 'nexus 5',\n",
       "       'samsung galaxy s4', 'lenovo thinkpad', 'samsumg galaxy tablet',\n",
       "       'acer aspire notebook', 'asus chromebook', 'samsung galaxy note',\n",
       "       'mac mini', 'hp pavilion desktop', 'ipad air', 'htc one',\n",
       "       'dell inspiron desktop', 'amazon fire phone',\n",
       "       'acer aspire desktop', 'nokia lumia 635', 'nexus 10'], dtype=object)"
      ]
     },
     "execution_count": 21,
     "metadata": {},
     "output_type": "execute_result"
    }
   ],
   "source": [
    "pd.unique(daily.device)"
   ]
  },
  {
   "cell_type": "code",
   "execution_count": 22,
   "metadata": {
    "ExecuteTime": {
     "end_time": "2020-11-09T23:33:47.024209Z",
     "start_time": "2020-11-09T23:33:46.538654Z"
    }
   },
   "outputs": [
    {
     "data": {
      "image/png": "[encoded data removed]",
      "text/plain": [
       "<Figure size 1080x1080 with 1 Axes>"
      ]
     },
     "metadata": {},
     "output_type": "display_data"
    }
   ],
   "source": [
    "sns.set_theme(style='whitegrid', font_scale=1.5)\n",
    "fig, ax = plt.subplots(figsize=(15,15))\n",
    "ax = sns.countplot(y='device', data=daily)"
   ]
  },
  {
   "cell_type": "code",
   "execution_count": 23,
   "metadata": {
    "ExecuteTime": {
     "end_time": "2020-11-09T23:33:47.039832Z",
     "start_time": "2020-11-09T23:33:47.024209Z"
    }
   },
   "outputs": [
    {
     "data": {
      "text/plain": [
       "array([3., 1., 2.])"
      ]
     },
     "execution_count": 23,
     "metadata": {},
     "output_type": "execute_result"
    }
   ],
   "source": [
    "pd.unique(daily.user_type)"
   ]
  },
  {
   "cell_type": "code",
   "execution_count": 24,
   "metadata": {
    "ExecuteTime": {
     "end_time": "2020-11-09T23:33:47.240358Z",
     "start_time": "2020-11-09T23:33:47.039832Z"
    }
   },
   "outputs": [
    {
     "data": {
      "image/png": "[encoded data removed]",
      "text/plain": [
       "<Figure size 720x720 with 1 Axes>"
      ]
     },
     "metadata": {},
     "output_type": "display_data"
    }
   ],
   "source": [
    "sns.set_theme(style='whitegrid', font_scale=1.5)\n",
    "fig, ax = plt.subplots(figsize=(10,10))\n",
    "ax = sns.countplot(x='user_type', data=daily)"
   ]
  },
  {
   "cell_type": "code",
   "execution_count": 25,
   "metadata": {
    "ExecuteTime": {
     "end_time": "2020-11-09T23:33:48.042449Z",
     "start_time": "2020-11-09T23:33:47.240358Z"
    }
   },
   "outputs": [
    {
     "data": {
      "text/html": [
       "\n",
       "    <div class=\"bk-root\">\n",
       "        <a href=\"https://bokeh.org\" target=\"_blank\" class=\"bk-logo bk-logo-small bk-logo-notebook\"></a>\n",
       "        <span id=\"34219\">Loading BokehJS ...</span>\n",
       "    </div>"
      ]
     },
     "metadata": {},
     "output_type": "display_data"
    },
    {
     "data": {
      "application/javascript": [
       "\n",
       "(function(root) {\n",
       "  function now() {\n",
       "    return new Date();\n",
       "  }\n",
       "\n",
       "  var force = true;\n",
       "\n",
       "  if (typeof root._bokeh_onload_callbacks === \"undefined\" || force === true) {\n",
       "    root._bokeh_onload_callbacks = [];\n",
       "    root._bokeh_is_loading = undefined;\n",
       "  }\n",
       "\n",
       "  var JS_MIME_TYPE = 'application/javascript';\n",
       "  var HTML_MIME_TYPE = 'text/html';\n",
       "  var EXEC_MIME_TYPE = 'application/vnd.bokehjs_exec.v0+json';\n",
       "  var CLASS_NAME = 'output_bokeh rendered_html';\n",
       "\n",
       "  /**\n",
       "   * Render data to the DOM node\n",
       "   */\n",
       "  function render(props, node) {\n",
       "    var script = document.createElement(\"script\");\n",
       "    node.appendChild(script);\n",
       "  }\n",
       "\n",
       "  /**\n",
       "   * Handle when an output is cleared or removed\n",
       "   */\n",
       "  function handleClearOutput(event, handle) {\n",
       "    var cell = handle.cell;\n",
       "\n",
       "    var id = cell.output_area._bokeh_element_id;\n",
       "    var server_id = cell.output_area._bokeh_server_id;\n",
       "    // Clean up Bokeh references\n",
       "    if (id != null && id in Bokeh.index) {\n",
       "      Bokeh.index[id].model.document.clear();\n",
       "      delete Bokeh.index[id];\n",
       "    }\n",
       "\n",
       "    if (server_id !== undefined) {\n",
       "      // Clean up Bokeh references\n",
       "      var cmd = \"from bokeh.io.state import curstate; print(curstate().uuid_to_server['\" + server_id + \"'].get_sessions()[0].document.roots[0]._id)\";\n",
       "      cell.notebook.kernel.execute(cmd, {\n",
       "        iopub: {\n",
       "          output: function(msg) {\n",
       "            var id = msg.content.text.trim();\n",
       "            if (id in Bokeh.index) {\n",
       "              Bokeh.index[id].model.document.clear();\n",
       "              delete Bokeh.index[id];\n",
       "            }\n",
       "          }\n",
       "        }\n",
       "      });\n",
       "      // Destroy server and session\n",
       "      var cmd = \"import bokeh.io.notebook as ion; ion.destroy_server('\" + server_id + \"')\";\n",
       "      cell.notebook.kernel.execute(cmd);\n",
       "    }\n",
       "  }\n",
       "\n",
       "  /**\n",
       "   * Handle when a new output is added\n",
       "   */\n",
       "  function handleAddOutput(event, handle) {\n",
       "    var output_area = handle.output_area;\n",
       "    var output = handle.output;\n",
       "\n",
       "    // limit handleAddOutput to display_data with EXEC_MIME_TYPE content only\n",
       "    if ((output.output_type != \"display_data\") || (!output.data.hasOwnProperty(EXEC_MIME_TYPE))) {\n",
       "      return\n",
       "    }\n",
       "\n",
       "    var toinsert = output_area.element.find(\".\" + CLASS_NAME.split(' ')[0]);\n",
       "\n",
       "    if (output.metadata[EXEC_MIME_TYPE][\"id\"] !== undefined) {\n",
       "      toinsert[toinsert.length - 1].firstChild.textContent = output.data[JS_MIME_TYPE];\n",
       "      // store reference to embed id on output_area\n",
       "      output_area._bokeh_element_id = output.metadata[EXEC_MIME_TYPE][\"id\"];\n",
       "    }\n",
       "    if (output.metadata[EXEC_MIME_TYPE][\"server_id\"] !== undefined) {\n",
       "      var bk_div = document.createElement(\"div\");\n",
       "      bk_div.innerHTML = output.data[HTML_MIME_TYPE];\n",
       "      var script_attrs = bk_div.children[0].attributes;\n",
       "      for (var i = 0; i < script_attrs.length; i++) {\n",
       "        toinsert[toinsert.length - 1].firstChild.setAttribute(script_attrs[i].name, script_attrs[i].value);\n",
       "        toinsert[toinsert.length - 1].firstChild.textContent = bk_div.children[0].textContent\n",
       "      }\n",
       "      // store reference to server id on output_area\n",
       "      output_area._bokeh_server_id = output.metadata[EXEC_MIME_TYPE][\"server_id\"];\n",
       "    }\n",
       "  }\n",
       "\n",
       "  function register_renderer(events, OutputArea) {\n",
       "\n",
       "    function append_mime(data, metadata, element) {\n",
       "      // create a DOM node to render to\n",
       "      var toinsert = this.create_output_subarea(\n",
       "        metadata,\n",
       "        CLASS_NAME,\n",
       "        EXEC_MIME_TYPE\n",
       "      );\n",
       "      this.keyboard_manager.register_events(toinsert);\n",
       "      // Render to node\n",
       "      var props = {data: data, metadata: metadata[EXEC_MIME_TYPE]};\n",
       "      render(props, toinsert[toinsert.length - 1]);\n",
       "      element.append(toinsert);\n",
       "      return toinsert\n",
       "    }\n",
       "\n",
       "    /* Handle when an output is cleared or removed */\n",
       "    events.on('clear_output.CodeCell', handleClearOutput);\n",
       "    events.on('delete.Cell', handleClearOutput);\n",
       "\n",
       "    /* Handle when a new output is added */\n",
       "    events.on('output_added.OutputArea', handleAddOutput);\n",
       "\n",
       "    /**\n",
       "     * Register the mime type and append_mime function with output_area\n",
       "     */\n",
       "    OutputArea.prototype.register_mime_type(EXEC_MIME_TYPE, append_mime, {\n",
       "      /* Is output safe? */\n",
       "      safe: true,\n",
       "      /* Index of renderer in `output_area.display_order` */\n",
       "      index: 0\n",
       "    });\n",
       "  }\n",
       "\n",
       "  // register the mime type if in Jupyter Notebook environment and previously unregistered\n",
       "  if (root.Jupyter !== undefined) {\n",
       "    var events = require('base/js/events');\n",
       "    var OutputArea = require('notebook/js/outputarea').OutputArea;\n",
       "\n",
       "    if (OutputArea.prototype.mime_types().indexOf(EXEC_MIME_TYPE) == -1) {\n",
       "      register_renderer(events, OutputArea);\n",
       "    }\n",
       "  }\n",
       "\n",
       "  \n",
       "  if (typeof (root._bokeh_timeout) === \"undefined\" || force === true) {\n",
       "    root._bokeh_timeout = Date.now() + 5000;\n",
       "    root._bokeh_failed_load = false;\n",
       "  }\n",
       "\n",
       "  var NB_LOAD_WARNING = {'data': {'text/html':\n",
       "     \"<div style='background-color: #fdd'>\\n\"+\n",
       "     \"<p>\\n\"+\n",
       "     \"BokehJS does not appear to have successfully loaded. If loading BokehJS from CDN, this \\n\"+\n",
       "     \"may be due to a slow or bad network connection. Possible fixes:\\n\"+\n",
       "     \"</p>\\n\"+\n",
       "     \"<ul>\\n\"+\n",
       "     \"<li>re-rerun `output_notebook()` to attempt to load from CDN again, or</li>\\n\"+\n",
       "     \"<li>use INLINE resources instead, as so:</li>\\n\"+\n",
       "     \"</ul>\\n\"+\n",
       "     \"<code>\\n\"+\n",
       "     \"from bokeh.resources import INLINE\\n\"+\n",
       "     \"output_notebook(resources=INLINE)\\n\"+\n",
       "     \"</code>\\n\"+\n",
       "     \"</div>\"}};\n",
       "\n",
       "  function display_loaded() {\n",
       "    var el = document.getElementById(\"34219\");\n",
       "    if (el != null) {\n",
       "      el.textContent = \"BokehJS is loading...\";\n",
       "    }\n",
       "    if (root.Bokeh !== undefined) {\n",
       "      if (el != null) {\n",
       "        el.textContent = \"BokehJS \" + root.Bokeh.version + \" successfully loaded.\";\n",
       "      }\n",
       "    } else if (Date.now() < root._bokeh_timeout) {\n",
       "      setTimeout(display_loaded, 100)\n",
       "    }\n",
       "  }\n",
       "\n",
       "\n",
       "  function run_callbacks() {\n",
       "    try {\n",
       "      root._bokeh_onload_callbacks.forEach(function(callback) {\n",
       "        if (callback != null)\n",
       "          callback();\n",
       "      });\n",
       "    } finally {\n",
       "      delete root._bokeh_onload_callbacks\n",
       "    }\n",
       "    console.debug(\"Bokeh: all callbacks have finished\");\n",
       "  }\n",
       "\n",
       "  function load_libs(css_urls, js_urls, callback) {\n",
       "    if (css_urls == null) css_urls = [];\n",
       "    if (js_urls == null) js_urls = [];\n",
       "\n",
       "    root._bokeh_onload_callbacks.push(callback);\n",
       "    if (root._bokeh_is_loading > 0) {\n",
       "      console.debug(\"Bokeh: BokehJS is being loaded, scheduling callback at\", now());\n",
       "      return null;\n",
       "    }\n",
       "    if (js_urls == null || js_urls.length === 0) {\n",
       "      run_callbacks();\n",
       "      return null;\n",
       "    }\n",
       "    console.debug(\"Bokeh: BokehJS not loaded, scheduling load and callback at\", now());\n",
       "    root._bokeh_is_loading = css_urls.length + js_urls.length;\n",
       "\n",
       "    function on_load() {\n",
       "      root._bokeh_is_loading--;\n",
       "      if (root._bokeh_is_loading === 0) {\n",
       "        console.debug(\"Bokeh: all BokehJS libraries/stylesheets loaded\");\n",
       "        run_callbacks()\n",
       "      }\n",
       "    }\n",
       "\n",
       "    function on_error() {\n",
       "      console.error(\"failed to load \" + url);\n",
       "    }\n",
       "\n",
       "    for (var i = 0; i < css_urls.length; i++) {\n",
       "      var url = css_urls[i];\n",
       "      const element = document.createElement(\"link\");\n",
       "      element.onload = on_load;\n",
       "      element.onerror = on_error;\n",
       "      element.rel = \"stylesheet\";\n",
       "      element.type = \"text/css\";\n",
       "      element.href = url;\n",
       "      console.debug(\"Bokeh: injecting link tag for BokehJS stylesheet: \", url);\n",
       "      document.body.appendChild(element);\n",
       "    }\n",
       "\n",
       "    const hashes = {\"https://cdn.bokeh.org/bokeh/release/bokeh-2.2.1.min.js\": \"qkRvDQVAIfzsJo40iRBbxt6sttt0hv4lh74DG7OK4MCHv4C5oohXYoHUM5W11uqS\", \"https://cdn.bokeh.org/bokeh/release/bokeh-widgets-2.2.1.min.js\": \"Sb7Mr06a9TNlet/GEBeKaf5xH3eb6AlCzwjtU82wNPyDrnfoiVl26qnvlKjmcAd+\", \"https://cdn.bokeh.org/bokeh/release/bokeh-tables-2.2.1.min.js\": \"HaJ15vgfmcfRtB4c4YBOI4f1MUujukqInOWVqZJZZGK7Q+ivud0OKGSTn/Vm2iso\"};\n",
       "\n",
       "    for (var i = 0; i < js_urls.length; i++) {\n",
       "      var url = js_urls[i];\n",
       "      var element = document.createElement('script');\n",
       "      element.onload = on_load;\n",
       "      element.onerror = on_error;\n",
       "      element.async = false;\n",
       "      element.src = url;\n",
       "      if (url in hashes) {\n",
       "        element.crossOrigin = \"anonymous\";\n",
       "        element.integrity = \"sha384-\" + hashes[url];\n",
       "      }\n",
       "      console.debug(\"Bokeh: injecting script tag for BokehJS library: \", url);\n",
       "      document.head.appendChild(element);\n",
       "    }\n",
       "  };\n",
       "\n",
       "  function inject_raw_css(css) {\n",
       "    const element = document.createElement(\"style\");\n",
       "    element.appendChild(document.createTextNode(css));\n",
       "    document.body.appendChild(element);\n",
       "  }\n",
       "\n",
       "  \n",
       "  var js_urls = [\"https://cdn.bokeh.org/bokeh/release/bokeh-2.2.1.min.js\", \"https://cdn.bokeh.org/bokeh/release/bokeh-widgets-2.2.1.min.js\", \"https://cdn.bokeh.org/bokeh/release/bokeh-tables-2.2.1.min.js\"];\n",
       "  var css_urls = [];\n",
       "  \n",
       "\n",
       "  var inline_js = [\n",
       "    function(Bokeh) {\n",
       "      Bokeh.set_log_level(\"info\");\n",
       "    },\n",
       "    function(Bokeh) {\n",
       "    \n",
       "    \n",
       "    }\n",
       "  ];\n",
       "\n",
       "  function run_inline_js() {\n",
       "    \n",
       "    if (root.Bokeh !== undefined || force === true) {\n",
       "      \n",
       "    for (var i = 0; i < inline_js.length; i++) {\n",
       "      inline_js[i].call(root, root.Bokeh);\n",
       "    }\n",
       "    if (force === true) {\n",
       "        display_loaded();\n",
       "      }} else if (Date.now() < root._bokeh_timeout) {\n",
       "      setTimeout(run_inline_js, 100);\n",
       "    } else if (!root._bokeh_failed_load) {\n",
       "      console.log(\"Bokeh: BokehJS failed to load within specified timeout.\");\n",
       "      root._bokeh_failed_load = true;\n",
       "    } else if (force !== true) {\n",
       "      var cell = $(document.getElementById(\"34219\")).parents('.cell').data().cell;\n",
       "      cell.output_area.append_execute_result(NB_LOAD_WARNING)\n",
       "    }\n",
       "\n",
       "  }\n",
       "\n",
       "  if (root._bokeh_is_loading === 0) {\n",
       "    console.debug(\"Bokeh: BokehJS loaded, going straight to plotting\");\n",
       "    run_inline_js();\n",
       "  } else {\n",
       "    load_libs(css_urls, js_urls, function() {\n",
       "      console.debug(\"Bokeh: BokehJS plotting callback run at\", now());\n",
       "      run_inline_js();\n",
       "    });\n",
       "  }\n",
       "}(window));"
      ],
      "application/vnd.bokehjs_load.v0+json": "\n(function(root) {\n  function now() {\n    return new Date();\n  }\n\n  var force = true;\n\n  if (typeof root._bokeh_onload_callbacks === \"undefined\" || force === true) {\n    root._bokeh_onload_callbacks = [];\n    root._bokeh_is_loading = undefined;\n  }\n\n  \n\n  \n  if (typeof (root._bokeh_timeout) === \"undefined\" || force === true) {\n    root._bokeh_timeout = Date.now() + 5000;\n    root._bokeh_failed_load = false;\n  }\n\n  var NB_LOAD_WARNING = {'data': {'text/html':\n     \"<div style='background-color: #fdd'>\\n\"+\n     \"<p>\\n\"+\n     \"BokehJS does not appear to have successfully loaded. If loading BokehJS from CDN, this \\n\"+\n     \"may be due to a slow or bad network connection. Possible fixes:\\n\"+\n     \"</p>\\n\"+\n     \"<ul>\\n\"+\n     \"<li>re-rerun `output_notebook()` to attempt to load from CDN again, or</li>\\n\"+\n     \"<li>use INLINE resources instead, as so:</li>\\n\"+\n     \"</ul>\\n\"+\n     \"<code>\\n\"+\n     \"from bokeh.resources import INLINE\\n\"+\n     \"output_notebook(resources=INLINE)\\n\"+\n     \"</code>\\n\"+\n     \"</div>\"}};\n\n  function display_loaded() {\n    var el = document.getElementById(\"34219\");\n    if (el != null) {\n      el.textContent = \"BokehJS is loading...\";\n    }\n    if (root.Bokeh !== undefined) {\n      if (el != null) {\n        el.textContent = \"BokehJS \" + root.Bokeh.version + \" successfully loaded.\";\n      }\n    } else if (Date.now() < root._bokeh_timeout) {\n      setTimeout(display_loaded, 100)\n    }\n  }\n\n\n  function run_callbacks() {\n    try {\n      root._bokeh_onload_callbacks.forEach(function(callback) {\n        if (callback != null)\n          callback();\n      });\n    } finally {\n      delete root._bokeh_onload_callbacks\n    }\n    console.debug(\"Bokeh: all callbacks have finished\");\n  }\n\n  function load_libs(css_urls, js_urls, callback) {\n    if (css_urls == null) css_urls = [];\n    if (js_urls == null) js_urls = [];\n\n    root._bokeh_onload_callbacks.push(callback);\n    if (root._bokeh_is_loading > 0) {\n      console.debug(\"Bokeh: BokehJS is being loaded, scheduling callback at\", now());\n      return null;\n    }\n    if (js_urls == null || js_urls.length === 0) {\n      run_callbacks();\n      return null;\n    }\n    console.debug(\"Bokeh: BokehJS not loaded, scheduling load and callback at\", now());\n    root._bokeh_is_loading = css_urls.length + js_urls.length;\n\n    function on_load() {\n      root._bokeh_is_loading--;\n      if (root._bokeh_is_loading === 0) {\n        console.debug(\"Bokeh: all BokehJS libraries/stylesheets loaded\");\n        run_callbacks()\n      }\n    }\n\n    function on_error() {\n      console.error(\"failed to load \" + url);\n    }\n\n    for (var i = 0; i < css_urls.length; i++) {\n      var url = css_urls[i];\n      const element = document.createElement(\"link\");\n      element.onload = on_load;\n      element.onerror = on_error;\n      element.rel = \"stylesheet\";\n      element.type = \"text/css\";\n      element.href = url;\n      console.debug(\"Bokeh: injecting link tag for BokehJS stylesheet: \", url);\n      document.body.appendChild(element);\n    }\n\n    const hashes = {\"https://cdn.bokeh.org/bokeh/release/bokeh-2.2.1.min.js\": \"qkRvDQVAIfzsJo40iRBbxt6sttt0hv4lh74DG7OK4MCHv4C5oohXYoHUM5W11uqS\", \"https://cdn.bokeh.org/bokeh/release/bokeh-widgets-2.2.1.min.js\": \"Sb7Mr06a9TNlet/GEBeKaf5xH3eb6AlCzwjtU82wNPyDrnfoiVl26qnvlKjmcAd+\", \"https://cdn.bokeh.org/bokeh/release/bokeh-tables-2.2.1.min.js\": \"HaJ15vgfmcfRtB4c4YBOI4f1MUujukqInOWVqZJZZGK7Q+ivud0OKGSTn/Vm2iso\"};\n\n    for (var i = 0; i < js_urls.length; i++) {\n      var url = js_urls[i];\n      var element = document.createElement('script');\n      element.onload = on_load;\n      element.onerror = on_error;\n      element.async = false;\n      element.src = url;\n      if (url in hashes) {\n        element.crossOrigin = \"anonymous\";\n        element.integrity = \"sha384-\" + hashes[url];\n      }\n      console.debug(\"Bokeh: injecting script tag for BokehJS library: \", url);\n      document.head.appendChild(element);\n    }\n  };\n\n  function inject_raw_css(css) {\n    const element = document.createElement(\"style\");\n    element.appendChild(document.createTextNode(css));\n    document.body.appendChild(element);\n  }\n\n  \n  var js_urls = [\"https://cdn.bokeh.org/bokeh/release/bokeh-2.2.1.min.js\", \"https://cdn.bokeh.org/bokeh/release/bokeh-widgets-2.2.1.min.js\", \"https://cdn.bokeh.org/bokeh/release/bokeh-tables-2.2.1.min.js\"];\n  var css_urls = [];\n  \n\n  var inline_js = [\n    function(Bokeh) {\n      Bokeh.set_log_level(\"info\");\n    },\n    function(Bokeh) {\n    \n    \n    }\n  ];\n\n  function run_inline_js() {\n    \n    if (root.Bokeh !== undefined || force === true) {\n      \n    for (var i = 0; i < inline_js.length; i++) {\n      inline_js[i].call(root, root.Bokeh);\n    }\n    if (force === true) {\n        display_loaded();\n      }} else if (Date.now() < root._bokeh_timeout) {\n      setTimeout(run_inline_js, 100);\n    } else if (!root._bokeh_failed_load) {\n      console.log(\"Bokeh: BokehJS failed to load within specified timeout.\");\n      root._bokeh_failed_load = true;\n    } else if (force !== true) {\n      var cell = $(document.getElementById(\"34219\")).parents('.cell').data().cell;\n      cell.output_area.append_execute_result(NB_LOAD_WARNING)\n    }\n\n  }\n\n  if (root._bokeh_is_loading === 0) {\n    console.debug(\"Bokeh: BokehJS loaded, going straight to plotting\");\n    run_inline_js();\n  } else {\n    load_libs(css_urls, js_urls, function() {\n      console.debug(\"Bokeh: BokehJS plotting callback run at\", now());\n      run_inline_js();\n    });\n  }\n}(window));"
     },
     "metadata": {},
     "output_type": "display_data"
    },
    {
     "name": "stdout",
     "output_type": "stream",
     "text": [
      "3.0\n"
     ]
    },
    {
     "data": {
      "text/html": [
       "\n",
       "\n",
       "\n",
       "\n",
       "\n",
       "\n",
       "  <div class=\"bk-root\" id=\"e052844c-0698-4779-a66e-a33d79bcc5f3\" data-root-id=\"34220\"></div>\n"
      ]
     },
     "metadata": {},
     "output_type": "display_data"
    },
    {
     "data": {
      "application/javascript": [
       "(function(root) {\n",
       "  function embed_document(root) {\n",
       "    \n",
       "  var docs_json = {\"d5f31c4d-2ee6-487a-8bba-f2daa52585fe\":{\"roots\":{\"references\":[{\"attributes\":{\"below\":[{\"id\":\"34231\"}],\"center\":[{\"id\":\"34234\"},{\"id\":\"34238\"}],\"left\":[{\"id\":\"34235\"}],\"plot_height\":300,\"plot_width\":500,\"renderers\":[{\"id\":\"34256\"},{\"id\":\"34261\"}],\"title\":{\"id\":\"34221\"},\"toolbar\":{\"id\":\"34246\"},\"x_range\":{\"id\":\"34223\"},\"x_scale\":{\"id\":\"34227\"},\"y_range\":{\"id\":\"34225\"},\"y_scale\":{\"id\":\"34229\"}},\"id\":\"34220\",\"subtype\":\"Figure\",\"type\":\"Plot\"},{\"attributes\":{\"days\":[1,15]},\"id\":\"35330\",\"type\":\"DaysTicker\"},{\"attributes\":{\"months\":[0,1,2,3,4,5,6,7,8,9,10,11]},\"id\":\"35331\",\"type\":\"MonthsTicker\"},{\"attributes\":{},\"id\":\"35335\",\"type\":\"YearsTicker\"},{\"attributes\":{\"months\":[0,2,4,6,8,10]},\"id\":\"35332\",\"type\":\"MonthsTicker\"},{\"attributes\":{\"bottom_units\":\"screen\",\"fill_alpha\":0.5,\"fill_color\":\"lightgrey\",\"left_units\":\"screen\",\"level\":\"overlay\",\"line_alpha\":1.0,\"line_color\":\"black\",\"line_dash\":[4,4],\"line_width\":2,\"right_units\":\"screen\",\"top_units\":\"screen\"},\"id\":\"34245\",\"type\":\"BoxAnnotation\"},{\"attributes\":{\"months\":[0,6]},\"id\":\"35334\",\"type\":\"MonthsTicker\"},{\"attributes\":{\"fill_color\":{\"value\":\"#1f77b4\"},\"line_color\":{\"value\":\"#1f77b4\"},\"x\":{\"field\":\"x\"},\"y\":{\"field\":\"y\"}},\"id\":\"34254\",\"type\":\"Scatter\"},{\"attributes\":{},\"id\":\"34244\",\"type\":\"HelpTool\"},{\"attributes\":{\"months\":[0,4,8]},\"id\":\"35333\",\"type\":\"MonthsTicker\"},{\"attributes\":{},\"id\":\"34227\",\"type\":\"LinearScale\"},{\"attributes\":{\"text\":\"Count of weekly active users\"},\"id\":\"34221\",\"type\":\"Title\"},{\"attributes\":{},\"id\":\"34243\",\"type\":\"ResetTool\"},{\"attributes\":{\"active_drag\":\"auto\",\"active_inspect\":\"auto\",\"active_multi\":null,\"active_scroll\":\"auto\",\"active_tap\":\"auto\",\"tools\":[{\"id\":\"34239\"},{\"id\":\"34240\"},{\"id\":\"34241\"},{\"id\":\"34242\"},{\"id\":\"34243\"},{\"id\":\"34244\"}]},\"id\":\"34246\",\"type\":\"Toolbar\"},{\"attributes\":{},\"id\":\"34242\",\"type\":\"SaveTool\"},{\"attributes\":{\"num_minor_ticks\":5,\"tickers\":[{\"id\":\"35324\"},{\"id\":\"35325\"},{\"id\":\"35326\"},{\"id\":\"35327\"},{\"id\":\"35328\"},{\"id\":\"35329\"},{\"id\":\"35330\"},{\"id\":\"35331\"},{\"id\":\"35332\"},{\"id\":\"35333\"},{\"id\":\"35334\"},{\"id\":\"35335\"}]},\"id\":\"34232\",\"type\":\"DatetimeTicker\"},{\"attributes\":{\"axis\":{\"id\":\"34235\"},\"dimension\":1,\"ticker\":null},\"id\":\"34238\",\"type\":\"Grid\"},{\"attributes\":{},\"id\":\"35336\",\"type\":\"Selection\"},{\"attributes\":{\"data_source\":{\"id\":\"34258\"},\"glyph\":{\"id\":\"34259\"},\"hover_glyph\":null,\"muted_glyph\":null,\"nonselection_glyph\":{\"id\":\"34260\"},\"selection_glyph\":null,\"view\":{\"id\":\"34262\"}},\"id\":\"34261\",\"type\":\"GlyphRenderer\"},{\"attributes\":{},\"id\":\"34236\",\"type\":\"BasicTicker\"},{\"attributes\":{},\"id\":\"35337\",\"type\":\"UnionRenderers\"},{\"attributes\":{},\"id\":\"34229\",\"type\":\"LinearScale\"},{\"attributes\":{\"overlay\":{\"id\":\"34245\"}},\"id\":\"34241\",\"type\":\"BoxZoomTool\"},{\"attributes\":{\"data\":{\"x\":{\"__ndarray__\":\"AACAe0hcdEIAAMBDiV50QgAAAAzKYHRCAABA1ApjdEIAAICcS2V0QgAAwGSMZ3RCAAAALc1pdEIAAED1DWx0QgAAgL1ObnRCAADAhY9wdEIAAABO0HJ0QgAAQBYRdXRCAACA3lF3dEIAAMCmknl0QgAAAG/Te3RCAABANxR+dEIAAID/VIB0QgAAwMeVgnRC\",\"dtype\":\"float64\",\"order\":\"little\",\"shape\":[18]},\"y\":[202,333,366,393,367,400,414,446,424,455,462,471,493,527,454,468,466,477]},\"selected\":{\"id\":\"35338\"},\"selection_policy\":{\"id\":\"35339\"}},\"id\":\"34258\",\"type\":\"ColumnDataSource\"},{\"attributes\":{},\"id\":\"34239\",\"type\":\"PanTool\"},{\"attributes\":{\"axis\":{\"id\":\"34231\"},\"ticker\":null},\"id\":\"34234\",\"type\":\"Grid\"},{\"attributes\":{},\"id\":\"34223\",\"type\":\"DataRange1d\"},{\"attributes\":{\"fill_alpha\":{\"value\":0.1},\"fill_color\":{\"value\":\"#1f77b4\"},\"line_alpha\":{\"value\":0.1},\"line_color\":{\"value\":\"#1f77b4\"},\"x\":{\"field\":\"x\"},\"y\":{\"field\":\"y\"}},\"id\":\"34255\",\"type\":\"Scatter\"},{\"attributes\":{},\"id\":\"35322\",\"type\":\"BasicTickFormatter\"},{\"attributes\":{},\"id\":\"35338\",\"type\":\"Selection\"},{\"attributes\":{\"axis_label\":\"Time (weekly)\",\"formatter\":{\"id\":\"35320\"},\"ticker\":{\"id\":\"34232\"}},\"id\":\"34231\",\"type\":\"DatetimeAxis\"},{\"attributes\":{\"line_color\":\"#1f77b4\",\"x\":{\"field\":\"x\"},\"y\":{\"field\":\"y\"}},\"id\":\"34259\",\"type\":\"Line\"},{\"attributes\":{},\"id\":\"34240\",\"type\":\"WheelZoomTool\"},{\"attributes\":{\"source\":{\"id\":\"34253\"}},\"id\":\"34257\",\"type\":\"CDSView\"},{\"attributes\":{},\"id\":\"35339\",\"type\":\"UnionRenderers\"},{\"attributes\":{\"data_source\":{\"id\":\"34253\"},\"glyph\":{\"id\":\"34254\"},\"hover_glyph\":null,\"muted_glyph\":null,\"nonselection_glyph\":{\"id\":\"34255\"},\"selection_glyph\":null,\"view\":{\"id\":\"34257\"}},\"id\":\"34256\",\"type\":\"GlyphRenderer\"},{\"attributes\":{\"axis_label\":\"Counts\",\"formatter\":{\"id\":\"35322\"},\"ticker\":{\"id\":\"34236\"}},\"id\":\"34235\",\"type\":\"LinearAxis\"},{\"attributes\":{\"source\":{\"id\":\"34258\"}},\"id\":\"34262\",\"type\":\"CDSView\"},{\"attributes\":{},\"id\":\"34225\",\"type\":\"DataRange1d\"},{\"attributes\":{\"mantissas\":[1,2,5],\"max_interval\":500.0,\"num_minor_ticks\":0},\"id\":\"35324\",\"type\":\"AdaptiveTicker\"},{\"attributes\":{\"base\":60,\"mantissas\":[1,2,5,10,15,20,30],\"max_interval\":1800000.0,\"min_interval\":1000.0,\"num_minor_ticks\":0},\"id\":\"35325\",\"type\":\"AdaptiveTicker\"},{\"attributes\":{\"data\":{\"x\":{\"__ndarray__\":\"AACAe0hcdEIAAMBDiV50QgAAAAzKYHRCAABA1ApjdEIAAICcS2V0QgAAwGSMZ3RCAAAALc1pdEIAAED1DWx0QgAAgL1ObnRCAADAhY9wdEIAAABO0HJ0QgAAQBYRdXRCAACA3lF3dEIAAMCmknl0QgAAAG/Te3RCAABANxR+dEIAAID/VIB0QgAAwMeVgnRC\",\"dtype\":\"float64\",\"order\":\"little\",\"shape\":[18]},\"y\":[202,333,366,393,367,400,414,446,424,455,462,471,493,527,454,468,466,477]},\"selected\":{\"id\":\"35336\"},\"selection_policy\":{\"id\":\"35337\"}},\"id\":\"34253\",\"type\":\"ColumnDataSource\"},{\"attributes\":{\"line_alpha\":0.1,\"line_color\":\"#1f77b4\",\"x\":{\"field\":\"x\"},\"y\":{\"field\":\"y\"}},\"id\":\"34260\",\"type\":\"Line\"},{\"attributes\":{\"days\":[1,2,3,4,5,6,7,8,9,10,11,12,13,14,15,16,17,18,19,20,21,22,23,24,25,26,27,28,29,30,31]},\"id\":\"35327\",\"type\":\"DaysTicker\"},{\"attributes\":{\"base\":24,\"mantissas\":[1,2,4,6,8,12],\"max_interval\":43200000.0,\"min_interval\":3600000.0,\"num_minor_ticks\":0},\"id\":\"35326\",\"type\":\"AdaptiveTicker\"},{\"attributes\":{\"days\":[1,8,15,22]},\"id\":\"35329\",\"type\":\"DaysTicker\"},{\"attributes\":{\"days\":[1,4,7,10,13,16,19,22,25,28]},\"id\":\"35328\",\"type\":\"DaysTicker\"},{\"attributes\":{},\"id\":\"35320\",\"type\":\"DatetimeTickFormatter\"}],\"root_ids\":[\"34220\"]},\"title\":\"Bokeh Application\",\"version\":\"2.2.1\"}};\n",
       "  var render_items = [{\"docid\":\"d5f31c4d-2ee6-487a-8bba-f2daa52585fe\",\"root_ids\":[\"34220\"],\"roots\":{\"34220\":\"e052844c-0698-4779-a66e-a33d79bcc5f3\"}}];\n",
       "  root.Bokeh.embed.embed_items_notebook(docs_json, render_items);\n",
       "\n",
       "  }\n",
       "  if (root.Bokeh !== undefined) {\n",
       "    embed_document(root);\n",
       "  } else {\n",
       "    var attempts = 0;\n",
       "    var timer = setInterval(function(root) {\n",
       "      if (root.Bokeh !== undefined) {\n",
       "        clearInterval(timer);\n",
       "        embed_document(root);\n",
       "      } else {\n",
       "        attempts++;\n",
       "        if (attempts > 100) {\n",
       "          clearInterval(timer);\n",
       "          console.log(\"Bokeh: ERROR: Unable to run BokehJS code because BokehJS library is missing\");\n",
       "        }\n",
       "      }\n",
       "    }, 10, root)\n",
       "  }\n",
       "})(window);"
      ],
      "application/vnd.bokehjs_exec.v0+json": ""
     },
     "metadata": {
      "application/vnd.bokehjs_exec.v0+json": {
       "id": "34220"
      }
     },
     "output_type": "display_data"
    },
    {
     "name": "stdout",
     "output_type": "stream",
     "text": [
      "1.0\n"
     ]
    },
    {
     "data": {
      "text/html": [
       "\n",
       "\n",
       "\n",
       "\n",
       "\n",
       "\n",
       "  <div class=\"bk-root\" id=\"0e9d9cff-e1b0-4634-a635-95a5082b0621\" data-root-id=\"35451\"></div>\n"
      ]
     },
     "metadata": {},
     "output_type": "display_data"
    },
    {
     "data": {
      "application/javascript": [
       "(function(root) {\n",
       "  function embed_document(root) {\n",
       "    \n",
       "  var docs_json = {\"58f0e047-36b9-411e-83af-e7660eb8fe01\":{\"roots\":{\"references\":[{\"attributes\":{\"below\":[{\"id\":\"35462\"}],\"center\":[{\"id\":\"35465\"},{\"id\":\"35469\"}],\"left\":[{\"id\":\"35466\"}],\"plot_height\":300,\"plot_width\":500,\"renderers\":[{\"id\":\"35487\"},{\"id\":\"35492\"}],\"title\":{\"id\":\"35452\"},\"toolbar\":{\"id\":\"35477\"},\"x_range\":{\"id\":\"35454\"},\"x_scale\":{\"id\":\"35458\"},\"y_range\":{\"id\":\"35456\"},\"y_scale\":{\"id\":\"35460\"}},\"id\":\"35451\",\"subtype\":\"Figure\",\"type\":\"Plot\"},{\"attributes\":{\"fill_alpha\":{\"value\":0.1},\"fill_color\":{\"value\":\"#1f77b4\"},\"line_alpha\":{\"value\":0.1},\"line_color\":{\"value\":\"#1f77b4\"},\"x\":{\"field\":\"x\"},\"y\":{\"field\":\"y\"}},\"id\":\"35486\",\"type\":\"Scatter\"},{\"attributes\":{},\"id\":\"36592\",\"type\":\"UnionRenderers\"},{\"attributes\":{\"line_color\":\"#1f77b4\",\"x\":{\"field\":\"x\"},\"y\":{\"field\":\"y\"}},\"id\":\"35490\",\"type\":\"Line\"},{\"attributes\":{\"source\":{\"id\":\"35484\"}},\"id\":\"35488\",\"type\":\"CDSView\"},{\"attributes\":{\"data_source\":{\"id\":\"35484\"},\"glyph\":{\"id\":\"35485\"},\"hover_glyph\":null,\"muted_glyph\":null,\"nonselection_glyph\":{\"id\":\"35486\"},\"selection_glyph\":null,\"view\":{\"id\":\"35488\"}},\"id\":\"35487\",\"type\":\"GlyphRenderer\"},{\"attributes\":{\"axis_label\":\"Counts\",\"formatter\":{\"id\":\"36575\"},\"ticker\":{\"id\":\"35467\"}},\"id\":\"35466\",\"type\":\"LinearAxis\"},{\"attributes\":{\"source\":{\"id\":\"35489\"}},\"id\":\"35493\",\"type\":\"CDSView\"},{\"attributes\":{\"mantissas\":[1,2,5],\"max_interval\":500.0,\"num_minor_ticks\":0},\"id\":\"36577\",\"type\":\"AdaptiveTicker\"},{\"attributes\":{},\"id\":\"36573\",\"type\":\"DatetimeTickFormatter\"},{\"attributes\":{\"base\":60,\"mantissas\":[1,2,5,10,15,20,30],\"max_interval\":1800000.0,\"min_interval\":1000.0,\"num_minor_ticks\":0},\"id\":\"36578\",\"type\":\"AdaptiveTicker\"},{\"attributes\":{\"line_alpha\":0.1,\"line_color\":\"#1f77b4\",\"x\":{\"field\":\"x\"},\"y\":{\"field\":\"y\"}},\"id\":\"35491\",\"type\":\"Line\"},{\"attributes\":{\"days\":[1,2,3,4,5,6,7,8,9,10,11,12,13,14,15,16,17,18,19,20,21,22,23,24,25,26,27,28,29,30,31]},\"id\":\"36580\",\"type\":\"DaysTicker\"},{\"attributes\":{\"base\":24,\"mantissas\":[1,2,4,6,8,12],\"max_interval\":43200000.0,\"min_interval\":3600000.0,\"num_minor_ticks\":0},\"id\":\"36579\",\"type\":\"AdaptiveTicker\"},{\"attributes\":{},\"id\":\"35454\",\"type\":\"DataRange1d\"},{\"attributes\":{\"months\":[0,1,2,3,4,5,6,7,8,9,10,11]},\"id\":\"36584\",\"type\":\"MonthsTicker\"},{\"attributes\":{\"months\":[0,2,4,6,8,10]},\"id\":\"36585\",\"type\":\"MonthsTicker\"},{\"attributes\":{\"days\":[1,4,7,10,13,16,19,22,25,28]},\"id\":\"36581\",\"type\":\"DaysTicker\"},{\"attributes\":{\"days\":[1,15]},\"id\":\"36583\",\"type\":\"DaysTicker\"},{\"attributes\":{},\"id\":\"36575\",\"type\":\"BasicTickFormatter\"},{\"attributes\":{\"months\":[0,6]},\"id\":\"36587\",\"type\":\"MonthsTicker\"},{\"attributes\":{\"days\":[1,8,15,22]},\"id\":\"36582\",\"type\":\"DaysTicker\"},{\"attributes\":{},\"id\":\"36588\",\"type\":\"YearsTicker\"},{\"attributes\":{\"bottom_units\":\"screen\",\"fill_alpha\":0.5,\"fill_color\":\"lightgrey\",\"left_units\":\"screen\",\"level\":\"overlay\",\"line_alpha\":1.0,\"line_color\":\"black\",\"line_dash\":[4,4],\"line_width\":2,\"right_units\":\"screen\",\"top_units\":\"screen\"},\"id\":\"35476\",\"type\":\"BoxAnnotation\"},{\"attributes\":{\"months\":[0,4,8]},\"id\":\"36586\",\"type\":\"MonthsTicker\"},{\"attributes\":{\"overlay\":{\"id\":\"35476\"}},\"id\":\"35472\",\"type\":\"BoxZoomTool\"},{\"attributes\":{},\"id\":\"35460\",\"type\":\"LinearScale\"},{\"attributes\":{\"axis_label\":\"Time (weekly)\",\"formatter\":{\"id\":\"36573\"},\"ticker\":{\"id\":\"35463\"}},\"id\":\"35462\",\"type\":\"DatetimeAxis\"},{\"attributes\":{},\"id\":\"35475\",\"type\":\"HelpTool\"},{\"attributes\":{\"text\":\"Count of weekly active users\"},\"id\":\"35452\",\"type\":\"Title\"},{\"attributes\":{},\"id\":\"35474\",\"type\":\"ResetTool\"},{\"attributes\":{},\"id\":\"35456\",\"type\":\"DataRange1d\"},{\"attributes\":{},\"id\":\"35471\",\"type\":\"WheelZoomTool\"},{\"attributes\":{},\"id\":\"36589\",\"type\":\"Selection\"},{\"attributes\":{\"data\":{\"x\":{\"__ndarray__\":\"AACAe0hcdEIAAMBDiV50QgAAAAzKYHRCAABA1ApjdEIAAICcS2V0QgAAwGSMZ3RCAAAALc1pdEIAAED1DWx0QgAAgL1ObnRCAADAhY9wdEIAAABO0HJ0QgAAQBYRdXRCAACA3lF3dEIAAMCmknl0QgAAAG/Te3RCAABANxR+dEIAAID/VIB0QgAAwMeVgnRC\",\"dtype\":\"float64\",\"order\":\"little\",\"shape\":[18]},\"y\":[344,452,457,480,483,512,498,502,512,503,536,531,533,550,502,448,428,433]},\"selected\":{\"id\":\"36589\"},\"selection_policy\":{\"id\":\"36590\"}},\"id\":\"35484\",\"type\":\"ColumnDataSource\"},{\"attributes\":{},\"id\":\"36590\",\"type\":\"UnionRenderers\"},{\"attributes\":{},\"id\":\"35458\",\"type\":\"LinearScale\"},{\"attributes\":{},\"id\":\"35473\",\"type\":\"SaveTool\"},{\"attributes\":{},\"id\":\"35467\",\"type\":\"BasicTicker\"},{\"attributes\":{\"data_source\":{\"id\":\"35489\"},\"glyph\":{\"id\":\"35490\"},\"hover_glyph\":null,\"muted_glyph\":null,\"nonselection_glyph\":{\"id\":\"35491\"},\"selection_glyph\":null,\"view\":{\"id\":\"35493\"}},\"id\":\"35492\",\"type\":\"GlyphRenderer\"},{\"attributes\":{\"fill_color\":{\"value\":\"#1f77b4\"},\"line_color\":{\"value\":\"#1f77b4\"},\"x\":{\"field\":\"x\"},\"y\":{\"field\":\"y\"}},\"id\":\"35485\",\"type\":\"Scatter\"},{\"attributes\":{\"active_drag\":\"auto\",\"active_inspect\":\"auto\",\"active_multi\":null,\"active_scroll\":\"auto\",\"active_tap\":\"auto\",\"tools\":[{\"id\":\"35470\"},{\"id\":\"35471\"},{\"id\":\"35472\"},{\"id\":\"35473\"},{\"id\":\"35474\"},{\"id\":\"35475\"}]},\"id\":\"35477\",\"type\":\"Toolbar\"},{\"attributes\":{\"num_minor_ticks\":5,\"tickers\":[{\"id\":\"36577\"},{\"id\":\"36578\"},{\"id\":\"36579\"},{\"id\":\"36580\"},{\"id\":\"36581\"},{\"id\":\"36582\"},{\"id\":\"36583\"},{\"id\":\"36584\"},{\"id\":\"36585\"},{\"id\":\"36586\"},{\"id\":\"36587\"},{\"id\":\"36588\"}]},\"id\":\"35463\",\"type\":\"DatetimeTicker\"},{\"attributes\":{\"axis\":{\"id\":\"35466\"},\"dimension\":1,\"ticker\":null},\"id\":\"35469\",\"type\":\"Grid\"},{\"attributes\":{\"axis\":{\"id\":\"35462\"},\"ticker\":null},\"id\":\"35465\",\"type\":\"Grid\"},{\"attributes\":{\"data\":{\"x\":{\"__ndarray__\":\"AACAe0hcdEIAAMBDiV50QgAAAAzKYHRCAABA1ApjdEIAAICcS2V0QgAAwGSMZ3RCAAAALc1pdEIAAED1DWx0QgAAgL1ObnRCAADAhY9wdEIAAABO0HJ0QgAAQBYRdXRCAACA3lF3dEIAAMCmknl0QgAAAG/Te3RCAABANxR+dEIAAID/VIB0QgAAwMeVgnRC\",\"dtype\":\"float64\",\"order\":\"little\",\"shape\":[18]},\"y\":[344,452,457,480,483,512,498,502,512,503,536,531,533,550,502,448,428,433]},\"selected\":{\"id\":\"36591\"},\"selection_policy\":{\"id\":\"36592\"}},\"id\":\"35489\",\"type\":\"ColumnDataSource\"},{\"attributes\":{},\"id\":\"35470\",\"type\":\"PanTool\"},{\"attributes\":{},\"id\":\"36591\",\"type\":\"Selection\"}],\"root_ids\":[\"35451\"]},\"title\":\"Bokeh Application\",\"version\":\"2.2.1\"}};\n",
       "  var render_items = [{\"docid\":\"58f0e047-36b9-411e-83af-e7660eb8fe01\",\"root_ids\":[\"35451\"],\"roots\":{\"35451\":\"0e9d9cff-e1b0-4634-a635-95a5082b0621\"}}];\n",
       "  root.Bokeh.embed.embed_items_notebook(docs_json, render_items);\n",
       "\n",
       "  }\n",
       "  if (root.Bokeh !== undefined) {\n",
       "    embed_document(root);\n",
       "  } else {\n",
       "    var attempts = 0;\n",
       "    var timer = setInterval(function(root) {\n",
       "      if (root.Bokeh !== undefined) {\n",
       "        clearInterval(timer);\n",
       "        embed_document(root);\n",
       "      } else {\n",
       "        attempts++;\n",
       "        if (attempts > 100) {\n",
       "          clearInterval(timer);\n",
       "          console.log(\"Bokeh: ERROR: Unable to run BokehJS code because BokehJS library is missing\");\n",
       "        }\n",
       "      }\n",
       "    }, 10, root)\n",
       "  }\n",
       "})(window);"
      ],
      "application/vnd.bokehjs_exec.v0+json": ""
     },
     "metadata": {
      "application/vnd.bokehjs_exec.v0+json": {
       "id": "35451"
      }
     },
     "output_type": "display_data"
    },
    {
     "name": "stdout",
     "output_type": "stream",
     "text": [
      "2.0\n"
     ]
    },
    {
     "data": {
      "text/html": [
       "\n",
       "\n",
       "\n",
       "\n",
       "\n",
       "\n",
       "  <div class=\"bk-root\" id=\"0ea06d4c-e4b9-46d6-8ccc-345b22e61916\" data-root-id=\"36704\"></div>\n"
      ]
     },
     "metadata": {},
     "output_type": "display_data"
    },
    {
     "data": {
      "application/javascript": [
       "(function(root) {\n",
       "  function embed_document(root) {\n",
       "    \n",
       "  var docs_json = {\"8b9dc8a9-a3cc-49d9-9501-94864245c043\":{\"roots\":{\"references\":[{\"attributes\":{\"below\":[{\"id\":\"36715\"}],\"center\":[{\"id\":\"36718\"},{\"id\":\"36722\"}],\"left\":[{\"id\":\"36719\"}],\"plot_height\":300,\"plot_width\":500,\"renderers\":[{\"id\":\"36740\"},{\"id\":\"36745\"}],\"title\":{\"id\":\"36705\"},\"toolbar\":{\"id\":\"36730\"},\"x_range\":{\"id\":\"36707\"},\"x_scale\":{\"id\":\"36711\"},\"y_range\":{\"id\":\"36709\"},\"y_scale\":{\"id\":\"36713\"}},\"id\":\"36704\",\"subtype\":\"Figure\",\"type\":\"Plot\"},{\"attributes\":{\"data\":{\"x\":{\"__ndarray__\":\"AACAe0hcdEIAAMBDiV50QgAAAAzKYHRCAABA1ApjdEIAAICcS2V0QgAAwGSMZ3RCAAAALc1pdEIAAED1DWx0QgAAgL1ObnRCAADAhY9wdEIAAABO0HJ0QgAAQBYRdXRCAACA3lF3dEIAAMCmknl0QgAAAG/Te3RCAABANxR+dEIAAID/VIB0QgAAwMeVgnRC\",\"dtype\":\"float64\",\"order\":\"little\",\"shape\":[18]},\"y\":[155,269,271,274,263,261,307,314,313,313,357,343,337,365,310,299,309,284]},\"selected\":{\"id\":\"37864\"},\"selection_policy\":{\"id\":\"37865\"}},\"id\":\"36737\",\"type\":\"ColumnDataSource\"},{\"attributes\":{},\"id\":\"36723\",\"type\":\"PanTool\"},{\"attributes\":{\"active_drag\":\"auto\",\"active_inspect\":\"auto\",\"active_multi\":null,\"active_scroll\":\"auto\",\"active_tap\":\"auto\",\"tools\":[{\"id\":\"36723\"},{\"id\":\"36724\"},{\"id\":\"36725\"},{\"id\":\"36726\"},{\"id\":\"36727\"},{\"id\":\"36728\"}]},\"id\":\"36730\",\"type\":\"Toolbar\"},{\"attributes\":{},\"id\":\"36726\",\"type\":\"SaveTool\"},{\"attributes\":{},\"id\":\"36724\",\"type\":\"WheelZoomTool\"},{\"attributes\":{\"data\":{\"x\":{\"__ndarray__\":\"AACAe0hcdEIAAMBDiV50QgAAAAzKYHRCAABA1ApjdEIAAICcS2V0QgAAwGSMZ3RCAAAALc1pdEIAAED1DWx0QgAAgL1ObnRCAADAhY9wdEIAAABO0HJ0QgAAQBYRdXRCAACA3lF3dEIAAMCmknl0QgAAAG/Te3RCAABANxR+dEIAAID/VIB0QgAAwMeVgnRC\",\"dtype\":\"float64\",\"order\":\"little\",\"shape\":[18]},\"y\":[155,269,271,274,263,261,307,314,313,313,357,343,337,365,310,299,309,284]},\"selected\":{\"id\":\"37866\"},\"selection_policy\":{\"id\":\"37867\"}},\"id\":\"36742\",\"type\":\"ColumnDataSource\"},{\"attributes\":{},\"id\":\"37865\",\"type\":\"UnionRenderers\"},{\"attributes\":{},\"id\":\"37850\",\"type\":\"BasicTickFormatter\"},{\"attributes\":{\"fill_alpha\":{\"value\":0.1},\"fill_color\":{\"value\":\"#1f77b4\"},\"line_alpha\":{\"value\":0.1},\"line_color\":{\"value\":\"#1f77b4\"},\"x\":{\"field\":\"x\"},\"y\":{\"field\":\"y\"}},\"id\":\"36739\",\"type\":\"Scatter\"},{\"attributes\":{},\"id\":\"36728\",\"type\":\"HelpTool\"},{\"attributes\":{},\"id\":\"36727\",\"type\":\"ResetTool\"},{\"attributes\":{\"line_color\":\"#1f77b4\",\"x\":{\"field\":\"x\"},\"y\":{\"field\":\"y\"}},\"id\":\"36743\",\"type\":\"Line\"},{\"attributes\":{\"overlay\":{\"id\":\"36729\"}},\"id\":\"36725\",\"type\":\"BoxZoomTool\"},{\"attributes\":{\"source\":{\"id\":\"36737\"}},\"id\":\"36741\",\"type\":\"CDSView\"},{\"attributes\":{},\"id\":\"37864\",\"type\":\"Selection\"},{\"attributes\":{\"data_source\":{\"id\":\"36737\"},\"glyph\":{\"id\":\"36738\"},\"hover_glyph\":null,\"muted_glyph\":null,\"nonselection_glyph\":{\"id\":\"36739\"},\"selection_glyph\":null,\"view\":{\"id\":\"36741\"}},\"id\":\"36740\",\"type\":\"GlyphRenderer\"},{\"attributes\":{\"source\":{\"id\":\"36742\"}},\"id\":\"36746\",\"type\":\"CDSView\"},{\"attributes\":{\"mantissas\":[1,2,5],\"max_interval\":500.0,\"num_minor_ticks\":0},\"id\":\"37852\",\"type\":\"AdaptiveTicker\"},{\"attributes\":{\"base\":60,\"mantissas\":[1,2,5,10,15,20,30],\"max_interval\":1800000.0,\"min_interval\":1000.0,\"num_minor_ticks\":0},\"id\":\"37853\",\"type\":\"AdaptiveTicker\"},{\"attributes\":{\"line_alpha\":0.1,\"line_color\":\"#1f77b4\",\"x\":{\"field\":\"x\"},\"y\":{\"field\":\"y\"}},\"id\":\"36744\",\"type\":\"Line\"},{\"attributes\":{\"days\":[1,2,3,4,5,6,7,8,9,10,11,12,13,14,15,16,17,18,19,20,21,22,23,24,25,26,27,28,29,30,31]},\"id\":\"37855\",\"type\":\"DaysTicker\"},{\"attributes\":{\"base\":24,\"mantissas\":[1,2,4,6,8,12],\"max_interval\":43200000.0,\"min_interval\":3600000.0,\"num_minor_ticks\":0},\"id\":\"37854\",\"type\":\"AdaptiveTicker\"},{\"attributes\":{\"months\":[0,1,2,3,4,5,6,7,8,9,10,11]},\"id\":\"37859\",\"type\":\"MonthsTicker\"},{\"attributes\":{\"months\":[0,2,4,6,8,10]},\"id\":\"37860\",\"type\":\"MonthsTicker\"},{\"attributes\":{},\"id\":\"36711\",\"type\":\"LinearScale\"},{\"attributes\":{\"days\":[1,4,7,10,13,16,19,22,25,28]},\"id\":\"37856\",\"type\":\"DaysTicker\"},{\"attributes\":{\"days\":[1,15]},\"id\":\"37858\",\"type\":\"DaysTicker\"},{\"attributes\":{\"months\":[0,6]},\"id\":\"37862\",\"type\":\"MonthsTicker\"},{\"attributes\":{\"days\":[1,8,15,22]},\"id\":\"37857\",\"type\":\"DaysTicker\"},{\"attributes\":{\"axis\":{\"id\":\"36715\"},\"ticker\":null},\"id\":\"36718\",\"type\":\"Grid\"},{\"attributes\":{},\"id\":\"37848\",\"type\":\"DatetimeTickFormatter\"},{\"attributes\":{},\"id\":\"37863\",\"type\":\"YearsTicker\"},{\"attributes\":{\"axis\":{\"id\":\"36719\"},\"dimension\":1,\"ticker\":null},\"id\":\"36722\",\"type\":\"Grid\"},{\"attributes\":{\"bottom_units\":\"screen\",\"fill_alpha\":0.5,\"fill_color\":\"lightgrey\",\"left_units\":\"screen\",\"level\":\"overlay\",\"line_alpha\":1.0,\"line_color\":\"black\",\"line_dash\":[4,4],\"line_width\":2,\"right_units\":\"screen\",\"top_units\":\"screen\"},\"id\":\"36729\",\"type\":\"BoxAnnotation\"},{\"attributes\":{},\"id\":\"37866\",\"type\":\"Selection\"},{\"attributes\":{\"num_minor_ticks\":5,\"tickers\":[{\"id\":\"37852\"},{\"id\":\"37853\"},{\"id\":\"37854\"},{\"id\":\"37855\"},{\"id\":\"37856\"},{\"id\":\"37857\"},{\"id\":\"37858\"},{\"id\":\"37859\"},{\"id\":\"37860\"},{\"id\":\"37861\"},{\"id\":\"37862\"},{\"id\":\"37863\"}]},\"id\":\"36716\",\"type\":\"DatetimeTicker\"},{\"attributes\":{\"months\":[0,4,8]},\"id\":\"37861\",\"type\":\"MonthsTicker\"},{\"attributes\":{},\"id\":\"36713\",\"type\":\"LinearScale\"},{\"attributes\":{\"data_source\":{\"id\":\"36742\"},\"glyph\":{\"id\":\"36743\"},\"hover_glyph\":null,\"muted_glyph\":null,\"nonselection_glyph\":{\"id\":\"36744\"},\"selection_glyph\":null,\"view\":{\"id\":\"36746\"}},\"id\":\"36745\",\"type\":\"GlyphRenderer\"},{\"attributes\":{},\"id\":\"36720\",\"type\":\"BasicTicker\"},{\"attributes\":{\"fill_color\":{\"value\":\"#1f77b4\"},\"line_color\":{\"value\":\"#1f77b4\"},\"x\":{\"field\":\"x\"},\"y\":{\"field\":\"y\"}},\"id\":\"36738\",\"type\":\"Scatter\"},{\"attributes\":{},\"id\":\"37867\",\"type\":\"UnionRenderers\"},{\"attributes\":{\"axis_label\":\"Counts\",\"formatter\":{\"id\":\"37850\"},\"ticker\":{\"id\":\"36720\"}},\"id\":\"36719\",\"type\":\"LinearAxis\"},{\"attributes\":{},\"id\":\"36709\",\"type\":\"DataRange1d\"},{\"attributes\":{},\"id\":\"36707\",\"type\":\"DataRange1d\"},{\"attributes\":{\"axis_label\":\"Time (weekly)\",\"formatter\":{\"id\":\"37848\"},\"ticker\":{\"id\":\"36716\"}},\"id\":\"36715\",\"type\":\"DatetimeAxis\"},{\"attributes\":{\"text\":\"Count of weekly active users\"},\"id\":\"36705\",\"type\":\"Title\"}],\"root_ids\":[\"36704\"]},\"title\":\"Bokeh Application\",\"version\":\"2.2.1\"}};\n",
       "  var render_items = [{\"docid\":\"8b9dc8a9-a3cc-49d9-9501-94864245c043\",\"root_ids\":[\"36704\"],\"roots\":{\"36704\":\"0ea06d4c-e4b9-46d6-8ccc-345b22e61916\"}}];\n",
       "  root.Bokeh.embed.embed_items_notebook(docs_json, render_items);\n",
       "\n",
       "  }\n",
       "  if (root.Bokeh !== undefined) {\n",
       "    embed_document(root);\n",
       "  } else {\n",
       "    var attempts = 0;\n",
       "    var timer = setInterval(function(root) {\n",
       "      if (root.Bokeh !== undefined) {\n",
       "        clearInterval(timer);\n",
       "        embed_document(root);\n",
       "      } else {\n",
       "        attempts++;\n",
       "        if (attempts > 100) {\n",
       "          clearInterval(timer);\n",
       "          console.log(\"Bokeh: ERROR: Unable to run BokehJS code because BokehJS library is missing\");\n",
       "        }\n",
       "      }\n",
       "    }, 10, root)\n",
       "  }\n",
       "})(window);"
      ],
      "application/vnd.bokehjs_exec.v0+json": ""
     },
     "metadata": {
      "application/vnd.bokehjs_exec.v0+json": {
       "id": "36704"
      }
     },
     "output_type": "display_data"
    }
   ],
   "source": [
    "# device_type\n",
    "group_num = len(pd.unique(daily.user_type))\n",
    "group = pd.unique(daily.user_type)\n",
    "\n",
    "output_notebook()\n",
    "\n",
    "for cls in group:\n",
    "    daily_cls = daily.loc[daily.user_type==cls]\n",
    "    weekly_cls = daily_cls.set_index('occurred_at').groupby(pd.Grouper(freq='W')).user_id.nunique()\n",
    "    x = weekly_cls.index\n",
    "    y = weekly_cls.values\n",
    "    fig = figure(plot_width=500, plot_height=300, x_axis_type='datetime',\n",
    "             title='Count of weekly active users',\n",
    "             y_axis_label='Counts', x_axis_label='Time (weekly)')\n",
    "    fig.scatter(x, y)\n",
    "    fig.line(x, y)\n",
    "    print(cls)\n",
    "    show(fig)"
   ]
  },
  {
   "cell_type": "markdown",
   "metadata": {},
   "source": [
    "# Regardless of user type, similar pattern"
   ]
  },
  {
   "cell_type": "code",
   "execution_count": 26,
   "metadata": {
    "ExecuteTime": {
     "end_time": "2020-11-09T23:33:48.058081Z",
     "start_time": "2020-11-09T23:33:48.042449Z"
    }
   },
   "outputs": [],
   "source": [
    "phone=['iphone 5','samsung galaxy s4','nexus 5','iphone 5s','iphone 4s','nokia lumia 635', 'htc one',\\\n",
    "       'samsung galaxy note','amazon fire phone']\n",
    "computer=['macbook pro','lenovo thinkpad','macbook air','dell inspiron notebook', 'asus chromebook',\\\n",
    "          'dell inspiron desktop','acer aspire notebook','hp pavilion desktop','acer aspire desktop','mac mini']\n",
    "tablet=['ipad air','nexus 7','ipad mini','nexus 10','kindle fire','windows surface','samsumg galaxy tablet']"
   ]
  },
  {
   "cell_type": "code",
   "execution_count": 27,
   "metadata": {
    "ExecuteTime": {
     "end_time": "2020-11-09T23:33:48.104943Z",
     "start_time": "2020-11-09T23:33:48.058081Z"
    }
   },
   "outputs": [],
   "source": [
    "device_type_list=[]\n",
    "for device in daily['device']:\n",
    "    if device in phone:\n",
    "        device_type_list.append('phone')\n",
    "    if device in computer:\n",
    "        device_type_list.append('computer')\n",
    "    if device in tablet:\n",
    "        device_type_list.append('tablet')"
   ]
  },
  {
   "cell_type": "code",
   "execution_count": 28,
   "metadata": {
    "ExecuteTime": {
     "end_time": "2020-11-09T23:33:48.127078Z",
     "start_time": "2020-11-09T23:33:48.104943Z"
    }
   },
   "outputs": [
    {
     "name": "stdout",
     "output_type": "stream",
     "text": [
      "0     dell inspiron notebook\n",
      "6                   iphone 5\n",
      "18                 iphone 4s\n",
      "21           windows surface\n",
      "23               macbook air\n",
      "31                 iphone 4s\n",
      "40                 iphone 5s\n",
      "50               macbook pro\n",
      "55               kindle fire\n",
      "58                 ipad mini\n",
      "Name: device, dtype: object ['computer', 'phone', 'phone', 'tablet', 'computer', 'phone', 'phone', 'computer', 'tablet', 'tablet']\n"
     ]
    }
   ],
   "source": [
    "print(daily['device'].head(10), device_type_list[:10])"
   ]
  },
  {
   "cell_type": "code",
   "execution_count": 29,
   "metadata": {
    "ExecuteTime": {
     "end_time": "2020-11-09T23:33:48.142703Z",
     "start_time": "2020-11-09T23:33:48.127078Z"
    }
   },
   "outputs": [],
   "source": [
    "daily['device_type'] = device_type_list"
   ]
  },
  {
   "cell_type": "code",
   "execution_count": 30,
   "metadata": {
    "ExecuteTime": {
     "end_time": "2020-11-09T23:33:48.327653Z",
     "start_time": "2020-11-09T23:33:48.142703Z"
    }
   },
   "outputs": [
    {
     "data": {
      "image/png": "[encoded data removed]",
      "text/plain": [
       "<Figure size 720x720 with 1 Axes>"
      ]
     },
     "metadata": {},
     "output_type": "display_data"
    }
   ],
   "source": [
    "sns.set_theme(style='whitegrid', font_scale=1.5)\n",
    "fig, ax = plt.subplots(figsize=(10,10))\n",
    "ax = sns.countplot(x='device_type', data=daily)"
   ]
  },
  {
   "cell_type": "markdown",
   "metadata": {},
   "source": [
    "### Majority of users were on computers."
   ]
  },
  {
   "cell_type": "code",
   "execution_count": 31,
   "metadata": {
    "ExecuteTime": {
     "end_time": "2020-11-09T23:33:49.129770Z",
     "start_time": "2020-11-09T23:33:48.327653Z"
    }
   },
   "outputs": [
    {
     "data": {
      "text/html": [
       "\n",
       "    <div class=\"bk-root\">\n",
       "        <a href=\"https://bokeh.org\" target=\"_blank\" class=\"bk-logo bk-logo-small bk-logo-notebook\"></a>\n",
       "        <span id=\"37979\">Loading BokehJS ...</span>\n",
       "    </div>"
      ]
     },
     "metadata": {},
     "output_type": "display_data"
    },
    {
     "data": {
      "application/javascript": [
       "\n",
       "(function(root) {\n",
       "  function now() {\n",
       "    return new Date();\n",
       "  }\n",
       "\n",
       "  var force = true;\n",
       "\n",
       "  if (typeof root._bokeh_onload_callbacks === \"undefined\" || force === true) {\n",
       "    root._bokeh_onload_callbacks = [];\n",
       "    root._bokeh_is_loading = undefined;\n",
       "  }\n",
       "\n",
       "  var JS_MIME_TYPE = 'application/javascript';\n",
       "  var HTML_MIME_TYPE = 'text/html';\n",
       "  var EXEC_MIME_TYPE = 'application/vnd.bokehjs_exec.v0+json';\n",
       "  var CLASS_NAME = 'output_bokeh rendered_html';\n",
       "\n",
       "  /**\n",
       "   * Render data to the DOM node\n",
       "   */\n",
       "  function render(props, node) {\n",
       "    var script = document.createElement(\"script\");\n",
       "    node.appendChild(script);\n",
       "  }\n",
       "\n",
       "  /**\n",
       "   * Handle when an output is cleared or removed\n",
       "   */\n",
       "  function handleClearOutput(event, handle) {\n",
       "    var cell = handle.cell;\n",
       "\n",
       "    var id = cell.output_area._bokeh_element_id;\n",
       "    var server_id = cell.output_area._bokeh_server_id;\n",
       "    // Clean up Bokeh references\n",
       "    if (id != null && id in Bokeh.index) {\n",
       "      Bokeh.index[id].model.document.clear();\n",
       "      delete Bokeh.index[id];\n",
       "    }\n",
       "\n",
       "    if (server_id !== undefined) {\n",
       "      // Clean up Bokeh references\n",
       "      var cmd = \"from bokeh.io.state import curstate; print(curstate().uuid_to_server['\" + server_id + \"'].get_sessions()[0].document.roots[0]._id)\";\n",
       "      cell.notebook.kernel.execute(cmd, {\n",
       "        iopub: {\n",
       "          output: function(msg) {\n",
       "            var id = msg.content.text.trim();\n",
       "            if (id in Bokeh.index) {\n",
       "              Bokeh.index[id].model.document.clear();\n",
       "              delete Bokeh.index[id];\n",
       "            }\n",
       "          }\n",
       "        }\n",
       "      });\n",
       "      // Destroy server and session\n",
       "      var cmd = \"import bokeh.io.notebook as ion; ion.destroy_server('\" + server_id + \"')\";\n",
       "      cell.notebook.kernel.execute(cmd);\n",
       "    }\n",
       "  }\n",
       "\n",
       "  /**\n",
       "   * Handle when a new output is added\n",
       "   */\n",
       "  function handleAddOutput(event, handle) {\n",
       "    var output_area = handle.output_area;\n",
       "    var output = handle.output;\n",
       "\n",
       "    // limit handleAddOutput to display_data with EXEC_MIME_TYPE content only\n",
       "    if ((output.output_type != \"display_data\") || (!output.data.hasOwnProperty(EXEC_MIME_TYPE))) {\n",
       "      return\n",
       "    }\n",
       "\n",
       "    var toinsert = output_area.element.find(\".\" + CLASS_NAME.split(' ')[0]);\n",
       "\n",
       "    if (output.metadata[EXEC_MIME_TYPE][\"id\"] !== undefined) {\n",
       "      toinsert[toinsert.length - 1].firstChild.textContent = output.data[JS_MIME_TYPE];\n",
       "      // store reference to embed id on output_area\n",
       "      output_area._bokeh_element_id = output.metadata[EXEC_MIME_TYPE][\"id\"];\n",
       "    }\n",
       "    if (output.metadata[EXEC_MIME_TYPE][\"server_id\"] !== undefined) {\n",
       "      var bk_div = document.createElement(\"div\");\n",
       "      bk_div.innerHTML = output.data[HTML_MIME_TYPE];\n",
       "      var script_attrs = bk_div.children[0].attributes;\n",
       "      for (var i = 0; i < script_attrs.length; i++) {\n",
       "        toinsert[toinsert.length - 1].firstChild.setAttribute(script_attrs[i].name, script_attrs[i].value);\n",
       "        toinsert[toinsert.length - 1].firstChild.textContent = bk_div.children[0].textContent\n",
       "      }\n",
       "      // store reference to server id on output_area\n",
       "      output_area._bokeh_server_id = output.metadata[EXEC_MIME_TYPE][\"server_id\"];\n",
       "    }\n",
       "  }\n",
       "\n",
       "  function register_renderer(events, OutputArea) {\n",
       "\n",
       "    function append_mime(data, metadata, element) {\n",
       "      // create a DOM node to render to\n",
       "      var toinsert = this.create_output_subarea(\n",
       "        metadata,\n",
       "        CLASS_NAME,\n",
       "        EXEC_MIME_TYPE\n",
       "      );\n",
       "      this.keyboard_manager.register_events(toinsert);\n",
       "      // Render to node\n",
       "      var props = {data: data, metadata: metadata[EXEC_MIME_TYPE]};\n",
       "      render(props, toinsert[toinsert.length - 1]);\n",
       "      element.append(toinsert);\n",
       "      return toinsert\n",
       "    }\n",
       "\n",
       "    /* Handle when an output is cleared or removed */\n",
       "    events.on('clear_output.CodeCell', handleClearOutput);\n",
       "    events.on('delete.Cell', handleClearOutput);\n",
       "\n",
       "    /* Handle when a new output is added */\n",
       "    events.on('output_added.OutputArea', handleAddOutput);\n",
       "\n",
       "    /**\n",
       "     * Register the mime type and append_mime function with output_area\n",
       "     */\n",
       "    OutputArea.prototype.register_mime_type(EXEC_MIME_TYPE, append_mime, {\n",
       "      /* Is output safe? */\n",
       "      safe: true,\n",
       "      /* Index of renderer in `output_area.display_order` */\n",
       "      index: 0\n",
       "    });\n",
       "  }\n",
       "\n",
       "  // register the mime type if in Jupyter Notebook environment and previously unregistered\n",
       "  if (root.Jupyter !== undefined) {\n",
       "    var events = require('base/js/events');\n",
       "    var OutputArea = require('notebook/js/outputarea').OutputArea;\n",
       "\n",
       "    if (OutputArea.prototype.mime_types().indexOf(EXEC_MIME_TYPE) == -1) {\n",
       "      register_renderer(events, OutputArea);\n",
       "    }\n",
       "  }\n",
       "\n",
       "  \n",
       "  if (typeof (root._bokeh_timeout) === \"undefined\" || force === true) {\n",
       "    root._bokeh_timeout = Date.now() + 5000;\n",
       "    root._bokeh_failed_load = false;\n",
       "  }\n",
       "\n",
       "  var NB_LOAD_WARNING = {'data': {'text/html':\n",
       "     \"<div style='background-color: #fdd'>\\n\"+\n",
       "     \"<p>\\n\"+\n",
       "     \"BokehJS does not appear to have successfully loaded. If loading BokehJS from CDN, this \\n\"+\n",
       "     \"may be due to a slow or bad network connection. Possible fixes:\\n\"+\n",
       "     \"</p>\\n\"+\n",
       "     \"<ul>\\n\"+\n",
       "     \"<li>re-rerun `output_notebook()` to attempt to load from CDN again, or</li>\\n\"+\n",
       "     \"<li>use INLINE resources instead, as so:</li>\\n\"+\n",
       "     \"</ul>\\n\"+\n",
       "     \"<code>\\n\"+\n",
       "     \"from bokeh.resources import INLINE\\n\"+\n",
       "     \"output_notebook(resources=INLINE)\\n\"+\n",
       "     \"</code>\\n\"+\n",
       "     \"</div>\"}};\n",
       "\n",
       "  function display_loaded() {\n",
       "    var el = document.getElementById(\"37979\");\n",
       "    if (el != null) {\n",
       "      el.textContent = \"BokehJS is loading...\";\n",
       "    }\n",
       "    if (root.Bokeh !== undefined) {\n",
       "      if (el != null) {\n",
       "        el.textContent = \"BokehJS \" + root.Bokeh.version + \" successfully loaded.\";\n",
       "      }\n",
       "    } else if (Date.now() < root._bokeh_timeout) {\n",
       "      setTimeout(display_loaded, 100)\n",
       "    }\n",
       "  }\n",
       "\n",
       "\n",
       "  function run_callbacks() {\n",
       "    try {\n",
       "      root._bokeh_onload_callbacks.forEach(function(callback) {\n",
       "        if (callback != null)\n",
       "          callback();\n",
       "      });\n",
       "    } finally {\n",
       "      delete root._bokeh_onload_callbacks\n",
       "    }\n",
       "    console.debug(\"Bokeh: all callbacks have finished\");\n",
       "  }\n",
       "\n",
       "  function load_libs(css_urls, js_urls, callback) {\n",
       "    if (css_urls == null) css_urls = [];\n",
       "    if (js_urls == null) js_urls = [];\n",
       "\n",
       "    root._bokeh_onload_callbacks.push(callback);\n",
       "    if (root._bokeh_is_loading > 0) {\n",
       "      console.debug(\"Bokeh: BokehJS is being loaded, scheduling callback at\", now());\n",
       "      return null;\n",
       "    }\n",
       "    if (js_urls == null || js_urls.length === 0) {\n",
       "      run_callbacks();\n",
       "      return null;\n",
       "    }\n",
       "    console.debug(\"Bokeh: BokehJS not loaded, scheduling load and callback at\", now());\n",
       "    root._bokeh_is_loading = css_urls.length + js_urls.length;\n",
       "\n",
       "    function on_load() {\n",
       "      root._bokeh_is_loading--;\n",
       "      if (root._bokeh_is_loading === 0) {\n",
       "        console.debug(\"Bokeh: all BokehJS libraries/stylesheets loaded\");\n",
       "        run_callbacks()\n",
       "      }\n",
       "    }\n",
       "\n",
       "    function on_error() {\n",
       "      console.error(\"failed to load \" + url);\n",
       "    }\n",
       "\n",
       "    for (var i = 0; i < css_urls.length; i++) {\n",
       "      var url = css_urls[i];\n",
       "      const element = document.createElement(\"link\");\n",
       "      element.onload = on_load;\n",
       "      element.onerror = on_error;\n",
       "      element.rel = \"stylesheet\";\n",
       "      element.type = \"text/css\";\n",
       "      element.href = url;\n",
       "      console.debug(\"Bokeh: injecting link tag for BokehJS stylesheet: \", url);\n",
       "      document.body.appendChild(element);\n",
       "    }\n",
       "\n",
       "    const hashes = {\"https://cdn.bokeh.org/bokeh/release/bokeh-2.2.1.min.js\": \"qkRvDQVAIfzsJo40iRBbxt6sttt0hv4lh74DG7OK4MCHv4C5oohXYoHUM5W11uqS\", \"https://cdn.bokeh.org/bokeh/release/bokeh-widgets-2.2.1.min.js\": \"Sb7Mr06a9TNlet/GEBeKaf5xH3eb6AlCzwjtU82wNPyDrnfoiVl26qnvlKjmcAd+\", \"https://cdn.bokeh.org/bokeh/release/bokeh-tables-2.2.1.min.js\": \"HaJ15vgfmcfRtB4c4YBOI4f1MUujukqInOWVqZJZZGK7Q+ivud0OKGSTn/Vm2iso\"};\n",
       "\n",
       "    for (var i = 0; i < js_urls.length; i++) {\n",
       "      var url = js_urls[i];\n",
       "      var element = document.createElement('script');\n",
       "      element.onload = on_load;\n",
       "      element.onerror = on_error;\n",
       "      element.async = false;\n",
       "      element.src = url;\n",
       "      if (url in hashes) {\n",
       "        element.crossOrigin = \"anonymous\";\n",
       "        element.integrity = \"sha384-\" + hashes[url];\n",
       "      }\n",
       "      console.debug(\"Bokeh: injecting script tag for BokehJS library: \", url);\n",
       "      document.head.appendChild(element);\n",
       "    }\n",
       "  };\n",
       "\n",
       "  function inject_raw_css(css) {\n",
       "    const element = document.createElement(\"style\");\n",
       "    element.appendChild(document.createTextNode(css));\n",
       "    document.body.appendChild(element);\n",
       "  }\n",
       "\n",
       "  \n",
       "  var js_urls = [\"https://cdn.bokeh.org/bokeh/release/bokeh-2.2.1.min.js\", \"https://cdn.bokeh.org/bokeh/release/bokeh-widgets-2.2.1.min.js\", \"https://cdn.bokeh.org/bokeh/release/bokeh-tables-2.2.1.min.js\"];\n",
       "  var css_urls = [];\n",
       "  \n",
       "\n",
       "  var inline_js = [\n",
       "    function(Bokeh) {\n",
       "      Bokeh.set_log_level(\"info\");\n",
       "    },\n",
       "    function(Bokeh) {\n",
       "    \n",
       "    \n",
       "    }\n",
       "  ];\n",
       "\n",
       "  function run_inline_js() {\n",
       "    \n",
       "    if (root.Bokeh !== undefined || force === true) {\n",
       "      \n",
       "    for (var i = 0; i < inline_js.length; i++) {\n",
       "      inline_js[i].call(root, root.Bokeh);\n",
       "    }\n",
       "    if (force === true) {\n",
       "        display_loaded();\n",
       "      }} else if (Date.now() < root._bokeh_timeout) {\n",
       "      setTimeout(run_inline_js, 100);\n",
       "    } else if (!root._bokeh_failed_load) {\n",
       "      console.log(\"Bokeh: BokehJS failed to load within specified timeout.\");\n",
       "      root._bokeh_failed_load = true;\n",
       "    } else if (force !== true) {\n",
       "      var cell = $(document.getElementById(\"37979\")).parents('.cell').data().cell;\n",
       "      cell.output_area.append_execute_result(NB_LOAD_WARNING)\n",
       "    }\n",
       "\n",
       "  }\n",
       "\n",
       "  if (root._bokeh_is_loading === 0) {\n",
       "    console.debug(\"Bokeh: BokehJS loaded, going straight to plotting\");\n",
       "    run_inline_js();\n",
       "  } else {\n",
       "    load_libs(css_urls, js_urls, function() {\n",
       "      console.debug(\"Bokeh: BokehJS plotting callback run at\", now());\n",
       "      run_inline_js();\n",
       "    });\n",
       "  }\n",
       "}(window));"
      ],
      "application/vnd.bokehjs_load.v0+json": "\n(function(root) {\n  function now() {\n    return new Date();\n  }\n\n  var force = true;\n\n  if (typeof root._bokeh_onload_callbacks === \"undefined\" || force === true) {\n    root._bokeh_onload_callbacks = [];\n    root._bokeh_is_loading = undefined;\n  }\n\n  \n\n  \n  if (typeof (root._bokeh_timeout) === \"undefined\" || force === true) {\n    root._bokeh_timeout = Date.now() + 5000;\n    root._bokeh_failed_load = false;\n  }\n\n  var NB_LOAD_WARNING = {'data': {'text/html':\n     \"<div style='background-color: #fdd'>\\n\"+\n     \"<p>\\n\"+\n     \"BokehJS does not appear to have successfully loaded. If loading BokehJS from CDN, this \\n\"+\n     \"may be due to a slow or bad network connection. Possible fixes:\\n\"+\n     \"</p>\\n\"+\n     \"<ul>\\n\"+\n     \"<li>re-rerun `output_notebook()` to attempt to load from CDN again, or</li>\\n\"+\n     \"<li>use INLINE resources instead, as so:</li>\\n\"+\n     \"</ul>\\n\"+\n     \"<code>\\n\"+\n     \"from bokeh.resources import INLINE\\n\"+\n     \"output_notebook(resources=INLINE)\\n\"+\n     \"</code>\\n\"+\n     \"</div>\"}};\n\n  function display_loaded() {\n    var el = document.getElementById(\"37979\");\n    if (el != null) {\n      el.textContent = \"BokehJS is loading...\";\n    }\n    if (root.Bokeh !== undefined) {\n      if (el != null) {\n        el.textContent = \"BokehJS \" + root.Bokeh.version + \" successfully loaded.\";\n      }\n    } else if (Date.now() < root._bokeh_timeout) {\n      setTimeout(display_loaded, 100)\n    }\n  }\n\n\n  function run_callbacks() {\n    try {\n      root._bokeh_onload_callbacks.forEach(function(callback) {\n        if (callback != null)\n          callback();\n      });\n    } finally {\n      delete root._bokeh_onload_callbacks\n    }\n    console.debug(\"Bokeh: all callbacks have finished\");\n  }\n\n  function load_libs(css_urls, js_urls, callback) {\n    if (css_urls == null) css_urls = [];\n    if (js_urls == null) js_urls = [];\n\n    root._bokeh_onload_callbacks.push(callback);\n    if (root._bokeh_is_loading > 0) {\n      console.debug(\"Bokeh: BokehJS is being loaded, scheduling callback at\", now());\n      return null;\n    }\n    if (js_urls == null || js_urls.length === 0) {\n      run_callbacks();\n      return null;\n    }\n    console.debug(\"Bokeh: BokehJS not loaded, scheduling load and callback at\", now());\n    root._bokeh_is_loading = css_urls.length + js_urls.length;\n\n    function on_load() {\n      root._bokeh_is_loading--;\n      if (root._bokeh_is_loading === 0) {\n        console.debug(\"Bokeh: all BokehJS libraries/stylesheets loaded\");\n        run_callbacks()\n      }\n    }\n\n    function on_error() {\n      console.error(\"failed to load \" + url);\n    }\n\n    for (var i = 0; i < css_urls.length; i++) {\n      var url = css_urls[i];\n      const element = document.createElement(\"link\");\n      element.onload = on_load;\n      element.onerror = on_error;\n      element.rel = \"stylesheet\";\n      element.type = \"text/css\";\n      element.href = url;\n      console.debug(\"Bokeh: injecting link tag for BokehJS stylesheet: \", url);\n      document.body.appendChild(element);\n    }\n\n    const hashes = {\"https://cdn.bokeh.org/bokeh/release/bokeh-2.2.1.min.js\": \"qkRvDQVAIfzsJo40iRBbxt6sttt0hv4lh74DG7OK4MCHv4C5oohXYoHUM5W11uqS\", \"https://cdn.bokeh.org/bokeh/release/bokeh-widgets-2.2.1.min.js\": \"Sb7Mr06a9TNlet/GEBeKaf5xH3eb6AlCzwjtU82wNPyDrnfoiVl26qnvlKjmcAd+\", \"https://cdn.bokeh.org/bokeh/release/bokeh-tables-2.2.1.min.js\": \"HaJ15vgfmcfRtB4c4YBOI4f1MUujukqInOWVqZJZZGK7Q+ivud0OKGSTn/Vm2iso\"};\n\n    for (var i = 0; i < js_urls.length; i++) {\n      var url = js_urls[i];\n      var element = document.createElement('script');\n      element.onload = on_load;\n      element.onerror = on_error;\n      element.async = false;\n      element.src = url;\n      if (url in hashes) {\n        element.crossOrigin = \"anonymous\";\n        element.integrity = \"sha384-\" + hashes[url];\n      }\n      console.debug(\"Bokeh: injecting script tag for BokehJS library: \", url);\n      document.head.appendChild(element);\n    }\n  };\n\n  function inject_raw_css(css) {\n    const element = document.createElement(\"style\");\n    element.appendChild(document.createTextNode(css));\n    document.body.appendChild(element);\n  }\n\n  \n  var js_urls = [\"https://cdn.bokeh.org/bokeh/release/bokeh-2.2.1.min.js\", \"https://cdn.bokeh.org/bokeh/release/bokeh-widgets-2.2.1.min.js\", \"https://cdn.bokeh.org/bokeh/release/bokeh-tables-2.2.1.min.js\"];\n  var css_urls = [];\n  \n\n  var inline_js = [\n    function(Bokeh) {\n      Bokeh.set_log_level(\"info\");\n    },\n    function(Bokeh) {\n    \n    \n    }\n  ];\n\n  function run_inline_js() {\n    \n    if (root.Bokeh !== undefined || force === true) {\n      \n    for (var i = 0; i < inline_js.length; i++) {\n      inline_js[i].call(root, root.Bokeh);\n    }\n    if (force === true) {\n        display_loaded();\n      }} else if (Date.now() < root._bokeh_timeout) {\n      setTimeout(run_inline_js, 100);\n    } else if (!root._bokeh_failed_load) {\n      console.log(\"Bokeh: BokehJS failed to load within specified timeout.\");\n      root._bokeh_failed_load = true;\n    } else if (force !== true) {\n      var cell = $(document.getElementById(\"37979\")).parents('.cell').data().cell;\n      cell.output_area.append_execute_result(NB_LOAD_WARNING)\n    }\n\n  }\n\n  if (root._bokeh_is_loading === 0) {\n    console.debug(\"Bokeh: BokehJS loaded, going straight to plotting\");\n    run_inline_js();\n  } else {\n    load_libs(css_urls, js_urls, function() {\n      console.debug(\"Bokeh: BokehJS plotting callback run at\", now());\n      run_inline_js();\n    });\n  }\n}(window));"
     },
     "metadata": {},
     "output_type": "display_data"
    },
    {
     "name": "stdout",
     "output_type": "stream",
     "text": [
      "computer\n"
     ]
    },
    {
     "data": {
      "text/html": [
       "\n",
       "\n",
       "\n",
       "\n",
       "\n",
       "\n",
       "  <div class=\"bk-root\" id=\"1d2c9045-b607-44f2-95cf-c4752d30ef7b\" data-root-id=\"37980\"></div>\n"
      ]
     },
     "metadata": {},
     "output_type": "display_data"
    },
    {
     "data": {
      "application/javascript": [
       "(function(root) {\n",
       "  function embed_document(root) {\n",
       "    \n",
       "  var docs_json = {\"76286d12-f7d3-43b4-901d-ef186e5ee3ee\":{\"roots\":{\"references\":[{\"attributes\":{\"below\":[{\"id\":\"37991\"}],\"center\":[{\"id\":\"37994\"},{\"id\":\"37998\"}],\"left\":[{\"id\":\"37995\"}],\"plot_height\":300,\"plot_width\":500,\"renderers\":[{\"id\":\"38016\"},{\"id\":\"38021\"}],\"title\":{\"id\":\"37981\"},\"toolbar\":{\"id\":\"38006\"},\"x_range\":{\"id\":\"37983\"},\"x_scale\":{\"id\":\"37987\"},\"y_range\":{\"id\":\"37985\"},\"y_scale\":{\"id\":\"37989\"}},\"id\":\"37980\",\"subtype\":\"Figure\",\"type\":\"Plot\"},{\"attributes\":{},\"id\":\"39161\",\"type\":\"YearsTicker\"},{\"attributes\":{\"bottom_units\":\"screen\",\"fill_alpha\":0.5,\"fill_color\":\"lightgrey\",\"left_units\":\"screen\",\"level\":\"overlay\",\"line_alpha\":1.0,\"line_color\":\"black\",\"line_dash\":[4,4],\"line_width\":2,\"right_units\":\"screen\",\"top_units\":\"screen\"},\"id\":\"38005\",\"type\":\"BoxAnnotation\"},{\"attributes\":{\"months\":[0,4,8]},\"id\":\"39159\",\"type\":\"MonthsTicker\"},{\"attributes\":{},\"id\":\"37983\",\"type\":\"DataRange1d\"},{\"attributes\":{\"num_minor_ticks\":5,\"tickers\":[{\"id\":\"39150\"},{\"id\":\"39151\"},{\"id\":\"39152\"},{\"id\":\"39153\"},{\"id\":\"39154\"},{\"id\":\"39155\"},{\"id\":\"39156\"},{\"id\":\"39157\"},{\"id\":\"39158\"},{\"id\":\"39159\"},{\"id\":\"39160\"},{\"id\":\"39161\"}]},\"id\":\"37992\",\"type\":\"DatetimeTicker\"},{\"attributes\":{},\"id\":\"37996\",\"type\":\"BasicTicker\"},{\"attributes\":{\"data\":{\"x\":{\"__ndarray__\":\"AACAe0hcdEIAAMBDiV50QgAAAAzKYHRCAABA1ApjdEIAAICcS2V0QgAAwGSMZ3RCAAAALc1pdEIAAED1DWx0QgAAgL1ObnRCAADAhY9wdEIAAABO0HJ0QgAAQBYRdXRCAACA3lF3dEIAAMCmknl0QgAAAG/Te3RCAABANxR+dEIAAID/VIB0QgAAwMeVgnRC\",\"dtype\":\"float64\",\"order\":\"little\",\"shape\":[18]},\"y\":[415,712,715,758,716,791,798,812,834,805,877,900,903,951,913,886,875,864]},\"selected\":{\"id\":\"39162\"},\"selection_policy\":{\"id\":\"39163\"}},\"id\":\"38013\",\"type\":\"ColumnDataSource\"},{\"attributes\":{},\"id\":\"39162\",\"type\":\"Selection\"},{\"attributes\":{\"source\":{\"id\":\"38013\"}},\"id\":\"38017\",\"type\":\"CDSView\"},{\"attributes\":{},\"id\":\"39163\",\"type\":\"UnionRenderers\"},{\"attributes\":{\"overlay\":{\"id\":\"38005\"}},\"id\":\"38001\",\"type\":\"BoxZoomTool\"},{\"attributes\":{},\"id\":\"38002\",\"type\":\"SaveTool\"},{\"attributes\":{\"axis_label\":\"Counts\",\"formatter\":{\"id\":\"39148\"},\"ticker\":{\"id\":\"37996\"}},\"id\":\"37995\",\"type\":\"LinearAxis\"},{\"attributes\":{\"line_alpha\":0.1,\"line_color\":\"#1f77b4\",\"x\":{\"field\":\"x\"},\"y\":{\"field\":\"y\"}},\"id\":\"38020\",\"type\":\"Line\"},{\"attributes\":{\"axis\":{\"id\":\"37995\"},\"dimension\":1,\"ticker\":null},\"id\":\"37998\",\"type\":\"Grid\"},{\"attributes\":{\"active_drag\":\"auto\",\"active_inspect\":\"auto\",\"active_multi\":null,\"active_scroll\":\"auto\",\"active_tap\":\"auto\",\"tools\":[{\"id\":\"37999\"},{\"id\":\"38000\"},{\"id\":\"38001\"},{\"id\":\"38002\"},{\"id\":\"38003\"},{\"id\":\"38004\"}]},\"id\":\"38006\",\"type\":\"Toolbar\"},{\"attributes\":{},\"id\":\"37999\",\"type\":\"PanTool\"},{\"attributes\":{},\"id\":\"39164\",\"type\":\"Selection\"},{\"attributes\":{},\"id\":\"38004\",\"type\":\"HelpTool\"},{\"attributes\":{\"data_source\":{\"id\":\"38018\"},\"glyph\":{\"id\":\"38019\"},\"hover_glyph\":null,\"muted_glyph\":null,\"nonselection_glyph\":{\"id\":\"38020\"},\"selection_glyph\":null,\"view\":{\"id\":\"38022\"}},\"id\":\"38021\",\"type\":\"GlyphRenderer\"},{\"attributes\":{},\"id\":\"39148\",\"type\":\"BasicTickFormatter\"},{\"attributes\":{},\"id\":\"37985\",\"type\":\"DataRange1d\"},{\"attributes\":{},\"id\":\"39165\",\"type\":\"UnionRenderers\"},{\"attributes\":{},\"id\":\"38000\",\"type\":\"WheelZoomTool\"},{\"attributes\":{\"data\":{\"x\":{\"__ndarray__\":\"AACAe0hcdEIAAMBDiV50QgAAAAzKYHRCAABA1ApjdEIAAICcS2V0QgAAwGSMZ3RCAAAALc1pdEIAAED1DWx0QgAAgL1ObnRCAADAhY9wdEIAAABO0HJ0QgAAQBYRdXRCAACA3lF3dEIAAMCmknl0QgAAAG/Te3RCAABANxR+dEIAAID/VIB0QgAAwMeVgnRC\",\"dtype\":\"float64\",\"order\":\"little\",\"shape\":[18]},\"y\":[415,712,715,758,716,791,798,812,834,805,877,900,903,951,913,886,875,864]},\"selected\":{\"id\":\"39164\"},\"selection_policy\":{\"id\":\"39165\"}},\"id\":\"38018\",\"type\":\"ColumnDataSource\"},{\"attributes\":{\"axis\":{\"id\":\"37991\"},\"ticker\":null},\"id\":\"37994\",\"type\":\"Grid\"},{\"attributes\":{},\"id\":\"38003\",\"type\":\"ResetTool\"},{\"attributes\":{\"fill_alpha\":{\"value\":0.1},\"fill_color\":{\"value\":\"#1f77b4\"},\"line_alpha\":{\"value\":0.1},\"line_color\":{\"value\":\"#1f77b4\"},\"x\":{\"field\":\"x\"},\"y\":{\"field\":\"y\"}},\"id\":\"38015\",\"type\":\"Scatter\"},{\"attributes\":{\"line_color\":\"#1f77b4\",\"x\":{\"field\":\"x\"},\"y\":{\"field\":\"y\"}},\"id\":\"38019\",\"type\":\"Line\"},{\"attributes\":{\"data_source\":{\"id\":\"38013\"},\"glyph\":{\"id\":\"38014\"},\"hover_glyph\":null,\"muted_glyph\":null,\"nonselection_glyph\":{\"id\":\"38015\"},\"selection_glyph\":null,\"view\":{\"id\":\"38017\"}},\"id\":\"38016\",\"type\":\"GlyphRenderer\"},{\"attributes\":{\"mantissas\":[1,2,5],\"max_interval\":500.0,\"num_minor_ticks\":0},\"id\":\"39150\",\"type\":\"AdaptiveTicker\"},{\"attributes\":{\"base\":60,\"mantissas\":[1,2,5,10,15,20,30],\"max_interval\":1800000.0,\"min_interval\":1000.0,\"num_minor_ticks\":0},\"id\":\"39151\",\"type\":\"AdaptiveTicker\"},{\"attributes\":{\"source\":{\"id\":\"38018\"}},\"id\":\"38022\",\"type\":\"CDSView\"},{\"attributes\":{\"days\":[1,2,3,4,5,6,7,8,9,10,11,12,13,14,15,16,17,18,19,20,21,22,23,24,25,26,27,28,29,30,31]},\"id\":\"39153\",\"type\":\"DaysTicker\"},{\"attributes\":{\"fill_color\":{\"value\":\"#1f77b4\"},\"line_color\":{\"value\":\"#1f77b4\"},\"x\":{\"field\":\"x\"},\"y\":{\"field\":\"y\"}},\"id\":\"38014\",\"type\":\"Scatter\"},{\"attributes\":{\"base\":24,\"mantissas\":[1,2,4,6,8,12],\"max_interval\":43200000.0,\"min_interval\":3600000.0,\"num_minor_ticks\":0},\"id\":\"39152\",\"type\":\"AdaptiveTicker\"},{\"attributes\":{},\"id\":\"37987\",\"type\":\"LinearScale\"},{\"attributes\":{\"text\":\"Count of weekly active users\"},\"id\":\"37981\",\"type\":\"Title\"},{\"attributes\":{\"months\":[0,1,2,3,4,5,6,7,8,9,10,11]},\"id\":\"39157\",\"type\":\"MonthsTicker\"},{\"attributes\":{\"months\":[0,2,4,6,8,10]},\"id\":\"39158\",\"type\":\"MonthsTicker\"},{\"attributes\":{\"days\":[1,4,7,10,13,16,19,22,25,28]},\"id\":\"39154\",\"type\":\"DaysTicker\"},{\"attributes\":{},\"id\":\"39146\",\"type\":\"DatetimeTickFormatter\"},{\"attributes\":{\"days\":[1,15]},\"id\":\"39156\",\"type\":\"DaysTicker\"},{\"attributes\":{\"axis_label\":\"Time (weekly)\",\"formatter\":{\"id\":\"39146\"},\"ticker\":{\"id\":\"37992\"}},\"id\":\"37991\",\"type\":\"DatetimeAxis\"},{\"attributes\":{\"months\":[0,6]},\"id\":\"39160\",\"type\":\"MonthsTicker\"},{\"attributes\":{},\"id\":\"37989\",\"type\":\"LinearScale\"},{\"attributes\":{\"days\":[1,8,15,22]},\"id\":\"39155\",\"type\":\"DaysTicker\"}],\"root_ids\":[\"37980\"]},\"title\":\"Bokeh Application\",\"version\":\"2.2.1\"}};\n",
       "  var render_items = [{\"docid\":\"76286d12-f7d3-43b4-901d-ef186e5ee3ee\",\"root_ids\":[\"37980\"],\"roots\":{\"37980\":\"1d2c9045-b607-44f2-95cf-c4752d30ef7b\"}}];\n",
       "  root.Bokeh.embed.embed_items_notebook(docs_json, render_items);\n",
       "\n",
       "  }\n",
       "  if (root.Bokeh !== undefined) {\n",
       "    embed_document(root);\n",
       "  } else {\n",
       "    var attempts = 0;\n",
       "    var timer = setInterval(function(root) {\n",
       "      if (root.Bokeh !== undefined) {\n",
       "        clearInterval(timer);\n",
       "        embed_document(root);\n",
       "      } else {\n",
       "        attempts++;\n",
       "        if (attempts > 100) {\n",
       "          clearInterval(timer);\n",
       "          console.log(\"Bokeh: ERROR: Unable to run BokehJS code because BokehJS library is missing\");\n",
       "        }\n",
       "      }\n",
       "    }, 10, root)\n",
       "  }\n",
       "})(window);"
      ],
      "application/vnd.bokehjs_exec.v0+json": ""
     },
     "metadata": {
      "application/vnd.bokehjs_exec.v0+json": {
       "id": "37980"
      }
     },
     "output_type": "display_data"
    },
    {
     "name": "stdout",
     "output_type": "stream",
     "text": [
      "phone\n"
     ]
    },
    {
     "data": {
      "text/html": [
       "\n",
       "\n",
       "\n",
       "\n",
       "\n",
       "\n",
       "  <div class=\"bk-root\" id=\"1d56efc6-2df7-4119-8049-b725c06d54cf\" data-root-id=\"39277\"></div>\n"
      ]
     },
     "metadata": {},
     "output_type": "display_data"
    },
    {
     "data": {
      "application/javascript": [
       "(function(root) {\n",
       "  function embed_document(root) {\n",
       "    \n",
       "  var docs_json = {\"957ba4fa-e5b3-451a-bf86-3dbd04b1b7e0\":{\"roots\":{\"references\":[{\"attributes\":{\"below\":[{\"id\":\"39288\"}],\"center\":[{\"id\":\"39291\"},{\"id\":\"39295\"}],\"left\":[{\"id\":\"39292\"}],\"plot_height\":300,\"plot_width\":500,\"renderers\":[{\"id\":\"39313\"},{\"id\":\"39318\"}],\"title\":{\"id\":\"39278\"},\"toolbar\":{\"id\":\"39303\"},\"x_range\":{\"id\":\"39280\"},\"x_scale\":{\"id\":\"39284\"},\"y_range\":{\"id\":\"39282\"},\"y_scale\":{\"id\":\"39286\"}},\"id\":\"39277\",\"subtype\":\"Figure\",\"type\":\"Plot\"},{\"attributes\":{\"axis\":{\"id\":\"39292\"},\"dimension\":1,\"ticker\":null},\"id\":\"39295\",\"type\":\"Grid\"},{\"attributes\":{\"source\":{\"id\":\"39315\"}},\"id\":\"39319\",\"type\":\"CDSView\"},{\"attributes\":{\"data_source\":{\"id\":\"39315\"},\"glyph\":{\"id\":\"39316\"},\"hover_glyph\":null,\"muted_glyph\":null,\"nonselection_glyph\":{\"id\":\"39317\"},\"selection_glyph\":null,\"view\":{\"id\":\"39319\"}},\"id\":\"39318\",\"type\":\"GlyphRenderer\"},{\"attributes\":{\"mantissas\":[1,2,5],\"max_interval\":500.0,\"num_minor_ticks\":0},\"id\":\"40469\",\"type\":\"AdaptiveTicker\"},{\"attributes\":{\"base\":60,\"mantissas\":[1,2,5,10,15,20,30],\"max_interval\":1800000.0,\"min_interval\":1000.0,\"num_minor_ticks\":0},\"id\":\"40470\",\"type\":\"AdaptiveTicker\"},{\"attributes\":{\"line_alpha\":0.1,\"line_color\":\"#1f77b4\",\"x\":{\"field\":\"x\"},\"y\":{\"field\":\"y\"}},\"id\":\"39317\",\"type\":\"Line\"},{\"attributes\":{\"days\":[1,2,3,4,5,6,7,8,9,10,11,12,13,14,15,16,17,18,19,20,21,22,23,24,25,26,27,28,29,30,31]},\"id\":\"40472\",\"type\":\"DaysTicker\"},{\"attributes\":{\"base\":24,\"mantissas\":[1,2,4,6,8,12],\"max_interval\":43200000.0,\"min_interval\":3600000.0,\"num_minor_ticks\":0},\"id\":\"40471\",\"type\":\"AdaptiveTicker\"},{\"attributes\":{},\"id\":\"39282\",\"type\":\"DataRange1d\"},{\"attributes\":{\"months\":[0,1,2,3,4,5,6,7,8,9,10,11]},\"id\":\"40476\",\"type\":\"MonthsTicker\"},{\"attributes\":{\"months\":[0,2,4,6,8,10]},\"id\":\"40477\",\"type\":\"MonthsTicker\"},{\"attributes\":{\"days\":[1,4,7,10,13,16,19,22,25,28]},\"id\":\"40473\",\"type\":\"DaysTicker\"},{\"attributes\":{\"days\":[1,15]},\"id\":\"40475\",\"type\":\"DaysTicker\"},{\"attributes\":{},\"id\":\"39280\",\"type\":\"DataRange1d\"},{\"attributes\":{\"months\":[0,6]},\"id\":\"40479\",\"type\":\"MonthsTicker\"},{\"attributes\":{\"days\":[1,8,15,22]},\"id\":\"40474\",\"type\":\"DaysTicker\"},{\"attributes\":{},\"id\":\"40480\",\"type\":\"YearsTicker\"},{\"attributes\":{\"bottom_units\":\"screen\",\"fill_alpha\":0.5,\"fill_color\":\"lightgrey\",\"left_units\":\"screen\",\"level\":\"overlay\",\"line_alpha\":1.0,\"line_color\":\"black\",\"line_dash\":[4,4],\"line_width\":2,\"right_units\":\"screen\",\"top_units\":\"screen\"},\"id\":\"39302\",\"type\":\"BoxAnnotation\"},{\"attributes\":{\"months\":[0,4,8]},\"id\":\"40478\",\"type\":\"MonthsTicker\"},{\"attributes\":{},\"id\":\"40465\",\"type\":\"DatetimeTickFormatter\"},{\"attributes\":{\"axis_label\":\"Time (weekly)\",\"formatter\":{\"id\":\"40465\"},\"ticker\":{\"id\":\"39289\"}},\"id\":\"39288\",\"type\":\"DatetimeAxis\"},{\"attributes\":{\"overlay\":{\"id\":\"39302\"}},\"id\":\"39298\",\"type\":\"BoxZoomTool\"},{\"attributes\":{},\"id\":\"40481\",\"type\":\"Selection\"},{\"attributes\":{},\"id\":\"40482\",\"type\":\"UnionRenderers\"},{\"attributes\":{\"axis\":{\"id\":\"39288\"},\"ticker\":null},\"id\":\"39291\",\"type\":\"Grid\"},{\"attributes\":{\"data_source\":{\"id\":\"39310\"},\"glyph\":{\"id\":\"39311\"},\"hover_glyph\":null,\"muted_glyph\":null,\"nonselection_glyph\":{\"id\":\"39312\"},\"selection_glyph\":null,\"view\":{\"id\":\"39314\"}},\"id\":\"39313\",\"type\":\"GlyphRenderer\"},{\"attributes\":{},\"id\":\"39299\",\"type\":\"SaveTool\"},{\"attributes\":{},\"id\":\"39300\",\"type\":\"ResetTool\"},{\"attributes\":{},\"id\":\"39296\",\"type\":\"PanTool\"},{\"attributes\":{\"active_drag\":\"auto\",\"active_inspect\":\"auto\",\"active_multi\":null,\"active_scroll\":\"auto\",\"active_tap\":\"auto\",\"tools\":[{\"id\":\"39296\"},{\"id\":\"39297\"},{\"id\":\"39298\"},{\"id\":\"39299\"},{\"id\":\"39300\"},{\"id\":\"39301\"}]},\"id\":\"39303\",\"type\":\"Toolbar\"},{\"attributes\":{\"num_minor_ticks\":5,\"tickers\":[{\"id\":\"40469\"},{\"id\":\"40470\"},{\"id\":\"40471\"},{\"id\":\"40472\"},{\"id\":\"40473\"},{\"id\":\"40474\"},{\"id\":\"40475\"},{\"id\":\"40476\"},{\"id\":\"40477\"},{\"id\":\"40478\"},{\"id\":\"40479\"},{\"id\":\"40480\"}]},\"id\":\"39289\",\"type\":\"DatetimeTicker\"},{\"attributes\":{\"data\":{\"x\":{\"__ndarray__\":\"AACAe0hcdEIAAMBDiV50QgAAAAzKYHRCAABA1ApjdEIAAICcS2V0QgAAwGSMZ3RCAAAALc1pdEIAAED1DWx0QgAAgL1ObnRCAADAhY9wdEIAAABO0HJ0QgAAQBYRdXRCAACA3lF3dEIAAMCmknl0QgAAAG/Te3RCAABANxR+dEIAAID/VIB0QgAAwMeVgnRC\",\"dtype\":\"float64\",\"order\":\"little\",\"shape\":[18]},\"y\":[281,461,481,526,500,505,545,541,526,578,591,578,601,588,491,438,428,441]},\"selected\":{\"id\":\"40481\"},\"selection_policy\":{\"id\":\"40482\"}},\"id\":\"39310\",\"type\":\"ColumnDataSource\"},{\"attributes\":{},\"id\":\"39301\",\"type\":\"HelpTool\"},{\"attributes\":{\"axis_label\":\"Counts\",\"formatter\":{\"id\":\"40467\"},\"ticker\":{\"id\":\"39293\"}},\"id\":\"39292\",\"type\":\"LinearAxis\"},{\"attributes\":{},\"id\":\"39297\",\"type\":\"WheelZoomTool\"},{\"attributes\":{\"text\":\"Count of weekly active users\"},\"id\":\"39278\",\"type\":\"Title\"},{\"attributes\":{},\"id\":\"39284\",\"type\":\"LinearScale\"},{\"attributes\":{\"data\":{\"x\":{\"__ndarray__\":\"AACAe0hcdEIAAMBDiV50QgAAAAzKYHRCAABA1ApjdEIAAICcS2V0QgAAwGSMZ3RCAAAALc1pdEIAAED1DWx0QgAAgL1ObnRCAADAhY9wdEIAAABO0HJ0QgAAQBYRdXRCAACA3lF3dEIAAMCmknl0QgAAAG/Te3RCAABANxR+dEIAAID/VIB0QgAAwMeVgnRC\",\"dtype\":\"float64\",\"order\":\"little\",\"shape\":[18]},\"y\":[281,461,481,526,500,505,545,541,526,578,591,578,601,588,491,438,428,441]},\"selected\":{\"id\":\"40483\"},\"selection_policy\":{\"id\":\"40484\"}},\"id\":\"39315\",\"type\":\"ColumnDataSource\"},{\"attributes\":{},\"id\":\"39286\",\"type\":\"LinearScale\"},{\"attributes\":{},\"id\":\"40483\",\"type\":\"Selection\"},{\"attributes\":{},\"id\":\"40467\",\"type\":\"BasicTickFormatter\"},{\"attributes\":{\"fill_alpha\":{\"value\":0.1},\"fill_color\":{\"value\":\"#1f77b4\"},\"line_alpha\":{\"value\":0.1},\"line_color\":{\"value\":\"#1f77b4\"},\"x\":{\"field\":\"x\"},\"y\":{\"field\":\"y\"}},\"id\":\"39312\",\"type\":\"Scatter\"},{\"attributes\":{},\"id\":\"40484\",\"type\":\"UnionRenderers\"},{\"attributes\":{\"line_color\":\"#1f77b4\",\"x\":{\"field\":\"x\"},\"y\":{\"field\":\"y\"}},\"id\":\"39316\",\"type\":\"Line\"},{\"attributes\":{},\"id\":\"39293\",\"type\":\"BasicTicker\"},{\"attributes\":{\"source\":{\"id\":\"39310\"}},\"id\":\"39314\",\"type\":\"CDSView\"},{\"attributes\":{\"fill_color\":{\"value\":\"#1f77b4\"},\"line_color\":{\"value\":\"#1f77b4\"},\"x\":{\"field\":\"x\"},\"y\":{\"field\":\"y\"}},\"id\":\"39311\",\"type\":\"Scatter\"}],\"root_ids\":[\"39277\"]},\"title\":\"Bokeh Application\",\"version\":\"2.2.1\"}};\n",
       "  var render_items = [{\"docid\":\"957ba4fa-e5b3-451a-bf86-3dbd04b1b7e0\",\"root_ids\":[\"39277\"],\"roots\":{\"39277\":\"1d56efc6-2df7-4119-8049-b725c06d54cf\"}}];\n",
       "  root.Bokeh.embed.embed_items_notebook(docs_json, render_items);\n",
       "\n",
       "  }\n",
       "  if (root.Bokeh !== undefined) {\n",
       "    embed_document(root);\n",
       "  } else {\n",
       "    var attempts = 0;\n",
       "    var timer = setInterval(function(root) {\n",
       "      if (root.Bokeh !== undefined) {\n",
       "        clearInterval(timer);\n",
       "        embed_document(root);\n",
       "      } else {\n",
       "        attempts++;\n",
       "        if (attempts > 100) {\n",
       "          clearInterval(timer);\n",
       "          console.log(\"Bokeh: ERROR: Unable to run BokehJS code because BokehJS library is missing\");\n",
       "        }\n",
       "      }\n",
       "    }, 10, root)\n",
       "  }\n",
       "})(window);"
      ],
      "application/vnd.bokehjs_exec.v0+json": ""
     },
     "metadata": {
      "application/vnd.bokehjs_exec.v0+json": {
       "id": "39277"
      }
     },
     "output_type": "display_data"
    },
    {
     "name": "stdout",
     "output_type": "stream",
     "text": [
      "tablet\n"
     ]
    },
    {
     "data": {
      "text/html": [
       "\n",
       "\n",
       "\n",
       "\n",
       "\n",
       "\n",
       "  <div class=\"bk-root\" id=\"4487c13f-f75b-404a-9b30-b614add8b808\" data-root-id=\"40596\"></div>\n"
      ]
     },
     "metadata": {},
     "output_type": "display_data"
    },
    {
     "data": {
      "application/javascript": [
       "(function(root) {\n",
       "  function embed_document(root) {\n",
       "    \n",
       "  var docs_json = {\"57d3daa8-5ed9-45da-b1a4-283baa471ca8\":{\"roots\":{\"references\":[{\"attributes\":{\"below\":[{\"id\":\"40607\"}],\"center\":[{\"id\":\"40610\"},{\"id\":\"40614\"}],\"left\":[{\"id\":\"40611\"}],\"plot_height\":300,\"plot_width\":500,\"renderers\":[{\"id\":\"40632\"},{\"id\":\"40637\"}],\"title\":{\"id\":\"40597\"},\"toolbar\":{\"id\":\"40622\"},\"x_range\":{\"id\":\"40599\"},\"x_scale\":{\"id\":\"40603\"},\"y_range\":{\"id\":\"40601\"},\"y_scale\":{\"id\":\"40605\"}},\"id\":\"40596\",\"subtype\":\"Figure\",\"type\":\"Plot\"},{\"attributes\":{},\"id\":\"40605\",\"type\":\"LinearScale\"},{\"attributes\":{\"num_minor_ticks\":5,\"tickers\":[{\"id\":\"41810\"},{\"id\":\"41811\"},{\"id\":\"41812\"},{\"id\":\"41813\"},{\"id\":\"41814\"},{\"id\":\"41815\"},{\"id\":\"41816\"},{\"id\":\"41817\"},{\"id\":\"41818\"},{\"id\":\"41819\"},{\"id\":\"41820\"},{\"id\":\"41821\"}]},\"id\":\"40608\",\"type\":\"DatetimeTicker\"},{\"attributes\":{},\"id\":\"40620\",\"type\":\"HelpTool\"},{\"attributes\":{\"data\":{\"x\":{\"__ndarray__\":\"AACAe0hcdEIAAMBDiV50QgAAAAzKYHRCAABA1ApjdEIAAICcS2V0QgAAwGSMZ3RCAAAALc1pdEIAAED1DWx0QgAAgL1ObnRCAADAhY9wdEIAAABO0HJ0QgAAQBYRdXRCAACA3lF3dEIAAMCmknl0QgAAAG/Te3RCAABANxR+dEIAAID/VIB0QgAAwMeVgnRC\",\"dtype\":\"float64\",\"order\":\"little\",\"shape\":[18]},\"y\":[111,187,197,190,182,208,209,238,222,230,242,227,231,250,173,159,157,163]},\"selected\":{\"id\":\"41824\"},\"selection_policy\":{\"id\":\"41825\"}},\"id\":\"40634\",\"type\":\"ColumnDataSource\"},{\"attributes\":{},\"id\":\"40603\",\"type\":\"LinearScale\"},{\"attributes\":{},\"id\":\"40615\",\"type\":\"PanTool\"},{\"attributes\":{\"fill_alpha\":{\"value\":0.1},\"fill_color\":{\"value\":\"#1f77b4\"},\"line_alpha\":{\"value\":0.1},\"line_color\":{\"value\":\"#1f77b4\"},\"x\":{\"field\":\"x\"},\"y\":{\"field\":\"y\"}},\"id\":\"40631\",\"type\":\"Scatter\"},{\"attributes\":{},\"id\":\"41808\",\"type\":\"BasicTickFormatter\"},{\"attributes\":{\"axis\":{\"id\":\"40607\"},\"ticker\":null},\"id\":\"40610\",\"type\":\"Grid\"},{\"attributes\":{\"line_color\":\"#1f77b4\",\"x\":{\"field\":\"x\"},\"y\":{\"field\":\"y\"}},\"id\":\"40635\",\"type\":\"Line\"},{\"attributes\":{},\"id\":\"40619\",\"type\":\"ResetTool\"},{\"attributes\":{\"source\":{\"id\":\"40629\"}},\"id\":\"40633\",\"type\":\"CDSView\"},{\"attributes\":{\"data_source\":{\"id\":\"40629\"},\"glyph\":{\"id\":\"40630\"},\"hover_glyph\":null,\"muted_glyph\":null,\"nonselection_glyph\":{\"id\":\"40631\"},\"selection_glyph\":null,\"view\":{\"id\":\"40633\"}},\"id\":\"40632\",\"type\":\"GlyphRenderer\"},{\"attributes\":{},\"id\":\"41823\",\"type\":\"UnionRenderers\"},{\"attributes\":{\"source\":{\"id\":\"40634\"}},\"id\":\"40638\",\"type\":\"CDSView\"},{\"attributes\":{\"mantissas\":[1,2,5],\"max_interval\":500.0,\"num_minor_ticks\":0},\"id\":\"41810\",\"type\":\"AdaptiveTicker\"},{\"attributes\":{\"base\":60,\"mantissas\":[1,2,5,10,15,20,30],\"max_interval\":1800000.0,\"min_interval\":1000.0,\"num_minor_ticks\":0},\"id\":\"41811\",\"type\":\"AdaptiveTicker\"},{\"attributes\":{\"line_alpha\":0.1,\"line_color\":\"#1f77b4\",\"x\":{\"field\":\"x\"},\"y\":{\"field\":\"y\"}},\"id\":\"40636\",\"type\":\"Line\"},{\"attributes\":{\"days\":[1,2,3,4,5,6,7,8,9,10,11,12,13,14,15,16,17,18,19,20,21,22,23,24,25,26,27,28,29,30,31]},\"id\":\"41813\",\"type\":\"DaysTicker\"},{\"attributes\":{\"base\":24,\"mantissas\":[1,2,4,6,8,12],\"max_interval\":43200000.0,\"min_interval\":3600000.0,\"num_minor_ticks\":0},\"id\":\"41812\",\"type\":\"AdaptiveTicker\"},{\"attributes\":{\"data_source\":{\"id\":\"40634\"},\"glyph\":{\"id\":\"40635\"},\"hover_glyph\":null,\"muted_glyph\":null,\"nonselection_glyph\":{\"id\":\"40636\"},\"selection_glyph\":null,\"view\":{\"id\":\"40638\"}},\"id\":\"40637\",\"type\":\"GlyphRenderer\"},{\"attributes\":{\"months\":[0,1,2,3,4,5,6,7,8,9,10,11]},\"id\":\"41817\",\"type\":\"MonthsTicker\"},{\"attributes\":{},\"id\":\"41806\",\"type\":\"DatetimeTickFormatter\"},{\"attributes\":{\"months\":[0,2,4,6,8,10]},\"id\":\"41818\",\"type\":\"MonthsTicker\"},{\"attributes\":{},\"id\":\"41822\",\"type\":\"Selection\"},{\"attributes\":{\"days\":[1,4,7,10,13,16,19,22,25,28]},\"id\":\"41814\",\"type\":\"DaysTicker\"},{\"attributes\":{\"days\":[1,15]},\"id\":\"41816\",\"type\":\"DaysTicker\"},{\"attributes\":{\"data\":{\"x\":{\"__ndarray__\":\"AACAe0hcdEIAAMBDiV50QgAAAAzKYHRCAABA1ApjdEIAAICcS2V0QgAAwGSMZ3RCAAAALc1pdEIAAED1DWx0QgAAgL1ObnRCAADAhY9wdEIAAABO0HJ0QgAAQBYRdXRCAACA3lF3dEIAAMCmknl0QgAAAG/Te3RCAABANxR+dEIAAID/VIB0QgAAwMeVgnRC\",\"dtype\":\"float64\",\"order\":\"little\",\"shape\":[18]},\"y\":[111,187,197,190,182,208,209,238,222,230,242,227,231,250,173,159,157,163]},\"selected\":{\"id\":\"41822\"},\"selection_policy\":{\"id\":\"41823\"}},\"id\":\"40629\",\"type\":\"ColumnDataSource\"},{\"attributes\":{\"months\":[0,6]},\"id\":\"41820\",\"type\":\"MonthsTicker\"},{\"attributes\":{\"days\":[1,8,15,22]},\"id\":\"41815\",\"type\":\"DaysTicker\"},{\"attributes\":{},\"id\":\"41821\",\"type\":\"YearsTicker\"},{\"attributes\":{\"bottom_units\":\"screen\",\"fill_alpha\":0.5,\"fill_color\":\"lightgrey\",\"left_units\":\"screen\",\"level\":\"overlay\",\"line_alpha\":1.0,\"line_color\":\"black\",\"line_dash\":[4,4],\"line_width\":2,\"right_units\":\"screen\",\"top_units\":\"screen\"},\"id\":\"40621\",\"type\":\"BoxAnnotation\"},{\"attributes\":{},\"id\":\"40612\",\"type\":\"BasicTicker\"},{\"attributes\":{\"active_drag\":\"auto\",\"active_inspect\":\"auto\",\"active_multi\":null,\"active_scroll\":\"auto\",\"active_tap\":\"auto\",\"tools\":[{\"id\":\"40615\"},{\"id\":\"40616\"},{\"id\":\"40617\"},{\"id\":\"40618\"},{\"id\":\"40619\"},{\"id\":\"40620\"}]},\"id\":\"40622\",\"type\":\"Toolbar\"},{\"attributes\":{\"months\":[0,4,8]},\"id\":\"41819\",\"type\":\"MonthsTicker\"},{\"attributes\":{\"axis\":{\"id\":\"40611\"},\"dimension\":1,\"ticker\":null},\"id\":\"40614\",\"type\":\"Grid\"},{\"attributes\":{\"fill_color\":{\"value\":\"#1f77b4\"},\"line_color\":{\"value\":\"#1f77b4\"},\"x\":{\"field\":\"x\"},\"y\":{\"field\":\"y\"}},\"id\":\"40630\",\"type\":\"Scatter\"},{\"attributes\":{\"overlay\":{\"id\":\"40621\"}},\"id\":\"40617\",\"type\":\"BoxZoomTool\"},{\"attributes\":{\"text\":\"Count of weekly active users\"},\"id\":\"40597\",\"type\":\"Title\"},{\"attributes\":{},\"id\":\"41825\",\"type\":\"UnionRenderers\"},{\"attributes\":{},\"id\":\"40599\",\"type\":\"DataRange1d\"},{\"attributes\":{},\"id\":\"40618\",\"type\":\"SaveTool\"},{\"attributes\":{\"axis_label\":\"Counts\",\"formatter\":{\"id\":\"41808\"},\"ticker\":{\"id\":\"40612\"}},\"id\":\"40611\",\"type\":\"LinearAxis\"},{\"attributes\":{},\"id\":\"40616\",\"type\":\"WheelZoomTool\"},{\"attributes\":{},\"id\":\"41824\",\"type\":\"Selection\"},{\"attributes\":{\"axis_label\":\"Time (weekly)\",\"formatter\":{\"id\":\"41806\"},\"ticker\":{\"id\":\"40608\"}},\"id\":\"40607\",\"type\":\"DatetimeAxis\"},{\"attributes\":{},\"id\":\"40601\",\"type\":\"DataRange1d\"}],\"root_ids\":[\"40596\"]},\"title\":\"Bokeh Application\",\"version\":\"2.2.1\"}};\n",
       "  var render_items = [{\"docid\":\"57d3daa8-5ed9-45da-b1a4-283baa471ca8\",\"root_ids\":[\"40596\"],\"roots\":{\"40596\":\"4487c13f-f75b-404a-9b30-b614add8b808\"}}];\n",
       "  root.Bokeh.embed.embed_items_notebook(docs_json, render_items);\n",
       "\n",
       "  }\n",
       "  if (root.Bokeh !== undefined) {\n",
       "    embed_document(root);\n",
       "  } else {\n",
       "    var attempts = 0;\n",
       "    var timer = setInterval(function(root) {\n",
       "      if (root.Bokeh !== undefined) {\n",
       "        clearInterval(timer);\n",
       "        embed_document(root);\n",
       "      } else {\n",
       "        attempts++;\n",
       "        if (attempts > 100) {\n",
       "          clearInterval(timer);\n",
       "          console.log(\"Bokeh: ERROR: Unable to run BokehJS code because BokehJS library is missing\");\n",
       "        }\n",
       "      }\n",
       "    }, 10, root)\n",
       "  }\n",
       "})(window);"
      ],
      "application/vnd.bokehjs_exec.v0+json": ""
     },
     "metadata": {
      "application/vnd.bokehjs_exec.v0+json": {
       "id": "40596"
      }
     },
     "output_type": "display_data"
    }
   ],
   "source": [
    "# device_type\n",
    "group_num = len(pd.unique(daily.device_type))\n",
    "group = pd.unique(daily.device_type)\n",
    "\n",
    "output_notebook()\n",
    "\n",
    "for cls in group:\n",
    "    daily_cls = daily.loc[daily.device_type==cls]\n",
    "    weekly_cls = daily_cls.set_index('occurred_at').groupby(pd.Grouper(freq='W')).user_id.nunique()\n",
    "    x = weekly_cls.index\n",
    "    y = weekly_cls.values\n",
    "    fig = figure(plot_width=500, plot_height=300, x_axis_type='datetime',\n",
    "             title='Count of weekly active users',\n",
    "             y_axis_label='Counts', x_axis_label='Time (weekly)')\n",
    "    fig.scatter(x, y)\n",
    "    fig.line(x, y)\n",
    "    print(cls)\n",
    "    show(fig)"
   ]
  },
  {
   "cell_type": "markdown",
   "metadata": {},
   "source": [
    "# The incident has less impact on computer users than phone and tablet users."
   ]
  },
  {
   "cell_type": "code",
   "execution_count": 32,
   "metadata": {
    "ExecuteTime": {
     "end_time": "2020-11-09T23:33:49.145388Z",
     "start_time": "2020-11-09T23:33:49.129770Z"
    }
   },
   "outputs": [
    {
     "data": {
      "text/html": [
       "<div>\n",
       "<style scoped>\n",
       "    .dataframe tbody tr th:only-of-type {\n",
       "        vertical-align: middle;\n",
       "    }\n",
       "\n",
       "    .dataframe tbody tr th {\n",
       "        vertical-align: top;\n",
       "    }\n",
       "\n",
       "    .dataframe thead th {\n",
       "        text-align: right;\n",
       "    }\n",
       "</style>\n",
       "<table border=\"1\" class=\"dataframe\">\n",
       "  <thead>\n",
       "    <tr style=\"text-align: right;\">\n",
       "      <th></th>\n",
       "      <th>user_id</th>\n",
       "      <th>occurred_at</th>\n",
       "      <th>action</th>\n",
       "      <th>user_type</th>\n",
       "    </tr>\n",
       "  </thead>\n",
       "  <tbody>\n",
       "    <tr>\n",
       "      <th>0</th>\n",
       "      <td>0.0</td>\n",
       "      <td>2014-05-06 09:30:00</td>\n",
       "      <td>sent_weekly_digest</td>\n",
       "      <td>1.0</td>\n",
       "    </tr>\n",
       "    <tr>\n",
       "      <th>1</th>\n",
       "      <td>0.0</td>\n",
       "      <td>2014-05-13 09:30:00</td>\n",
       "      <td>sent_weekly_digest</td>\n",
       "      <td>1.0</td>\n",
       "    </tr>\n",
       "    <tr>\n",
       "      <th>2</th>\n",
       "      <td>0.0</td>\n",
       "      <td>2014-05-20 09:30:00</td>\n",
       "      <td>sent_weekly_digest</td>\n",
       "      <td>1.0</td>\n",
       "    </tr>\n",
       "    <tr>\n",
       "      <th>3</th>\n",
       "      <td>0.0</td>\n",
       "      <td>2014-05-27 09:30:00</td>\n",
       "      <td>sent_weekly_digest</td>\n",
       "      <td>1.0</td>\n",
       "    </tr>\n",
       "    <tr>\n",
       "      <th>4</th>\n",
       "      <td>0.0</td>\n",
       "      <td>2014-06-03 09:30:00</td>\n",
       "      <td>sent_weekly_digest</td>\n",
       "      <td>1.0</td>\n",
       "    </tr>\n",
       "  </tbody>\n",
       "</table>\n",
       "</div>"
      ],
      "text/plain": [
       "   user_id         occurred_at              action  user_type\n",
       "0      0.0 2014-05-06 09:30:00  sent_weekly_digest        1.0\n",
       "1      0.0 2014-05-13 09:30:00  sent_weekly_digest        1.0\n",
       "2      0.0 2014-05-20 09:30:00  sent_weekly_digest        1.0\n",
       "3      0.0 2014-05-27 09:30:00  sent_weekly_digest        1.0\n",
       "4      0.0 2014-06-03 09:30:00  sent_weekly_digest        1.0"
      ]
     },
     "execution_count": 32,
     "metadata": {},
     "output_type": "execute_result"
    }
   ],
   "source": [
    "df_email.head()"
   ]
  },
  {
   "cell_type": "code",
   "execution_count": 33,
   "metadata": {
    "ExecuteTime": {
     "end_time": "2020-11-09T23:33:49.161022Z",
     "start_time": "2020-11-09T23:33:49.145388Z"
    }
   },
   "outputs": [
    {
     "data": {
      "text/plain": [
       "array(['sent_weekly_digest', 'email_open', 'email_clickthrough',\n",
       "       'sent_reengagement_email'], dtype=object)"
      ]
     },
     "execution_count": 33,
     "metadata": {},
     "output_type": "execute_result"
    }
   ],
   "source": [
    "pd.unique(df_email.action)"
   ]
  },
  {
   "cell_type": "code",
   "execution_count": 34,
   "metadata": {
    "ExecuteTime": {
     "end_time": "2020-11-09T23:33:50.332808Z",
     "start_time": "2020-11-09T23:33:49.161022Z"
    }
   },
   "outputs": [
    {
     "data": {
      "text/html": [
       "\n",
       "    <div class=\"bk-root\">\n",
       "        <a href=\"https://bokeh.org\" target=\"_blank\" class=\"bk-logo bk-logo-small bk-logo-notebook\"></a>\n",
       "        <span id=\"41937\">Loading BokehJS ...</span>\n",
       "    </div>"
      ]
     },
     "metadata": {},
     "output_type": "display_data"
    },
    {
     "data": {
      "application/javascript": [
       "\n",
       "(function(root) {\n",
       "  function now() {\n",
       "    return new Date();\n",
       "  }\n",
       "\n",
       "  var force = true;\n",
       "\n",
       "  if (typeof root._bokeh_onload_callbacks === \"undefined\" || force === true) {\n",
       "    root._bokeh_onload_callbacks = [];\n",
       "    root._bokeh_is_loading = undefined;\n",
       "  }\n",
       "\n",
       "  var JS_MIME_TYPE = 'application/javascript';\n",
       "  var HTML_MIME_TYPE = 'text/html';\n",
       "  var EXEC_MIME_TYPE = 'application/vnd.bokehjs_exec.v0+json';\n",
       "  var CLASS_NAME = 'output_bokeh rendered_html';\n",
       "\n",
       "  /**\n",
       "   * Render data to the DOM node\n",
       "   */\n",
       "  function render(props, node) {\n",
       "    var script = document.createElement(\"script\");\n",
       "    node.appendChild(script);\n",
       "  }\n",
       "\n",
       "  /**\n",
       "   * Handle when an output is cleared or removed\n",
       "   */\n",
       "  function handleClearOutput(event, handle) {\n",
       "    var cell = handle.cell;\n",
       "\n",
       "    var id = cell.output_area._bokeh_element_id;\n",
       "    var server_id = cell.output_area._bokeh_server_id;\n",
       "    // Clean up Bokeh references\n",
       "    if (id != null && id in Bokeh.index) {\n",
       "      Bokeh.index[id].model.document.clear();\n",
       "      delete Bokeh.index[id];\n",
       "    }\n",
       "\n",
       "    if (server_id !== undefined) {\n",
       "      // Clean up Bokeh references\n",
       "      var cmd = \"from bokeh.io.state import curstate; print(curstate().uuid_to_server['\" + server_id + \"'].get_sessions()[0].document.roots[0]._id)\";\n",
       "      cell.notebook.kernel.execute(cmd, {\n",
       "        iopub: {\n",
       "          output: function(msg) {\n",
       "            var id = msg.content.text.trim();\n",
       "            if (id in Bokeh.index) {\n",
       "              Bokeh.index[id].model.document.clear();\n",
       "              delete Bokeh.index[id];\n",
       "            }\n",
       "          }\n",
       "        }\n",
       "      });\n",
       "      // Destroy server and session\n",
       "      var cmd = \"import bokeh.io.notebook as ion; ion.destroy_server('\" + server_id + \"')\";\n",
       "      cell.notebook.kernel.execute(cmd);\n",
       "    }\n",
       "  }\n",
       "\n",
       "  /**\n",
       "   * Handle when a new output is added\n",
       "   */\n",
       "  function handleAddOutput(event, handle) {\n",
       "    var output_area = handle.output_area;\n",
       "    var output = handle.output;\n",
       "\n",
       "    // limit handleAddOutput to display_data with EXEC_MIME_TYPE content only\n",
       "    if ((output.output_type != \"display_data\") || (!output.data.hasOwnProperty(EXEC_MIME_TYPE))) {\n",
       "      return\n",
       "    }\n",
       "\n",
       "    var toinsert = output_area.element.find(\".\" + CLASS_NAME.split(' ')[0]);\n",
       "\n",
       "    if (output.metadata[EXEC_MIME_TYPE][\"id\"] !== undefined) {\n",
       "      toinsert[toinsert.length - 1].firstChild.textContent = output.data[JS_MIME_TYPE];\n",
       "      // store reference to embed id on output_area\n",
       "      output_area._bokeh_element_id = output.metadata[EXEC_MIME_TYPE][\"id\"];\n",
       "    }\n",
       "    if (output.metadata[EXEC_MIME_TYPE][\"server_id\"] !== undefined) {\n",
       "      var bk_div = document.createElement(\"div\");\n",
       "      bk_div.innerHTML = output.data[HTML_MIME_TYPE];\n",
       "      var script_attrs = bk_div.children[0].attributes;\n",
       "      for (var i = 0; i < script_attrs.length; i++) {\n",
       "        toinsert[toinsert.length - 1].firstChild.setAttribute(script_attrs[i].name, script_attrs[i].value);\n",
       "        toinsert[toinsert.length - 1].firstChild.textContent = bk_div.children[0].textContent\n",
       "      }\n",
       "      // store reference to server id on output_area\n",
       "      output_area._bokeh_server_id = output.metadata[EXEC_MIME_TYPE][\"server_id\"];\n",
       "    }\n",
       "  }\n",
       "\n",
       "  function register_renderer(events, OutputArea) {\n",
       "\n",
       "    function append_mime(data, metadata, element) {\n",
       "      // create a DOM node to render to\n",
       "      var toinsert = this.create_output_subarea(\n",
       "        metadata,\n",
       "        CLASS_NAME,\n",
       "        EXEC_MIME_TYPE\n",
       "      );\n",
       "      this.keyboard_manager.register_events(toinsert);\n",
       "      // Render to node\n",
       "      var props = {data: data, metadata: metadata[EXEC_MIME_TYPE]};\n",
       "      render(props, toinsert[toinsert.length - 1]);\n",
       "      element.append(toinsert);\n",
       "      return toinsert\n",
       "    }\n",
       "\n",
       "    /* Handle when an output is cleared or removed */\n",
       "    events.on('clear_output.CodeCell', handleClearOutput);\n",
       "    events.on('delete.Cell', handleClearOutput);\n",
       "\n",
       "    /* Handle when a new output is added */\n",
       "    events.on('output_added.OutputArea', handleAddOutput);\n",
       "\n",
       "    /**\n",
       "     * Register the mime type and append_mime function with output_area\n",
       "     */\n",
       "    OutputArea.prototype.register_mime_type(EXEC_MIME_TYPE, append_mime, {\n",
       "      /* Is output safe? */\n",
       "      safe: true,\n",
       "      /* Index of renderer in `output_area.display_order` */\n",
       "      index: 0\n",
       "    });\n",
       "  }\n",
       "\n",
       "  // register the mime type if in Jupyter Notebook environment and previously unregistered\n",
       "  if (root.Jupyter !== undefined) {\n",
       "    var events = require('base/js/events');\n",
       "    var OutputArea = require('notebook/js/outputarea').OutputArea;\n",
       "\n",
       "    if (OutputArea.prototype.mime_types().indexOf(EXEC_MIME_TYPE) == -1) {\n",
       "      register_renderer(events, OutputArea);\n",
       "    }\n",
       "  }\n",
       "\n",
       "  \n",
       "  if (typeof (root._bokeh_timeout) === \"undefined\" || force === true) {\n",
       "    root._bokeh_timeout = Date.now() + 5000;\n",
       "    root._bokeh_failed_load = false;\n",
       "  }\n",
       "\n",
       "  var NB_LOAD_WARNING = {'data': {'text/html':\n",
       "     \"<div style='background-color: #fdd'>\\n\"+\n",
       "     \"<p>\\n\"+\n",
       "     \"BokehJS does not appear to have successfully loaded. If loading BokehJS from CDN, this \\n\"+\n",
       "     \"may be due to a slow or bad network connection. Possible fixes:\\n\"+\n",
       "     \"</p>\\n\"+\n",
       "     \"<ul>\\n\"+\n",
       "     \"<li>re-rerun `output_notebook()` to attempt to load from CDN again, or</li>\\n\"+\n",
       "     \"<li>use INLINE resources instead, as so:</li>\\n\"+\n",
       "     \"</ul>\\n\"+\n",
       "     \"<code>\\n\"+\n",
       "     \"from bokeh.resources import INLINE\\n\"+\n",
       "     \"output_notebook(resources=INLINE)\\n\"+\n",
       "     \"</code>\\n\"+\n",
       "     \"</div>\"}};\n",
       "\n",
       "  function display_loaded() {\n",
       "    var el = document.getElementById(\"41937\");\n",
       "    if (el != null) {\n",
       "      el.textContent = \"BokehJS is loading...\";\n",
       "    }\n",
       "    if (root.Bokeh !== undefined) {\n",
       "      if (el != null) {\n",
       "        el.textContent = \"BokehJS \" + root.Bokeh.version + \" successfully loaded.\";\n",
       "      }\n",
       "    } else if (Date.now() < root._bokeh_timeout) {\n",
       "      setTimeout(display_loaded, 100)\n",
       "    }\n",
       "  }\n",
       "\n",
       "\n",
       "  function run_callbacks() {\n",
       "    try {\n",
       "      root._bokeh_onload_callbacks.forEach(function(callback) {\n",
       "        if (callback != null)\n",
       "          callback();\n",
       "      });\n",
       "    } finally {\n",
       "      delete root._bokeh_onload_callbacks\n",
       "    }\n",
       "    console.debug(\"Bokeh: all callbacks have finished\");\n",
       "  }\n",
       "\n",
       "  function load_libs(css_urls, js_urls, callback) {\n",
       "    if (css_urls == null) css_urls = [];\n",
       "    if (js_urls == null) js_urls = [];\n",
       "\n",
       "    root._bokeh_onload_callbacks.push(callback);\n",
       "    if (root._bokeh_is_loading > 0) {\n",
       "      console.debug(\"Bokeh: BokehJS is being loaded, scheduling callback at\", now());\n",
       "      return null;\n",
       "    }\n",
       "    if (js_urls == null || js_urls.length === 0) {\n",
       "      run_callbacks();\n",
       "      return null;\n",
       "    }\n",
       "    console.debug(\"Bokeh: BokehJS not loaded, scheduling load and callback at\", now());\n",
       "    root._bokeh_is_loading = css_urls.length + js_urls.length;\n",
       "\n",
       "    function on_load() {\n",
       "      root._bokeh_is_loading--;\n",
       "      if (root._bokeh_is_loading === 0) {\n",
       "        console.debug(\"Bokeh: all BokehJS libraries/stylesheets loaded\");\n",
       "        run_callbacks()\n",
       "      }\n",
       "    }\n",
       "\n",
       "    function on_error() {\n",
       "      console.error(\"failed to load \" + url);\n",
       "    }\n",
       "\n",
       "    for (var i = 0; i < css_urls.length; i++) {\n",
       "      var url = css_urls[i];\n",
       "      const element = document.createElement(\"link\");\n",
       "      element.onload = on_load;\n",
       "      element.onerror = on_error;\n",
       "      element.rel = \"stylesheet\";\n",
       "      element.type = \"text/css\";\n",
       "      element.href = url;\n",
       "      console.debug(\"Bokeh: injecting link tag for BokehJS stylesheet: \", url);\n",
       "      document.body.appendChild(element);\n",
       "    }\n",
       "\n",
       "    const hashes = {\"https://cdn.bokeh.org/bokeh/release/bokeh-2.2.1.min.js\": \"qkRvDQVAIfzsJo40iRBbxt6sttt0hv4lh74DG7OK4MCHv4C5oohXYoHUM5W11uqS\", \"https://cdn.bokeh.org/bokeh/release/bokeh-widgets-2.2.1.min.js\": \"Sb7Mr06a9TNlet/GEBeKaf5xH3eb6AlCzwjtU82wNPyDrnfoiVl26qnvlKjmcAd+\", \"https://cdn.bokeh.org/bokeh/release/bokeh-tables-2.2.1.min.js\": \"HaJ15vgfmcfRtB4c4YBOI4f1MUujukqInOWVqZJZZGK7Q+ivud0OKGSTn/Vm2iso\"};\n",
       "\n",
       "    for (var i = 0; i < js_urls.length; i++) {\n",
       "      var url = js_urls[i];\n",
       "      var element = document.createElement('script');\n",
       "      element.onload = on_load;\n",
       "      element.onerror = on_error;\n",
       "      element.async = false;\n",
       "      element.src = url;\n",
       "      if (url in hashes) {\n",
       "        element.crossOrigin = \"anonymous\";\n",
       "        element.integrity = \"sha384-\" + hashes[url];\n",
       "      }\n",
       "      console.debug(\"Bokeh: injecting script tag for BokehJS library: \", url);\n",
       "      document.head.appendChild(element);\n",
       "    }\n",
       "  };\n",
       "\n",
       "  function inject_raw_css(css) {\n",
       "    const element = document.createElement(\"style\");\n",
       "    element.appendChild(document.createTextNode(css));\n",
       "    document.body.appendChild(element);\n",
       "  }\n",
       "\n",
       "  \n",
       "  var js_urls = [\"https://cdn.bokeh.org/bokeh/release/bokeh-2.2.1.min.js\", \"https://cdn.bokeh.org/bokeh/release/bokeh-widgets-2.2.1.min.js\", \"https://cdn.bokeh.org/bokeh/release/bokeh-tables-2.2.1.min.js\"];\n",
       "  var css_urls = [];\n",
       "  \n",
       "\n",
       "  var inline_js = [\n",
       "    function(Bokeh) {\n",
       "      Bokeh.set_log_level(\"info\");\n",
       "    },\n",
       "    function(Bokeh) {\n",
       "    \n",
       "    \n",
       "    }\n",
       "  ];\n",
       "\n",
       "  function run_inline_js() {\n",
       "    \n",
       "    if (root.Bokeh !== undefined || force === true) {\n",
       "      \n",
       "    for (var i = 0; i < inline_js.length; i++) {\n",
       "      inline_js[i].call(root, root.Bokeh);\n",
       "    }\n",
       "    if (force === true) {\n",
       "        display_loaded();\n",
       "      }} else if (Date.now() < root._bokeh_timeout) {\n",
       "      setTimeout(run_inline_js, 100);\n",
       "    } else if (!root._bokeh_failed_load) {\n",
       "      console.log(\"Bokeh: BokehJS failed to load within specified timeout.\");\n",
       "      root._bokeh_failed_load = true;\n",
       "    } else if (force !== true) {\n",
       "      var cell = $(document.getElementById(\"41937\")).parents('.cell').data().cell;\n",
       "      cell.output_area.append_execute_result(NB_LOAD_WARNING)\n",
       "    }\n",
       "\n",
       "  }\n",
       "\n",
       "  if (root._bokeh_is_loading === 0) {\n",
       "    console.debug(\"Bokeh: BokehJS loaded, going straight to plotting\");\n",
       "    run_inline_js();\n",
       "  } else {\n",
       "    load_libs(css_urls, js_urls, function() {\n",
       "      console.debug(\"Bokeh: BokehJS plotting callback run at\", now());\n",
       "      run_inline_js();\n",
       "    });\n",
       "  }\n",
       "}(window));"
      ],
      "application/vnd.bokehjs_load.v0+json": "\n(function(root) {\n  function now() {\n    return new Date();\n  }\n\n  var force = true;\n\n  if (typeof root._bokeh_onload_callbacks === \"undefined\" || force === true) {\n    root._bokeh_onload_callbacks = [];\n    root._bokeh_is_loading = undefined;\n  }\n\n  \n\n  \n  if (typeof (root._bokeh_timeout) === \"undefined\" || force === true) {\n    root._bokeh_timeout = Date.now() + 5000;\n    root._bokeh_failed_load = false;\n  }\n\n  var NB_LOAD_WARNING = {'data': {'text/html':\n     \"<div style='background-color: #fdd'>\\n\"+\n     \"<p>\\n\"+\n     \"BokehJS does not appear to have successfully loaded. If loading BokehJS from CDN, this \\n\"+\n     \"may be due to a slow or bad network connection. Possible fixes:\\n\"+\n     \"</p>\\n\"+\n     \"<ul>\\n\"+\n     \"<li>re-rerun `output_notebook()` to attempt to load from CDN again, or</li>\\n\"+\n     \"<li>use INLINE resources instead, as so:</li>\\n\"+\n     \"</ul>\\n\"+\n     \"<code>\\n\"+\n     \"from bokeh.resources import INLINE\\n\"+\n     \"output_notebook(resources=INLINE)\\n\"+\n     \"</code>\\n\"+\n     \"</div>\"}};\n\n  function display_loaded() {\n    var el = document.getElementById(\"41937\");\n    if (el != null) {\n      el.textContent = \"BokehJS is loading...\";\n    }\n    if (root.Bokeh !== undefined) {\n      if (el != null) {\n        el.textContent = \"BokehJS \" + root.Bokeh.version + \" successfully loaded.\";\n      }\n    } else if (Date.now() < root._bokeh_timeout) {\n      setTimeout(display_loaded, 100)\n    }\n  }\n\n\n  function run_callbacks() {\n    try {\n      root._bokeh_onload_callbacks.forEach(function(callback) {\n        if (callback != null)\n          callback();\n      });\n    } finally {\n      delete root._bokeh_onload_callbacks\n    }\n    console.debug(\"Bokeh: all callbacks have finished\");\n  }\n\n  function load_libs(css_urls, js_urls, callback) {\n    if (css_urls == null) css_urls = [];\n    if (js_urls == null) js_urls = [];\n\n    root._bokeh_onload_callbacks.push(callback);\n    if (root._bokeh_is_loading > 0) {\n      console.debug(\"Bokeh: BokehJS is being loaded, scheduling callback at\", now());\n      return null;\n    }\n    if (js_urls == null || js_urls.length === 0) {\n      run_callbacks();\n      return null;\n    }\n    console.debug(\"Bokeh: BokehJS not loaded, scheduling load and callback at\", now());\n    root._bokeh_is_loading = css_urls.length + js_urls.length;\n\n    function on_load() {\n      root._bokeh_is_loading--;\n      if (root._bokeh_is_loading === 0) {\n        console.debug(\"Bokeh: all BokehJS libraries/stylesheets loaded\");\n        run_callbacks()\n      }\n    }\n\n    function on_error() {\n      console.error(\"failed to load \" + url);\n    }\n\n    for (var i = 0; i < css_urls.length; i++) {\n      var url = css_urls[i];\n      const element = document.createElement(\"link\");\n      element.onload = on_load;\n      element.onerror = on_error;\n      element.rel = \"stylesheet\";\n      element.type = \"text/css\";\n      element.href = url;\n      console.debug(\"Bokeh: injecting link tag for BokehJS stylesheet: \", url);\n      document.body.appendChild(element);\n    }\n\n    const hashes = {\"https://cdn.bokeh.org/bokeh/release/bokeh-2.2.1.min.js\": \"qkRvDQVAIfzsJo40iRBbxt6sttt0hv4lh74DG7OK4MCHv4C5oohXYoHUM5W11uqS\", \"https://cdn.bokeh.org/bokeh/release/bokeh-widgets-2.2.1.min.js\": \"Sb7Mr06a9TNlet/GEBeKaf5xH3eb6AlCzwjtU82wNPyDrnfoiVl26qnvlKjmcAd+\", \"https://cdn.bokeh.org/bokeh/release/bokeh-tables-2.2.1.min.js\": \"HaJ15vgfmcfRtB4c4YBOI4f1MUujukqInOWVqZJZZGK7Q+ivud0OKGSTn/Vm2iso\"};\n\n    for (var i = 0; i < js_urls.length; i++) {\n      var url = js_urls[i];\n      var element = document.createElement('script');\n      element.onload = on_load;\n      element.onerror = on_error;\n      element.async = false;\n      element.src = url;\n      if (url in hashes) {\n        element.crossOrigin = \"anonymous\";\n        element.integrity = \"sha384-\" + hashes[url];\n      }\n      console.debug(\"Bokeh: injecting script tag for BokehJS library: \", url);\n      document.head.appendChild(element);\n    }\n  };\n\n  function inject_raw_css(css) {\n    const element = document.createElement(\"style\");\n    element.appendChild(document.createTextNode(css));\n    document.body.appendChild(element);\n  }\n\n  \n  var js_urls = [\"https://cdn.bokeh.org/bokeh/release/bokeh-2.2.1.min.js\", \"https://cdn.bokeh.org/bokeh/release/bokeh-widgets-2.2.1.min.js\", \"https://cdn.bokeh.org/bokeh/release/bokeh-tables-2.2.1.min.js\"];\n  var css_urls = [];\n  \n\n  var inline_js = [\n    function(Bokeh) {\n      Bokeh.set_log_level(\"info\");\n    },\n    function(Bokeh) {\n    \n    \n    }\n  ];\n\n  function run_inline_js() {\n    \n    if (root.Bokeh !== undefined || force === true) {\n      \n    for (var i = 0; i < inline_js.length; i++) {\n      inline_js[i].call(root, root.Bokeh);\n    }\n    if (force === true) {\n        display_loaded();\n      }} else if (Date.now() < root._bokeh_timeout) {\n      setTimeout(run_inline_js, 100);\n    } else if (!root._bokeh_failed_load) {\n      console.log(\"Bokeh: BokehJS failed to load within specified timeout.\");\n      root._bokeh_failed_load = true;\n    } else if (force !== true) {\n      var cell = $(document.getElementById(\"41937\")).parents('.cell').data().cell;\n      cell.output_area.append_execute_result(NB_LOAD_WARNING)\n    }\n\n  }\n\n  if (root._bokeh_is_loading === 0) {\n    console.debug(\"Bokeh: BokehJS loaded, going straight to plotting\");\n    run_inline_js();\n  } else {\n    load_libs(css_urls, js_urls, function() {\n      console.debug(\"Bokeh: BokehJS plotting callback run at\", now());\n      run_inline_js();\n    });\n  }\n}(window));"
     },
     "metadata": {},
     "output_type": "display_data"
    },
    {
     "name": "stdout",
     "output_type": "stream",
     "text": [
      "sent_weekly_digest\n"
     ]
    },
    {
     "data": {
      "text/html": [
       "\n",
       "\n",
       "\n",
       "\n",
       "\n",
       "\n",
       "  <div class=\"bk-root\" id=\"147489aa-e7fc-4069-b436-d2529bac3793\" data-root-id=\"41938\"></div>\n"
      ]
     },
     "metadata": {},
     "output_type": "display_data"
    },
    {
     "data": {
      "application/javascript": [
       "(function(root) {\n",
       "  function embed_document(root) {\n",
       "    \n",
       "  var docs_json = {\"4caa624b-4e80-425b-97a1-5e157ccc3c02\":{\"roots\":{\"references\":[{\"attributes\":{\"below\":[{\"id\":\"41949\"}],\"center\":[{\"id\":\"41952\"},{\"id\":\"41956\"}],\"left\":[{\"id\":\"41953\"}],\"plot_height\":300,\"plot_width\":500,\"renderers\":[{\"id\":\"41974\"},{\"id\":\"41979\"}],\"title\":{\"id\":\"41939\"},\"toolbar\":{\"id\":\"41964\"},\"x_range\":{\"id\":\"41941\"},\"x_scale\":{\"id\":\"41945\"},\"y_range\":{\"id\":\"41943\"},\"y_scale\":{\"id\":\"41947\"}},\"id\":\"41938\",\"subtype\":\"Figure\",\"type\":\"Plot\"},{\"attributes\":{\"active_drag\":\"auto\",\"active_inspect\":\"auto\",\"active_multi\":null,\"active_scroll\":\"auto\",\"active_tap\":\"auto\",\"tools\":[{\"id\":\"41957\"},{\"id\":\"41958\"},{\"id\":\"41959\"},{\"id\":\"41960\"},{\"id\":\"41961\"},{\"id\":\"41962\"}]},\"id\":\"41964\",\"type\":\"Toolbar\"},{\"attributes\":{},\"id\":\"41962\",\"type\":\"HelpTool\"},{\"attributes\":{\"data\":{\"x\":{\"__ndarray__\":\"AACAe0hcdEIAAMBDiV50QgAAAAzKYHRCAABA1ApjdEIAAICcS2V0QgAAwGSMZ3RCAAAALc1pdEIAAED1DWx0QgAAgL1ObnRCAADAhY9wdEIAAABO0HJ0QgAAQBYRdXRCAACA3lF3dEIAAMCmknl0QgAAAG/Te3RCAABANxR+dEIAAID/VIB0QgAAwMeVgnRC\",\"dtype\":\"float64\",\"order\":\"little\",\"shape\":[18]},\"y\":[908,2602,2665,2733,2822,2911,3003,3105,3207,3302,3399,3499,3592,3706,3793,3897,4012,4111]},\"selected\":{\"id\":\"43188\"},\"selection_policy\":{\"id\":\"43189\"}},\"id\":\"41976\",\"type\":\"ColumnDataSource\"},{\"attributes\":{\"axis\":{\"id\":\"41953\"},\"dimension\":1,\"ticker\":null},\"id\":\"41956\",\"type\":\"Grid\"},{\"attributes\":{\"fill_alpha\":{\"value\":0.1},\"fill_color\":{\"value\":\"#1f77b4\"},\"line_alpha\":{\"value\":0.1},\"line_color\":{\"value\":\"#1f77b4\"},\"x\":{\"field\":\"x\"},\"y\":{\"field\":\"y\"}},\"id\":\"41973\",\"type\":\"Scatter\"},{\"attributes\":{},\"id\":\"43188\",\"type\":\"Selection\"},{\"attributes\":{},\"id\":\"43172\",\"type\":\"BasicTickFormatter\"},{\"attributes\":{\"line_color\":\"#1f77b4\",\"x\":{\"field\":\"x\"},\"y\":{\"field\":\"y\"}},\"id\":\"41977\",\"type\":\"Line\"},{\"attributes\":{\"source\":{\"id\":\"41971\"}},\"id\":\"41975\",\"type\":\"CDSView\"},{\"attributes\":{},\"id\":\"43189\",\"type\":\"UnionRenderers\"},{\"attributes\":{\"data_source\":{\"id\":\"41971\"},\"glyph\":{\"id\":\"41972\"},\"hover_glyph\":null,\"muted_glyph\":null,\"nonselection_glyph\":{\"id\":\"41973\"},\"selection_glyph\":null,\"view\":{\"id\":\"41975\"}},\"id\":\"41974\",\"type\":\"GlyphRenderer\"},{\"attributes\":{\"source\":{\"id\":\"41976\"}},\"id\":\"41980\",\"type\":\"CDSView\"},{\"attributes\":{\"line_alpha\":0.1,\"line_color\":\"#1f77b4\",\"x\":{\"field\":\"x\"},\"y\":{\"field\":\"y\"}},\"id\":\"41978\",\"type\":\"Line\"},{\"attributes\":{\"mantissas\":[1,2,5],\"max_interval\":500.0,\"num_minor_ticks\":0},\"id\":\"43174\",\"type\":\"AdaptiveTicker\"},{\"attributes\":{},\"id\":\"41958\",\"type\":\"WheelZoomTool\"},{\"attributes\":{\"base\":60,\"mantissas\":[1,2,5,10,15,20,30],\"max_interval\":1800000.0,\"min_interval\":1000.0,\"num_minor_ticks\":0},\"id\":\"43175\",\"type\":\"AdaptiveTicker\"},{\"attributes\":{\"days\":[1,2,3,4,5,6,7,8,9,10,11,12,13,14,15,16,17,18,19,20,21,22,23,24,25,26,27,28,29,30,31]},\"id\":\"43177\",\"type\":\"DaysTicker\"},{\"attributes\":{\"overlay\":{\"id\":\"41963\"}},\"id\":\"41959\",\"type\":\"BoxZoomTool\"},{\"attributes\":{},\"id\":\"43170\",\"type\":\"DatetimeTickFormatter\"},{\"attributes\":{\"base\":24,\"mantissas\":[1,2,4,6,8,12],\"max_interval\":43200000.0,\"min_interval\":3600000.0,\"num_minor_ticks\":0},\"id\":\"43176\",\"type\":\"AdaptiveTicker\"},{\"attributes\":{},\"id\":\"41941\",\"type\":\"DataRange1d\"},{\"attributes\":{\"months\":[0,1,2,3,4,5,6,7,8,9,10,11]},\"id\":\"43181\",\"type\":\"MonthsTicker\"},{\"attributes\":{\"months\":[0,2,4,6,8,10]},\"id\":\"43182\",\"type\":\"MonthsTicker\"},{\"attributes\":{\"days\":[1,4,7,10,13,16,19,22,25,28]},\"id\":\"43178\",\"type\":\"DaysTicker\"},{\"attributes\":{\"bottom_units\":\"screen\",\"fill_alpha\":0.5,\"fill_color\":\"lightgrey\",\"left_units\":\"screen\",\"level\":\"overlay\",\"line_alpha\":1.0,\"line_color\":\"black\",\"line_dash\":[4,4],\"line_width\":2,\"right_units\":\"screen\",\"top_units\":\"screen\"},\"id\":\"41963\",\"type\":\"BoxAnnotation\"},{\"attributes\":{\"days\":[1,15]},\"id\":\"43180\",\"type\":\"DaysTicker\"},{\"attributes\":{\"months\":[0,6]},\"id\":\"43184\",\"type\":\"MonthsTicker\"},{\"attributes\":{\"days\":[1,8,15,22]},\"id\":\"43179\",\"type\":\"DaysTicker\"},{\"attributes\":{\"fill_color\":{\"value\":\"#1f77b4\"},\"line_color\":{\"value\":\"#1f77b4\"},\"x\":{\"field\":\"x\"},\"y\":{\"field\":\"y\"}},\"id\":\"41972\",\"type\":\"Scatter\"},{\"attributes\":{},\"id\":\"43185\",\"type\":\"YearsTicker\"},{\"attributes\":{\"months\":[0,4,8]},\"id\":\"43183\",\"type\":\"MonthsTicker\"},{\"attributes\":{},\"id\":\"41960\",\"type\":\"SaveTool\"},{\"attributes\":{\"text\":\"Count of weekly active users\"},\"id\":\"41939\",\"type\":\"Title\"},{\"attributes\":{\"num_minor_ticks\":5,\"tickers\":[{\"id\":\"43174\"},{\"id\":\"43175\"},{\"id\":\"43176\"},{\"id\":\"43177\"},{\"id\":\"43178\"},{\"id\":\"43179\"},{\"id\":\"43180\"},{\"id\":\"43181\"},{\"id\":\"43182\"},{\"id\":\"43183\"},{\"id\":\"43184\"},{\"id\":\"43185\"}]},\"id\":\"41950\",\"type\":\"DatetimeTicker\"},{\"attributes\":{},\"id\":\"41945\",\"type\":\"LinearScale\"},{\"attributes\":{\"axis_label\":\"Time (weekly)\",\"formatter\":{\"id\":\"43170\"},\"ticker\":{\"id\":\"41950\"}},\"id\":\"41949\",\"type\":\"DatetimeAxis\"},{\"attributes\":{},\"id\":\"41961\",\"type\":\"ResetTool\"},{\"attributes\":{\"axis_label\":\"Counts\",\"formatter\":{\"id\":\"43172\"},\"ticker\":{\"id\":\"41954\"}},\"id\":\"41953\",\"type\":\"LinearAxis\"},{\"attributes\":{\"data\":{\"x\":{\"__ndarray__\":\"AACAe0hcdEIAAMBDiV50QgAAAAzKYHRCAABA1ApjdEIAAICcS2V0QgAAwGSMZ3RCAAAALc1pdEIAAED1DWx0QgAAgL1ObnRCAADAhY9wdEIAAABO0HJ0QgAAQBYRdXRCAACA3lF3dEIAAMCmknl0QgAAAG/Te3RCAABANxR+dEIAAID/VIB0QgAAwMeVgnRC\",\"dtype\":\"float64\",\"order\":\"little\",\"shape\":[18]},\"y\":[908,2602,2665,2733,2822,2911,3003,3105,3207,3302,3399,3499,3592,3706,3793,3897,4012,4111]},\"selected\":{\"id\":\"43186\"},\"selection_policy\":{\"id\":\"43187\"}},\"id\":\"41971\",\"type\":\"ColumnDataSource\"},{\"attributes\":{},\"id\":\"41957\",\"type\":\"PanTool\"},{\"attributes\":{},\"id\":\"41947\",\"type\":\"LinearScale\"},{\"attributes\":{},\"id\":\"43186\",\"type\":\"Selection\"},{\"attributes\":{},\"id\":\"41954\",\"type\":\"BasicTicker\"},{\"attributes\":{},\"id\":\"41943\",\"type\":\"DataRange1d\"},{\"attributes\":{},\"id\":\"43187\",\"type\":\"UnionRenderers\"},{\"attributes\":{\"axis\":{\"id\":\"41949\"},\"ticker\":null},\"id\":\"41952\",\"type\":\"Grid\"},{\"attributes\":{\"data_source\":{\"id\":\"41976\"},\"glyph\":{\"id\":\"41977\"},\"hover_glyph\":null,\"muted_glyph\":null,\"nonselection_glyph\":{\"id\":\"41978\"},\"selection_glyph\":null,\"view\":{\"id\":\"41980\"}},\"id\":\"41979\",\"type\":\"GlyphRenderer\"}],\"root_ids\":[\"41938\"]},\"title\":\"Bokeh Application\",\"version\":\"2.2.1\"}};\n",
       "  var render_items = [{\"docid\":\"4caa624b-4e80-425b-97a1-5e157ccc3c02\",\"root_ids\":[\"41938\"],\"roots\":{\"41938\":\"147489aa-e7fc-4069-b436-d2529bac3793\"}}];\n",
       "  root.Bokeh.embed.embed_items_notebook(docs_json, render_items);\n",
       "\n",
       "  }\n",
       "  if (root.Bokeh !== undefined) {\n",
       "    embed_document(root);\n",
       "  } else {\n",
       "    var attempts = 0;\n",
       "    var timer = setInterval(function(root) {\n",
       "      if (root.Bokeh !== undefined) {\n",
       "        clearInterval(timer);\n",
       "        embed_document(root);\n",
       "      } else {\n",
       "        attempts++;\n",
       "        if (attempts > 100) {\n",
       "          clearInterval(timer);\n",
       "          console.log(\"Bokeh: ERROR: Unable to run BokehJS code because BokehJS library is missing\");\n",
       "        }\n",
       "      }\n",
       "    }, 10, root)\n",
       "  }\n",
       "})(window);"
      ],
      "application/vnd.bokehjs_exec.v0+json": ""
     },
     "metadata": {
      "application/vnd.bokehjs_exec.v0+json": {
       "id": "41938"
      }
     },
     "output_type": "display_data"
    },
    {
     "name": "stdout",
     "output_type": "stream",
     "text": [
      "email_open\n"
     ]
    },
    {
     "data": {
      "text/html": [
       "\n",
       "\n",
       "\n",
       "\n",
       "\n",
       "\n",
       "  <div class=\"bk-root\" id=\"49f20924-ad2f-41fb-b6d6-a481fe19b5d6\" data-root-id=\"43301\"></div>\n"
      ]
     },
     "metadata": {},
     "output_type": "display_data"
    },
    {
     "data": {
      "application/javascript": [
       "(function(root) {\n",
       "  function embed_document(root) {\n",
       "    \n",
       "  var docs_json = {\"6b45a047-bf5f-4bbc-ac22-e0ccd4699e7e\":{\"roots\":{\"references\":[{\"attributes\":{\"below\":[{\"id\":\"43312\"}],\"center\":[{\"id\":\"43315\"},{\"id\":\"43319\"}],\"left\":[{\"id\":\"43316\"}],\"plot_height\":300,\"plot_width\":500,\"renderers\":[{\"id\":\"43337\"},{\"id\":\"43342\"}],\"title\":{\"id\":\"43302\"},\"toolbar\":{\"id\":\"43327\"},\"x_range\":{\"id\":\"43304\"},\"x_scale\":{\"id\":\"43308\"},\"y_range\":{\"id\":\"43306\"},\"y_scale\":{\"id\":\"43310\"}},\"id\":\"43301\",\"subtype\":\"Figure\",\"type\":\"Plot\"},{\"attributes\":{},\"id\":\"43317\",\"type\":\"BasicTicker\"},{\"attributes\":{\"data\":{\"x\":{\"__ndarray__\":\"AACAe0hcdEIAAMBDiV50QgAAAAzKYHRCAABA1ApjdEIAAICcS2V0QgAAwGSMZ3RCAAAALc1pdEIAAED1DWx0QgAAgL1ObnRCAADAhY9wdEIAAABO0HJ0QgAAQBYRdXRCAACA3lF3dEIAAMCmknl0QgAAAG/Te3RCAABANxR+dEIAAID/VIB0QgAAwMeVgnRC\",\"dtype\":\"float64\",\"order\":\"little\",\"shape\":[18]},\"y\":[332,910,961,984,1008,972,1058,1144,1080,1157,1215,1244,1200,1372,1328,1341,1411,1511]},\"selected\":{\"id\":\"44571\"},\"selection_policy\":{\"id\":\"44572\"}},\"id\":\"43334\",\"type\":\"ColumnDataSource\"},{\"attributes\":{\"overlay\":{\"id\":\"43326\"}},\"id\":\"43322\",\"type\":\"BoxZoomTool\"},{\"attributes\":{},\"id\":\"44571\",\"type\":\"Selection\"},{\"attributes\":{},\"id\":\"43323\",\"type\":\"SaveTool\"},{\"attributes\":{},\"id\":\"43321\",\"type\":\"WheelZoomTool\"},{\"attributes\":{},\"id\":\"43325\",\"type\":\"HelpTool\"},{\"attributes\":{},\"id\":\"43320\",\"type\":\"PanTool\"},{\"attributes\":{\"active_drag\":\"auto\",\"active_inspect\":\"auto\",\"active_multi\":null,\"active_scroll\":\"auto\",\"active_tap\":\"auto\",\"tools\":[{\"id\":\"43320\"},{\"id\":\"43321\"},{\"id\":\"43322\"},{\"id\":\"43323\"},{\"id\":\"43324\"},{\"id\":\"43325\"}]},\"id\":\"43327\",\"type\":\"Toolbar\"},{\"attributes\":{},\"id\":\"44573\",\"type\":\"Selection\"},{\"attributes\":{\"fill_color\":{\"value\":\"#1f77b4\"},\"line_color\":{\"value\":\"#1f77b4\"},\"x\":{\"field\":\"x\"},\"y\":{\"field\":\"y\"}},\"id\":\"43335\",\"type\":\"Scatter\"},{\"attributes\":{},\"id\":\"43310\",\"type\":\"LinearScale\"},{\"attributes\":{\"data\":{\"x\":{\"__ndarray__\":\"AACAe0hcdEIAAMBDiV50QgAAAAzKYHRCAABA1ApjdEIAAICcS2V0QgAAwGSMZ3RCAAAALc1pdEIAAED1DWx0QgAAgL1ObnRCAADAhY9wdEIAAABO0HJ0QgAAQBYRdXRCAACA3lF3dEIAAMCmknl0QgAAAG/Te3RCAABANxR+dEIAAID/VIB0QgAAwMeVgnRC\",\"dtype\":\"float64\",\"order\":\"little\",\"shape\":[18]},\"y\":[332,910,961,984,1008,972,1058,1144,1080,1157,1215,1244,1200,1372,1328,1341,1411,1511]},\"selected\":{\"id\":\"44573\"},\"selection_policy\":{\"id\":\"44574\"}},\"id\":\"43339\",\"type\":\"ColumnDataSource\"},{\"attributes\":{\"data_source\":{\"id\":\"43339\"},\"glyph\":{\"id\":\"43340\"},\"hover_glyph\":null,\"muted_glyph\":null,\"nonselection_glyph\":{\"id\":\"43341\"},\"selection_glyph\":null,\"view\":{\"id\":\"43343\"}},\"id\":\"43342\",\"type\":\"GlyphRenderer\"},{\"attributes\":{},\"id\":\"43308\",\"type\":\"LinearScale\"},{\"attributes\":{\"axis_label\":\"Counts\",\"formatter\":{\"id\":\"44557\"},\"ticker\":{\"id\":\"43317\"}},\"id\":\"43316\",\"type\":\"LinearAxis\"},{\"attributes\":{},\"id\":\"44557\",\"type\":\"BasicTickFormatter\"},{\"attributes\":{\"fill_alpha\":{\"value\":0.1},\"fill_color\":{\"value\":\"#1f77b4\"},\"line_alpha\":{\"value\":0.1},\"line_color\":{\"value\":\"#1f77b4\"},\"x\":{\"field\":\"x\"},\"y\":{\"field\":\"y\"}},\"id\":\"43336\",\"type\":\"Scatter\"},{\"attributes\":{\"axis\":{\"id\":\"43316\"},\"dimension\":1,\"ticker\":null},\"id\":\"43319\",\"type\":\"Grid\"},{\"attributes\":{\"line_color\":\"#1f77b4\",\"x\":{\"field\":\"x\"},\"y\":{\"field\":\"y\"}},\"id\":\"43340\",\"type\":\"Line\"},{\"attributes\":{\"text\":\"Count of weekly active users\"},\"id\":\"43302\",\"type\":\"Title\"},{\"attributes\":{\"source\":{\"id\":\"43334\"}},\"id\":\"43338\",\"type\":\"CDSView\"},{\"attributes\":{\"data_source\":{\"id\":\"43334\"},\"glyph\":{\"id\":\"43335\"},\"hover_glyph\":null,\"muted_glyph\":null,\"nonselection_glyph\":{\"id\":\"43336\"},\"selection_glyph\":null,\"view\":{\"id\":\"43338\"}},\"id\":\"43337\",\"type\":\"GlyphRenderer\"},{\"attributes\":{},\"id\":\"43306\",\"type\":\"DataRange1d\"},{\"attributes\":{},\"id\":\"43324\",\"type\":\"ResetTool\"},{\"attributes\":{\"source\":{\"id\":\"43339\"}},\"id\":\"43343\",\"type\":\"CDSView\"},{\"attributes\":{\"mantissas\":[1,2,5],\"max_interval\":500.0,\"num_minor_ticks\":0},\"id\":\"44559\",\"type\":\"AdaptiveTicker\"},{\"attributes\":{\"base\":60,\"mantissas\":[1,2,5,10,15,20,30],\"max_interval\":1800000.0,\"min_interval\":1000.0,\"num_minor_ticks\":0},\"id\":\"44560\",\"type\":\"AdaptiveTicker\"},{\"attributes\":{\"line_alpha\":0.1,\"line_color\":\"#1f77b4\",\"x\":{\"field\":\"x\"},\"y\":{\"field\":\"y\"}},\"id\":\"43341\",\"type\":\"Line\"},{\"attributes\":{\"days\":[1,2,3,4,5,6,7,8,9,10,11,12,13,14,15,16,17,18,19,20,21,22,23,24,25,26,27,28,29,30,31]},\"id\":\"44562\",\"type\":\"DaysTicker\"},{\"attributes\":{},\"id\":\"44574\",\"type\":\"UnionRenderers\"},{\"attributes\":{\"base\":24,\"mantissas\":[1,2,4,6,8,12],\"max_interval\":43200000.0,\"min_interval\":3600000.0,\"num_minor_ticks\":0},\"id\":\"44561\",\"type\":\"AdaptiveTicker\"},{\"attributes\":{\"months\":[0,1,2,3,4,5,6,7,8,9,10,11]},\"id\":\"44566\",\"type\":\"MonthsTicker\"},{\"attributes\":{\"axis_label\":\"Time (weekly)\",\"formatter\":{\"id\":\"44555\"},\"ticker\":{\"id\":\"43313\"}},\"id\":\"43312\",\"type\":\"DatetimeAxis\"},{\"attributes\":{},\"id\":\"44572\",\"type\":\"UnionRenderers\"},{\"attributes\":{\"months\":[0,2,4,6,8,10]},\"id\":\"44567\",\"type\":\"MonthsTicker\"},{\"attributes\":{\"days\":[1,4,7,10,13,16,19,22,25,28]},\"id\":\"44563\",\"type\":\"DaysTicker\"},{\"attributes\":{\"days\":[1,15]},\"id\":\"44565\",\"type\":\"DaysTicker\"},{\"attributes\":{\"months\":[0,6]},\"id\":\"44569\",\"type\":\"MonthsTicker\"},{\"attributes\":{},\"id\":\"44555\",\"type\":\"DatetimeTickFormatter\"},{\"attributes\":{\"days\":[1,8,15,22]},\"id\":\"44564\",\"type\":\"DaysTicker\"},{\"attributes\":{},\"id\":\"44570\",\"type\":\"YearsTicker\"},{\"attributes\":{\"bottom_units\":\"screen\",\"fill_alpha\":0.5,\"fill_color\":\"lightgrey\",\"left_units\":\"screen\",\"level\":\"overlay\",\"line_alpha\":1.0,\"line_color\":\"black\",\"line_dash\":[4,4],\"line_width\":2,\"right_units\":\"screen\",\"top_units\":\"screen\"},\"id\":\"43326\",\"type\":\"BoxAnnotation\"},{\"attributes\":{\"months\":[0,4,8]},\"id\":\"44568\",\"type\":\"MonthsTicker\"},{\"attributes\":{\"axis\":{\"id\":\"43312\"},\"ticker\":null},\"id\":\"43315\",\"type\":\"Grid\"},{\"attributes\":{\"num_minor_ticks\":5,\"tickers\":[{\"id\":\"44559\"},{\"id\":\"44560\"},{\"id\":\"44561\"},{\"id\":\"44562\"},{\"id\":\"44563\"},{\"id\":\"44564\"},{\"id\":\"44565\"},{\"id\":\"44566\"},{\"id\":\"44567\"},{\"id\":\"44568\"},{\"id\":\"44569\"},{\"id\":\"44570\"}]},\"id\":\"43313\",\"type\":\"DatetimeTicker\"},{\"attributes\":{},\"id\":\"43304\",\"type\":\"DataRange1d\"}],\"root_ids\":[\"43301\"]},\"title\":\"Bokeh Application\",\"version\":\"2.2.1\"}};\n",
       "  var render_items = [{\"docid\":\"6b45a047-bf5f-4bbc-ac22-e0ccd4699e7e\",\"root_ids\":[\"43301\"],\"roots\":{\"43301\":\"49f20924-ad2f-41fb-b6d6-a481fe19b5d6\"}}];\n",
       "  root.Bokeh.embed.embed_items_notebook(docs_json, render_items);\n",
       "\n",
       "  }\n",
       "  if (root.Bokeh !== undefined) {\n",
       "    embed_document(root);\n",
       "  } else {\n",
       "    var attempts = 0;\n",
       "    var timer = setInterval(function(root) {\n",
       "      if (root.Bokeh !== undefined) {\n",
       "        clearInterval(timer);\n",
       "        embed_document(root);\n",
       "      } else {\n",
       "        attempts++;\n",
       "        if (attempts > 100) {\n",
       "          clearInterval(timer);\n",
       "          console.log(\"Bokeh: ERROR: Unable to run BokehJS code because BokehJS library is missing\");\n",
       "        }\n",
       "      }\n",
       "    }, 10, root)\n",
       "  }\n",
       "})(window);"
      ],
      "application/vnd.bokehjs_exec.v0+json": ""
     },
     "metadata": {
      "application/vnd.bokehjs_exec.v0+json": {
       "id": "43301"
      }
     },
     "output_type": "display_data"
    },
    {
     "name": "stdout",
     "output_type": "stream",
     "text": [
      "email_clickthrough\n"
     ]
    },
    {
     "data": {
      "text/html": [
       "\n",
       "\n",
       "\n",
       "\n",
       "\n",
       "\n",
       "  <div class=\"bk-root\" id=\"2c62677c-a4c8-4252-896c-f83cc683f31c\" data-root-id=\"44686\"></div>\n"
      ]
     },
     "metadata": {},
     "output_type": "display_data"
    },
    {
     "data": {
      "application/javascript": [
       "(function(root) {\n",
       "  function embed_document(root) {\n",
       "    \n",
       "  var docs_json = {\"a65c802a-ff69-416b-bee2-3279e6c82bba\":{\"roots\":{\"references\":[{\"attributes\":{\"below\":[{\"id\":\"44697\"}],\"center\":[{\"id\":\"44700\"},{\"id\":\"44704\"}],\"left\":[{\"id\":\"44701\"}],\"plot_height\":300,\"plot_width\":500,\"renderers\":[{\"id\":\"44722\"},{\"id\":\"44727\"}],\"title\":{\"id\":\"44687\"},\"toolbar\":{\"id\":\"44712\"},\"x_range\":{\"id\":\"44689\"},\"x_scale\":{\"id\":\"44693\"},\"y_range\":{\"id\":\"44691\"},\"y_scale\":{\"id\":\"44695\"}},\"id\":\"44686\",\"subtype\":\"Figure\",\"type\":\"Plot\"},{\"attributes\":{},\"id\":\"45979\",\"type\":\"UnionRenderers\"},{\"attributes\":{\"bottom_units\":\"screen\",\"fill_alpha\":0.5,\"fill_color\":\"lightgrey\",\"left_units\":\"screen\",\"level\":\"overlay\",\"line_alpha\":1.0,\"line_color\":\"black\",\"line_dash\":[4,4],\"line_width\":2,\"right_units\":\"screen\",\"top_units\":\"screen\"},\"id\":\"44711\",\"type\":\"BoxAnnotation\"},{\"attributes\":{},\"id\":\"44708\",\"type\":\"SaveTool\"},{\"attributes\":{},\"id\":\"44695\",\"type\":\"LinearScale\"},{\"attributes\":{\"text\":\"Count of weekly active users\"},\"id\":\"44687\",\"type\":\"Title\"},{\"attributes\":{},\"id\":\"45962\",\"type\":\"DatetimeTickFormatter\"},{\"attributes\":{\"axis\":{\"id\":\"44701\"},\"dimension\":1,\"ticker\":null},\"id\":\"44704\",\"type\":\"Grid\"},{\"attributes\":{},\"id\":\"45980\",\"type\":\"Selection\"},{\"attributes\":{},\"id\":\"45981\",\"type\":\"UnionRenderers\"},{\"attributes\":{\"axis_label\":\"Time (weekly)\",\"formatter\":{\"id\":\"45962\"},\"ticker\":{\"id\":\"44698\"}},\"id\":\"44697\",\"type\":\"DatetimeAxis\"},{\"attributes\":{\"fill_color\":{\"value\":\"#1f77b4\"},\"line_color\":{\"value\":\"#1f77b4\"},\"x\":{\"field\":\"x\"},\"y\":{\"field\":\"y\"}},\"id\":\"44720\",\"type\":\"Scatter\"},{\"attributes\":{\"num_minor_ticks\":5,\"tickers\":[{\"id\":\"45966\"},{\"id\":\"45967\"},{\"id\":\"45968\"},{\"id\":\"45969\"},{\"id\":\"45970\"},{\"id\":\"45971\"},{\"id\":\"45972\"},{\"id\":\"45973\"},{\"id\":\"45974\"},{\"id\":\"45975\"},{\"id\":\"45976\"},{\"id\":\"45977\"}]},\"id\":\"44698\",\"type\":\"DatetimeTicker\"},{\"attributes\":{},\"id\":\"44691\",\"type\":\"DataRange1d\"},{\"attributes\":{\"overlay\":{\"id\":\"44711\"}},\"id\":\"44707\",\"type\":\"BoxZoomTool\"},{\"attributes\":{\"months\":[0,2,4,6,8,10]},\"id\":\"45974\",\"type\":\"MonthsTicker\"},{\"attributes\":{},\"id\":\"44702\",\"type\":\"BasicTicker\"},{\"attributes\":{\"data\":{\"x\":{\"__ndarray__\":\"AACAe0hcdEIAAMBDiV50QgAAAAzKYHRCAABA1ApjdEIAAICcS2V0QgAAwGSMZ3RCAAAALc1pdEIAAED1DWx0QgAAgL1ObnRCAADAhY9wdEIAAABO0HJ0QgAAQBYRdXRCAACA3lF3dEIAAMCmknl0QgAAAG/Te3RCAABANxR+dEIAAID/VIB0QgAAwMeVgnRC\",\"dtype\":\"float64\",\"order\":\"little\",\"shape\":[18]},\"y\":[187,431,478,495,447,483,527,558,517,554,619,604,578,629,431,429,487,485]},\"selected\":{\"id\":\"45978\"},\"selection_policy\":{\"id\":\"45979\"}},\"id\":\"44719\",\"type\":\"ColumnDataSource\"},{\"attributes\":{},\"id\":\"44689\",\"type\":\"DataRange1d\"},{\"attributes\":{\"active_drag\":\"auto\",\"active_inspect\":\"auto\",\"active_multi\":null,\"active_scroll\":\"auto\",\"active_tap\":\"auto\",\"tools\":[{\"id\":\"44705\"},{\"id\":\"44706\"},{\"id\":\"44707\"},{\"id\":\"44708\"},{\"id\":\"44709\"},{\"id\":\"44710\"}]},\"id\":\"44712\",\"type\":\"Toolbar\"},{\"attributes\":{},\"id\":\"44706\",\"type\":\"WheelZoomTool\"},{\"attributes\":{},\"id\":\"44693\",\"type\":\"LinearScale\"},{\"attributes\":{\"axis_label\":\"Counts\",\"formatter\":{\"id\":\"45964\"},\"ticker\":{\"id\":\"44702\"}},\"id\":\"44701\",\"type\":\"LinearAxis\"},{\"attributes\":{\"data\":{\"x\":{\"__ndarray__\":\"AACAe0hcdEIAAMBDiV50QgAAAAzKYHRCAABA1ApjdEIAAICcS2V0QgAAwGSMZ3RCAAAALc1pdEIAAED1DWx0QgAAgL1ObnRCAADAhY9wdEIAAABO0HJ0QgAAQBYRdXRCAACA3lF3dEIAAMCmknl0QgAAAG/Te3RCAABANxR+dEIAAID/VIB0QgAAwMeVgnRC\",\"dtype\":\"float64\",\"order\":\"little\",\"shape\":[18]},\"y\":[187,431,478,495,447,483,527,558,517,554,619,604,578,629,431,429,487,485]},\"selected\":{\"id\":\"45980\"},\"selection_policy\":{\"id\":\"45981\"}},\"id\":\"44724\",\"type\":\"ColumnDataSource\"},{\"attributes\":{},\"id\":\"44705\",\"type\":\"PanTool\"},{\"attributes\":{},\"id\":\"44710\",\"type\":\"HelpTool\"},{\"attributes\":{\"fill_alpha\":{\"value\":0.1},\"fill_color\":{\"value\":\"#1f77b4\"},\"line_alpha\":{\"value\":0.1},\"line_color\":{\"value\":\"#1f77b4\"},\"x\":{\"field\":\"x\"},\"y\":{\"field\":\"y\"}},\"id\":\"44721\",\"type\":\"Scatter\"},{\"attributes\":{},\"id\":\"45964\",\"type\":\"BasicTickFormatter\"},{\"attributes\":{},\"id\":\"44709\",\"type\":\"ResetTool\"},{\"attributes\":{\"line_color\":\"#1f77b4\",\"x\":{\"field\":\"x\"},\"y\":{\"field\":\"y\"}},\"id\":\"44725\",\"type\":\"Line\"},{\"attributes\":{\"axis\":{\"id\":\"44697\"},\"ticker\":null},\"id\":\"44700\",\"type\":\"Grid\"},{\"attributes\":{\"source\":{\"id\":\"44719\"}},\"id\":\"44723\",\"type\":\"CDSView\"},{\"attributes\":{\"months\":[0,4,8]},\"id\":\"45975\",\"type\":\"MonthsTicker\"},{\"attributes\":{\"data_source\":{\"id\":\"44719\"},\"glyph\":{\"id\":\"44720\"},\"hover_glyph\":null,\"muted_glyph\":null,\"nonselection_glyph\":{\"id\":\"44721\"},\"selection_glyph\":null,\"view\":{\"id\":\"44723\"}},\"id\":\"44722\",\"type\":\"GlyphRenderer\"},{\"attributes\":{\"months\":[0,6]},\"id\":\"45976\",\"type\":\"MonthsTicker\"},{\"attributes\":{\"source\":{\"id\":\"44724\"}},\"id\":\"44728\",\"type\":\"CDSView\"},{\"attributes\":{},\"id\":\"45978\",\"type\":\"Selection\"},{\"attributes\":{\"mantissas\":[1,2,5],\"max_interval\":500.0,\"num_minor_ticks\":0},\"id\":\"45966\",\"type\":\"AdaptiveTicker\"},{\"attributes\":{\"base\":60,\"mantissas\":[1,2,5,10,15,20,30],\"max_interval\":1800000.0,\"min_interval\":1000.0,\"num_minor_ticks\":0},\"id\":\"45967\",\"type\":\"AdaptiveTicker\"},{\"attributes\":{\"line_alpha\":0.1,\"line_color\":\"#1f77b4\",\"x\":{\"field\":\"x\"},\"y\":{\"field\":\"y\"}},\"id\":\"44726\",\"type\":\"Line\"},{\"attributes\":{\"days\":[1,2,3,4,5,6,7,8,9,10,11,12,13,14,15,16,17,18,19,20,21,22,23,24,25,26,27,28,29,30,31]},\"id\":\"45969\",\"type\":\"DaysTicker\"},{\"attributes\":{\"data_source\":{\"id\":\"44724\"},\"glyph\":{\"id\":\"44725\"},\"hover_glyph\":null,\"muted_glyph\":null,\"nonselection_glyph\":{\"id\":\"44726\"},\"selection_glyph\":null,\"view\":{\"id\":\"44728\"}},\"id\":\"44727\",\"type\":\"GlyphRenderer\"},{\"attributes\":{\"base\":24,\"mantissas\":[1,2,4,6,8,12],\"max_interval\":43200000.0,\"min_interval\":3600000.0,\"num_minor_ticks\":0},\"id\":\"45968\",\"type\":\"AdaptiveTicker\"},{\"attributes\":{\"days\":[1,15]},\"id\":\"45972\",\"type\":\"DaysTicker\"},{\"attributes\":{\"days\":[1,8,15,22]},\"id\":\"45971\",\"type\":\"DaysTicker\"},{\"attributes\":{\"months\":[0,1,2,3,4,5,6,7,8,9,10,11]},\"id\":\"45973\",\"type\":\"MonthsTicker\"},{\"attributes\":{},\"id\":\"45977\",\"type\":\"YearsTicker\"},{\"attributes\":{\"days\":[1,4,7,10,13,16,19,22,25,28]},\"id\":\"45970\",\"type\":\"DaysTicker\"}],\"root_ids\":[\"44686\"]},\"title\":\"Bokeh Application\",\"version\":\"2.2.1\"}};\n",
       "  var render_items = [{\"docid\":\"a65c802a-ff69-416b-bee2-3279e6c82bba\",\"root_ids\":[\"44686\"],\"roots\":{\"44686\":\"2c62677c-a4c8-4252-896c-f83cc683f31c\"}}];\n",
       "  root.Bokeh.embed.embed_items_notebook(docs_json, render_items);\n",
       "\n",
       "  }\n",
       "  if (root.Bokeh !== undefined) {\n",
       "    embed_document(root);\n",
       "  } else {\n",
       "    var attempts = 0;\n",
       "    var timer = setInterval(function(root) {\n",
       "      if (root.Bokeh !== undefined) {\n",
       "        clearInterval(timer);\n",
       "        embed_document(root);\n",
       "      } else {\n",
       "        attempts++;\n",
       "        if (attempts > 100) {\n",
       "          clearInterval(timer);\n",
       "          console.log(\"Bokeh: ERROR: Unable to run BokehJS code because BokehJS library is missing\");\n",
       "        }\n",
       "      }\n",
       "    }, 10, root)\n",
       "  }\n",
       "})(window);"
      ],
      "application/vnd.bokehjs_exec.v0+json": ""
     },
     "metadata": {
      "application/vnd.bokehjs_exec.v0+json": {
       "id": "44686"
      }
     },
     "output_type": "display_data"
    },
    {
     "name": "stdout",
     "output_type": "stream",
     "text": [
      "sent_reengagement_email\n"
     ]
    },
    {
     "data": {
      "text/html": [
       "\n",
       "\n",
       "\n",
       "\n",
       "\n",
       "\n",
       "  <div class=\"bk-root\" id=\"13311481-de9f-48fa-bd14-fa2a73fd3a09\" data-root-id=\"46093\"></div>\n"
      ]
     },
     "metadata": {},
     "output_type": "display_data"
    },
    {
     "data": {
      "application/javascript": [
       "(function(root) {\n",
       "  function embed_document(root) {\n",
       "    \n",
       "  var docs_json = {\"c01f2b87-6056-4f70-9060-4220e0c84595\":{\"roots\":{\"references\":[{\"attributes\":{\"below\":[{\"id\":\"46104\"}],\"center\":[{\"id\":\"46107\"},{\"id\":\"46111\"}],\"left\":[{\"id\":\"46108\"}],\"plot_height\":300,\"plot_width\":500,\"renderers\":[{\"id\":\"46129\"},{\"id\":\"46134\"}],\"title\":{\"id\":\"46094\"},\"toolbar\":{\"id\":\"46119\"},\"x_range\":{\"id\":\"46096\"},\"x_scale\":{\"id\":\"46100\"},\"y_range\":{\"id\":\"46098\"},\"y_scale\":{\"id\":\"46102\"}},\"id\":\"46093\",\"subtype\":\"Figure\",\"type\":\"Plot\"},{\"attributes\":{\"data_source\":{\"id\":\"46131\"},\"glyph\":{\"id\":\"46132\"},\"hover_glyph\":null,\"muted_glyph\":null,\"nonselection_glyph\":{\"id\":\"46133\"},\"selection_glyph\":null,\"view\":{\"id\":\"46135\"}},\"id\":\"46134\",\"type\":\"GlyphRenderer\"},{\"attributes\":{},\"id\":\"47391\",\"type\":\"DatetimeTickFormatter\"},{\"attributes\":{\"source\":{\"id\":\"46131\"}},\"id\":\"46135\",\"type\":\"CDSView\"},{\"attributes\":{\"data_source\":{\"id\":\"46126\"},\"glyph\":{\"id\":\"46127\"},\"hover_glyph\":null,\"muted_glyph\":null,\"nonselection_glyph\":{\"id\":\"46128\"},\"selection_glyph\":null,\"view\":{\"id\":\"46130\"}},\"id\":\"46129\",\"type\":\"GlyphRenderer\"},{\"attributes\":{},\"id\":\"47407\",\"type\":\"Selection\"},{\"attributes\":{},\"id\":\"47408\",\"type\":\"UnionRenderers\"},{\"attributes\":{\"overlay\":{\"id\":\"46118\"}},\"id\":\"46114\",\"type\":\"BoxZoomTool\"},{\"attributes\":{},\"id\":\"46113\",\"type\":\"WheelZoomTool\"},{\"attributes\":{\"bottom_units\":\"screen\",\"fill_alpha\":0.5,\"fill_color\":\"lightgrey\",\"left_units\":\"screen\",\"level\":\"overlay\",\"line_alpha\":1.0,\"line_color\":\"black\",\"line_dash\":[4,4],\"line_width\":2,\"right_units\":\"screen\",\"top_units\":\"screen\"},\"id\":\"46118\",\"type\":\"BoxAnnotation\"},{\"attributes\":{\"axis_label\":\"Counts\",\"formatter\":{\"id\":\"47393\"},\"ticker\":{\"id\":\"46109\"}},\"id\":\"46108\",\"type\":\"LinearAxis\"},{\"attributes\":{},\"id\":\"46115\",\"type\":\"SaveTool\"},{\"attributes\":{},\"id\":\"46112\",\"type\":\"PanTool\"},{\"attributes\":{\"line_alpha\":0.1,\"line_color\":\"#1f77b4\",\"x\":{\"field\":\"x\"},\"y\":{\"field\":\"y\"}},\"id\":\"46133\",\"type\":\"Line\"},{\"attributes\":{},\"id\":\"47409\",\"type\":\"Selection\"},{\"attributes\":{},\"id\":\"46102\",\"type\":\"LinearScale\"},{\"attributes\":{},\"id\":\"47393\",\"type\":\"BasicTickFormatter\"},{\"attributes\":{},\"id\":\"46109\",\"type\":\"BasicTicker\"},{\"attributes\":{},\"id\":\"47410\",\"type\":\"UnionRenderers\"},{\"attributes\":{\"data\":{\"x\":{\"__ndarray__\":\"AACAe0hcdEIAAMBDiV50QgAAAAzKYHRCAABA1ApjdEIAAICcS2V0QgAAwGSMZ3RCAAAALc1pdEIAAED1DWx0QgAAgL1ObnRCAADAhY9wdEIAAABO0HJ0QgAAQBYRdXRCAACA3lF3dEIAAMCmknl0QgAAAG/Te3RCAABANxR+dEIAAID/VIB0QgAAwMeVgnRC\",\"dtype\":\"float64\",\"order\":\"little\",\"shape\":[18]},\"y\":[98,164,175,179,179,199,190,234,187,222,214,226,206,230,206,224,257,263]},\"selected\":{\"id\":\"47407\"},\"selection_policy\":{\"id\":\"47408\"}},\"id\":\"46126\",\"type\":\"ColumnDataSource\"},{\"attributes\":{\"axis_label\":\"Time (weekly)\",\"formatter\":{\"id\":\"47391\"},\"ticker\":{\"id\":\"46105\"}},\"id\":\"46104\",\"type\":\"DatetimeAxis\"},{\"attributes\":{\"axis\":{\"id\":\"46108\"},\"dimension\":1,\"ticker\":null},\"id\":\"46111\",\"type\":\"Grid\"},{\"attributes\":{},\"id\":\"46098\",\"type\":\"DataRange1d\"},{\"attributes\":{},\"id\":\"46096\",\"type\":\"DataRange1d\"},{\"attributes\":{\"mantissas\":[1,2,5],\"max_interval\":500.0,\"num_minor_ticks\":0},\"id\":\"47395\",\"type\":\"AdaptiveTicker\"},{\"attributes\":{\"fill_color\":{\"value\":\"#1f77b4\"},\"line_color\":{\"value\":\"#1f77b4\"},\"x\":{\"field\":\"x\"},\"y\":{\"field\":\"y\"}},\"id\":\"46127\",\"type\":\"Scatter\"},{\"attributes\":{\"base\":60,\"mantissas\":[1,2,5,10,15,20,30],\"max_interval\":1800000.0,\"min_interval\":1000.0,\"num_minor_ticks\":0},\"id\":\"47396\",\"type\":\"AdaptiveTicker\"},{\"attributes\":{\"days\":[1,2,3,4,5,6,7,8,9,10,11,12,13,14,15,16,17,18,19,20,21,22,23,24,25,26,27,28,29,30,31]},\"id\":\"47398\",\"type\":\"DaysTicker\"},{\"attributes\":{\"base\":24,\"mantissas\":[1,2,4,6,8,12],\"max_interval\":43200000.0,\"min_interval\":3600000.0,\"num_minor_ticks\":0},\"id\":\"47397\",\"type\":\"AdaptiveTicker\"},{\"attributes\":{\"active_drag\":\"auto\",\"active_inspect\":\"auto\",\"active_multi\":null,\"active_scroll\":\"auto\",\"active_tap\":\"auto\",\"tools\":[{\"id\":\"46112\"},{\"id\":\"46113\"},{\"id\":\"46114\"},{\"id\":\"46115\"},{\"id\":\"46116\"},{\"id\":\"46117\"}]},\"id\":\"46119\",\"type\":\"Toolbar\"},{\"attributes\":{\"num_minor_ticks\":5,\"tickers\":[{\"id\":\"47395\"},{\"id\":\"47396\"},{\"id\":\"47397\"},{\"id\":\"47398\"},{\"id\":\"47399\"},{\"id\":\"47400\"},{\"id\":\"47401\"},{\"id\":\"47402\"},{\"id\":\"47403\"},{\"id\":\"47404\"},{\"id\":\"47405\"},{\"id\":\"47406\"}]},\"id\":\"46105\",\"type\":\"DatetimeTicker\"},{\"attributes\":{\"months\":[0,1,2,3,4,5,6,7,8,9,10,11]},\"id\":\"47402\",\"type\":\"MonthsTicker\"},{\"attributes\":{\"months\":[0,2,4,6,8,10]},\"id\":\"47403\",\"type\":\"MonthsTicker\"},{\"attributes\":{\"days\":[1,4,7,10,13,16,19,22,25,28]},\"id\":\"47399\",\"type\":\"DaysTicker\"},{\"attributes\":{},\"id\":\"46100\",\"type\":\"LinearScale\"},{\"attributes\":{\"data\":{\"x\":{\"__ndarray__\":\"AACAe0hcdEIAAMBDiV50QgAAAAzKYHRCAABA1ApjdEIAAICcS2V0QgAAwGSMZ3RCAAAALc1pdEIAAED1DWx0QgAAgL1ObnRCAADAhY9wdEIAAABO0HJ0QgAAQBYRdXRCAACA3lF3dEIAAMCmknl0QgAAAG/Te3RCAABANxR+dEIAAID/VIB0QgAAwMeVgnRC\",\"dtype\":\"float64\",\"order\":\"little\",\"shape\":[18]},\"y\":[98,164,175,179,179,199,190,234,187,222,214,226,206,230,206,224,257,263]},\"selected\":{\"id\":\"47409\"},\"selection_policy\":{\"id\":\"47410\"}},\"id\":\"46131\",\"type\":\"ColumnDataSource\"},{\"attributes\":{\"days\":[1,15]},\"id\":\"47401\",\"type\":\"DaysTicker\"},{\"attributes\":{},\"id\":\"46117\",\"type\":\"HelpTool\"},{\"attributes\":{\"fill_alpha\":{\"value\":0.1},\"fill_color\":{\"value\":\"#1f77b4\"},\"line_alpha\":{\"value\":0.1},\"line_color\":{\"value\":\"#1f77b4\"},\"x\":{\"field\":\"x\"},\"y\":{\"field\":\"y\"}},\"id\":\"46128\",\"type\":\"Scatter\"},{\"attributes\":{\"months\":[0,6]},\"id\":\"47405\",\"type\":\"MonthsTicker\"},{\"attributes\":{\"text\":\"Count of weekly active users\"},\"id\":\"46094\",\"type\":\"Title\"},{\"attributes\":{},\"id\":\"46116\",\"type\":\"ResetTool\"},{\"attributes\":{\"days\":[1,8,15,22]},\"id\":\"47400\",\"type\":\"DaysTicker\"},{\"attributes\":{\"axis\":{\"id\":\"46104\"},\"ticker\":null},\"id\":\"46107\",\"type\":\"Grid\"},{\"attributes\":{\"line_color\":\"#1f77b4\",\"x\":{\"field\":\"x\"},\"y\":{\"field\":\"y\"}},\"id\":\"46132\",\"type\":\"Line\"},{\"attributes\":{},\"id\":\"47406\",\"type\":\"YearsTicker\"},{\"attributes\":{\"source\":{\"id\":\"46126\"}},\"id\":\"46130\",\"type\":\"CDSView\"},{\"attributes\":{\"months\":[0,4,8]},\"id\":\"47404\",\"type\":\"MonthsTicker\"}],\"root_ids\":[\"46093\"]},\"title\":\"Bokeh Application\",\"version\":\"2.2.1\"}};\n",
       "  var render_items = [{\"docid\":\"c01f2b87-6056-4f70-9060-4220e0c84595\",\"root_ids\":[\"46093\"],\"roots\":{\"46093\":\"13311481-de9f-48fa-bd14-fa2a73fd3a09\"}}];\n",
       "  root.Bokeh.embed.embed_items_notebook(docs_json, render_items);\n",
       "\n",
       "  }\n",
       "  if (root.Bokeh !== undefined) {\n",
       "    embed_document(root);\n",
       "  } else {\n",
       "    var attempts = 0;\n",
       "    var timer = setInterval(function(root) {\n",
       "      if (root.Bokeh !== undefined) {\n",
       "        clearInterval(timer);\n",
       "        embed_document(root);\n",
       "      } else {\n",
       "        attempts++;\n",
       "        if (attempts > 100) {\n",
       "          clearInterval(timer);\n",
       "          console.log(\"Bokeh: ERROR: Unable to run BokehJS code because BokehJS library is missing\");\n",
       "        }\n",
       "      }\n",
       "    }, 10, root)\n",
       "  }\n",
       "})(window);"
      ],
      "application/vnd.bokehjs_exec.v0+json": ""
     },
     "metadata": {
      "application/vnd.bokehjs_exec.v0+json": {
       "id": "46093"
      }
     },
     "output_type": "display_data"
    }
   ],
   "source": [
    "# device_type\n",
    "group_num = len(pd.unique(df_email.action))\n",
    "group = pd.unique(df_email.action)\n",
    "\n",
    "output_notebook()\n",
    "\n",
    "for cls in group:\n",
    "    daily_cls = df_email.loc[df_email.action==cls]\n",
    "    weekly_cls = daily_cls.set_index('occurred_at').groupby(pd.Grouper(freq='W')).user_id.nunique()\n",
    "    x = weekly_cls.index\n",
    "    y = weekly_cls.values\n",
    "    fig = figure(plot_width=500, plot_height=300, x_axis_type='datetime',\n",
    "             title='Count of weekly active users',\n",
    "             y_axis_label='Counts', x_axis_label='Time (weekly)')\n",
    "    fig.scatter(x, y)\n",
    "    fig.line(x, y)\n",
    "    print(cls)\n",
    "    show(fig)"
   ]
  },
  {
   "cell_type": "markdown",
   "metadata": {},
   "source": [
    "# It appears that the email clickthrough is strongly associated with the incident."
   ]
  }
 ],
 "metadata": {
  "kernelspec": {
   "display_name": "Python 3",
   "language": "python",
   "name": "python3"
  },
  "language_info": {
   "codemirror_mode": {
    "name": "ipython",
    "version": 3
   },
   "file_extension": ".py",
   "mimetype": "text/x-python",
   "name": "python",
   "nbconvert_exporter": "python",
   "pygments_lexer": "ipython3",
   "version": "3.8.6"
  }
 },
 "nbformat": 4,
 "nbformat_minor": 4
}
